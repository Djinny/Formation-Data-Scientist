{
 "cells": [
  {
   "cell_type": "markdown",
   "metadata": {},
   "source": [
    "# Notebook: Modélisation"
   ]
  },
  {
   "cell_type": "markdown",
   "metadata": {},
   "source": [
    "---\n",
    "## Mise en place"
   ]
  },
  {
   "cell_type": "markdown",
   "metadata": {},
   "source": [
    "Librairies et paramétrages utilisés au long de ce notebook"
   ]
  },
  {
   "cell_type": "code",
   "execution_count": 1,
   "metadata": {},
   "outputs": [],
   "source": [
    "import pickle\n",
    "import numpy as np\n",
    "import pandas as pd\n",
    "from transform_data import transform_data\n",
    "\n",
    "# Visualization tools\n",
    "import seaborn as sns\n",
    "from matplotlib import cm\n",
    "import matplotlib.pyplot as plt\n",
    "from matplotlib.ticker import NullFormatter\n",
    "from matplotlib.colors import hex2color\n",
    "from IPython.display import display\n",
    "from Classification_results import Classification_Results\n",
    "\n",
    "# Scikit-Learn\n",
    "from sklearn.preprocessing import MinMaxScaler\n",
    "from sklearn.pipeline import Pipeline\n",
    "from sklearn.manifold import TSNE\n",
    "from sklearn.cluster import KMeans\n",
    "from sklearn.model_selection import train_test_split, GridSearchCV\n",
    "from sklearn.linear_model import LogisticRegression\n",
    "from sklearn.svm import SVC\n",
    "from sklearn.neural_network import MLPClassifier\n",
    "from sklearn.ensemble import RandomForestClassifier\n",
    "from sklearn.metrics import silhouette_samples"
   ]
  },
  {
   "cell_type": "code",
   "execution_count": 2,
   "metadata": {},
   "outputs": [],
   "source": [
    "%matplotlib inline\n",
    "sns.set_context(\"notebook\")\n",
    "\n",
    "# Colors to be used throughout the notebook for each cluster\n",
    "hex_colors = [\"#9b59b6\", \"#3498db\", \"#95a5a6\", \"#e74c3c\", \"#2ecc71\"]\n",
    "rbg_colors = [(*hex2color(color), 1.0) for color in hex_colors]"
   ]
  },
  {
   "cell_type": "markdown",
   "metadata": {},
   "source": [
    "Chargeons les tables de données utiles"
   ]
  },
  {
   "cell_type": "code",
   "execution_count": 3,
   "metadata": {},
   "outputs": [
    {
     "data": {
      "text/html": [
       "<div>\n",
       "<style>\n",
       "    .dataframe thead tr:only-child th {\n",
       "        text-align: right;\n",
       "    }\n",
       "\n",
       "    .dataframe thead th {\n",
       "        text-align: left;\n",
       "    }\n",
       "\n",
       "    .dataframe tbody tr th {\n",
       "        vertical-align: top;\n",
       "    }\n",
       "</style>\n",
       "<table border=\"1\" class=\"dataframe\">\n",
       "  <thead>\n",
       "    <tr style=\"text-align: right;\">\n",
       "      <th></th>\n",
       "      <th>is_UK</th>\n",
       "      <th>Products_unique</th>\n",
       "      <th>Prods_per_invoice</th>\n",
       "      <th>Unit_avg</th>\n",
       "      <th>Spending_total</th>\n",
       "      <th>Spending_avg</th>\n",
       "      <th>N_cancelled</th>\n",
       "      <th>N_transactions</th>\n",
       "      <th>N_months</th>\n",
       "      <th>Timebtw_inv</th>\n",
       "      <th>First_unique</th>\n",
       "      <th>First_spending</th>\n",
       "      <th>First_units</th>\n",
       "    </tr>\n",
       "    <tr>\n",
       "      <th>CustomerID</th>\n",
       "      <th></th>\n",
       "      <th></th>\n",
       "      <th></th>\n",
       "      <th></th>\n",
       "      <th></th>\n",
       "      <th></th>\n",
       "      <th></th>\n",
       "      <th></th>\n",
       "      <th></th>\n",
       "      <th></th>\n",
       "      <th></th>\n",
       "      <th></th>\n",
       "      <th></th>\n",
       "    </tr>\n",
       "  </thead>\n",
       "  <tbody>\n",
       "    <tr>\n",
       "      <th>12346</th>\n",
       "      <td>1</td>\n",
       "      <td>1</td>\n",
       "      <td>0.00</td>\n",
       "      <td>1.04</td>\n",
       "      <td>0.00</td>\n",
       "      <td>0.00</td>\n",
       "      <td>1</td>\n",
       "      <td>2</td>\n",
       "      <td>1</td>\n",
       "      <td>90.000000</td>\n",
       "      <td>1</td>\n",
       "      <td>77183.60</td>\n",
       "      <td>1.04</td>\n",
       "    </tr>\n",
       "    <tr>\n",
       "      <th>12347</th>\n",
       "      <td>0</td>\n",
       "      <td>100</td>\n",
       "      <td>28.50</td>\n",
       "      <td>2.44</td>\n",
       "      <td>4085.18</td>\n",
       "      <td>680.86</td>\n",
       "      <td>0</td>\n",
       "      <td>6</td>\n",
       "      <td>6</td>\n",
       "      <td>0.015249</td>\n",
       "      <td>31</td>\n",
       "      <td>711.79</td>\n",
       "      <td>2.89</td>\n",
       "    </tr>\n",
       "    <tr>\n",
       "      <th>12348</th>\n",
       "      <td>0</td>\n",
       "      <td>22</td>\n",
       "      <td>6.75</td>\n",
       "      <td>2.16</td>\n",
       "      <td>1797.24</td>\n",
       "      <td>449.31</td>\n",
       "      <td>0</td>\n",
       "      <td>4</td>\n",
       "      <td>4</td>\n",
       "      <td>0.010610</td>\n",
       "      <td>13</td>\n",
       "      <td>892.80</td>\n",
       "      <td>2.92</td>\n",
       "    </tr>\n",
       "    <tr>\n",
       "      <th>12349</th>\n",
       "      <td>0</td>\n",
       "      <td>73</td>\n",
       "      <td>73.00</td>\n",
       "      <td>8.29</td>\n",
       "      <td>1757.55</td>\n",
       "      <td>1757.55</td>\n",
       "      <td>0</td>\n",
       "      <td>1</td>\n",
       "      <td>1</td>\n",
       "      <td>0.000000</td>\n",
       "      <td>73</td>\n",
       "      <td>1757.55</td>\n",
       "      <td>8.29</td>\n",
       "    </tr>\n",
       "    <tr>\n",
       "      <th>12350</th>\n",
       "      <td>0</td>\n",
       "      <td>17</td>\n",
       "      <td>17.00</td>\n",
       "      <td>3.84</td>\n",
       "      <td>334.40</td>\n",
       "      <td>334.40</td>\n",
       "      <td>0</td>\n",
       "      <td>1</td>\n",
       "      <td>1</td>\n",
       "      <td>0.000000</td>\n",
       "      <td>17</td>\n",
       "      <td>334.40</td>\n",
       "      <td>3.84</td>\n",
       "    </tr>\n",
       "  </tbody>\n",
       "</table>\n",
       "</div>"
      ],
      "text/plain": [
       "            is_UK  Products_unique  Prods_per_invoice  Unit_avg  \\\n",
       "CustomerID                                                        \n",
       "12346           1                1               0.00      1.04   \n",
       "12347           0              100              28.50      2.44   \n",
       "12348           0               22               6.75      2.16   \n",
       "12349           0               73              73.00      8.29   \n",
       "12350           0               17              17.00      3.84   \n",
       "\n",
       "            Spending_total  Spending_avg  N_cancelled  N_transactions  \\\n",
       "CustomerID                                                              \n",
       "12346                 0.00          0.00            1               2   \n",
       "12347              4085.18        680.86            0               6   \n",
       "12348              1797.24        449.31            0               4   \n",
       "12349              1757.55       1757.55            0               1   \n",
       "12350               334.40        334.40            0               1   \n",
       "\n",
       "            N_months  Timebtw_inv  First_unique  First_spending  First_units  \n",
       "CustomerID                                                                    \n",
       "12346              1    90.000000             1        77183.60         1.04  \n",
       "12347              6     0.015249            31          711.79         2.89  \n",
       "12348              4     0.010610            13          892.80         2.92  \n",
       "12349              1     0.000000            73         1757.55         8.29  \n",
       "12350              1     0.000000            17          334.40         3.84  "
      ]
     },
     "execution_count": 3,
     "metadata": {},
     "output_type": "execute_result"
    }
   ],
   "source": [
    "purchases = pd.read_feather('data/purchases')\n",
    "data = pd.read_feather('data/features').set_index('CustomerID')\n",
    "\n",
    "data.head()"
   ]
  },
  {
   "cell_type": "markdown",
   "metadata": {},
   "source": [
    "---\n",
    "## Segmentation des clients par _clustering_"
   ]
  },
  {
   "cell_type": "markdown",
   "metadata": {},
   "source": [
    "Dans un premier temps nous allons segmenter notre base client en clusters les plus cohérents possibles pour ensuite essayer de discener des habitudes d'achats propres à chacun de ces groupes"
   ]
  },
  {
   "cell_type": "markdown",
   "metadata": {},
   "source": [
    "### Groupement des individus"
   ]
  },
  {
   "cell_type": "markdown",
   "metadata": {},
   "source": [
    "Avant de passer à l'algorithme de clustering en lui même, nous passons par une phase de prétraitement de données: afin que tous les descripteurs aient la même importance dans l'étape de clustering, nous faisons en sorte qu'ils aient la même étendue, dans un intervalle de `[0, 1]`. En effet, les notions de ces distances sont essentielles à ce type d'algorithmes."
   ]
  },
  {
   "cell_type": "code",
   "execution_count": 4,
   "metadata": {},
   "outputs": [],
   "source": [
    "scaler = MinMaxScaler()\n",
    "processed = scaler.fit_transform(data)"
   ]
  },
  {
   "cell_type": "markdown",
   "metadata": {},
   "source": [
    "Utilisons l'algorithme t-SNE afin d'avoir une première idée du nombre de groupes homogènes que nous pourrions dégager sur tous les individus que nous possédons."
   ]
  },
  {
   "cell_type": "code",
   "execution_count": 5,
   "metadata": {},
   "outputs": [
    {
     "data": {
      "image/png": "[encoded data removed]",
      "text/plain": [
       "<matplotlib.figure.Figure at 0x1a17504390>"
      ]
     },
     "metadata": {},
     "output_type": "display_data"
    }
   ],
   "source": [
    "tsne = TSNE(n_components=2)\n",
    "Y = tsne.fit_transform(processed)\n",
    "\n",
    "fig, ax = plt.subplots(1,1, figsize=(7, 5))\n",
    "ax.scatter(Y[:, 0], Y[:, 1])\n",
    "ax.set_title(\"Exploration superficielle avec t-SNE\")\n",
    "ax.xaxis.set_major_formatter(NullFormatter())\n",
    "ax.yaxis.set_major_formatter(NullFormatter());"
   ]
  },
  {
   "cell_type": "markdown",
   "metadata": {},
   "source": [
    "Pour dégager des groupes cohérents d'individus de notre base, nous utilisons l'algorithme `K-Means`. Après plusieurs essais, en correspondance avec certains critères lors de la construction de groupes, nous avons choisis d'en établir 5. Parmi ces préoccupations nous devions:\n",
    "- nous assurer que tous les groupes possédaient assez d'individus\n",
    "- que nous ayons un nombre de groupes correspondant à un des meilleurs scores de silhouette. "
   ]
  },
  {
   "cell_type": "code",
   "execution_count": 6,
   "metadata": {},
   "outputs": [
    {
     "data": {
      "image/png": "[encoded data removed]",
      "text/plain": [
       "<matplotlib.figure.Figure at 0x1a1751b438>"
      ]
     },
     "metadata": {},
     "output_type": "display_data"
    }
   ],
   "source": [
    "# Compute clustering on standardized data\n",
    "n_clusters = 5\n",
    "clustering = KMeans(n_clusters=n_clusters, n_init=100, max_iter=1e5, \n",
    "                    n_jobs=-1, random_state=0)\n",
    "clustering.fit(processed)\n",
    "\n",
    "\n",
    "labels = clustering.labels_ + 1\n",
    "cluster_labels, counts = np.unique(labels, return_counts=True)\n",
    "\n",
    "\n",
    "# Display bars\n",
    "sns.countplot(labels, palette=rbg_colors)\n",
    "plt.title(\"Nombre d'individus par cluster\")\n",
    "sns.despine()"
   ]
  },
  {
   "cell_type": "markdown",
   "metadata": {},
   "source": [
    "### Description des groupements"
   ]
  },
  {
   "cell_type": "code",
   "execution_count": 7,
   "metadata": {},
   "outputs": [
    {
     "data": {
      "image/png": "[encoded data removed]",
      "text/plain": [
       "<matplotlib.figure.Figure at 0x10f5fbd68>"
      ]
     },
     "metadata": {},
     "output_type": "display_data"
    }
   ],
   "source": [
    "# Prepare\n",
    "silhouette_vals = silhouette_samples(processed, labels, metric='euclidean')\n",
    "y_ax_lower, y_ax_upper = 0, 0\n",
    "yticks = []\n",
    "\n",
    "# Compute\n",
    "plt.subplots(1,1, figsize=(10, 8))\n",
    "for i, c in enumerate(cluster_labels):\n",
    "    c_silhouette_vals = silhouette_vals[labels == c]\n",
    "    c_silhouette_vals.sort()\n",
    "    y_ax_upper += len(c_silhouette_vals)\n",
    "    color = rbg_colors[i]\n",
    "    #color = cm.jet(float(i) / n_clusters)\n",
    "    plt.barh(range(y_ax_lower, y_ax_upper),\n",
    "             c_silhouette_vals, \n",
    "             height=1.0,\n",
    "             edgecolor='none',\n",
    "             color=color)\n",
    "    yticks.append((y_ax_lower + y_ax_upper) / 2.)\n",
    "    y_ax_lower += len(c_silhouette_vals)\n",
    "silhouette_score = np.mean(silhouette_vals)\n",
    "\n",
    "# Display \n",
    "plt.axvline(silhouette_score,\n",
    "            color=\"black\",\n",
    "            linestyle=\"--\") \n",
    "plt.yticks(yticks, cluster_labels)\n",
    "plt.ylabel('Cluster')\n",
    "plt.xlabel('Coefficient de silhouette')\n",
    "plt.title('Coefficient de silhouette de tous les clients. Score moyen: ' \\\n",
    "          + str(round(silhouette_score, 2)));"
   ]
  },
  {
   "cell_type": "markdown",
   "metadata": {},
   "source": [
    "Description statistique tabulaire des différents clusters, par la moyenne et l'écart-type de chaque attribut"
   ]
  },
  {
   "cell_type": "code",
   "execution_count": 8,
   "metadata": {},
   "outputs": [
    {
     "name": "stdout",
     "output_type": "stream",
     "text": [
      "\n",
      "\n",
      "Cluster 1: 441 individus\n"
     ]
    },
    {
     "data": {
      "text/html": [
       "<div>\n",
       "<style>\n",
       "    .dataframe thead tr:only-child th {\n",
       "        text-align: right;\n",
       "    }\n",
       "\n",
       "    .dataframe thead th {\n",
       "        text-align: left;\n",
       "    }\n",
       "\n",
       "    .dataframe tbody tr th {\n",
       "        vertical-align: top;\n",
       "    }\n",
       "</style>\n",
       "<table border=\"1\" class=\"dataframe\">\n",
       "  <thead>\n",
       "    <tr style=\"text-align: right;\">\n",
       "      <th></th>\n",
       "      <th>is_UK</th>\n",
       "      <th>Products_unique</th>\n",
       "      <th>Prods_per_invoice</th>\n",
       "      <th>Unit_avg</th>\n",
       "      <th>Spending_total</th>\n",
       "      <th>Spending_avg</th>\n",
       "      <th>N_cancelled</th>\n",
       "      <th>N_transactions</th>\n",
       "      <th>N_months</th>\n",
       "      <th>Timebtw_inv</th>\n",
       "      <th>First_unique</th>\n",
       "      <th>First_spending</th>\n",
       "      <th>First_units</th>\n",
       "    </tr>\n",
       "  </thead>\n",
       "  <tbody>\n",
       "    <tr>\n",
       "      <th>mean</th>\n",
       "      <td>1.0</td>\n",
       "      <td>104.1</td>\n",
       "      <td>52.9</td>\n",
       "      <td>2.7</td>\n",
       "      <td>1119.8</td>\n",
       "      <td>453.7</td>\n",
       "      <td>0.7</td>\n",
       "      <td>2.4</td>\n",
       "      <td>1.8</td>\n",
       "      <td>8.6</td>\n",
       "      <td>63.3</td>\n",
       "      <td>563.2</td>\n",
       "      <td>2.6</td>\n",
       "    </tr>\n",
       "    <tr>\n",
       "      <th>std</th>\n",
       "      <td>0.0</td>\n",
       "      <td>82.5</td>\n",
       "      <td>22.3</td>\n",
       "      <td>1.5</td>\n",
       "      <td>2488.8</td>\n",
       "      <td>301.0</td>\n",
       "      <td>2.1</td>\n",
       "      <td>2.2</td>\n",
       "      <td>1.0</td>\n",
       "      <td>75.6</td>\n",
       "      <td>27.8</td>\n",
       "      <td>442.2</td>\n",
       "      <td>0.9</td>\n",
       "    </tr>\n",
       "  </tbody>\n",
       "</table>\n",
       "</div>"
      ],
      "text/plain": [
       "      is_UK  Products_unique  Prods_per_invoice  Unit_avg  Spending_total  \\\n",
       "mean    1.0            104.1               52.9       2.7          1119.8   \n",
       "std     0.0             82.5               22.3       1.5          2488.8   \n",
       "\n",
       "      Spending_avg  N_cancelled  N_transactions  N_months  Timebtw_inv  \\\n",
       "mean         453.7          0.7             2.4       1.8          8.6   \n",
       "std          301.0          2.1             2.2       1.0         75.6   \n",
       "\n",
       "      First_unique  First_spending  First_units  \n",
       "mean          63.3           563.2          2.6  \n",
       "std           27.8           442.2          0.9  "
      ]
     },
     "metadata": {},
     "output_type": "display_data"
    },
    {
     "name": "stdout",
     "output_type": "stream",
     "text": [
      "\n",
      "\n",
      "Cluster 2: 415 individus\n"
     ]
    },
    {
     "data": {
      "text/html": [
       "<div>\n",
       "<style>\n",
       "    .dataframe thead tr:only-child th {\n",
       "        text-align: right;\n",
       "    }\n",
       "\n",
       "    .dataframe thead th {\n",
       "        text-align: left;\n",
       "    }\n",
       "\n",
       "    .dataframe tbody tr th {\n",
       "        vertical-align: top;\n",
       "    }\n",
       "</style>\n",
       "<table border=\"1\" class=\"dataframe\">\n",
       "  <thead>\n",
       "    <tr style=\"text-align: right;\">\n",
       "      <th></th>\n",
       "      <th>is_UK</th>\n",
       "      <th>Products_unique</th>\n",
       "      <th>Prods_per_invoice</th>\n",
       "      <th>Unit_avg</th>\n",
       "      <th>Spending_total</th>\n",
       "      <th>Spending_avg</th>\n",
       "      <th>N_cancelled</th>\n",
       "      <th>N_transactions</th>\n",
       "      <th>N_months</th>\n",
       "      <th>Timebtw_inv</th>\n",
       "      <th>First_unique</th>\n",
       "      <th>First_spending</th>\n",
       "      <th>First_units</th>\n",
       "    </tr>\n",
       "  </thead>\n",
       "  <tbody>\n",
       "    <tr>\n",
       "      <th>mean</th>\n",
       "      <td>0.0</td>\n",
       "      <td>67.9</td>\n",
       "      <td>20.7</td>\n",
       "      <td>7.0</td>\n",
       "      <td>3584.6</td>\n",
       "      <td>537.5</td>\n",
       "      <td>3.1</td>\n",
       "      <td>5.4</td>\n",
       "      <td>3.1</td>\n",
       "      <td>3.0</td>\n",
       "      <td>27.4</td>\n",
       "      <td>669.7</td>\n",
       "      <td>7.2</td>\n",
       "    </tr>\n",
       "    <tr>\n",
       "      <th>std</th>\n",
       "      <td>0.0</td>\n",
       "      <td>112.5</td>\n",
       "      <td>20.2</td>\n",
       "      <td>55.2</td>\n",
       "      <td>16758.3</td>\n",
       "      <td>687.7</td>\n",
       "      <td>13.8</td>\n",
       "      <td>13.5</td>\n",
       "      <td>2.6</td>\n",
       "      <td>38.0</td>\n",
       "      <td>27.6</td>\n",
       "      <td>950.1</td>\n",
       "      <td>55.6</td>\n",
       "    </tr>\n",
       "  </tbody>\n",
       "</table>\n",
       "</div>"
      ],
      "text/plain": [
       "      is_UK  Products_unique  Prods_per_invoice  Unit_avg  Spending_total  \\\n",
       "mean    0.0             67.9               20.7       7.0          3584.6   \n",
       "std     0.0            112.5               20.2      55.2         16758.3   \n",
       "\n",
       "      Spending_avg  N_cancelled  N_transactions  N_months  Timebtw_inv  \\\n",
       "mean         537.5          3.1             5.4       3.1          3.0   \n",
       "std          687.7         13.8            13.5       2.6         38.0   \n",
       "\n",
       "      First_unique  First_spending  First_units  \n",
       "mean          27.4           669.7          7.2  \n",
       "std           27.6           950.1         55.6  "
      ]
     },
     "metadata": {},
     "output_type": "display_data"
    },
    {
     "name": "stdout",
     "output_type": "stream",
     "text": [
      "\n",
      "\n",
      "Cluster 3: 301 individus\n"
     ]
    },
    {
     "data": {
      "text/html": [
       "<div>\n",
       "<style>\n",
       "    .dataframe thead tr:only-child th {\n",
       "        text-align: right;\n",
       "    }\n",
       "\n",
       "    .dataframe thead th {\n",
       "        text-align: left;\n",
       "    }\n",
       "\n",
       "    .dataframe tbody tr th {\n",
       "        vertical-align: top;\n",
       "    }\n",
       "</style>\n",
       "<table border=\"1\" class=\"dataframe\">\n",
       "  <thead>\n",
       "    <tr style=\"text-align: right;\">\n",
       "      <th></th>\n",
       "      <th>is_UK</th>\n",
       "      <th>Products_unique</th>\n",
       "      <th>Prods_per_invoice</th>\n",
       "      <th>Unit_avg</th>\n",
       "      <th>Spending_total</th>\n",
       "      <th>Spending_avg</th>\n",
       "      <th>N_cancelled</th>\n",
       "      <th>N_transactions</th>\n",
       "      <th>N_months</th>\n",
       "      <th>Timebtw_inv</th>\n",
       "      <th>First_unique</th>\n",
       "      <th>First_spending</th>\n",
       "      <th>First_units</th>\n",
       "    </tr>\n",
       "  </thead>\n",
       "  <tbody>\n",
       "    <tr>\n",
       "      <th>mean</th>\n",
       "      <td>1.0</td>\n",
       "      <td>174.2</td>\n",
       "      <td>15.8</td>\n",
       "      <td>4.0</td>\n",
       "      <td>10038.1</td>\n",
       "      <td>383.1</td>\n",
       "      <td>9.9</td>\n",
       "      <td>23.4</td>\n",
       "      <td>9.7</td>\n",
       "      <td>0.1</td>\n",
       "      <td>19.9</td>\n",
       "      <td>511.2</td>\n",
       "      <td>4.4</td>\n",
       "    </tr>\n",
       "    <tr>\n",
       "      <th>std</th>\n",
       "      <td>0.0</td>\n",
       "      <td>165.7</td>\n",
       "      <td>11.1</td>\n",
       "      <td>12.1</td>\n",
       "      <td>20236.1</td>\n",
       "      <td>396.8</td>\n",
       "      <td>16.7</td>\n",
       "      <td>21.1</td>\n",
       "      <td>1.5</td>\n",
       "      <td>0.1</td>\n",
       "      <td>19.6</td>\n",
       "      <td>781.9</td>\n",
       "      <td>16.3</td>\n",
       "    </tr>\n",
       "  </tbody>\n",
       "</table>\n",
       "</div>"
      ],
      "text/plain": [
       "      is_UK  Products_unique  Prods_per_invoice  Unit_avg  Spending_total  \\\n",
       "mean    1.0            174.2               15.8       4.0         10038.1   \n",
       "std     0.0            165.7               11.1      12.1         20236.1   \n",
       "\n",
       "      Spending_avg  N_cancelled  N_transactions  N_months  Timebtw_inv  \\\n",
       "mean         383.1          9.9            23.4       9.7          0.1   \n",
       "std          396.8         16.7            21.1       1.5          0.1   \n",
       "\n",
       "      First_unique  First_spending  First_units  \n",
       "mean          19.9           511.2          4.4  \n",
       "std           19.6           781.9         16.3  "
      ]
     },
     "metadata": {},
     "output_type": "display_data"
    },
    {
     "name": "stdout",
     "output_type": "stream",
     "text": [
      "\n",
      "\n",
      "Cluster 4: 813 individus\n"
     ]
    },
    {
     "data": {
      "text/html": [
       "<div>\n",
       "<style>\n",
       "    .dataframe thead tr:only-child th {\n",
       "        text-align: right;\n",
       "    }\n",
       "\n",
       "    .dataframe thead th {\n",
       "        text-align: left;\n",
       "    }\n",
       "\n",
       "    .dataframe tbody tr th {\n",
       "        vertical-align: top;\n",
       "    }\n",
       "</style>\n",
       "<table border=\"1\" class=\"dataframe\">\n",
       "  <thead>\n",
       "    <tr style=\"text-align: right;\">\n",
       "      <th></th>\n",
       "      <th>is_UK</th>\n",
       "      <th>Products_unique</th>\n",
       "      <th>Prods_per_invoice</th>\n",
       "      <th>Unit_avg</th>\n",
       "      <th>Spending_total</th>\n",
       "      <th>Spending_avg</th>\n",
       "      <th>N_cancelled</th>\n",
       "      <th>N_transactions</th>\n",
       "      <th>N_months</th>\n",
       "      <th>Timebtw_inv</th>\n",
       "      <th>First_unique</th>\n",
       "      <th>First_spending</th>\n",
       "      <th>First_units</th>\n",
       "    </tr>\n",
       "  </thead>\n",
       "  <tbody>\n",
       "    <tr>\n",
       "      <th>mean</th>\n",
       "      <td>1.0</td>\n",
       "      <td>90.1</td>\n",
       "      <td>16.9</td>\n",
       "      <td>3.7</td>\n",
       "      <td>2126.9</td>\n",
       "      <td>296.0</td>\n",
       "      <td>2.9</td>\n",
       "      <td>7.3</td>\n",
       "      <td>5.1</td>\n",
       "      <td>0.0</td>\n",
       "      <td>20.2</td>\n",
       "      <td>366.0</td>\n",
       "      <td>4.1</td>\n",
       "    </tr>\n",
       "    <tr>\n",
       "      <th>std</th>\n",
       "      <td>0.0</td>\n",
       "      <td>69.7</td>\n",
       "      <td>12.9</td>\n",
       "      <td>8.6</td>\n",
       "      <td>2278.8</td>\n",
       "      <td>224.4</td>\n",
       "      <td>5.9</td>\n",
       "      <td>3.0</td>\n",
       "      <td>1.0</td>\n",
       "      <td>0.0</td>\n",
       "      <td>16.9</td>\n",
       "      <td>415.6</td>\n",
       "      <td>11.9</td>\n",
       "    </tr>\n",
       "  </tbody>\n",
       "</table>\n",
       "</div>"
      ],
      "text/plain": [
       "      is_UK  Products_unique  Prods_per_invoice  Unit_avg  Spending_total  \\\n",
       "mean    1.0             90.1               16.9       3.7          2126.9   \n",
       "std     0.0             69.7               12.9       8.6          2278.8   \n",
       "\n",
       "      Spending_avg  N_cancelled  N_transactions  N_months  Timebtw_inv  \\\n",
       "mean         296.0          2.9             7.3       5.1          0.0   \n",
       "std          224.4          5.9             3.0       1.0          0.0   \n",
       "\n",
       "      First_unique  First_spending  First_units  \n",
       "mean          20.2           366.0          4.1  \n",
       "std           16.9           415.6         11.9  "
      ]
     },
     "metadata": {},
     "output_type": "display_data"
    },
    {
     "name": "stdout",
     "output_type": "stream",
     "text": [
      "\n",
      "\n",
      "Cluster 5: 2361 individus\n"
     ]
    },
    {
     "data": {
      "text/html": [
       "<div>\n",
       "<style>\n",
       "    .dataframe thead tr:only-child th {\n",
       "        text-align: right;\n",
       "    }\n",
       "\n",
       "    .dataframe thead th {\n",
       "        text-align: left;\n",
       "    }\n",
       "\n",
       "    .dataframe tbody tr th {\n",
       "        vertical-align: top;\n",
       "    }\n",
       "</style>\n",
       "<table border=\"1\" class=\"dataframe\">\n",
       "  <thead>\n",
       "    <tr style=\"text-align: right;\">\n",
       "      <th></th>\n",
       "      <th>is_UK</th>\n",
       "      <th>Products_unique</th>\n",
       "      <th>Prods_per_invoice</th>\n",
       "      <th>Unit_avg</th>\n",
       "      <th>Spending_total</th>\n",
       "      <th>Spending_avg</th>\n",
       "      <th>N_cancelled</th>\n",
       "      <th>N_transactions</th>\n",
       "      <th>N_months</th>\n",
       "      <th>Timebtw_inv</th>\n",
       "      <th>First_unique</th>\n",
       "      <th>First_spending</th>\n",
       "      <th>First_units</th>\n",
       "    </tr>\n",
       "  </thead>\n",
       "  <tbody>\n",
       "    <tr>\n",
       "      <th>mean</th>\n",
       "      <td>1.0</td>\n",
       "      <td>25.2</td>\n",
       "      <td>13.2</td>\n",
       "      <td>13.3</td>\n",
       "      <td>519.0</td>\n",
       "      <td>250.9</td>\n",
       "      <td>0.7</td>\n",
       "      <td>2.1</td>\n",
       "      <td>1.6</td>\n",
       "      <td>10.5</td>\n",
       "      <td>14.9</td>\n",
       "      <td>321.8</td>\n",
       "      <td>8.0</td>\n",
       "    </tr>\n",
       "    <tr>\n",
       "      <th>std</th>\n",
       "      <td>0.0</td>\n",
       "      <td>22.8</td>\n",
       "      <td>9.3</td>\n",
       "      <td>291.0</td>\n",
       "      <td>752.4</td>\n",
       "      <td>278.2</td>\n",
       "      <td>2.3</td>\n",
       "      <td>1.6</td>\n",
       "      <td>0.8</td>\n",
       "      <td>98.2</td>\n",
       "      <td>10.2</td>\n",
       "      <td>1638.7</td>\n",
       "      <td>104.7</td>\n",
       "    </tr>\n",
       "  </tbody>\n",
       "</table>\n",
       "</div>"
      ],
      "text/plain": [
       "      is_UK  Products_unique  Prods_per_invoice  Unit_avg  Spending_total  \\\n",
       "mean    1.0             25.2               13.2      13.3           519.0   \n",
       "std     0.0             22.8                9.3     291.0           752.4   \n",
       "\n",
       "      Spending_avg  N_cancelled  N_transactions  N_months  Timebtw_inv  \\\n",
       "mean         250.9          0.7             2.1       1.6         10.5   \n",
       "std          278.2          2.3             1.6       0.8         98.2   \n",
       "\n",
       "      First_unique  First_spending  First_units  \n",
       "mean          14.9           321.8          8.0  \n",
       "std           10.2          1638.7        104.7  "
      ]
     },
     "metadata": {},
     "output_type": "display_data"
    }
   ],
   "source": [
    "for i in range(n_clusters):\n",
    "    mask = (labels == (i+1))\n",
    "    print(f'\\n\\nCluster {i+1}: {counts[i]} individus')\n",
    "    display(data[mask].describe().round(1).iloc[[1, 2], :])"
   ]
  },
  {
   "cell_type": "markdown",
   "metadata": {},
   "source": [
    "Description statistique visuelle des différents clusters sur des variables choisies"
   ]
  },
  {
   "cell_type": "code",
   "execution_count": 9,
   "metadata": {},
   "outputs": [
    {
     "data": {
      "image/png": "[encoded data removed]",
      "text/plain": [
       "<matplotlib.figure.Figure at 0x1a2b7f1fd0>"
      ]
     },
     "metadata": {},
     "output_type": "display_data"
    }
   ],
   "source": [
    "def display_boxplots(data, columns, title):\n",
    "    f, axarr = plt.subplots(3, 2, figsize=(20, 15))\n",
    "    i, j = 0, 0\n",
    "    plt.suptitle(title, y=0.91, fontsize=15); \n",
    "    \n",
    "    for col in columns:\n",
    "        sns.boxplot(y='Cluster', x=col, data=data, orient='h', palette=rbg_colors, ax = axarr[i, j])\n",
    "        j += 1\n",
    "        if j > 1:\n",
    "            j = 0\n",
    "            i += 1\n",
    "\n",
    "columns = ['Spending_total', 'N_months', 'N_transactions', 'N_cancelled', 'Prods_per_invoice', 'Products_unique']\n",
    "data['Cluster'] = labels\n",
    "\n",
    "display_boxplots(data, columns, 'Distribution de variables choisies par cluster')"
   ]
  },
  {
   "cell_type": "markdown",
   "metadata": {},
   "source": [
    "D'après les descriptions statistiques ci-dessous, nous choisissons d'interpréter chaque cluster obtenu comme suit:\n",
    "- **1 - 'Entreposeurs'** : Achètent des produits en grande quantité, mais faible diverisité, en peu de fois dans le temps.\n",
    "- **2 - 'Internationaux'**: Clients hors du Royaume-Uni.\n",
    "- **3 - 'Fidèles'**: Clients qui dépensent le plus, sur une longue durée et très régulièrement.\n",
    "- **4 - 'Occasionnels'**: Achètent de temps à autres, pour des dépenses totales moyennes.\n",
    "- **5 - 'One-timers'**: Classe plus peuplée. Achètent souvent très peu de fois, peu de produits différents et dépensent."
   ]
  },
  {
   "cell_type": "markdown",
   "metadata": {},
   "source": [
    "---\n",
    "## Prédiction progressive des groupes par classification"
   ]
  },
  {
   "cell_type": "markdown",
   "metadata": {},
   "source": [
    "Maintenant que nous avons segmenté notre base clients, nous allons nous servir de leur groupe d'appartenance comme variable cible dans une phase d'apprentissage supervisé.\n",
    "\n",
    "Nous allons entrainer des modèles de classification afin de tenter prédire les groupe d'appartenance à partir des descripteurs. Puis, dans la phase d'évaluation des modèles, nous allons tenter de voir leur performance en prenant progressivement les achats faits au cours des *n* premiers mois de factures de chaque client pour créer synthétiquement les descripteurs (comme fait dans le notebook 'Exploration'), et ainsi voir à quelle point la durée de recueillement de données sur nos clients impacte la justesse de leur classification."
   ]
  },
  {
   "cell_type": "markdown",
   "metadata": {},
   "source": [
    "### Préparation des jeux de données"
   ]
  },
  {
   "cell_type": "markdown",
   "metadata": {},
   "source": [
    "Séparons le du jeu de données initial en deux parties \n",
    "- une partie sur laquelle seront entrainés nos modèles (jeu d'entrainement),\n",
    "- une autre sur laquelle nous allons tester la véracité des prédictions de nos modèles (jeu de test)"
   ]
  },
  {
   "cell_type": "code",
   "execution_count": 10,
   "metadata": {},
   "outputs": [],
   "source": [
    "X_train, X_test, y_train, y_test = train_test_split(data.drop('Cluster', axis=1), labels, \n",
    "                                                    train_size=0.7, test_size=0.3, \n",
    "                                                    random_state=0)\n",
    "\n",
    "sorted_index = X_test.index.sort_values()\n",
    "y_test = data.loc[sorted_index, 'Cluster']"
   ]
  },
  {
   "cell_type": "markdown",
   "metadata": {},
   "source": [
    "Créons notre \"Curseur temporel\" qui nous servira à ne sélectionner que les factures des *n* premiers mois d'achats par client"
   ]
  },
  {
   "cell_type": "code",
   "execution_count": 11,
   "metadata": {},
   "outputs": [],
   "source": [
    "cursor = purchases[['CustomerID', 'InvoiceNo', 'Month']].drop_duplicates()\n",
    "cursor.loc[cursor.Month==12, 'Month'] = 0 # considers Dec. 2010 as the first month of recording\n",
    "\n",
    "# Labels each invoice with nth month of buying for each customer\n",
    "cursor['Nth_month'] = (cursor.groupby('CustomerID')['Month']\n",
    "                      .rank(method='dense'))"
   ]
  },
  {
   "cell_type": "markdown",
   "metadata": {},
   "source": [
    "Utilisons ce curseur pour créer 12 jeux de tests différents, sur lesquels seront évalués notre modèle."
   ]
  },
  {
   "cell_type": "code",
   "execution_count": 12,
   "metadata": {},
   "outputs": [],
   "source": [
    "test_purchases = purchases[purchases.CustomerID.isin(sorted_index)]\n",
    "test_sets = []\n",
    "\n",
    "for n in range(1, 13):\n",
    "    current_invoices = cursor[cursor.Nth_month <= n].InvoiceNo\n",
    "    current_purchases = test_purchases[test_purchases.InvoiceNo.isin(current_invoices)]\n",
    "    current_features = transform_data(current_purchases)\n",
    "    test_sets.append(current_features)"
   ]
  },
  {
   "cell_type": "markdown",
   "metadata": {},
   "source": [
    "### Entrainer les modèles"
   ]
  },
  {
   "cell_type": "markdown",
   "metadata": {},
   "source": [
    "Pour prendre en compte la diversité des méthodes de classification qui existe, nous avons tenter notre entrainement sur les méthodes suivantes:\n",
    "- Régression Logistique\n",
    "- Machine à Vecteurs de Support\n",
    "- Forêt Aléatoire\n",
    "- Perceptron Multi-couches\n",
    "\n",
    "Pour chacune de ces méthodes, nous cherchons d'abord dans un espace d'hyperparamètres possibles la combinaison qui permet de maximiser le taux de classification global (_accuracy_). Ensuite, nous évaluons les performance de des prédictions de ces meilleurs modèles à l'aide d'un graphe d'évolution des taux de classification dans le temps par cluster, et aussi à l'aide d'une matrice de confusion.\n",
    "\n",
    "Suivant le type de classifier, nous appliquons une phase de pré-processing si nécessaire ou non."
   ]
  },
  {
   "cell_type": "markdown",
   "metadata": {},
   "source": [
    "#### Régression Logistique"
   ]
  },
  {
   "cell_type": "code",
   "execution_count": 13,
   "metadata": {},
   "outputs": [
    {
     "name": "stdout",
     "output_type": "stream",
     "text": [
      "Fitting 10 folds for each of 18 candidates, totalling 180 fits\n"
     ]
    },
    {
     "name": "stderr",
     "output_type": "stream",
     "text": [
      "[Parallel(n_jobs=1)]: Done 180 out of 180 | elapsed:  2.1min finished\n"
     ]
    }
   ],
   "source": [
    "hyperparameters = {'penalty': ['l1', 'l2'], \n",
    "                   'C': [1e-2, 3e-2, 1e-1, 3e-1, 1, 3, 10, 30, 100]}\n",
    "estimator_lr = LogisticRegression(max_iter=1e4, tol=1e-4)\n",
    "grid_lr = GridSearchCV(estimator_lr, hyperparameters, scoring='accuracy', \n",
    "                       cv=10, iid=True, verbose=1)\n",
    "\n",
    "grid_lr.fit(X_train, y_train)\n",
    "results_lr = Classification_Results(grid_lr.best_estimator_, \"Régression Logistique\",\n",
    "                                    test_sets, y_test, n_clusters)"
   ]
  },
  {
   "cell_type": "code",
   "execution_count": 14,
   "metadata": {},
   "outputs": [
    {
     "data": {
      "application/vnd.vegalite.v2+json": {
       "$schema": "https://vega.github.io/schema/vega-lite/v2.4.1.json",
       "config": {
        "view": {
         "height": 300,
         "width": 400
        }
       },
       "layer": [
        {
         "data": {
          "values": [
           {
            "accuracy_per_cluster": 83.59375,
            "clusters": "Cluster 1",
            "nth_month": "01e mois"
           },
           {
            "accuracy_per_cluster": 100,
            "clusters": "Cluster 2",
            "nth_month": "01e mois"
           },
           {
            "accuracy_per_cluster": 0,
            "clusters": "Cluster 3",
            "nth_month": "01e mois"
           },
           {
            "accuracy_per_cluster": 0,
            "clusters": "Cluster 4",
            "nth_month": "01e mois"
           },
           {
            "accuracy_per_cluster": 98.5734664764622,
            "clusters": "Cluster 5",
            "nth_month": "01e mois"
           },
           {
            "accuracy_per_cluster": 87.5,
            "clusters": "Cluster 1",
            "nth_month": "02e mois"
           },
           {
            "accuracy_per_cluster": 100,
            "clusters": "Cluster 2",
            "nth_month": "02e mois"
           },
           {
            "accuracy_per_cluster": 0,
            "clusters": "Cluster 3",
            "nth_month": "02e mois"
           },
           {
            "accuracy_per_cluster": 0,
            "clusters": "Cluster 4",
            "nth_month": "02e mois"
           },
           {
            "accuracy_per_cluster": 99.57203994293866,
            "clusters": "Cluster 5",
            "nth_month": "02e mois"
           },
           {
            "accuracy_per_cluster": 84.375,
            "clusters": "Cluster 1",
            "nth_month": "03e mois"
           },
           {
            "accuracy_per_cluster": 100,
            "clusters": "Cluster 2",
            "nth_month": "03e mois"
           },
           {
            "accuracy_per_cluster": 0,
            "clusters": "Cluster 3",
            "nth_month": "03e mois"
           },
           {
            "accuracy_per_cluster": 10.084033613445378,
            "clusters": "Cluster 4",
            "nth_month": "03e mois"
           },
           {
            "accuracy_per_cluster": 98.85877318116975,
            "clusters": "Cluster 5",
            "nth_month": "03e mois"
           },
           {
            "accuracy_per_cluster": 84.375,
            "clusters": "Cluster 1",
            "nth_month": "04e mois"
           },
           {
            "accuracy_per_cluster": 100,
            "clusters": "Cluster 2",
            "nth_month": "04e mois"
           },
           {
            "accuracy_per_cluster": 0,
            "clusters": "Cluster 3",
            "nth_month": "04e mois"
           },
           {
            "accuracy_per_cluster": 79.41176470588235,
            "clusters": "Cluster 4",
            "nth_month": "04e mois"
           },
           {
            "accuracy_per_cluster": 98.85877318116975,
            "clusters": "Cluster 5",
            "nth_month": "04e mois"
           },
           {
            "accuracy_per_cluster": 84.375,
            "clusters": "Cluster 1",
            "nth_month": "05e mois"
           },
           {
            "accuracy_per_cluster": 100,
            "clusters": "Cluster 2",
            "nth_month": "05e mois"
           },
           {
            "accuracy_per_cluster": 0,
            "clusters": "Cluster 3",
            "nth_month": "05e mois"
           },
           {
            "accuracy_per_cluster": 91.59663865546219,
            "clusters": "Cluster 4",
            "nth_month": "05e mois"
           },
           {
            "accuracy_per_cluster": 98.85877318116975,
            "clusters": "Cluster 5",
            "nth_month": "05e mois"
           },
           {
            "accuracy_per_cluster": 84.375,
            "clusters": "Cluster 1",
            "nth_month": "06e mois"
           },
           {
            "accuracy_per_cluster": 100,
            "clusters": "Cluster 2",
            "nth_month": "06e mois"
           },
           {
            "accuracy_per_cluster": 0.9174311926605505,
            "clusters": "Cluster 3",
            "nth_month": "06e mois"
           },
           {
            "accuracy_per_cluster": 91.59663865546219,
            "clusters": "Cluster 4",
            "nth_month": "06e mois"
           },
           {
            "accuracy_per_cluster": 98.85877318116975,
            "clusters": "Cluster 5",
            "nth_month": "06e mois"
           },
           {
            "accuracy_per_cluster": 84.375,
            "clusters": "Cluster 1",
            "nth_month": "07e mois"
           },
           {
            "accuracy_per_cluster": 100,
            "clusters": "Cluster 2",
            "nth_month": "07e mois"
           },
           {
            "accuracy_per_cluster": 11.926605504587156,
            "clusters": "Cluster 3",
            "nth_month": "07e mois"
           },
           {
            "accuracy_per_cluster": 92.01680672268907,
            "clusters": "Cluster 4",
            "nth_month": "07e mois"
           },
           {
            "accuracy_per_cluster": 98.85877318116975,
            "clusters": "Cluster 5",
            "nth_month": "07e mois"
           },
           {
            "accuracy_per_cluster": 84.375,
            "clusters": "Cluster 1",
            "nth_month": "08e mois"
           },
           {
            "accuracy_per_cluster": 100,
            "clusters": "Cluster 2",
            "nth_month": "08e mois"
           },
           {
            "accuracy_per_cluster": 100,
            "clusters": "Cluster 3",
            "nth_month": "08e mois"
           },
           {
            "accuracy_per_cluster": 92.01680672268907,
            "clusters": "Cluster 4",
            "nth_month": "08e mois"
           },
           {
            "accuracy_per_cluster": 98.85877318116975,
            "clusters": "Cluster 5",
            "nth_month": "08e mois"
           },
           {
            "accuracy_per_cluster": 84.375,
            "clusters": "Cluster 1",
            "nth_month": "09e mois"
           },
           {
            "accuracy_per_cluster": 100,
            "clusters": "Cluster 2",
            "nth_month": "09e mois"
           },
           {
            "accuracy_per_cluster": 100,
            "clusters": "Cluster 3",
            "nth_month": "09e mois"
           },
           {
            "accuracy_per_cluster": 92.01680672268907,
            "clusters": "Cluster 4",
            "nth_month": "09e mois"
           },
           {
            "accuracy_per_cluster": 98.85877318116975,
            "clusters": "Cluster 5",
            "nth_month": "09e mois"
           },
           {
            "accuracy_per_cluster": 84.375,
            "clusters": "Cluster 1",
            "nth_month": "10e mois"
           },
           {
            "accuracy_per_cluster": 100,
            "clusters": "Cluster 2",
            "nth_month": "10e mois"
           },
           {
            "accuracy_per_cluster": 100,
            "clusters": "Cluster 3",
            "nth_month": "10e mois"
           },
           {
            "accuracy_per_cluster": 92.01680672268907,
            "clusters": "Cluster 4",
            "nth_month": "10e mois"
           },
           {
            "accuracy_per_cluster": 98.85877318116975,
            "clusters": "Cluster 5",
            "nth_month": "10e mois"
           },
           {
            "accuracy_per_cluster": 84.375,
            "clusters": "Cluster 1",
            "nth_month": "11e mois"
           },
           {
            "accuracy_per_cluster": 100,
            "clusters": "Cluster 2",
            "nth_month": "11e mois"
           },
           {
            "accuracy_per_cluster": 100,
            "clusters": "Cluster 3",
            "nth_month": "11e mois"
           },
           {
            "accuracy_per_cluster": 92.01680672268907,
            "clusters": "Cluster 4",
            "nth_month": "11e mois"
           },
           {
            "accuracy_per_cluster": 98.85877318116975,
            "clusters": "Cluster 5",
            "nth_month": "11e mois"
           },
           {
            "accuracy_per_cluster": 84.375,
            "clusters": "Cluster 1",
            "nth_month": "12e mois"
           },
           {
            "accuracy_per_cluster": 100,
            "clusters": "Cluster 2",
            "nth_month": "12e mois"
           },
           {
            "accuracy_per_cluster": 100,
            "clusters": "Cluster 3",
            "nth_month": "12e mois"
           },
           {
            "accuracy_per_cluster": 92.01680672268907,
            "clusters": "Cluster 4",
            "nth_month": "12e mois"
           },
           {
            "accuracy_per_cluster": 98.85877318116975,
            "clusters": "Cluster 5",
            "nth_month": "12e mois"
           }
          ]
         },
         "encoding": {
          "color": {
           "field": "clusters",
           "legend": {
            "title": "N° Cluster"
           },
           "scale": {
            "domain": [
             "Cluster 1",
             "Cluster 2",
             "Cluster 3",
             "Cluster 4",
             "Cluster 5"
            ],
            "range": [
             "#9b59b6",
             "#3498db",
             "#95a5a6",
             "#e74c3c",
             "#2ecc71"
            ]
           },
           "type": "nominal"
          },
          "size": {
           "value": 1
          },
          "x": {
           "axis": {
            "labelAngle": -55,
            "title": "Mois"
           },
           "field": "nth_month",
           "type": "nominal"
          },
          "y": {
           "field": "accuracy_per_cluster",
           "type": "quantitative"
          }
         },
         "height": 300,
         "mark": {
          "strokeDash": [
           10,
           5
          ],
          "type": "line"
         },
         "title": "Évolution de la performance de Régression Logistique",
         "width": 450
        },
        {
         "data": {
          "values": [
           {
            "mean_accuracy": 70.92307692307692,
            "nth_month": "01e mois"
           },
           {
            "mean_accuracy": 71.84615384615385,
            "nth_month": "02e mois"
           },
           {
            "mean_accuracy": 73,
            "nth_month": "03e mois"
           },
           {
            "mean_accuracy": 85.6923076923077,
            "nth_month": "04e mois"
           },
           {
            "mean_accuracy": 87.92307692307692,
            "nth_month": "05e mois"
           },
           {
            "mean_accuracy": 88,
            "nth_month": "06e mois"
           },
           {
            "mean_accuracy": 89,
            "nth_month": "07e mois"
           },
           {
            "mean_accuracy": 96.38461538461539,
            "nth_month": "08e mois"
           },
           {
            "mean_accuracy": 96.38461538461539,
            "nth_month": "09e mois"
           },
           {
            "mean_accuracy": 96.38461538461539,
            "nth_month": "10e mois"
           },
           {
            "mean_accuracy": 96.38461538461539,
            "nth_month": "11e mois"
           },
           {
            "mean_accuracy": 96.38461538461539,
            "nth_month": "12e mois"
           }
          ]
         },
         "encoding": {
          "size": {
           "value": 2
          },
          "x": {
           "field": "nth_month",
           "type": "nominal"
          },
          "y": {
           "field": "mean_accuracy",
           "type": "quantitative"
          }
         },
         "mark": {
          "color": "#34495e",
          "type": "line"
         }
        }
       ]
      },
      "image/png": "[encoded data removed]",
      "text/plain": [
       "<VegaLite 2 object>\n",
       "\n",
       "If you see this message, it means the renderer has not been properly enabled\n",
       "for the frontend that you are using. For more information, see\n",
       "https://altair-viz.github.io/user_guide/troubleshooting.html\n"
      ]
     },
     "execution_count": 14,
     "metadata": {},
     "output_type": "execute_result"
    }
   ],
   "source": [
    "results_lr.graph_evolution()"
   ]
  },
  {
   "cell_type": "code",
   "execution_count": 15,
   "metadata": {},
   "outputs": [
    {
     "data": {
      "image/png": "[encoded data removed]",
      "text/plain": [
       "<matplotlib.figure.Figure at 0x1a2b9de208>"
      ]
     },
     "metadata": {},
     "output_type": "display_data"
    }
   ],
   "source": [
    "results_lr.confusion_matrix()"
   ]
  },
  {
   "cell_type": "markdown",
   "metadata": {},
   "source": [
    "#### Machine à Vecteurs de Support"
   ]
  },
  {
   "cell_type": "code",
   "execution_count": 16,
   "metadata": {},
   "outputs": [
    {
     "name": "stdout",
     "output_type": "stream",
     "text": [
      "Fitting 10 folds for each of 14 candidates, totalling 140 fits\n"
     ]
    },
    {
     "name": "stderr",
     "output_type": "stream",
     "text": [
      "[Parallel(n_jobs=-1)]: Done  34 tasks      | elapsed:    7.4s\n",
      "[Parallel(n_jobs=-1)]: Done 140 out of 140 | elapsed:   14.7s finished\n"
     ]
    }
   ],
   "source": [
    "hyperparameters = {'svc__C': [1e-1, 3e-1, 1, 3, 10, 30, 100], \n",
    "                   'svc__kernel': ['rbf', 'linear']}\n",
    "\n",
    "estimator_svc = Pipeline([('scaler', MinMaxScaler()), \n",
    "                          ('svc', SVC(gamma='auto', probability=True))])\n",
    "grid_svc = GridSearchCV(estimator_svc, hyperparameters, scoring='accuracy',\n",
    "                        cv=10, iid=True, verbose=1, n_jobs=-1)\n",
    "\n",
    "grid_svc.fit(X_train, y_train)\n",
    "results_svc = Classification_Results(grid_svc.best_estimator_, \"SVM\",\n",
    "                                     test_sets, y_test, n_clusters)"
   ]
  },
  {
   "cell_type": "code",
   "execution_count": 17,
   "metadata": {},
   "outputs": [
    {
     "data": {
      "application/vnd.vegalite.v2+json": {
       "$schema": "https://vega.github.io/schema/vega-lite/v2.4.1.json",
       "config": {
        "view": {
         "height": 300,
         "width": 400
        }
       },
       "layer": [
        {
         "data": {
          "values": [
           {
            "accuracy_per_cluster": 89.0625,
            "clusters": "Cluster 1",
            "nth_month": "01e mois"
           },
           {
            "accuracy_per_cluster": 100,
            "clusters": "Cluster 2",
            "nth_month": "01e mois"
           },
           {
            "accuracy_per_cluster": 0,
            "clusters": "Cluster 3",
            "nth_month": "01e mois"
           },
           {
            "accuracy_per_cluster": 0,
            "clusters": "Cluster 4",
            "nth_month": "01e mois"
           },
           {
            "accuracy_per_cluster": 98.28815977175464,
            "clusters": "Cluster 5",
            "nth_month": "01e mois"
           },
           {
            "accuracy_per_cluster": 96.09375,
            "clusters": "Cluster 1",
            "nth_month": "02e mois"
           },
           {
            "accuracy_per_cluster": 100,
            "clusters": "Cluster 2",
            "nth_month": "02e mois"
           },
           {
            "accuracy_per_cluster": 0,
            "clusters": "Cluster 3",
            "nth_month": "02e mois"
           },
           {
            "accuracy_per_cluster": 0,
            "clusters": "Cluster 4",
            "nth_month": "02e mois"
           },
           {
            "accuracy_per_cluster": 99.57203994293866,
            "clusters": "Cluster 5",
            "nth_month": "02e mois"
           },
           {
            "accuracy_per_cluster": 96.09375,
            "clusters": "Cluster 1",
            "nth_month": "03e mois"
           },
           {
            "accuracy_per_cluster": 100,
            "clusters": "Cluster 2",
            "nth_month": "03e mois"
           },
           {
            "accuracy_per_cluster": 0,
            "clusters": "Cluster 3",
            "nth_month": "03e mois"
           },
           {
            "accuracy_per_cluster": 0,
            "clusters": "Cluster 4",
            "nth_month": "03e mois"
           },
           {
            "accuracy_per_cluster": 100,
            "clusters": "Cluster 5",
            "nth_month": "03e mois"
           },
           {
            "accuracy_per_cluster": 94.53125,
            "clusters": "Cluster 1",
            "nth_month": "04e mois"
           },
           {
            "accuracy_per_cluster": 100,
            "clusters": "Cluster 2",
            "nth_month": "04e mois"
           },
           {
            "accuracy_per_cluster": 0,
            "clusters": "Cluster 3",
            "nth_month": "04e mois"
           },
           {
            "accuracy_per_cluster": 96.63865546218487,
            "clusters": "Cluster 4",
            "nth_month": "04e mois"
           },
           {
            "accuracy_per_cluster": 100,
            "clusters": "Cluster 5",
            "nth_month": "04e mois"
           },
           {
            "accuracy_per_cluster": 94.53125,
            "clusters": "Cluster 1",
            "nth_month": "05e mois"
           },
           {
            "accuracy_per_cluster": 100,
            "clusters": "Cluster 2",
            "nth_month": "05e mois"
           },
           {
            "accuracy_per_cluster": 0,
            "clusters": "Cluster 3",
            "nth_month": "05e mois"
           },
           {
            "accuracy_per_cluster": 99.15966386554622,
            "clusters": "Cluster 4",
            "nth_month": "05e mois"
           },
           {
            "accuracy_per_cluster": 100,
            "clusters": "Cluster 5",
            "nth_month": "05e mois"
           },
           {
            "accuracy_per_cluster": 94.53125,
            "clusters": "Cluster 1",
            "nth_month": "06e mois"
           },
           {
            "accuracy_per_cluster": 100,
            "clusters": "Cluster 2",
            "nth_month": "06e mois"
           },
           {
            "accuracy_per_cluster": 0,
            "clusters": "Cluster 3",
            "nth_month": "06e mois"
           },
           {
            "accuracy_per_cluster": 99.57983193277312,
            "clusters": "Cluster 4",
            "nth_month": "06e mois"
           },
           {
            "accuracy_per_cluster": 100,
            "clusters": "Cluster 5",
            "nth_month": "06e mois"
           },
           {
            "accuracy_per_cluster": 94.53125,
            "clusters": "Cluster 1",
            "nth_month": "07e mois"
           },
           {
            "accuracy_per_cluster": 100,
            "clusters": "Cluster 2",
            "nth_month": "07e mois"
           },
           {
            "accuracy_per_cluster": 0,
            "clusters": "Cluster 3",
            "nth_month": "07e mois"
           },
           {
            "accuracy_per_cluster": 99.57983193277312,
            "clusters": "Cluster 4",
            "nth_month": "07e mois"
           },
           {
            "accuracy_per_cluster": 100,
            "clusters": "Cluster 5",
            "nth_month": "07e mois"
           },
           {
            "accuracy_per_cluster": 94.53125,
            "clusters": "Cluster 1",
            "nth_month": "08e mois"
           },
           {
            "accuracy_per_cluster": 100,
            "clusters": "Cluster 2",
            "nth_month": "08e mois"
           },
           {
            "accuracy_per_cluster": 100,
            "clusters": "Cluster 3",
            "nth_month": "08e mois"
           },
           {
            "accuracy_per_cluster": 99.57983193277312,
            "clusters": "Cluster 4",
            "nth_month": "08e mois"
           },
           {
            "accuracy_per_cluster": 100,
            "clusters": "Cluster 5",
            "nth_month": "08e mois"
           },
           {
            "accuracy_per_cluster": 94.53125,
            "clusters": "Cluster 1",
            "nth_month": "09e mois"
           },
           {
            "accuracy_per_cluster": 100,
            "clusters": "Cluster 2",
            "nth_month": "09e mois"
           },
           {
            "accuracy_per_cluster": 100,
            "clusters": "Cluster 3",
            "nth_month": "09e mois"
           },
           {
            "accuracy_per_cluster": 99.57983193277312,
            "clusters": "Cluster 4",
            "nth_month": "09e mois"
           },
           {
            "accuracy_per_cluster": 100,
            "clusters": "Cluster 5",
            "nth_month": "09e mois"
           },
           {
            "accuracy_per_cluster": 94.53125,
            "clusters": "Cluster 1",
            "nth_month": "10e mois"
           },
           {
            "accuracy_per_cluster": 100,
            "clusters": "Cluster 2",
            "nth_month": "10e mois"
           },
           {
            "accuracy_per_cluster": 100,
            "clusters": "Cluster 3",
            "nth_month": "10e mois"
           },
           {
            "accuracy_per_cluster": 99.57983193277312,
            "clusters": "Cluster 4",
            "nth_month": "10e mois"
           },
           {
            "accuracy_per_cluster": 100,
            "clusters": "Cluster 5",
            "nth_month": "10e mois"
           },
           {
            "accuracy_per_cluster": 94.53125,
            "clusters": "Cluster 1",
            "nth_month": "11e mois"
           },
           {
            "accuracy_per_cluster": 100,
            "clusters": "Cluster 2",
            "nth_month": "11e mois"
           },
           {
            "accuracy_per_cluster": 100,
            "clusters": "Cluster 3",
            "nth_month": "11e mois"
           },
           {
            "accuracy_per_cluster": 99.57983193277312,
            "clusters": "Cluster 4",
            "nth_month": "11e mois"
           },
           {
            "accuracy_per_cluster": 100,
            "clusters": "Cluster 5",
            "nth_month": "11e mois"
           },
           {
            "accuracy_per_cluster": 94.53125,
            "clusters": "Cluster 1",
            "nth_month": "12e mois"
           },
           {
            "accuracy_per_cluster": 100,
            "clusters": "Cluster 2",
            "nth_month": "12e mois"
           },
           {
            "accuracy_per_cluster": 100,
            "clusters": "Cluster 3",
            "nth_month": "12e mois"
           },
           {
            "accuracy_per_cluster": 99.57983193277312,
            "clusters": "Cluster 4",
            "nth_month": "12e mois"
           },
           {
            "accuracy_per_cluster": 100,
            "clusters": "Cluster 5",
            "nth_month": "12e mois"
           }
          ]
         },
         "encoding": {
          "color": {
           "field": "clusters",
           "legend": {
            "title": "N° Cluster"
           },
           "scale": {
            "domain": [
             "Cluster 1",
             "Cluster 2",
             "Cluster 3",
             "Cluster 4",
             "Cluster 5"
            ],
            "range": [
             "#9b59b6",
             "#3498db",
             "#95a5a6",
             "#e74c3c",
             "#2ecc71"
            ]
           },
           "type": "nominal"
          },
          "size": {
           "value": 1
          },
          "x": {
           "axis": {
            "labelAngle": -55,
            "title": "Mois"
           },
           "field": "nth_month",
           "type": "nominal"
          },
          "y": {
           "field": "accuracy_per_cluster",
           "type": "quantitative"
          }
         },
         "height": 300,
         "mark": {
          "strokeDash": [
           10,
           5
          ],
          "type": "line"
         },
         "title": "Évolution de la performance de SVM",
         "width": 450
        },
        {
         "data": {
          "values": [
           {
            "mean_accuracy": 71.3076923076923,
            "nth_month": "01e mois"
           },
           {
            "mean_accuracy": 72.6923076923077,
            "nth_month": "02e mois"
           },
           {
            "mean_accuracy": 72.92307692307692,
            "nth_month": "03e mois"
           },
           {
            "mean_accuracy": 90.46153846153845,
            "nth_month": "04e mois"
           },
           {
            "mean_accuracy": 90.92307692307692,
            "nth_month": "05e mois"
           },
           {
            "mean_accuracy": 91,
            "nth_month": "06e mois"
           },
           {
            "mean_accuracy": 91,
            "nth_month": "07e mois"
           },
           {
            "mean_accuracy": 99.38461538461539,
            "nth_month": "08e mois"
           },
           {
            "mean_accuracy": 99.38461538461539,
            "nth_month": "09e mois"
           },
           {
            "mean_accuracy": 99.38461538461539,
            "nth_month": "10e mois"
           },
           {
            "mean_accuracy": 99.38461538461539,
            "nth_month": "11e mois"
           },
           {
            "mean_accuracy": 99.38461538461539,
            "nth_month": "12e mois"
           }
          ]
         },
         "encoding": {
          "size": {
           "value": 2
          },
          "x": {
           "field": "nth_month",
           "type": "nominal"
          },
          "y": {
           "field": "mean_accuracy",
           "type": "quantitative"
          }
         },
         "mark": {
          "color": "#34495e",
          "type": "line"
         }
        }
       ]
      },
      "image/png": "[encoded data removed]",
      "text/plain": [
       "<VegaLite 2 object>\n",
       "\n",
       "If you see this message, it means the renderer has not been properly enabled\n",
       "for the frontend that you are using. For more information, see\n",
       "https://altair-viz.github.io/user_guide/troubleshooting.html\n"
      ]
     },
     "execution_count": 17,
     "metadata": {},
     "output_type": "execute_result"
    }
   ],
   "source": [
    "results_svc.graph_evolution()"
   ]
  },
  {
   "cell_type": "code",
   "execution_count": 18,
   "metadata": {},
   "outputs": [
    {
     "data": {
      "image/png": "[encoded data removed]",
      "text/plain": [
       "<matplotlib.figure.Figure at 0x1a17504a58>"
      ]
     },
     "metadata": {},
     "output_type": "display_data"
    }
   ],
   "source": [
    "results_svc.confusion_matrix()"
   ]
  },
  {
   "cell_type": "markdown",
   "metadata": {},
   "source": [
    "#### Forêt Aléatoire"
   ]
  },
  {
   "cell_type": "code",
   "execution_count": 19,
   "metadata": {},
   "outputs": [
    {
     "name": "stdout",
     "output_type": "stream",
     "text": [
      "Fitting 10 folds for each of 54 candidates, totalling 540 fits\n"
     ]
    },
    {
     "name": "stderr",
     "output_type": "stream",
     "text": [
      "[Parallel(n_jobs=-1)]: Done  78 tasks      | elapsed:   20.2s\n",
      "[Parallel(n_jobs=-1)]: Done 253 tasks      | elapsed:  1.2min\n",
      "[Parallel(n_jobs=-1)]: Done 503 tasks      | elapsed:  2.8min\n",
      "[Parallel(n_jobs=-1)]: Done 540 out of 540 | elapsed:  3.0min finished\n"
     ]
    }
   ],
   "source": [
    "hyperparameters = {'n_estimators': [10, 100, 1000], \n",
    "                   'criterion': ['gini', 'entropy'], \n",
    "                   'max_features': ['auto', 'sqrt', 'log2'], \n",
    "                   'min_samples_split': [2, 15, 30]}\n",
    "estimator_rf = RandomForestClassifier()\n",
    "grid_rf = GridSearchCV(estimator_rf, hyperparameters, scoring='accuracy',\n",
    "                       cv=10, iid=True, verbose=1, n_jobs=-1)\n",
    "\n",
    "grid_rf.fit(X_train, y_train)\n",
    "results_rf = Classification_Results(grid_rf.best_estimator_, \"Forêt Aléatoire\",\n",
    "                                    test_sets, y_test, n_clusters)"
   ]
  },
  {
   "cell_type": "code",
   "execution_count": 20,
   "metadata": {},
   "outputs": [
    {
     "data": {
      "application/vnd.vegalite.v2+json": {
       "$schema": "https://vega.github.io/schema/vega-lite/v2.4.1.json",
       "config": {
        "view": {
         "height": 300,
         "width": 400
        }
       },
       "layer": [
        {
         "data": {
          "values": [
           {
            "accuracy_per_cluster": 90.625,
            "clusters": "Cluster 1",
            "nth_month": "01e mois"
           },
           {
            "accuracy_per_cluster": 100,
            "clusters": "Cluster 2",
            "nth_month": "01e mois"
           },
           {
            "accuracy_per_cluster": 0,
            "clusters": "Cluster 3",
            "nth_month": "01e mois"
           },
           {
            "accuracy_per_cluster": 0,
            "clusters": "Cluster 4",
            "nth_month": "01e mois"
           },
           {
            "accuracy_per_cluster": 98.28815977175464,
            "clusters": "Cluster 5",
            "nth_month": "01e mois"
           },
           {
            "accuracy_per_cluster": 93.75,
            "clusters": "Cluster 1",
            "nth_month": "02e mois"
           },
           {
            "accuracy_per_cluster": 100,
            "clusters": "Cluster 2",
            "nth_month": "02e mois"
           },
           {
            "accuracy_per_cluster": 0,
            "clusters": "Cluster 3",
            "nth_month": "02e mois"
           },
           {
            "accuracy_per_cluster": 0,
            "clusters": "Cluster 4",
            "nth_month": "02e mois"
           },
           {
            "accuracy_per_cluster": 99.57203994293866,
            "clusters": "Cluster 5",
            "nth_month": "02e mois"
           },
           {
            "accuracy_per_cluster": 92.96875,
            "clusters": "Cluster 1",
            "nth_month": "03e mois"
           },
           {
            "accuracy_per_cluster": 100,
            "clusters": "Cluster 2",
            "nth_month": "03e mois"
           },
           {
            "accuracy_per_cluster": 0,
            "clusters": "Cluster 3",
            "nth_month": "03e mois"
           },
           {
            "accuracy_per_cluster": 0,
            "clusters": "Cluster 4",
            "nth_month": "03e mois"
           },
           {
            "accuracy_per_cluster": 99.85734664764621,
            "clusters": "Cluster 5",
            "nth_month": "03e mois"
           },
           {
            "accuracy_per_cluster": 89.0625,
            "clusters": "Cluster 1",
            "nth_month": "04e mois"
           },
           {
            "accuracy_per_cluster": 100,
            "clusters": "Cluster 2",
            "nth_month": "04e mois"
           },
           {
            "accuracy_per_cluster": 0,
            "clusters": "Cluster 3",
            "nth_month": "04e mois"
           },
           {
            "accuracy_per_cluster": 98.73949579831933,
            "clusters": "Cluster 4",
            "nth_month": "04e mois"
           },
           {
            "accuracy_per_cluster": 99.85734664764621,
            "clusters": "Cluster 5",
            "nth_month": "04e mois"
           },
           {
            "accuracy_per_cluster": 88.28125,
            "clusters": "Cluster 1",
            "nth_month": "05e mois"
           },
           {
            "accuracy_per_cluster": 100,
            "clusters": "Cluster 2",
            "nth_month": "05e mois"
           },
           {
            "accuracy_per_cluster": 0,
            "clusters": "Cluster 3",
            "nth_month": "05e mois"
           },
           {
            "accuracy_per_cluster": 100,
            "clusters": "Cluster 4",
            "nth_month": "05e mois"
           },
           {
            "accuracy_per_cluster": 99.85734664764621,
            "clusters": "Cluster 5",
            "nth_month": "05e mois"
           },
           {
            "accuracy_per_cluster": 88.28125,
            "clusters": "Cluster 1",
            "nth_month": "06e mois"
           },
           {
            "accuracy_per_cluster": 100,
            "clusters": "Cluster 2",
            "nth_month": "06e mois"
           },
           {
            "accuracy_per_cluster": 0.9174311926605505,
            "clusters": "Cluster 3",
            "nth_month": "06e mois"
           },
           {
            "accuracy_per_cluster": 100,
            "clusters": "Cluster 4",
            "nth_month": "06e mois"
           },
           {
            "accuracy_per_cluster": 99.85734664764621,
            "clusters": "Cluster 5",
            "nth_month": "06e mois"
           },
           {
            "accuracy_per_cluster": 88.28125,
            "clusters": "Cluster 1",
            "nth_month": "07e mois"
           },
           {
            "accuracy_per_cluster": 100,
            "clusters": "Cluster 2",
            "nth_month": "07e mois"
           },
           {
            "accuracy_per_cluster": 0.9174311926605505,
            "clusters": "Cluster 3",
            "nth_month": "07e mois"
           },
           {
            "accuracy_per_cluster": 100,
            "clusters": "Cluster 4",
            "nth_month": "07e mois"
           },
           {
            "accuracy_per_cluster": 99.85734664764621,
            "clusters": "Cluster 5",
            "nth_month": "07e mois"
           },
           {
            "accuracy_per_cluster": 88.28125,
            "clusters": "Cluster 1",
            "nth_month": "08e mois"
           },
           {
            "accuracy_per_cluster": 100,
            "clusters": "Cluster 2",
            "nth_month": "08e mois"
           },
           {
            "accuracy_per_cluster": 100,
            "clusters": "Cluster 3",
            "nth_month": "08e mois"
           },
           {
            "accuracy_per_cluster": 100,
            "clusters": "Cluster 4",
            "nth_month": "08e mois"
           },
           {
            "accuracy_per_cluster": 99.85734664764621,
            "clusters": "Cluster 5",
            "nth_month": "08e mois"
           },
           {
            "accuracy_per_cluster": 88.28125,
            "clusters": "Cluster 1",
            "nth_month": "09e mois"
           },
           {
            "accuracy_per_cluster": 100,
            "clusters": "Cluster 2",
            "nth_month": "09e mois"
           },
           {
            "accuracy_per_cluster": 100,
            "clusters": "Cluster 3",
            "nth_month": "09e mois"
           },
           {
            "accuracy_per_cluster": 100,
            "clusters": "Cluster 4",
            "nth_month": "09e mois"
           },
           {
            "accuracy_per_cluster": 99.85734664764621,
            "clusters": "Cluster 5",
            "nth_month": "09e mois"
           },
           {
            "accuracy_per_cluster": 88.28125,
            "clusters": "Cluster 1",
            "nth_month": "10e mois"
           },
           {
            "accuracy_per_cluster": 100,
            "clusters": "Cluster 2",
            "nth_month": "10e mois"
           },
           {
            "accuracy_per_cluster": 100,
            "clusters": "Cluster 3",
            "nth_month": "10e mois"
           },
           {
            "accuracy_per_cluster": 100,
            "clusters": "Cluster 4",
            "nth_month": "10e mois"
           },
           {
            "accuracy_per_cluster": 99.85734664764621,
            "clusters": "Cluster 5",
            "nth_month": "10e mois"
           },
           {
            "accuracy_per_cluster": 88.28125,
            "clusters": "Cluster 1",
            "nth_month": "11e mois"
           },
           {
            "accuracy_per_cluster": 100,
            "clusters": "Cluster 2",
            "nth_month": "11e mois"
           },
           {
            "accuracy_per_cluster": 100,
            "clusters": "Cluster 3",
            "nth_month": "11e mois"
           },
           {
            "accuracy_per_cluster": 100,
            "clusters": "Cluster 4",
            "nth_month": "11e mois"
           },
           {
            "accuracy_per_cluster": 99.85734664764621,
            "clusters": "Cluster 5",
            "nth_month": "11e mois"
           },
           {
            "accuracy_per_cluster": 88.28125,
            "clusters": "Cluster 1",
            "nth_month": "12e mois"
           },
           {
            "accuracy_per_cluster": 100,
            "clusters": "Cluster 2",
            "nth_month": "12e mois"
           },
           {
            "accuracy_per_cluster": 100,
            "clusters": "Cluster 3",
            "nth_month": "12e mois"
           },
           {
            "accuracy_per_cluster": 100,
            "clusters": "Cluster 4",
            "nth_month": "12e mois"
           },
           {
            "accuracy_per_cluster": 99.85734664764621,
            "clusters": "Cluster 5",
            "nth_month": "12e mois"
           }
          ]
         },
         "encoding": {
          "color": {
           "field": "clusters",
           "legend": {
            "title": "N° Cluster"
           },
           "scale": {
            "domain": [
             "Cluster 1",
             "Cluster 2",
             "Cluster 3",
             "Cluster 4",
             "Cluster 5"
            ],
            "range": [
             "#9b59b6",
             "#3498db",
             "#95a5a6",
             "#e74c3c",
             "#2ecc71"
            ]
           },
           "type": "nominal"
          },
          "size": {
           "value": 1
          },
          "x": {
           "axis": {
            "labelAngle": -55,
            "title": "Mois"
           },
           "field": "nth_month",
           "type": "nominal"
          },
          "y": {
           "field": "accuracy_per_cluster",
           "type": "quantitative"
          }
         },
         "height": 300,
         "mark": {
          "strokeDash": [
           10,
           5
          ],
          "type": "line"
         },
         "title": "Évolution de la performance de Forêt Aléatoire",
         "width": 450
        },
        {
         "data": {
          "values": [
           {
            "mean_accuracy": 71.46153846153847,
            "nth_month": "01e mois"
           },
           {
            "mean_accuracy": 72.46153846153847,
            "nth_month": "02e mois"
           },
           {
            "mean_accuracy": 72.53846153846155,
            "nth_month": "03e mois"
           },
           {
            "mean_accuracy": 90.23076923076923,
            "nth_month": "04e mois"
           },
           {
            "mean_accuracy": 90.38461538461539,
            "nth_month": "05e mois"
           },
           {
            "mean_accuracy": 90.46153846153845,
            "nth_month": "06e mois"
           },
           {
            "mean_accuracy": 90.46153846153845,
            "nth_month": "07e mois"
           },
           {
            "mean_accuracy": 98.76923076923076,
            "nth_month": "08e mois"
           },
           {
            "mean_accuracy": 98.76923076923076,
            "nth_month": "09e mois"
           },
           {
            "mean_accuracy": 98.76923076923076,
            "nth_month": "10e mois"
           },
           {
            "mean_accuracy": 98.76923076923076,
            "nth_month": "11e mois"
           },
           {
            "mean_accuracy": 98.76923076923076,
            "nth_month": "12e mois"
           }
          ]
         },
         "encoding": {
          "size": {
           "value": 2
          },
          "x": {
           "field": "nth_month",
           "type": "nominal"
          },
          "y": {
           "field": "mean_accuracy",
           "type": "quantitative"
          }
         },
         "mark": {
          "color": "#34495e",
          "type": "line"
         }
        }
       ]
      },
      "image/png": "[encoded data removed]",
      "text/plain": [
       "<VegaLite 2 object>\n",
       "\n",
       "If you see this message, it means the renderer has not been properly enabled\n",
       "for the frontend that you are using. For more information, see\n",
       "https://altair-viz.github.io/user_guide/troubleshooting.html\n"
      ]
     },
     "execution_count": 20,
     "metadata": {},
     "output_type": "execute_result"
    }
   ],
   "source": [
    "results_rf.graph_evolution()"
   ]
  },
  {
   "cell_type": "code",
   "execution_count": 21,
   "metadata": {},
   "outputs": [
    {
     "data": {
      "image/png": "[encoded data removed]",
      "text/plain": [
       "<matplotlib.figure.Figure at 0x1a2ba42dd8>"
      ]
     },
     "metadata": {},
     "output_type": "display_data"
    }
   ],
   "source": [
    "results_rf.confusion_matrix()"
   ]
  },
  {
   "cell_type": "markdown",
   "metadata": {},
   "source": [
    "#### Perceptron Multicouches"
   ]
  },
  {
   "cell_type": "code",
   "execution_count": 22,
   "metadata": {},
   "outputs": [
    {
     "name": "stdout",
     "output_type": "stream",
     "text": [
      "Fitting 10 folds for each of 90 candidates, totalling 900 fits\n"
     ]
    },
    {
     "name": "stderr",
     "output_type": "stream",
     "text": [
      "[Parallel(n_jobs=1)]: Done 900 out of 900 | elapsed:  6.1min finished\n"
     ]
    }
   ],
   "source": [
    "hyperparameters = {'mlp__hidden_layer_sizes': [(5,), (10,), (25,), (50,), (100,), (150,)],\n",
    "                   'mlp__activation': ['relu', 'logistic', 'tanh'],\n",
    "                   'mlp__alpha': [1e-2, 3e-2, 1e-1, 3e-1, 0],}\n",
    "estimator_mlp = Pipeline([('scaler', MinMaxScaler()), \n",
    "                          ('mlp', MLPClassifier(max_iter=10000, early_stopping=True))])\n",
    "grid_mlp = GridSearchCV(estimator_mlp, hyperparameters, scoring='accuracy',\n",
    "                       cv=10, iid=True, verbose=1, n_jobs=1)\n",
    "\n",
    "grid_mlp.fit(X_train, y_train)\n",
    "results_mlp = Classification_Results(grid_mlp.best_estimator_, \"Perceptron Multicouches\",\n",
    "                                    test_sets, y_test, n_clusters)"
   ]
  },
  {
   "cell_type": "code",
   "execution_count": 23,
   "metadata": {},
   "outputs": [
    {
     "data": {
      "application/vnd.vegalite.v2+json": {
       "$schema": "https://vega.github.io/schema/vega-lite/v2.4.1.json",
       "config": {
        "view": {
         "height": 300,
         "width": 400
        }
       },
       "layer": [
        {
         "data": {
          "values": [
           {
            "accuracy_per_cluster": 71.09375,
            "clusters": "Cluster 1",
            "nth_month": "01e mois"
           },
           {
            "accuracy_per_cluster": 100,
            "clusters": "Cluster 2",
            "nth_month": "01e mois"
           },
           {
            "accuracy_per_cluster": 0,
            "clusters": "Cluster 3",
            "nth_month": "01e mois"
           },
           {
            "accuracy_per_cluster": 0,
            "clusters": "Cluster 4",
            "nth_month": "01e mois"
           },
           {
            "accuracy_per_cluster": 99.42938659058488,
            "clusters": "Cluster 5",
            "nth_month": "01e mois"
           },
           {
            "accuracy_per_cluster": 81.25,
            "clusters": "Cluster 1",
            "nth_month": "02e mois"
           },
           {
            "accuracy_per_cluster": 100,
            "clusters": "Cluster 2",
            "nth_month": "02e mois"
           },
           {
            "accuracy_per_cluster": 0,
            "clusters": "Cluster 3",
            "nth_month": "02e mois"
           },
           {
            "accuracy_per_cluster": 0,
            "clusters": "Cluster 4",
            "nth_month": "02e mois"
           },
           {
            "accuracy_per_cluster": 99.71469329529245,
            "clusters": "Cluster 5",
            "nth_month": "02e mois"
           },
           {
            "accuracy_per_cluster": 82.03125,
            "clusters": "Cluster 1",
            "nth_month": "03e mois"
           },
           {
            "accuracy_per_cluster": 100,
            "clusters": "Cluster 2",
            "nth_month": "03e mois"
           },
           {
            "accuracy_per_cluster": 0,
            "clusters": "Cluster 3",
            "nth_month": "03e mois"
           },
           {
            "accuracy_per_cluster": 0,
            "clusters": "Cluster 4",
            "nth_month": "03e mois"
           },
           {
            "accuracy_per_cluster": 100,
            "clusters": "Cluster 5",
            "nth_month": "03e mois"
           },
           {
            "accuracy_per_cluster": 82.03125,
            "clusters": "Cluster 1",
            "nth_month": "04e mois"
           },
           {
            "accuracy_per_cluster": 100,
            "clusters": "Cluster 2",
            "nth_month": "04e mois"
           },
           {
            "accuracy_per_cluster": 0,
            "clusters": "Cluster 3",
            "nth_month": "04e mois"
           },
           {
            "accuracy_per_cluster": 97.05882352941177,
            "clusters": "Cluster 4",
            "nth_month": "04e mois"
           },
           {
            "accuracy_per_cluster": 100,
            "clusters": "Cluster 5",
            "nth_month": "04e mois"
           },
           {
            "accuracy_per_cluster": 82.03125,
            "clusters": "Cluster 1",
            "nth_month": "05e mois"
           },
           {
            "accuracy_per_cluster": 100,
            "clusters": "Cluster 2",
            "nth_month": "05e mois"
           },
           {
            "accuracy_per_cluster": 0.9174311926605505,
            "clusters": "Cluster 3",
            "nth_month": "05e mois"
           },
           {
            "accuracy_per_cluster": 99.57983193277312,
            "clusters": "Cluster 4",
            "nth_month": "05e mois"
           },
           {
            "accuracy_per_cluster": 100,
            "clusters": "Cluster 5",
            "nth_month": "05e mois"
           },
           {
            "accuracy_per_cluster": 82.03125,
            "clusters": "Cluster 1",
            "nth_month": "06e mois"
           },
           {
            "accuracy_per_cluster": 100,
            "clusters": "Cluster 2",
            "nth_month": "06e mois"
           },
           {
            "accuracy_per_cluster": 2.7522935779816518,
            "clusters": "Cluster 3",
            "nth_month": "06e mois"
           },
           {
            "accuracy_per_cluster": 99.57983193277312,
            "clusters": "Cluster 4",
            "nth_month": "06e mois"
           },
           {
            "accuracy_per_cluster": 100,
            "clusters": "Cluster 5",
            "nth_month": "06e mois"
           },
           {
            "accuracy_per_cluster": 82.03125,
            "clusters": "Cluster 1",
            "nth_month": "07e mois"
           },
           {
            "accuracy_per_cluster": 100,
            "clusters": "Cluster 2",
            "nth_month": "07e mois"
           },
           {
            "accuracy_per_cluster": 12.844036697247708,
            "clusters": "Cluster 3",
            "nth_month": "07e mois"
           },
           {
            "accuracy_per_cluster": 98.73949579831933,
            "clusters": "Cluster 4",
            "nth_month": "07e mois"
           },
           {
            "accuracy_per_cluster": 100,
            "clusters": "Cluster 5",
            "nth_month": "07e mois"
           },
           {
            "accuracy_per_cluster": 82.03125,
            "clusters": "Cluster 1",
            "nth_month": "08e mois"
           },
           {
            "accuracy_per_cluster": 100,
            "clusters": "Cluster 2",
            "nth_month": "08e mois"
           },
           {
            "accuracy_per_cluster": 91.74311926605505,
            "clusters": "Cluster 3",
            "nth_month": "08e mois"
           },
           {
            "accuracy_per_cluster": 98.73949579831933,
            "clusters": "Cluster 4",
            "nth_month": "08e mois"
           },
           {
            "accuracy_per_cluster": 100,
            "clusters": "Cluster 5",
            "nth_month": "08e mois"
           },
           {
            "accuracy_per_cluster": 82.03125,
            "clusters": "Cluster 1",
            "nth_month": "09e mois"
           },
           {
            "accuracy_per_cluster": 100,
            "clusters": "Cluster 2",
            "nth_month": "09e mois"
           },
           {
            "accuracy_per_cluster": 94.4954128440367,
            "clusters": "Cluster 3",
            "nth_month": "09e mois"
           },
           {
            "accuracy_per_cluster": 98.73949579831933,
            "clusters": "Cluster 4",
            "nth_month": "09e mois"
           },
           {
            "accuracy_per_cluster": 100,
            "clusters": "Cluster 5",
            "nth_month": "09e mois"
           },
           {
            "accuracy_per_cluster": 82.03125,
            "clusters": "Cluster 1",
            "nth_month": "10e mois"
           },
           {
            "accuracy_per_cluster": 100,
            "clusters": "Cluster 2",
            "nth_month": "10e mois"
           },
           {
            "accuracy_per_cluster": 94.4954128440367,
            "clusters": "Cluster 3",
            "nth_month": "10e mois"
           },
           {
            "accuracy_per_cluster": 98.73949579831933,
            "clusters": "Cluster 4",
            "nth_month": "10e mois"
           },
           {
            "accuracy_per_cluster": 100,
            "clusters": "Cluster 5",
            "nth_month": "10e mois"
           },
           {
            "accuracy_per_cluster": 82.03125,
            "clusters": "Cluster 1",
            "nth_month": "11e mois"
           },
           {
            "accuracy_per_cluster": 100,
            "clusters": "Cluster 2",
            "nth_month": "11e mois"
           },
           {
            "accuracy_per_cluster": 94.4954128440367,
            "clusters": "Cluster 3",
            "nth_month": "11e mois"
           },
           {
            "accuracy_per_cluster": 98.73949579831933,
            "clusters": "Cluster 4",
            "nth_month": "11e mois"
           },
           {
            "accuracy_per_cluster": 100,
            "clusters": "Cluster 5",
            "nth_month": "11e mois"
           },
           {
            "accuracy_per_cluster": 82.03125,
            "clusters": "Cluster 1",
            "nth_month": "12e mois"
           },
           {
            "accuracy_per_cluster": 100,
            "clusters": "Cluster 2",
            "nth_month": "12e mois"
           },
           {
            "accuracy_per_cluster": 94.4954128440367,
            "clusters": "Cluster 3",
            "nth_month": "12e mois"
           },
           {
            "accuracy_per_cluster": 98.73949579831933,
            "clusters": "Cluster 4",
            "nth_month": "12e mois"
           },
           {
            "accuracy_per_cluster": 100,
            "clusters": "Cluster 5",
            "nth_month": "12e mois"
           }
          ]
         },
         "encoding": {
          "color": {
           "field": "clusters",
           "legend": {
            "title": "N° Cluster"
           },
           "scale": {
            "domain": [
             "Cluster 1",
             "Cluster 2",
             "Cluster 3",
             "Cluster 4",
             "Cluster 5"
            ],
            "range": [
             "#9b59b6",
             "#3498db",
             "#95a5a6",
             "#e74c3c",
             "#2ecc71"
            ]
           },
           "type": "nominal"
          },
          "size": {
           "value": 1
          },
          "x": {
           "axis": {
            "labelAngle": -55,
            "title": "Mois"
           },
           "field": "nth_month",
           "type": "nominal"
          },
          "y": {
           "field": "accuracy_per_cluster",
           "type": "quantitative"
          }
         },
         "height": 300,
         "mark": {
          "strokeDash": [
           10,
           5
          ],
          "type": "line"
         },
         "title": "Évolution de la performance de Perceptron Multicouches",
         "width": 450
        },
        {
         "data": {
          "values": [
           {
            "mean_accuracy": 70.15384615384616,
            "nth_month": "01e mois"
           },
           {
            "mean_accuracy": 71.3076923076923,
            "nth_month": "02e mois"
           },
           {
            "mean_accuracy": 71.53846153846153,
            "nth_month": "03e mois"
           },
           {
            "mean_accuracy": 89.3076923076923,
            "nth_month": "04e mois"
           },
           {
            "mean_accuracy": 89.84615384615384,
            "nth_month": "05e mois"
           },
           {
            "mean_accuracy": 90,
            "nth_month": "06e mois"
           },
           {
            "mean_accuracy": 90.6923076923077,
            "nth_month": "07e mois"
           },
           {
            "mean_accuracy": 97.3076923076923,
            "nth_month": "08e mois"
           },
           {
            "mean_accuracy": 97.53846153846155,
            "nth_month": "09e mois"
           },
           {
            "mean_accuracy": 97.53846153846155,
            "nth_month": "10e mois"
           },
           {
            "mean_accuracy": 97.53846153846155,
            "nth_month": "11e mois"
           },
           {
            "mean_accuracy": 97.53846153846155,
            "nth_month": "12e mois"
           }
          ]
         },
         "encoding": {
          "size": {
           "value": 2
          },
          "x": {
           "field": "nth_month",
           "type": "nominal"
          },
          "y": {
           "field": "mean_accuracy",
           "type": "quantitative"
          }
         },
         "mark": {
          "color": "#34495e",
          "type": "line"
         }
        }
       ]
      },
      "image/png": "[encoded data removed]",
      "text/plain": [
       "<VegaLite 2 object>\n",
       "\n",
       "If you see this message, it means the renderer has not been properly enabled\n",
       "for the frontend that you are using. For more information, see\n",
       "https://altair-viz.github.io/user_guide/troubleshooting.html\n"
      ]
     },
     "execution_count": 23,
     "metadata": {},
     "output_type": "execute_result"
    }
   ],
   "source": [
    "results_mlp.graph_evolution()"
   ]
  },
  {
   "cell_type": "code",
   "execution_count": 24,
   "metadata": {},
   "outputs": [
    {
     "data": {
      "image/png": "[encoded data removed]",
      "text/plain": [
       "<matplotlib.figure.Figure at 0x1a1831b208>"
      ]
     },
     "metadata": {},
     "output_type": "display_data"
    }
   ],
   "source": [
    "results_mlp.confusion_matrix()"
   ]
  },
  {
   "cell_type": "markdown",
   "metadata": {},
   "source": [
    "### Interprétations et conclusions"
   ]
  },
  {
   "cell_type": "markdown",
   "metadata": {},
   "source": [
    "Le meilleur classifieur est la Machine à Support de Vecteurs avec les hyperparamètres suivants"
   ]
  },
  {
   "cell_type": "code",
   "execution_count": 25,
   "metadata": {},
   "outputs": [
    {
     "data": {
      "text/plain": [
       "{'svc__C': 30, 'svc__kernel': 'linear'}"
      ]
     },
     "execution_count": 25,
     "metadata": {},
     "output_type": "execute_result"
    }
   ],
   "source": [
    "grid_svc.best_params_"
   ]
  },
  {
   "cell_type": "markdown",
   "metadata": {},
   "source": [
    "Il approche les 100% de taux de classification sur l'ensemble des données, et réussi à correctement identifier toutes les instances de tous les clusters sauf 10% d'instances du `Cluster 1`."
   ]
  },
  {
   "cell_type": "markdown",
   "metadata": {},
   "source": [
    "Nous pouvons observer sur tous les graphiques d'évolution de performance que la classification de catégories est très convenable dès le début : les clusters des Entreposeurs et des Internationaux. En effet, les variables liéés à leurs caractéristiques principales (peu de produits, acheteurs ponctuels, hors du Royaume-Uni) sont déjà discriminantes."
   ]
  },
  {
   "cell_type": "code",
   "execution_count": 26,
   "metadata": {},
   "outputs": [
    {
     "data": {
      "image/png": "[encoded data removed]",
      "text/plain": [
       "<matplotlib.figure.Figure at 0x1a181b1c18>"
      ]
     },
     "metadata": {},
     "output_type": "display_data"
    }
   ],
   "source": [
    "results_svc.confusion_matrix(n=0)"
   ]
  },
  {
   "cell_type": "markdown",
   "metadata": {},
   "source": [
    "Cependant, pour les 3 autres clusters, nous observons une décantation progressive: les One-Timers englobent aussi les Occasionnels et Fidèles au départ. Au fur et à mesure que l'on prend en compte d'autres  mois de factures, alors on arrive à correctement classifier les acheteurs Occassionnels à partir du 4e mois"
   ]
  },
  {
   "cell_type": "code",
   "execution_count": 27,
   "metadata": {},
   "outputs": [
    {
     "data": {
      "image/png": "[encoded data removed]",
      "text/plain": [
       "<matplotlib.figure.Figure at 0x1a2ba60a58>"
      ]
     },
     "metadata": {},
     "output_type": "display_data"
    }
   ],
   "source": [
    "results_svc.confusion_matrix(n=3)"
   ]
  },
  {
   "cell_type": "markdown",
   "metadata": {},
   "source": [
    "Enfin, au 8e mois, les Fidèles sont affectés au bon cluster. Cette décantation s'explique par le fait que plus de factures sont prises en compte, plus les valeurs des descripteurs créés à partir des achats considérés s'adaptent se rapprochent des valeurs discriminantes apprises par les modèles pour créer leurs frontières de décision."
   ]
  },
  {
   "cell_type": "code",
   "execution_count": 28,
   "metadata": {},
   "outputs": [
    {
     "data": {
      "image/png": "[encoded data removed]",
      "text/plain": [
       "<matplotlib.figure.Figure at 0x1a2baae630>"
      ]
     },
     "metadata": {},
     "output_type": "display_data"
    }
   ],
   "source": [
    "results_svc.confusion_matrix(n=7)"
   ]
  },
  {
   "cell_type": "code",
   "execution_count": 29,
   "metadata": {},
   "outputs": [
    {
     "data": {
      "image/png": "[encoded data removed]",
      "text/plain": [
       "<matplotlib.figure.Figure at 0x1a17c23eb8>"
      ]
     },
     "metadata": {},
     "output_type": "display_data"
    }
   ],
   "source": [
    "results_svc.confusion_matrix(n=7)"
   ]
  },
  {
   "cell_type": "markdown",
   "metadata": {},
   "source": [
    "Pour finir, nous sauvegardons notre meilleur modèle afin de pouvoir l'utiliser dans notre programme `customer_classes` qui prend en entrée une série temporelle d'achats et prédit la classe d'appartenances des clients."
   ]
  },
  {
   "cell_type": "code",
   "execution_count": 30,
   "metadata": {},
   "outputs": [],
   "source": [
    "with open('best_model.pkl', 'wb') as f:\n",
    "    pickle.dump(grid_svc.best_estimator_, f)"
   ]
  }
 ],
 "metadata": {
  "kernelspec": {
   "display_name": "Python 3",
   "language": "python",
   "name": "python3"
  },
  "language_info": {
   "codemirror_mode": {
    "name": "ipython",
    "version": 3
   },
   "file_extension": ".py",
   "mimetype": "text/x-python",
   "name": "python",
   "nbconvert_exporter": "python",
   "pygments_lexer": "ipython3",
   "version": "3.6.3"
  }
 },
 "nbformat": 4,
 "nbformat_minor": 2
}
