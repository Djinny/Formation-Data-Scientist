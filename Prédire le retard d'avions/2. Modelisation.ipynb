{
 "cells": [
  {
   "cell_type": "markdown",
   "metadata": {},
   "source": [
    "# Notebook de Modélisation"
   ]
  },
  {
   "cell_type": "markdown",
   "metadata": {},
   "source": [
    "Librairies et paramétrages utilisés au long du notebook"
   ]
  },
  {
   "cell_type": "code",
   "execution_count": 1,
   "metadata": {},
   "outputs": [],
   "source": [
    "import warnings\n",
    "import pickle\n",
    "import dill\n",
    "from collections import defaultdict\n",
    "\n",
    "import pandas as pd\n",
    "import numpy as np\n",
    "from scipy import sparse\n",
    "\n",
    "import matplotlib.pyplot as plt\n",
    "import seaborn as sns\n",
    "\n",
    "from sklearn.pipeline import Pipeline\n",
    "from sklearn.preprocessing import StandardScaler, OneHotEncoder, LabelEncoder\n",
    "from sklearn.model_selection import train_test_split, cross_val_score, KFold, GridSearchCV\n",
    "from sklearn.base import BaseEstimator, TransformerMixin\n",
    "\n",
    "from sklearn.metrics import mean_absolute_error, mean_squared_error\n",
    "from sklearn.dummy import DummyRegressor\n",
    "from sklearn.linear_model import SGDRegressor\n",
    "from sklearn.ensemble import RandomForestRegressor"
   ]
  },
  {
   "cell_type": "code",
   "execution_count": 2,
   "metadata": {},
   "outputs": [],
   "source": [
    "%matplotlib inline\n",
    "warnings.filterwarnings('ignore')"
   ]
  },
  {
   "cell_type": "markdown",
   "metadata": {},
   "source": [
    "Chargement des données et affichage des premières lignes"
   ]
  },
  {
   "cell_type": "code",
   "execution_count": 3,
   "metadata": {
    "scrolled": true
   },
   "outputs": [
    {
     "data": {
      "text/html": [
       "<div>\n",
       "<style>\n",
       "    .dataframe thead tr:only-child th {\n",
       "        text-align: right;\n",
       "    }\n",
       "\n",
       "    .dataframe thead th {\n",
       "        text-align: left;\n",
       "    }\n",
       "\n",
       "    .dataframe tbody tr th {\n",
       "        vertical-align: top;\n",
       "    }\n",
       "</style>\n",
       "<table border=\"1\" class=\"dataframe\">\n",
       "  <thead>\n",
       "    <tr style=\"text-align: right;\">\n",
       "      <th></th>\n",
       "      <th>MONTH</th>\n",
       "      <th>DAY_OF_MONTH</th>\n",
       "      <th>DAY_OF_WEEK</th>\n",
       "      <th>CARRIER</th>\n",
       "      <th>ORIGIN</th>\n",
       "      <th>DEST</th>\n",
       "      <th>DISTANCE</th>\n",
       "      <th>DEP_TIME</th>\n",
       "      <th>ARR_TIME</th>\n",
       "      <th>ELAPSED_TIME</th>\n",
       "      <th>DELAY</th>\n",
       "      <th>TO_HOLIDAYS</th>\n",
       "    </tr>\n",
       "  </thead>\n",
       "  <tbody>\n",
       "    <tr>\n",
       "      <th>0</th>\n",
       "      <td>1</td>\n",
       "      <td>6</td>\n",
       "      <td>3</td>\n",
       "      <td>AA</td>\n",
       "      <td>DFW</td>\n",
       "      <td>DTW</td>\n",
       "      <td>986.0</td>\n",
       "      <td>11</td>\n",
       "      <td>14</td>\n",
       "      <td>158.0</td>\n",
       "      <td>-6.0</td>\n",
       "      <td>5</td>\n",
       "    </tr>\n",
       "    <tr>\n",
       "      <th>1</th>\n",
       "      <td>1</td>\n",
       "      <td>7</td>\n",
       "      <td>4</td>\n",
       "      <td>AA</td>\n",
       "      <td>DFW</td>\n",
       "      <td>DTW</td>\n",
       "      <td>986.0</td>\n",
       "      <td>11</td>\n",
       "      <td>14</td>\n",
       "      <td>158.0</td>\n",
       "      <td>-12.0</td>\n",
       "      <td>6</td>\n",
       "    </tr>\n",
       "    <tr>\n",
       "      <th>2</th>\n",
       "      <td>1</td>\n",
       "      <td>8</td>\n",
       "      <td>5</td>\n",
       "      <td>AA</td>\n",
       "      <td>DFW</td>\n",
       "      <td>DTW</td>\n",
       "      <td>986.0</td>\n",
       "      <td>11</td>\n",
       "      <td>14</td>\n",
       "      <td>158.0</td>\n",
       "      <td>7.0</td>\n",
       "      <td>7</td>\n",
       "    </tr>\n",
       "    <tr>\n",
       "      <th>3</th>\n",
       "      <td>1</td>\n",
       "      <td>9</td>\n",
       "      <td>6</td>\n",
       "      <td>AA</td>\n",
       "      <td>DFW</td>\n",
       "      <td>DTW</td>\n",
       "      <td>986.0</td>\n",
       "      <td>11</td>\n",
       "      <td>14</td>\n",
       "      <td>158.0</td>\n",
       "      <td>-5.0</td>\n",
       "      <td>8</td>\n",
       "    </tr>\n",
       "    <tr>\n",
       "      <th>5</th>\n",
       "      <td>1</td>\n",
       "      <td>11</td>\n",
       "      <td>1</td>\n",
       "      <td>AA</td>\n",
       "      <td>DFW</td>\n",
       "      <td>DTW</td>\n",
       "      <td>986.0</td>\n",
       "      <td>11</td>\n",
       "      <td>14</td>\n",
       "      <td>158.0</td>\n",
       "      <td>-3.0</td>\n",
       "      <td>7</td>\n",
       "    </tr>\n",
       "  </tbody>\n",
       "</table>\n",
       "</div>"
      ],
      "text/plain": [
       "   MONTH  DAY_OF_MONTH  DAY_OF_WEEK CARRIER ORIGIN DEST  DISTANCE  DEP_TIME  \\\n",
       "0      1             6            3      AA    DFW  DTW     986.0        11   \n",
       "1      1             7            4      AA    DFW  DTW     986.0        11   \n",
       "2      1             8            5      AA    DFW  DTW     986.0        11   \n",
       "3      1             9            6      AA    DFW  DTW     986.0        11   \n",
       "5      1            11            1      AA    DFW  DTW     986.0        11   \n",
       "\n",
       "   ARR_TIME  ELAPSED_TIME  DELAY  TO_HOLIDAYS  \n",
       "0        14         158.0   -6.0            5  \n",
       "1        14         158.0  -12.0            6  \n",
       "2        14         158.0    7.0            7  \n",
       "3        14         158.0   -5.0            8  \n",
       "5        14         158.0   -3.0            7  "
      ]
     },
     "execution_count": 3,
     "metadata": {},
     "output_type": "execute_result"
    }
   ],
   "source": [
    "data = pd.read_csv('data/final_data.csv', index_col=[0])\n",
    "data.head()"
   ]
  },
  {
   "cell_type": "markdown",
   "metadata": {},
   "source": [
    "## Préparation des données"
   ]
  },
  {
   "cell_type": "markdown",
   "metadata": {},
   "source": [
    "Ici, notre but est de mettre les données dans le format adapté afin qu'elles puissent servir d'entrée à nos modèles plus tard.\n",
    "\n",
    "Premièrement, binarisons chacune de nos variables catégorielles"
   ]
  },
  {
   "cell_type": "code",
   "execution_count": 4,
   "metadata": {},
   "outputs": [
    {
     "data": {
      "text/html": [
       "<div>\n",
       "<style>\n",
       "    .dataframe thead tr:only-child th {\n",
       "        text-align: right;\n",
       "    }\n",
       "\n",
       "    .dataframe thead th {\n",
       "        text-align: left;\n",
       "    }\n",
       "\n",
       "    .dataframe tbody tr th {\n",
       "        vertical-align: top;\n",
       "    }\n",
       "</style>\n",
       "<table border=\"1\" class=\"dataframe\">\n",
       "  <thead>\n",
       "    <tr style=\"text-align: right;\">\n",
       "      <th></th>\n",
       "      <th>CARRIER</th>\n",
       "      <th>ORIGIN</th>\n",
       "      <th>DEST</th>\n",
       "    </tr>\n",
       "  </thead>\n",
       "  <tbody>\n",
       "    <tr>\n",
       "      <th>5635973</th>\n",
       "      <td>11</td>\n",
       "      <td>296</td>\n",
       "      <td>167</td>\n",
       "    </tr>\n",
       "    <tr>\n",
       "      <th>5635974</th>\n",
       "      <td>11</td>\n",
       "      <td>296</td>\n",
       "      <td>167</td>\n",
       "    </tr>\n",
       "    <tr>\n",
       "      <th>5635975</th>\n",
       "      <td>11</td>\n",
       "      <td>296</td>\n",
       "      <td>186</td>\n",
       "    </tr>\n",
       "    <tr>\n",
       "      <th>5635976</th>\n",
       "      <td>11</td>\n",
       "      <td>296</td>\n",
       "      <td>259</td>\n",
       "    </tr>\n",
       "    <tr>\n",
       "      <th>5635977</th>\n",
       "      <td>11</td>\n",
       "      <td>296</td>\n",
       "      <td>259</td>\n",
       "    </tr>\n",
       "  </tbody>\n",
       "</table>\n",
       "</div>"
      ],
      "text/plain": [
       "         CARRIER  ORIGIN  DEST\n",
       "5635973       11     296   167\n",
       "5635974       11     296   167\n",
       "5635975       11     296   186\n",
       "5635976       11     296   259\n",
       "5635977       11     296   259"
      ]
     },
     "execution_count": 4,
     "metadata": {},
     "output_type": "execute_result"
    }
   ],
   "source": [
    "nominal_encoder = defaultdict(LabelEncoder)\n",
    "nominal_cols = ['CARRIER', 'ORIGIN', 'DEST']\n",
    "data[nominal_cols] = (data[nominal_cols]\n",
    "                      .apply(lambda x: nominal_encoder[x.name].fit_transform(x)))\n",
    "\n",
    "data[nominal_cols].tail()"
   ]
  },
  {
   "cell_type": "code",
   "execution_count": 5,
   "metadata": {},
   "outputs": [
    {
     "data": {
      "text/plain": [
       "(5074732, 731)"
      ]
     },
     "execution_count": 5,
     "metadata": {},
     "output_type": "execute_result"
    }
   ],
   "source": [
    "categorical_cols = ['MONTH', 'DAY_OF_MONTH', 'DAY_OF_WEEK', 'DEP_TIME', 'ARR_TIME'] + nominal_cols\n",
    "categorical_encoder = OneHotEncoder()\n",
    "categoricals = categorical_encoder.fit_transform(data[categorical_cols])\n",
    "categoricals.shape"
   ]
  },
  {
   "cell_type": "markdown",
   "metadata": {},
   "source": [
    "Étant donné les très grandes dimensions de notre jeu de données résultant, celui-ci a été converti dans un format de matrice creuse pour occuper le moins d'espace mémoire possible"
   ]
  },
  {
   "cell_type": "markdown",
   "metadata": {},
   "source": [
    "Mettons nos attributs numériques au même format de données."
   ]
  },
  {
   "cell_type": "code",
   "execution_count": 6,
   "metadata": {},
   "outputs": [
    {
     "data": {
      "text/plain": [
       "(5074732, 3)"
      ]
     },
     "execution_count": 6,
     "metadata": {},
     "output_type": "execute_result"
    }
   ],
   "source": [
    "numeric_cols = ['DISTANCE', 'ELAPSED_TIME', 'TO_HOLIDAYS']\n",
    "\n",
    "numericals = sparse.csr_matrix(data[numeric_cols])\n",
    "numericals.shape"
   ]
  },
  {
   "cell_type": "markdown",
   "metadata": {},
   "source": [
    "Maintenant, joignons nos deux matrices pour obtenir une matrice de variables explicatives entière. Récupérons notre variable cible dans un objet vecteur à part."
   ]
  },
  {
   "cell_type": "code",
   "execution_count": 7,
   "metadata": {},
   "outputs": [
    {
     "data": {
      "text/plain": [
       "(5074732, 734)"
      ]
     },
     "execution_count": 7,
     "metadata": {},
     "output_type": "execute_result"
    }
   ],
   "source": [
    "X = sparse.hstack([numericals, categoricals], format='csr')\n",
    "y = data['DELAY'].values\n",
    "\n",
    "X.shape"
   ]
  },
  {
   "cell_type": "code",
   "execution_count": 8,
   "metadata": {},
   "outputs": [],
   "source": [
    "X_train, X_test, y_train, y_test = train_test_split(X, y, train_size=0.8, test_size=0.2)"
   ]
  },
  {
   "cell_type": "markdown",
   "metadata": {},
   "source": [
    "Nous créons notre classe de normalisation personnalisée afin:\n",
    "- de ne cibler que les variables numériques (dans les 3 premières colonnes)\n",
    "- d'adapter la classe initiale de sklearn au format de matrice creuse"
   ]
  },
  {
   "cell_type": "code",
   "execution_count": 9,
   "metadata": {},
   "outputs": [],
   "source": [
    "class Scaler(BaseEstimator, TransformerMixin):\n",
    "    def __init__(self):\n",
    "        self.scaler = StandardScaler()\n",
    "    def fit(self, X, y=None):\n",
    "        x_numericals = X[:, 0:3].toarray()\n",
    "        self.scaler.fit(x_numericals)\n",
    "        return self\n",
    "    def transform(self, X):\n",
    "        x_numericals = X[:, 0:3].toarray()\n",
    "        # x_scaled = sparse.csr_matrix(self.scaler.transform(x_numericals))\n",
    "        x_scaled = self.scaler.transform(x_numericals)\n",
    "        X[:, 0:3] = x_scaled\n",
    "        return X"
   ]
  },
  {
   "cell_type": "markdown",
   "metadata": {},
   "source": [
    "## Modèle de base"
   ]
  },
  {
   "cell_type": "markdown",
   "metadata": {},
   "source": [
    "Dans un premier temps, afin de pouvoir plus tard juger de l'utilité de nos modèles, de leur rapport performance/complexité, évaluons un modèle simple: celui-ci se contentra de prédire pour chaque observation la moyenne de la variable cible.\n",
    "\n",
    "Calculons cette moyenne sur les données d'entrainement"
   ]
  },
  {
   "cell_type": "code",
   "execution_count": 10,
   "metadata": {},
   "outputs": [
    {
     "data": {
      "text/plain": [
       "Pipeline(memory=None,\n",
       "     steps=[('scaler', Scaler()), ('regression', DummyRegressor(constant=None, quantile=None, strategy='mean'))])"
      ]
     },
     "execution_count": 10,
     "metadata": {},
     "output_type": "execute_result"
    }
   ],
   "source": [
    "baseline = Pipeline([\n",
    "    ('scaler', Scaler()),\n",
    "    ('regression', DummyRegressor(strategy='mean'))\n",
    "])\n",
    "\n",
    "baseline.fit(X_train, y_train)"
   ]
  },
  {
   "cell_type": "markdown",
   "metadata": {},
   "source": [
    "Évaluons l'erreur moyenne sur les données de validation"
   ]
  },
  {
   "cell_type": "code",
   "execution_count": 11,
   "metadata": {},
   "outputs": [
    {
     "name": "stdout",
     "output_type": "stream",
     "text": [
      "MAE:  11.075987137384892\n",
      "RMSE:  14.388644481434344\n"
     ]
    }
   ],
   "source": [
    "y_predict = baseline.predict(X_test)\n",
    "MAE = mean_absolute_error(y_test, y_predict)\n",
    "RMSE = np.sqrt(mean_squared_error(y_test, y_predict))\n",
    "\n",
    "print('MAE: ', MAE)\n",
    "print('RMSE: ', RMSE)"
   ]
  },
  {
   "cell_type": "markdown",
   "metadata": {},
   "source": [
    "## Régression linéaire"
   ]
  },
  {
   "cell_type": "markdown",
   "metadata": {},
   "source": [
    "Utilisons les méthodes de cross-validation et de grid-search pour chercher la combinaison d'hyperparamètres pour avoir le meilleur modèle de régression pénalité. Le MAE est notre métrique de choix. Les différents hyperparamètres sur lesquels nous \"jouons\" influent:\n",
    "- sur le poids de la pénalité dans la fonction de coût prise en compte lors du processus d'optimisation des modèles (alpha)\n",
    "- sur le type de pénalité que l'on souhaite: entre régression `ridge` et régression `lasso`, ou une combinaison des deux"
   ]
  },
  {
   "cell_type": "code",
   "execution_count": 12,
   "metadata": {
    "scrolled": true
   },
   "outputs": [
    {
     "name": "stdout",
     "output_type": "stream",
     "text": [
      "Fitting 10 folds for each of 5 candidates, totalling 50 fits\n",
      "[CV] regression__alpha=1e-05, regression__l1_ratio=0 .................\n",
      "[CV] regression__alpha=1e-05, regression__l1_ratio=0 .................\n",
      "[CV] regression__alpha=1e-05, regression__l1_ratio=0 .................\n",
      "[CV] regression__alpha=1e-05, regression__l1_ratio=0 .................\n",
      "[CV] regression__alpha=1e-05, regression__l1_ratio=0 .................\n",
      "[CV] regression__alpha=1e-05, regression__l1_ratio=0 .................\n",
      "[CV] regression__alpha=1e-05, regression__l1_ratio=0 .................\n",
      "[CV] regression__alpha=1e-05, regression__l1_ratio=0 .................\n",
      "[CV] .. regression__alpha=1e-05, regression__l1_ratio=0, total= 4.2min\n",
      "[CV] regression__alpha=1e-05, regression__l1_ratio=0 .................\n",
      "[CV] .. regression__alpha=1e-05, regression__l1_ratio=0, total= 4.4min\n",
      "[CV] regression__alpha=1e-05, regression__l1_ratio=0 .................\n",
      "[CV] .. regression__alpha=1e-05, regression__l1_ratio=0, total= 4.4min\n",
      "[CV] regression__alpha=1e-05, regression__l1_ratio=0.25 ..............\n",
      "[CV] .. regression__alpha=1e-05, regression__l1_ratio=0, total= 4.4min\n",
      "[CV] regression__alpha=1e-05, regression__l1_ratio=0.25 ..............\n",
      "[CV] .. regression__alpha=1e-05, regression__l1_ratio=0, total= 4.7min\n",
      "[CV] regression__alpha=1e-05, regression__l1_ratio=0.25 ..............\n",
      "[CV] .. regression__alpha=1e-05, regression__l1_ratio=0, total= 5.0min\n",
      "[CV] regression__alpha=1e-05, regression__l1_ratio=0.25 ..............\n",
      "[CV] .. regression__alpha=1e-05, regression__l1_ratio=0, total= 5.0min\n",
      "[CV] regression__alpha=1e-05, regression__l1_ratio=0.25 ..............\n",
      "[CV] .. regression__alpha=1e-05, regression__l1_ratio=0, total= 5.2min\n",
      "[CV] regression__alpha=1e-05, regression__l1_ratio=0.25 ..............\n",
      "[CV] .. regression__alpha=1e-05, regression__l1_ratio=0, total= 4.2min\n",
      "[CV] regression__alpha=1e-05, regression__l1_ratio=0.25 ..............\n",
      "[CV]  regression__alpha=1e-05, regression__l1_ratio=0.25, total= 4.2min\n",
      "[CV] regression__alpha=1e-05, regression__l1_ratio=0.25 ..............\n",
      "[CV]  regression__alpha=1e-05, regression__l1_ratio=0.25, total= 4.3min\n",
      "[CV] regression__alpha=1e-05, regression__l1_ratio=0.25 ..............\n",
      "[CV] .. regression__alpha=1e-05, regression__l1_ratio=0, total= 4.8min\n",
      "[CV] regression__alpha=1e-05, regression__l1_ratio=0.25 ..............\n",
      "[CV]  regression__alpha=1e-05, regression__l1_ratio=0.25, total= 4.3min\n",
      "[CV] regression__alpha=1e-05, regression__l1_ratio=0.5 ...............\n",
      "[CV]  regression__alpha=1e-05, regression__l1_ratio=0.25, total= 4.9min\n",
      "[CV] regression__alpha=1e-05, regression__l1_ratio=0.5 ...............\n",
      "[CV]  regression__alpha=1e-05, regression__l1_ratio=0.25, total= 4.8min\n",
      "[CV] regression__alpha=1e-05, regression__l1_ratio=0.5 ...............\n",
      "[CV]  regression__alpha=1e-05, regression__l1_ratio=0.25, total= 5.3min\n",
      "[CV] regression__alpha=1e-05, regression__l1_ratio=0.5 ...............\n",
      "[CV]  regression__alpha=1e-05, regression__l1_ratio=0.25, total= 4.3min\n",
      "[CV] regression__alpha=1e-05, regression__l1_ratio=0.5 ...............\n",
      "[CV]  regression__alpha=1e-05, regression__l1_ratio=0.25, total= 4.6min\n",
      "[CV] regression__alpha=1e-05, regression__l1_ratio=0.5 ...............\n",
      "[CV]  regression__alpha=1e-05, regression__l1_ratio=0.25, total= 4.4min\n",
      "[CV] regression__alpha=1e-05, regression__l1_ratio=0.5 ...............\n",
      "[CV]  regression__alpha=1e-05, regression__l1_ratio=0.5, total= 4.1min\n",
      "[CV] regression__alpha=1e-05, regression__l1_ratio=0.5 ...............\n",
      "[CV]  regression__alpha=1e-05, regression__l1_ratio=0.25, total= 4.9min\n",
      "[CV] regression__alpha=1e-05, regression__l1_ratio=0.5 ...............\n",
      "[CV]  regression__alpha=1e-05, regression__l1_ratio=0.5, total= 4.9min\n",
      "[CV]  regression__alpha=1e-05, regression__l1_ratio=0.5, total= 4.3min\n",
      "[CV] regression__alpha=1e-05, regression__l1_ratio=0.5 ...............\n",
      "[CV] regression__alpha=1e-05, regression__l1_ratio=0.75 ..............\n",
      "[CV]  regression__alpha=1e-05, regression__l1_ratio=0.5, total= 4.3min\n",
      "[CV] regression__alpha=1e-05, regression__l1_ratio=0.75 ..............\n",
      "[CV]  regression__alpha=1e-05, regression__l1_ratio=0.5, total= 4.9min\n"
     ]
    },
    {
     "name": "stderr",
     "output_type": "stream",
     "text": [
      "[Parallel(n_jobs=-1)]: Done  25 tasks      | elapsed: 18.0min\n"
     ]
    },
    {
     "name": "stdout",
     "output_type": "stream",
     "text": [
      "[CV] regression__alpha=1e-05, regression__l1_ratio=0.75 ..............\n",
      "[CV]  regression__alpha=1e-05, regression__l1_ratio=0.5, total= 4.3min\n",
      "[CV] regression__alpha=1e-05, regression__l1_ratio=0.75 ..............\n",
      "[CV]  regression__alpha=1e-05, regression__l1_ratio=0.5, total= 4.6min\n",
      "[CV] regression__alpha=1e-05, regression__l1_ratio=0.75 ..............\n",
      "[CV]  regression__alpha=1e-05, regression__l1_ratio=0.5, total= 5.3min\n",
      "[CV] regression__alpha=1e-05, regression__l1_ratio=0.75 ..............\n",
      "[CV]  regression__alpha=1e-05, regression__l1_ratio=0.5, total= 4.4min\n",
      "[CV] regression__alpha=1e-05, regression__l1_ratio=0.75 ..............\n",
      "[CV]  regression__alpha=1e-05, regression__l1_ratio=0.75, total= 4.2min\n",
      "[CV] regression__alpha=1e-05, regression__l1_ratio=0.75 ..............\n",
      "[CV]  regression__alpha=1e-05, regression__l1_ratio=0.5, total= 4.9min\n",
      "[CV] regression__alpha=1e-05, regression__l1_ratio=0.75 ..............\n",
      "[CV]  regression__alpha=1e-05, regression__l1_ratio=0.75, total= 4.9min\n",
      "[CV] regression__alpha=1e-05, regression__l1_ratio=0.75 ..............\n",
      "[CV]  regression__alpha=1e-05, regression__l1_ratio=0.75, total= 4.3min\n",
      "[CV] regression__alpha=1e-05, regression__l1_ratio=1 .................\n",
      "[CV]  regression__alpha=1e-05, regression__l1_ratio=0.75, total= 4.3min\n",
      "[CV] regression__alpha=1e-05, regression__l1_ratio=1 .................\n",
      "[CV]  regression__alpha=1e-05, regression__l1_ratio=0.75, total= 4.8min\n",
      "[CV] regression__alpha=1e-05, regression__l1_ratio=1 .................\n",
      "[CV]  regression__alpha=1e-05, regression__l1_ratio=0.75, total= 4.5min\n",
      "[CV] regression__alpha=1e-05, regression__l1_ratio=1 .................\n",
      "[CV]  regression__alpha=1e-05, regression__l1_ratio=0.75, total= 4.2min\n",
      "[CV] regression__alpha=1e-05, regression__l1_ratio=1 .................\n",
      "[CV]  regression__alpha=1e-05, regression__l1_ratio=0.75, total= 4.4min\n",
      "[CV] regression__alpha=1e-05, regression__l1_ratio=1 .................\n",
      "[CV]  regression__alpha=1e-05, regression__l1_ratio=0.75, total= 5.3min\n",
      "[CV] regression__alpha=1e-05, regression__l1_ratio=1 .................\n",
      "[CV]  regression__alpha=1e-05, regression__l1_ratio=0.75, total= 4.9min\n",
      "[CV] regression__alpha=1e-05, regression__l1_ratio=1 .................\n",
      "[CV] .. regression__alpha=1e-05, regression__l1_ratio=1, total= 4.1min\n",
      "[CV] regression__alpha=1e-05, regression__l1_ratio=1 .................\n",
      "[CV] .. regression__alpha=1e-05, regression__l1_ratio=1, total= 4.8min\n",
      "[CV] regression__alpha=1e-05, regression__l1_ratio=1 .................\n",
      "[CV] .. regression__alpha=1e-05, regression__l1_ratio=1, total= 4.2min\n",
      "[CV] .. regression__alpha=1e-05, regression__l1_ratio=1, total= 4.1min\n",
      "[CV] .. regression__alpha=1e-05, regression__l1_ratio=1, total= 4.6min\n",
      "[CV] .. regression__alpha=1e-05, regression__l1_ratio=1, total= 4.3min\n",
      "[CV] .. regression__alpha=1e-05, regression__l1_ratio=1, total= 4.0min\n",
      "[CV] .. regression__alpha=1e-05, regression__l1_ratio=1, total= 4.9min\n",
      "[CV] .. regression__alpha=1e-05, regression__l1_ratio=1, total= 3.4min\n",
      "[CV] .. regression__alpha=1e-05, regression__l1_ratio=1, total= 3.4min\n"
     ]
    },
    {
     "name": "stderr",
     "output_type": "stream",
     "text": [
      "[Parallel(n_jobs=-1)]: Done  50 out of  50 | elapsed: 30.6min finished\n"
     ]
    },
    {
     "data": {
      "text/plain": [
       "GridSearchCV(cv=10, error_score='raise',\n",
       "       estimator=Pipeline(memory=None,\n",
       "     steps=[('scaler', Scaler()), ('regression', SGDRegressor(alpha=0.0001, average=False, epsilon=0.1, eta0=0.001,\n",
       "       fit_intercept=True, l1_ratio=0.15, learning_rate='invscaling',\n",
       "       loss='squared_loss', max_iter=1000, n_iter=None,\n",
       "       penalty='elasticnet', power_t=0.25, random_state=0, shuffle=True,\n",
       "       tol=0.001, verbose=0, warm_start=False))]),\n",
       "       fit_params=None, iid=True, n_jobs=-1,\n",
       "       param_grid={'regression__alpha': [1e-05], 'regression__l1_ratio': [0, 0.25, 0.5, 0.75, 1]},\n",
       "       pre_dispatch='2*n_jobs', refit=True, return_train_score='warn',\n",
       "       scoring='neg_mean_absolute_error', verbose=2)"
      ]
     },
     "execution_count": 12,
     "metadata": {},
     "output_type": "execute_result"
    }
   ],
   "source": [
    "hyperparameters = {'regression__alpha': [1e-5],\n",
    "                                         #,3e-5, 1e-4, 3e-4, 1e-3, 3e-3],\n",
    "                   'regression__l1_ratio': [0, 0.25, 0.5, 0.75, 1]}\n",
    "\n",
    "regressor = Pipeline([\n",
    "    ('scaler', Scaler()),\n",
    "    ('regression', SGDRegressor(penalty='elasticnet', tol=1e-3, eta0=1e-3, \n",
    "                                max_iter=1000, random_state=0))\n",
    "])\n",
    "\n",
    "lr_gridsearch = GridSearchCV(regressor, hyperparameters, cv=10,\n",
    "                             scoring='neg_mean_absolute_error',\n",
    "                             n_jobs=-1, verbose=2)\n",
    "\n",
    "lr_gridsearch.fit(X, y)"
   ]
  },
  {
   "cell_type": "code",
   "execution_count": 20,
   "metadata": {},
   "outputs": [],
   "source": [
    "with open('gridsearch.pkl', 'wb') as f:\n",
    "    pickle.dump(lr_gridsearch, f)"
   ]
  },
  {
   "cell_type": "code",
   "execution_count": 13,
   "metadata": {},
   "outputs": [],
   "source": [
    "final_model = lr_gridsearch.best_estimator_\n",
    "\n",
    "with open('model_infos.pkl', 'wb') as f:\n",
    "    pickle.dump([nominal_encoder, categorical_encoder], f)\n",
    "    \n",
    "with open('final_model.pkl', 'wb') as f:\n",
    "    dill.dump(final_model, f)"
   ]
  },
  {
   "cell_type": "markdown",
   "metadata": {},
   "source": [
    "## Bilan"
   ]
  },
  {
   "cell_type": "code",
   "execution_count": 18,
   "metadata": {},
   "outputs": [],
   "source": [
    "#with open('gridsearch.pkl', 'rb') as f:\n",
    "#    lr_gridsearch = pickle.load(f)"
   ]
  },
  {
   "cell_type": "markdown",
   "metadata": {},
   "source": [
    "Maintenant que nous avons entrainé nos modèles, tachons de visualiser l'évolution de leur performance suivant les hyperparamètres de manière graphique. Pour cela nous devons préalablement adapté l'objet résultat retourné en une `DataFrame`."
   ]
  },
  {
   "cell_type": "code",
   "execution_count": 21,
   "metadata": {},
   "outputs": [
    {
     "data": {
      "text/html": [
       "<div>\n",
       "<style>\n",
       "    .dataframe thead tr:only-child th {\n",
       "        text-align: right;\n",
       "    }\n",
       "\n",
       "    .dataframe thead th {\n",
       "        text-align: left;\n",
       "    }\n",
       "\n",
       "    .dataframe tbody tr th {\n",
       "        vertical-align: top;\n",
       "    }\n",
       "</style>\n",
       "<table border=\"1\" class=\"dataframe\">\n",
       "  <thead>\n",
       "    <tr style=\"text-align: right;\">\n",
       "      <th></th>\n",
       "      <th>regression__alpha</th>\n",
       "      <th>regression__l1_ratio</th>\n",
       "      <th>erreur</th>\n",
       "    </tr>\n",
       "  </thead>\n",
       "  <tbody>\n",
       "    <tr>\n",
       "      <th>0</th>\n",
       "      <td>0.00001</td>\n",
       "      <td>0.00</td>\n",
       "      <td>10.694342</td>\n",
       "    </tr>\n",
       "    <tr>\n",
       "      <th>1</th>\n",
       "      <td>0.00001</td>\n",
       "      <td>0.25</td>\n",
       "      <td>10.693735</td>\n",
       "    </tr>\n",
       "    <tr>\n",
       "      <th>2</th>\n",
       "      <td>0.00001</td>\n",
       "      <td>0.50</td>\n",
       "      <td>10.693780</td>\n",
       "    </tr>\n",
       "    <tr>\n",
       "      <th>3</th>\n",
       "      <td>0.00001</td>\n",
       "      <td>0.75</td>\n",
       "      <td>10.693824</td>\n",
       "    </tr>\n",
       "    <tr>\n",
       "      <th>4</th>\n",
       "      <td>0.00001</td>\n",
       "      <td>1.00</td>\n",
       "      <td>10.693872</td>\n",
       "    </tr>\n",
       "  </tbody>\n",
       "</table>\n",
       "</div>"
      ],
      "text/plain": [
       "   regression__alpha  regression__l1_ratio     erreur\n",
       "0            0.00001                  0.00  10.694342\n",
       "1            0.00001                  0.25  10.693735\n",
       "2            0.00001                  0.50  10.693780\n",
       "3            0.00001                  0.75  10.693824\n",
       "4            0.00001                  1.00  10.693872"
      ]
     },
     "execution_count": 21,
     "metadata": {},
     "output_type": "execute_result"
    }
   ],
   "source": [
    "results = pd.DataFrame(lr_gridsearch.cv_results_['params'])\n",
    "results['erreur'] = - lr_gridsearch.cv_results_['mean_test_score']\n",
    "results.head()"
   ]
  },
  {
   "cell_type": "code",
   "execution_count": 22,
   "metadata": {},
   "outputs": [
    {
     "data": {
      "image/png": "[encoded data removed]",
      "text/plain": [
       "<matplotlib.figure.Figure at 0x10c8a3748>"
      ]
     },
     "metadata": {},
     "output_type": "display_data"
    }
   ],
   "source": [
    "sns.factorplot(x=\"regression__alpha\", y=\"erreur\", hue=\"regression__l1_ratio\", data=results, size=4, aspect=4);"
   ]
  },
  {
   "cell_type": "markdown",
   "metadata": {},
   "source": [
    "Nous pouvons observer que moins la pénalité est importante, plus l'erreur renvoyée par la fonction de coût diminue, et ce quelque soit le type de pénalité considérée.\n",
    "\n",
    "\n",
    "Pour conclure, affichons le meilleur score ainsi que le couple d'hyperparamètres qui a permis de l'obtenir"
   ]
  },
  {
   "cell_type": "code",
   "execution_count": 23,
   "metadata": {},
   "outputs": [
    {
     "data": {
      "text/plain": [
       "10.693735010555468"
      ]
     },
     "execution_count": 23,
     "metadata": {},
     "output_type": "execute_result"
    }
   ],
   "source": [
    "-lr_gridsearch.best_score_"
   ]
  },
  {
   "cell_type": "code",
   "execution_count": 24,
   "metadata": {},
   "outputs": [
    {
     "data": {
      "text/plain": [
       "{'regression__alpha': 1e-05, 'regression__l1_ratio': 0.25}"
      ]
     },
     "execution_count": 24,
     "metadata": {},
     "output_type": "execute_result"
    }
   ],
   "source": [
    "lr_gridsearch.best_params_"
   ]
  },
  {
   "cell_type": "markdown",
   "metadata": {},
   "source": [
    "Enfin, sauvegarder les objets utiles pour l'API: l'encoder des descripteurs catégoriels et le meilleur modèle entrainé "
   ]
  },
  {
   "cell_type": "code",
   "execution_count": 25,
   "metadata": {},
   "outputs": [],
   "source": [
    "final_model = lr_gridsearch.best_estimator_\n",
    "\n",
    "with open('model_infos.pkl', 'wb') as f:\n",
    "    pickle.dump([nominal_encoder, categorical_encoder, final_model], f)"
   ]
  },
  {
   "cell_type": "code",
   "execution_count": null,
   "metadata": {},
   "outputs": [],
   "source": []
  }
 ],
 "metadata": {
  "kernelspec": {
   "display_name": "Python 3",
   "language": "python",
   "name": "python3"
  },
  "language_info": {
   "codemirror_mode": {
    "name": "ipython",
    "version": 3
   },
   "file_extension": ".py",
   "mimetype": "text/x-python",
   "name": "python",
   "nbconvert_exporter": "python",
   "pygments_lexer": "ipython3",
   "version": "3.6.3"
  }
 },
 "nbformat": 4,
 "nbformat_minor": 2
}
