{
 "cells": [
  {
   "cell_type": "markdown",
   "metadata": {},
   "source": [
    "# Notebook d'exploration"
   ]
  },
  {
   "cell_type": "markdown",
   "metadata": {},
   "source": [
    "## Mise en place et informations générales"
   ]
  },
  {
   "cell_type": "markdown",
   "metadata": {},
   "source": [
    "Librairies et paramétrages utilisés au cours du notebook "
   ]
  },
  {
   "cell_type": "code",
   "execution_count": 1,
   "metadata": {},
   "outputs": [],
   "source": [
    "from functools import reduce\n",
    "import re\n",
    "import string\n",
    "\n",
    "import pandas as pd\n",
    "import numpy as np\n",
    "from sklearn.preprocessing import MinMaxScaler\n",
    "from sklearn.linear_model import LinearRegression\n",
    "from sklearn.manifold import TSNE\n",
    "\n",
    "import matplotlib as mpl\n",
    "import matplotlib.pyplot as plt\n",
    "from matplotlib.ticker import NullFormatter\n",
    "import seaborn as sns"
   ]
  },
  {
   "cell_type": "code",
   "execution_count": 2,
   "metadata": {},
   "outputs": [],
   "source": [
    "%matplotlib inline\n",
    "plt.style.use(style='ggplot')\n",
    "mpl.rcParams['figure.dpi'] = 100\n",
    "pd.options.mode.chained_assignment = None"
   ]
  },
  {
   "cell_type": "markdown",
   "metadata": {},
   "source": [
    "Chargeons les données et affichons un aperçu"
   ]
  },
  {
   "cell_type": "code",
   "execution_count": 3,
   "metadata": {},
   "outputs": [
    {
     "data": {
      "text/html": [
       "<div>\n",
       "<style>\n",
       "    .dataframe thead tr:only-child th {\n",
       "        text-align: right;\n",
       "    }\n",
       "\n",
       "    .dataframe thead th {\n",
       "        text-align: left;\n",
       "    }\n",
       "\n",
       "    .dataframe tbody tr th {\n",
       "        vertical-align: top;\n",
       "    }\n",
       "</style>\n",
       "<table border=\"1\" class=\"dataframe\">\n",
       "  <thead>\n",
       "    <tr style=\"text-align: right;\">\n",
       "      <th></th>\n",
       "      <th>color</th>\n",
       "      <th>director_name</th>\n",
       "      <th>num_critic_for_reviews</th>\n",
       "      <th>duration</th>\n",
       "      <th>director_facebook_likes</th>\n",
       "      <th>actor_3_facebook_likes</th>\n",
       "      <th>actor_2_name</th>\n",
       "      <th>actor_1_facebook_likes</th>\n",
       "      <th>gross</th>\n",
       "      <th>genres</th>\n",
       "      <th>...</th>\n",
       "      <th>num_user_for_reviews</th>\n",
       "      <th>language</th>\n",
       "      <th>country</th>\n",
       "      <th>content_rating</th>\n",
       "      <th>budget</th>\n",
       "      <th>title_year</th>\n",
       "      <th>actor_2_facebook_likes</th>\n",
       "      <th>imdb_score</th>\n",
       "      <th>aspect_ratio</th>\n",
       "      <th>movie_facebook_likes</th>\n",
       "    </tr>\n",
       "  </thead>\n",
       "  <tbody>\n",
       "    <tr>\n",
       "      <th>0</th>\n",
       "      <td>Color</td>\n",
       "      <td>James Cameron</td>\n",
       "      <td>723.0</td>\n",
       "      <td>178.0</td>\n",
       "      <td>0.0</td>\n",
       "      <td>855.0</td>\n",
       "      <td>Joel David Moore</td>\n",
       "      <td>1000.0</td>\n",
       "      <td>760505847.0</td>\n",
       "      <td>Action|Adventure|Fantasy|Sci-Fi</td>\n",
       "      <td>...</td>\n",
       "      <td>3054.0</td>\n",
       "      <td>English</td>\n",
       "      <td>USA</td>\n",
       "      <td>PG-13</td>\n",
       "      <td>237000000.0</td>\n",
       "      <td>2009.0</td>\n",
       "      <td>936.0</td>\n",
       "      <td>7.9</td>\n",
       "      <td>1.78</td>\n",
       "      <td>33000</td>\n",
       "    </tr>\n",
       "    <tr>\n",
       "      <th>1</th>\n",
       "      <td>Color</td>\n",
       "      <td>Gore Verbinski</td>\n",
       "      <td>302.0</td>\n",
       "      <td>169.0</td>\n",
       "      <td>563.0</td>\n",
       "      <td>1000.0</td>\n",
       "      <td>Orlando Bloom</td>\n",
       "      <td>40000.0</td>\n",
       "      <td>309404152.0</td>\n",
       "      <td>Action|Adventure|Fantasy</td>\n",
       "      <td>...</td>\n",
       "      <td>1238.0</td>\n",
       "      <td>English</td>\n",
       "      <td>USA</td>\n",
       "      <td>PG-13</td>\n",
       "      <td>300000000.0</td>\n",
       "      <td>2007.0</td>\n",
       "      <td>5000.0</td>\n",
       "      <td>7.1</td>\n",
       "      <td>2.35</td>\n",
       "      <td>0</td>\n",
       "    </tr>\n",
       "    <tr>\n",
       "      <th>2</th>\n",
       "      <td>Color</td>\n",
       "      <td>Sam Mendes</td>\n",
       "      <td>602.0</td>\n",
       "      <td>148.0</td>\n",
       "      <td>0.0</td>\n",
       "      <td>161.0</td>\n",
       "      <td>Rory Kinnear</td>\n",
       "      <td>11000.0</td>\n",
       "      <td>200074175.0</td>\n",
       "      <td>Action|Adventure|Thriller</td>\n",
       "      <td>...</td>\n",
       "      <td>994.0</td>\n",
       "      <td>English</td>\n",
       "      <td>UK</td>\n",
       "      <td>PG-13</td>\n",
       "      <td>245000000.0</td>\n",
       "      <td>2015.0</td>\n",
       "      <td>393.0</td>\n",
       "      <td>6.8</td>\n",
       "      <td>2.35</td>\n",
       "      <td>85000</td>\n",
       "    </tr>\n",
       "    <tr>\n",
       "      <th>3</th>\n",
       "      <td>Color</td>\n",
       "      <td>Christopher Nolan</td>\n",
       "      <td>813.0</td>\n",
       "      <td>164.0</td>\n",
       "      <td>22000.0</td>\n",
       "      <td>23000.0</td>\n",
       "      <td>Christian Bale</td>\n",
       "      <td>27000.0</td>\n",
       "      <td>448130642.0</td>\n",
       "      <td>Action|Thriller</td>\n",
       "      <td>...</td>\n",
       "      <td>2701.0</td>\n",
       "      <td>English</td>\n",
       "      <td>USA</td>\n",
       "      <td>PG-13</td>\n",
       "      <td>250000000.0</td>\n",
       "      <td>2012.0</td>\n",
       "      <td>23000.0</td>\n",
       "      <td>8.5</td>\n",
       "      <td>2.35</td>\n",
       "      <td>164000</td>\n",
       "    </tr>\n",
       "    <tr>\n",
       "      <th>4</th>\n",
       "      <td>NaN</td>\n",
       "      <td>Doug Walker</td>\n",
       "      <td>NaN</td>\n",
       "      <td>NaN</td>\n",
       "      <td>131.0</td>\n",
       "      <td>NaN</td>\n",
       "      <td>Rob Walker</td>\n",
       "      <td>131.0</td>\n",
       "      <td>NaN</td>\n",
       "      <td>Documentary</td>\n",
       "      <td>...</td>\n",
       "      <td>NaN</td>\n",
       "      <td>NaN</td>\n",
       "      <td>NaN</td>\n",
       "      <td>NaN</td>\n",
       "      <td>NaN</td>\n",
       "      <td>NaN</td>\n",
       "      <td>12.0</td>\n",
       "      <td>7.1</td>\n",
       "      <td>NaN</td>\n",
       "      <td>0</td>\n",
       "    </tr>\n",
       "  </tbody>\n",
       "</table>\n",
       "<p>5 rows × 28 columns</p>\n",
       "</div>"
      ],
      "text/plain": [
       "   color      director_name  num_critic_for_reviews  duration  \\\n",
       "0  Color      James Cameron                   723.0     178.0   \n",
       "1  Color     Gore Verbinski                   302.0     169.0   \n",
       "2  Color         Sam Mendes                   602.0     148.0   \n",
       "3  Color  Christopher Nolan                   813.0     164.0   \n",
       "4    NaN        Doug Walker                     NaN       NaN   \n",
       "\n",
       "   director_facebook_likes  actor_3_facebook_likes      actor_2_name  \\\n",
       "0                      0.0                   855.0  Joel David Moore   \n",
       "1                    563.0                  1000.0     Orlando Bloom   \n",
       "2                      0.0                   161.0      Rory Kinnear   \n",
       "3                  22000.0                 23000.0    Christian Bale   \n",
       "4                    131.0                     NaN        Rob Walker   \n",
       "\n",
       "   actor_1_facebook_likes        gross                           genres  \\\n",
       "0                  1000.0  760505847.0  Action|Adventure|Fantasy|Sci-Fi   \n",
       "1                 40000.0  309404152.0         Action|Adventure|Fantasy   \n",
       "2                 11000.0  200074175.0        Action|Adventure|Thriller   \n",
       "3                 27000.0  448130642.0                  Action|Thriller   \n",
       "4                   131.0          NaN                      Documentary   \n",
       "\n",
       "          ...          num_user_for_reviews language  country  content_rating  \\\n",
       "0         ...                        3054.0  English      USA           PG-13   \n",
       "1         ...                        1238.0  English      USA           PG-13   \n",
       "2         ...                         994.0  English       UK           PG-13   \n",
       "3         ...                        2701.0  English      USA           PG-13   \n",
       "4         ...                           NaN      NaN      NaN             NaN   \n",
       "\n",
       "        budget  title_year actor_2_facebook_likes imdb_score  aspect_ratio  \\\n",
       "0  237000000.0      2009.0                  936.0        7.9          1.78   \n",
       "1  300000000.0      2007.0                 5000.0        7.1          2.35   \n",
       "2  245000000.0      2015.0                  393.0        6.8          2.35   \n",
       "3  250000000.0      2012.0                23000.0        8.5          2.35   \n",
       "4          NaN         NaN                   12.0        7.1           NaN   \n",
       "\n",
       "  movie_facebook_likes  \n",
       "0                33000  \n",
       "1                    0  \n",
       "2                85000  \n",
       "3               164000  \n",
       "4                    0  \n",
       "\n",
       "[5 rows x 28 columns]"
      ]
     },
     "execution_count": 3,
     "metadata": {},
     "output_type": "execute_result"
    }
   ],
   "source": [
    "data = pd.read_csv('data/movie_metadata.csv')\n",
    "data.head()"
   ]
  },
  {
   "cell_type": "markdown",
   "metadata": {},
   "source": [
    "Décrivons brièvement les différentes variables: noms, nombre de valeurs non-manquantes, type"
   ]
  },
  {
   "cell_type": "code",
   "execution_count": 4,
   "metadata": {},
   "outputs": [
    {
     "name": "stdout",
     "output_type": "stream",
     "text": [
      "<class 'pandas.core.frame.DataFrame'>\n",
      "RangeIndex: 5043 entries, 0 to 5042\n",
      "Data columns (total 28 columns):\n",
      "actor_1_facebook_likes       5036 non-null float64\n",
      "actor_1_name                 5036 non-null object\n",
      "actor_2_facebook_likes       5030 non-null float64\n",
      "actor_2_name                 5030 non-null object\n",
      "actor_3_facebook_likes       5020 non-null float64\n",
      "actor_3_name                 5020 non-null object\n",
      "aspect_ratio                 4714 non-null float64\n",
      "budget                       4551 non-null float64\n",
      "cast_total_facebook_likes    5043 non-null int64\n",
      "color                        5024 non-null object\n",
      "content_rating               4740 non-null object\n",
      "country                      5038 non-null object\n",
      "director_facebook_likes      4939 non-null float64\n",
      "director_name                4939 non-null object\n",
      "duration                     5028 non-null float64\n",
      "facenumber_in_poster         5030 non-null float64\n",
      "genres                       5043 non-null object\n",
      "gross                        4159 non-null float64\n",
      "imdb_score                   5043 non-null float64\n",
      "language                     5031 non-null object\n",
      "movie_facebook_likes         5043 non-null int64\n",
      "movie_imdb_link              5043 non-null object\n",
      "movie_title                  5043 non-null object\n",
      "num_critic_for_reviews       4993 non-null float64\n",
      "num_user_for_reviews         5022 non-null float64\n",
      "num_voted_users              5043 non-null int64\n",
      "plot_keywords                4890 non-null object\n",
      "title_year                   4935 non-null float64\n",
      "dtypes: float64(13), int64(3), object(12)\n",
      "memory usage: 1.1+ MB\n"
     ]
    }
   ],
   "source": [
    "data.sort_index(axis=1, inplace=True)\n",
    "data.info()"
   ]
  },
  {
   "cell_type": "markdown",
   "metadata": {},
   "source": [
    "Nombre de valeurs manquantes pour chaque variable en nombre décroissant"
   ]
  },
  {
   "cell_type": "code",
   "execution_count": 5,
   "metadata": {},
   "outputs": [
    {
     "data": {
      "text/plain": [
       "gross                        884\n",
       "budget                       492\n",
       "aspect_ratio                 329\n",
       "content_rating               303\n",
       "plot_keywords                153\n",
       "title_year                   108\n",
       "director_facebook_likes      104\n",
       "director_name                104\n",
       "num_critic_for_reviews        50\n",
       "actor_3_facebook_likes        23\n",
       "actor_3_name                  23\n",
       "num_user_for_reviews          21\n",
       "color                         19\n",
       "duration                      15\n",
       "actor_2_facebook_likes        13\n",
       "actor_2_name                  13\n",
       "facenumber_in_poster          13\n",
       "language                      12\n",
       "actor_1_name                   7\n",
       "actor_1_facebook_likes         7\n",
       "country                        5\n",
       "imdb_score                     0\n",
       "cast_total_facebook_likes      0\n",
       "num_voted_users                0\n",
       "movie_title                    0\n",
       "movie_imdb_link                0\n",
       "genres                         0\n",
       "movie_facebook_likes           0\n",
       "dtype: int64"
      ]
     },
     "execution_count": 5,
     "metadata": {},
     "output_type": "execute_result"
    }
   ],
   "source": [
    "data.isnull().sum().sort_values(ascending=False)"
   ]
  },
  {
   "cell_type": "markdown",
   "metadata": {},
   "source": [
    "## Nettoyage et _Feature Engineering_"
   ]
  },
  {
   "cell_type": "markdown",
   "metadata": {},
   "source": [
    "Gardons une copie de nos données brutes avant de procéder à tout changement."
   ]
  },
  {
   "cell_type": "code",
   "execution_count": 6,
   "metadata": {},
   "outputs": [],
   "source": [
    "save = data.copy()"
   ]
  },
  {
   "cell_type": "markdown",
   "metadata": {},
   "source": [
    "Maintenant, traitons les différentes variables mises à notre disposition afin qu'elles soient utilisables par la suite dans la phase de modélisation. Nous les traitons dans trois sous-sections:\n",
    "- variables catégorielles\n",
    "- variables numériques\n",
    "- mise en forme finale du tableau de données"
   ]
  },
  {
   "cell_type": "markdown",
   "metadata": {},
   "source": [
    "### Variables catégorielles"
   ]
  },
  {
   "cell_type": "markdown",
   "metadata": {},
   "source": [
    "#### _color_"
   ]
  },
  {
   "cell_type": "code",
   "execution_count": 7,
   "metadata": {},
   "outputs": [
    {
     "data": {
      "text/plain": [
       "Color               0.954789\n",
       " Black and White    0.041444\n",
       "NaN                 0.003768\n",
       "Name: color, dtype: float64"
      ]
     },
     "execution_count": 7,
     "metadata": {},
     "output_type": "execute_result"
    }
   ],
   "source": [
    "data['color'].value_counts(dropna=False) / len(data)"
   ]
  },
  {
   "cell_type": "markdown",
   "metadata": {},
   "source": [
    "Cette variable possède deux modalités: nous la considérons donc comme binaire. Nous transformons ses valeurs en numérique et remplaçons le peu de valeurs manquantes par modalité majoritaire."
   ]
  },
  {
   "cell_type": "code",
   "execution_count": 8,
   "metadata": {},
   "outputs": [],
   "source": [
    "data['color'] = (data['color'].fillna(data['color'].mode()[0])\n",
    "                 .map(lambda x: 1 if x=='Color' else 0))"
   ]
  },
  {
   "cell_type": "markdown",
   "metadata": {},
   "source": [
    "#### _facenumber in poster_"
   ]
  },
  {
   "cell_type": "code",
   "execution_count": 9,
   "metadata": {},
   "outputs": [
    {
     "data": {
      "text/plain": [
       " 0.0     2152\n",
       " 1.0     1251\n",
       " 2.0      716\n",
       " 3.0      380\n",
       " 4.0      207\n",
       " 5.0      114\n",
       " 6.0       76\n",
       " 7.0       48\n",
       " 8.0       37\n",
       " 9.0       18\n",
       "NaN        13\n",
       " 10.0      10\n",
       " 15.0       6\n",
       " 11.0       5\n",
       " 12.0       4\n",
       " 13.0       2\n",
       " 19.0       1\n",
       " 14.0       1\n",
       " 31.0       1\n",
       " 43.0       1\n",
       "Name: facenumber_in_poster, dtype: int64"
      ]
     },
     "execution_count": 9,
     "metadata": {},
     "output_type": "execute_result"
    }
   ],
   "source": [
    "data['facenumber_in_poster'].value_counts(dropna=False)"
   ]
  },
  {
   "cell_type": "markdown",
   "metadata": {},
   "source": [
    "Compte-tenu du grand nombre de modalités, nous discrétisation de la variable de manière à lui donner un sens plus utile: \n",
    "- aucune personne, \n",
    "- une personne, \n",
    "- plusieurs personnes\n",
    "\n",
    "Aussi, nous remplaçons les valeurs manquantes par le mode."
   ]
  },
  {
   "cell_type": "code",
   "execution_count": 10,
   "metadata": {},
   "outputs": [
    {
     "data": {
      "text/plain": [
       "none    2165\n",
       "more    1627\n",
       "one     1251\n",
       "Name: facenumber_in_poster, dtype: int64"
      ]
     },
     "execution_count": 10,
     "metadata": {},
     "output_type": "execute_result"
    }
   ],
   "source": [
    "def discretize_facenumber(x):\n",
    "    \n",
    "    if x == 0:\n",
    "        return 'none'\n",
    "    elif x == 1:\n",
    "        return 'one'\n",
    "    else:\n",
    "        return 'more'\n",
    "    \n",
    "data['facenumber_in_poster'] = (data['facenumber_in_poster'].fillna(data['facenumber_in_poster'].mode()[0])\n",
    "                                .map(discretize_facenumber, na_action='ignore'))\n",
    "data['facenumber_in_poster'].value_counts(dropna=False)"
   ]
  },
  {
   "cell_type": "markdown",
   "metadata": {},
   "source": [
    "Créeons des _dummy variables_ des catégories crées et les ajoutons-les à la dataframe originale"
   ]
  },
  {
   "cell_type": "code",
   "execution_count": 11,
   "metadata": {},
   "outputs": [],
   "source": [
    "data = pd.concat([data, pd.get_dummies(data['facenumber_in_poster'], prefix='posterfaces')], axis=1) "
   ]
  },
  {
   "cell_type": "markdown",
   "metadata": {},
   "source": [
    "#### *genres*"
   ]
  },
  {
   "cell_type": "markdown",
   "metadata": {},
   "source": [
    "Récupérons une liste de tous les genres uniques existants"
   ]
  },
  {
   "cell_type": "code",
   "execution_count": 12,
   "metadata": {},
   "outputs": [
    {
     "data": {
      "text/plain": [
       "['Short',\n",
       " 'History',\n",
       " 'Sci-Fi',\n",
       " 'Thriller',\n",
       " 'Mystery',\n",
       " 'Drama',\n",
       " 'News',\n",
       " 'Animation',\n",
       " 'Game-Show',\n",
       " 'Family',\n",
       " 'Crime',\n",
       " 'Reality-TV',\n",
       " 'Adventure',\n",
       " 'Musical',\n",
       " 'Film-Noir',\n",
       " 'Comedy',\n",
       " 'War',\n",
       " 'Action',\n",
       " 'Sport',\n",
       " 'Horror',\n",
       " 'Fantasy',\n",
       " 'Music',\n",
       " 'Documentary',\n",
       " 'Western',\n",
       " 'Romance',\n",
       " 'Biography']"
      ]
     },
     "execution_count": 12,
     "metadata": {},
     "output_type": "execute_result"
    }
   ],
   "source": [
    "all_genres = data['genres'].transform(lambda x: x.split('|'));\n",
    "genres = list(set(reduce(lambda x,y:x+y, all_genres))) # retrieve unique genres\n",
    "genres"
   ]
  },
  {
   "cell_type": "markdown",
   "metadata": {},
   "source": [
    "Créeons de nouvelles _dummy variables_ pour chacun d'entre eux"
   ]
  },
  {
   "cell_type": "code",
   "execution_count": 13,
   "metadata": {},
   "outputs": [],
   "source": [
    "new_vars = list(map(lambda x: 'genre_' + x.lower(), genres)) \n",
    "\n",
    "for var in new_vars:\n",
    "    data[var] = 0"
   ]
  },
  {
   "cell_type": "markdown",
   "metadata": {},
   "source": [
    "Indiquons dans nos _dummy variables_ créées à quel(s) genre(s) chaque film appartient "
   ]
  },
  {
   "cell_type": "code",
   "execution_count": 14,
   "metadata": {},
   "outputs": [],
   "source": [
    "# Récupérer les genres de chaque film sous forme de liste\n",
    "each_genres = (data['genres'].transform(lambda x: x.split('|'))\n",
    "               .map(lambda x: ['genre_' + g.lower() for g in x]))\n",
    "\n",
    "# Assigner dummy values\n",
    "for index, _ in data.iterrows():\n",
    "    data.loc[index, each_genres[index]] = 1"
   ]
  },
  {
   "cell_type": "markdown",
   "metadata": {},
   "source": [
    "#### _content rating_"
   ]
  },
  {
   "cell_type": "code",
   "execution_count": 15,
   "metadata": {},
   "outputs": [
    {
     "data": {
      "text/plain": [
       "R            2118\n",
       "PG-13        1461\n",
       "PG            701\n",
       "NaN           303\n",
       "Not Rated     116\n",
       "G             112\n",
       "Unrated        62\n",
       "Approved       55\n",
       "TV-14          30\n",
       "TV-MA          20\n",
       "TV-PG          13\n",
       "X              13\n",
       "TV-G           10\n",
       "Passed          9\n",
       "NC-17           7\n",
       "GP              6\n",
       "M               5\n",
       "TV-Y            1\n",
       "TV-Y7           1\n",
       "Name: content_rating, dtype: int64"
      ]
     },
     "execution_count": 15,
     "metadata": {},
     "output_type": "execute_result"
    }
   ],
   "source": [
    "data['content_rating'].value_counts(dropna=False)"
   ]
  },
  {
   "cell_type": "markdown",
   "metadata": {},
   "source": [
    "Regroupements de modalités faites en fonction de leur signification\n",
    "- TV-PG = PG\n",
    "- TV-14 ~ PG-13\n",
    "- TV-MA = NC-17\n",
    "- TV-G = G\n",
    "- TV-Y7, pour les enfants = G\n",
    "- TV-Y, pour les enfants = G\n",
    "- M = GP = PG\n",
    "- X = NC-17\n",
    "\n",
    "\n",
    "- Approved (approved for film exhibition) = mettre NA\n",
    "- Passed (approved for film exhibition) = mettre NA\n",
    "\n",
    "\n",
    "- Not rated: mettre NA\n",
    "- Unrated: mettre NA\n",
    "\n",
    "\n",
    "Explications des labels généraux que nous gardons\n",
    "- G: general\n",
    "- PG: parental guidance (pas encourgé pour jeunes enfants)\n",
    "- PG-13: strong  parental guidance (fortement pas encouragé pour -13 ans)\n",
    "- R: need adult in room\n",
    "- NC-17: +17 y/o only\n",
    "\n",
    "Aussi, nous créeons une variable binaire additionnelle signifiant si un élément a été diffusé originellement sur 'petit écran' (TV) ou non.\n",
    "\n",
    "Sources:\n",
    "    \n",
    "- [Système de notation de films américain](http://bit.ly/2F0j4eT)\n",
    "- [Système de notation TV américain](http://bit.ly/2EYOeDA)"
   ]
  },
  {
   "cell_type": "code",
   "execution_count": 16,
   "metadata": {},
   "outputs": [
    {
     "data": {
      "text/plain": [
       "R        2118\n",
       "PG-13    1491\n",
       "PG        725\n",
       "NaN       545\n",
       "G         124\n",
       "NC-17      40\n",
       "Name: content_rating, dtype: int64"
      ]
     },
     "execution_count": 16,
     "metadata": {},
     "output_type": "execute_result"
    }
   ],
   "source": [
    "# Créer une variable binaire pour dénoter les instances qui sont des séries\n",
    "TV_labels = ['TV-PG', 'TV-14', 'TV-MA', 'TV-G', 'TV-Y7', 'TV-Y']\n",
    "data['is_TV'] = np.where(data['content_rating'].isin(TV_labels), 1, 0)\n",
    "\n",
    "\n",
    "# Grouper les recommendations d'âge\n",
    "replace_ratings = {'TV-G': 'G', 'TV-Y7': 'G', 'TV-Y': 'G',\n",
    "                   'TV-PG': 'PG', 'GP': 'PG', 'M': 'PG', \n",
    "                   'TV-14': 'PG-13', \n",
    "                   'TV-MA': 'NC-17', 'X': 'NC-17', \n",
    "                   'Approved': np.nan, 'Passed': np.nan, 'Not Rated': np.nan, 'Unrated': np.nan}\n",
    "\n",
    "\n",
    "# Opérer les changements sur la dataframe\n",
    "data['content_rating'] = pd.Categorical(data['content_rating'].replace(replace_ratings), \n",
    "                                        categories=['G', 'PG', 'PG-13', 'R', 'NC-17'], \n",
    "                                        ordered=True)\n",
    "data['content_rating'].value_counts(dropna=False)"
   ]
  },
  {
   "cell_type": "markdown",
   "metadata": {},
   "source": [
    "Remplaçons les valeurs manquantes par la modalité la plus fréquente, puis créeons des _dummy variables_ des catégories fusionnées, que nous ajouterons à la dataframe principale"
   ]
  },
  {
   "cell_type": "code",
   "execution_count": 17,
   "metadata": {},
   "outputs": [],
   "source": [
    "data['content_rating'].fillna(value=data['content_rating'].mode()[0], inplace=True)\n",
    "content_dummies = pd.get_dummies(data['content_rating'], prefix='rating')\n",
    "data = pd.concat([data, content_dummies], axis=1)"
   ]
  },
  {
   "cell_type": "markdown",
   "metadata": {},
   "source": [
    "#### _language_"
   ]
  },
  {
   "cell_type": "markdown",
   "metadata": {},
   "source": [
    "Distribution de la variable"
   ]
  },
  {
   "cell_type": "code",
   "execution_count": 18,
   "metadata": {},
   "outputs": [
    {
     "data": {
      "text/plain": [
       "English       0.932778\n",
       "French        0.014476\n",
       "Spanish       0.007932\n",
       "Hindi         0.005552\n",
       "Mandarin      0.005156\n",
       "German        0.003768\n",
       "Japanese      0.003569\n",
       "NaN           0.002380\n",
       "Russian       0.002181\n",
       "Italian       0.002181\n",
       "Cantonese     0.002181\n",
       "Korean        0.001586\n",
       "Portuguese    0.001586\n",
       "Swedish       0.000991\n",
       "Hebrew        0.000991\n",
       "Danish        0.000991\n",
       "Arabic        0.000991\n",
       "Polish        0.000793\n",
       "Dutch         0.000793\n",
       "Norwegian     0.000793\n",
       "Persian       0.000793\n",
       "Chinese       0.000595\n",
       "Thai          0.000595\n",
       "Aboriginal    0.000397\n",
       "Zulu          0.000397\n",
       "None          0.000397\n",
       "Romanian      0.000397\n",
       "Icelandic     0.000397\n",
       "Indonesian    0.000397\n",
       "Dari          0.000397\n",
       "Mongolian     0.000198\n",
       "Tamil         0.000198\n",
       "Vietnamese    0.000198\n",
       "Bosnian       0.000198\n",
       "Hungarian     0.000198\n",
       "Kazakh        0.000198\n",
       "Filipino      0.000198\n",
       "Urdu          0.000198\n",
       "Kannada       0.000198\n",
       "Maya          0.000198\n",
       "Czech         0.000198\n",
       "Dzongkha      0.000198\n",
       "Swahili       0.000198\n",
       "Aramaic       0.000198\n",
       "Slovenian     0.000198\n",
       "Telugu        0.000198\n",
       "Greek         0.000198\n",
       "Panjabi       0.000198\n",
       "Name: language, dtype: float64"
      ]
     },
     "execution_count": 18,
     "metadata": {},
     "output_type": "execute_result"
    }
   ],
   "source": [
    "data['language'].value_counts(dropna=False) / len(data)"
   ]
  },
  {
   "cell_type": "markdown",
   "metadata": {},
   "source": [
    "- Sur l'ensemble des données, beaucoup d'observations groupées dans de la modalité `English`.\n",
    "- On choisit de binariser la variable: 1 si `English`, 0 si autre langue\n",
    "- On impute les valeurs manquantes par la modalité principale "
   ]
  },
  {
   "cell_type": "code",
   "execution_count": 19,
   "metadata": {},
   "outputs": [
    {
     "data": {
      "text/plain": [
       "1    4704\n",
       "0     339\n",
       "Name: language, dtype: int64"
      ]
     },
     "execution_count": 19,
     "metadata": {},
     "output_type": "execute_result"
    }
   ],
   "source": [
    "data['language'] = data['language'].map(lambda x: 1 if x=='English' else 0)\n",
    "data['language'].value_counts(dropna=False)"
   ]
  },
  {
   "cell_type": "markdown",
   "metadata": {},
   "source": [
    "#### _country_"
   ]
  },
  {
   "cell_type": "code",
   "execution_count": 20,
   "metadata": {},
   "outputs": [
    {
     "data": {
      "text/plain": [
       "USA                     3807\n",
       "UK                       448\n",
       "France                   154\n",
       "Canada                   126\n",
       "Germany                   97\n",
       "Australia                 55\n",
       "India                     34\n",
       "Spain                     33\n",
       "China                     30\n",
       "Italy                     23\n",
       "Japan                     23\n",
       "Hong Kong                 17\n",
       "Mexico                    17\n",
       "New Zealand               15\n",
       "South Korea               14\n",
       "Ireland                   12\n",
       "Russia                    11\n",
       "Denmark                   11\n",
       "South Africa               8\n",
       "Brazil                     8\n",
       "Norway                     8\n",
       "Sweden                     6\n",
       "Netherlands                5\n",
       "Thailand                   5\n",
       "NaN                        5\n",
       "Poland                     5\n",
       "Belgium                    4\n",
       "Argentina                  4\n",
       "Iran                       4\n",
       "Romania                    4\n",
       "                        ... \n",
       "Taiwan                     2\n",
       "Hungary                    2\n",
       "Finland                    1\n",
       "Libya                      1\n",
       "Dominican Republic         1\n",
       "Official site              1\n",
       "Egypt                      1\n",
       "United Arab Emirates       1\n",
       "Georgia                    1\n",
       "Indonesia                  1\n",
       "Cambodia                   1\n",
       "Afghanistan                1\n",
       "Cameroon                   1\n",
       "Chile                      1\n",
       "New Line                   1\n",
       "Pakistan                   1\n",
       "Colombia                   1\n",
       "Slovakia                   1\n",
       "Bulgaria                   1\n",
       "Nigeria                    1\n",
       "Slovenia                   1\n",
       "Kyrgyzstan                 1\n",
       "Soviet Union               1\n",
       "Peru                       1\n",
       "Kenya                      1\n",
       "Bahamas                    1\n",
       "Aruba                      1\n",
       "Panama                     1\n",
       "Turkey                     1\n",
       "Philippines                1\n",
       "Name: country, Length: 66, dtype: int64"
      ]
     },
     "execution_count": 20,
     "metadata": {},
     "output_type": "execute_result"
    }
   ],
   "source": [
    "data['country'].value_counts(dropna=False)"
   ]
  },
  {
   "cell_type": "markdown",
   "metadata": {},
   "source": [
    "On remarque une distribution similaire à `language`, avec une sur-représentation du monde anglophone, et dans des proportions proches. Nous considérons que l'information apportée par cette variable est similaire que celle apportée par la variable `language`, on décide donc de ne pas la garder."
   ]
  },
  {
   "cell_type": "markdown",
   "metadata": {},
   "source": [
    "#### _Plot keywords_"
   ]
  },
  {
   "cell_type": "code",
   "execution_count": 21,
   "metadata": {},
   "outputs": [
    {
     "data": {
      "text/plain": [
       "0                  avatar|future|marine|native|paraplegic\n",
       "1       goddess|marriage ceremony|marriage proposal|pi...\n",
       "2                     bomb|espionage|sequel|spy|terrorist\n",
       "3       deception|imprisonment|lawlessness|police offi...\n",
       "4                                                     NaN\n",
       "5       alien|american civil war|male nipple|mars|prin...\n",
       "6               sandman|spider man|symbiote|venom|villain\n",
       "7       17th century|based on fairy tale|disney|flower...\n",
       "8       artificial intelligence|based on comic book|ca...\n",
       "9                        blood|book|love|potion|professor\n",
       "10      based on comic book|batman|sequel to a reboot|...\n",
       "11      crystal|epic|lex luthor|lois lane|return to earth\n",
       "12      action hero|attempted rape|bond girl|official ...\n",
       "13      box office hit|giant squid|heart|liar's dice|m...\n",
       "14                  horse|outlaw|texas|texas ranger|train\n",
       "15      based on comic book|british actor playing amer...\n",
       "16      brother brother relationship|brother sister re...\n",
       "17        alien invasion|assassin|battle|iron man|soldier\n",
       "18              blackbeard|captain|pirate|revenge|soldier\n",
       "19      alien|criminal|m.i.b.|maximum security prison|...\n",
       "20                       army|elf|hobbit|middle earth|orc\n",
       "21              lizard|outcast|spider|spider man|teenager\n",
       "22        1190s|archer|england|king of england|robin hood\n",
       "23         dwarf|elf|lake town|mountain|sword and sorcery\n",
       "24                        children|epic|friend|girl|quest\n",
       "25      animal name in title|ape abducts a woman|goril...\n",
       "26                           artist|love|ship|titanic|wet\n",
       "27      based on comic book|knife|marvel cinematic uni...\n",
       "28          box office flop|hawaii|naval|oahu hawaii|ship\n",
       "29      dinosaur|disaster film|experiment gone wrong|j...\n",
       "                              ...                        \n",
       "5013    ex convict|graduation|manhattan new york city|...\n",
       "5014       death|first part|killing spree|massacre|murder\n",
       "5015    austin texas|moon|pap smear|texas|twenty somet...\n",
       "5016                                                  NaN\n",
       "5017    anti romantic comedy|dating|divorce|sex comedy...\n",
       "5018    baby|car salesman|christian film|pregnancy|use...\n",
       "5019                   asylum|demon|party|secret|teenager\n",
       "5020                 avatar|college|death|tron|university\n",
       "5021        birthday|gift|motel|new york city|upholsterer\n",
       "5022                                                  NaN\n",
       "5023                                                  NaN\n",
       "5024      arch villain|game of death|kidnapping|superhero\n",
       "5025         absurd humor|egg|gross out humor|lesbian|sex\n",
       "5026                       jail|junkie|money|motel|singer\n",
       "5027            abortion|bus|hospital|prison|prostitution\n",
       "5028                                                  NaN\n",
       "5029    breasts|interrogation|investigation|murder|wat...\n",
       "5030    gang initiation|gunplay|hazing|latino|shakespe...\n",
       "5031        nudity|party|pirate|swimsuit|three word title\n",
       "5032    corruption|homeless|homeless man|motorcycle|ur...\n",
       "5033    changing the future|independent film|invention...\n",
       "5034    jihad|mindanao|philippines|security guard|squa...\n",
       "5035                   assassin|death|guitar|gun|mariachi\n",
       "5036          jewell|mongol|nostradamus|stepnicka|vallone\n",
       "5037                  written and directed by cast member\n",
       "5038               fraud|postal worker|prison|theft|trial\n",
       "5039         cult|fbi|hideout|prison escape|serial killer\n",
       "5040                                                  NaN\n",
       "5041                                                  NaN\n",
       "5042    actress name in title|crush|date|four word tit...\n",
       "Name: plot_keywords, Length: 5043, dtype: object"
      ]
     },
     "execution_count": 21,
     "metadata": {},
     "output_type": "execute_result"
    }
   ],
   "source": [
    "data['plot_keywords']"
   ]
  },
  {
   "cell_type": "markdown",
   "metadata": {},
   "source": [
    "À première vue, on peut remarquer qu'il existe beaucoup de mots-clés différents sur l'ensemble de films. Prendre en compte cette variable risquerait de générer beaucoup de *bruit*, et non pas des *patterns* généraux. Nous choisissons de la supprimer."
   ]
  },
  {
   "cell_type": "markdown",
   "metadata": {},
   "source": [
    "#### _'Main Crew' variables_"
   ]
  },
  {
   "cell_type": "markdown",
   "metadata": {},
   "source": [
    "Il y a un groupe de variables catégorielles concernant la 'vitrine' du film, à savoir ses membres qui seront les plus exposés médiatiquement\n",
    "- `director_name`\n",
    "- `actor_1_name` \n",
    "- `actor_2_name` \n",
    "- `actor_3_name`\n",
    "\n",
    "Prendre ces variables telles quelles introduirait beaucoup de bruit, car elles possèdent beaucoup de modalités, étant donné la diversité de notre base de films. Pour donner un sens plus utile à ces variables, nous remplaçons chacune de leurs modalités par leur fréquence relative, traduisant pour chacune leur popularité relative dans la distribution d'une variable."
   ]
  },
  {
   "cell_type": "code",
   "execution_count": 22,
   "metadata": {},
   "outputs": [],
   "source": [
    "crew_variables = ['director_name', 'actor_1_name', 'actor_2_name', 'actor_3_name']\n",
    "\n",
    "for variable in crew_variables:    \n",
    "    # remplace chaque modalité par sa fréquence d'apparence\n",
    "    data[variable] = (data[variable].map(lambda x: data[variable].value_counts()[x], na_action='ignore') \n",
    "                      .divide(data[variable].value_counts()[0]))"
   ]
  },
  {
   "cell_type": "markdown",
   "metadata": {},
   "source": [
    "Affichons la distributions des variables transformées obtenues"
   ]
  },
  {
   "cell_type": "code",
   "execution_count": 23,
   "metadata": {},
   "outputs": [
    {
     "data": {
      "image/png": "[encoded data removed]",
      "text/plain": [
       "<matplotlib.figure.Figure at 0x1a09f5c518>"
      ]
     },
     "metadata": {},
     "output_type": "display_data"
    },
    {
     "data": {
      "image/png": "[encoded data removed]",
      "text/plain": [
       "<matplotlib.figure.Figure at 0x1a09da8b00>"
      ]
     },
     "metadata": {},
     "output_type": "display_data"
    },
    {
     "data": {
      "image/png": "[encoded data removed]",
      "text/plain": [
       "<matplotlib.figure.Figure at 0x1a093b8240>"
      ]
     },
     "metadata": {},
     "output_type": "display_data"
    },
    {
     "data": {
      "image/png": "[encoded data removed]",
      "text/plain": [
       "<matplotlib.figure.Figure at 0x1a0a10a7b8>"
      ]
     },
     "metadata": {},
     "output_type": "display_data"
    }
   ],
   "source": [
    "for var in crew_variables:\n",
    "    plt.figure()\n",
    "    sns.boxplot(x=var, data=data)"
   ]
  },
  {
   "cell_type": "markdown",
   "metadata": {},
   "source": [
    "Pour chacune de ces variables il reste des valeurs manquantes"
   ]
  },
  {
   "cell_type": "code",
   "execution_count": 24,
   "metadata": {},
   "outputs": [
    {
     "data": {
      "text/plain": [
       "director_name    104\n",
       "actor_1_name       7\n",
       "actor_2_name      13\n",
       "actor_3_name      23\n",
       "dtype: int64"
      ]
     },
     "execution_count": 24,
     "metadata": {},
     "output_type": "execute_result"
    }
   ],
   "source": [
    "data[crew_variables].isnull().sum()"
   ]
  },
  {
   "cell_type": "markdown",
   "metadata": {},
   "source": [
    "Nous remplaçons chacune de ces valeurs manquantes par la valeur médiane de leur variable transformée (étant donné que les distributions sont biaisées nous n'utilisons pas la moyenne)"
   ]
  },
  {
   "cell_type": "code",
   "execution_count": 25,
   "metadata": {},
   "outputs": [],
   "source": [
    "data[crew_variables] = data[crew_variables].fillna(data[crew_variables].median())"
   ]
  },
  {
   "cell_type": "markdown",
   "metadata": {},
   "source": [
    "### Variables numériques - 1"
   ]
  },
  {
   "cell_type": "markdown",
   "metadata": {},
   "source": [
    "Nous regroupons ensemble les variables qui traduisent la popularité du film auprès du public et des critiques, étant donné qu'elles passent par des phases de *pre-processing* similaires."
   ]
  },
  {
   "cell_type": "code",
   "execution_count": 26,
   "metadata": {},
   "outputs": [],
   "source": [
    "num_easy = ['num_critic_for_reviews', 'num_user_for_reviews', 'num_voted_users', 'imdb_score', 'movie_facebook_likes', \n",
    "            'director_facebook_likes', 'actor_1_facebook_likes', 'actor_2_facebook_likes', 'actor_3_facebook_likes', 'cast_total_facebook_likes']"
   ]
  },
  {
   "cell_type": "markdown",
   "metadata": {},
   "source": [
    "Affichons la distribution de chacune des variables à l'aide de boxplots"
   ]
  },
  {
   "cell_type": "code",
   "execution_count": 27,
   "metadata": {},
   "outputs": [
    {
     "data": {
      "image/png": "[encoded data removed]",
      "text/plain": [
       "<matplotlib.figure.Figure at 0x1a093b81d0>"
      ]
     },
     "metadata": {},
     "output_type": "display_data"
    },
    {
     "data": {
      "image/png": "[encoded data removed]",
      "text/plain": [
       "<matplotlib.figure.Figure at 0x1a0a161f28>"
      ]
     },
     "metadata": {},
     "output_type": "display_data"
    },
    {
     "data": {
      "image/png": "[encoded data removed]",
      "text/plain": [
       "<matplotlib.figure.Figure at 0x1a0a6bc438>"
      ]
     },
     "metadata": {},
     "output_type": "display_data"
    },
    {
     "data": {
      "image/png": "[encoded data removed]",
      "text/plain": [
       "<matplotlib.figure.Figure at 0x1a0a705eb8>"
      ]
     },
     "metadata": {},
     "output_type": "display_data"
    },
    {
     "data": {
      "image/png": "[encoded data removed]",
      "text/plain": [
       "<matplotlib.figure.Figure at 0x1a0a76fa90>"
      ]
     },
     "metadata": {},
     "output_type": "display_data"
    },
    {
     "data": {
      "image/png": "[encoded data removed]",
      "text/plain": [
       "<matplotlib.figure.Figure at 0x1a0a757860>"
      ]
     },
     "metadata": {},
     "output_type": "display_data"
    },
    {
     "data": {
      "image/png": "[encoded data removed]",
      "text/plain": [
       "<matplotlib.figure.Figure at 0x1a0a7dbf60>"
      ]
     },
     "metadata": {},
     "output_type": "display_data"
    },
    {
     "data": {
      "image/png": "[encoded data removed]",
      "text/plain": [
       "<matplotlib.figure.Figure at 0x1a0a83a668>"
      ]
     },
     "metadata": {},
     "output_type": "display_data"
    },
    {
     "data": {
      "image/png": "[encoded data removed]",
      "text/plain": [
       "<matplotlib.figure.Figure at 0x1a0a87ce10>"
      ]
     },
     "metadata": {},
     "output_type": "display_data"
    },
    {
     "data": {
      "image/png": "[encoded data removed]",
      "text/plain": [
       "<matplotlib.figure.Figure at 0x1a0a8ce9e8>"
      ]
     },
     "metadata": {},
     "output_type": "display_data"
    }
   ],
   "source": [
    "for var in num_easy:\n",
    "    plt.figure()\n",
    "    sns.boxplot(x=var, data=data)"
   ]
  },
  {
   "cell_type": "markdown",
   "metadata": {},
   "source": [
    "Nous choisissons là encore de remplacer le peu de valeurs manquantes dans chaque variable par leur médiane"
   ]
  },
  {
   "cell_type": "code",
   "execution_count": 28,
   "metadata": {},
   "outputs": [],
   "source": [
    "data[num_easy] = data[num_easy].fillna(data[num_easy].median())"
   ]
  },
  {
   "cell_type": "markdown",
   "metadata": {},
   "source": [
    "Aussi, nous mettons à l'échelle l'étendue de chacune de ces variables dans un intervalle entre [0, 1], afin de s'assurer que toutes les variables aient le même poids dans les modélisations à venir. "
   ]
  },
  {
   "cell_type": "code",
   "execution_count": 29,
   "metadata": {},
   "outputs": [],
   "source": [
    "scaler = MinMaxScaler()\n",
    "data[num_easy] = scaler.fit_transform(data[num_easy])"
   ]
  },
  {
   "cell_type": "markdown",
   "metadata": {},
   "source": [
    "### Variables numériques - 2"
   ]
  },
  {
   "cell_type": "markdown",
   "metadata": {},
   "source": [
    "#### _aspect ratio_"
   ]
  },
  {
   "cell_type": "code",
   "execution_count": 30,
   "metadata": {},
   "outputs": [
    {
     "data": {
      "text/plain": [
       " 2.35     2360\n",
       " 1.85     1906\n",
       "NaN        329\n",
       " 1.78      110\n",
       " 1.37      100\n",
       " 1.33       68\n",
       " 1.66       64\n",
       " 16.00      45\n",
       " 2.20       15\n",
       " 2.39       15\n",
       " 4.00        7\n",
       " 2.00        5\n",
       " 2.40        3\n",
       " 1.75        3\n",
       " 2.76        3\n",
       " 2.55        2\n",
       " 1.50        2\n",
       " 2.24        1\n",
       " 1.20        1\n",
       " 1.18        1\n",
       " 1.44        1\n",
       " 1.77        1\n",
       " 1.89        1\n",
       "Name: aspect_ratio, dtype: int64"
      ]
     },
     "execution_count": 30,
     "metadata": {},
     "output_type": "execute_result"
    }
   ],
   "source": [
    "data['aspect_ratio'].value_counts(dropna=False)"
   ]
  },
  {
   "cell_type": "markdown",
   "metadata": {},
   "source": [
    "Après plusieurs recherches, les catégories `16.00` and `4.00` ne correspondent pas à des ratios de format d'image connus. Nous les remplaçons par des valeurs manquantes pour s'assurer qu'elles ne déforment pas la distribution."
   ]
  },
  {
   "cell_type": "code",
   "execution_count": 31,
   "metadata": {},
   "outputs": [
    {
     "data": {
      "image/png": "[encoded data removed]",
      "text/plain": [
       "<matplotlib.figure.Figure at 0x1a0abee1d0>"
      ]
     },
     "metadata": {},
     "output_type": "display_data"
    }
   ],
   "source": [
    "data['aspect_ratio'].replace({16.00: np.nan, 4.00: np.nan}, inplace=True)\n",
    "data['aspect_ratio'].hist();"
   ]
  },
  {
   "cell_type": "markdown",
   "metadata": {},
   "source": [
    "Nous remplaçons les valeurs manquantes restantes de la variable par sa moyenne, et rammenons ses valeurs dans un intervalle entre [0, 1]"
   ]
  },
  {
   "cell_type": "code",
   "execution_count": 32,
   "metadata": {},
   "outputs": [],
   "source": [
    "data['aspect_ratio'] = data['aspect_ratio'].fillna(data['aspect_ratio'].mean())"
   ]
  },
  {
   "cell_type": "markdown",
   "metadata": {},
   "source": [
    "#### _Duration_"
   ]
  },
  {
   "cell_type": "code",
   "execution_count": 33,
   "metadata": {},
   "outputs": [
    {
     "data": {
      "image/png": "[encoded data removed]",
      "text/plain": [
       "<matplotlib.figure.Figure at 0x1a0aed1400>"
      ]
     },
     "metadata": {},
     "output_type": "display_data"
    }
   ],
   "source": [
    "data['duration'].plot(kind='box');"
   ]
  },
  {
   "cell_type": "code",
   "execution_count": 34,
   "metadata": {},
   "outputs": [
    {
     "data": {
      "text/html": [
       "<div>\n",
       "<style>\n",
       "    .dataframe thead tr:only-child th {\n",
       "        text-align: right;\n",
       "    }\n",
       "\n",
       "    .dataframe thead th {\n",
       "        text-align: left;\n",
       "    }\n",
       "\n",
       "    .dataframe tbody tr th {\n",
       "        vertical-align: top;\n",
       "    }\n",
       "</style>\n",
       "<table border=\"1\" class=\"dataframe\">\n",
       "  <thead>\n",
       "    <tr style=\"text-align: right;\">\n",
       "      <th></th>\n",
       "      <th>actor_1_facebook_likes</th>\n",
       "      <th>actor_1_name</th>\n",
       "      <th>actor_2_facebook_likes</th>\n",
       "      <th>actor_2_name</th>\n",
       "      <th>actor_3_facebook_likes</th>\n",
       "      <th>actor_3_name</th>\n",
       "      <th>aspect_ratio</th>\n",
       "      <th>budget</th>\n",
       "      <th>cast_total_facebook_likes</th>\n",
       "      <th>color</th>\n",
       "      <th>...</th>\n",
       "      <th>genre_documentary</th>\n",
       "      <th>genre_western</th>\n",
       "      <th>genre_romance</th>\n",
       "      <th>genre_biography</th>\n",
       "      <th>is_TV</th>\n",
       "      <th>rating_G</th>\n",
       "      <th>rating_PG</th>\n",
       "      <th>rating_PG-13</th>\n",
       "      <th>rating_R</th>\n",
       "      <th>rating_NC-17</th>\n",
       "    </tr>\n",
       "  </thead>\n",
       "  <tbody>\n",
       "    <tr>\n",
       "      <th>1710</th>\n",
       "      <td>0.000230</td>\n",
       "      <td>0.020408</td>\n",
       "      <td>0.000460</td>\n",
       "      <td>0.05</td>\n",
       "      <td>0.002217</td>\n",
       "      <td>0.125</td>\n",
       "      <td>2.084723</td>\n",
       "      <td>NaN</td>\n",
       "      <td>0.000467</td>\n",
       "      <td>1</td>\n",
       "      <td>...</td>\n",
       "      <td>0</td>\n",
       "      <td>0</td>\n",
       "      <td>0</td>\n",
       "      <td>0</td>\n",
       "      <td>0</td>\n",
       "      <td>0</td>\n",
       "      <td>0</td>\n",
       "      <td>0</td>\n",
       "      <td>1</td>\n",
       "      <td>0</td>\n",
       "    </tr>\n",
       "    <tr>\n",
       "      <th>2466</th>\n",
       "      <td>0.001402</td>\n",
       "      <td>0.020408</td>\n",
       "      <td>0.000219</td>\n",
       "      <td>0.05</td>\n",
       "      <td>0.001304</td>\n",
       "      <td>0.125</td>\n",
       "      <td>2.350000</td>\n",
       "      <td>NaN</td>\n",
       "      <td>0.001571</td>\n",
       "      <td>1</td>\n",
       "      <td>...</td>\n",
       "      <td>0</td>\n",
       "      <td>0</td>\n",
       "      <td>0</td>\n",
       "      <td>1</td>\n",
       "      <td>0</td>\n",
       "      <td>0</td>\n",
       "      <td>0</td>\n",
       "      <td>0</td>\n",
       "      <td>1</td>\n",
       "      <td>0</td>\n",
       "    </tr>\n",
       "    <tr>\n",
       "      <th>1501</th>\n",
       "      <td>0.001325</td>\n",
       "      <td>0.081633</td>\n",
       "      <td>0.004920</td>\n",
       "      <td>0.05</td>\n",
       "      <td>0.029217</td>\n",
       "      <td>0.500</td>\n",
       "      <td>1.660000</td>\n",
       "      <td>35000000.0</td>\n",
       "      <td>0.004914</td>\n",
       "      <td>1</td>\n",
       "      <td>...</td>\n",
       "      <td>0</td>\n",
       "      <td>0</td>\n",
       "      <td>0</td>\n",
       "      <td>0</td>\n",
       "      <td>0</td>\n",
       "      <td>0</td>\n",
       "      <td>0</td>\n",
       "      <td>0</td>\n",
       "      <td>1</td>\n",
       "      <td>0</td>\n",
       "    </tr>\n",
       "    <tr>\n",
       "      <th>1144</th>\n",
       "      <td>0.018750</td>\n",
       "      <td>0.367347</td>\n",
       "      <td>0.006197</td>\n",
       "      <td>0.15</td>\n",
       "      <td>0.029478</td>\n",
       "      <td>0.250</td>\n",
       "      <td>2.350000</td>\n",
       "      <td>44000000.0</td>\n",
       "      <td>0.021706</td>\n",
       "      <td>1</td>\n",
       "      <td>...</td>\n",
       "      <td>0</td>\n",
       "      <td>1</td>\n",
       "      <td>0</td>\n",
       "      <td>0</td>\n",
       "      <td>0</td>\n",
       "      <td>0</td>\n",
       "      <td>0</td>\n",
       "      <td>0</td>\n",
       "      <td>1</td>\n",
       "      <td>0</td>\n",
       "    </tr>\n",
       "    <tr>\n",
       "      <th>3311</th>\n",
       "      <td>0.000011</td>\n",
       "      <td>0.020408</td>\n",
       "      <td>0.000044</td>\n",
       "      <td>0.05</td>\n",
       "      <td>0.000261</td>\n",
       "      <td>0.125</td>\n",
       "      <td>1.850000</td>\n",
       "      <td>400000000.0</td>\n",
       "      <td>0.000049</td>\n",
       "      <td>1</td>\n",
       "      <td>...</td>\n",
       "      <td>0</td>\n",
       "      <td>0</td>\n",
       "      <td>0</td>\n",
       "      <td>0</td>\n",
       "      <td>0</td>\n",
       "      <td>0</td>\n",
       "      <td>0</td>\n",
       "      <td>0</td>\n",
       "      <td>1</td>\n",
       "      <td>0</td>\n",
       "    </tr>\n",
       "  </tbody>\n",
       "</table>\n",
       "<p>5 rows × 63 columns</p>\n",
       "</div>"
      ],
      "text/plain": [
       "      actor_1_facebook_likes  actor_1_name  actor_2_facebook_likes  \\\n",
       "1710                0.000230      0.020408                0.000460   \n",
       "2466                0.001402      0.020408                0.000219   \n",
       "1501                0.001325      0.081633                0.004920   \n",
       "1144                0.018750      0.367347                0.006197   \n",
       "3311                0.000011      0.020408                0.000044   \n",
       "\n",
       "      actor_2_name  actor_3_facebook_likes  actor_3_name  aspect_ratio  \\\n",
       "1710          0.05                0.002217         0.125      2.084723   \n",
       "2466          0.05                0.001304         0.125      2.350000   \n",
       "1501          0.05                0.029217         0.500      1.660000   \n",
       "1144          0.15                0.029478         0.250      2.350000   \n",
       "3311          0.05                0.000261         0.125      1.850000   \n",
       "\n",
       "           budget  cast_total_facebook_likes  color      ...       \\\n",
       "1710          NaN                   0.000467      1      ...        \n",
       "2466          NaN                   0.001571      1      ...        \n",
       "1501   35000000.0                   0.004914      1      ...        \n",
       "1144   44000000.0                   0.021706      1      ...        \n",
       "3311  400000000.0                   0.000049      1      ...        \n",
       "\n",
       "     genre_documentary genre_western  genre_romance  genre_biography  is_TV  \\\n",
       "1710                 0             0              0                0      0   \n",
       "2466                 0             0              0                1      0   \n",
       "1501                 0             0              0                0      0   \n",
       "1144                 0             1              0                0      0   \n",
       "3311                 0             0              0                0      0   \n",
       "\n",
       "     rating_G rating_PG  rating_PG-13  rating_R  rating_NC-17  \n",
       "1710        0         0             0         1             0  \n",
       "2466        0         0             0         1             0  \n",
       "1501        0         0             0         1             0  \n",
       "1144        0         0             0         1             0  \n",
       "3311        0         0             0         1             0  \n",
       "\n",
       "[5 rows x 63 columns]"
      ]
     },
     "execution_count": 34,
     "metadata": {},
     "output_type": "execute_result"
    }
   ],
   "source": [
    "data.sort_values(by='duration', ascending=False).head()"
   ]
  },
  {
   "cell_type": "code",
   "execution_count": 35,
   "metadata": {},
   "outputs": [],
   "source": [
    "data['duration'] = data['duration'].fillna(data['duration'].median())"
   ]
  },
  {
   "cell_type": "markdown",
   "metadata": {},
   "source": [
    "#### _title year_"
   ]
  },
  {
   "cell_type": "code",
   "execution_count": 36,
   "metadata": {},
   "outputs": [
    {
     "data": {
      "text/plain": [
       "count    4935.000000\n",
       "mean     2002.470517\n",
       "std        12.474599\n",
       "min      1916.000000\n",
       "25%      1999.000000\n",
       "50%      2005.000000\n",
       "75%      2011.000000\n",
       "max      2016.000000\n",
       "Name: title_year, dtype: float64"
      ]
     },
     "execution_count": 36,
     "metadata": {},
     "output_type": "execute_result"
    }
   ],
   "source": [
    "data['title_year'].describe()"
   ]
  },
  {
   "cell_type": "markdown",
   "metadata": {},
   "source": [
    "Il ne semble pas il y avoir de valeurs fantaisistes. Peu de valeurs manquantes"
   ]
  },
  {
   "cell_type": "code",
   "execution_count": 37,
   "metadata": {},
   "outputs": [
    {
     "data": {
      "text/plain": [
       "False    4935\n",
       "True      108\n",
       "Name: title_year, dtype: int64"
      ]
     },
     "execution_count": 37,
     "metadata": {},
     "output_type": "execute_result"
    }
   ],
   "source": [
    "data['title_year'].map(pd.isnull).value_counts()"
   ]
  },
  {
   "cell_type": "markdown",
   "metadata": {},
   "source": [
    "Remplaçons-les par la médiane de la variable"
   ]
  },
  {
   "cell_type": "code",
   "execution_count": 38,
   "metadata": {},
   "outputs": [],
   "source": [
    "data['title_year'] = data['title_year'].fillna(data['title_year'].median())"
   ]
  },
  {
   "cell_type": "markdown",
   "metadata": {},
   "source": [
    "#### Budget"
   ]
  },
  {
   "cell_type": "code",
   "execution_count": 39,
   "metadata": {},
   "outputs": [
    {
     "data": {
      "image/png": "[encoded data removed]",
      "text/plain": [
       "<matplotlib.figure.Figure at 0x1a0abe02e8>"
      ]
     },
     "metadata": {},
     "output_type": "display_data"
    }
   ],
   "source": [
    "sns.boxplot(data['budget']);"
   ]
  },
  {
   "cell_type": "markdown",
   "metadata": {},
   "source": [
    "Problème pour les valeurs de cette variable: elles n'ont pas toutes été converties dans la même devise, ce qui la rend inexploitable. On choisit de la supprimer pour cette raison"
   ]
  },
  {
   "cell_type": "markdown",
   "metadata": {},
   "source": [
    "Là encore, nous adaptons les étendues de ces variables pour les mettre dans un intervalle entre [0,1] pour les raisons données précédemment."
   ]
  },
  {
   "cell_type": "code",
   "execution_count": 40,
   "metadata": {},
   "outputs": [],
   "source": [
    "num_hard = ['aspect_ratio', 'duration', 'title_year']\n",
    "scaler = MinMaxScaler()\n",
    "data[num_hard] = scaler.fit_transform(data[num_hard])"
   ]
  },
  {
   "cell_type": "markdown",
   "metadata": {},
   "source": [
    "### Derniers ajustements"
   ]
  },
  {
   "cell_type": "markdown",
   "metadata": {},
   "source": [
    "#### Mise en forme"
   ]
  },
  {
   "cell_type": "markdown",
   "metadata": {},
   "source": [
    "Extraire `id` depuis lien imbd, et l'utiliser pour repérer et supprimer les doublons dans les entrées"
   ]
  },
  {
   "cell_type": "code",
   "execution_count": 41,
   "metadata": {},
   "outputs": [],
   "source": [
    "data['id'] = data['movie_imdb_link'].map(lambda x: x.split('/')[4][2:])\n",
    "\n",
    "data = data[~data.duplicated('id')]"
   ]
  },
  {
   "cell_type": "markdown",
   "metadata": {},
   "source": [
    "Mettre cet id - avec le nom des films - dans un tableau de données séparé."
   ]
  },
  {
   "cell_type": "code",
   "execution_count": 42,
   "metadata": {},
   "outputs": [],
   "source": [
    "movies = data[['id', 'movie_title']]\n",
    "movies['movie_title'] = movies['movie_title'].transform(lambda x: x[:-1])\n",
    "to_search = movies['movie_title'].transform(lambda x: x.translate(str.maketrans('','',string.punctuation)).lower().strip())\n",
    "movies['movie_search'] = to_search"
   ]
  },
  {
   "cell_type": "markdown",
   "metadata": {},
   "source": [
    "Poser l'`id` en index des deux tableaux de données"
   ]
  },
  {
   "cell_type": "code",
   "execution_count": 43,
   "metadata": {},
   "outputs": [],
   "source": [
    "data.set_index(['id'], inplace=True)\n",
    "movies.set_index(['id'], inplace=True)"
   ]
  },
  {
   "cell_type": "markdown",
   "metadata": {},
   "source": [
    "Supprimons les variables devenues inutiles"
   ]
  },
  {
   "cell_type": "markdown",
   "metadata": {},
   "source": [
    "- 'plot_keywords' (inutile)\n",
    "- 'genres' (a été binarisée)\n",
    "- 'content_rating' (binarisée)\n",
    "- 'facenumber_in_poster' (discrétisée, binarisée)\n",
    "- 'country' (similaire à `language`)\n",
    "- 'movie_imdb_link' (id extrait)\n",
    "- 'movie_title' (inutile pour modélisation)\n",
    "- 'budget' (information non utilisable)"
   ]
  },
  {
   "cell_type": "code",
   "execution_count": 44,
   "metadata": {},
   "outputs": [],
   "source": [
    "data.drop(['genres', 'content_rating', 'facenumber_in_poster', 'country', \n",
    "           'movie_imdb_link', 'plot_keywords', 'movie_title', 'budget'],\n",
    "          axis=1, inplace=True)"
   ]
  },
  {
   "cell_type": "markdown",
   "metadata": {},
   "source": [
    "#### Traitement de la variable _Gross_"
   ]
  },
  {
   "cell_type": "code",
   "execution_count": 45,
   "metadata": {},
   "outputs": [
    {
     "data": {
      "image/png": "[encoded data removed]",
      "text/plain": [
       "<matplotlib.figure.Figure at 0x1a0a96d2b0>"
      ]
     },
     "metadata": {},
     "output_type": "display_data"
    }
   ],
   "source": [
    "sns.boxplot(data['gross']);"
   ]
  },
  {
   "cell_type": "markdown",
   "metadata": {},
   "source": [
    "Les valeurs de cette variable semblent consistantes. \n",
    "\n",
    "Cependant, cette variable, contrairement aux autres, présente beaucoup de valeurs manquantes. Nous utilisons une régression linéaire pour tenter de les prédire à l'aide des autres variables indépendantes."
   ]
  },
  {
   "cell_type": "code",
   "execution_count": 46,
   "metadata": {},
   "outputs": [],
   "source": [
    "train = data[data['gross'].notnull()]\n",
    "test = data[data['gross'].isnull()]\n",
    "\n",
    "X_train, y_train = train.drop(['gross'], axis=1), train['gross']\n",
    "X_test = test.drop(['gross'], axis=1)"
   ]
  },
  {
   "cell_type": "code",
   "execution_count": 47,
   "metadata": {},
   "outputs": [],
   "source": [
    "gross_model = LinearRegression()\n",
    "gross_model.fit(X_train, y_train)\n",
    "gross_filled = gross_model.predict(X_test)\n",
    "data.loc[data['gross'].isnull(), 'gross'] = gross_filled"
   ]
  },
  {
   "cell_type": "markdown",
   "metadata": {},
   "source": [
    "Comme pour le reste des variables numériques, ajustons son étendue dans l'intervalle [0, 1]."
   ]
  },
  {
   "cell_type": "code",
   "execution_count": 48,
   "metadata": {},
   "outputs": [],
   "source": [
    "gross_scale = MinMaxScaler()\n",
    "gross_var = data['gross']\n",
    "data['gross'] = gross_scale.fit_transform(gross_var.values.reshape(-1, 1))"
   ]
  },
  {
   "cell_type": "markdown",
   "metadata": {},
   "source": [
    "Affichons un résumé de nos variables en guise de `sanity check`"
   ]
  },
  {
   "cell_type": "code",
   "execution_count": 49,
   "metadata": {},
   "outputs": [
    {
     "data": {
      "text/html": [
       "<div>\n",
       "<style>\n",
       "    .dataframe thead tr:only-child th {\n",
       "        text-align: right;\n",
       "    }\n",
       "\n",
       "    .dataframe thead th {\n",
       "        text-align: left;\n",
       "    }\n",
       "\n",
       "    .dataframe tbody tr th {\n",
       "        vertical-align: top;\n",
       "    }\n",
       "</style>\n",
       "<table border=\"1\" class=\"dataframe\">\n",
       "  <thead>\n",
       "    <tr style=\"text-align: right;\">\n",
       "      <th></th>\n",
       "      <th>count</th>\n",
       "      <th>mean</th>\n",
       "      <th>std</th>\n",
       "      <th>min</th>\n",
       "      <th>25%</th>\n",
       "      <th>50%</th>\n",
       "      <th>75%</th>\n",
       "      <th>max</th>\n",
       "    </tr>\n",
       "  </thead>\n",
       "  <tbody>\n",
       "    <tr>\n",
       "      <th>actor_1_facebook_likes</th>\n",
       "      <td>4919.0</td>\n",
       "      <td>0.010130</td>\n",
       "      <td>0.023584</td>\n",
       "      <td>0.000000</td>\n",
       "      <td>0.000949</td>\n",
       "      <td>0.001534</td>\n",
       "      <td>0.017188</td>\n",
       "      <td>1.0</td>\n",
       "    </tr>\n",
       "    <tr>\n",
       "      <th>actor_1_name</th>\n",
       "      <td>4919.0</td>\n",
       "      <td>0.169584</td>\n",
       "      <td>0.198854</td>\n",
       "      <td>0.020408</td>\n",
       "      <td>0.020408</td>\n",
       "      <td>0.081633</td>\n",
       "      <td>0.244898</td>\n",
       "      <td>1.0</td>\n",
       "    </tr>\n",
       "    <tr>\n",
       "      <th>actor_2_facebook_likes</th>\n",
       "      <td>4919.0</td>\n",
       "      <td>0.011813</td>\n",
       "      <td>0.029236</td>\n",
       "      <td>0.000000</td>\n",
       "      <td>0.002029</td>\n",
       "      <td>0.004328</td>\n",
       "      <td>0.006657</td>\n",
       "      <td>1.0</td>\n",
       "    </tr>\n",
       "    <tr>\n",
       "      <th>actor_2_name</th>\n",
       "      <td>4919.0</td>\n",
       "      <td>0.137985</td>\n",
       "      <td>0.124553</td>\n",
       "      <td>0.050000</td>\n",
       "      <td>0.050000</td>\n",
       "      <td>0.100000</td>\n",
       "      <td>0.200000</td>\n",
       "      <td>1.0</td>\n",
       "    </tr>\n",
       "    <tr>\n",
       "      <th>actor_3_facebook_likes</th>\n",
       "      <td>4919.0</td>\n",
       "      <td>0.027380</td>\n",
       "      <td>0.070510</td>\n",
       "      <td>0.000000</td>\n",
       "      <td>0.005761</td>\n",
       "      <td>0.016000</td>\n",
       "      <td>0.027435</td>\n",
       "      <td>1.0</td>\n",
       "    </tr>\n",
       "    <tr>\n",
       "      <th>actor_3_name</th>\n",
       "      <td>4919.0</td>\n",
       "      <td>0.248120</td>\n",
       "      <td>0.177233</td>\n",
       "      <td>0.125000</td>\n",
       "      <td>0.125000</td>\n",
       "      <td>0.125000</td>\n",
       "      <td>0.375000</td>\n",
       "      <td>1.0</td>\n",
       "    </tr>\n",
       "    <tr>\n",
       "      <th>aspect_ratio</th>\n",
       "      <td>4919.0</td>\n",
       "      <td>0.571503</td>\n",
       "      <td>0.175952</td>\n",
       "      <td>0.000000</td>\n",
       "      <td>0.424051</td>\n",
       "      <td>0.572610</td>\n",
       "      <td>0.740506</td>\n",
       "      <td>1.0</td>\n",
       "    </tr>\n",
       "    <tr>\n",
       "      <th>cast_total_facebook_likes</th>\n",
       "      <td>4919.0</td>\n",
       "      <td>0.014579</td>\n",
       "      <td>0.027652</td>\n",
       "      <td>0.000000</td>\n",
       "      <td>0.002123</td>\n",
       "      <td>0.004635</td>\n",
       "      <td>0.020726</td>\n",
       "      <td>1.0</td>\n",
       "    </tr>\n",
       "    <tr>\n",
       "      <th>color</th>\n",
       "      <td>4919.0</td>\n",
       "      <td>0.958528</td>\n",
       "      <td>0.199399</td>\n",
       "      <td>0.000000</td>\n",
       "      <td>1.000000</td>\n",
       "      <td>1.000000</td>\n",
       "      <td>1.000000</td>\n",
       "      <td>1.0</td>\n",
       "    </tr>\n",
       "    <tr>\n",
       "      <th>director_facebook_likes</th>\n",
       "      <td>4919.0</td>\n",
       "      <td>0.029452</td>\n",
       "      <td>0.121916</td>\n",
       "      <td>0.000000</td>\n",
       "      <td>0.000304</td>\n",
       "      <td>0.002130</td>\n",
       "      <td>0.008174</td>\n",
       "      <td>1.0</td>\n",
       "    </tr>\n",
       "    <tr>\n",
       "      <th>director_name</th>\n",
       "      <td>4919.0</td>\n",
       "      <td>0.162807</td>\n",
       "      <td>0.160552</td>\n",
       "      <td>0.038462</td>\n",
       "      <td>0.038462</td>\n",
       "      <td>0.115385</td>\n",
       "      <td>0.192308</td>\n",
       "      <td>1.0</td>\n",
       "    </tr>\n",
       "    <tr>\n",
       "      <th>duration</th>\n",
       "      <td>4919.0</td>\n",
       "      <td>0.198565</td>\n",
       "      <td>0.050081</td>\n",
       "      <td>0.000000</td>\n",
       "      <td>0.170635</td>\n",
       "      <td>0.190476</td>\n",
       "      <td>0.220238</td>\n",
       "      <td>1.0</td>\n",
       "    </tr>\n",
       "    <tr>\n",
       "      <th>gross</th>\n",
       "      <td>4919.0</td>\n",
       "      <td>0.999734</td>\n",
       "      <td>0.014917</td>\n",
       "      <td>0.000000</td>\n",
       "      <td>1.000000</td>\n",
       "      <td>1.000000</td>\n",
       "      <td>1.000000</td>\n",
       "      <td>1.0</td>\n",
       "    </tr>\n",
       "    <tr>\n",
       "      <th>imdb_score</th>\n",
       "      <td>4919.0</td>\n",
       "      <td>0.612389</td>\n",
       "      <td>0.142735</td>\n",
       "      <td>0.000000</td>\n",
       "      <td>0.531646</td>\n",
       "      <td>0.632911</td>\n",
       "      <td>0.708861</td>\n",
       "      <td>1.0</td>\n",
       "    </tr>\n",
       "    <tr>\n",
       "      <th>language</th>\n",
       "      <td>4919.0</td>\n",
       "      <td>0.931897</td>\n",
       "      <td>0.251949</td>\n",
       "      <td>0.000000</td>\n",
       "      <td>1.000000</td>\n",
       "      <td>1.000000</td>\n",
       "      <td>1.000000</td>\n",
       "      <td>1.0</td>\n",
       "    </tr>\n",
       "    <tr>\n",
       "      <th>movie_facebook_likes</th>\n",
       "      <td>4919.0</td>\n",
       "      <td>0.021047</td>\n",
       "      <td>0.055016</td>\n",
       "      <td>0.000000</td>\n",
       "      <td>0.000000</td>\n",
       "      <td>0.000458</td>\n",
       "      <td>0.005731</td>\n",
       "      <td>1.0</td>\n",
       "    </tr>\n",
       "    <tr>\n",
       "      <th>num_critic_for_reviews</th>\n",
       "      <td>4919.0</td>\n",
       "      <td>0.168388</td>\n",
       "      <td>0.147396</td>\n",
       "      <td>0.000000</td>\n",
       "      <td>0.060345</td>\n",
       "      <td>0.134236</td>\n",
       "      <td>0.233990</td>\n",
       "      <td>1.0</td>\n",
       "    </tr>\n",
       "    <tr>\n",
       "      <th>num_user_for_reviews</th>\n",
       "      <td>4919.0</td>\n",
       "      <td>0.052605</td>\n",
       "      <td>0.073555</td>\n",
       "      <td>0.000000</td>\n",
       "      <td>0.012453</td>\n",
       "      <td>0.030243</td>\n",
       "      <td>0.062858</td>\n",
       "      <td>1.0</td>\n",
       "    </tr>\n",
       "    <tr>\n",
       "      <th>num_voted_users</th>\n",
       "      <td>4919.0</td>\n",
       "      <td>0.048891</td>\n",
       "      <td>0.081838</td>\n",
       "      <td>0.000000</td>\n",
       "      <td>0.004942</td>\n",
       "      <td>0.019620</td>\n",
       "      <td>0.055483</td>\n",
       "      <td>1.0</td>\n",
       "    </tr>\n",
       "    <tr>\n",
       "      <th>title_year</th>\n",
       "      <td>4919.0</td>\n",
       "      <td>0.865001</td>\n",
       "      <td>0.123241</td>\n",
       "      <td>0.000000</td>\n",
       "      <td>0.830000</td>\n",
       "      <td>0.890000</td>\n",
       "      <td>0.940000</td>\n",
       "      <td>1.0</td>\n",
       "    </tr>\n",
       "    <tr>\n",
       "      <th>posterfaces_more</th>\n",
       "      <td>4919.0</td>\n",
       "      <td>0.323236</td>\n",
       "      <td>0.467760</td>\n",
       "      <td>0.000000</td>\n",
       "      <td>0.000000</td>\n",
       "      <td>0.000000</td>\n",
       "      <td>1.000000</td>\n",
       "      <td>1.0</td>\n",
       "    </tr>\n",
       "    <tr>\n",
       "      <th>posterfaces_none</th>\n",
       "      <td>4919.0</td>\n",
       "      <td>0.427933</td>\n",
       "      <td>0.494829</td>\n",
       "      <td>0.000000</td>\n",
       "      <td>0.000000</td>\n",
       "      <td>0.000000</td>\n",
       "      <td>1.000000</td>\n",
       "      <td>1.0</td>\n",
       "    </tr>\n",
       "    <tr>\n",
       "      <th>posterfaces_one</th>\n",
       "      <td>4919.0</td>\n",
       "      <td>0.248831</td>\n",
       "      <td>0.432380</td>\n",
       "      <td>0.000000</td>\n",
       "      <td>0.000000</td>\n",
       "      <td>0.000000</td>\n",
       "      <td>0.000000</td>\n",
       "      <td>1.0</td>\n",
       "    </tr>\n",
       "    <tr>\n",
       "      <th>genre_short</th>\n",
       "      <td>4919.0</td>\n",
       "      <td>0.001016</td>\n",
       "      <td>0.031869</td>\n",
       "      <td>0.000000</td>\n",
       "      <td>0.000000</td>\n",
       "      <td>0.000000</td>\n",
       "      <td>0.000000</td>\n",
       "      <td>1.0</td>\n",
       "    </tr>\n",
       "    <tr>\n",
       "      <th>genre_history</th>\n",
       "      <td>4919.0</td>\n",
       "      <td>0.041065</td>\n",
       "      <td>0.198461</td>\n",
       "      <td>0.000000</td>\n",
       "      <td>0.000000</td>\n",
       "      <td>0.000000</td>\n",
       "      <td>0.000000</td>\n",
       "      <td>1.0</td>\n",
       "    </tr>\n",
       "    <tr>\n",
       "      <th>genre_sci-fi</th>\n",
       "      <td>4919.0</td>\n",
       "      <td>0.120960</td>\n",
       "      <td>0.326113</td>\n",
       "      <td>0.000000</td>\n",
       "      <td>0.000000</td>\n",
       "      <td>0.000000</td>\n",
       "      <td>0.000000</td>\n",
       "      <td>1.0</td>\n",
       "    </tr>\n",
       "    <tr>\n",
       "      <th>genre_thriller</th>\n",
       "      <td>4919.0</td>\n",
       "      <td>0.277292</td>\n",
       "      <td>0.447707</td>\n",
       "      <td>0.000000</td>\n",
       "      <td>0.000000</td>\n",
       "      <td>0.000000</td>\n",
       "      <td>1.000000</td>\n",
       "      <td>1.0</td>\n",
       "    </tr>\n",
       "    <tr>\n",
       "      <th>genre_mystery</th>\n",
       "      <td>4919.0</td>\n",
       "      <td>0.098597</td>\n",
       "      <td>0.298151</td>\n",
       "      <td>0.000000</td>\n",
       "      <td>0.000000</td>\n",
       "      <td>0.000000</td>\n",
       "      <td>0.000000</td>\n",
       "      <td>1.0</td>\n",
       "    </tr>\n",
       "    <tr>\n",
       "      <th>genre_drama</th>\n",
       "      <td>4919.0</td>\n",
       "      <td>0.515349</td>\n",
       "      <td>0.499815</td>\n",
       "      <td>0.000000</td>\n",
       "      <td>0.000000</td>\n",
       "      <td>1.000000</td>\n",
       "      <td>1.000000</td>\n",
       "      <td>1.0</td>\n",
       "    </tr>\n",
       "    <tr>\n",
       "      <th>genre_news</th>\n",
       "      <td>4919.0</td>\n",
       "      <td>0.000610</td>\n",
       "      <td>0.024691</td>\n",
       "      <td>0.000000</td>\n",
       "      <td>0.000000</td>\n",
       "      <td>0.000000</td>\n",
       "      <td>0.000000</td>\n",
       "      <td>1.0</td>\n",
       "    </tr>\n",
       "    <tr>\n",
       "      <th>genre_animation</th>\n",
       "      <td>4919.0</td>\n",
       "      <td>0.048790</td>\n",
       "      <td>0.215451</td>\n",
       "      <td>0.000000</td>\n",
       "      <td>0.000000</td>\n",
       "      <td>0.000000</td>\n",
       "      <td>0.000000</td>\n",
       "      <td>1.0</td>\n",
       "    </tr>\n",
       "    <tr>\n",
       "      <th>genre_game-show</th>\n",
       "      <td>4919.0</td>\n",
       "      <td>0.000203</td>\n",
       "      <td>0.014258</td>\n",
       "      <td>0.000000</td>\n",
       "      <td>0.000000</td>\n",
       "      <td>0.000000</td>\n",
       "      <td>0.000000</td>\n",
       "      <td>1.0</td>\n",
       "    </tr>\n",
       "    <tr>\n",
       "      <th>genre_family</th>\n",
       "      <td>4919.0</td>\n",
       "      <td>0.108559</td>\n",
       "      <td>0.311116</td>\n",
       "      <td>0.000000</td>\n",
       "      <td>0.000000</td>\n",
       "      <td>0.000000</td>\n",
       "      <td>0.000000</td>\n",
       "      <td>1.0</td>\n",
       "    </tr>\n",
       "    <tr>\n",
       "      <th>genre_crime</th>\n",
       "      <td>4919.0</td>\n",
       "      <td>0.176662</td>\n",
       "      <td>0.381421</td>\n",
       "      <td>0.000000</td>\n",
       "      <td>0.000000</td>\n",
       "      <td>0.000000</td>\n",
       "      <td>0.000000</td>\n",
       "      <td>1.0</td>\n",
       "    </tr>\n",
       "    <tr>\n",
       "      <th>genre_reality-tv</th>\n",
       "      <td>4919.0</td>\n",
       "      <td>0.000407</td>\n",
       "      <td>0.020162</td>\n",
       "      <td>0.000000</td>\n",
       "      <td>0.000000</td>\n",
       "      <td>0.000000</td>\n",
       "      <td>0.000000</td>\n",
       "      <td>1.0</td>\n",
       "    </tr>\n",
       "    <tr>\n",
       "      <th>genre_adventure</th>\n",
       "      <td>4919.0</td>\n",
       "      <td>0.180524</td>\n",
       "      <td>0.384663</td>\n",
       "      <td>0.000000</td>\n",
       "      <td>0.000000</td>\n",
       "      <td>0.000000</td>\n",
       "      <td>0.000000</td>\n",
       "      <td>1.0</td>\n",
       "    </tr>\n",
       "    <tr>\n",
       "      <th>genre_musical</th>\n",
       "      <td>4919.0</td>\n",
       "      <td>0.026631</td>\n",
       "      <td>0.161020</td>\n",
       "      <td>0.000000</td>\n",
       "      <td>0.000000</td>\n",
       "      <td>0.000000</td>\n",
       "      <td>0.000000</td>\n",
       "      <td>1.0</td>\n",
       "    </tr>\n",
       "    <tr>\n",
       "      <th>genre_film-noir</th>\n",
       "      <td>4919.0</td>\n",
       "      <td>0.001220</td>\n",
       "      <td>0.034907</td>\n",
       "      <td>0.000000</td>\n",
       "      <td>0.000000</td>\n",
       "      <td>0.000000</td>\n",
       "      <td>0.000000</td>\n",
       "      <td>1.0</td>\n",
       "    </tr>\n",
       "    <tr>\n",
       "      <th>genre_comedy</th>\n",
       "      <td>4919.0</td>\n",
       "      <td>0.375686</td>\n",
       "      <td>0.484349</td>\n",
       "      <td>0.000000</td>\n",
       "      <td>0.000000</td>\n",
       "      <td>0.000000</td>\n",
       "      <td>1.000000</td>\n",
       "      <td>1.0</td>\n",
       "    </tr>\n",
       "    <tr>\n",
       "      <th>genre_war</th>\n",
       "      <td>4919.0</td>\n",
       "      <td>0.042692</td>\n",
       "      <td>0.202181</td>\n",
       "      <td>0.000000</td>\n",
       "      <td>0.000000</td>\n",
       "      <td>0.000000</td>\n",
       "      <td>0.000000</td>\n",
       "      <td>1.0</td>\n",
       "    </tr>\n",
       "    <tr>\n",
       "      <th>genre_action</th>\n",
       "      <td>4919.0</td>\n",
       "      <td>0.226266</td>\n",
       "      <td>0.418456</td>\n",
       "      <td>0.000000</td>\n",
       "      <td>0.000000</td>\n",
       "      <td>0.000000</td>\n",
       "      <td>0.000000</td>\n",
       "      <td>1.0</td>\n",
       "    </tr>\n",
       "    <tr>\n",
       "      <th>genre_sport</th>\n",
       "      <td>4919.0</td>\n",
       "      <td>0.035983</td>\n",
       "      <td>0.186266</td>\n",
       "      <td>0.000000</td>\n",
       "      <td>0.000000</td>\n",
       "      <td>0.000000</td>\n",
       "      <td>0.000000</td>\n",
       "      <td>1.0</td>\n",
       "    </tr>\n",
       "    <tr>\n",
       "      <th>genre_horror</th>\n",
       "      <td>4919.0</td>\n",
       "      <td>0.109778</td>\n",
       "      <td>0.312645</td>\n",
       "      <td>0.000000</td>\n",
       "      <td>0.000000</td>\n",
       "      <td>0.000000</td>\n",
       "      <td>0.000000</td>\n",
       "      <td>1.0</td>\n",
       "    </tr>\n",
       "    <tr>\n",
       "      <th>genre_fantasy</th>\n",
       "      <td>4919.0</td>\n",
       "      <td>0.118520</td>\n",
       "      <td>0.323256</td>\n",
       "      <td>0.000000</td>\n",
       "      <td>0.000000</td>\n",
       "      <td>0.000000</td>\n",
       "      <td>0.000000</td>\n",
       "      <td>1.0</td>\n",
       "    </tr>\n",
       "    <tr>\n",
       "      <th>genre_music</th>\n",
       "      <td>4919.0</td>\n",
       "      <td>0.043098</td>\n",
       "      <td>0.203099</td>\n",
       "      <td>0.000000</td>\n",
       "      <td>0.000000</td>\n",
       "      <td>0.000000</td>\n",
       "      <td>0.000000</td>\n",
       "      <td>1.0</td>\n",
       "    </tr>\n",
       "    <tr>\n",
       "      <th>genre_documentary</th>\n",
       "      <td>4919.0</td>\n",
       "      <td>0.024598</td>\n",
       "      <td>0.154914</td>\n",
       "      <td>0.000000</td>\n",
       "      <td>0.000000</td>\n",
       "      <td>0.000000</td>\n",
       "      <td>0.000000</td>\n",
       "      <td>1.0</td>\n",
       "    </tr>\n",
       "    <tr>\n",
       "      <th>genre_western</th>\n",
       "      <td>4919.0</td>\n",
       "      <td>0.019110</td>\n",
       "      <td>0.136924</td>\n",
       "      <td>0.000000</td>\n",
       "      <td>0.000000</td>\n",
       "      <td>0.000000</td>\n",
       "      <td>0.000000</td>\n",
       "      <td>1.0</td>\n",
       "    </tr>\n",
       "    <tr>\n",
       "      <th>genre_romance</th>\n",
       "      <td>4919.0</td>\n",
       "      <td>0.220370</td>\n",
       "      <td>0.414538</td>\n",
       "      <td>0.000000</td>\n",
       "      <td>0.000000</td>\n",
       "      <td>0.000000</td>\n",
       "      <td>0.000000</td>\n",
       "      <td>1.0</td>\n",
       "    </tr>\n",
       "    <tr>\n",
       "      <th>genre_biography</th>\n",
       "      <td>4919.0</td>\n",
       "      <td>0.059158</td>\n",
       "      <td>0.235945</td>\n",
       "      <td>0.000000</td>\n",
       "      <td>0.000000</td>\n",
       "      <td>0.000000</td>\n",
       "      <td>0.000000</td>\n",
       "      <td>1.0</td>\n",
       "    </tr>\n",
       "    <tr>\n",
       "      <th>is_TV</th>\n",
       "      <td>4919.0</td>\n",
       "      <td>0.014840</td>\n",
       "      <td>0.120926</td>\n",
       "      <td>0.000000</td>\n",
       "      <td>0.000000</td>\n",
       "      <td>0.000000</td>\n",
       "      <td>0.000000</td>\n",
       "      <td>1.0</td>\n",
       "    </tr>\n",
       "    <tr>\n",
       "      <th>rating_G</th>\n",
       "      <td>4919.0</td>\n",
       "      <td>0.025208</td>\n",
       "      <td>0.156773</td>\n",
       "      <td>0.000000</td>\n",
       "      <td>0.000000</td>\n",
       "      <td>0.000000</td>\n",
       "      <td>0.000000</td>\n",
       "      <td>1.0</td>\n",
       "    </tr>\n",
       "    <tr>\n",
       "      <th>rating_PG</th>\n",
       "      <td>4919.0</td>\n",
       "      <td>0.144338</td>\n",
       "      <td>0.351468</td>\n",
       "      <td>0.000000</td>\n",
       "      <td>0.000000</td>\n",
       "      <td>0.000000</td>\n",
       "      <td>0.000000</td>\n",
       "      <td>1.0</td>\n",
       "    </tr>\n",
       "    <tr>\n",
       "      <th>rating_PG-13</th>\n",
       "      <td>4919.0</td>\n",
       "      <td>0.292946</td>\n",
       "      <td>0.455160</td>\n",
       "      <td>0.000000</td>\n",
       "      <td>0.000000</td>\n",
       "      <td>0.000000</td>\n",
       "      <td>1.000000</td>\n",
       "      <td>1.0</td>\n",
       "    </tr>\n",
       "    <tr>\n",
       "      <th>rating_R</th>\n",
       "      <td>4919.0</td>\n",
       "      <td>0.529986</td>\n",
       "      <td>0.499151</td>\n",
       "      <td>0.000000</td>\n",
       "      <td>0.000000</td>\n",
       "      <td>1.000000</td>\n",
       "      <td>1.000000</td>\n",
       "      <td>1.0</td>\n",
       "    </tr>\n",
       "    <tr>\n",
       "      <th>rating_NC-17</th>\n",
       "      <td>4919.0</td>\n",
       "      <td>0.007522</td>\n",
       "      <td>0.086411</td>\n",
       "      <td>0.000000</td>\n",
       "      <td>0.000000</td>\n",
       "      <td>0.000000</td>\n",
       "      <td>0.000000</td>\n",
       "      <td>1.0</td>\n",
       "    </tr>\n",
       "  </tbody>\n",
       "</table>\n",
       "</div>"
      ],
      "text/plain": [
       "                            count      mean       std       min       25%  \\\n",
       "actor_1_facebook_likes     4919.0  0.010130  0.023584  0.000000  0.000949   \n",
       "actor_1_name               4919.0  0.169584  0.198854  0.020408  0.020408   \n",
       "actor_2_facebook_likes     4919.0  0.011813  0.029236  0.000000  0.002029   \n",
       "actor_2_name               4919.0  0.137985  0.124553  0.050000  0.050000   \n",
       "actor_3_facebook_likes     4919.0  0.027380  0.070510  0.000000  0.005761   \n",
       "actor_3_name               4919.0  0.248120  0.177233  0.125000  0.125000   \n",
       "aspect_ratio               4919.0  0.571503  0.175952  0.000000  0.424051   \n",
       "cast_total_facebook_likes  4919.0  0.014579  0.027652  0.000000  0.002123   \n",
       "color                      4919.0  0.958528  0.199399  0.000000  1.000000   \n",
       "director_facebook_likes    4919.0  0.029452  0.121916  0.000000  0.000304   \n",
       "director_name              4919.0  0.162807  0.160552  0.038462  0.038462   \n",
       "duration                   4919.0  0.198565  0.050081  0.000000  0.170635   \n",
       "gross                      4919.0  0.999734  0.014917  0.000000  1.000000   \n",
       "imdb_score                 4919.0  0.612389  0.142735  0.000000  0.531646   \n",
       "language                   4919.0  0.931897  0.251949  0.000000  1.000000   \n",
       "movie_facebook_likes       4919.0  0.021047  0.055016  0.000000  0.000000   \n",
       "num_critic_for_reviews     4919.0  0.168388  0.147396  0.000000  0.060345   \n",
       "num_user_for_reviews       4919.0  0.052605  0.073555  0.000000  0.012453   \n",
       "num_voted_users            4919.0  0.048891  0.081838  0.000000  0.004942   \n",
       "title_year                 4919.0  0.865001  0.123241  0.000000  0.830000   \n",
       "posterfaces_more           4919.0  0.323236  0.467760  0.000000  0.000000   \n",
       "posterfaces_none           4919.0  0.427933  0.494829  0.000000  0.000000   \n",
       "posterfaces_one            4919.0  0.248831  0.432380  0.000000  0.000000   \n",
       "genre_short                4919.0  0.001016  0.031869  0.000000  0.000000   \n",
       "genre_history              4919.0  0.041065  0.198461  0.000000  0.000000   \n",
       "genre_sci-fi               4919.0  0.120960  0.326113  0.000000  0.000000   \n",
       "genre_thriller             4919.0  0.277292  0.447707  0.000000  0.000000   \n",
       "genre_mystery              4919.0  0.098597  0.298151  0.000000  0.000000   \n",
       "genre_drama                4919.0  0.515349  0.499815  0.000000  0.000000   \n",
       "genre_news                 4919.0  0.000610  0.024691  0.000000  0.000000   \n",
       "genre_animation            4919.0  0.048790  0.215451  0.000000  0.000000   \n",
       "genre_game-show            4919.0  0.000203  0.014258  0.000000  0.000000   \n",
       "genre_family               4919.0  0.108559  0.311116  0.000000  0.000000   \n",
       "genre_crime                4919.0  0.176662  0.381421  0.000000  0.000000   \n",
       "genre_reality-tv           4919.0  0.000407  0.020162  0.000000  0.000000   \n",
       "genre_adventure            4919.0  0.180524  0.384663  0.000000  0.000000   \n",
       "genre_musical              4919.0  0.026631  0.161020  0.000000  0.000000   \n",
       "genre_film-noir            4919.0  0.001220  0.034907  0.000000  0.000000   \n",
       "genre_comedy               4919.0  0.375686  0.484349  0.000000  0.000000   \n",
       "genre_war                  4919.0  0.042692  0.202181  0.000000  0.000000   \n",
       "genre_action               4919.0  0.226266  0.418456  0.000000  0.000000   \n",
       "genre_sport                4919.0  0.035983  0.186266  0.000000  0.000000   \n",
       "genre_horror               4919.0  0.109778  0.312645  0.000000  0.000000   \n",
       "genre_fantasy              4919.0  0.118520  0.323256  0.000000  0.000000   \n",
       "genre_music                4919.0  0.043098  0.203099  0.000000  0.000000   \n",
       "genre_documentary          4919.0  0.024598  0.154914  0.000000  0.000000   \n",
       "genre_western              4919.0  0.019110  0.136924  0.000000  0.000000   \n",
       "genre_romance              4919.0  0.220370  0.414538  0.000000  0.000000   \n",
       "genre_biography            4919.0  0.059158  0.235945  0.000000  0.000000   \n",
       "is_TV                      4919.0  0.014840  0.120926  0.000000  0.000000   \n",
       "rating_G                   4919.0  0.025208  0.156773  0.000000  0.000000   \n",
       "rating_PG                  4919.0  0.144338  0.351468  0.000000  0.000000   \n",
       "rating_PG-13               4919.0  0.292946  0.455160  0.000000  0.000000   \n",
       "rating_R                   4919.0  0.529986  0.499151  0.000000  0.000000   \n",
       "rating_NC-17               4919.0  0.007522  0.086411  0.000000  0.000000   \n",
       "\n",
       "                                50%       75%  max  \n",
       "actor_1_facebook_likes     0.001534  0.017188  1.0  \n",
       "actor_1_name               0.081633  0.244898  1.0  \n",
       "actor_2_facebook_likes     0.004328  0.006657  1.0  \n",
       "actor_2_name               0.100000  0.200000  1.0  \n",
       "actor_3_facebook_likes     0.016000  0.027435  1.0  \n",
       "actor_3_name               0.125000  0.375000  1.0  \n",
       "aspect_ratio               0.572610  0.740506  1.0  \n",
       "cast_total_facebook_likes  0.004635  0.020726  1.0  \n",
       "color                      1.000000  1.000000  1.0  \n",
       "director_facebook_likes    0.002130  0.008174  1.0  \n",
       "director_name              0.115385  0.192308  1.0  \n",
       "duration                   0.190476  0.220238  1.0  \n",
       "gross                      1.000000  1.000000  1.0  \n",
       "imdb_score                 0.632911  0.708861  1.0  \n",
       "language                   1.000000  1.000000  1.0  \n",
       "movie_facebook_likes       0.000458  0.005731  1.0  \n",
       "num_critic_for_reviews     0.134236  0.233990  1.0  \n",
       "num_user_for_reviews       0.030243  0.062858  1.0  \n",
       "num_voted_users            0.019620  0.055483  1.0  \n",
       "title_year                 0.890000  0.940000  1.0  \n",
       "posterfaces_more           0.000000  1.000000  1.0  \n",
       "posterfaces_none           0.000000  1.000000  1.0  \n",
       "posterfaces_one            0.000000  0.000000  1.0  \n",
       "genre_short                0.000000  0.000000  1.0  \n",
       "genre_history              0.000000  0.000000  1.0  \n",
       "genre_sci-fi               0.000000  0.000000  1.0  \n",
       "genre_thriller             0.000000  1.000000  1.0  \n",
       "genre_mystery              0.000000  0.000000  1.0  \n",
       "genre_drama                1.000000  1.000000  1.0  \n",
       "genre_news                 0.000000  0.000000  1.0  \n",
       "genre_animation            0.000000  0.000000  1.0  \n",
       "genre_game-show            0.000000  0.000000  1.0  \n",
       "genre_family               0.000000  0.000000  1.0  \n",
       "genre_crime                0.000000  0.000000  1.0  \n",
       "genre_reality-tv           0.000000  0.000000  1.0  \n",
       "genre_adventure            0.000000  0.000000  1.0  \n",
       "genre_musical              0.000000  0.000000  1.0  \n",
       "genre_film-noir            0.000000  0.000000  1.0  \n",
       "genre_comedy               0.000000  1.000000  1.0  \n",
       "genre_war                  0.000000  0.000000  1.0  \n",
       "genre_action               0.000000  0.000000  1.0  \n",
       "genre_sport                0.000000  0.000000  1.0  \n",
       "genre_horror               0.000000  0.000000  1.0  \n",
       "genre_fantasy              0.000000  0.000000  1.0  \n",
       "genre_music                0.000000  0.000000  1.0  \n",
       "genre_documentary          0.000000  0.000000  1.0  \n",
       "genre_western              0.000000  0.000000  1.0  \n",
       "genre_romance              0.000000  0.000000  1.0  \n",
       "genre_biography            0.000000  0.000000  1.0  \n",
       "is_TV                      0.000000  0.000000  1.0  \n",
       "rating_G                   0.000000  0.000000  1.0  \n",
       "rating_PG                  0.000000  0.000000  1.0  \n",
       "rating_PG-13               0.000000  1.000000  1.0  \n",
       "rating_R                   1.000000  1.000000  1.0  \n",
       "rating_NC-17               0.000000  0.000000  1.0  "
      ]
     },
     "execution_count": 49,
     "metadata": {},
     "output_type": "execute_result"
    }
   ],
   "source": [
    "data.describe().transpose()"
   ]
  },
  {
   "cell_type": "markdown",
   "metadata": {},
   "source": [
    "Et enfin, exportons nos fichiers finaux"
   ]
  },
  {
   "cell_type": "code",
   "execution_count": 50,
   "metadata": {},
   "outputs": [],
   "source": [
    "data.to_csv('data/cleaned_data.csv')\n",
    "movies.to_csv('data/movies.csv')"
   ]
  },
  {
   "cell_type": "markdown",
   "metadata": {},
   "source": [
    "## Exploration avec t-SNE"
   ]
  },
  {
   "cell_type": "markdown",
   "metadata": {},
   "source": [
    "Nous utilisons l'algorithme t-SNE afin de projeter notre jeu de données nettoyé dans un espace de deux dimensions afin de pouvoir le visualiser. Cela nous permettra d'avoir une première idée de la similarité des instances entre elles."
   ]
  },
  {
   "cell_type": "code",
   "execution_count": 51,
   "metadata": {},
   "outputs": [],
   "source": [
    "tsne = TSNE(n_components=2)\n",
    "Y = tsne.fit_transform(data)"
   ]
  },
  {
   "cell_type": "code",
   "execution_count": 52,
   "metadata": {},
   "outputs": [
    {
     "data": {
      "image/png": "[encoded data removed]",
      "text/plain": [
       "<matplotlib.figure.Figure at 0x1a0a1606a0>"
      ]
     },
     "metadata": {},
     "output_type": "display_data"
    }
   ],
   "source": [
    "fig, ax = plt.subplots(1,1, figsize=(10, 10))\n",
    "ax.scatter(Y[:, 0], Y[:, 1])\n",
    "ax.set_title(\"Exploration superficielle avec t-SNE\")\n",
    "ax.xaxis.set_major_formatter(NullFormatter())\n",
    "ax.yaxis.set_major_formatter(NullFormatter())\n",
    "#plt.axis('tight');"
   ]
  },
  {
   "cell_type": "markdown",
   "metadata": {},
   "source": [
    "D'après cette première exploration, entre 8 et 10 grands groupes d'instances semblent se dessiner."
   ]
  }
 ],
 "metadata": {
  "hide_input": false,
  "kernelspec": {
   "display_name": "Python 3",
   "language": "python",
   "name": "python3"
  },
  "language_info": {
   "codemirror_mode": {
    "name": "ipython",
    "version": 3
   },
   "file_extension": ".py",
   "mimetype": "text/x-python",
   "name": "python",
   "nbconvert_exporter": "python",
   "pygments_lexer": "ipython3",
   "version": "3.6.3"
  },
  "toc": {
   "nav_menu": {},
   "number_sections": false,
   "sideBar": true,
   "skip_h1_title": false,
   "toc_cell": false,
   "toc_position": {},
   "toc_section_display": "block",
   "toc_window_display": false
  },
  "varInspector": {
   "cols": {
    "lenName": 16,
    "lenType": 16,
    "lenVar": 40
   },
   "kernels_config": {
    "python": {
     "delete_cmd_postfix": "",
     "delete_cmd_prefix": "del ",
     "library": "var_list.py",
     "varRefreshCmd": "print(var_dic_list())"
    },
    "r": {
     "delete_cmd_postfix": ") ",
     "delete_cmd_prefix": "rm(",
     "library": "var_list.r",
     "varRefreshCmd": "cat(var_dic_list()) "
    }
   },
   "types_to_exclude": [
    "module",
    "function",
    "builtin_function_or_method",
    "instance",
    "_Feature"
   ],
   "window_display": false
  }
 },
 "nbformat": 4,
 "nbformat_minor": 2
}
