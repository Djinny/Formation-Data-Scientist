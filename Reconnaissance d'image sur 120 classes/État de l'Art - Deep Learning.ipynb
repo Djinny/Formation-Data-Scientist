{
  "nbformat": 4,
  "nbformat_minor": 0,
  "metadata": {
    "colab": {
      "name": "Notebook_État_de_l_art.ipynb",
      "version": "0.3.2",
      "provenance": [],
      "collapsed_sections": [
        "j_zwj8jOxcH8",
        "jBj6NC4bxcIT",
        "SlXgPSUJxcIj",
        "SRawnCBNLxkW",
        "hHlsN4H8L315",
        "C2wniQS8nU7_",
        "gI_4h6KiqHJ8"
      ]
    },
    "kernelspec": {
      "name": "python3",
      "display_name": "Python 3"
    },
    "accelerator": "GPU"
  },
  "cells": [
    {
      "metadata": {
        "id": "Qz9UK9pFxcHn",
        "colab_type": "text"
      },
      "cell_type": "markdown",
      "source": [
        "# État de l'Art\n",
        "# VGG16, InceptionV3, MobileNetV2\n",
        "\n",
        "---"
      ]
    },
    {
      "metadata": {
        "id": "JkXAiDM8xcHq",
        "colab_type": "text"
      },
      "cell_type": "markdown",
      "source": [
        "## Mise en place"
      ]
    },
    {
      "metadata": {
        "id": "Q0iyT4xU3NXp",
        "colab_type": "text"
      },
      "cell_type": "markdown",
      "source": [
        "Intégrer le système de Google pour travailler sur le Drive"
      ]
    },
    {
      "metadata": {
        "id": "D6oHi2aj3T6i",
        "colab_type": "code",
        "outputId": "e042efef-ab18-446d-f1ec-b9e07756c532",
        "colab": {
          "base_uri": "https://localhost:8080/",
          "height": 131
        }
      },
      "cell_type": "code",
      "source": [
        "from google.colab import drive\n",
        "drive.mount(\"/content/drive\")"
      ],
      "execution_count": 0,
      "outputs": [
        {
          "output_type": "stream",
          "text": [
            "Go to this URL in a browser: https://accounts.google.com/o/oauth2/auth?client_id=947318989803-6bn6qk8qdgf4n4g3pfee6491hc0brc4i.apps.googleusercontent.com&redirect_uri=urn%3Aietf%3Awg%3Aoauth%3A2.0%3Aoob&scope=email%20https%3A%2F%2Fwww.googleapis.com%2Fauth%2Fdocs.test%20https%3A%2F%2Fwww.googleapis.com%2Fauth%2Fdrive%20https%3A%2F%2Fwww.googleapis.com%2Fauth%2Fdrive.photos.readonly%20https%3A%2F%2Fwww.googleapis.com%2Fauth%2Fpeopleapi.readonly&response_type=code\n",
            "\n",
            "Enter your authorization code:\n",
            "··········\n",
            "Mounted at /content/drive\n"
          ],
          "name": "stdout"
        }
      ]
    },
    {
      "metadata": {
        "id": "pF3rgYY03sya",
        "colab_type": "text"
      },
      "cell_type": "markdown",
      "source": [
        "Télécharger les données à traiter dans le répertoire courant."
      ]
    },
    {
      "metadata": {
        "id": "g13pnL853r5f",
        "colab_type": "code",
        "colab": {}
      },
      "cell_type": "code",
      "source": [
        "import urllib.request\n",
        "import tarfile\n",
        "\n",
        "url = \"http://vision.stanford.edu/aditya86/ImageNetDogs/images.tar\"\n",
        "file_name = \"images.tar\"\n",
        "\n",
        "res = urllib.request.urlretrieve(url, file_name)\n",
        "with tarfile.open(file_name) as dogs_tar:\n",
        "  dogs_tar.extractall()"
      ],
      "execution_count": 0,
      "outputs": []
    },
    {
      "metadata": {
        "id": "uKLSZzfzPGJH",
        "colab_type": "text"
      },
      "cell_type": "markdown",
      "source": [
        "Organiser séparer les données d'entrainement, de validation et de généralisation en différents répertoires. \n",
        "\n",
        "On peut charger l'ensemble de la base d'images ou se limiter aux n catégories ayant le plus d'images pour assurer un apprentissage plus optimal"
      ]
    },
    {
      "metadata": {
        "id": "ZEMe1U0LNu8Q",
        "colab_type": "code",
        "outputId": "bd9f4eef-a518-48f5-8780-2ce9b51eaf8d",
        "cellView": "form",
        "colab": {
          "base_uri": "https://localhost:8080/",
          "height": 99
        }
      },
      "cell_type": "code",
      "source": [
        "#@title Nombre de catégories à charger\n",
        "\n",
        "n_categories = 120 #@param {type:\"slider\", min:0, max:120, step:20}\n",
        "\n",
        "!cp drive/My\\ Drive/Projets\\ Formation/Projet\\ 7/utils.py .\n",
        "from utils import organize_data\n",
        "\n",
        "organize_data(n_categories=n_categories)\n",
        "\n",
        "!rm images.tar\n",
        "!rm -R Images"
      ],
      "execution_count": 0,
      "outputs": [
        {
          "output_type": "stream",
          "text": [
            "TRAIN SIZE:  12345\n",
            "VALID SIZE:  4111\n",
            "TEST SIZE:  4124\n"
          ],
          "name": "stdout"
        }
      ]
    },
    {
      "metadata": {
        "id": "LiT8kNF8xcHt",
        "colab_type": "text"
      },
      "cell_type": "markdown",
      "source": [
        "Charger les librairies et paramètres utilisés dans le reste du projet"
      ]
    },
    {
      "metadata": {
        "id": "98c2UJmaxcHv",
        "colab_type": "code",
        "outputId": "113e0bb1-1c65-4540-d8b5-f6036b0e2e65",
        "colab": {
          "base_uri": "https://localhost:8080/",
          "height": 34
        }
      },
      "cell_type": "code",
      "source": [
        "import os\n",
        "import re\n",
        "import shutil\n",
        "import pickle\n",
        "import numpy as np\n",
        "from utils import vgg16_preprocess_input, create_generators, learning_curves\n",
        "\n",
        "import tensorflow as tf\n",
        "from keras import layers, models\n",
        "from keras.optimizers import Adam, RMSprop\n",
        "from keras.callbacks import EarlyStopping, ModelCheckpoint\n",
        "from keras.applications import VGG16, InceptionV3, MobileNetV2\n",
        "# !pip install tensorboardcolab\n",
        "# from tensorboardcolab import TensorBoardColab, TensorBoardColabCallback\n",
        "\n",
        "import matplotlib as mpl\n",
        "mpl.style.use('default')\n",
        "%matplotlib inline\n",
        "%config InlineBackend.figure_format = 'svg'"
      ],
      "execution_count": 0,
      "outputs": [
        {
          "output_type": "stream",
          "text": [
            "Using TensorFlow backend.\n"
          ],
          "name": "stderr"
        }
      ]
    },
    {
      "metadata": {
        "id": "ZzuHjWb58-Tz",
        "colab_type": "text"
      },
      "cell_type": "markdown",
      "source": [
        "## Modèle n°1: VGG16"
      ]
    },
    {
      "metadata": {
        "id": "j_zwj8jOxcH8",
        "colab_type": "text"
      },
      "cell_type": "markdown",
      "source": [
        "### Images brutes"
      ]
    },
    {
      "metadata": {
        "id": "e8d7TgQCxcH9",
        "colab_type": "text"
      },
      "cell_type": "markdown",
      "source": [
        "Définition de générateurs qui serviront directement de source pour nos images d'apprentissage, de validation et de test\n",
        "- Chargement et pré-traitement des images (redimensionner, rescale). \n",
        "- Attribution des étiquettes cibles\n",
        "- Séparation du jeu de données: apprentissage, validation et test"
      ]
    },
    {
      "metadata": {
        "id": "2vj-IRQ2MWIJ",
        "colab_type": "code",
        "outputId": "8c84d00f-9506-407a-81d1-42000f891c9c",
        "colab": {
          "base_uri": "https://localhost:8080/",
          "height": 68
        }
      },
      "cell_type": "code",
      "source": [
        "train_generator, valid_generator, test_generator =\\\n",
        "  create_generators(\n",
        "    base_dir = 'data', \n",
        "    batch_size = 128, \n",
        "    side_length = 224, \n",
        "    preprocess_input = vgg16_preprocess_input\n",
        ")\n",
        "\n",
        "image_shape = train_generator.image_shape\n",
        "batch_size = train_generator.batch_size\n",
        "n_classes = train_generator.num_classes"
      ],
      "execution_count": 0,
      "outputs": [
        {
          "output_type": "stream",
          "text": [
            "Found 12345 images belonging to 120 classes.\n",
            "Found 4111 images belonging to 120 classes.\n",
            "Found 4124 images belonging to 120 classes.\n"
          ],
          "name": "stdout"
        }
      ]
    },
    {
      "metadata": {
        "id": "nqivISgHxcIF",
        "colab_type": "text"
      },
      "cell_type": "markdown",
      "source": [
        "- Charger la base convolutive pré-entrainée de notre modèle (VGG16)\n",
        "- Ne pas garder le classifieur attaché (car entrainé pour une autre tâche, avec d'autres cibles)\n",
        "- Ajuster la dimension d'entrée des images"
      ]
    },
    {
      "metadata": {
        "id": "ZAfcAPwnxcIG",
        "colab_type": "code",
        "outputId": "24514389-f9b2-483e-f633-4253240c57cf",
        "colab": {
          "base_uri": "https://localhost:8080/",
          "height": 856
        }
      },
      "cell_type": "code",
      "source": [
        "vgg16_base = VGG16(include_top = False, \n",
        "                   weights = 'imagenet', \n",
        "                   input_shape = image_shape)\n",
        "\n",
        "vgg16_base.summary()"
      ],
      "execution_count": 0,
      "outputs": [
        {
          "output_type": "stream",
          "text": [
            "Downloading data from https://github.com/fchollet/deep-learning-models/releases/download/v0.1/vgg16_weights_tf_dim_ordering_tf_kernels_notop.h5\n",
            "58892288/58889256 [==============================] - 1s 0us/step\n",
            "_________________________________________________________________\n",
            "Layer (type)                 Output Shape              Param #   \n",
            "=================================================================\n",
            "input_1 (InputLayer)         (None, 224, 224, 3)       0         \n",
            "_________________________________________________________________\n",
            "block1_conv1 (Conv2D)        (None, 224, 224, 64)      1792      \n",
            "_________________________________________________________________\n",
            "block1_conv2 (Conv2D)        (None, 224, 224, 64)      36928     \n",
            "_________________________________________________________________\n",
            "block1_pool (MaxPooling2D)   (None, 112, 112, 64)      0         \n",
            "_________________________________________________________________\n",
            "block2_conv1 (Conv2D)        (None, 112, 112, 128)     73856     \n",
            "_________________________________________________________________\n",
            "block2_conv2 (Conv2D)        (None, 112, 112, 128)     147584    \n",
            "_________________________________________________________________\n",
            "block2_pool (MaxPooling2D)   (None, 56, 56, 128)       0         \n",
            "_________________________________________________________________\n",
            "block3_conv1 (Conv2D)        (None, 56, 56, 256)       295168    \n",
            "_________________________________________________________________\n",
            "block3_conv2 (Conv2D)        (None, 56, 56, 256)       590080    \n",
            "_________________________________________________________________\n",
            "block3_conv3 (Conv2D)        (None, 56, 56, 256)       590080    \n",
            "_________________________________________________________________\n",
            "block3_pool (MaxPooling2D)   (None, 28, 28, 256)       0         \n",
            "_________________________________________________________________\n",
            "block4_conv1 (Conv2D)        (None, 28, 28, 512)       1180160   \n",
            "_________________________________________________________________\n",
            "block4_conv2 (Conv2D)        (None, 28, 28, 512)       2359808   \n",
            "_________________________________________________________________\n",
            "block4_conv3 (Conv2D)        (None, 28, 28, 512)       2359808   \n",
            "_________________________________________________________________\n",
            "block4_pool (MaxPooling2D)   (None, 14, 14, 512)       0         \n",
            "_________________________________________________________________\n",
            "block5_conv1 (Conv2D)        (None, 14, 14, 512)       2359808   \n",
            "_________________________________________________________________\n",
            "block5_conv2 (Conv2D)        (None, 14, 14, 512)       2359808   \n",
            "_________________________________________________________________\n",
            "block5_conv3 (Conv2D)        (None, 14, 14, 512)       2359808   \n",
            "_________________________________________________________________\n",
            "block5_pool (MaxPooling2D)   (None, 7, 7, 512)         0         \n",
            "=================================================================\n",
            "Total params: 14,714,688\n",
            "Trainable params: 14,714,688\n",
            "Non-trainable params: 0\n",
            "_________________________________________________________________\n"
          ],
          "name": "stdout"
        }
      ]
    },
    {
      "metadata": {
        "id": "y1dCRwJmxcII",
        "colab_type": "text"
      },
      "cell_type": "markdown",
      "source": [
        "- Ajout d'un classifieur adapté à notre tâche, avec 60 potentielles classes cibles\n",
        "- Définir la configuration d'entrainement de notre modèle: optimisateur et taux d'apprentissage, fonction de coût et mesures de performance"
      ]
    },
    {
      "metadata": {
        "id": "t2wEzuJrxcIJ",
        "colab_type": "code",
        "colab": {}
      },
      "cell_type": "code",
      "source": [
        "model = models.Sequential()\n",
        "model.add(vgg16_base)\n",
        "model.add(layers.Flatten())\n",
        "model.add(layers.Dense(2048, activation = 'relu'))\n",
        "model.add(layers.Dense(n_classes, activation = 'softmax'))\n",
        "\n",
        "vgg16_base.trainable = False"
      ],
      "execution_count": 0,
      "outputs": []
    },
    {
      "metadata": {
        "id": "xN2magy3xcIK",
        "colab_type": "code",
        "outputId": "089c4fd5-fdff-4a32-96e4-cc32a0a2b59f",
        "colab": {
          "base_uri": "https://localhost:8080/",
          "height": 272
        }
      },
      "cell_type": "code",
      "source": [
        "model.compile(optimizer = Adam(lr=1e-4), \n",
        "              loss = 'categorical_crossentropy', \n",
        "              metrics = ['acc'])\n",
        "model.summary()"
      ],
      "execution_count": 0,
      "outputs": [
        {
          "output_type": "stream",
          "text": [
            "_________________________________________________________________\n",
            "Layer (type)                 Output Shape              Param #   \n",
            "=================================================================\n",
            "vgg16 (Model)                (None, 7, 7, 512)         14714688  \n",
            "_________________________________________________________________\n",
            "flatten_1 (Flatten)          (None, 25088)             0         \n",
            "_________________________________________________________________\n",
            "dense_1 (Dense)              (None, 2048)              51382272  \n",
            "_________________________________________________________________\n",
            "dense_2 (Dense)              (None, 120)               245880    \n",
            "=================================================================\n",
            "Total params: 66,342,840\n",
            "Trainable params: 51,628,152\n",
            "Non-trainable params: 14,714,688\n",
            "_________________________________________________________________\n"
          ],
          "name": "stdout"
        }
      ]
    },
    {
      "metadata": {
        "id": "nbWqnakHxcIM",
        "colab_type": "text"
      },
      "cell_type": "markdown",
      "source": [
        "- Entrainement du modèle sur plusieurs passes\n",
        "- Évaluation continue de la généralisation du modèle avec jeu de validation"
      ]
    },
    {
      "metadata": {
        "id": "3JesGsM2xcIM",
        "colab_type": "code",
        "outputId": "9b5b541a-cc7c-4e99-e151-94f5f1caa7f9",
        "colab": {
          "base_uri": "https://localhost:8080/",
          "height": 1020
        }
      },
      "cell_type": "code",
      "source": [
        "# tbc = TensorBoardColab(graph_path=\"./vgg_graph_1\")\n",
        "\n",
        "callbacks = [\n",
        "    EarlyStopping(patience = 5, min_delta = 0.01),\n",
        "    ModelCheckpoint('vgg16_simple.h5', save_best_only = True),\n",
        "    # TensorBoardColabCallback(tbc),\n",
        "]\n",
        "\n",
        "history = model.fit_generator(\n",
        "    generator = train_generator, \n",
        "    steps_per_epoch = np.ceil(train_generator.n/batch_size),  \n",
        "    validation_data = valid_generator, \n",
        "    validation_steps = np.ceil(valid_generator.n/batch_size),\n",
        "    epochs = 100, verbose = 1, callbacks = callbacks)"
      ],
      "execution_count": 0,
      "outputs": [
        {
          "output_type": "stream",
          "text": [
            "Epoch 1/100\n",
            "97/97 [==============================] - 162s 2s/step - loss: 3.7920 - acc: 0.1673 - val_loss: 3.0201 - val_acc: 0.2841\n",
            "Epoch 2/100\n",
            "97/97 [==============================] - 143s 1s/step - loss: 1.6369 - acc: 0.6356 - val_loss: 2.5689 - val_acc: 0.3559\n",
            "Epoch 3/100\n",
            "97/97 [==============================] - 143s 1s/step - loss: 0.7528 - acc: 0.8812 - val_loss: 2.4285 - val_acc: 0.3826\n",
            "Epoch 4/100\n",
            "97/97 [==============================] - 143s 1s/step - loss: 0.3456 - acc: 0.9701 - val_loss: 2.3675 - val_acc: 0.3882\n",
            "Epoch 5/100\n",
            "97/97 [==============================] - 143s 1s/step - loss: 0.1696 - acc: 0.9946 - val_loss: 2.3225 - val_acc: 0.4077\n",
            "Epoch 6/100\n",
            "97/97 [==============================] - 143s 1s/step - loss: 0.0958 - acc: 0.9977 - val_loss: 2.2860 - val_acc: 0.4128\n",
            "Epoch 7/100\n",
            "97/97 [==============================] - 143s 1s/step - loss: 0.0653 - acc: 0.9982 - val_loss: 2.2801 - val_acc: 0.4157\n",
            "Epoch 8/100\n",
            "97/97 [==============================] - 143s 1s/step - loss: 0.0539 - acc: 0.9973 - val_loss: 2.2937 - val_acc: 0.4206\n",
            "Epoch 9/100\n",
            "97/97 [==============================] - 143s 1s/step - loss: 0.0406 - acc: 0.9985 - val_loss: 2.2821 - val_acc: 0.4201\n",
            "Epoch 10/100\n",
            "97/97 [==============================] - 143s 1s/step - loss: 0.0357 - acc: 0.9983 - val_loss: 2.2965 - val_acc: 0.4235\n",
            "Epoch 11/100\n",
            "97/97 [==============================] - 143s 1s/step - loss: 0.0326 - acc: 0.9983 - val_loss: 2.2922 - val_acc: 0.4191\n"
          ],
          "name": "stdout"
        }
      ]
    },
    {
      "metadata": {
        "id": "k4-drRJ6xcIO",
        "colab_type": "code",
        "outputId": "8a7e9d66-41a5-48fd-cc1c-9862302aa792",
        "colab": {
          "base_uri": "https://localhost:8080/",
          "height": 777
        }
      },
      "cell_type": "code",
      "source": [
        "learning_curves(history)"
      ],
      "execution_count": 0,
      "outputs": [
        {
          "output_type": "display_data",
          "data": {
            "text/plain": [
              "<matplotlib.figure.Figure at 0x7f6b1cf648d0>"
            ],
            "image/svg+xml": "<?xml version=\"1.0\" encoding=\"utf-8\" standalone=\"no\"?>\n<!DOCTYPE svg PUBLIC \"-//W3C//DTD SVG 1.1//EN\"\n  \"http://www.w3.org/Graphics/SVG/1.1/DTD/svg11.dtd\">\n<!-- Created with matplotlib (http://matplotlib.org/) -->\n<svg height=\"567pt\" version=\"1.1\" viewBox=\"0 0 568 567\" width=\"568pt\" xmlns=\"http://www.w3.org/2000/svg\" xmlns:xlink=\"http://www.w3.org/1999/xlink\">\n <defs>\n  <style type=\"text/css\">\n*{stroke-linecap:butt;stroke-linejoin:round;}\n  </style>\n </defs>\n <g id=\"figure_1\">\n  <g id=\"patch_1\">\n   <path d=\"M 0 567.59625 \nL 568.703125 567.59625 \nL 568.703125 0 \nL 0 0 \nz\n\" style=\"fill:none;\"/>\n  </g>\n  <g id=\"axes_1\">\n   <g id=\"patch_2\">\n    <path d=\"M 30.103125 267.868125 \nL 558.003125 267.868125 \nL 558.003125 22.318125 \nL 30.103125 22.318125 \nz\n\" style=\"fill:#ffffff;\"/>\n   </g>\n   <g id=\"matplotlib.axis_1\">\n    <g id=\"xtick_1\">\n     <g id=\"line2d_1\">\n      <defs>\n       <path d=\"M 0 0 \nL 0 3.5 \n\" id=\"mb1408c25c2\" style=\"stroke:#000000;stroke-width:0.8;\"/>\n      </defs>\n      <g>\n       <use style=\"stroke:#000000;stroke-width:0.8;\" x=\"102.089489\" xlink:href=\"#mb1408c25c2\" y=\"267.868125\"/>\n      </g>\n     </g>\n    </g>\n    <g id=\"xtick_2\">\n     <g id=\"line2d_2\">\n      <g>\n       <use style=\"stroke:#000000;stroke-width:0.8;\" x=\"198.071307\" xlink:href=\"#mb1408c25c2\" y=\"267.868125\"/>\n      </g>\n     </g>\n    </g>\n    <g id=\"xtick_3\">\n     <g id=\"line2d_3\">\n      <g>\n       <use style=\"stroke:#000000;stroke-width:0.8;\" x=\"294.053125\" xlink:href=\"#mb1408c25c2\" y=\"267.868125\"/>\n      </g>\n     </g>\n    </g>\n    <g id=\"xtick_4\">\n     <g id=\"line2d_4\">\n      <g>\n       <use style=\"stroke:#000000;stroke-width:0.8;\" x=\"390.034943\" xlink:href=\"#mb1408c25c2\" y=\"267.868125\"/>\n      </g>\n     </g>\n    </g>\n    <g id=\"xtick_5\">\n     <g id=\"line2d_5\">\n      <g>\n       <use style=\"stroke:#000000;stroke-width:0.8;\" x=\"486.016761\" xlink:href=\"#mb1408c25c2\" y=\"267.868125\"/>\n      </g>\n     </g>\n    </g>\n   </g>\n   <g id=\"matplotlib.axis_2\">\n    <g id=\"ytick_1\">\n     <g id=\"line2d_6\">\n      <defs>\n       <path d=\"M 0 0 \nL -3.5 0 \n\" id=\"m19c4e88704\" style=\"stroke:#000000;stroke-width:0.8;\"/>\n      </defs>\n      <g>\n       <use style=\"stroke:#000000;stroke-width:0.8;\" x=\"30.103125\" xlink:href=\"#m19c4e88704\" y=\"247.771583\"/>\n      </g>\n     </g>\n     <g id=\"text_1\">\n      <!-- 0.2 -->\n      <defs>\n       <path d=\"M 31.78125 66.40625 \nQ 24.171875 66.40625 20.328125 58.90625 \nQ 16.5 51.421875 16.5 36.375 \nQ 16.5 21.390625 20.328125 13.890625 \nQ 24.171875 6.390625 31.78125 6.390625 \nQ 39.453125 6.390625 43.28125 13.890625 \nQ 47.125 21.390625 47.125 36.375 \nQ 47.125 51.421875 43.28125 58.90625 \nQ 39.453125 66.40625 31.78125 66.40625 \nz\nM 31.78125 74.21875 \nQ 44.046875 74.21875 50.515625 64.515625 \nQ 56.984375 54.828125 56.984375 36.375 \nQ 56.984375 17.96875 50.515625 8.265625 \nQ 44.046875 -1.421875 31.78125 -1.421875 \nQ 19.53125 -1.421875 13.0625 8.265625 \nQ 6.59375 17.96875 6.59375 36.375 \nQ 6.59375 54.828125 13.0625 64.515625 \nQ 19.53125 74.21875 31.78125 74.21875 \nz\n\" id=\"DejaVuSans-30\"/>\n       <path d=\"M 10.6875 12.40625 \nL 21 12.40625 \nL 21 0 \nL 10.6875 0 \nz\n\" id=\"DejaVuSans-2e\"/>\n       <path d=\"M 19.1875 8.296875 \nL 53.609375 8.296875 \nL 53.609375 0 \nL 7.328125 0 \nL 7.328125 8.296875 \nQ 12.9375 14.109375 22.625 23.890625 \nQ 32.328125 33.6875 34.8125 36.53125 \nQ 39.546875 41.84375 41.421875 45.53125 \nQ 43.3125 49.21875 43.3125 52.78125 \nQ 43.3125 58.59375 39.234375 62.25 \nQ 35.15625 65.921875 28.609375 65.921875 \nQ 23.96875 65.921875 18.8125 64.3125 \nQ 13.671875 62.703125 7.8125 59.421875 \nL 7.8125 69.390625 \nQ 13.765625 71.78125 18.9375 73 \nQ 24.125 74.21875 28.421875 74.21875 \nQ 39.75 74.21875 46.484375 68.546875 \nQ 53.21875 62.890625 53.21875 53.421875 \nQ 53.21875 48.921875 51.53125 44.890625 \nQ 49.859375 40.875 45.40625 35.40625 \nQ 44.1875 33.984375 37.640625 27.21875 \nQ 31.109375 20.453125 19.1875 8.296875 \nz\n\" id=\"DejaVuSans-32\"/>\n      </defs>\n      <g transform=\"translate(7.2 251.570802)scale(0.1 -0.1)\">\n       <use xlink:href=\"#DejaVuSans-30\"/>\n       <use x=\"63.623047\" xlink:href=\"#DejaVuSans-2e\"/>\n       <use x=\"95.410156\" xlink:href=\"#DejaVuSans-32\"/>\n      </g>\n     </g>\n    </g>\n    <g id=\"ytick_2\">\n     <g id=\"line2d_7\">\n      <g>\n       <use style=\"stroke:#000000;stroke-width:0.8;\" x=\"30.103125\" xlink:href=\"#m19c4e88704\" y=\"194.095294\"/>\n      </g>\n     </g>\n     <g id=\"text_2\">\n      <!-- 0.4 -->\n      <defs>\n       <path d=\"M 37.796875 64.3125 \nL 12.890625 25.390625 \nL 37.796875 25.390625 \nz\nM 35.203125 72.90625 \nL 47.609375 72.90625 \nL 47.609375 25.390625 \nL 58.015625 25.390625 \nL 58.015625 17.1875 \nL 47.609375 17.1875 \nL 47.609375 0 \nL 37.796875 0 \nL 37.796875 17.1875 \nL 4.890625 17.1875 \nL 4.890625 26.703125 \nz\n\" id=\"DejaVuSans-34\"/>\n      </defs>\n      <g transform=\"translate(7.2 197.894513)scale(0.1 -0.1)\">\n       <use xlink:href=\"#DejaVuSans-30\"/>\n       <use x=\"63.623047\" xlink:href=\"#DejaVuSans-2e\"/>\n       <use x=\"95.410156\" xlink:href=\"#DejaVuSans-34\"/>\n      </g>\n     </g>\n    </g>\n    <g id=\"ytick_3\">\n     <g id=\"line2d_8\">\n      <g>\n       <use style=\"stroke:#000000;stroke-width:0.8;\" x=\"30.103125\" xlink:href=\"#m19c4e88704\" y=\"140.419005\"/>\n      </g>\n     </g>\n     <g id=\"text_3\">\n      <!-- 0.6 -->\n      <defs>\n       <path d=\"M 33.015625 40.375 \nQ 26.375 40.375 22.484375 35.828125 \nQ 18.609375 31.296875 18.609375 23.390625 \nQ 18.609375 15.53125 22.484375 10.953125 \nQ 26.375 6.390625 33.015625 6.390625 \nQ 39.65625 6.390625 43.53125 10.953125 \nQ 47.40625 15.53125 47.40625 23.390625 \nQ 47.40625 31.296875 43.53125 35.828125 \nQ 39.65625 40.375 33.015625 40.375 \nz\nM 52.59375 71.296875 \nL 52.59375 62.3125 \nQ 48.875 64.0625 45.09375 64.984375 \nQ 41.3125 65.921875 37.59375 65.921875 \nQ 27.828125 65.921875 22.671875 59.328125 \nQ 17.53125 52.734375 16.796875 39.40625 \nQ 19.671875 43.65625 24.015625 45.921875 \nQ 28.375 48.1875 33.59375 48.1875 \nQ 44.578125 48.1875 50.953125 41.515625 \nQ 57.328125 34.859375 57.328125 23.390625 \nQ 57.328125 12.15625 50.6875 5.359375 \nQ 44.046875 -1.421875 33.015625 -1.421875 \nQ 20.359375 -1.421875 13.671875 8.265625 \nQ 6.984375 17.96875 6.984375 36.375 \nQ 6.984375 53.65625 15.1875 63.9375 \nQ 23.390625 74.21875 37.203125 74.21875 \nQ 40.921875 74.21875 44.703125 73.484375 \nQ 48.484375 72.75 52.59375 71.296875 \nz\n\" id=\"DejaVuSans-36\"/>\n      </defs>\n      <g transform=\"translate(7.2 144.218224)scale(0.1 -0.1)\">\n       <use xlink:href=\"#DejaVuSans-30\"/>\n       <use x=\"63.623047\" xlink:href=\"#DejaVuSans-2e\"/>\n       <use x=\"95.410156\" xlink:href=\"#DejaVuSans-36\"/>\n      </g>\n     </g>\n    </g>\n    <g id=\"ytick_4\">\n     <g id=\"line2d_9\">\n      <g>\n       <use style=\"stroke:#000000;stroke-width:0.8;\" x=\"30.103125\" xlink:href=\"#m19c4e88704\" y=\"86.742716\"/>\n      </g>\n     </g>\n     <g id=\"text_4\">\n      <!-- 0.8 -->\n      <defs>\n       <path d=\"M 31.78125 34.625 \nQ 24.75 34.625 20.71875 30.859375 \nQ 16.703125 27.09375 16.703125 20.515625 \nQ 16.703125 13.921875 20.71875 10.15625 \nQ 24.75 6.390625 31.78125 6.390625 \nQ 38.8125 6.390625 42.859375 10.171875 \nQ 46.921875 13.96875 46.921875 20.515625 \nQ 46.921875 27.09375 42.890625 30.859375 \nQ 38.875 34.625 31.78125 34.625 \nz\nM 21.921875 38.8125 \nQ 15.578125 40.375 12.03125 44.71875 \nQ 8.5 49.078125 8.5 55.328125 \nQ 8.5 64.0625 14.71875 69.140625 \nQ 20.953125 74.21875 31.78125 74.21875 \nQ 42.671875 74.21875 48.875 69.140625 \nQ 55.078125 64.0625 55.078125 55.328125 \nQ 55.078125 49.078125 51.53125 44.71875 \nQ 48 40.375 41.703125 38.8125 \nQ 48.828125 37.15625 52.796875 32.3125 \nQ 56.78125 27.484375 56.78125 20.515625 \nQ 56.78125 9.90625 50.3125 4.234375 \nQ 43.84375 -1.421875 31.78125 -1.421875 \nQ 19.734375 -1.421875 13.25 4.234375 \nQ 6.78125 9.90625 6.78125 20.515625 \nQ 6.78125 27.484375 10.78125 32.3125 \nQ 14.796875 37.15625 21.921875 38.8125 \nz\nM 18.3125 54.390625 \nQ 18.3125 48.734375 21.84375 45.5625 \nQ 25.390625 42.390625 31.78125 42.390625 \nQ 38.140625 42.390625 41.71875 45.5625 \nQ 45.3125 48.734375 45.3125 54.390625 \nQ 45.3125 60.0625 41.71875 63.234375 \nQ 38.140625 66.40625 31.78125 66.40625 \nQ 25.390625 66.40625 21.84375 63.234375 \nQ 18.3125 60.0625 18.3125 54.390625 \nz\n\" id=\"DejaVuSans-38\"/>\n      </defs>\n      <g transform=\"translate(7.2 90.541935)scale(0.1 -0.1)\">\n       <use xlink:href=\"#DejaVuSans-30\"/>\n       <use x=\"63.623047\" xlink:href=\"#DejaVuSans-2e\"/>\n       <use x=\"95.410156\" xlink:href=\"#DejaVuSans-38\"/>\n      </g>\n     </g>\n    </g>\n    <g id=\"ytick_5\">\n     <g id=\"line2d_10\">\n      <g>\n       <use style=\"stroke:#000000;stroke-width:0.8;\" x=\"30.103125\" xlink:href=\"#m19c4e88704\" y=\"33.066427\"/>\n      </g>\n     </g>\n     <g id=\"text_5\">\n      <!-- 1.0 -->\n      <defs>\n       <path d=\"M 12.40625 8.296875 \nL 28.515625 8.296875 \nL 28.515625 63.921875 \nL 10.984375 60.40625 \nL 10.984375 69.390625 \nL 28.421875 72.90625 \nL 38.28125 72.90625 \nL 38.28125 8.296875 \nL 54.390625 8.296875 \nL 54.390625 0 \nL 12.40625 0 \nz\n\" id=\"DejaVuSans-31\"/>\n      </defs>\n      <g transform=\"translate(7.2 36.865646)scale(0.1 -0.1)\">\n       <use xlink:href=\"#DejaVuSans-31\"/>\n       <use x=\"63.623047\" xlink:href=\"#DejaVuSans-2e\"/>\n       <use x=\"95.410156\" xlink:href=\"#DejaVuSans-30\"/>\n      </g>\n     </g>\n    </g>\n   </g>\n   <g id=\"line2d_11\">\n    <defs>\n     <path d=\"M 0 3 \nC 0.795609 3 1.55874 2.683901 2.12132 2.12132 \nC 2.683901 1.55874 3 0.795609 3 0 \nC 3 -0.795609 2.683901 -1.55874 2.12132 -2.12132 \nC 1.55874 -2.683901 0.795609 -3 0 -3 \nC -0.795609 -3 -1.55874 -2.683901 -2.12132 -2.12132 \nC -2.683901 -1.55874 -3 -0.795609 -3 0 \nC -3 0.795609 -2.683901 1.55874 -2.12132 2.12132 \nC -1.55874 2.683901 -0.795609 3 0 3 \nz\n\" id=\"md4b1f28fde\" style=\"stroke:#0000ff;\"/>\n    </defs>\n    <g clip-path=\"url(#p917c3d7d9e)\">\n     <use style=\"fill:#0000ff;stroke:#0000ff;\" x=\"54.09858\" xlink:href=\"#md4b1f28fde\" y=\"256.706761\"/>\n     <use style=\"fill:#0000ff;stroke:#0000ff;\" x=\"102.089489\" xlink:href=\"#md4b1f28fde\" y=\"130.940325\"/>\n     <use style=\"fill:#0000ff;stroke:#0000ff;\" x=\"150.080398\" xlink:href=\"#md4b1f28fde\" y=\"64.937403\"/>\n     <use style=\"fill:#0000ff;stroke:#0000ff;\" x=\"198.071307\" xlink:href=\"#md4b1f28fde\" y=\"41.001561\"/>\n     <use style=\"fill:#0000ff;stroke:#0000ff;\" x=\"246.062216\" xlink:href=\"#md4b1f28fde\" y=\"34.523013\"/>\n     <use style=\"fill:#0000ff;stroke:#0000ff;\" x=\"294.053125\" xlink:href=\"#md4b1f28fde\" y=\"33.675149\"/>\n     <use style=\"fill:#0000ff;stroke:#0000ff;\" x=\"342.044034\" xlink:href=\"#md4b1f28fde\" y=\"33.522969\"/>\n     <use style=\"fill:#0000ff;stroke:#0000ff;\" x=\"390.034943\" xlink:href=\"#md4b1f28fde\" y=\"33.80559\"/>\n     <use style=\"fill:#0000ff;stroke:#0000ff;\" x=\"438.025852\" xlink:href=\"#md4b1f28fde\" y=\"33.479489\"/>\n     <use style=\"fill:#0000ff;stroke:#0000ff;\" x=\"486.016761\" xlink:href=\"#md4b1f28fde\" y=\"33.522969\"/>\n     <use style=\"fill:#0000ff;stroke:#0000ff;\" x=\"534.00767\" xlink:href=\"#md4b1f28fde\" y=\"33.501229\"/>\n    </g>\n   </g>\n   <g id=\"line2d_12\">\n    <path clip-path=\"url(#p917c3d7d9e)\" d=\"M 54.09858 225.196467 \nL 102.089489 205.937764 \nL 150.080398 198.756553 \nL 198.071307 197.255027 \nL 246.062216 192.032328 \nL 294.053125 190.66137 \nL 342.044034 189.877965 \nL 390.034943 188.57229 \nL 438.025852 188.702857 \nL 486.016761 187.788885 \nL 534.00767 188.963992 \n\" style=\"fill:none;stroke:#0000ff;stroke-linecap:square;stroke-width:1.5;\"/>\n   </g>\n   <g id=\"patch_3\">\n    <path d=\"M 30.103125 267.868125 \nL 30.103125 22.318125 \n\" style=\"fill:none;stroke:#000000;stroke-linecap:square;stroke-linejoin:miter;stroke-width:0.8;\"/>\n   </g>\n   <g id=\"patch_4\">\n    <path d=\"M 558.003125 267.868125 \nL 558.003125 22.318125 \n\" style=\"fill:none;stroke:#000000;stroke-linecap:square;stroke-linejoin:miter;stroke-width:0.8;\"/>\n   </g>\n   <g id=\"patch_5\">\n    <path d=\"M 30.103125 267.868125 \nL 558.003125 267.868125 \n\" style=\"fill:none;stroke:#000000;stroke-linecap:square;stroke-linejoin:miter;stroke-width:0.8;\"/>\n   </g>\n   <g id=\"patch_6\">\n    <path d=\"M 30.103125 22.318125 \nL 558.003125 22.318125 \n\" style=\"fill:none;stroke:#000000;stroke-linecap:square;stroke-linejoin:miter;stroke-width:0.8;\"/>\n   </g>\n   <g id=\"text_6\">\n    <!-- Training and Validation accuracy -->\n    <defs>\n     <path d=\"M -0.296875 72.90625 \nL 61.375 72.90625 \nL 61.375 64.59375 \nL 35.5 64.59375 \nL 35.5 0 \nL 25.59375 0 \nL 25.59375 64.59375 \nL -0.296875 64.59375 \nz\n\" id=\"DejaVuSans-54\"/>\n     <path d=\"M 41.109375 46.296875 \nQ 39.59375 47.171875 37.8125 47.578125 \nQ 36.03125 48 33.890625 48 \nQ 26.265625 48 22.1875 43.046875 \nQ 18.109375 38.09375 18.109375 28.8125 \nL 18.109375 0 \nL 9.078125 0 \nL 9.078125 54.6875 \nL 18.109375 54.6875 \nL 18.109375 46.1875 \nQ 20.953125 51.171875 25.484375 53.578125 \nQ 30.03125 56 36.53125 56 \nQ 37.453125 56 38.578125 55.875 \nQ 39.703125 55.765625 41.0625 55.515625 \nz\n\" id=\"DejaVuSans-72\"/>\n     <path d=\"M 34.28125 27.484375 \nQ 23.390625 27.484375 19.1875 25 \nQ 14.984375 22.515625 14.984375 16.5 \nQ 14.984375 11.71875 18.140625 8.90625 \nQ 21.296875 6.109375 26.703125 6.109375 \nQ 34.1875 6.109375 38.703125 11.40625 \nQ 43.21875 16.703125 43.21875 25.484375 \nL 43.21875 27.484375 \nz\nM 52.203125 31.203125 \nL 52.203125 0 \nL 43.21875 0 \nL 43.21875 8.296875 \nQ 40.140625 3.328125 35.546875 0.953125 \nQ 30.953125 -1.421875 24.3125 -1.421875 \nQ 15.921875 -1.421875 10.953125 3.296875 \nQ 6 8.015625 6 15.921875 \nQ 6 25.140625 12.171875 29.828125 \nQ 18.359375 34.515625 30.609375 34.515625 \nL 43.21875 34.515625 \nL 43.21875 35.40625 \nQ 43.21875 41.609375 39.140625 45 \nQ 35.0625 48.390625 27.6875 48.390625 \nQ 23 48.390625 18.546875 47.265625 \nQ 14.109375 46.140625 10.015625 43.890625 \nL 10.015625 52.203125 \nQ 14.9375 54.109375 19.578125 55.046875 \nQ 24.21875 56 28.609375 56 \nQ 40.484375 56 46.34375 49.84375 \nQ 52.203125 43.703125 52.203125 31.203125 \nz\n\" id=\"DejaVuSans-61\"/>\n     <path d=\"M 9.421875 54.6875 \nL 18.40625 54.6875 \nL 18.40625 0 \nL 9.421875 0 \nz\nM 9.421875 75.984375 \nL 18.40625 75.984375 \nL 18.40625 64.59375 \nL 9.421875 64.59375 \nz\n\" id=\"DejaVuSans-69\"/>\n     <path d=\"M 54.890625 33.015625 \nL 54.890625 0 \nL 45.90625 0 \nL 45.90625 32.71875 \nQ 45.90625 40.484375 42.875 44.328125 \nQ 39.84375 48.1875 33.796875 48.1875 \nQ 26.515625 48.1875 22.3125 43.546875 \nQ 18.109375 38.921875 18.109375 30.90625 \nL 18.109375 0 \nL 9.078125 0 \nL 9.078125 54.6875 \nL 18.109375 54.6875 \nL 18.109375 46.1875 \nQ 21.34375 51.125 25.703125 53.5625 \nQ 30.078125 56 35.796875 56 \nQ 45.21875 56 50.046875 50.171875 \nQ 54.890625 44.34375 54.890625 33.015625 \nz\n\" id=\"DejaVuSans-6e\"/>\n     <path d=\"M 45.40625 27.984375 \nQ 45.40625 37.75 41.375 43.109375 \nQ 37.359375 48.484375 30.078125 48.484375 \nQ 22.859375 48.484375 18.828125 43.109375 \nQ 14.796875 37.75 14.796875 27.984375 \nQ 14.796875 18.265625 18.828125 12.890625 \nQ 22.859375 7.515625 30.078125 7.515625 \nQ 37.359375 7.515625 41.375 12.890625 \nQ 45.40625 18.265625 45.40625 27.984375 \nz\nM 54.390625 6.78125 \nQ 54.390625 -7.171875 48.1875 -13.984375 \nQ 42 -20.796875 29.203125 -20.796875 \nQ 24.46875 -20.796875 20.265625 -20.09375 \nQ 16.0625 -19.390625 12.109375 -17.921875 \nL 12.109375 -9.1875 \nQ 16.0625 -11.328125 19.921875 -12.34375 \nQ 23.78125 -13.375 27.78125 -13.375 \nQ 36.625 -13.375 41.015625 -8.765625 \nQ 45.40625 -4.15625 45.40625 5.171875 \nL 45.40625 9.625 \nQ 42.625 4.78125 38.28125 2.390625 \nQ 33.9375 0 27.875 0 \nQ 17.828125 0 11.671875 7.65625 \nQ 5.515625 15.328125 5.515625 27.984375 \nQ 5.515625 40.671875 11.671875 48.328125 \nQ 17.828125 56 27.875 56 \nQ 33.9375 56 38.28125 53.609375 \nQ 42.625 51.21875 45.40625 46.390625 \nL 45.40625 54.6875 \nL 54.390625 54.6875 \nz\n\" id=\"DejaVuSans-67\"/>\n     <path id=\"DejaVuSans-20\"/>\n     <path d=\"M 45.40625 46.390625 \nL 45.40625 75.984375 \nL 54.390625 75.984375 \nL 54.390625 0 \nL 45.40625 0 \nL 45.40625 8.203125 \nQ 42.578125 3.328125 38.25 0.953125 \nQ 33.9375 -1.421875 27.875 -1.421875 \nQ 17.96875 -1.421875 11.734375 6.484375 \nQ 5.515625 14.40625 5.515625 27.296875 \nQ 5.515625 40.1875 11.734375 48.09375 \nQ 17.96875 56 27.875 56 \nQ 33.9375 56 38.25 53.625 \nQ 42.578125 51.265625 45.40625 46.390625 \nz\nM 14.796875 27.296875 \nQ 14.796875 17.390625 18.875 11.75 \nQ 22.953125 6.109375 30.078125 6.109375 \nQ 37.203125 6.109375 41.296875 11.75 \nQ 45.40625 17.390625 45.40625 27.296875 \nQ 45.40625 37.203125 41.296875 42.84375 \nQ 37.203125 48.484375 30.078125 48.484375 \nQ 22.953125 48.484375 18.875 42.84375 \nQ 14.796875 37.203125 14.796875 27.296875 \nz\n\" id=\"DejaVuSans-64\"/>\n     <path d=\"M 28.609375 0 \nL 0.78125 72.90625 \nL 11.078125 72.90625 \nL 34.1875 11.53125 \nL 57.328125 72.90625 \nL 67.578125 72.90625 \nL 39.796875 0 \nz\n\" id=\"DejaVuSans-56\"/>\n     <path d=\"M 9.421875 75.984375 \nL 18.40625 75.984375 \nL 18.40625 0 \nL 9.421875 0 \nz\n\" id=\"DejaVuSans-6c\"/>\n     <path d=\"M 18.3125 70.21875 \nL 18.3125 54.6875 \nL 36.8125 54.6875 \nL 36.8125 47.703125 \nL 18.3125 47.703125 \nL 18.3125 18.015625 \nQ 18.3125 11.328125 20.140625 9.421875 \nQ 21.96875 7.515625 27.59375 7.515625 \nL 36.8125 7.515625 \nL 36.8125 0 \nL 27.59375 0 \nQ 17.1875 0 13.234375 3.875 \nQ 9.28125 7.765625 9.28125 18.015625 \nL 9.28125 47.703125 \nL 2.6875 47.703125 \nL 2.6875 54.6875 \nL 9.28125 54.6875 \nL 9.28125 70.21875 \nz\n\" id=\"DejaVuSans-74\"/>\n     <path d=\"M 30.609375 48.390625 \nQ 23.390625 48.390625 19.1875 42.75 \nQ 14.984375 37.109375 14.984375 27.296875 \nQ 14.984375 17.484375 19.15625 11.84375 \nQ 23.34375 6.203125 30.609375 6.203125 \nQ 37.796875 6.203125 41.984375 11.859375 \nQ 46.1875 17.53125 46.1875 27.296875 \nQ 46.1875 37.015625 41.984375 42.703125 \nQ 37.796875 48.390625 30.609375 48.390625 \nz\nM 30.609375 56 \nQ 42.328125 56 49.015625 48.375 \nQ 55.71875 40.765625 55.71875 27.296875 \nQ 55.71875 13.875 49.015625 6.21875 \nQ 42.328125 -1.421875 30.609375 -1.421875 \nQ 18.84375 -1.421875 12.171875 6.21875 \nQ 5.515625 13.875 5.515625 27.296875 \nQ 5.515625 40.765625 12.171875 48.375 \nQ 18.84375 56 30.609375 56 \nz\n\" id=\"DejaVuSans-6f\"/>\n     <path d=\"M 48.78125 52.59375 \nL 48.78125 44.1875 \nQ 44.96875 46.296875 41.140625 47.34375 \nQ 37.3125 48.390625 33.40625 48.390625 \nQ 24.65625 48.390625 19.8125 42.84375 \nQ 14.984375 37.3125 14.984375 27.296875 \nQ 14.984375 17.28125 19.8125 11.734375 \nQ 24.65625 6.203125 33.40625 6.203125 \nQ 37.3125 6.203125 41.140625 7.25 \nQ 44.96875 8.296875 48.78125 10.40625 \nL 48.78125 2.09375 \nQ 45.015625 0.34375 40.984375 -0.53125 \nQ 36.96875 -1.421875 32.421875 -1.421875 \nQ 20.0625 -1.421875 12.78125 6.34375 \nQ 5.515625 14.109375 5.515625 27.296875 \nQ 5.515625 40.671875 12.859375 48.328125 \nQ 20.21875 56 33.015625 56 \nQ 37.15625 56 41.109375 55.140625 \nQ 45.0625 54.296875 48.78125 52.59375 \nz\n\" id=\"DejaVuSans-63\"/>\n     <path d=\"M 8.5 21.578125 \nL 8.5 54.6875 \nL 17.484375 54.6875 \nL 17.484375 21.921875 \nQ 17.484375 14.15625 20.5 10.265625 \nQ 23.53125 6.390625 29.59375 6.390625 \nQ 36.859375 6.390625 41.078125 11.03125 \nQ 45.3125 15.671875 45.3125 23.6875 \nL 45.3125 54.6875 \nL 54.296875 54.6875 \nL 54.296875 0 \nL 45.3125 0 \nL 45.3125 8.40625 \nQ 42.046875 3.421875 37.71875 1 \nQ 33.40625 -1.421875 27.6875 -1.421875 \nQ 18.265625 -1.421875 13.375 4.4375 \nQ 8.5 10.296875 8.5 21.578125 \nz\nM 31.109375 56 \nz\n\" id=\"DejaVuSans-75\"/>\n     <path d=\"M 32.171875 -5.078125 \nQ 28.375 -14.84375 24.75 -17.8125 \nQ 21.140625 -20.796875 15.09375 -20.796875 \nL 7.90625 -20.796875 \nL 7.90625 -13.28125 \nL 13.1875 -13.28125 \nQ 16.890625 -13.28125 18.9375 -11.515625 \nQ 21 -9.765625 23.484375 -3.21875 \nL 25.09375 0.875 \nL 2.984375 54.6875 \nL 12.5 54.6875 \nL 29.59375 11.921875 \nL 46.6875 54.6875 \nL 56.203125 54.6875 \nz\n\" id=\"DejaVuSans-79\"/>\n    </defs>\n    <g transform=\"translate(195.342813 16.318125)scale(0.12 -0.12)\">\n     <use xlink:href=\"#DejaVuSans-54\"/>\n     <use x=\"60.865234\" xlink:href=\"#DejaVuSans-72\"/>\n     <use x=\"101.978516\" xlink:href=\"#DejaVuSans-61\"/>\n     <use x=\"163.257812\" xlink:href=\"#DejaVuSans-69\"/>\n     <use x=\"191.041016\" xlink:href=\"#DejaVuSans-6e\"/>\n     <use x=\"254.419922\" xlink:href=\"#DejaVuSans-69\"/>\n     <use x=\"282.203125\" xlink:href=\"#DejaVuSans-6e\"/>\n     <use x=\"345.582031\" xlink:href=\"#DejaVuSans-67\"/>\n     <use x=\"409.058594\" xlink:href=\"#DejaVuSans-20\"/>\n     <use x=\"440.845703\" xlink:href=\"#DejaVuSans-61\"/>\n     <use x=\"502.125\" xlink:href=\"#DejaVuSans-6e\"/>\n     <use x=\"565.503906\" xlink:href=\"#DejaVuSans-64\"/>\n     <use x=\"628.980469\" xlink:href=\"#DejaVuSans-20\"/>\n     <use x=\"660.767578\" xlink:href=\"#DejaVuSans-56\"/>\n     <use x=\"729.066406\" xlink:href=\"#DejaVuSans-61\"/>\n     <use x=\"790.345703\" xlink:href=\"#DejaVuSans-6c\"/>\n     <use x=\"818.128906\" xlink:href=\"#DejaVuSans-69\"/>\n     <use x=\"845.912109\" xlink:href=\"#DejaVuSans-64\"/>\n     <use x=\"909.388672\" xlink:href=\"#DejaVuSans-61\"/>\n     <use x=\"970.667969\" xlink:href=\"#DejaVuSans-74\"/>\n     <use x=\"1009.876953\" xlink:href=\"#DejaVuSans-69\"/>\n     <use x=\"1037.660156\" xlink:href=\"#DejaVuSans-6f\"/>\n     <use x=\"1098.841797\" xlink:href=\"#DejaVuSans-6e\"/>\n     <use x=\"1162.220703\" xlink:href=\"#DejaVuSans-20\"/>\n     <use x=\"1194.007812\" xlink:href=\"#DejaVuSans-61\"/>\n     <use x=\"1255.287109\" xlink:href=\"#DejaVuSans-63\"/>\n     <use x=\"1310.267578\" xlink:href=\"#DejaVuSans-63\"/>\n     <use x=\"1365.248047\" xlink:href=\"#DejaVuSans-75\"/>\n     <use x=\"1428.626953\" xlink:href=\"#DejaVuSans-72\"/>\n     <use x=\"1469.740234\" xlink:href=\"#DejaVuSans-61\"/>\n     <use x=\"1531.019531\" xlink:href=\"#DejaVuSans-63\"/>\n     <use x=\"1586\" xlink:href=\"#DejaVuSans-79\"/>\n    </g>\n   </g>\n   <g id=\"legend_1\">\n    <g id=\"patch_7\">\n     <path d=\"M 420.560938 262.868125 \nL 551.003125 262.868125 \nQ 553.003125 262.868125 553.003125 260.868125 \nL 553.003125 232.511875 \nQ 553.003125 230.511875 551.003125 230.511875 \nL 420.560938 230.511875 \nQ 418.560938 230.511875 418.560938 232.511875 \nL 418.560938 260.868125 \nQ 418.560938 262.868125 420.560938 262.868125 \nz\n\" style=\"fill:#ffffff;opacity:0.8;stroke:#cccccc;stroke-linejoin:miter;\"/>\n    </g>\n    <g id=\"line2d_13\"/>\n    <g id=\"line2d_14\">\n     <g>\n      <use style=\"fill:#0000ff;stroke:#0000ff;\" x=\"432.560938\" xlink:href=\"#md4b1f28fde\" y=\"238.610312\"/>\n     </g>\n    </g>\n    <g id=\"text_7\">\n     <!-- Training accuracy -->\n     <g transform=\"translate(450.560938 242.110312)scale(0.1 -0.1)\">\n      <use xlink:href=\"#DejaVuSans-54\"/>\n      <use x=\"60.865234\" xlink:href=\"#DejaVuSans-72\"/>\n      <use x=\"101.978516\" xlink:href=\"#DejaVuSans-61\"/>\n      <use x=\"163.257812\" xlink:href=\"#DejaVuSans-69\"/>\n      <use x=\"191.041016\" xlink:href=\"#DejaVuSans-6e\"/>\n      <use x=\"254.419922\" xlink:href=\"#DejaVuSans-69\"/>\n      <use x=\"282.203125\" xlink:href=\"#DejaVuSans-6e\"/>\n      <use x=\"345.582031\" xlink:href=\"#DejaVuSans-67\"/>\n      <use x=\"409.058594\" xlink:href=\"#DejaVuSans-20\"/>\n      <use x=\"440.845703\" xlink:href=\"#DejaVuSans-61\"/>\n      <use x=\"502.125\" xlink:href=\"#DejaVuSans-63\"/>\n      <use x=\"557.105469\" xlink:href=\"#DejaVuSans-63\"/>\n      <use x=\"612.085938\" xlink:href=\"#DejaVuSans-75\"/>\n      <use x=\"675.464844\" xlink:href=\"#DejaVuSans-72\"/>\n      <use x=\"716.578125\" xlink:href=\"#DejaVuSans-61\"/>\n      <use x=\"777.857422\" xlink:href=\"#DejaVuSans-63\"/>\n      <use x=\"832.837891\" xlink:href=\"#DejaVuSans-79\"/>\n     </g>\n    </g>\n    <g id=\"line2d_15\">\n     <path d=\"M 422.560938 253.288437 \nL 442.560938 253.288437 \n\" style=\"fill:none;stroke:#0000ff;stroke-linecap:square;stroke-width:1.5;\"/>\n    </g>\n    <g id=\"line2d_16\"/>\n    <g id=\"text_8\">\n     <!-- Validation accuracy -->\n     <g transform=\"translate(450.560938 256.788437)scale(0.1 -0.1)\">\n      <use xlink:href=\"#DejaVuSans-56\"/>\n      <use x=\"68.298828\" xlink:href=\"#DejaVuSans-61\"/>\n      <use x=\"129.578125\" xlink:href=\"#DejaVuSans-6c\"/>\n      <use x=\"157.361328\" xlink:href=\"#DejaVuSans-69\"/>\n      <use x=\"185.144531\" xlink:href=\"#DejaVuSans-64\"/>\n      <use x=\"248.621094\" xlink:href=\"#DejaVuSans-61\"/>\n      <use x=\"309.900391\" xlink:href=\"#DejaVuSans-74\"/>\n      <use x=\"349.109375\" xlink:href=\"#DejaVuSans-69\"/>\n      <use x=\"376.892578\" xlink:href=\"#DejaVuSans-6f\"/>\n      <use x=\"438.074219\" xlink:href=\"#DejaVuSans-6e\"/>\n      <use x=\"501.453125\" xlink:href=\"#DejaVuSans-20\"/>\n      <use x=\"533.240234\" xlink:href=\"#DejaVuSans-61\"/>\n      <use x=\"594.519531\" xlink:href=\"#DejaVuSans-63\"/>\n      <use x=\"649.5\" xlink:href=\"#DejaVuSans-63\"/>\n      <use x=\"704.480469\" xlink:href=\"#DejaVuSans-75\"/>\n      <use x=\"767.859375\" xlink:href=\"#DejaVuSans-72\"/>\n      <use x=\"808.972656\" xlink:href=\"#DejaVuSans-61\"/>\n      <use x=\"870.251953\" xlink:href=\"#DejaVuSans-63\"/>\n      <use x=\"925.232422\" xlink:href=\"#DejaVuSans-79\"/>\n     </g>\n    </g>\n   </g>\n  </g>\n  <g id=\"axes_2\">\n   <g id=\"patch_8\">\n    <path d=\"M 30.103125 543.718125 \nL 558.003125 543.718125 \nL 558.003125 298.168125 \nL 30.103125 298.168125 \nz\n\" style=\"fill:#ffffff;\"/>\n   </g>\n   <g id=\"matplotlib.axis_3\">\n    <g id=\"xtick_6\">\n     <g id=\"line2d_17\">\n      <g>\n       <use style=\"stroke:#000000;stroke-width:0.8;\" x=\"102.089489\" xlink:href=\"#mb1408c25c2\" y=\"543.718125\"/>\n      </g>\n     </g>\n     <g id=\"text_9\">\n      <!-- 2 -->\n      <g transform=\"translate(98.908239 558.316562)scale(0.1 -0.1)\">\n       <use xlink:href=\"#DejaVuSans-32\"/>\n      </g>\n     </g>\n    </g>\n    <g id=\"xtick_7\">\n     <g id=\"line2d_18\">\n      <g>\n       <use style=\"stroke:#000000;stroke-width:0.8;\" x=\"198.071307\" xlink:href=\"#mb1408c25c2\" y=\"543.718125\"/>\n      </g>\n     </g>\n     <g id=\"text_10\">\n      <!-- 4 -->\n      <g transform=\"translate(194.890057 558.316562)scale(0.1 -0.1)\">\n       <use xlink:href=\"#DejaVuSans-34\"/>\n      </g>\n     </g>\n    </g>\n    <g id=\"xtick_8\">\n     <g id=\"line2d_19\">\n      <g>\n       <use style=\"stroke:#000000;stroke-width:0.8;\" x=\"294.053125\" xlink:href=\"#mb1408c25c2\" y=\"543.718125\"/>\n      </g>\n     </g>\n     <g id=\"text_11\">\n      <!-- 6 -->\n      <g transform=\"translate(290.871875 558.316562)scale(0.1 -0.1)\">\n       <use xlink:href=\"#DejaVuSans-36\"/>\n      </g>\n     </g>\n    </g>\n    <g id=\"xtick_9\">\n     <g id=\"line2d_20\">\n      <g>\n       <use style=\"stroke:#000000;stroke-width:0.8;\" x=\"390.034943\" xlink:href=\"#mb1408c25c2\" y=\"543.718125\"/>\n      </g>\n     </g>\n     <g id=\"text_12\">\n      <!-- 8 -->\n      <g transform=\"translate(386.853693 558.316562)scale(0.1 -0.1)\">\n       <use xlink:href=\"#DejaVuSans-38\"/>\n      </g>\n     </g>\n    </g>\n    <g id=\"xtick_10\">\n     <g id=\"line2d_21\">\n      <g>\n       <use style=\"stroke:#000000;stroke-width:0.8;\" x=\"486.016761\" xlink:href=\"#mb1408c25c2\" y=\"543.718125\"/>\n      </g>\n     </g>\n     <g id=\"text_13\">\n      <!-- 10 -->\n      <g transform=\"translate(479.654261 558.316562)scale(0.1 -0.1)\">\n       <use xlink:href=\"#DejaVuSans-31\"/>\n       <use x=\"63.623047\" xlink:href=\"#DejaVuSans-30\"/>\n      </g>\n     </g>\n    </g>\n   </g>\n   <g id=\"matplotlib.axis_4\">\n    <g id=\"ytick_6\">\n     <g id=\"line2d_22\">\n      <g>\n       <use style=\"stroke:#000000;stroke-width:0.8;\" x=\"30.103125\" xlink:href=\"#m19c4e88704\" y=\"534.450657\"/>\n      </g>\n     </g>\n     <g id=\"text_14\">\n      <!-- 0.0 -->\n      <g transform=\"translate(7.2 538.249876)scale(0.1 -0.1)\">\n       <use xlink:href=\"#DejaVuSans-30\"/>\n       <use x=\"63.623047\" xlink:href=\"#DejaVuSans-2e\"/>\n       <use x=\"95.410156\" xlink:href=\"#DejaVuSans-30\"/>\n      </g>\n     </g>\n    </g>\n    <g id=\"ytick_7\">\n     <g id=\"line2d_23\">\n      <g>\n       <use style=\"stroke:#000000;stroke-width:0.8;\" x=\"30.103125\" xlink:href=\"#m19c4e88704\" y=\"504.793478\"/>\n      </g>\n     </g>\n     <g id=\"text_15\">\n      <!-- 0.5 -->\n      <defs>\n       <path d=\"M 10.796875 72.90625 \nL 49.515625 72.90625 \nL 49.515625 64.59375 \nL 19.828125 64.59375 \nL 19.828125 46.734375 \nQ 21.96875 47.46875 24.109375 47.828125 \nQ 26.265625 48.1875 28.421875 48.1875 \nQ 40.625 48.1875 47.75 41.5 \nQ 54.890625 34.8125 54.890625 23.390625 \nQ 54.890625 11.625 47.5625 5.09375 \nQ 40.234375 -1.421875 26.90625 -1.421875 \nQ 22.3125 -1.421875 17.546875 -0.640625 \nQ 12.796875 0.140625 7.71875 1.703125 \nL 7.71875 11.625 \nQ 12.109375 9.234375 16.796875 8.0625 \nQ 21.484375 6.890625 26.703125 6.890625 \nQ 35.15625 6.890625 40.078125 11.328125 \nQ 45.015625 15.765625 45.015625 23.390625 \nQ 45.015625 31 40.078125 35.4375 \nQ 35.15625 39.890625 26.703125 39.890625 \nQ 22.75 39.890625 18.8125 39.015625 \nQ 14.890625 38.140625 10.796875 36.28125 \nz\n\" id=\"DejaVuSans-35\"/>\n      </defs>\n      <g transform=\"translate(7.2 508.592696)scale(0.1 -0.1)\">\n       <use xlink:href=\"#DejaVuSans-30\"/>\n       <use x=\"63.623047\" xlink:href=\"#DejaVuSans-2e\"/>\n       <use x=\"95.410156\" xlink:href=\"#DejaVuSans-35\"/>\n      </g>\n     </g>\n    </g>\n    <g id=\"ytick_8\">\n     <g id=\"line2d_24\">\n      <g>\n       <use style=\"stroke:#000000;stroke-width:0.8;\" x=\"30.103125\" xlink:href=\"#m19c4e88704\" y=\"475.136298\"/>\n      </g>\n     </g>\n     <g id=\"text_16\">\n      <!-- 1.0 -->\n      <g transform=\"translate(7.2 478.935517)scale(0.1 -0.1)\">\n       <use xlink:href=\"#DejaVuSans-31\"/>\n       <use x=\"63.623047\" xlink:href=\"#DejaVuSans-2e\"/>\n       <use x=\"95.410156\" xlink:href=\"#DejaVuSans-30\"/>\n      </g>\n     </g>\n    </g>\n    <g id=\"ytick_9\">\n     <g id=\"line2d_25\">\n      <g>\n       <use style=\"stroke:#000000;stroke-width:0.8;\" x=\"30.103125\" xlink:href=\"#m19c4e88704\" y=\"445.479119\"/>\n      </g>\n     </g>\n     <g id=\"text_17\">\n      <!-- 1.5 -->\n      <g transform=\"translate(7.2 449.278337)scale(0.1 -0.1)\">\n       <use xlink:href=\"#DejaVuSans-31\"/>\n       <use x=\"63.623047\" xlink:href=\"#DejaVuSans-2e\"/>\n       <use x=\"95.410156\" xlink:href=\"#DejaVuSans-35\"/>\n      </g>\n     </g>\n    </g>\n    <g id=\"ytick_10\">\n     <g id=\"line2d_26\">\n      <g>\n       <use style=\"stroke:#000000;stroke-width:0.8;\" x=\"30.103125\" xlink:href=\"#m19c4e88704\" y=\"415.821939\"/>\n      </g>\n     </g>\n     <g id=\"text_18\">\n      <!-- 2.0 -->\n      <g transform=\"translate(7.2 419.621158)scale(0.1 -0.1)\">\n       <use xlink:href=\"#DejaVuSans-32\"/>\n       <use x=\"63.623047\" xlink:href=\"#DejaVuSans-2e\"/>\n       <use x=\"95.410156\" xlink:href=\"#DejaVuSans-30\"/>\n      </g>\n     </g>\n    </g>\n    <g id=\"ytick_11\">\n     <g id=\"line2d_27\">\n      <g>\n       <use style=\"stroke:#000000;stroke-width:0.8;\" x=\"30.103125\" xlink:href=\"#m19c4e88704\" y=\"386.16476\"/>\n      </g>\n     </g>\n     <g id=\"text_19\">\n      <!-- 2.5 -->\n      <g transform=\"translate(7.2 389.963978)scale(0.1 -0.1)\">\n       <use xlink:href=\"#DejaVuSans-32\"/>\n       <use x=\"63.623047\" xlink:href=\"#DejaVuSans-2e\"/>\n       <use x=\"95.410156\" xlink:href=\"#DejaVuSans-35\"/>\n      </g>\n     </g>\n    </g>\n    <g id=\"ytick_12\">\n     <g id=\"line2d_28\">\n      <g>\n       <use style=\"stroke:#000000;stroke-width:0.8;\" x=\"30.103125\" xlink:href=\"#m19c4e88704\" y=\"356.50758\"/>\n      </g>\n     </g>\n     <g id=\"text_20\">\n      <!-- 3.0 -->\n      <defs>\n       <path d=\"M 40.578125 39.3125 \nQ 47.65625 37.796875 51.625 33 \nQ 55.609375 28.21875 55.609375 21.1875 \nQ 55.609375 10.40625 48.1875 4.484375 \nQ 40.765625 -1.421875 27.09375 -1.421875 \nQ 22.515625 -1.421875 17.65625 -0.515625 \nQ 12.796875 0.390625 7.625 2.203125 \nL 7.625 11.71875 \nQ 11.71875 9.328125 16.59375 8.109375 \nQ 21.484375 6.890625 26.8125 6.890625 \nQ 36.078125 6.890625 40.9375 10.546875 \nQ 45.796875 14.203125 45.796875 21.1875 \nQ 45.796875 27.640625 41.28125 31.265625 \nQ 36.765625 34.90625 28.71875 34.90625 \nL 20.21875 34.90625 \nL 20.21875 43.015625 \nL 29.109375 43.015625 \nQ 36.375 43.015625 40.234375 45.921875 \nQ 44.09375 48.828125 44.09375 54.296875 \nQ 44.09375 59.90625 40.109375 62.90625 \nQ 36.140625 65.921875 28.71875 65.921875 \nQ 24.65625 65.921875 20.015625 65.03125 \nQ 15.375 64.15625 9.8125 62.3125 \nL 9.8125 71.09375 \nQ 15.4375 72.65625 20.34375 73.4375 \nQ 25.25 74.21875 29.59375 74.21875 \nQ 40.828125 74.21875 47.359375 69.109375 \nQ 53.90625 64.015625 53.90625 55.328125 \nQ 53.90625 49.265625 50.4375 45.09375 \nQ 46.96875 40.921875 40.578125 39.3125 \nz\n\" id=\"DejaVuSans-33\"/>\n      </defs>\n      <g transform=\"translate(7.2 360.306799)scale(0.1 -0.1)\">\n       <use xlink:href=\"#DejaVuSans-33\"/>\n       <use x=\"63.623047\" xlink:href=\"#DejaVuSans-2e\"/>\n       <use x=\"95.410156\" xlink:href=\"#DejaVuSans-30\"/>\n      </g>\n     </g>\n    </g>\n    <g id=\"ytick_13\">\n     <g id=\"line2d_29\">\n      <g>\n       <use style=\"stroke:#000000;stroke-width:0.8;\" x=\"30.103125\" xlink:href=\"#m19c4e88704\" y=\"326.850401\"/>\n      </g>\n     </g>\n     <g id=\"text_21\">\n      <!-- 3.5 -->\n      <g transform=\"translate(7.2 330.64962)scale(0.1 -0.1)\">\n       <use xlink:href=\"#DejaVuSans-33\"/>\n       <use x=\"63.623047\" xlink:href=\"#DejaVuSans-2e\"/>\n       <use x=\"95.410156\" xlink:href=\"#DejaVuSans-35\"/>\n      </g>\n     </g>\n    </g>\n   </g>\n   <g id=\"line2d_30\">\n    <defs>\n     <path d=\"M 0 3 \nC 0.795609 3 1.55874 2.683901 2.12132 2.12132 \nC 2.683901 1.55874 3 0.795609 3 0 \nC 3 -0.795609 2.683901 -1.55874 2.12132 -2.12132 \nC 1.55874 -2.683901 0.795609 -3 0 -3 \nC -0.795609 -3 -1.55874 -2.683901 -2.12132 -2.12132 \nC -2.683901 -1.55874 -3 -0.795609 -3 0 \nC -3 0.795609 -2.683901 1.55874 -2.12132 2.12132 \nC -1.55874 2.683901 -0.795609 3 0 3 \nz\n\" id=\"mda22e31d60\" style=\"stroke:#ff0000;\"/>\n    </defs>\n    <g clip-path=\"url(#p2939fb2a0a)\">\n     <use style=\"fill:#ff0000;stroke:#ff0000;\" x=\"54.09858\" xlink:href=\"#mda22e31d60\" y=\"309.329489\"/>\n     <use style=\"fill:#ff0000;stroke:#ff0000;\" x=\"102.089489\" xlink:href=\"#mda22e31d60\" y=\"437.27701\"/>\n     <use style=\"fill:#ff0000;stroke:#ff0000;\" x=\"150.080398\" xlink:href=\"#mda22e31d60\" y=\"489.763743\"/>\n     <use style=\"fill:#ff0000;stroke:#ff0000;\" x=\"198.071307\" xlink:href=\"#mda22e31d60\" y=\"513.993495\"/>\n     <use style=\"fill:#ff0000;stroke:#ff0000;\" x=\"246.062216\" xlink:href=\"#mda22e31d60\" y=\"524.382273\"/>\n     <use style=\"fill:#ff0000;stroke:#ff0000;\" x=\"294.053125\" xlink:href=\"#mda22e31d60\" y=\"528.770217\"/>\n     <use style=\"fill:#ff0000;stroke:#ff0000;\" x=\"342.044034\" xlink:href=\"#mda22e31d60\" y=\"530.625285\"/>\n     <use style=\"fill:#ff0000;stroke:#ff0000;\" x=\"390.034943\" xlink:href=\"#mda22e31d60\" y=\"531.251478\"/>\n     <use style=\"fill:#ff0000;stroke:#ff0000;\" x=\"438.025852\" xlink:href=\"#mda22e31d60\" y=\"532.040078\"/>\n     <use style=\"fill:#ff0000;stroke:#ff0000;\" x=\"486.016761\" xlink:href=\"#mda22e31d60\" y=\"532.328334\"/>\n     <use style=\"fill:#ff0000;stroke:#ff0000;\" x=\"534.00767\" xlink:href=\"#mda22e31d60\" y=\"532.556761\"/>\n    </g>\n   </g>\n   <g id=\"line2d_31\">\n    <path clip-path=\"url(#p2939fb2a0a)\" d=\"M 54.09858 355.317632 \nL 102.089489 382.076584 \nL 150.080398 390.407213 \nL 198.071307 394.025777 \nL 246.062216 396.693091 \nL 294.053125 398.856915 \nL 342.044034 399.206397 \nL 390.034943 398.403606 \nL 438.025852 399.090539 \nL 486.016761 398.237218 \nL 534.00767 398.488267 \n\" style=\"fill:none;stroke:#ff0000;stroke-linecap:square;stroke-width:1.5;\"/>\n   </g>\n   <g id=\"patch_9\">\n    <path d=\"M 30.103125 543.718125 \nL 30.103125 298.168125 \n\" style=\"fill:none;stroke:#000000;stroke-linecap:square;stroke-linejoin:miter;stroke-width:0.8;\"/>\n   </g>\n   <g id=\"patch_10\">\n    <path d=\"M 558.003125 543.718125 \nL 558.003125 298.168125 \n\" style=\"fill:none;stroke:#000000;stroke-linecap:square;stroke-linejoin:miter;stroke-width:0.8;\"/>\n   </g>\n   <g id=\"patch_11\">\n    <path d=\"M 30.103125 543.718125 \nL 558.003125 543.718125 \n\" style=\"fill:none;stroke:#000000;stroke-linecap:square;stroke-linejoin:miter;stroke-width:0.8;\"/>\n   </g>\n   <g id=\"patch_12\">\n    <path d=\"M 30.103125 298.168125 \nL 558.003125 298.168125 \n\" style=\"fill:none;stroke:#000000;stroke-linecap:square;stroke-linejoin:miter;stroke-width:0.8;\"/>\n   </g>\n   <g id=\"text_22\">\n    <!-- Training and Validation loss -->\n    <defs>\n     <path d=\"M 44.28125 53.078125 \nL 44.28125 44.578125 \nQ 40.484375 46.53125 36.375 47.5 \nQ 32.28125 48.484375 27.875 48.484375 \nQ 21.1875 48.484375 17.84375 46.4375 \nQ 14.5 44.390625 14.5 40.28125 \nQ 14.5 37.15625 16.890625 35.375 \nQ 19.28125 33.59375 26.515625 31.984375 \nL 29.59375 31.296875 \nQ 39.15625 29.25 43.1875 25.515625 \nQ 47.21875 21.78125 47.21875 15.09375 \nQ 47.21875 7.46875 41.1875 3.015625 \nQ 35.15625 -1.421875 24.609375 -1.421875 \nQ 20.21875 -1.421875 15.453125 -0.5625 \nQ 10.6875 0.296875 5.421875 2 \nL 5.421875 11.28125 \nQ 10.40625 8.6875 15.234375 7.390625 \nQ 20.0625 6.109375 24.8125 6.109375 \nQ 31.15625 6.109375 34.5625 8.28125 \nQ 37.984375 10.453125 37.984375 14.40625 \nQ 37.984375 18.0625 35.515625 20.015625 \nQ 33.0625 21.96875 24.703125 23.78125 \nL 21.578125 24.515625 \nQ 13.234375 26.265625 9.515625 29.90625 \nQ 5.8125 33.546875 5.8125 39.890625 \nQ 5.8125 47.609375 11.28125 51.796875 \nQ 16.75 56 26.8125 56 \nQ 31.78125 56 36.171875 55.265625 \nQ 40.578125 54.546875 44.28125 53.078125 \nz\n\" id=\"DejaVuSans-73\"/>\n    </defs>\n    <g transform=\"translate(210.824688 292.168125)scale(0.12 -0.12)\">\n     <use xlink:href=\"#DejaVuSans-54\"/>\n     <use x=\"60.865234\" xlink:href=\"#DejaVuSans-72\"/>\n     <use x=\"101.978516\" xlink:href=\"#DejaVuSans-61\"/>\n     <use x=\"163.257812\" xlink:href=\"#DejaVuSans-69\"/>\n     <use x=\"191.041016\" xlink:href=\"#DejaVuSans-6e\"/>\n     <use x=\"254.419922\" xlink:href=\"#DejaVuSans-69\"/>\n     <use x=\"282.203125\" xlink:href=\"#DejaVuSans-6e\"/>\n     <use x=\"345.582031\" xlink:href=\"#DejaVuSans-67\"/>\n     <use x=\"409.058594\" xlink:href=\"#DejaVuSans-20\"/>\n     <use x=\"440.845703\" xlink:href=\"#DejaVuSans-61\"/>\n     <use x=\"502.125\" xlink:href=\"#DejaVuSans-6e\"/>\n     <use x=\"565.503906\" xlink:href=\"#DejaVuSans-64\"/>\n     <use x=\"628.980469\" xlink:href=\"#DejaVuSans-20\"/>\n     <use x=\"660.767578\" xlink:href=\"#DejaVuSans-56\"/>\n     <use x=\"729.066406\" xlink:href=\"#DejaVuSans-61\"/>\n     <use x=\"790.345703\" xlink:href=\"#DejaVuSans-6c\"/>\n     <use x=\"818.128906\" xlink:href=\"#DejaVuSans-69\"/>\n     <use x=\"845.912109\" xlink:href=\"#DejaVuSans-64\"/>\n     <use x=\"909.388672\" xlink:href=\"#DejaVuSans-61\"/>\n     <use x=\"970.667969\" xlink:href=\"#DejaVuSans-74\"/>\n     <use x=\"1009.876953\" xlink:href=\"#DejaVuSans-69\"/>\n     <use x=\"1037.660156\" xlink:href=\"#DejaVuSans-6f\"/>\n     <use x=\"1098.841797\" xlink:href=\"#DejaVuSans-6e\"/>\n     <use x=\"1162.220703\" xlink:href=\"#DejaVuSans-20\"/>\n     <use x=\"1194.007812\" xlink:href=\"#DejaVuSans-6c\"/>\n     <use x=\"1221.791016\" xlink:href=\"#DejaVuSans-6f\"/>\n     <use x=\"1282.972656\" xlink:href=\"#DejaVuSans-73\"/>\n     <use x=\"1335.072266\" xlink:href=\"#DejaVuSans-73\"/>\n    </g>\n   </g>\n   <g id=\"legend_2\">\n    <g id=\"patch_13\">\n     <path d=\"M 446.364063 335.524375 \nL 551.003125 335.524375 \nQ 553.003125 335.524375 553.003125 333.524375 \nL 553.003125 305.168125 \nQ 553.003125 303.168125 551.003125 303.168125 \nL 446.364063 303.168125 \nQ 444.364063 303.168125 444.364063 305.168125 \nL 444.364063 333.524375 \nQ 444.364063 335.524375 446.364063 335.524375 \nz\n\" style=\"fill:#ffffff;opacity:0.8;stroke:#cccccc;stroke-linejoin:miter;\"/>\n    </g>\n    <g id=\"line2d_32\"/>\n    <g id=\"line2d_33\">\n     <g>\n      <use style=\"fill:#ff0000;stroke:#ff0000;\" x=\"458.364063\" xlink:href=\"#mda22e31d60\" y=\"311.266562\"/>\n     </g>\n    </g>\n    <g id=\"text_23\">\n     <!-- Training loss -->\n     <g transform=\"translate(476.364063 314.766562)scale(0.1 -0.1)\">\n      <use xlink:href=\"#DejaVuSans-54\"/>\n      <use x=\"60.865234\" xlink:href=\"#DejaVuSans-72\"/>\n      <use x=\"101.978516\" xlink:href=\"#DejaVuSans-61\"/>\n      <use x=\"163.257812\" xlink:href=\"#DejaVuSans-69\"/>\n      <use x=\"191.041016\" xlink:href=\"#DejaVuSans-6e\"/>\n      <use x=\"254.419922\" xlink:href=\"#DejaVuSans-69\"/>\n      <use x=\"282.203125\" xlink:href=\"#DejaVuSans-6e\"/>\n      <use x=\"345.582031\" xlink:href=\"#DejaVuSans-67\"/>\n      <use x=\"409.058594\" xlink:href=\"#DejaVuSans-20\"/>\n      <use x=\"440.845703\" xlink:href=\"#DejaVuSans-6c\"/>\n      <use x=\"468.628906\" xlink:href=\"#DejaVuSans-6f\"/>\n      <use x=\"529.810547\" xlink:href=\"#DejaVuSans-73\"/>\n      <use x=\"581.910156\" xlink:href=\"#DejaVuSans-73\"/>\n     </g>\n    </g>\n    <g id=\"line2d_34\">\n     <path d=\"M 448.364063 325.944687 \nL 468.364063 325.944687 \n\" style=\"fill:none;stroke:#ff0000;stroke-linecap:square;stroke-width:1.5;\"/>\n    </g>\n    <g id=\"line2d_35\"/>\n    <g id=\"text_24\">\n     <!-- Validation loss -->\n     <g transform=\"translate(476.364063 329.444687)scale(0.1 -0.1)\">\n      <use xlink:href=\"#DejaVuSans-56\"/>\n      <use x=\"68.298828\" xlink:href=\"#DejaVuSans-61\"/>\n      <use x=\"129.578125\" xlink:href=\"#DejaVuSans-6c\"/>\n      <use x=\"157.361328\" xlink:href=\"#DejaVuSans-69\"/>\n      <use x=\"185.144531\" xlink:href=\"#DejaVuSans-64\"/>\n      <use x=\"248.621094\" xlink:href=\"#DejaVuSans-61\"/>\n      <use x=\"309.900391\" xlink:href=\"#DejaVuSans-74\"/>\n      <use x=\"349.109375\" xlink:href=\"#DejaVuSans-69\"/>\n      <use x=\"376.892578\" xlink:href=\"#DejaVuSans-6f\"/>\n      <use x=\"438.074219\" xlink:href=\"#DejaVuSans-6e\"/>\n      <use x=\"501.453125\" xlink:href=\"#DejaVuSans-20\"/>\n      <use x=\"533.240234\" xlink:href=\"#DejaVuSans-6c\"/>\n      <use x=\"561.023438\" xlink:href=\"#DejaVuSans-6f\"/>\n      <use x=\"622.205078\" xlink:href=\"#DejaVuSans-73\"/>\n      <use x=\"674.304688\" xlink:href=\"#DejaVuSans-73\"/>\n     </g>\n    </g>\n   </g>\n  </g>\n </g>\n <defs>\n  <clipPath id=\"p917c3d7d9e\">\n   <rect height=\"245.55\" width=\"527.9\" x=\"30.103125\" y=\"22.318125\"/>\n  </clipPath>\n  <clipPath id=\"p2939fb2a0a\">\n   <rect height=\"245.55\" width=\"527.9\" x=\"30.103125\" y=\"298.168125\"/>\n  </clipPath>\n </defs>\n</svg>\n"
          },
          "metadata": {
            "tags": []
          }
        }
      ]
    },
    {
      "metadata": {
        "id": "mOewEKaMxcIR",
        "colab_type": "text"
      },
      "cell_type": "markdown",
      "source": [
        "Commentaire: modèle fort suceptible au sur-apprentissage, avec, par conséquent, une très mauvaise généralisation."
      ]
    },
    {
      "metadata": {
        "id": "1jIhJRBAX-3g",
        "colab_type": "code",
        "outputId": "04e6ac5b-45f1-49e0-972d-f826a4b45b61",
        "colab": {
          "base_uri": "https://localhost:8080/",
          "height": 34
        }
      },
      "cell_type": "code",
      "source": [
        "test_loss, test_acc =\\\n",
        "  model.evaluate_generator(test_generator, \n",
        "                           steps = test_generator.n)\n",
        "\n",
        "print('Test accuracy: ', round(test_acc*100, 2))"
      ],
      "execution_count": 0,
      "outputs": [
        {
          "output_type": "stream",
          "text": [
            "Test accuracy:  41.25\n"
          ],
          "name": "stdout"
        }
      ]
    },
    {
      "metadata": {
        "id": "jBj6NC4bxcIT",
        "colab_type": "text"
      },
      "cell_type": "markdown",
      "source": [
        "### Méthodes de régularisation: Data Augmentation et Dropout"
      ]
    },
    {
      "metadata": {
        "id": "vXH1fnmcxcIT",
        "colab_type": "text"
      },
      "cell_type": "markdown",
      "source": [
        "Ajouter de faibles transformations sur les images d'apprentissage (rotation, distortions, retournements…) pour étoffer notre jeu d'apprentissage, pour permettre une meilleure généralisation de notre modèle en luttant contre le sur-apprentissage."
      ]
    },
    {
      "metadata": {
        "id": "9S6I3ODcxcIV",
        "colab_type": "code",
        "outputId": "9d92b86a-3657-49b4-b655-80f995eade5e",
        "colab": {
          "base_uri": "https://localhost:8080/",
          "height": 68
        }
      },
      "cell_type": "code",
      "source": [
        "train_generator, valid_generator, test_generator =\\\n",
        "  create_generators(\n",
        "    base_dir = 'data', \n",
        "    batch_size = 128, \n",
        "    side_length = 224, \n",
        "    augmentation = True,\n",
        "    preprocess_input = vgg16_preprocess_input\n",
        ")\n",
        "\n",
        "image_shape = train_generator.image_shape\n",
        "batch_size = train_generator.batch_size\n",
        "n_classes = train_generator.num_classes"
      ],
      "execution_count": 0,
      "outputs": [
        {
          "output_type": "stream",
          "text": [
            "Found 12345 images belonging to 120 classes.\n",
            "Found 4111 images belonging to 120 classes.\n",
            "Found 4124 images belonging to 120 classes.\n"
          ],
          "name": "stdout"
        }
      ]
    },
    {
      "metadata": {
        "id": "SKTjPepRiFWs",
        "colab_type": "text"
      },
      "cell_type": "markdown",
      "source": [
        "- Charger une nouvelle base convolutive pré-entrainée de notre modèle (VGG16)\n",
        "- Ajout couche Dropout"
      ]
    },
    {
      "metadata": {
        "id": "0IIBaKQixcIa",
        "colab_type": "code",
        "outputId": "e6a8fb83-b73a-4784-9a66-a8f9d2d52de0",
        "colab": {
          "base_uri": "https://localhost:8080/",
          "height": 306
        }
      },
      "cell_type": "code",
      "source": [
        "vgg16_base = VGG16(include_top=False, \n",
        "                   weights='imagenet', \n",
        "                   input_shape=image_shape)\n",
        "\n",
        "vgg_model = models.Sequential()\n",
        "vgg_model.add(vgg16_base)\n",
        "vgg_model.add(layers.Flatten())\n",
        "vgg_model.add(layers.Dense(2048, activation='relu'))\n",
        "vgg_model.add(layers.Dropout(0.5))\n",
        "vgg_model.add(layers.Dense(n_classes, activation='softmax'))\n",
        "\n",
        "vgg16_base.trainable = False\n",
        "\n",
        "vgg_model.compile(optimizer=Adam(lr=1e-4), \n",
        "                  loss='categorical_crossentropy', \n",
        "                  metrics=['acc'])\n",
        "vgg_model.summary()"
      ],
      "execution_count": 0,
      "outputs": [
        {
          "output_type": "stream",
          "text": [
            "_________________________________________________________________\n",
            "Layer (type)                 Output Shape              Param #   \n",
            "=================================================================\n",
            "vgg16 (Model)                (None, 7, 7, 512)         14714688  \n",
            "_________________________________________________________________\n",
            "flatten_1 (Flatten)          (None, 25088)             0         \n",
            "_________________________________________________________________\n",
            "dense_1 (Dense)              (None, 2048)              51382272  \n",
            "_________________________________________________________________\n",
            "dropout_1 (Dropout)          (None, 2048)              0         \n",
            "_________________________________________________________________\n",
            "dense_2 (Dense)              (None, 120)               245880    \n",
            "=================================================================\n",
            "Total params: 66,342,840\n",
            "Trainable params: 51,628,152\n",
            "Non-trainable params: 14,714,688\n",
            "_________________________________________________________________\n"
          ],
          "name": "stdout"
        }
      ]
    },
    {
      "metadata": {
        "id": "-cU3LCChxcIc",
        "colab_type": "text"
      },
      "cell_type": "markdown",
      "source": [
        "Entrainer et évaluer"
      ]
    },
    {
      "metadata": {
        "scrolled": true,
        "id": "4v-WdKJoxcIc",
        "colab_type": "code",
        "outputId": "2b4e6a2a-f2de-4fe2-b11d-79fda02aa1eb",
        "colab": {
          "base_uri": "https://localhost:8080/",
          "height": 1567
        }
      },
      "cell_type": "code",
      "source": [
        "###############\n",
        "# 182 MINUTES #\n",
        "###############\n",
        "\n",
        "# tbc = TensorBoardColab(graph_path=\"./vgg_graph_2\")\n",
        "\n",
        "callbacks = [\n",
        "    EarlyStopping(patience=5, min_delta=0.01),\n",
        "    ModelCheckpoint('vgg16_regularized.h5', save_best_only=True),\n",
        "    # TensorBoardColabCallback(tbc),\n",
        "]\n",
        "\n",
        "history = vgg_model.fit_generator(\n",
        "    generator = train_generator, \n",
        "    steps_per_epoch = np.ceil(train_generator.n/batch_size),  \n",
        "    validation_data = valid_generator, \n",
        "    validation_steps = np.ceil(valid_generator.n/batch_size),\n",
        "    epochs = 100, verbose = 1, callbacks = callbacks)"
      ],
      "execution_count": 0,
      "outputs": [
        {
          "output_type": "stream",
          "text": [
            "Epoch 1/100\n",
            "97/97 [==============================] - 266s 3s/step - loss: 4.7381 - acc: 0.0288 - val_loss: 4.1582 - val_acc: 0.1068\n",
            "Epoch 2/100\n",
            "97/97 [==============================] - 231s 2s/step - loss: 4.2590 - acc: 0.0761 - val_loss: 3.5799 - val_acc: 0.1997\n",
            "Epoch 3/100\n",
            "97/97 [==============================] - 235s 2s/step - loss: 3.9179 - acc: 0.1198 - val_loss: 3.2000 - val_acc: 0.2559\n",
            "Epoch 4/100\n",
            "97/97 [==============================] - 235s 2s/step - loss: 3.6352 - acc: 0.1597 - val_loss: 2.9195 - val_acc: 0.3106\n",
            "Epoch 5/100\n",
            "97/97 [==============================] - 235s 2s/step - loss: 3.4297 - acc: 0.1966 - val_loss: 2.7231 - val_acc: 0.3379\n",
            "Epoch 6/100\n",
            "97/97 [==============================] - 237s 2s/step - loss: 3.2602 - acc: 0.2209 - val_loss: 2.5741 - val_acc: 0.3637\n",
            "Epoch 7/100\n",
            "97/97 [==============================] - 240s 2s/step - loss: 3.1341 - acc: 0.2384 - val_loss: 2.4820 - val_acc: 0.3719\n",
            "Epoch 8/100\n",
            "97/97 [==============================] - 239s 2s/step - loss: 2.9938 - acc: 0.2661 - val_loss: 2.3734 - val_acc: 0.3882\n",
            "Epoch 9/100\n",
            "97/97 [==============================] - 240s 2s/step - loss: 2.8964 - acc: 0.2793 - val_loss: 2.3156 - val_acc: 0.4023\n",
            "Epoch 10/100\n",
            "97/97 [==============================] - 240s 2s/step - loss: 2.8147 - acc: 0.2921 - val_loss: 2.2473 - val_acc: 0.4169\n",
            "Epoch 11/100\n",
            "97/97 [==============================] - 237s 2s/step - loss: 2.7568 - acc: 0.3059 - val_loss: 2.2139 - val_acc: 0.4138\n",
            "Epoch 12/100\n",
            "97/97 [==============================] - 239s 2s/step - loss: 2.6899 - acc: 0.3189 - val_loss: 2.1508 - val_acc: 0.4306\n",
            "Epoch 13/100\n",
            "97/97 [==============================] - 240s 2s/step - loss: 2.6267 - acc: 0.3352 - val_loss: 2.1256 - val_acc: 0.4288\n",
            "Epoch 14/100\n",
            "97/97 [==============================] - 240s 2s/step - loss: 2.5637 - acc: 0.3440 - val_loss: 2.0926 - val_acc: 0.4461\n",
            "Epoch 15/100\n",
            "97/97 [==============================] - 238s 2s/step - loss: 2.4980 - acc: 0.3549 - val_loss: 2.0572 - val_acc: 0.4434\n",
            "Epoch 16/100\n",
            "97/97 [==============================] - 240s 2s/step - loss: 2.4586 - acc: 0.3639 - val_loss: 2.0306 - val_acc: 0.4559\n",
            "Epoch 17/100\n",
            "97/97 [==============================] - 240s 2s/step - loss: 2.4085 - acc: 0.3786 - val_loss: 1.9896 - val_acc: 0.4612\n",
            "Epoch 18/100\n",
            "97/97 [==============================] - 238s 2s/step - loss: 2.3727 - acc: 0.3870 - val_loss: 1.9874 - val_acc: 0.4546\n",
            "Epoch 19/100\n",
            "97/97 [==============================] - 239s 2s/step - loss: 2.3536 - acc: 0.3885 - val_loss: 1.9755 - val_acc: 0.4622\n",
            "Epoch 20/100\n",
            "97/97 [==============================] - 237s 2s/step - loss: 2.3126 - acc: 0.3976 - val_loss: 1.9461 - val_acc: 0.4653\n",
            "Epoch 21/100\n",
            "97/97 [==============================] - 238s 2s/step - loss: 2.2627 - acc: 0.4128 - val_loss: 1.9442 - val_acc: 0.4687\n",
            "Epoch 22/100\n",
            "97/97 [==============================] - 239s 2s/step - loss: 2.2423 - acc: 0.4153 - val_loss: 1.9208 - val_acc: 0.4758\n",
            "Epoch 23/100\n",
            "97/97 [==============================] - 239s 2s/step - loss: 2.2084 - acc: 0.4223 - val_loss: 1.9105 - val_acc: 0.4714\n",
            "Epoch 24/100\n",
            "97/97 [==============================] - 238s 2s/step - loss: 2.1860 - acc: 0.4228 - val_loss: 1.9061 - val_acc: 0.4724\n",
            "Epoch 25/100\n",
            "97/97 [==============================] - 237s 2s/step - loss: 2.1723 - acc: 0.4272 - val_loss: 1.9051 - val_acc: 0.4797\n",
            "Epoch 26/100\n",
            "97/97 [==============================] - 239s 2s/step - loss: 2.1381 - acc: 0.4346 - val_loss: 1.8798 - val_acc: 0.4802\n",
            "Epoch 27/100\n",
            "97/97 [==============================] - 240s 2s/step - loss: 2.1149 - acc: 0.4413 - val_loss: 1.8747 - val_acc: 0.4829\n",
            "Epoch 28/100\n",
            "97/97 [==============================] - 238s 2s/step - loss: 2.0749 - acc: 0.4486 - val_loss: 1.8678 - val_acc: 0.4914\n",
            "Epoch 29/100\n",
            "97/97 [==============================] - 238s 2s/step - loss: 2.0875 - acc: 0.4486 - val_loss: 1.8770 - val_acc: 0.4811\n",
            "Epoch 30/100\n",
            "97/97 [==============================] - 238s 2s/step - loss: 2.0539 - acc: 0.4542 - val_loss: 1.8585 - val_acc: 0.4877\n",
            "Epoch 31/100\n",
            "97/97 [==============================] - 238s 2s/step - loss: 2.0103 - acc: 0.4660 - val_loss: 1.8412 - val_acc: 0.4928\n",
            "Epoch 32/100\n",
            "97/97 [==============================] - 239s 2s/step - loss: 2.0188 - acc: 0.4630 - val_loss: 1.8441 - val_acc: 0.4967\n",
            "Epoch 33/100\n",
            "97/97 [==============================] - 239s 2s/step - loss: 1.9854 - acc: 0.4712 - val_loss: 1.8248 - val_acc: 0.4982\n",
            "Epoch 34/100\n",
            "97/97 [==============================] - 238s 2s/step - loss: 1.9546 - acc: 0.4740 - val_loss: 1.8362 - val_acc: 0.4916\n",
            "Epoch 35/100\n",
            "97/97 [==============================] - 239s 2s/step - loss: 1.9440 - acc: 0.4835 - val_loss: 1.8244 - val_acc: 0.4972\n",
            "Epoch 36/100\n",
            "97/97 [==============================] - 239s 2s/step - loss: 1.9321 - acc: 0.4813 - val_loss: 1.8211 - val_acc: 0.4957\n",
            "Epoch 37/100\n",
            "97/97 [==============================] - 238s 2s/step - loss: 1.8998 - acc: 0.4886 - val_loss: 1.8255 - val_acc: 0.4940\n",
            "Epoch 38/100\n",
            "97/97 [==============================] - 238s 2s/step - loss: 1.8995 - acc: 0.4881 - val_loss: 1.8077 - val_acc: 0.5013\n",
            "Epoch 39/100\n",
            "97/97 [==============================] - 240s 2s/step - loss: 1.8772 - acc: 0.4993 - val_loss: 1.8215 - val_acc: 0.4960\n",
            "Epoch 40/100\n",
            "97/97 [==============================] - 239s 2s/step - loss: 1.8532 - acc: 0.4973 - val_loss: 1.7973 - val_acc: 0.5040\n",
            "Epoch 41/100\n",
            "97/97 [==============================] - 238s 2s/step - loss: 1.8509 - acc: 0.5007 - val_loss: 1.7981 - val_acc: 0.5062\n",
            "Epoch 42/100\n",
            "97/97 [==============================] - 240s 2s/step - loss: 1.8182 - acc: 0.5102 - val_loss: 1.8225 - val_acc: 0.4936\n",
            "Epoch 43/100\n",
            "97/97 [==============================] - 240s 2s/step - loss: 1.8216 - acc: 0.5106 - val_loss: 1.8017 - val_acc: 0.4999\n",
            "Epoch 44/100\n",
            "97/97 [==============================] - 240s 2s/step - loss: 1.8127 - acc: 0.5077 - val_loss: 1.8141 - val_acc: 0.5026\n",
            "Epoch 45/100\n",
            "97/97 [==============================] - 238s 2s/step - loss: 1.7828 - acc: 0.5179 - val_loss: 1.7957 - val_acc: 0.5038\n"
          ],
          "name": "stdout"
        }
      ]
    },
    {
      "metadata": {
        "id": "bBxnTDeVxcIe",
        "colab_type": "code",
        "outputId": "8220928f-4392-4d88-fc1a-e5437031cfa5",
        "colab": {
          "base_uri": "https://localhost:8080/",
          "height": 777
        }
      },
      "cell_type": "code",
      "source": [
        "learning_curves(history, mult_ticks=5)"
      ],
      "execution_count": 0,
      "outputs": [
        {
          "output_type": "display_data",
          "data": {
            "text/plain": [
              "<matplotlib.figure.Figure at 0x7fa25b8ef7b8>"
            ],
            "image/svg+xml": "<?xml version=\"1.0\" encoding=\"utf-8\" standalone=\"no\"?>\n<!DOCTYPE svg PUBLIC \"-//W3C//DTD SVG 1.1//EN\"\n  \"http://www.w3.org/Graphics/SVG/1.1/DTD/svg11.dtd\">\n<!-- Created with matplotlib (http://matplotlib.org/) -->\n<svg height=\"567pt\" version=\"1.1\" viewBox=\"0 0 568 567\" width=\"568pt\" xmlns=\"http://www.w3.org/2000/svg\" xmlns:xlink=\"http://www.w3.org/1999/xlink\">\n <defs>\n  <style type=\"text/css\">\n*{stroke-linecap:butt;stroke-linejoin:round;}\n  </style>\n </defs>\n <g id=\"figure_1\">\n  <g id=\"patch_1\">\n   <path d=\"M 0 567.59625 \nL 568.703125 567.59625 \nL 568.703125 0 \nL 0 0 \nz\n\" style=\"fill:none;\"/>\n  </g>\n  <g id=\"axes_1\">\n   <g id=\"patch_2\">\n    <path d=\"M 30.103125 267.868125 \nL 558.003125 267.868125 \nL 558.003125 22.318125 \nL 30.103125 22.318125 \nz\n\" style=\"fill:#ffffff;\"/>\n   </g>\n   <g id=\"matplotlib.axis_1\">\n    <g id=\"xtick_1\">\n     <g id=\"line2d_1\">\n      <defs>\n       <path d=\"M 0 0 \nL 0 3.5 \n\" id=\"m4d722f453b\" style=\"stroke:#000000;stroke-width:0.8;\"/>\n      </defs>\n      <g>\n       <use style=\"stroke:#000000;stroke-width:0.8;\" x=\"43.191555\" xlink:href=\"#m4d722f453b\" y=\"267.868125\"/>\n      </g>\n     </g>\n    </g>\n    <g id=\"xtick_2\">\n     <g id=\"line2d_2\">\n      <g>\n       <use style=\"stroke:#000000;stroke-width:0.8;\" x=\"97.726679\" xlink:href=\"#m4d722f453b\" y=\"267.868125\"/>\n      </g>\n     </g>\n    </g>\n    <g id=\"xtick_3\">\n     <g id=\"line2d_3\">\n      <g>\n       <use style=\"stroke:#000000;stroke-width:0.8;\" x=\"152.261803\" xlink:href=\"#m4d722f453b\" y=\"267.868125\"/>\n      </g>\n     </g>\n    </g>\n    <g id=\"xtick_4\">\n     <g id=\"line2d_4\">\n      <g>\n       <use style=\"stroke:#000000;stroke-width:0.8;\" x=\"206.796927\" xlink:href=\"#m4d722f453b\" y=\"267.868125\"/>\n      </g>\n     </g>\n    </g>\n    <g id=\"xtick_5\">\n     <g id=\"line2d_5\">\n      <g>\n       <use style=\"stroke:#000000;stroke-width:0.8;\" x=\"261.332051\" xlink:href=\"#m4d722f453b\" y=\"267.868125\"/>\n      </g>\n     </g>\n    </g>\n    <g id=\"xtick_6\">\n     <g id=\"line2d_6\">\n      <g>\n       <use style=\"stroke:#000000;stroke-width:0.8;\" x=\"315.867175\" xlink:href=\"#m4d722f453b\" y=\"267.868125\"/>\n      </g>\n     </g>\n    </g>\n    <g id=\"xtick_7\">\n     <g id=\"line2d_7\">\n      <g>\n       <use style=\"stroke:#000000;stroke-width:0.8;\" x=\"370.402299\" xlink:href=\"#m4d722f453b\" y=\"267.868125\"/>\n      </g>\n     </g>\n    </g>\n    <g id=\"xtick_8\">\n     <g id=\"line2d_8\">\n      <g>\n       <use style=\"stroke:#000000;stroke-width:0.8;\" x=\"424.937423\" xlink:href=\"#m4d722f453b\" y=\"267.868125\"/>\n      </g>\n     </g>\n    </g>\n    <g id=\"xtick_9\">\n     <g id=\"line2d_9\">\n      <g>\n       <use style=\"stroke:#000000;stroke-width:0.8;\" x=\"479.472546\" xlink:href=\"#m4d722f453b\" y=\"267.868125\"/>\n      </g>\n     </g>\n    </g>\n    <g id=\"xtick_10\">\n     <g id=\"line2d_10\">\n      <g>\n       <use style=\"stroke:#000000;stroke-width:0.8;\" x=\"534.00767\" xlink:href=\"#m4d722f453b\" y=\"267.868125\"/>\n      </g>\n     </g>\n    </g>\n   </g>\n   <g id=\"matplotlib.axis_2\">\n    <g id=\"ytick_1\">\n     <g id=\"line2d_11\">\n      <defs>\n       <path d=\"M 0 0 \nL -3.5 0 \n\" id=\"m787720f943\" style=\"stroke:#000000;stroke-width:0.8;\"/>\n      </defs>\n      <g>\n       <use style=\"stroke:#000000;stroke-width:0.8;\" x=\"30.103125\" xlink:href=\"#m787720f943\" y=\"224.233643\"/>\n      </g>\n     </g>\n     <g id=\"text_1\">\n      <!-- 0.1 -->\n      <defs>\n       <path d=\"M 31.78125 66.40625 \nQ 24.171875 66.40625 20.328125 58.90625 \nQ 16.5 51.421875 16.5 36.375 \nQ 16.5 21.390625 20.328125 13.890625 \nQ 24.171875 6.390625 31.78125 6.390625 \nQ 39.453125 6.390625 43.28125 13.890625 \nQ 47.125 21.390625 47.125 36.375 \nQ 47.125 51.421875 43.28125 58.90625 \nQ 39.453125 66.40625 31.78125 66.40625 \nz\nM 31.78125 74.21875 \nQ 44.046875 74.21875 50.515625 64.515625 \nQ 56.984375 54.828125 56.984375 36.375 \nQ 56.984375 17.96875 50.515625 8.265625 \nQ 44.046875 -1.421875 31.78125 -1.421875 \nQ 19.53125 -1.421875 13.0625 8.265625 \nQ 6.59375 17.96875 6.59375 36.375 \nQ 6.59375 54.828125 13.0625 64.515625 \nQ 19.53125 74.21875 31.78125 74.21875 \nz\n\" id=\"DejaVuSans-30\"/>\n       <path d=\"M 10.6875 12.40625 \nL 21 12.40625 \nL 21 0 \nL 10.6875 0 \nz\n\" id=\"DejaVuSans-2e\"/>\n       <path d=\"M 12.40625 8.296875 \nL 28.515625 8.296875 \nL 28.515625 63.921875 \nL 10.984375 60.40625 \nL 10.984375 69.390625 \nL 28.421875 72.90625 \nL 38.28125 72.90625 \nL 38.28125 8.296875 \nL 54.390625 8.296875 \nL 54.390625 0 \nL 12.40625 0 \nz\n\" id=\"DejaVuSans-31\"/>\n      </defs>\n      <g transform=\"translate(7.2 228.032862)scale(0.1 -0.1)\">\n       <use xlink:href=\"#DejaVuSans-30\"/>\n       <use x=\"63.623047\" xlink:href=\"#DejaVuSans-2e\"/>\n       <use x=\"95.410156\" xlink:href=\"#DejaVuSans-31\"/>\n      </g>\n     </g>\n    </g>\n    <g id=\"ytick_2\">\n     <g id=\"line2d_12\">\n      <g>\n       <use style=\"stroke:#000000;stroke-width:0.8;\" x=\"30.103125\" xlink:href=\"#m787720f943\" y=\"178.601243\"/>\n      </g>\n     </g>\n     <g id=\"text_2\">\n      <!-- 0.2 -->\n      <defs>\n       <path d=\"M 19.1875 8.296875 \nL 53.609375 8.296875 \nL 53.609375 0 \nL 7.328125 0 \nL 7.328125 8.296875 \nQ 12.9375 14.109375 22.625 23.890625 \nQ 32.328125 33.6875 34.8125 36.53125 \nQ 39.546875 41.84375 41.421875 45.53125 \nQ 43.3125 49.21875 43.3125 52.78125 \nQ 43.3125 58.59375 39.234375 62.25 \nQ 35.15625 65.921875 28.609375 65.921875 \nQ 23.96875 65.921875 18.8125 64.3125 \nQ 13.671875 62.703125 7.8125 59.421875 \nL 7.8125 69.390625 \nQ 13.765625 71.78125 18.9375 73 \nQ 24.125 74.21875 28.421875 74.21875 \nQ 39.75 74.21875 46.484375 68.546875 \nQ 53.21875 62.890625 53.21875 53.421875 \nQ 53.21875 48.921875 51.53125 44.890625 \nQ 49.859375 40.875 45.40625 35.40625 \nQ 44.1875 33.984375 37.640625 27.21875 \nQ 31.109375 20.453125 19.1875 8.296875 \nz\n\" id=\"DejaVuSans-32\"/>\n      </defs>\n      <g transform=\"translate(7.2 182.400461)scale(0.1 -0.1)\">\n       <use xlink:href=\"#DejaVuSans-30\"/>\n       <use x=\"63.623047\" xlink:href=\"#DejaVuSans-2e\"/>\n       <use x=\"95.410156\" xlink:href=\"#DejaVuSans-32\"/>\n      </g>\n     </g>\n    </g>\n    <g id=\"ytick_3\">\n     <g id=\"line2d_13\">\n      <g>\n       <use style=\"stroke:#000000;stroke-width:0.8;\" x=\"30.103125\" xlink:href=\"#m787720f943\" y=\"132.968842\"/>\n      </g>\n     </g>\n     <g id=\"text_3\">\n      <!-- 0.3 -->\n      <defs>\n       <path d=\"M 40.578125 39.3125 \nQ 47.65625 37.796875 51.625 33 \nQ 55.609375 28.21875 55.609375 21.1875 \nQ 55.609375 10.40625 48.1875 4.484375 \nQ 40.765625 -1.421875 27.09375 -1.421875 \nQ 22.515625 -1.421875 17.65625 -0.515625 \nQ 12.796875 0.390625 7.625 2.203125 \nL 7.625 11.71875 \nQ 11.71875 9.328125 16.59375 8.109375 \nQ 21.484375 6.890625 26.8125 6.890625 \nQ 36.078125 6.890625 40.9375 10.546875 \nQ 45.796875 14.203125 45.796875 21.1875 \nQ 45.796875 27.640625 41.28125 31.265625 \nQ 36.765625 34.90625 28.71875 34.90625 \nL 20.21875 34.90625 \nL 20.21875 43.015625 \nL 29.109375 43.015625 \nQ 36.375 43.015625 40.234375 45.921875 \nQ 44.09375 48.828125 44.09375 54.296875 \nQ 44.09375 59.90625 40.109375 62.90625 \nQ 36.140625 65.921875 28.71875 65.921875 \nQ 24.65625 65.921875 20.015625 65.03125 \nQ 15.375 64.15625 9.8125 62.3125 \nL 9.8125 71.09375 \nQ 15.4375 72.65625 20.34375 73.4375 \nQ 25.25 74.21875 29.59375 74.21875 \nQ 40.828125 74.21875 47.359375 69.109375 \nQ 53.90625 64.015625 53.90625 55.328125 \nQ 53.90625 49.265625 50.4375 45.09375 \nQ 46.96875 40.921875 40.578125 39.3125 \nz\n\" id=\"DejaVuSans-33\"/>\n      </defs>\n      <g transform=\"translate(7.2 136.768061)scale(0.1 -0.1)\">\n       <use xlink:href=\"#DejaVuSans-30\"/>\n       <use x=\"63.623047\" xlink:href=\"#DejaVuSans-2e\"/>\n       <use x=\"95.410156\" xlink:href=\"#DejaVuSans-33\"/>\n      </g>\n     </g>\n    </g>\n    <g id=\"ytick_4\">\n     <g id=\"line2d_14\">\n      <g>\n       <use style=\"stroke:#000000;stroke-width:0.8;\" x=\"30.103125\" xlink:href=\"#m787720f943\" y=\"87.336441\"/>\n      </g>\n     </g>\n     <g id=\"text_4\">\n      <!-- 0.4 -->\n      <defs>\n       <path d=\"M 37.796875 64.3125 \nL 12.890625 25.390625 \nL 37.796875 25.390625 \nz\nM 35.203125 72.90625 \nL 47.609375 72.90625 \nL 47.609375 25.390625 \nL 58.015625 25.390625 \nL 58.015625 17.1875 \nL 47.609375 17.1875 \nL 47.609375 0 \nL 37.796875 0 \nL 37.796875 17.1875 \nL 4.890625 17.1875 \nL 4.890625 26.703125 \nz\n\" id=\"DejaVuSans-34\"/>\n      </defs>\n      <g transform=\"translate(7.2 91.13566)scale(0.1 -0.1)\">\n       <use xlink:href=\"#DejaVuSans-30\"/>\n       <use x=\"63.623047\" xlink:href=\"#DejaVuSans-2e\"/>\n       <use x=\"95.410156\" xlink:href=\"#DejaVuSans-34\"/>\n      </g>\n     </g>\n    </g>\n    <g id=\"ytick_5\">\n     <g id=\"line2d_15\">\n      <g>\n       <use style=\"stroke:#000000;stroke-width:0.8;\" x=\"30.103125\" xlink:href=\"#m787720f943\" y=\"41.70404\"/>\n      </g>\n     </g>\n     <g id=\"text_5\">\n      <!-- 0.5 -->\n      <defs>\n       <path d=\"M 10.796875 72.90625 \nL 49.515625 72.90625 \nL 49.515625 64.59375 \nL 19.828125 64.59375 \nL 19.828125 46.734375 \nQ 21.96875 47.46875 24.109375 47.828125 \nQ 26.265625 48.1875 28.421875 48.1875 \nQ 40.625 48.1875 47.75 41.5 \nQ 54.890625 34.8125 54.890625 23.390625 \nQ 54.890625 11.625 47.5625 5.09375 \nQ 40.234375 -1.421875 26.90625 -1.421875 \nQ 22.3125 -1.421875 17.546875 -0.640625 \nQ 12.796875 0.140625 7.71875 1.703125 \nL 7.71875 11.625 \nQ 12.109375 9.234375 16.796875 8.0625 \nQ 21.484375 6.890625 26.703125 6.890625 \nQ 35.15625 6.890625 40.078125 11.328125 \nQ 45.015625 15.765625 45.015625 23.390625 \nQ 45.015625 31 40.078125 35.4375 \nQ 35.15625 39.890625 26.703125 39.890625 \nQ 22.75 39.890625 18.8125 39.015625 \nQ 14.890625 38.140625 10.796875 36.28125 \nz\n\" id=\"DejaVuSans-35\"/>\n      </defs>\n      <g transform=\"translate(7.2 45.503259)scale(0.1 -0.1)\">\n       <use xlink:href=\"#DejaVuSans-30\"/>\n       <use x=\"63.623047\" xlink:href=\"#DejaVuSans-2e\"/>\n       <use x=\"95.410156\" xlink:href=\"#DejaVuSans-35\"/>\n      </g>\n     </g>\n    </g>\n   </g>\n   <g id=\"line2d_16\">\n    <defs>\n     <path d=\"M 0 3 \nC 0.795609 3 1.55874 2.683901 2.12132 2.12132 \nC 2.683901 1.55874 3 0.795609 3 0 \nC 3 -0.795609 2.683901 -1.55874 2.12132 -2.12132 \nC 1.55874 -2.683901 0.795609 -3 0 -3 \nC -0.795609 -3 -1.55874 -2.683901 -2.12132 -2.12132 \nC -2.683901 -1.55874 -3 -0.795609 -3 0 \nC -3 0.795609 -2.683901 1.55874 -2.12132 2.12132 \nC -1.55874 2.683901 -0.795609 3 0 3 \nz\n\" id=\"m88451e95c7\" style=\"stroke:#0000ff;\"/>\n    </defs>\n    <g clip-path=\"url(#pb937357a42)\">\n     <use style=\"fill:#0000ff;stroke:#0000ff;\" x=\"54.09858\" xlink:href=\"#m88451e95c7\" y=\"256.706761\"/>\n     <use style=\"fill:#0000ff;stroke:#0000ff;\" x=\"65.005604\" xlink:href=\"#m88451e95c7\" y=\"235.119623\"/>\n     <use style=\"fill:#0000ff;stroke:#0000ff;\" x=\"75.912629\" xlink:href=\"#m88451e95c7\" y=\"215.084985\"/>\n     <use style=\"fill:#0000ff;stroke:#0000ff;\" x=\"86.819654\" xlink:href=\"#m88451e95c7\" y=\"196.935524\"/>\n     <use style=\"fill:#0000ff;stroke:#0000ff;\" x=\"97.726679\" xlink:href=\"#m88451e95c7\" y=\"180.153742\"/>\n     <use style=\"fill:#0000ff;stroke:#0000ff;\" x=\"108.633704\" xlink:href=\"#m88451e95c7\" y=\"169.24928\"/>\n     <use style=\"fill:#0000ff;stroke:#0000ff;\" x=\"119.540728\" xlink:href=\"#m88451e95c7\" y=\"161.006247\"/>\n     <use style=\"fill:#0000ff;stroke:#0000ff;\" x=\"130.447753\" xlink:href=\"#m88451e95c7\" y=\"148.327499\"/>\n     <use style=\"fill:#0000ff;stroke:#0000ff;\" x=\"141.354778\" xlink:href=\"#m88451e95c7\" y=\"142.339286\"/>\n     <use style=\"fill:#0000ff;stroke:#0000ff;\" x=\"152.261803\" xlink:href=\"#m88451e95c7\" y=\"136.388038\"/>\n     <use style=\"fill:#0000ff;stroke:#0000ff;\" x=\"163.168827\" xlink:href=\"#m88451e95c7\" y=\"130.215003\"/>\n     <use style=\"fill:#0000ff;stroke:#0000ff;\" x=\"174.075852\" xlink:href=\"#m88451e95c7\" y=\"124.078933\"/>\n     <use style=\"fill:#0000ff;stroke:#0000ff;\" x=\"184.982877\" xlink:href=\"#m88451e95c7\" y=\"117.018756\"/>\n     <use style=\"fill:#0000ff;stroke:#0000ff;\" x=\"195.889902\" xlink:href=\"#m88451e95c7\" y=\"112.767864\"/>\n     <use style=\"fill:#0000ff;stroke:#0000ff;\" x=\"206.796927\" xlink:href=\"#m88451e95c7\" y=\"108.369115\"/>\n     <use style=\"fill:#0000ff;stroke:#0000ff;\" x=\"217.703951\" xlink:href=\"#m88451e95c7\" y=\"104.00733\"/>\n     <use style=\"fill:#0000ff;stroke:#0000ff;\" x=\"228.610976\" xlink:href=\"#m88451e95c7\" y=\"97.205903\"/>\n     <use style=\"fill:#0000ff;stroke:#0000ff;\" x=\"239.518001\" xlink:href=\"#m88451e95c7\" y=\"93.398583\"/>\n     <use style=\"fill:#0000ff;stroke:#0000ff;\" x=\"250.425026\" xlink:href=\"#m88451e95c7\" y=\"92.474476\"/>\n     <use style=\"fill:#0000ff;stroke:#0000ff;\" x=\"261.332051\" xlink:href=\"#m88451e95c7\" y=\"88.519298\"/>\n     <use style=\"fill:#0000ff;stroke:#0000ff;\" x=\"272.239075\" xlink:href=\"#m88451e95c7\" y=\"81.570014\"/>\n     <use style=\"fill:#0000ff;stroke:#0000ff;\" x=\"283.1461\" xlink:href=\"#m88451e95c7\" y=\"80.387157\"/>\n     <use style=\"fill:#0000ff;stroke:#0000ff;\" x=\"294.053125\" xlink:href=\"#m88451e95c7\" y=\"77.208229\"/>\n     <use style=\"fill:#0000ff;stroke:#0000ff;\" x=\"304.96015\" xlink:href=\"#m88451e95c7\" y=\"77.023408\"/>\n     <use style=\"fill:#0000ff;stroke:#0000ff;\" x=\"315.867175\" xlink:href=\"#m88451e95c7\" y=\"74.36198\"/>\n     <use style=\"fill:#0000ff;stroke:#0000ff;\" x=\"326.774199\" xlink:href=\"#m88451e95c7\" y=\"71.589659\"/>\n     <use style=\"fill:#0000ff;stroke:#0000ff;\" x=\"337.681224\" xlink:href=\"#m88451e95c7\" y=\"68.373767\"/>\n     <use style=\"fill:#0000ff;stroke:#0000ff;\" x=\"348.588249\" xlink:href=\"#m88451e95c7\" y=\"65.12091\"/>\n     <use style=\"fill:#0000ff;stroke:#0000ff;\" x=\"359.495274\" xlink:href=\"#m88451e95c7\" y=\"65.231803\"/>\n     <use style=\"fill:#0000ff;stroke:#0000ff;\" x=\"370.402299\" xlink:href=\"#m88451e95c7\" y=\"62.385554\"/>\n     <use style=\"fill:#0000ff;stroke:#0000ff;\" x=\"381.309323\" xlink:href=\"#m88451e95c7\" y=\"57.284483\"/>\n     <use style=\"fill:#0000ff;stroke:#0000ff;\" x=\"392.216348\" xlink:href=\"#m88451e95c7\" y=\"58.652162\"/>\n     <use style=\"fill:#0000ff;stroke:#0000ff;\" x=\"403.123373\" xlink:href=\"#m88451e95c7\" y=\"54.66002\"/>\n     <use style=\"fill:#0000ff;stroke:#0000ff;\" x=\"414.030398\" xlink:href=\"#m88451e95c7\" y=\"53.62502\"/>\n     <use style=\"fill:#0000ff;stroke:#0000ff;\" x=\"424.937423\" xlink:href=\"#m88451e95c7\" y=\"49.263235\"/>\n     <use style=\"fill:#0000ff;stroke:#0000ff;\" x=\"435.844447\" xlink:href=\"#m88451e95c7\" y=\"50.076449\"/>\n     <use style=\"fill:#0000ff;stroke:#0000ff;\" x=\"446.751472\" xlink:href=\"#m88451e95c7\" y=\"46.860557\"/>\n     <use style=\"fill:#0000ff;stroke:#0000ff;\" x=\"457.658497\" xlink:href=\"#m88451e95c7\" y=\"47.378057\"/>\n     <use style=\"fill:#0000ff;stroke:#0000ff;\" x=\"468.565522\" xlink:href=\"#m88451e95c7\" y=\"42.055201\"/>\n     <use style=\"fill:#0000ff;stroke:#0000ff;\" x=\"479.472546\" xlink:href=\"#m88451e95c7\" y=\"43.090201\"/>\n     <use style=\"fill:#0000ff;stroke:#0000ff;\" x=\"490.379571\" xlink:href=\"#m88451e95c7\" y=\"41.09413\"/>\n     <use style=\"fill:#0000ff;stroke:#0000ff;\" x=\"501.286596\" xlink:href=\"#m88451e95c7\" y=\"36.954131\"/>\n     <use style=\"fill:#0000ff;stroke:#0000ff;\" x=\"512.193621\" xlink:href=\"#m88451e95c7\" y=\"37.175916\"/>\n     <use style=\"fill:#0000ff;stroke:#0000ff;\" x=\"523.100646\" xlink:href=\"#m88451e95c7\" y=\"38.026095\"/>\n     <use style=\"fill:#0000ff;stroke:#0000ff;\" x=\"534.00767\" xlink:href=\"#m88451e95c7\" y=\"33.479489\"/>\n    </g>\n   </g>\n   <g id=\"line2d_17\">\n    <path clip-path=\"url(#pb937357a42)\" d=\"M 54.09858 221.136723 \nL 65.005604 178.734444 \nL 75.912629 153.093275 \nL 86.819654 128.11811 \nL 97.726679 115.686028 \nL 108.633704 103.91995 \nL 119.540728 100.145926 \nL 130.447753 92.708877 \nL 141.354778 86.270834 \nL 152.261803 79.61079 \nL 163.168827 81.0538 \nL 174.075852 73.394749 \nL 184.982877 74.171754 \nL 195.889902 66.290702 \nL 206.796927 67.51171 \nL 217.703951 61.850673 \nL 228.610976 59.408657 \nL 239.518001 62.405677 \nL 250.425026 58.964654 \nL 261.332051 57.521645 \nL 272.239075 55.967634 \nL 283.1461 52.748613 \nL 294.053125 54.746626 \nL 304.96015 54.302623 \nL 315.867175 50.972601 \nL 326.774199 50.7506 \nL 337.681224 49.529592 \nL 348.588249 45.644566 \nL 359.495274 50.306597 \nL 370.402299 47.309577 \nL 381.309323 44.978562 \nL 392.216348 43.20255 \nL 403.123373 42.536546 \nL 414.030398 45.533566 \nL 424.937423 42.980549 \nL 435.844447 43.646553 \nL 446.751472 44.423558 \nL 457.658497 41.093536 \nL 468.565522 43.535552 \nL 479.472546 39.872528 \nL 490.379571 38.873522 \nL 501.286596 44.64556 \nL 512.193621 41.759541 \nL 523.100646 40.538533 \nL 534.00767 39.983529 \n\" style=\"fill:none;stroke:#0000ff;stroke-linecap:square;stroke-width:1.5;\"/>\n   </g>\n   <g id=\"patch_3\">\n    <path d=\"M 30.103125 267.868125 \nL 30.103125 22.318125 \n\" style=\"fill:none;stroke:#000000;stroke-linecap:square;stroke-linejoin:miter;stroke-width:0.8;\"/>\n   </g>\n   <g id=\"patch_4\">\n    <path d=\"M 558.003125 267.868125 \nL 558.003125 22.318125 \n\" style=\"fill:none;stroke:#000000;stroke-linecap:square;stroke-linejoin:miter;stroke-width:0.8;\"/>\n   </g>\n   <g id=\"patch_5\">\n    <path d=\"M 30.103125 267.868125 \nL 558.003125 267.868125 \n\" style=\"fill:none;stroke:#000000;stroke-linecap:square;stroke-linejoin:miter;stroke-width:0.8;\"/>\n   </g>\n   <g id=\"patch_6\">\n    <path d=\"M 30.103125 22.318125 \nL 558.003125 22.318125 \n\" style=\"fill:none;stroke:#000000;stroke-linecap:square;stroke-linejoin:miter;stroke-width:0.8;\"/>\n   </g>\n   <g id=\"text_6\">\n    <!-- Training and Validation accuracy -->\n    <defs>\n     <path d=\"M -0.296875 72.90625 \nL 61.375 72.90625 \nL 61.375 64.59375 \nL 35.5 64.59375 \nL 35.5 0 \nL 25.59375 0 \nL 25.59375 64.59375 \nL -0.296875 64.59375 \nz\n\" id=\"DejaVuSans-54\"/>\n     <path d=\"M 41.109375 46.296875 \nQ 39.59375 47.171875 37.8125 47.578125 \nQ 36.03125 48 33.890625 48 \nQ 26.265625 48 22.1875 43.046875 \nQ 18.109375 38.09375 18.109375 28.8125 \nL 18.109375 0 \nL 9.078125 0 \nL 9.078125 54.6875 \nL 18.109375 54.6875 \nL 18.109375 46.1875 \nQ 20.953125 51.171875 25.484375 53.578125 \nQ 30.03125 56 36.53125 56 \nQ 37.453125 56 38.578125 55.875 \nQ 39.703125 55.765625 41.0625 55.515625 \nz\n\" id=\"DejaVuSans-72\"/>\n     <path d=\"M 34.28125 27.484375 \nQ 23.390625 27.484375 19.1875 25 \nQ 14.984375 22.515625 14.984375 16.5 \nQ 14.984375 11.71875 18.140625 8.90625 \nQ 21.296875 6.109375 26.703125 6.109375 \nQ 34.1875 6.109375 38.703125 11.40625 \nQ 43.21875 16.703125 43.21875 25.484375 \nL 43.21875 27.484375 \nz\nM 52.203125 31.203125 \nL 52.203125 0 \nL 43.21875 0 \nL 43.21875 8.296875 \nQ 40.140625 3.328125 35.546875 0.953125 \nQ 30.953125 -1.421875 24.3125 -1.421875 \nQ 15.921875 -1.421875 10.953125 3.296875 \nQ 6 8.015625 6 15.921875 \nQ 6 25.140625 12.171875 29.828125 \nQ 18.359375 34.515625 30.609375 34.515625 \nL 43.21875 34.515625 \nL 43.21875 35.40625 \nQ 43.21875 41.609375 39.140625 45 \nQ 35.0625 48.390625 27.6875 48.390625 \nQ 23 48.390625 18.546875 47.265625 \nQ 14.109375 46.140625 10.015625 43.890625 \nL 10.015625 52.203125 \nQ 14.9375 54.109375 19.578125 55.046875 \nQ 24.21875 56 28.609375 56 \nQ 40.484375 56 46.34375 49.84375 \nQ 52.203125 43.703125 52.203125 31.203125 \nz\n\" id=\"DejaVuSans-61\"/>\n     <path d=\"M 9.421875 54.6875 \nL 18.40625 54.6875 \nL 18.40625 0 \nL 9.421875 0 \nz\nM 9.421875 75.984375 \nL 18.40625 75.984375 \nL 18.40625 64.59375 \nL 9.421875 64.59375 \nz\n\" id=\"DejaVuSans-69\"/>\n     <path d=\"M 54.890625 33.015625 \nL 54.890625 0 \nL 45.90625 0 \nL 45.90625 32.71875 \nQ 45.90625 40.484375 42.875 44.328125 \nQ 39.84375 48.1875 33.796875 48.1875 \nQ 26.515625 48.1875 22.3125 43.546875 \nQ 18.109375 38.921875 18.109375 30.90625 \nL 18.109375 0 \nL 9.078125 0 \nL 9.078125 54.6875 \nL 18.109375 54.6875 \nL 18.109375 46.1875 \nQ 21.34375 51.125 25.703125 53.5625 \nQ 30.078125 56 35.796875 56 \nQ 45.21875 56 50.046875 50.171875 \nQ 54.890625 44.34375 54.890625 33.015625 \nz\n\" id=\"DejaVuSans-6e\"/>\n     <path d=\"M 45.40625 27.984375 \nQ 45.40625 37.75 41.375 43.109375 \nQ 37.359375 48.484375 30.078125 48.484375 \nQ 22.859375 48.484375 18.828125 43.109375 \nQ 14.796875 37.75 14.796875 27.984375 \nQ 14.796875 18.265625 18.828125 12.890625 \nQ 22.859375 7.515625 30.078125 7.515625 \nQ 37.359375 7.515625 41.375 12.890625 \nQ 45.40625 18.265625 45.40625 27.984375 \nz\nM 54.390625 6.78125 \nQ 54.390625 -7.171875 48.1875 -13.984375 \nQ 42 -20.796875 29.203125 -20.796875 \nQ 24.46875 -20.796875 20.265625 -20.09375 \nQ 16.0625 -19.390625 12.109375 -17.921875 \nL 12.109375 -9.1875 \nQ 16.0625 -11.328125 19.921875 -12.34375 \nQ 23.78125 -13.375 27.78125 -13.375 \nQ 36.625 -13.375 41.015625 -8.765625 \nQ 45.40625 -4.15625 45.40625 5.171875 \nL 45.40625 9.625 \nQ 42.625 4.78125 38.28125 2.390625 \nQ 33.9375 0 27.875 0 \nQ 17.828125 0 11.671875 7.65625 \nQ 5.515625 15.328125 5.515625 27.984375 \nQ 5.515625 40.671875 11.671875 48.328125 \nQ 17.828125 56 27.875 56 \nQ 33.9375 56 38.28125 53.609375 \nQ 42.625 51.21875 45.40625 46.390625 \nL 45.40625 54.6875 \nL 54.390625 54.6875 \nz\n\" id=\"DejaVuSans-67\"/>\n     <path id=\"DejaVuSans-20\"/>\n     <path d=\"M 45.40625 46.390625 \nL 45.40625 75.984375 \nL 54.390625 75.984375 \nL 54.390625 0 \nL 45.40625 0 \nL 45.40625 8.203125 \nQ 42.578125 3.328125 38.25 0.953125 \nQ 33.9375 -1.421875 27.875 -1.421875 \nQ 17.96875 -1.421875 11.734375 6.484375 \nQ 5.515625 14.40625 5.515625 27.296875 \nQ 5.515625 40.1875 11.734375 48.09375 \nQ 17.96875 56 27.875 56 \nQ 33.9375 56 38.25 53.625 \nQ 42.578125 51.265625 45.40625 46.390625 \nz\nM 14.796875 27.296875 \nQ 14.796875 17.390625 18.875 11.75 \nQ 22.953125 6.109375 30.078125 6.109375 \nQ 37.203125 6.109375 41.296875 11.75 \nQ 45.40625 17.390625 45.40625 27.296875 \nQ 45.40625 37.203125 41.296875 42.84375 \nQ 37.203125 48.484375 30.078125 48.484375 \nQ 22.953125 48.484375 18.875 42.84375 \nQ 14.796875 37.203125 14.796875 27.296875 \nz\n\" id=\"DejaVuSans-64\"/>\n     <path d=\"M 28.609375 0 \nL 0.78125 72.90625 \nL 11.078125 72.90625 \nL 34.1875 11.53125 \nL 57.328125 72.90625 \nL 67.578125 72.90625 \nL 39.796875 0 \nz\n\" id=\"DejaVuSans-56\"/>\n     <path d=\"M 9.421875 75.984375 \nL 18.40625 75.984375 \nL 18.40625 0 \nL 9.421875 0 \nz\n\" id=\"DejaVuSans-6c\"/>\n     <path d=\"M 18.3125 70.21875 \nL 18.3125 54.6875 \nL 36.8125 54.6875 \nL 36.8125 47.703125 \nL 18.3125 47.703125 \nL 18.3125 18.015625 \nQ 18.3125 11.328125 20.140625 9.421875 \nQ 21.96875 7.515625 27.59375 7.515625 \nL 36.8125 7.515625 \nL 36.8125 0 \nL 27.59375 0 \nQ 17.1875 0 13.234375 3.875 \nQ 9.28125 7.765625 9.28125 18.015625 \nL 9.28125 47.703125 \nL 2.6875 47.703125 \nL 2.6875 54.6875 \nL 9.28125 54.6875 \nL 9.28125 70.21875 \nz\n\" id=\"DejaVuSans-74\"/>\n     <path d=\"M 30.609375 48.390625 \nQ 23.390625 48.390625 19.1875 42.75 \nQ 14.984375 37.109375 14.984375 27.296875 \nQ 14.984375 17.484375 19.15625 11.84375 \nQ 23.34375 6.203125 30.609375 6.203125 \nQ 37.796875 6.203125 41.984375 11.859375 \nQ 46.1875 17.53125 46.1875 27.296875 \nQ 46.1875 37.015625 41.984375 42.703125 \nQ 37.796875 48.390625 30.609375 48.390625 \nz\nM 30.609375 56 \nQ 42.328125 56 49.015625 48.375 \nQ 55.71875 40.765625 55.71875 27.296875 \nQ 55.71875 13.875 49.015625 6.21875 \nQ 42.328125 -1.421875 30.609375 -1.421875 \nQ 18.84375 -1.421875 12.171875 6.21875 \nQ 5.515625 13.875 5.515625 27.296875 \nQ 5.515625 40.765625 12.171875 48.375 \nQ 18.84375 56 30.609375 56 \nz\n\" id=\"DejaVuSans-6f\"/>\n     <path d=\"M 48.78125 52.59375 \nL 48.78125 44.1875 \nQ 44.96875 46.296875 41.140625 47.34375 \nQ 37.3125 48.390625 33.40625 48.390625 \nQ 24.65625 48.390625 19.8125 42.84375 \nQ 14.984375 37.3125 14.984375 27.296875 \nQ 14.984375 17.28125 19.8125 11.734375 \nQ 24.65625 6.203125 33.40625 6.203125 \nQ 37.3125 6.203125 41.140625 7.25 \nQ 44.96875 8.296875 48.78125 10.40625 \nL 48.78125 2.09375 \nQ 45.015625 0.34375 40.984375 -0.53125 \nQ 36.96875 -1.421875 32.421875 -1.421875 \nQ 20.0625 -1.421875 12.78125 6.34375 \nQ 5.515625 14.109375 5.515625 27.296875 \nQ 5.515625 40.671875 12.859375 48.328125 \nQ 20.21875 56 33.015625 56 \nQ 37.15625 56 41.109375 55.140625 \nQ 45.0625 54.296875 48.78125 52.59375 \nz\n\" id=\"DejaVuSans-63\"/>\n     <path d=\"M 8.5 21.578125 \nL 8.5 54.6875 \nL 17.484375 54.6875 \nL 17.484375 21.921875 \nQ 17.484375 14.15625 20.5 10.265625 \nQ 23.53125 6.390625 29.59375 6.390625 \nQ 36.859375 6.390625 41.078125 11.03125 \nQ 45.3125 15.671875 45.3125 23.6875 \nL 45.3125 54.6875 \nL 54.296875 54.6875 \nL 54.296875 0 \nL 45.3125 0 \nL 45.3125 8.40625 \nQ 42.046875 3.421875 37.71875 1 \nQ 33.40625 -1.421875 27.6875 -1.421875 \nQ 18.265625 -1.421875 13.375 4.4375 \nQ 8.5 10.296875 8.5 21.578125 \nz\nM 31.109375 56 \nz\n\" id=\"DejaVuSans-75\"/>\n     <path d=\"M 32.171875 -5.078125 \nQ 28.375 -14.84375 24.75 -17.8125 \nQ 21.140625 -20.796875 15.09375 -20.796875 \nL 7.90625 -20.796875 \nL 7.90625 -13.28125 \nL 13.1875 -13.28125 \nQ 16.890625 -13.28125 18.9375 -11.515625 \nQ 21 -9.765625 23.484375 -3.21875 \nL 25.09375 0.875 \nL 2.984375 54.6875 \nL 12.5 54.6875 \nL 29.59375 11.921875 \nL 46.6875 54.6875 \nL 56.203125 54.6875 \nz\n\" id=\"DejaVuSans-79\"/>\n    </defs>\n    <g transform=\"translate(195.342813 16.318125)scale(0.12 -0.12)\">\n     <use xlink:href=\"#DejaVuSans-54\"/>\n     <use x=\"60.865234\" xlink:href=\"#DejaVuSans-72\"/>\n     <use x=\"101.978516\" xlink:href=\"#DejaVuSans-61\"/>\n     <use x=\"163.257812\" xlink:href=\"#DejaVuSans-69\"/>\n     <use x=\"191.041016\" xlink:href=\"#DejaVuSans-6e\"/>\n     <use x=\"254.419922\" xlink:href=\"#DejaVuSans-69\"/>\n     <use x=\"282.203125\" xlink:href=\"#DejaVuSans-6e\"/>\n     <use x=\"345.582031\" xlink:href=\"#DejaVuSans-67\"/>\n     <use x=\"409.058594\" xlink:href=\"#DejaVuSans-20\"/>\n     <use x=\"440.845703\" xlink:href=\"#DejaVuSans-61\"/>\n     <use x=\"502.125\" xlink:href=\"#DejaVuSans-6e\"/>\n     <use x=\"565.503906\" xlink:href=\"#DejaVuSans-64\"/>\n     <use x=\"628.980469\" xlink:href=\"#DejaVuSans-20\"/>\n     <use x=\"660.767578\" xlink:href=\"#DejaVuSans-56\"/>\n     <use x=\"729.066406\" xlink:href=\"#DejaVuSans-61\"/>\n     <use x=\"790.345703\" xlink:href=\"#DejaVuSans-6c\"/>\n     <use x=\"818.128906\" xlink:href=\"#DejaVuSans-69\"/>\n     <use x=\"845.912109\" xlink:href=\"#DejaVuSans-64\"/>\n     <use x=\"909.388672\" xlink:href=\"#DejaVuSans-61\"/>\n     <use x=\"970.667969\" xlink:href=\"#DejaVuSans-74\"/>\n     <use x=\"1009.876953\" xlink:href=\"#DejaVuSans-69\"/>\n     <use x=\"1037.660156\" xlink:href=\"#DejaVuSans-6f\"/>\n     <use x=\"1098.841797\" xlink:href=\"#DejaVuSans-6e\"/>\n     <use x=\"1162.220703\" xlink:href=\"#DejaVuSans-20\"/>\n     <use x=\"1194.007812\" xlink:href=\"#DejaVuSans-61\"/>\n     <use x=\"1255.287109\" xlink:href=\"#DejaVuSans-63\"/>\n     <use x=\"1310.267578\" xlink:href=\"#DejaVuSans-63\"/>\n     <use x=\"1365.248047\" xlink:href=\"#DejaVuSans-75\"/>\n     <use x=\"1428.626953\" xlink:href=\"#DejaVuSans-72\"/>\n     <use x=\"1469.740234\" xlink:href=\"#DejaVuSans-61\"/>\n     <use x=\"1531.019531\" xlink:href=\"#DejaVuSans-63\"/>\n     <use x=\"1586\" xlink:href=\"#DejaVuSans-79\"/>\n    </g>\n   </g>\n   <g id=\"legend_1\">\n    <g id=\"patch_7\">\n     <path d=\"M 37.103125 59.674375 \nL 167.545312 59.674375 \nQ 169.545312 59.674375 169.545312 57.674375 \nL 169.545312 29.318125 \nQ 169.545312 27.318125 167.545312 27.318125 \nL 37.103125 27.318125 \nQ 35.103125 27.318125 35.103125 29.318125 \nL 35.103125 57.674375 \nQ 35.103125 59.674375 37.103125 59.674375 \nz\n\" style=\"fill:#ffffff;opacity:0.8;stroke:#cccccc;stroke-linejoin:miter;\"/>\n    </g>\n    <g id=\"line2d_18\"/>\n    <g id=\"line2d_19\">\n     <g>\n      <use style=\"fill:#0000ff;stroke:#0000ff;\" x=\"49.103125\" xlink:href=\"#m88451e95c7\" y=\"35.416562\"/>\n     </g>\n    </g>\n    <g id=\"text_7\">\n     <!-- Training accuracy -->\n     <g transform=\"translate(67.103125 38.916562)scale(0.1 -0.1)\">\n      <use xlink:href=\"#DejaVuSans-54\"/>\n      <use x=\"60.865234\" xlink:href=\"#DejaVuSans-72\"/>\n      <use x=\"101.978516\" xlink:href=\"#DejaVuSans-61\"/>\n      <use x=\"163.257812\" xlink:href=\"#DejaVuSans-69\"/>\n      <use x=\"191.041016\" xlink:href=\"#DejaVuSans-6e\"/>\n      <use x=\"254.419922\" xlink:href=\"#DejaVuSans-69\"/>\n      <use x=\"282.203125\" xlink:href=\"#DejaVuSans-6e\"/>\n      <use x=\"345.582031\" xlink:href=\"#DejaVuSans-67\"/>\n      <use x=\"409.058594\" xlink:href=\"#DejaVuSans-20\"/>\n      <use x=\"440.845703\" xlink:href=\"#DejaVuSans-61\"/>\n      <use x=\"502.125\" xlink:href=\"#DejaVuSans-63\"/>\n      <use x=\"557.105469\" xlink:href=\"#DejaVuSans-63\"/>\n      <use x=\"612.085938\" xlink:href=\"#DejaVuSans-75\"/>\n      <use x=\"675.464844\" xlink:href=\"#DejaVuSans-72\"/>\n      <use x=\"716.578125\" xlink:href=\"#DejaVuSans-61\"/>\n      <use x=\"777.857422\" xlink:href=\"#DejaVuSans-63\"/>\n      <use x=\"832.837891\" xlink:href=\"#DejaVuSans-79\"/>\n     </g>\n    </g>\n    <g id=\"line2d_20\">\n     <path d=\"M 39.103125 50.094687 \nL 59.103125 50.094687 \n\" style=\"fill:none;stroke:#0000ff;stroke-linecap:square;stroke-width:1.5;\"/>\n    </g>\n    <g id=\"line2d_21\"/>\n    <g id=\"text_8\">\n     <!-- Validation accuracy -->\n     <g transform=\"translate(67.103125 53.594687)scale(0.1 -0.1)\">\n      <use xlink:href=\"#DejaVuSans-56\"/>\n      <use x=\"68.298828\" xlink:href=\"#DejaVuSans-61\"/>\n      <use x=\"129.578125\" xlink:href=\"#DejaVuSans-6c\"/>\n      <use x=\"157.361328\" xlink:href=\"#DejaVuSans-69\"/>\n      <use x=\"185.144531\" xlink:href=\"#DejaVuSans-64\"/>\n      <use x=\"248.621094\" xlink:href=\"#DejaVuSans-61\"/>\n      <use x=\"309.900391\" xlink:href=\"#DejaVuSans-74\"/>\n      <use x=\"349.109375\" xlink:href=\"#DejaVuSans-69\"/>\n      <use x=\"376.892578\" xlink:href=\"#DejaVuSans-6f\"/>\n      <use x=\"438.074219\" xlink:href=\"#DejaVuSans-6e\"/>\n      <use x=\"501.453125\" xlink:href=\"#DejaVuSans-20\"/>\n      <use x=\"533.240234\" xlink:href=\"#DejaVuSans-61\"/>\n      <use x=\"594.519531\" xlink:href=\"#DejaVuSans-63\"/>\n      <use x=\"649.5\" xlink:href=\"#DejaVuSans-63\"/>\n      <use x=\"704.480469\" xlink:href=\"#DejaVuSans-75\"/>\n      <use x=\"767.859375\" xlink:href=\"#DejaVuSans-72\"/>\n      <use x=\"808.972656\" xlink:href=\"#DejaVuSans-61\"/>\n      <use x=\"870.251953\" xlink:href=\"#DejaVuSans-63\"/>\n      <use x=\"925.232422\" xlink:href=\"#DejaVuSans-79\"/>\n     </g>\n    </g>\n   </g>\n  </g>\n  <g id=\"axes_2\">\n   <g id=\"patch_8\">\n    <path d=\"M 30.103125 543.718125 \nL 558.003125 543.718125 \nL 558.003125 298.168125 \nL 30.103125 298.168125 \nz\n\" style=\"fill:#ffffff;\"/>\n   </g>\n   <g id=\"matplotlib.axis_3\">\n    <g id=\"xtick_11\">\n     <g id=\"line2d_22\">\n      <g>\n       <use style=\"stroke:#000000;stroke-width:0.8;\" x=\"43.191555\" xlink:href=\"#m4d722f453b\" y=\"543.718125\"/>\n      </g>\n     </g>\n     <g id=\"text_9\">\n      <!-- 0 -->\n      <g transform=\"translate(40.010305 558.316562)scale(0.1 -0.1)\">\n       <use xlink:href=\"#DejaVuSans-30\"/>\n      </g>\n     </g>\n    </g>\n    <g id=\"xtick_12\">\n     <g id=\"line2d_23\">\n      <g>\n       <use style=\"stroke:#000000;stroke-width:0.8;\" x=\"97.726679\" xlink:href=\"#m4d722f453b\" y=\"543.718125\"/>\n      </g>\n     </g>\n     <g id=\"text_10\">\n      <!-- 5 -->\n      <g transform=\"translate(94.545429 558.316562)scale(0.1 -0.1)\">\n       <use xlink:href=\"#DejaVuSans-35\"/>\n      </g>\n     </g>\n    </g>\n    <g id=\"xtick_13\">\n     <g id=\"line2d_24\">\n      <g>\n       <use style=\"stroke:#000000;stroke-width:0.8;\" x=\"152.261803\" xlink:href=\"#m4d722f453b\" y=\"543.718125\"/>\n      </g>\n     </g>\n     <g id=\"text_11\">\n      <!-- 10 -->\n      <g transform=\"translate(145.899303 558.316562)scale(0.1 -0.1)\">\n       <use xlink:href=\"#DejaVuSans-31\"/>\n       <use x=\"63.623047\" xlink:href=\"#DejaVuSans-30\"/>\n      </g>\n     </g>\n    </g>\n    <g id=\"xtick_14\">\n     <g id=\"line2d_25\">\n      <g>\n       <use style=\"stroke:#000000;stroke-width:0.8;\" x=\"206.796927\" xlink:href=\"#m4d722f453b\" y=\"543.718125\"/>\n      </g>\n     </g>\n     <g id=\"text_12\">\n      <!-- 15 -->\n      <g transform=\"translate(200.434427 558.316562)scale(0.1 -0.1)\">\n       <use xlink:href=\"#DejaVuSans-31\"/>\n       <use x=\"63.623047\" xlink:href=\"#DejaVuSans-35\"/>\n      </g>\n     </g>\n    </g>\n    <g id=\"xtick_15\">\n     <g id=\"line2d_26\">\n      <g>\n       <use style=\"stroke:#000000;stroke-width:0.8;\" x=\"261.332051\" xlink:href=\"#m4d722f453b\" y=\"543.718125\"/>\n      </g>\n     </g>\n     <g id=\"text_13\">\n      <!-- 20 -->\n      <g transform=\"translate(254.969551 558.316562)scale(0.1 -0.1)\">\n       <use xlink:href=\"#DejaVuSans-32\"/>\n       <use x=\"63.623047\" xlink:href=\"#DejaVuSans-30\"/>\n      </g>\n     </g>\n    </g>\n    <g id=\"xtick_16\">\n     <g id=\"line2d_27\">\n      <g>\n       <use style=\"stroke:#000000;stroke-width:0.8;\" x=\"315.867175\" xlink:href=\"#m4d722f453b\" y=\"543.718125\"/>\n      </g>\n     </g>\n     <g id=\"text_14\">\n      <!-- 25 -->\n      <g transform=\"translate(309.504675 558.316562)scale(0.1 -0.1)\">\n       <use xlink:href=\"#DejaVuSans-32\"/>\n       <use x=\"63.623047\" xlink:href=\"#DejaVuSans-35\"/>\n      </g>\n     </g>\n    </g>\n    <g id=\"xtick_17\">\n     <g id=\"line2d_28\">\n      <g>\n       <use style=\"stroke:#000000;stroke-width:0.8;\" x=\"370.402299\" xlink:href=\"#m4d722f453b\" y=\"543.718125\"/>\n      </g>\n     </g>\n     <g id=\"text_15\">\n      <!-- 30 -->\n      <g transform=\"translate(364.039799 558.316562)scale(0.1 -0.1)\">\n       <use xlink:href=\"#DejaVuSans-33\"/>\n       <use x=\"63.623047\" xlink:href=\"#DejaVuSans-30\"/>\n      </g>\n     </g>\n    </g>\n    <g id=\"xtick_18\">\n     <g id=\"line2d_29\">\n      <g>\n       <use style=\"stroke:#000000;stroke-width:0.8;\" x=\"424.937423\" xlink:href=\"#m4d722f453b\" y=\"543.718125\"/>\n      </g>\n     </g>\n     <g id=\"text_16\">\n      <!-- 35 -->\n      <g transform=\"translate(418.574923 558.316562)scale(0.1 -0.1)\">\n       <use xlink:href=\"#DejaVuSans-33\"/>\n       <use x=\"63.623047\" xlink:href=\"#DejaVuSans-35\"/>\n      </g>\n     </g>\n    </g>\n    <g id=\"xtick_19\">\n     <g id=\"line2d_30\">\n      <g>\n       <use style=\"stroke:#000000;stroke-width:0.8;\" x=\"479.472546\" xlink:href=\"#m4d722f453b\" y=\"543.718125\"/>\n      </g>\n     </g>\n     <g id=\"text_17\">\n      <!-- 40 -->\n      <g transform=\"translate(473.110046 558.316562)scale(0.1 -0.1)\">\n       <use xlink:href=\"#DejaVuSans-34\"/>\n       <use x=\"63.623047\" xlink:href=\"#DejaVuSans-30\"/>\n      </g>\n     </g>\n    </g>\n    <g id=\"xtick_20\">\n     <g id=\"line2d_31\">\n      <g>\n       <use style=\"stroke:#000000;stroke-width:0.8;\" x=\"534.00767\" xlink:href=\"#m4d722f453b\" y=\"543.718125\"/>\n      </g>\n     </g>\n     <g id=\"text_18\">\n      <!-- 45 -->\n      <g transform=\"translate(527.64517 558.316562)scale(0.1 -0.1)\">\n       <use xlink:href=\"#DejaVuSans-34\"/>\n       <use x=\"63.623047\" xlink:href=\"#DejaVuSans-35\"/>\n      </g>\n     </g>\n    </g>\n   </g>\n   <g id=\"matplotlib.axis_4\">\n    <g id=\"ytick_6\">\n     <g id=\"line2d_32\">\n      <g>\n       <use style=\"stroke:#000000;stroke-width:0.8;\" x=\"30.103125\" xlink:href=\"#m787720f943\" y=\"516.159312\"/>\n      </g>\n     </g>\n     <g id=\"text_19\">\n      <!-- 2.0 -->\n      <g transform=\"translate(7.2 519.95853)scale(0.1 -0.1)\">\n       <use xlink:href=\"#DejaVuSans-32\"/>\n       <use x=\"63.623047\" xlink:href=\"#DejaVuSans-2e\"/>\n       <use x=\"95.410156\" xlink:href=\"#DejaVuSans-30\"/>\n      </g>\n     </g>\n    </g>\n    <g id=\"ytick_7\">\n     <g id=\"line2d_33\">\n      <g>\n       <use style=\"stroke:#000000;stroke-width:0.8;\" x=\"30.103125\" xlink:href=\"#m787720f943\" y=\"478.414706\"/>\n      </g>\n     </g>\n     <g id=\"text_20\">\n      <!-- 2.5 -->\n      <g transform=\"translate(7.2 482.213925)scale(0.1 -0.1)\">\n       <use xlink:href=\"#DejaVuSans-32\"/>\n       <use x=\"63.623047\" xlink:href=\"#DejaVuSans-2e\"/>\n       <use x=\"95.410156\" xlink:href=\"#DejaVuSans-35\"/>\n      </g>\n     </g>\n    </g>\n    <g id=\"ytick_8\">\n     <g id=\"line2d_34\">\n      <g>\n       <use style=\"stroke:#000000;stroke-width:0.8;\" x=\"30.103125\" xlink:href=\"#m787720f943\" y=\"440.670101\"/>\n      </g>\n     </g>\n     <g id=\"text_21\">\n      <!-- 3.0 -->\n      <g transform=\"translate(7.2 444.46932)scale(0.1 -0.1)\">\n       <use xlink:href=\"#DejaVuSans-33\"/>\n       <use x=\"63.623047\" xlink:href=\"#DejaVuSans-2e\"/>\n       <use x=\"95.410156\" xlink:href=\"#DejaVuSans-30\"/>\n      </g>\n     </g>\n    </g>\n    <g id=\"ytick_9\">\n     <g id=\"line2d_35\">\n      <g>\n       <use style=\"stroke:#000000;stroke-width:0.8;\" x=\"30.103125\" xlink:href=\"#m787720f943\" y=\"402.925496\"/>\n      </g>\n     </g>\n     <g id=\"text_22\">\n      <!-- 3.5 -->\n      <g transform=\"translate(7.2 406.724714)scale(0.1 -0.1)\">\n       <use xlink:href=\"#DejaVuSans-33\"/>\n       <use x=\"63.623047\" xlink:href=\"#DejaVuSans-2e\"/>\n       <use x=\"95.410156\" xlink:href=\"#DejaVuSans-35\"/>\n      </g>\n     </g>\n    </g>\n    <g id=\"ytick_10\">\n     <g id=\"line2d_36\">\n      <g>\n       <use style=\"stroke:#000000;stroke-width:0.8;\" x=\"30.103125\" xlink:href=\"#m787720f943\" y=\"365.18089\"/>\n      </g>\n     </g>\n     <g id=\"text_23\">\n      <!-- 4.0 -->\n      <g transform=\"translate(7.2 368.980109)scale(0.1 -0.1)\">\n       <use xlink:href=\"#DejaVuSans-34\"/>\n       <use x=\"63.623047\" xlink:href=\"#DejaVuSans-2e\"/>\n       <use x=\"95.410156\" xlink:href=\"#DejaVuSans-30\"/>\n      </g>\n     </g>\n    </g>\n    <g id=\"ytick_11\">\n     <g id=\"line2d_37\">\n      <g>\n       <use style=\"stroke:#000000;stroke-width:0.8;\" x=\"30.103125\" xlink:href=\"#m787720f943\" y=\"327.436285\"/>\n      </g>\n     </g>\n     <g id=\"text_24\">\n      <!-- 4.5 -->\n      <g transform=\"translate(7.2 331.235504)scale(0.1 -0.1)\">\n       <use xlink:href=\"#DejaVuSans-34\"/>\n       <use x=\"63.623047\" xlink:href=\"#DejaVuSans-2e\"/>\n       <use x=\"95.410156\" xlink:href=\"#DejaVuSans-35\"/>\n      </g>\n     </g>\n    </g>\n   </g>\n   <g id=\"line2d_38\">\n    <defs>\n     <path d=\"M 0 3 \nC 0.795609 3 1.55874 2.683901 2.12132 2.12132 \nC 2.683901 1.55874 3 0.795609 3 0 \nC 3 -0.795609 2.683901 -1.55874 2.12132 -2.12132 \nC 1.55874 -2.683901 0.795609 -3 0 -3 \nC -0.795609 -3 -1.55874 -2.683901 -2.12132 -2.12132 \nC -2.683901 -1.55874 -3 -0.795609 -3 0 \nC -3 0.795609 -2.683901 1.55874 -2.12132 2.12132 \nC -1.55874 2.683901 -0.795609 3 0 3 \nz\n\" id=\"mb04a691310\" style=\"stroke:#ff0000;\"/>\n    </defs>\n    <g clip-path=\"url(#p0a4fd5446c)\">\n     <use style=\"fill:#ff0000;stroke:#ff0000;\" x=\"54.09858\" xlink:href=\"#mb04a691310\" y=\"309.329489\"/>\n     <use style=\"fill:#ff0000;stroke:#ff0000;\" x=\"65.005604\" xlink:href=\"#mb04a691310\" y=\"345.513754\"/>\n     <use style=\"fill:#ff0000;stroke:#ff0000;\" x=\"75.912629\" xlink:href=\"#mb04a691310\" y=\"371.37712\"/>\n     <use style=\"fill:#ff0000;stroke:#ff0000;\" x=\"86.819654\" xlink:href=\"#mb04a691310\" y=\"392.729458\"/>\n     <use style=\"fill:#ff0000;stroke:#ff0000;\" x=\"97.726679\" xlink:href=\"#mb04a691310\" y=\"408.285883\"/>\n     <use style=\"fill:#ff0000;stroke:#ff0000;\" x=\"108.633704\" xlink:href=\"#mb04a691310\" y=\"420.928829\"/>\n     <use style=\"fill:#ff0000;stroke:#ff0000;\" x=\"119.540728\" xlink:href=\"#mb04a691310\" y=\"430.553386\"/>\n     <use style=\"fill:#ff0000;stroke:#ff0000;\" x=\"130.447753\" xlink:href=\"#mb04a691310\" y=\"441.145087\"/>\n     <use style=\"fill:#ff0000;stroke:#ff0000;\" x=\"141.354778\" xlink:href=\"#mb04a691310\" y=\"448.526423\"/>\n     <use style=\"fill:#ff0000;stroke:#ff0000;\" x=\"152.261803\" xlink:href=\"#mb04a691310\" y=\"454.748414\"/>\n     <use style=\"fill:#ff0000;stroke:#ff0000;\" x=\"163.168827\" xlink:href=\"#mb04a691310\" y=\"459.05576\"/>\n     <use style=\"fill:#ff0000;stroke:#ff0000;\" x=\"174.075852\" xlink:href=\"#mb04a691310\" y=\"464.223634\"/>\n     <use style=\"fill:#ff0000;stroke:#ff0000;\" x=\"184.982877\" xlink:href=\"#mb04a691310\" y=\"468.741413\"/>\n     <use style=\"fill:#ff0000;stroke:#ff0000;\" x=\"195.889902\" xlink:href=\"#mb04a691310\" y=\"473.553714\"/>\n     <use style=\"fill:#ff0000;stroke:#ff0000;\" x=\"206.796927\" xlink:href=\"#mb04a691310\" y=\"478.334323\"/>\n     <use style=\"fill:#ff0000;stroke:#ff0000;\" x=\"217.703951\" xlink:href=\"#mb04a691310\" y=\"481.442654\"/>\n     <use style=\"fill:#ff0000;stroke:#ff0000;\" x=\"228.610976\" xlink:href=\"#mb04a691310\" y=\"485.251975\"/>\n     <use style=\"fill:#ff0000;stroke:#ff0000;\" x=\"239.518001\" xlink:href=\"#mb04a691310\" y=\"488.038467\"/>\n     <use style=\"fill:#ff0000;stroke:#ff0000;\" x=\"250.425026\" xlink:href=\"#mb04a691310\" y=\"489.455903\"/>\n     <use style=\"fill:#ff0000;stroke:#ff0000;\" x=\"261.332051\" xlink:href=\"#mb04a691310\" y=\"492.575001\"/>\n     <use style=\"fill:#ff0000;stroke:#ff0000;\" x=\"272.239075\" xlink:href=\"#mb04a691310\" y=\"496.306329\"/>\n     <use style=\"fill:#ff0000;stroke:#ff0000;\" x=\"283.1461\" xlink:href=\"#mb04a691310\" y=\"497.806279\"/>\n     <use style=\"fill:#ff0000;stroke:#ff0000;\" x=\"294.053125\" xlink:href=\"#mb04a691310\" y=\"500.378979\"/>\n     <use style=\"fill:#ff0000;stroke:#ff0000;\" x=\"304.96015\" xlink:href=\"#mb04a691310\" y=\"502.052758\"/>\n     <use style=\"fill:#ff0000;stroke:#ff0000;\" x=\"315.867175\" xlink:href=\"#mb04a691310\" y=\"503.360163\"/>\n     <use style=\"fill:#ff0000;stroke:#ff0000;\" x=\"326.774199\" xlink:href=\"#mb04a691310\" y=\"505.786119\"/>\n     <use style=\"fill:#ff0000;stroke:#ff0000;\" x=\"337.681224\" xlink:href=\"#mb04a691310\" y=\"507.589702\"/>\n     <use style=\"fill:#ff0000;stroke:#ff0000;\" x=\"348.588249\" xlink:href=\"#mb04a691310\" y=\"510.530178\"/>\n     <use style=\"fill:#ff0000;stroke:#ff0000;\" x=\"359.495274\" xlink:href=\"#mb04a691310\" y=\"509.545328\"/>\n     <use style=\"fill:#ff0000;stroke:#ff0000;\" x=\"370.402299\" xlink:href=\"#mb04a691310\" y=\"512.293476\"/>\n     <use style=\"fill:#ff0000;stroke:#ff0000;\" x=\"381.309323\" xlink:href=\"#mb04a691310\" y=\"515.369317\"/>\n     <use style=\"fill:#ff0000;stroke:#ff0000;\" x=\"392.216348\" xlink:href=\"#mb04a691310\" y=\"514.776911\"/>\n     <use style=\"fill:#ff0000;stroke:#ff0000;\" x=\"403.123373\" xlink:href=\"#mb04a691310\" y=\"517.307888\"/>\n     <use style=\"fill:#ff0000;stroke:#ff0000;\" x=\"414.030398\" xlink:href=\"#mb04a691310\" y=\"519.557851\"/>\n     <use style=\"fill:#ff0000;stroke:#ff0000;\" x=\"424.937423\" xlink:href=\"#mb04a691310\" y=\"520.320805\"/>\n     <use style=\"fill:#ff0000;stroke:#ff0000;\" x=\"435.844447\" xlink:href=\"#mb04a691310\" y=\"521.400182\"/>\n     <use style=\"fill:#ff0000;stroke:#ff0000;\" x=\"446.751472\" xlink:href=\"#mb04a691310\" y=\"523.723992\"/>\n     <use style=\"fill:#ff0000;stroke:#ff0000;\" x=\"457.658497\" xlink:href=\"#mb04a691310\" y=\"523.674326\"/>\n     <use style=\"fill:#ff0000;stroke:#ff0000;\" x=\"468.565522\" xlink:href=\"#mb04a691310\" y=\"525.413984\"/>\n     <use style=\"fill:#ff0000;stroke:#ff0000;\" x=\"479.472546\" xlink:href=\"#mb04a691310\" y=\"527.253607\"/>\n     <use style=\"fill:#ff0000;stroke:#ff0000;\" x=\"490.379571\" xlink:href=\"#mb04a691310\" y=\"527.546195\"/>\n     <use style=\"fill:#ff0000;stroke:#ff0000;\" x=\"501.286596\" xlink:href=\"#mb04a691310\" y=\"529.925803\"/>\n     <use style=\"fill:#ff0000;stroke:#ff0000;\" x=\"512.193621\" xlink:href=\"#mb04a691310\" y=\"529.559855\"/>\n     <use style=\"fill:#ff0000;stroke:#ff0000;\" x=\"523.100646\" xlink:href=\"#mb04a691310\" y=\"530.259375\"/>\n     <use style=\"fill:#ff0000;stroke:#ff0000;\" x=\"534.00767\" xlink:href=\"#mb04a691310\" y=\"532.556761\"/>\n    </g>\n   </g>\n   <g id=\"line2d_39\">\n    <path clip-path=\"url(#p0a4fd5446c)\" d=\"M 54.09858 353.239192 \nL 65.005604 396.890958 \nL 75.912629 425.570212 \nL 86.819654 446.743349 \nL 97.726679 461.571189 \nL 108.633704 472.82137 \nL 119.540728 479.772846 \nL 130.447753 487.968238 \nL 141.354778 492.337314 \nL 152.261803 497.488774 \nL 163.168827 500.011387 \nL 174.075852 504.771854 \nL 184.982877 506.680432 \nL 195.889902 509.167976 \nL 206.796927 511.844781 \nL 217.703951 513.849135 \nL 228.610976 516.946626 \nL 239.518001 517.106746 \nL 250.425026 518.009687 \nL 261.332051 520.225469 \nL 272.239075 520.369894 \nL 283.1461 522.138497 \nL 294.053125 522.916 \nL 304.96015 523.249954 \nL 315.867175 523.323919 \nL 326.774199 525.231417 \nL 337.681224 525.614987 \nL 348.588249 526.142224 \nL 359.495274 525.446984 \nL 370.402299 526.840692 \nL 381.309323 528.147584 \nL 392.216348 527.928213 \nL 403.123373 529.382228 \nL 414.030398 528.52387 \nL 424.937423 529.415214 \nL 435.844447 529.661277 \nL 446.751472 529.335299 \nL 457.658497 530.678769 \nL 468.565522 529.635104 \nL 479.472546 531.459106 \nL 490.379571 531.398622 \nL 501.286596 529.560959 \nL 512.193621 531.130779 \nL 523.100646 530.18943 \nL 534.00767 531.581203 \n\" style=\"fill:none;stroke:#ff0000;stroke-linecap:square;stroke-width:1.5;\"/>\n   </g>\n   <g id=\"patch_9\">\n    <path d=\"M 30.103125 543.718125 \nL 30.103125 298.168125 \n\" style=\"fill:none;stroke:#000000;stroke-linecap:square;stroke-linejoin:miter;stroke-width:0.8;\"/>\n   </g>\n   <g id=\"patch_10\">\n    <path d=\"M 558.003125 543.718125 \nL 558.003125 298.168125 \n\" style=\"fill:none;stroke:#000000;stroke-linecap:square;stroke-linejoin:miter;stroke-width:0.8;\"/>\n   </g>\n   <g id=\"patch_11\">\n    <path d=\"M 30.103125 543.718125 \nL 558.003125 543.718125 \n\" style=\"fill:none;stroke:#000000;stroke-linecap:square;stroke-linejoin:miter;stroke-width:0.8;\"/>\n   </g>\n   <g id=\"patch_12\">\n    <path d=\"M 30.103125 298.168125 \nL 558.003125 298.168125 \n\" style=\"fill:none;stroke:#000000;stroke-linecap:square;stroke-linejoin:miter;stroke-width:0.8;\"/>\n   </g>\n   <g id=\"text_25\">\n    <!-- Training and Validation loss -->\n    <defs>\n     <path d=\"M 44.28125 53.078125 \nL 44.28125 44.578125 \nQ 40.484375 46.53125 36.375 47.5 \nQ 32.28125 48.484375 27.875 48.484375 \nQ 21.1875 48.484375 17.84375 46.4375 \nQ 14.5 44.390625 14.5 40.28125 \nQ 14.5 37.15625 16.890625 35.375 \nQ 19.28125 33.59375 26.515625 31.984375 \nL 29.59375 31.296875 \nQ 39.15625 29.25 43.1875 25.515625 \nQ 47.21875 21.78125 47.21875 15.09375 \nQ 47.21875 7.46875 41.1875 3.015625 \nQ 35.15625 -1.421875 24.609375 -1.421875 \nQ 20.21875 -1.421875 15.453125 -0.5625 \nQ 10.6875 0.296875 5.421875 2 \nL 5.421875 11.28125 \nQ 10.40625 8.6875 15.234375 7.390625 \nQ 20.0625 6.109375 24.8125 6.109375 \nQ 31.15625 6.109375 34.5625 8.28125 \nQ 37.984375 10.453125 37.984375 14.40625 \nQ 37.984375 18.0625 35.515625 20.015625 \nQ 33.0625 21.96875 24.703125 23.78125 \nL 21.578125 24.515625 \nQ 13.234375 26.265625 9.515625 29.90625 \nQ 5.8125 33.546875 5.8125 39.890625 \nQ 5.8125 47.609375 11.28125 51.796875 \nQ 16.75 56 26.8125 56 \nQ 31.78125 56 36.171875 55.265625 \nQ 40.578125 54.546875 44.28125 53.078125 \nz\n\" id=\"DejaVuSans-73\"/>\n    </defs>\n    <g transform=\"translate(210.824688 292.168125)scale(0.12 -0.12)\">\n     <use xlink:href=\"#DejaVuSans-54\"/>\n     <use x=\"60.865234\" xlink:href=\"#DejaVuSans-72\"/>\n     <use x=\"101.978516\" xlink:href=\"#DejaVuSans-61\"/>\n     <use x=\"163.257812\" xlink:href=\"#DejaVuSans-69\"/>\n     <use x=\"191.041016\" xlink:href=\"#DejaVuSans-6e\"/>\n     <use x=\"254.419922\" xlink:href=\"#DejaVuSans-69\"/>\n     <use x=\"282.203125\" xlink:href=\"#DejaVuSans-6e\"/>\n     <use x=\"345.582031\" xlink:href=\"#DejaVuSans-67\"/>\n     <use x=\"409.058594\" xlink:href=\"#DejaVuSans-20\"/>\n     <use x=\"440.845703\" xlink:href=\"#DejaVuSans-61\"/>\n     <use x=\"502.125\" xlink:href=\"#DejaVuSans-6e\"/>\n     <use x=\"565.503906\" xlink:href=\"#DejaVuSans-64\"/>\n     <use x=\"628.980469\" xlink:href=\"#DejaVuSans-20\"/>\n     <use x=\"660.767578\" xlink:href=\"#DejaVuSans-56\"/>\n     <use x=\"729.066406\" xlink:href=\"#DejaVuSans-61\"/>\n     <use x=\"790.345703\" xlink:href=\"#DejaVuSans-6c\"/>\n     <use x=\"818.128906\" xlink:href=\"#DejaVuSans-69\"/>\n     <use x=\"845.912109\" xlink:href=\"#DejaVuSans-64\"/>\n     <use x=\"909.388672\" xlink:href=\"#DejaVuSans-61\"/>\n     <use x=\"970.667969\" xlink:href=\"#DejaVuSans-74\"/>\n     <use x=\"1009.876953\" xlink:href=\"#DejaVuSans-69\"/>\n     <use x=\"1037.660156\" xlink:href=\"#DejaVuSans-6f\"/>\n     <use x=\"1098.841797\" xlink:href=\"#DejaVuSans-6e\"/>\n     <use x=\"1162.220703\" xlink:href=\"#DejaVuSans-20\"/>\n     <use x=\"1194.007812\" xlink:href=\"#DejaVuSans-6c\"/>\n     <use x=\"1221.791016\" xlink:href=\"#DejaVuSans-6f\"/>\n     <use x=\"1282.972656\" xlink:href=\"#DejaVuSans-73\"/>\n     <use x=\"1335.072266\" xlink:href=\"#DejaVuSans-73\"/>\n    </g>\n   </g>\n   <g id=\"legend_2\">\n    <g id=\"patch_13\">\n     <path d=\"M 446.364063 335.524375 \nL 551.003125 335.524375 \nQ 553.003125 335.524375 553.003125 333.524375 \nL 553.003125 305.168125 \nQ 553.003125 303.168125 551.003125 303.168125 \nL 446.364063 303.168125 \nQ 444.364063 303.168125 444.364063 305.168125 \nL 444.364063 333.524375 \nQ 444.364063 335.524375 446.364063 335.524375 \nz\n\" style=\"fill:#ffffff;opacity:0.8;stroke:#cccccc;stroke-linejoin:miter;\"/>\n    </g>\n    <g id=\"line2d_40\"/>\n    <g id=\"line2d_41\">\n     <g>\n      <use style=\"fill:#ff0000;stroke:#ff0000;\" x=\"458.364063\" xlink:href=\"#mb04a691310\" y=\"311.266562\"/>\n     </g>\n    </g>\n    <g id=\"text_26\">\n     <!-- Training loss -->\n     <g transform=\"translate(476.364063 314.766562)scale(0.1 -0.1)\">\n      <use xlink:href=\"#DejaVuSans-54\"/>\n      <use x=\"60.865234\" xlink:href=\"#DejaVuSans-72\"/>\n      <use x=\"101.978516\" xlink:href=\"#DejaVuSans-61\"/>\n      <use x=\"163.257812\" xlink:href=\"#DejaVuSans-69\"/>\n      <use x=\"191.041016\" xlink:href=\"#DejaVuSans-6e\"/>\n      <use x=\"254.419922\" xlink:href=\"#DejaVuSans-69\"/>\n      <use x=\"282.203125\" xlink:href=\"#DejaVuSans-6e\"/>\n      <use x=\"345.582031\" xlink:href=\"#DejaVuSans-67\"/>\n      <use x=\"409.058594\" xlink:href=\"#DejaVuSans-20\"/>\n      <use x=\"440.845703\" xlink:href=\"#DejaVuSans-6c\"/>\n      <use x=\"468.628906\" xlink:href=\"#DejaVuSans-6f\"/>\n      <use x=\"529.810547\" xlink:href=\"#DejaVuSans-73\"/>\n      <use x=\"581.910156\" xlink:href=\"#DejaVuSans-73\"/>\n     </g>\n    </g>\n    <g id=\"line2d_42\">\n     <path d=\"M 448.364063 325.944687 \nL 468.364063 325.944687 \n\" style=\"fill:none;stroke:#ff0000;stroke-linecap:square;stroke-width:1.5;\"/>\n    </g>\n    <g id=\"line2d_43\"/>\n    <g id=\"text_27\">\n     <!-- Validation loss -->\n     <g transform=\"translate(476.364063 329.444687)scale(0.1 -0.1)\">\n      <use xlink:href=\"#DejaVuSans-56\"/>\n      <use x=\"68.298828\" xlink:href=\"#DejaVuSans-61\"/>\n      <use x=\"129.578125\" xlink:href=\"#DejaVuSans-6c\"/>\n      <use x=\"157.361328\" xlink:href=\"#DejaVuSans-69\"/>\n      <use x=\"185.144531\" xlink:href=\"#DejaVuSans-64\"/>\n      <use x=\"248.621094\" xlink:href=\"#DejaVuSans-61\"/>\n      <use x=\"309.900391\" xlink:href=\"#DejaVuSans-74\"/>\n      <use x=\"349.109375\" xlink:href=\"#DejaVuSans-69\"/>\n      <use x=\"376.892578\" xlink:href=\"#DejaVuSans-6f\"/>\n      <use x=\"438.074219\" xlink:href=\"#DejaVuSans-6e\"/>\n      <use x=\"501.453125\" xlink:href=\"#DejaVuSans-20\"/>\n      <use x=\"533.240234\" xlink:href=\"#DejaVuSans-6c\"/>\n      <use x=\"561.023438\" xlink:href=\"#DejaVuSans-6f\"/>\n      <use x=\"622.205078\" xlink:href=\"#DejaVuSans-73\"/>\n      <use x=\"674.304688\" xlink:href=\"#DejaVuSans-73\"/>\n     </g>\n    </g>\n   </g>\n  </g>\n </g>\n <defs>\n  <clipPath id=\"pb937357a42\">\n   <rect height=\"245.55\" width=\"527.9\" x=\"30.103125\" y=\"22.318125\"/>\n  </clipPath>\n  <clipPath id=\"p0a4fd5446c\">\n   <rect height=\"245.55\" width=\"527.9\" x=\"30.103125\" y=\"298.168125\"/>\n  </clipPath>\n </defs>\n</svg>\n"
          },
          "metadata": {
            "tags": []
          }
        }
      ]
    },
    {
      "metadata": {
        "id": "5nZ83fSzxcIg",
        "colab_type": "text"
      },
      "cell_type": "markdown",
      "source": [
        "Commentaire: pas de sur-apprentissage cette fois. Un taux de généralisation légèrement plus important, qui évolue avec chaque epoch d'apprentissage."
      ]
    },
    {
      "metadata": {
        "id": "F9dsIGn4xcIh",
        "colab_type": "code",
        "outputId": "aa2e2a4e-a91e-4859-e81a-68b88a4700b9",
        "colab": {
          "base_uri": "https://localhost:8080/",
          "height": 51
        }
      },
      "cell_type": "code",
      "source": [
        "test_loss, test_acc =\\\n",
        "  vgg_model.evaluate_generator(test_generator, \n",
        "                               steps=test_generator.n)\n",
        "\n",
        "print('\\nTest accuracy: ', round(test_acc*100, 2))"
      ],
      "execution_count": 0,
      "outputs": [
        {
          "output_type": "stream",
          "text": [
            "\n",
            "Test accuracy:  49.25\n"
          ],
          "name": "stdout"
        }
      ]
    },
    {
      "metadata": {
        "id": "VpDMLwMWMT2w",
        "colab_type": "code",
        "outputId": "01ad4f8a-c09d-4df1-aa73-ce331bb3b818",
        "colab": {
          "base_uri": "https://localhost:8080/",
          "height": 65
        }
      },
      "cell_type": "code",
      "source": [
        "!du --block-size=M vgg16_regularized.h5\n",
        "!cp vgg16_regularized.h5 drive/My\\ Drive/Projets\\ Formation/Projet\\ 7/models"
      ],
      "execution_count": 0,
      "outputs": [
        {
          "output_type": "stream",
          "text": [
            "648M\tvgg16_regularized.h5\n"
          ],
          "name": "stdout"
        }
      ]
    },
    {
      "metadata": {
        "id": "SlXgPSUJxcIj",
        "colab_type": "text"
      },
      "cell_type": "markdown",
      "source": [
        "### Fine-tuning"
      ]
    },
    {
      "metadata": {
        "id": "OX_ypWJwxcIk",
        "colab_type": "text"
      },
      "cell_type": "markdown",
      "source": [
        "Modifier modèle précédemment entrainé: rendre les couches supérieures entrainables"
      ]
    },
    {
      "metadata": {
        "id": "OWPHUdsoZdaG",
        "colab_type": "code",
        "outputId": "29156bfb-a4ad-4b2b-8bff-f72cf1808e93",
        "colab": {
          "base_uri": "https://localhost:8080/",
          "height": 131
        }
      },
      "cell_type": "code",
      "source": [
        "!cp drive/My\\ Drive/Projets\\ Formation/Projet\\ 7/models/vgg16_regularized.h5 .\n",
        "vgg_model = models.load_model('vgg16_regularized.h5')\n",
        "\n",
        "train_generator, valid_generator, test_generator =\\\n",
        "  create_generators(\n",
        "    base_dir = 'data', \n",
        "    batch_size = 128, \n",
        "    side_length = 224, \n",
        "    augmentation = True,\n",
        "    preprocess_input = vgg16_preprocess_input\n",
        ")\n",
        "\n",
        "image_shape = train_generator.image_shape\n",
        "batch_size = train_generator.batch_size\n",
        "n_classes = train_generator.num_classes"
      ],
      "execution_count": 0,
      "outputs": [
        {
          "output_type": "stream",
          "text": [
            "/usr/local/lib/python3.6/dist-packages/keras/engine/saving.py:327: UserWarning: Error in loading the saved optimizer state. As a result, your model is starting with a freshly initialized optimizer.\n",
            "  warnings.warn('Error in loading the saved optimizer '\n"
          ],
          "name": "stderr"
        },
        {
          "output_type": "stream",
          "text": [
            "Found 12345 images belonging to 120 classes.\n",
            "Found 4111 images belonging to 120 classes.\n",
            "Found 4124 images belonging to 120 classes.\n"
          ],
          "name": "stdout"
        }
      ]
    },
    {
      "metadata": {
        "id": "236xAxLurRoT",
        "colab_type": "code",
        "outputId": "4a1b4dad-74be-48d1-c642-67532d4999f8",
        "colab": {
          "base_uri": "https://localhost:8080/",
          "height": 357
        }
      },
      "cell_type": "code",
      "source": [
        "vgg_model.layers[0].trainable = True\n",
        "set_trainable = False\n",
        "\n",
        "for layer in vgg_model.layers[0].layers:\n",
        "  # if layer.name == 'block3_conv1':\n",
        "  #  set_trainable = True\n",
        "  #  print(\"*\"*20)\n",
        "  layer.trainable = True\n",
        "  \n",
        "  print(layer.name, layer.trainable)"
      ],
      "execution_count": 0,
      "outputs": [
        {
          "output_type": "stream",
          "text": [
            "input_1 False\n",
            "block1_conv1 False\n",
            "block1_conv2 False\n",
            "block1_pool False\n",
            "block2_conv1 False\n",
            "block2_conv2 False\n",
            "block2_pool False\n",
            "********************\n",
            "block3_conv1 True\n",
            "block3_conv2 True\n",
            "block3_conv3 True\n",
            "block3_pool True\n",
            "block4_conv1 True\n",
            "block4_conv2 True\n",
            "block4_conv3 True\n",
            "block4_pool True\n",
            "block5_conv1 True\n",
            "block5_conv2 True\n",
            "block5_conv3 True\n",
            "block5_pool True\n"
          ],
          "name": "stdout"
        }
      ]
    },
    {
      "metadata": {
        "id": "eOCyQmZaxcIm",
        "colab_type": "code",
        "outputId": "9ea22b7b-088f-4170-a239-c7d28181098e",
        "colab": {
          "base_uri": "https://localhost:8080/",
          "height": 306
        }
      },
      "cell_type": "code",
      "source": [
        "vgg_model.compile(optimizer=Adam(lr=1e-5),\n",
        "                  loss='categorical_crossentropy', \n",
        "                  metrics=['acc'])\n",
        "vgg_model.summary()"
      ],
      "execution_count": 0,
      "outputs": [
        {
          "output_type": "stream",
          "text": [
            "_________________________________________________________________\n",
            "Layer (type)                 Output Shape              Param #   \n",
            "=================================================================\n",
            "vgg16 (Model)                (None, 7, 7, 512)         14714688  \n",
            "_________________________________________________________________\n",
            "flatten_1 (Flatten)          (None, 25088)             0         \n",
            "_________________________________________________________________\n",
            "dense_1 (Dense)              (None, 2048)              51382272  \n",
            "_________________________________________________________________\n",
            "dropout_1 (Dropout)          (None, 2048)              0         \n",
            "_________________________________________________________________\n",
            "dense_2 (Dense)              (None, 120)               245880    \n",
            "=================================================================\n",
            "Total params: 66,342,840\n",
            "Trainable params: 66,342,840\n",
            "Non-trainable params: 0\n",
            "_________________________________________________________________\n"
          ],
          "name": "stdout"
        }
      ]
    },
    {
      "metadata": {
        "id": "y2FolOWnxcIn",
        "colab_type": "text"
      },
      "cell_type": "markdown",
      "source": [
        "Entrainer et évaluer"
      ]
    },
    {
      "metadata": {
        "id": "ABIswY_fxcIo",
        "colab_type": "code",
        "outputId": "f7c0c604-daad-4c39-b3fd-1f79ea4a9897",
        "colab": {
          "base_uri": "https://localhost:8080/",
          "height": 1020
        }
      },
      "cell_type": "code",
      "source": [
        "##############\n",
        "# 92 MINUTES #\n",
        "##############\n",
        "\n",
        "callbacks = [\n",
        "    EarlyStopping(patience=5, min_delta=0.005),\n",
        "    ModelCheckpoint('vgg16_tuned.h5', save_best_only=True),\n",
        "]\n",
        "\n",
        "history = vgg_model.fit_generator(\n",
        "    generator = train_generator, \n",
        "    steps_per_epoch = np.ceil(train_generator.n/batch_size),  \n",
        "    validation_data = valid_generator, \n",
        "    validation_steps = np.ceil(valid_generator.n/batch_size),\n",
        "    epochs=100, verbose=1, callbacks=callbacks)"
      ],
      "execution_count": 0,
      "outputs": [
        {
          "output_type": "stream",
          "text": [
            "Epoch 1/100\n",
            "97/97 [==============================] - 460s 5s/step - loss: 1.7958 - acc: 0.5030 - val_loss: 1.0302 - val_acc: 0.7069\n",
            "Epoch 2/100\n",
            "97/97 [==============================] - 418s 4s/step - loss: 1.5810 - acc: 0.5514 - val_loss: 0.9677 - val_acc: 0.7244\n",
            "Epoch 3/100\n",
            "97/97 [==============================] - 424s 4s/step - loss: 1.5326 - acc: 0.5657 - val_loss: 0.9364 - val_acc: 0.7244\n",
            "Epoch 4/100\n",
            "97/97 [==============================] - 418s 4s/step - loss: 1.4506 - acc: 0.5843 - val_loss: 0.9529 - val_acc: 0.7261\n",
            "Epoch 5/100\n",
            "97/97 [==============================] - 420s 4s/step - loss: 1.4003 - acc: 0.5949 - val_loss: 0.9257 - val_acc: 0.7307\n",
            "Epoch 6/100\n",
            "97/97 [==============================] - 417s 4s/step - loss: 1.3248 - acc: 0.6144 - val_loss: 0.8981 - val_acc: 0.7412\n",
            "Epoch 7/100\n",
            "97/97 [==============================] - 416s 4s/step - loss: 1.3028 - acc: 0.6237 - val_loss: 0.8883 - val_acc: 0.7439\n",
            "Epoch 8/100\n",
            "97/97 [==============================] - 416s 4s/step - loss: 1.2600 - acc: 0.6272 - val_loss: 0.9049 - val_acc: 0.7375\n",
            "Epoch 9/100\n",
            "97/97 [==============================] - 420s 4s/step - loss: 1.2437 - acc: 0.6312 - val_loss: 0.8899 - val_acc: 0.7412\n",
            "Epoch 10/100\n",
            "97/97 [==============================] - 418s 4s/step - loss: 1.1982 - acc: 0.6475 - val_loss: 0.9101 - val_acc: 0.7397\n",
            "Epoch 11/100\n",
            "97/97 [==============================] - 416s 4s/step - loss: 1.1558 - acc: 0.6564 - val_loss: 0.9051 - val_acc: 0.7356\n",
            "Epoch 12/100\n",
            "97/97 [==============================] - 417s 4s/step - loss: 1.1367 - acc: 0.6651 - val_loss: 0.8935 - val_acc: 0.7419\n"
          ],
          "name": "stdout"
        }
      ]
    },
    {
      "metadata": {
        "id": "NmH_PlhFxcIp",
        "colab_type": "code",
        "outputId": "15de7148-8cd7-4ded-9b1c-8efd8e1588c8",
        "colab": {
          "base_uri": "https://localhost:8080/",
          "height": 777
        }
      },
      "cell_type": "code",
      "source": [
        "learning_curves(history, mult_ticks=4)"
      ],
      "execution_count": 0,
      "outputs": [
        {
          "output_type": "display_data",
          "data": {
            "text/plain": [
              "<matplotlib.figure.Figure at 0x7f3e19f06f28>"
            ],
            "image/svg+xml": "<?xml version=\"1.0\" encoding=\"utf-8\" standalone=\"no\"?>\n<!DOCTYPE svg PUBLIC \"-//W3C//DTD SVG 1.1//EN\"\n  \"http://www.w3.org/Graphics/SVG/1.1/DTD/svg11.dtd\">\n<!-- Created with matplotlib (http://matplotlib.org/) -->\n<svg height=\"567pt\" version=\"1.1\" viewBox=\"0 0 568 567\" width=\"568pt\" xmlns=\"http://www.w3.org/2000/svg\" xmlns:xlink=\"http://www.w3.org/1999/xlink\">\n <defs>\n  <style type=\"text/css\">\n*{stroke-linecap:butt;stroke-linejoin:round;}\n  </style>\n </defs>\n <g id=\"figure_1\">\n  <g id=\"patch_1\">\n   <path d=\"M 0 567.59625 \nL 568.815625 567.59625 \nL 568.815625 0 \nL 0 0 \nz\n\" style=\"fill:none;\"/>\n  </g>\n  <g id=\"axes_1\">\n   <g id=\"patch_2\">\n    <path d=\"M 36.465625 267.868125 \nL 558.115625 267.868125 \nL 558.115625 22.318125 \nL 36.465625 22.318125 \nz\n\" style=\"fill:#ffffff;\"/>\n   </g>\n   <g id=\"matplotlib.axis_1\">\n    <g id=\"xtick_1\">\n     <g id=\"line2d_1\">\n      <defs>\n       <path d=\"M 0 0 \nL 0 3.5 \n\" id=\"m1613719b4e\" style=\"stroke:#000000;stroke-width:0.8;\"/>\n      </defs>\n      <g>\n       <use style=\"stroke:#000000;stroke-width:0.8;\" x=\"189.511699\" xlink:href=\"#m1613719b4e\" y=\"267.868125\"/>\n      </g>\n     </g>\n    </g>\n    <g id=\"xtick_2\">\n     <g id=\"line2d_2\">\n      <g>\n       <use style=\"stroke:#000000;stroke-width:0.8;\" x=\"361.95798\" xlink:href=\"#m1613719b4e\" y=\"267.868125\"/>\n      </g>\n     </g>\n    </g>\n    <g id=\"xtick_3\">\n     <g id=\"line2d_3\">\n      <g>\n       <use style=\"stroke:#000000;stroke-width:0.8;\" x=\"534.404261\" xlink:href=\"#m1613719b4e\" y=\"267.868125\"/>\n      </g>\n     </g>\n    </g>\n   </g>\n   <g id=\"matplotlib.axis_2\">\n    <g id=\"ytick_1\">\n     <g id=\"line2d_4\">\n      <defs>\n       <path d=\"M 0 0 \nL -3.5 0 \n\" id=\"m27ad003194\" style=\"stroke:#000000;stroke-width:0.8;\"/>\n      </defs>\n      <g>\n       <use style=\"stroke:#000000;stroke-width:0.8;\" x=\"36.465625\" xlink:href=\"#m27ad003194\" y=\"259.370548\"/>\n      </g>\n     </g>\n     <g id=\"text_1\">\n      <!-- 0.50 -->\n      <defs>\n       <path d=\"M 31.78125 66.40625 \nQ 24.171875 66.40625 20.328125 58.90625 \nQ 16.5 51.421875 16.5 36.375 \nQ 16.5 21.390625 20.328125 13.890625 \nQ 24.171875 6.390625 31.78125 6.390625 \nQ 39.453125 6.390625 43.28125 13.890625 \nQ 47.125 21.390625 47.125 36.375 \nQ 47.125 51.421875 43.28125 58.90625 \nQ 39.453125 66.40625 31.78125 66.40625 \nz\nM 31.78125 74.21875 \nQ 44.046875 74.21875 50.515625 64.515625 \nQ 56.984375 54.828125 56.984375 36.375 \nQ 56.984375 17.96875 50.515625 8.265625 \nQ 44.046875 -1.421875 31.78125 -1.421875 \nQ 19.53125 -1.421875 13.0625 8.265625 \nQ 6.59375 17.96875 6.59375 36.375 \nQ 6.59375 54.828125 13.0625 64.515625 \nQ 19.53125 74.21875 31.78125 74.21875 \nz\n\" id=\"DejaVuSans-30\"/>\n       <path d=\"M 10.6875 12.40625 \nL 21 12.40625 \nL 21 0 \nL 10.6875 0 \nz\n\" id=\"DejaVuSans-2e\"/>\n       <path d=\"M 10.796875 72.90625 \nL 49.515625 72.90625 \nL 49.515625 64.59375 \nL 19.828125 64.59375 \nL 19.828125 46.734375 \nQ 21.96875 47.46875 24.109375 47.828125 \nQ 26.265625 48.1875 28.421875 48.1875 \nQ 40.625 48.1875 47.75 41.5 \nQ 54.890625 34.8125 54.890625 23.390625 \nQ 54.890625 11.625 47.5625 5.09375 \nQ 40.234375 -1.421875 26.90625 -1.421875 \nQ 22.3125 -1.421875 17.546875 -0.640625 \nQ 12.796875 0.140625 7.71875 1.703125 \nL 7.71875 11.625 \nQ 12.109375 9.234375 16.796875 8.0625 \nQ 21.484375 6.890625 26.703125 6.890625 \nQ 35.15625 6.890625 40.078125 11.328125 \nQ 45.015625 15.765625 45.015625 23.390625 \nQ 45.015625 31 40.078125 35.4375 \nQ 35.15625 39.890625 26.703125 39.890625 \nQ 22.75 39.890625 18.8125 39.015625 \nQ 14.890625 38.140625 10.796875 36.28125 \nz\n\" id=\"DejaVuSans-35\"/>\n      </defs>\n      <g transform=\"translate(7.2 263.169767)scale(0.1 -0.1)\">\n       <use xlink:href=\"#DejaVuSans-30\"/>\n       <use x=\"63.623047\" xlink:href=\"#DejaVuSans-2e\"/>\n       <use x=\"95.410156\" xlink:href=\"#DejaVuSans-35\"/>\n       <use x=\"159.033203\" xlink:href=\"#DejaVuSans-30\"/>\n      </g>\n     </g>\n    </g>\n    <g id=\"ytick_2\">\n     <g id=\"line2d_5\">\n      <g>\n       <use style=\"stroke:#000000;stroke-width:0.8;\" x=\"36.465625\" xlink:href=\"#m27ad003194\" y=\"213.054431\"/>\n      </g>\n     </g>\n     <g id=\"text_2\">\n      <!-- 0.55 -->\n      <g transform=\"translate(7.2 216.85365)scale(0.1 -0.1)\">\n       <use xlink:href=\"#DejaVuSans-30\"/>\n       <use x=\"63.623047\" xlink:href=\"#DejaVuSans-2e\"/>\n       <use x=\"95.410156\" xlink:href=\"#DejaVuSans-35\"/>\n       <use x=\"159.033203\" xlink:href=\"#DejaVuSans-35\"/>\n      </g>\n     </g>\n    </g>\n    <g id=\"ytick_3\">\n     <g id=\"line2d_6\">\n      <g>\n       <use style=\"stroke:#000000;stroke-width:0.8;\" x=\"36.465625\" xlink:href=\"#m27ad003194\" y=\"166.738314\"/>\n      </g>\n     </g>\n     <g id=\"text_3\">\n      <!-- 0.60 -->\n      <defs>\n       <path d=\"M 33.015625 40.375 \nQ 26.375 40.375 22.484375 35.828125 \nQ 18.609375 31.296875 18.609375 23.390625 \nQ 18.609375 15.53125 22.484375 10.953125 \nQ 26.375 6.390625 33.015625 6.390625 \nQ 39.65625 6.390625 43.53125 10.953125 \nQ 47.40625 15.53125 47.40625 23.390625 \nQ 47.40625 31.296875 43.53125 35.828125 \nQ 39.65625 40.375 33.015625 40.375 \nz\nM 52.59375 71.296875 \nL 52.59375 62.3125 \nQ 48.875 64.0625 45.09375 64.984375 \nQ 41.3125 65.921875 37.59375 65.921875 \nQ 27.828125 65.921875 22.671875 59.328125 \nQ 17.53125 52.734375 16.796875 39.40625 \nQ 19.671875 43.65625 24.015625 45.921875 \nQ 28.375 48.1875 33.59375 48.1875 \nQ 44.578125 48.1875 50.953125 41.515625 \nQ 57.328125 34.859375 57.328125 23.390625 \nQ 57.328125 12.15625 50.6875 5.359375 \nQ 44.046875 -1.421875 33.015625 -1.421875 \nQ 20.359375 -1.421875 13.671875 8.265625 \nQ 6.984375 17.96875 6.984375 36.375 \nQ 6.984375 53.65625 15.1875 63.9375 \nQ 23.390625 74.21875 37.203125 74.21875 \nQ 40.921875 74.21875 44.703125 73.484375 \nQ 48.484375 72.75 52.59375 71.296875 \nz\n\" id=\"DejaVuSans-36\"/>\n      </defs>\n      <g transform=\"translate(7.2 170.537533)scale(0.1 -0.1)\">\n       <use xlink:href=\"#DejaVuSans-30\"/>\n       <use x=\"63.623047\" xlink:href=\"#DejaVuSans-2e\"/>\n       <use x=\"95.410156\" xlink:href=\"#DejaVuSans-36\"/>\n       <use x=\"159.033203\" xlink:href=\"#DejaVuSans-30\"/>\n      </g>\n     </g>\n    </g>\n    <g id=\"ytick_4\">\n     <g id=\"line2d_7\">\n      <g>\n       <use style=\"stroke:#000000;stroke-width:0.8;\" x=\"36.465625\" xlink:href=\"#m27ad003194\" y=\"120.422197\"/>\n      </g>\n     </g>\n     <g id=\"text_4\">\n      <!-- 0.65 -->\n      <g transform=\"translate(7.2 124.221416)scale(0.1 -0.1)\">\n       <use xlink:href=\"#DejaVuSans-30\"/>\n       <use x=\"63.623047\" xlink:href=\"#DejaVuSans-2e\"/>\n       <use x=\"95.410156\" xlink:href=\"#DejaVuSans-36\"/>\n       <use x=\"159.033203\" xlink:href=\"#DejaVuSans-35\"/>\n      </g>\n     </g>\n    </g>\n    <g id=\"ytick_5\">\n     <g id=\"line2d_8\">\n      <g>\n       <use style=\"stroke:#000000;stroke-width:0.8;\" x=\"36.465625\" xlink:href=\"#m27ad003194\" y=\"74.10608\"/>\n      </g>\n     </g>\n     <g id=\"text_5\">\n      <!-- 0.70 -->\n      <defs>\n       <path d=\"M 8.203125 72.90625 \nL 55.078125 72.90625 \nL 55.078125 68.703125 \nL 28.609375 0 \nL 18.3125 0 \nL 43.21875 64.59375 \nL 8.203125 64.59375 \nz\n\" id=\"DejaVuSans-37\"/>\n      </defs>\n      <g transform=\"translate(7.2 77.905299)scale(0.1 -0.1)\">\n       <use xlink:href=\"#DejaVuSans-30\"/>\n       <use x=\"63.623047\" xlink:href=\"#DejaVuSans-2e\"/>\n       <use x=\"95.410156\" xlink:href=\"#DejaVuSans-37\"/>\n       <use x=\"159.033203\" xlink:href=\"#DejaVuSans-30\"/>\n      </g>\n     </g>\n    </g>\n    <g id=\"ytick_6\">\n     <g id=\"line2d_9\">\n      <g>\n       <use style=\"stroke:#000000;stroke-width:0.8;\" x=\"36.465625\" xlink:href=\"#m27ad003194\" y=\"27.789963\"/>\n      </g>\n     </g>\n     <g id=\"text_6\">\n      <!-- 0.75 -->\n      <g transform=\"translate(7.2 31.589182)scale(0.1 -0.1)\">\n       <use xlink:href=\"#DejaVuSans-30\"/>\n       <use x=\"63.623047\" xlink:href=\"#DejaVuSans-2e\"/>\n       <use x=\"95.410156\" xlink:href=\"#DejaVuSans-37\"/>\n       <use x=\"159.033203\" xlink:href=\"#DejaVuSans-35\"/>\n      </g>\n     </g>\n    </g>\n   </g>\n   <g id=\"line2d_10\">\n    <defs>\n     <path d=\"M 0 3 \nC 0.795609 3 1.55874 2.683901 2.12132 2.12132 \nC 2.683901 1.55874 3 0.795609 3 0 \nC 3 -0.795609 2.683901 -1.55874 2.12132 -2.12132 \nC 1.55874 -2.683901 0.795609 -3 0 -3 \nC -0.795609 -3 -1.55874 -2.683901 -2.12132 -2.12132 \nC -2.683901 -1.55874 -3 -0.795609 -3 0 \nC -3 0.795609 -2.683901 1.55874 -2.12132 2.12132 \nC -1.55874 2.683901 -0.795609 3 0 3 \nz\n\" id=\"mff58d49ba9\" style=\"stroke:#0000ff;\"/>\n    </defs>\n    <g clip-path=\"url(#pf54d696ee7)\">\n     <use style=\"fill:#0000ff;stroke:#0000ff;\" x=\"60.176989\" xlink:href=\"#mff58d49ba9\" y=\"256.706761\"/>\n     <use style=\"fill:#0000ff;stroke:#0000ff;\" x=\"103.288559\" xlink:href=\"#mff58d49ba9\" y=\"212.285309\"/>\n     <use style=\"fill:#0000ff;stroke:#0000ff;\" x=\"146.400129\" xlink:href=\"#mff58d49ba9\" y=\"198.028425\"/>\n     <use style=\"fill:#0000ff;stroke:#0000ff;\" x=\"189.511699\" xlink:href=\"#mff58d49ba9\" y=\"181.445416\"/>\n     <use style=\"fill:#0000ff;stroke:#0000ff;\" x=\"232.62327\" xlink:href=\"#mff58d49ba9\" y=\"171.315524\"/>\n     <use style=\"fill:#0000ff;stroke:#0000ff;\" x=\"275.73484\" xlink:href=\"#mff58d49ba9\" y=\"153.231791\"/>\n     <use style=\"fill:#0000ff;stroke:#0000ff;\" x=\"318.84641\" xlink:href=\"#mff58d49ba9\" y=\"145.202914\"/>\n     <use style=\"fill:#0000ff;stroke:#0000ff;\" x=\"361.95798\" xlink:href=\"#mff58d49ba9\" y=\"141.225994\"/>\n     <use style=\"fill:#0000ff;stroke:#0000ff;\" x=\"405.069551\" xlink:href=\"#mff58d49ba9\" y=\"137.399146\"/>\n     <use style=\"fill:#0000ff;stroke:#0000ff;\" x=\"448.181121\" xlink:href=\"#mff58d49ba9\" y=\"123.067224\"/>\n     <use style=\"fill:#0000ff;stroke:#0000ff;\" x=\"491.292691\" xlink:href=\"#mff58d49ba9\" y=\"114.813238\"/>\n     <use style=\"fill:#0000ff;stroke:#0000ff;\" x=\"534.404261\" xlink:href=\"#mff58d49ba9\" y=\"106.334144\"/>\n    </g>\n   </g>\n   <g id=\"line2d_11\">\n    <path clip-path=\"url(#pf54d696ee7)\" d=\"M 60.176989 67.729305 \nL 103.288559 51.505708 \nL 146.400129 51.505708 \nL 189.511699 49.928414 \nL 232.62327 45.647187 \nL 275.73484 35.958094 \nL 318.84641 33.479489 \nL 361.95798 39.33801 \nL 405.069551 35.958094 \nL 448.181121 37.31006 \nL 491.292691 41.140632 \nL 534.404261 35.282111 \n\" style=\"fill:none;stroke:#0000ff;stroke-linecap:square;stroke-width:1.5;\"/>\n   </g>\n   <g id=\"patch_3\">\n    <path d=\"M 36.465625 267.868125 \nL 36.465625 22.318125 \n\" style=\"fill:none;stroke:#000000;stroke-linecap:square;stroke-linejoin:miter;stroke-width:0.8;\"/>\n   </g>\n   <g id=\"patch_4\">\n    <path d=\"M 558.115625 267.868125 \nL 558.115625 22.318125 \n\" style=\"fill:none;stroke:#000000;stroke-linecap:square;stroke-linejoin:miter;stroke-width:0.8;\"/>\n   </g>\n   <g id=\"patch_5\">\n    <path d=\"M 36.465625 267.868125 \nL 558.115625 267.868125 \n\" style=\"fill:none;stroke:#000000;stroke-linecap:square;stroke-linejoin:miter;stroke-width:0.8;\"/>\n   </g>\n   <g id=\"patch_6\">\n    <path d=\"M 36.465625 22.318125 \nL 558.115625 22.318125 \n\" style=\"fill:none;stroke:#000000;stroke-linecap:square;stroke-linejoin:miter;stroke-width:0.8;\"/>\n   </g>\n   <g id=\"text_7\">\n    <!-- Training and Validation accuracy -->\n    <defs>\n     <path d=\"M -0.296875 72.90625 \nL 61.375 72.90625 \nL 61.375 64.59375 \nL 35.5 64.59375 \nL 35.5 0 \nL 25.59375 0 \nL 25.59375 64.59375 \nL -0.296875 64.59375 \nz\n\" id=\"DejaVuSans-54\"/>\n     <path d=\"M 41.109375 46.296875 \nQ 39.59375 47.171875 37.8125 47.578125 \nQ 36.03125 48 33.890625 48 \nQ 26.265625 48 22.1875 43.046875 \nQ 18.109375 38.09375 18.109375 28.8125 \nL 18.109375 0 \nL 9.078125 0 \nL 9.078125 54.6875 \nL 18.109375 54.6875 \nL 18.109375 46.1875 \nQ 20.953125 51.171875 25.484375 53.578125 \nQ 30.03125 56 36.53125 56 \nQ 37.453125 56 38.578125 55.875 \nQ 39.703125 55.765625 41.0625 55.515625 \nz\n\" id=\"DejaVuSans-72\"/>\n     <path d=\"M 34.28125 27.484375 \nQ 23.390625 27.484375 19.1875 25 \nQ 14.984375 22.515625 14.984375 16.5 \nQ 14.984375 11.71875 18.140625 8.90625 \nQ 21.296875 6.109375 26.703125 6.109375 \nQ 34.1875 6.109375 38.703125 11.40625 \nQ 43.21875 16.703125 43.21875 25.484375 \nL 43.21875 27.484375 \nz\nM 52.203125 31.203125 \nL 52.203125 0 \nL 43.21875 0 \nL 43.21875 8.296875 \nQ 40.140625 3.328125 35.546875 0.953125 \nQ 30.953125 -1.421875 24.3125 -1.421875 \nQ 15.921875 -1.421875 10.953125 3.296875 \nQ 6 8.015625 6 15.921875 \nQ 6 25.140625 12.171875 29.828125 \nQ 18.359375 34.515625 30.609375 34.515625 \nL 43.21875 34.515625 \nL 43.21875 35.40625 \nQ 43.21875 41.609375 39.140625 45 \nQ 35.0625 48.390625 27.6875 48.390625 \nQ 23 48.390625 18.546875 47.265625 \nQ 14.109375 46.140625 10.015625 43.890625 \nL 10.015625 52.203125 \nQ 14.9375 54.109375 19.578125 55.046875 \nQ 24.21875 56 28.609375 56 \nQ 40.484375 56 46.34375 49.84375 \nQ 52.203125 43.703125 52.203125 31.203125 \nz\n\" id=\"DejaVuSans-61\"/>\n     <path d=\"M 9.421875 54.6875 \nL 18.40625 54.6875 \nL 18.40625 0 \nL 9.421875 0 \nz\nM 9.421875 75.984375 \nL 18.40625 75.984375 \nL 18.40625 64.59375 \nL 9.421875 64.59375 \nz\n\" id=\"DejaVuSans-69\"/>\n     <path d=\"M 54.890625 33.015625 \nL 54.890625 0 \nL 45.90625 0 \nL 45.90625 32.71875 \nQ 45.90625 40.484375 42.875 44.328125 \nQ 39.84375 48.1875 33.796875 48.1875 \nQ 26.515625 48.1875 22.3125 43.546875 \nQ 18.109375 38.921875 18.109375 30.90625 \nL 18.109375 0 \nL 9.078125 0 \nL 9.078125 54.6875 \nL 18.109375 54.6875 \nL 18.109375 46.1875 \nQ 21.34375 51.125 25.703125 53.5625 \nQ 30.078125 56 35.796875 56 \nQ 45.21875 56 50.046875 50.171875 \nQ 54.890625 44.34375 54.890625 33.015625 \nz\n\" id=\"DejaVuSans-6e\"/>\n     <path d=\"M 45.40625 27.984375 \nQ 45.40625 37.75 41.375 43.109375 \nQ 37.359375 48.484375 30.078125 48.484375 \nQ 22.859375 48.484375 18.828125 43.109375 \nQ 14.796875 37.75 14.796875 27.984375 \nQ 14.796875 18.265625 18.828125 12.890625 \nQ 22.859375 7.515625 30.078125 7.515625 \nQ 37.359375 7.515625 41.375 12.890625 \nQ 45.40625 18.265625 45.40625 27.984375 \nz\nM 54.390625 6.78125 \nQ 54.390625 -7.171875 48.1875 -13.984375 \nQ 42 -20.796875 29.203125 -20.796875 \nQ 24.46875 -20.796875 20.265625 -20.09375 \nQ 16.0625 -19.390625 12.109375 -17.921875 \nL 12.109375 -9.1875 \nQ 16.0625 -11.328125 19.921875 -12.34375 \nQ 23.78125 -13.375 27.78125 -13.375 \nQ 36.625 -13.375 41.015625 -8.765625 \nQ 45.40625 -4.15625 45.40625 5.171875 \nL 45.40625 9.625 \nQ 42.625 4.78125 38.28125 2.390625 \nQ 33.9375 0 27.875 0 \nQ 17.828125 0 11.671875 7.65625 \nQ 5.515625 15.328125 5.515625 27.984375 \nQ 5.515625 40.671875 11.671875 48.328125 \nQ 17.828125 56 27.875 56 \nQ 33.9375 56 38.28125 53.609375 \nQ 42.625 51.21875 45.40625 46.390625 \nL 45.40625 54.6875 \nL 54.390625 54.6875 \nz\n\" id=\"DejaVuSans-67\"/>\n     <path id=\"DejaVuSans-20\"/>\n     <path d=\"M 45.40625 46.390625 \nL 45.40625 75.984375 \nL 54.390625 75.984375 \nL 54.390625 0 \nL 45.40625 0 \nL 45.40625 8.203125 \nQ 42.578125 3.328125 38.25 0.953125 \nQ 33.9375 -1.421875 27.875 -1.421875 \nQ 17.96875 -1.421875 11.734375 6.484375 \nQ 5.515625 14.40625 5.515625 27.296875 \nQ 5.515625 40.1875 11.734375 48.09375 \nQ 17.96875 56 27.875 56 \nQ 33.9375 56 38.25 53.625 \nQ 42.578125 51.265625 45.40625 46.390625 \nz\nM 14.796875 27.296875 \nQ 14.796875 17.390625 18.875 11.75 \nQ 22.953125 6.109375 30.078125 6.109375 \nQ 37.203125 6.109375 41.296875 11.75 \nQ 45.40625 17.390625 45.40625 27.296875 \nQ 45.40625 37.203125 41.296875 42.84375 \nQ 37.203125 48.484375 30.078125 48.484375 \nQ 22.953125 48.484375 18.875 42.84375 \nQ 14.796875 37.203125 14.796875 27.296875 \nz\n\" id=\"DejaVuSans-64\"/>\n     <path d=\"M 28.609375 0 \nL 0.78125 72.90625 \nL 11.078125 72.90625 \nL 34.1875 11.53125 \nL 57.328125 72.90625 \nL 67.578125 72.90625 \nL 39.796875 0 \nz\n\" id=\"DejaVuSans-56\"/>\n     <path d=\"M 9.421875 75.984375 \nL 18.40625 75.984375 \nL 18.40625 0 \nL 9.421875 0 \nz\n\" id=\"DejaVuSans-6c\"/>\n     <path d=\"M 18.3125 70.21875 \nL 18.3125 54.6875 \nL 36.8125 54.6875 \nL 36.8125 47.703125 \nL 18.3125 47.703125 \nL 18.3125 18.015625 \nQ 18.3125 11.328125 20.140625 9.421875 \nQ 21.96875 7.515625 27.59375 7.515625 \nL 36.8125 7.515625 \nL 36.8125 0 \nL 27.59375 0 \nQ 17.1875 0 13.234375 3.875 \nQ 9.28125 7.765625 9.28125 18.015625 \nL 9.28125 47.703125 \nL 2.6875 47.703125 \nL 2.6875 54.6875 \nL 9.28125 54.6875 \nL 9.28125 70.21875 \nz\n\" id=\"DejaVuSans-74\"/>\n     <path d=\"M 30.609375 48.390625 \nQ 23.390625 48.390625 19.1875 42.75 \nQ 14.984375 37.109375 14.984375 27.296875 \nQ 14.984375 17.484375 19.15625 11.84375 \nQ 23.34375 6.203125 30.609375 6.203125 \nQ 37.796875 6.203125 41.984375 11.859375 \nQ 46.1875 17.53125 46.1875 27.296875 \nQ 46.1875 37.015625 41.984375 42.703125 \nQ 37.796875 48.390625 30.609375 48.390625 \nz\nM 30.609375 56 \nQ 42.328125 56 49.015625 48.375 \nQ 55.71875 40.765625 55.71875 27.296875 \nQ 55.71875 13.875 49.015625 6.21875 \nQ 42.328125 -1.421875 30.609375 -1.421875 \nQ 18.84375 -1.421875 12.171875 6.21875 \nQ 5.515625 13.875 5.515625 27.296875 \nQ 5.515625 40.765625 12.171875 48.375 \nQ 18.84375 56 30.609375 56 \nz\n\" id=\"DejaVuSans-6f\"/>\n     <path d=\"M 48.78125 52.59375 \nL 48.78125 44.1875 \nQ 44.96875 46.296875 41.140625 47.34375 \nQ 37.3125 48.390625 33.40625 48.390625 \nQ 24.65625 48.390625 19.8125 42.84375 \nQ 14.984375 37.3125 14.984375 27.296875 \nQ 14.984375 17.28125 19.8125 11.734375 \nQ 24.65625 6.203125 33.40625 6.203125 \nQ 37.3125 6.203125 41.140625 7.25 \nQ 44.96875 8.296875 48.78125 10.40625 \nL 48.78125 2.09375 \nQ 45.015625 0.34375 40.984375 -0.53125 \nQ 36.96875 -1.421875 32.421875 -1.421875 \nQ 20.0625 -1.421875 12.78125 6.34375 \nQ 5.515625 14.109375 5.515625 27.296875 \nQ 5.515625 40.671875 12.859375 48.328125 \nQ 20.21875 56 33.015625 56 \nQ 37.15625 56 41.109375 55.140625 \nQ 45.0625 54.296875 48.78125 52.59375 \nz\n\" id=\"DejaVuSans-63\"/>\n     <path d=\"M 8.5 21.578125 \nL 8.5 54.6875 \nL 17.484375 54.6875 \nL 17.484375 21.921875 \nQ 17.484375 14.15625 20.5 10.265625 \nQ 23.53125 6.390625 29.59375 6.390625 \nQ 36.859375 6.390625 41.078125 11.03125 \nQ 45.3125 15.671875 45.3125 23.6875 \nL 45.3125 54.6875 \nL 54.296875 54.6875 \nL 54.296875 0 \nL 45.3125 0 \nL 45.3125 8.40625 \nQ 42.046875 3.421875 37.71875 1 \nQ 33.40625 -1.421875 27.6875 -1.421875 \nQ 18.265625 -1.421875 13.375 4.4375 \nQ 8.5 10.296875 8.5 21.578125 \nz\nM 31.109375 56 \nz\n\" id=\"DejaVuSans-75\"/>\n     <path d=\"M 32.171875 -5.078125 \nQ 28.375 -14.84375 24.75 -17.8125 \nQ 21.140625 -20.796875 15.09375 -20.796875 \nL 7.90625 -20.796875 \nL 7.90625 -13.28125 \nL 13.1875 -13.28125 \nQ 16.890625 -13.28125 18.9375 -11.515625 \nQ 21 -9.765625 23.484375 -3.21875 \nL 25.09375 0.875 \nL 2.984375 54.6875 \nL 12.5 54.6875 \nL 29.59375 11.921875 \nL 46.6875 54.6875 \nL 56.203125 54.6875 \nz\n\" id=\"DejaVuSans-79\"/>\n    </defs>\n    <g transform=\"translate(198.580312 16.318125)scale(0.12 -0.12)\">\n     <use xlink:href=\"#DejaVuSans-54\"/>\n     <use x=\"60.865234\" xlink:href=\"#DejaVuSans-72\"/>\n     <use x=\"101.978516\" xlink:href=\"#DejaVuSans-61\"/>\n     <use x=\"163.257812\" xlink:href=\"#DejaVuSans-69\"/>\n     <use x=\"191.041016\" xlink:href=\"#DejaVuSans-6e\"/>\n     <use x=\"254.419922\" xlink:href=\"#DejaVuSans-69\"/>\n     <use x=\"282.203125\" xlink:href=\"#DejaVuSans-6e\"/>\n     <use x=\"345.582031\" xlink:href=\"#DejaVuSans-67\"/>\n     <use x=\"409.058594\" xlink:href=\"#DejaVuSans-20\"/>\n     <use x=\"440.845703\" xlink:href=\"#DejaVuSans-61\"/>\n     <use x=\"502.125\" xlink:href=\"#DejaVuSans-6e\"/>\n     <use x=\"565.503906\" xlink:href=\"#DejaVuSans-64\"/>\n     <use x=\"628.980469\" xlink:href=\"#DejaVuSans-20\"/>\n     <use x=\"660.767578\" xlink:href=\"#DejaVuSans-56\"/>\n     <use x=\"729.066406\" xlink:href=\"#DejaVuSans-61\"/>\n     <use x=\"790.345703\" xlink:href=\"#DejaVuSans-6c\"/>\n     <use x=\"818.128906\" xlink:href=\"#DejaVuSans-69\"/>\n     <use x=\"845.912109\" xlink:href=\"#DejaVuSans-64\"/>\n     <use x=\"909.388672\" xlink:href=\"#DejaVuSans-61\"/>\n     <use x=\"970.667969\" xlink:href=\"#DejaVuSans-74\"/>\n     <use x=\"1009.876953\" xlink:href=\"#DejaVuSans-69\"/>\n     <use x=\"1037.660156\" xlink:href=\"#DejaVuSans-6f\"/>\n     <use x=\"1098.841797\" xlink:href=\"#DejaVuSans-6e\"/>\n     <use x=\"1162.220703\" xlink:href=\"#DejaVuSans-20\"/>\n     <use x=\"1194.007812\" xlink:href=\"#DejaVuSans-61\"/>\n     <use x=\"1255.287109\" xlink:href=\"#DejaVuSans-63\"/>\n     <use x=\"1310.267578\" xlink:href=\"#DejaVuSans-63\"/>\n     <use x=\"1365.248047\" xlink:href=\"#DejaVuSans-75\"/>\n     <use x=\"1428.626953\" xlink:href=\"#DejaVuSans-72\"/>\n     <use x=\"1469.740234\" xlink:href=\"#DejaVuSans-61\"/>\n     <use x=\"1531.019531\" xlink:href=\"#DejaVuSans-63\"/>\n     <use x=\"1586\" xlink:href=\"#DejaVuSans-79\"/>\n    </g>\n   </g>\n   <g id=\"legend_1\">\n    <g id=\"patch_7\">\n     <path d=\"M 420.673438 262.868125 \nL 551.115625 262.868125 \nQ 553.115625 262.868125 553.115625 260.868125 \nL 553.115625 232.511875 \nQ 553.115625 230.511875 551.115625 230.511875 \nL 420.673438 230.511875 \nQ 418.673438 230.511875 418.673438 232.511875 \nL 418.673438 260.868125 \nQ 418.673438 262.868125 420.673438 262.868125 \nz\n\" style=\"fill:#ffffff;opacity:0.8;stroke:#cccccc;stroke-linejoin:miter;\"/>\n    </g>\n    <g id=\"line2d_12\"/>\n    <g id=\"line2d_13\">\n     <g>\n      <use style=\"fill:#0000ff;stroke:#0000ff;\" x=\"432.673438\" xlink:href=\"#mff58d49ba9\" y=\"238.610312\"/>\n     </g>\n    </g>\n    <g id=\"text_8\">\n     <!-- Training accuracy -->\n     <g transform=\"translate(450.673438 242.110312)scale(0.1 -0.1)\">\n      <use xlink:href=\"#DejaVuSans-54\"/>\n      <use x=\"60.865234\" xlink:href=\"#DejaVuSans-72\"/>\n      <use x=\"101.978516\" xlink:href=\"#DejaVuSans-61\"/>\n      <use x=\"163.257812\" xlink:href=\"#DejaVuSans-69\"/>\n      <use x=\"191.041016\" xlink:href=\"#DejaVuSans-6e\"/>\n      <use x=\"254.419922\" xlink:href=\"#DejaVuSans-69\"/>\n      <use x=\"282.203125\" xlink:href=\"#DejaVuSans-6e\"/>\n      <use x=\"345.582031\" xlink:href=\"#DejaVuSans-67\"/>\n      <use x=\"409.058594\" xlink:href=\"#DejaVuSans-20\"/>\n      <use x=\"440.845703\" xlink:href=\"#DejaVuSans-61\"/>\n      <use x=\"502.125\" xlink:href=\"#DejaVuSans-63\"/>\n      <use x=\"557.105469\" xlink:href=\"#DejaVuSans-63\"/>\n      <use x=\"612.085938\" xlink:href=\"#DejaVuSans-75\"/>\n      <use x=\"675.464844\" xlink:href=\"#DejaVuSans-72\"/>\n      <use x=\"716.578125\" xlink:href=\"#DejaVuSans-61\"/>\n      <use x=\"777.857422\" xlink:href=\"#DejaVuSans-63\"/>\n      <use x=\"832.837891\" xlink:href=\"#DejaVuSans-79\"/>\n     </g>\n    </g>\n    <g id=\"line2d_14\">\n     <path d=\"M 422.673438 253.288437 \nL 442.673438 253.288437 \n\" style=\"fill:none;stroke:#0000ff;stroke-linecap:square;stroke-width:1.5;\"/>\n    </g>\n    <g id=\"line2d_15\"/>\n    <g id=\"text_9\">\n     <!-- Validation accuracy -->\n     <g transform=\"translate(450.673438 256.788437)scale(0.1 -0.1)\">\n      <use xlink:href=\"#DejaVuSans-56\"/>\n      <use x=\"68.298828\" xlink:href=\"#DejaVuSans-61\"/>\n      <use x=\"129.578125\" xlink:href=\"#DejaVuSans-6c\"/>\n      <use x=\"157.361328\" xlink:href=\"#DejaVuSans-69\"/>\n      <use x=\"185.144531\" xlink:href=\"#DejaVuSans-64\"/>\n      <use x=\"248.621094\" xlink:href=\"#DejaVuSans-61\"/>\n      <use x=\"309.900391\" xlink:href=\"#DejaVuSans-74\"/>\n      <use x=\"349.109375\" xlink:href=\"#DejaVuSans-69\"/>\n      <use x=\"376.892578\" xlink:href=\"#DejaVuSans-6f\"/>\n      <use x=\"438.074219\" xlink:href=\"#DejaVuSans-6e\"/>\n      <use x=\"501.453125\" xlink:href=\"#DejaVuSans-20\"/>\n      <use x=\"533.240234\" xlink:href=\"#DejaVuSans-61\"/>\n      <use x=\"594.519531\" xlink:href=\"#DejaVuSans-63\"/>\n      <use x=\"649.5\" xlink:href=\"#DejaVuSans-63\"/>\n      <use x=\"704.480469\" xlink:href=\"#DejaVuSans-75\"/>\n      <use x=\"767.859375\" xlink:href=\"#DejaVuSans-72\"/>\n      <use x=\"808.972656\" xlink:href=\"#DejaVuSans-61\"/>\n      <use x=\"870.251953\" xlink:href=\"#DejaVuSans-63\"/>\n      <use x=\"925.232422\" xlink:href=\"#DejaVuSans-79\"/>\n     </g>\n    </g>\n   </g>\n  </g>\n  <g id=\"axes_2\">\n   <g id=\"patch_8\">\n    <path d=\"M 36.465625 543.718125 \nL 558.115625 543.718125 \nL 558.115625 298.168125 \nL 36.465625 298.168125 \nz\n\" style=\"fill:#ffffff;\"/>\n   </g>\n   <g id=\"matplotlib.axis_3\">\n    <g id=\"xtick_4\">\n     <g id=\"line2d_16\">\n      <g>\n       <use style=\"stroke:#000000;stroke-width:0.8;\" x=\"189.511699\" xlink:href=\"#m1613719b4e\" y=\"543.718125\"/>\n      </g>\n     </g>\n     <g id=\"text_10\">\n      <!-- 4 -->\n      <defs>\n       <path d=\"M 37.796875 64.3125 \nL 12.890625 25.390625 \nL 37.796875 25.390625 \nz\nM 35.203125 72.90625 \nL 47.609375 72.90625 \nL 47.609375 25.390625 \nL 58.015625 25.390625 \nL 58.015625 17.1875 \nL 47.609375 17.1875 \nL 47.609375 0 \nL 37.796875 0 \nL 37.796875 17.1875 \nL 4.890625 17.1875 \nL 4.890625 26.703125 \nz\n\" id=\"DejaVuSans-34\"/>\n      </defs>\n      <g transform=\"translate(186.330449 558.316562)scale(0.1 -0.1)\">\n       <use xlink:href=\"#DejaVuSans-34\"/>\n      </g>\n     </g>\n    </g>\n    <g id=\"xtick_5\">\n     <g id=\"line2d_17\">\n      <g>\n       <use style=\"stroke:#000000;stroke-width:0.8;\" x=\"361.95798\" xlink:href=\"#m1613719b4e\" y=\"543.718125\"/>\n      </g>\n     </g>\n     <g id=\"text_11\">\n      <!-- 8 -->\n      <defs>\n       <path d=\"M 31.78125 34.625 \nQ 24.75 34.625 20.71875 30.859375 \nQ 16.703125 27.09375 16.703125 20.515625 \nQ 16.703125 13.921875 20.71875 10.15625 \nQ 24.75 6.390625 31.78125 6.390625 \nQ 38.8125 6.390625 42.859375 10.171875 \nQ 46.921875 13.96875 46.921875 20.515625 \nQ 46.921875 27.09375 42.890625 30.859375 \nQ 38.875 34.625 31.78125 34.625 \nz\nM 21.921875 38.8125 \nQ 15.578125 40.375 12.03125 44.71875 \nQ 8.5 49.078125 8.5 55.328125 \nQ 8.5 64.0625 14.71875 69.140625 \nQ 20.953125 74.21875 31.78125 74.21875 \nQ 42.671875 74.21875 48.875 69.140625 \nQ 55.078125 64.0625 55.078125 55.328125 \nQ 55.078125 49.078125 51.53125 44.71875 \nQ 48 40.375 41.703125 38.8125 \nQ 48.828125 37.15625 52.796875 32.3125 \nQ 56.78125 27.484375 56.78125 20.515625 \nQ 56.78125 9.90625 50.3125 4.234375 \nQ 43.84375 -1.421875 31.78125 -1.421875 \nQ 19.734375 -1.421875 13.25 4.234375 \nQ 6.78125 9.90625 6.78125 20.515625 \nQ 6.78125 27.484375 10.78125 32.3125 \nQ 14.796875 37.15625 21.921875 38.8125 \nz\nM 18.3125 54.390625 \nQ 18.3125 48.734375 21.84375 45.5625 \nQ 25.390625 42.390625 31.78125 42.390625 \nQ 38.140625 42.390625 41.71875 45.5625 \nQ 45.3125 48.734375 45.3125 54.390625 \nQ 45.3125 60.0625 41.71875 63.234375 \nQ 38.140625 66.40625 31.78125 66.40625 \nQ 25.390625 66.40625 21.84375 63.234375 \nQ 18.3125 60.0625 18.3125 54.390625 \nz\n\" id=\"DejaVuSans-38\"/>\n      </defs>\n      <g transform=\"translate(358.77673 558.316562)scale(0.1 -0.1)\">\n       <use xlink:href=\"#DejaVuSans-38\"/>\n      </g>\n     </g>\n    </g>\n    <g id=\"xtick_6\">\n     <g id=\"line2d_18\">\n      <g>\n       <use style=\"stroke:#000000;stroke-width:0.8;\" x=\"534.404261\" xlink:href=\"#m1613719b4e\" y=\"543.718125\"/>\n      </g>\n     </g>\n     <g id=\"text_12\">\n      <!-- 12 -->\n      <defs>\n       <path d=\"M 12.40625 8.296875 \nL 28.515625 8.296875 \nL 28.515625 63.921875 \nL 10.984375 60.40625 \nL 10.984375 69.390625 \nL 28.421875 72.90625 \nL 38.28125 72.90625 \nL 38.28125 8.296875 \nL 54.390625 8.296875 \nL 54.390625 0 \nL 12.40625 0 \nz\n\" id=\"DejaVuSans-31\"/>\n       <path d=\"M 19.1875 8.296875 \nL 53.609375 8.296875 \nL 53.609375 0 \nL 7.328125 0 \nL 7.328125 8.296875 \nQ 12.9375 14.109375 22.625 23.890625 \nQ 32.328125 33.6875 34.8125 36.53125 \nQ 39.546875 41.84375 41.421875 45.53125 \nQ 43.3125 49.21875 43.3125 52.78125 \nQ 43.3125 58.59375 39.234375 62.25 \nQ 35.15625 65.921875 28.609375 65.921875 \nQ 23.96875 65.921875 18.8125 64.3125 \nQ 13.671875 62.703125 7.8125 59.421875 \nL 7.8125 69.390625 \nQ 13.765625 71.78125 18.9375 73 \nQ 24.125 74.21875 28.421875 74.21875 \nQ 39.75 74.21875 46.484375 68.546875 \nQ 53.21875 62.890625 53.21875 53.421875 \nQ 53.21875 48.921875 51.53125 44.890625 \nQ 49.859375 40.875 45.40625 35.40625 \nQ 44.1875 33.984375 37.640625 27.21875 \nQ 31.109375 20.453125 19.1875 8.296875 \nz\n\" id=\"DejaVuSans-32\"/>\n      </defs>\n      <g transform=\"translate(528.041761 558.316562)scale(0.1 -0.1)\">\n       <use xlink:href=\"#DejaVuSans-31\"/>\n       <use x=\"63.623047\" xlink:href=\"#DejaVuSans-32\"/>\n      </g>\n     </g>\n    </g>\n   </g>\n   <g id=\"matplotlib.axis_4\">\n    <g id=\"ytick_7\">\n     <g id=\"line2d_19\">\n      <g>\n       <use style=\"stroke:#000000;stroke-width:0.8;\" x=\"36.465625\" xlink:href=\"#m27ad003194\" y=\"505.094185\"/>\n      </g>\n     </g>\n     <g id=\"text_13\">\n      <!-- 1.0 -->\n      <g transform=\"translate(13.5625 508.893404)scale(0.1 -0.1)\">\n       <use xlink:href=\"#DejaVuSans-31\"/>\n       <use x=\"63.623047\" xlink:href=\"#DejaVuSans-2e\"/>\n       <use x=\"95.410156\" xlink:href=\"#DejaVuSans-30\"/>\n      </g>\n     </g>\n    </g>\n    <g id=\"ytick_8\">\n     <g id=\"line2d_20\">\n      <g>\n       <use style=\"stroke:#000000;stroke-width:0.8;\" x=\"36.465625\" xlink:href=\"#m27ad003194\" y=\"455.920872\"/>\n      </g>\n     </g>\n     <g id=\"text_14\">\n      <!-- 1.2 -->\n      <g transform=\"translate(13.5625 459.720091)scale(0.1 -0.1)\">\n       <use xlink:href=\"#DejaVuSans-31\"/>\n       <use x=\"63.623047\" xlink:href=\"#DejaVuSans-2e\"/>\n       <use x=\"95.410156\" xlink:href=\"#DejaVuSans-32\"/>\n      </g>\n     </g>\n    </g>\n    <g id=\"ytick_9\">\n     <g id=\"line2d_21\">\n      <g>\n       <use style=\"stroke:#000000;stroke-width:0.8;\" x=\"36.465625\" xlink:href=\"#m27ad003194\" y=\"406.74756\"/>\n      </g>\n     </g>\n     <g id=\"text_15\">\n      <!-- 1.4 -->\n      <g transform=\"translate(13.5625 410.546779)scale(0.1 -0.1)\">\n       <use xlink:href=\"#DejaVuSans-31\"/>\n       <use x=\"63.623047\" xlink:href=\"#DejaVuSans-2e\"/>\n       <use x=\"95.410156\" xlink:href=\"#DejaVuSans-34\"/>\n      </g>\n     </g>\n    </g>\n    <g id=\"ytick_10\">\n     <g id=\"line2d_22\">\n      <g>\n       <use style=\"stroke:#000000;stroke-width:0.8;\" x=\"36.465625\" xlink:href=\"#m27ad003194\" y=\"357.574248\"/>\n      </g>\n     </g>\n     <g id=\"text_16\">\n      <!-- 1.6 -->\n      <g transform=\"translate(13.5625 361.373466)scale(0.1 -0.1)\">\n       <use xlink:href=\"#DejaVuSans-31\"/>\n       <use x=\"63.623047\" xlink:href=\"#DejaVuSans-2e\"/>\n       <use x=\"95.410156\" xlink:href=\"#DejaVuSans-36\"/>\n      </g>\n     </g>\n    </g>\n    <g id=\"ytick_11\">\n     <g id=\"line2d_23\">\n      <g>\n       <use style=\"stroke:#000000;stroke-width:0.8;\" x=\"36.465625\" xlink:href=\"#m27ad003194\" y=\"308.400935\"/>\n      </g>\n     </g>\n     <g id=\"text_17\">\n      <!-- 1.8 -->\n      <g transform=\"translate(13.5625 312.200154)scale(0.1 -0.1)\">\n       <use xlink:href=\"#DejaVuSans-31\"/>\n       <use x=\"63.623047\" xlink:href=\"#DejaVuSans-2e\"/>\n       <use x=\"95.410156\" xlink:href=\"#DejaVuSans-38\"/>\n      </g>\n     </g>\n    </g>\n   </g>\n   <g id=\"line2d_24\">\n    <defs>\n     <path d=\"M 0 3 \nC 0.795609 3 1.55874 2.683901 2.12132 2.12132 \nC 2.683901 1.55874 3 0.795609 3 0 \nC 3 -0.795609 2.683901 -1.55874 2.12132 -2.12132 \nC 1.55874 -2.683901 0.795609 -3 0 -3 \nC -0.795609 -3 -1.55874 -2.683901 -2.12132 -2.12132 \nC -2.683901 -1.55874 -3 -0.795609 -3 0 \nC -3 0.795609 -2.683901 1.55874 -2.12132 2.12132 \nC -1.55874 2.683901 -0.795609 3 0 3 \nz\n\" id=\"m7361d473c1\" style=\"stroke:#ff0000;\"/>\n    </defs>\n    <g clip-path=\"url(#p5bc1989c91)\">\n     <use style=\"fill:#ff0000;stroke:#ff0000;\" x=\"60.176989\" xlink:href=\"#m7361d473c1\" y=\"309.329489\"/>\n     <use style=\"fill:#ff0000;stroke:#ff0000;\" x=\"103.288559\" xlink:href=\"#m7361d473c1\" y=\"361.918954\"/>\n     <use style=\"fill:#ff0000;stroke:#ff0000;\" x=\"146.400129\" xlink:href=\"#m7361d473c1\" y=\"374.534929\"/>\n     <use style=\"fill:#ff0000;stroke:#ff0000;\" x=\"189.511699\" xlink:href=\"#m7361d473c1\" y=\"394.484413\"/>\n     <use style=\"fill:#ff0000;stroke:#ff0000;\" x=\"232.62327\" xlink:href=\"#m7361d473c1\" y=\"406.930642\"/>\n     <use style=\"fill:#ff0000;stroke:#ff0000;\" x=\"275.73484\" xlink:href=\"#m7361d473c1\" y=\"425.371109\"/>\n     <use style=\"fill:#ff0000;stroke:#ff0000;\" x=\"318.84641\" xlink:href=\"#m7361d473c1\" y=\"430.458707\"/>\n     <use style=\"fill:#ff0000;stroke:#ff0000;\" x=\"361.95798\" xlink:href=\"#m7361d473c1\" y=\"441.00992\"/>\n     <use style=\"fill:#ff0000;stroke:#ff0000;\" x=\"405.069551\" xlink:href=\"#m7361d473c1\" y=\"445.453717\"/>\n     <use style=\"fill:#ff0000;stroke:#ff0000;\" x=\"448.181121\" xlink:href=\"#m7361d473c1\" y=\"456.124212\"/>\n     <use style=\"fill:#ff0000;stroke:#ff0000;\" x=\"491.292691\" xlink:href=\"#m7361d473c1\" y=\"466.764994\"/>\n     <use style=\"fill:#ff0000;stroke:#ff0000;\" x=\"534.404261\" xlink:href=\"#m7361d473c1\" y=\"471.58706\"/>\n    </g>\n   </g>\n   <g id=\"line2d_25\">\n    <path clip-path=\"url(#p5bc1989c91)\" d=\"M 60.176989 497.661005 \nL 103.288559 513.023617 \nL 146.400129 520.734211 \nL 189.511699 516.66423 \nL 232.62327 523.35274 \nL 275.73484 530.139078 \nL 318.84641 532.556761 \nL 361.95798 528.463806 \nL 405.069551 532.157081 \nL 448.181121 527.199027 \nL 491.292691 528.420538 \nL 534.404261 531.268234 \n\" style=\"fill:none;stroke:#ff0000;stroke-linecap:square;stroke-width:1.5;\"/>\n   </g>\n   <g id=\"patch_9\">\n    <path d=\"M 36.465625 543.718125 \nL 36.465625 298.168125 \n\" style=\"fill:none;stroke:#000000;stroke-linecap:square;stroke-linejoin:miter;stroke-width:0.8;\"/>\n   </g>\n   <g id=\"patch_10\">\n    <path d=\"M 558.115625 543.718125 \nL 558.115625 298.168125 \n\" style=\"fill:none;stroke:#000000;stroke-linecap:square;stroke-linejoin:miter;stroke-width:0.8;\"/>\n   </g>\n   <g id=\"patch_11\">\n    <path d=\"M 36.465625 543.718125 \nL 558.115625 543.718125 \n\" style=\"fill:none;stroke:#000000;stroke-linecap:square;stroke-linejoin:miter;stroke-width:0.8;\"/>\n   </g>\n   <g id=\"patch_12\">\n    <path d=\"M 36.465625 298.168125 \nL 558.115625 298.168125 \n\" style=\"fill:none;stroke:#000000;stroke-linecap:square;stroke-linejoin:miter;stroke-width:0.8;\"/>\n   </g>\n   <g id=\"text_18\">\n    <!-- Training and Validation loss -->\n    <defs>\n     <path d=\"M 44.28125 53.078125 \nL 44.28125 44.578125 \nQ 40.484375 46.53125 36.375 47.5 \nQ 32.28125 48.484375 27.875 48.484375 \nQ 21.1875 48.484375 17.84375 46.4375 \nQ 14.5 44.390625 14.5 40.28125 \nQ 14.5 37.15625 16.890625 35.375 \nQ 19.28125 33.59375 26.515625 31.984375 \nL 29.59375 31.296875 \nQ 39.15625 29.25 43.1875 25.515625 \nQ 47.21875 21.78125 47.21875 15.09375 \nQ 47.21875 7.46875 41.1875 3.015625 \nQ 35.15625 -1.421875 24.609375 -1.421875 \nQ 20.21875 -1.421875 15.453125 -0.5625 \nQ 10.6875 0.296875 5.421875 2 \nL 5.421875 11.28125 \nQ 10.40625 8.6875 15.234375 7.390625 \nQ 20.0625 6.109375 24.8125 6.109375 \nQ 31.15625 6.109375 34.5625 8.28125 \nQ 37.984375 10.453125 37.984375 14.40625 \nQ 37.984375 18.0625 35.515625 20.015625 \nQ 33.0625 21.96875 24.703125 23.78125 \nL 21.578125 24.515625 \nQ 13.234375 26.265625 9.515625 29.90625 \nQ 5.8125 33.546875 5.8125 39.890625 \nQ 5.8125 47.609375 11.28125 51.796875 \nQ 16.75 56 26.8125 56 \nQ 31.78125 56 36.171875 55.265625 \nQ 40.578125 54.546875 44.28125 53.078125 \nz\n\" id=\"DejaVuSans-73\"/>\n    </defs>\n    <g transform=\"translate(214.062187 292.168125)scale(0.12 -0.12)\">\n     <use xlink:href=\"#DejaVuSans-54\"/>\n     <use x=\"60.865234\" xlink:href=\"#DejaVuSans-72\"/>\n     <use x=\"101.978516\" xlink:href=\"#DejaVuSans-61\"/>\n     <use x=\"163.257812\" xlink:href=\"#DejaVuSans-69\"/>\n     <use x=\"191.041016\" xlink:href=\"#DejaVuSans-6e\"/>\n     <use x=\"254.419922\" xlink:href=\"#DejaVuSans-69\"/>\n     <use x=\"282.203125\" xlink:href=\"#DejaVuSans-6e\"/>\n     <use x=\"345.582031\" xlink:href=\"#DejaVuSans-67\"/>\n     <use x=\"409.058594\" xlink:href=\"#DejaVuSans-20\"/>\n     <use x=\"440.845703\" xlink:href=\"#DejaVuSans-61\"/>\n     <use x=\"502.125\" xlink:href=\"#DejaVuSans-6e\"/>\n     <use x=\"565.503906\" xlink:href=\"#DejaVuSans-64\"/>\n     <use x=\"628.980469\" xlink:href=\"#DejaVuSans-20\"/>\n     <use x=\"660.767578\" xlink:href=\"#DejaVuSans-56\"/>\n     <use x=\"729.066406\" xlink:href=\"#DejaVuSans-61\"/>\n     <use x=\"790.345703\" xlink:href=\"#DejaVuSans-6c\"/>\n     <use x=\"818.128906\" xlink:href=\"#DejaVuSans-69\"/>\n     <use x=\"845.912109\" xlink:href=\"#DejaVuSans-64\"/>\n     <use x=\"909.388672\" xlink:href=\"#DejaVuSans-61\"/>\n     <use x=\"970.667969\" xlink:href=\"#DejaVuSans-74\"/>\n     <use x=\"1009.876953\" xlink:href=\"#DejaVuSans-69\"/>\n     <use x=\"1037.660156\" xlink:href=\"#DejaVuSans-6f\"/>\n     <use x=\"1098.841797\" xlink:href=\"#DejaVuSans-6e\"/>\n     <use x=\"1162.220703\" xlink:href=\"#DejaVuSans-20\"/>\n     <use x=\"1194.007812\" xlink:href=\"#DejaVuSans-6c\"/>\n     <use x=\"1221.791016\" xlink:href=\"#DejaVuSans-6f\"/>\n     <use x=\"1282.972656\" xlink:href=\"#DejaVuSans-73\"/>\n     <use x=\"1335.072266\" xlink:href=\"#DejaVuSans-73\"/>\n    </g>\n   </g>\n   <g id=\"legend_2\">\n    <g id=\"patch_13\">\n     <path d=\"M 446.476562 335.524375 \nL 551.115625 335.524375 \nQ 553.115625 335.524375 553.115625 333.524375 \nL 553.115625 305.168125 \nQ 553.115625 303.168125 551.115625 303.168125 \nL 446.476562 303.168125 \nQ 444.476562 303.168125 444.476562 305.168125 \nL 444.476562 333.524375 \nQ 444.476562 335.524375 446.476562 335.524375 \nz\n\" style=\"fill:#ffffff;opacity:0.8;stroke:#cccccc;stroke-linejoin:miter;\"/>\n    </g>\n    <g id=\"line2d_26\"/>\n    <g id=\"line2d_27\">\n     <g>\n      <use style=\"fill:#ff0000;stroke:#ff0000;\" x=\"458.476562\" xlink:href=\"#m7361d473c1\" y=\"311.266562\"/>\n     </g>\n    </g>\n    <g id=\"text_19\">\n     <!-- Training loss -->\n     <g transform=\"translate(476.476562 314.766562)scale(0.1 -0.1)\">\n      <use xlink:href=\"#DejaVuSans-54\"/>\n      <use x=\"60.865234\" xlink:href=\"#DejaVuSans-72\"/>\n      <use x=\"101.978516\" xlink:href=\"#DejaVuSans-61\"/>\n      <use x=\"163.257812\" xlink:href=\"#DejaVuSans-69\"/>\n      <use x=\"191.041016\" xlink:href=\"#DejaVuSans-6e\"/>\n      <use x=\"254.419922\" xlink:href=\"#DejaVuSans-69\"/>\n      <use x=\"282.203125\" xlink:href=\"#DejaVuSans-6e\"/>\n      <use x=\"345.582031\" xlink:href=\"#DejaVuSans-67\"/>\n      <use x=\"409.058594\" xlink:href=\"#DejaVuSans-20\"/>\n      <use x=\"440.845703\" xlink:href=\"#DejaVuSans-6c\"/>\n      <use x=\"468.628906\" xlink:href=\"#DejaVuSans-6f\"/>\n      <use x=\"529.810547\" xlink:href=\"#DejaVuSans-73\"/>\n      <use x=\"581.910156\" xlink:href=\"#DejaVuSans-73\"/>\n     </g>\n    </g>\n    <g id=\"line2d_28\">\n     <path d=\"M 448.476562 325.944687 \nL 468.476562 325.944687 \n\" style=\"fill:none;stroke:#ff0000;stroke-linecap:square;stroke-width:1.5;\"/>\n    </g>\n    <g id=\"line2d_29\"/>\n    <g id=\"text_20\">\n     <!-- Validation loss -->\n     <g transform=\"translate(476.476562 329.444687)scale(0.1 -0.1)\">\n      <use xlink:href=\"#DejaVuSans-56\"/>\n      <use x=\"68.298828\" xlink:href=\"#DejaVuSans-61\"/>\n      <use x=\"129.578125\" xlink:href=\"#DejaVuSans-6c\"/>\n      <use x=\"157.361328\" xlink:href=\"#DejaVuSans-69\"/>\n      <use x=\"185.144531\" xlink:href=\"#DejaVuSans-64\"/>\n      <use x=\"248.621094\" xlink:href=\"#DejaVuSans-61\"/>\n      <use x=\"309.900391\" xlink:href=\"#DejaVuSans-74\"/>\n      <use x=\"349.109375\" xlink:href=\"#DejaVuSans-69\"/>\n      <use x=\"376.892578\" xlink:href=\"#DejaVuSans-6f\"/>\n      <use x=\"438.074219\" xlink:href=\"#DejaVuSans-6e\"/>\n      <use x=\"501.453125\" xlink:href=\"#DejaVuSans-20\"/>\n      <use x=\"533.240234\" xlink:href=\"#DejaVuSans-6c\"/>\n      <use x=\"561.023438\" xlink:href=\"#DejaVuSans-6f\"/>\n      <use x=\"622.205078\" xlink:href=\"#DejaVuSans-73\"/>\n      <use x=\"674.304688\" xlink:href=\"#DejaVuSans-73\"/>\n     </g>\n    </g>\n   </g>\n  </g>\n </g>\n <defs>\n  <clipPath id=\"pf54d696ee7\">\n   <rect height=\"245.55\" width=\"521.65\" x=\"36.465625\" y=\"22.318125\"/>\n  </clipPath>\n  <clipPath id=\"p5bc1989c91\">\n   <rect height=\"245.55\" width=\"521.65\" x=\"36.465625\" y=\"298.168125\"/>\n  </clipPath>\n </defs>\n</svg>\n"
          },
          "metadata": {
            "tags": []
          }
        }
      ]
    },
    {
      "metadata": {
        "id": "X1YMO7RzcFtl",
        "colab_type": "code",
        "outputId": "a74ddbbb-c0e9-4185-e779-2095d04db8ee",
        "colab": {
          "base_uri": "https://localhost:8080/",
          "height": 51
        }
      },
      "cell_type": "code",
      "source": [
        "vgg_model = models.load_model('vgg16_tuned.h5')\n",
        "\n",
        "test_loss, test_acc =\\\n",
        "  vgg_model.evaluate_generator(test_generator, \n",
        "                               steps=test_generator.n, \n",
        "                               verbose=0)\n",
        "\n",
        "print('\\nTest accuracy: ', round(test_acc*100, 2))"
      ],
      "execution_count": 0,
      "outputs": [
        {
          "output_type": "stream",
          "text": [
            "\n",
            "Test accuracy:  72.58\n"
          ],
          "name": "stdout"
        }
      ]
    },
    {
      "metadata": {
        "id": "qC_-gs15xcIs",
        "colab_type": "text"
      },
      "cell_type": "markdown",
      "source": [
        "Sauvegardons le dictionnaire qui permet d'encoder chaque classe en un entier."
      ]
    },
    {
      "metadata": {
        "id": "PO49HnyrxcIv",
        "colab_type": "code",
        "colab": {}
      },
      "cell_type": "code",
      "source": [
        "with open('class_traductor_120.pkl', 'wb') as f:\n",
        "    pickle.dump(train_generator.class_indices, f)\n",
        "\n",
        "!cp class_traductor_120.pkl drive/My\\ Drive/Projets\\ Formation/Projet\\ 7/"
      ],
      "execution_count": 0,
      "outputs": []
    },
    {
      "metadata": {
        "id": "jE72sHzAHftj",
        "colab_type": "text"
      },
      "cell_type": "markdown",
      "source": [
        "Taille du modèle\n",
        "\n",
        "Sauvegardons le modèle sur notre espace de travail Drive"
      ]
    },
    {
      "metadata": {
        "id": "9DP3kZzZE5jw",
        "colab_type": "code",
        "outputId": "3e2c5325-cfba-4e2c-cba8-88eafa69d031",
        "colab": {
          "base_uri": "https://localhost:8080/",
          "height": 65
        }
      },
      "cell_type": "code",
      "source": [
        "!du --block-size=M vgg16_tuned.h5\n",
        "!cp vgg16_tuned.h5 drive/My\\ Drive/Projets\\ Formation/Projet\\ 7/models"
      ],
      "execution_count": 0,
      "outputs": [
        {
          "output_type": "stream",
          "text": [
            "760M\tvgg16_tuned.h5\n"
          ],
          "name": "stdout"
        }
      ]
    },
    {
      "metadata": {
        "id": "ukxJs3N1yqOF",
        "colab_type": "text"
      },
      "cell_type": "markdown",
      "source": [
        "## Modèle n°2: InceptionV3"
      ]
    },
    {
      "metadata": {
        "id": "SRawnCBNLxkW",
        "colab_type": "text"
      },
      "cell_type": "markdown",
      "source": [
        "### Pré-entrainement du classifieur"
      ]
    },
    {
      "metadata": {
        "id": "8SlXlUGmOQDs",
        "colab_type": "code",
        "outputId": "f0425e7d-f47a-4a45-852b-29f60b1a2eec",
        "colab": {
          "base_uri": "https://localhost:8080/",
          "height": 68
        }
      },
      "cell_type": "code",
      "source": [
        "train_generator, valid_generator, test_generator =\\\n",
        "  create_generators(\n",
        "    base_dir = 'data', \n",
        "    batch_size = 128, \n",
        "    side_length = 299, \n",
        "    augmentation = True,\n",
        "    preprocess_input = tf.keras.applications.inception_v3.preprocess_input\n",
        ")\n",
        "\n",
        "image_shape = train_generator.image_shape\n",
        "batch_size = train_generator.batch_size\n",
        "n_classes = train_generator.num_classes"
      ],
      "execution_count": 0,
      "outputs": [
        {
          "output_type": "stream",
          "text": [
            "Found 12345 images belonging to 120 classes.\n",
            "Found 4111 images belonging to 120 classes.\n",
            "Found 4124 images belonging to 120 classes.\n"
          ],
          "name": "stdout"
        }
      ]
    },
    {
      "metadata": {
        "id": "6I2zIYPaPElr",
        "colab_type": "code",
        "outputId": "e92a2959-2dc0-458c-8d6b-51a977523814",
        "colab": {
          "base_uri": "https://localhost:8080/",
          "height": 380
        }
      },
      "cell_type": "code",
      "source": [
        "inceptionv3_base = InceptionV3(weights = 'imagenet', \n",
        "                               include_top = False,\n",
        "                               input_shape = image_shape)\n",
        "inceptionv3_base.trainable = False\n",
        "\n",
        "inception_model = models.Sequential()\n",
        "inception_model.add(inceptionv3_base)\n",
        "inception_model.add(layers.GlobalAveragePooling2D())\n",
        "inception_model.add(layers.Dense(2048, activation='relu'))\n",
        "inception_model.add(layers.Dropout(0.5))\n",
        "inception_model.add(layers.Dense(n_classes, activation='softmax'))\n",
        "\n",
        "inception_model.compile(optimizer=Adam(lr=1e-4), \n",
        "                        loss='categorical_crossentropy', \n",
        "                        metrics=['acc'])\n",
        "\n",
        "inception_model.summary()"
      ],
      "execution_count": 0,
      "outputs": [
        {
          "output_type": "stream",
          "text": [
            "Downloading data from https://github.com/fchollet/deep-learning-models/releases/download/v0.5/inception_v3_weights_tf_dim_ordering_tf_kernels_notop.h5\n",
            "87916544/87910968 [==============================] - 1s 0us/step\n",
            "_________________________________________________________________\n",
            "Layer (type)                 Output Shape              Param #   \n",
            "=================================================================\n",
            "inception_v3 (Model)         (None, 8, 8, 2048)        21802784  \n",
            "_________________________________________________________________\n",
            "global_average_pooling2d_1 ( (None, 2048)              0         \n",
            "_________________________________________________________________\n",
            "dense_1 (Dense)              (None, 2048)              4196352   \n",
            "_________________________________________________________________\n",
            "dropout_1 (Dropout)          (None, 2048)              0         \n",
            "_________________________________________________________________\n",
            "dense_2 (Dense)              (None, 120)               245880    \n",
            "=================================================================\n",
            "Total params: 26,245,016\n",
            "Trainable params: 4,442,232\n",
            "Non-trainable params: 21,802,784\n",
            "_________________________________________________________________\n"
          ],
          "name": "stdout"
        }
      ]
    },
    {
      "metadata": {
        "id": "P6JMWyZHQWlS",
        "colab_type": "code",
        "outputId": "44878d13-0ae7-4485-ab52-0478e6fcec7a",
        "colab": {
          "base_uri": "https://localhost:8080/",
          "height": 1020
        }
      },
      "cell_type": "code",
      "source": [
        "###############\n",
        "# 110 MINUTES #\n",
        "###############\n",
        "\n",
        "# tbc = TensorBoardColab(graph_path=\"./inception_graph_1\")\n",
        "\n",
        "callbacks = [\n",
        "    EarlyStopping(patience=5, min_delta=0.01),\n",
        "    ModelCheckpoint('inceptionv3_regularized.h5', save_best_only=True),\n",
        "    # TensorBoardColabCallback(tbc),\n",
        "]\n",
        "\n",
        "history = inception_model.fit_generator(\n",
        "    generator = train_generator, \n",
        "    steps_per_epoch = np.ceil(train_generator.n/batch_size),  \n",
        "    validation_data = valid_generator, \n",
        "    validation_steps = np.ceil(valid_generator.n/batch_size),\n",
        "    epochs = 100, verbose = 1, callbacks = callbacks)"
      ],
      "execution_count": 0,
      "outputs": [
        {
          "output_type": "stream",
          "text": [
            "Epoch 1/100\n",
            "97/97 [==============================] - 426s 4s/step - loss: 3.8607 - acc: 0.2585 - val_loss: 1.8952 - val_acc: 0.8144\n",
            "Epoch 2/100\n",
            "97/97 [==============================] - 384s 4s/step - loss: 2.0788 - acc: 0.5694 - val_loss: 0.7033 - val_acc: 0.8577\n",
            "Epoch 3/100\n",
            "97/97 [==============================] - 386s 4s/step - loss: 1.4632 - acc: 0.6473 - val_loss: 0.4918 - val_acc: 0.8781\n",
            "Epoch 4/100\n",
            "97/97 [==============================] - 405s 4s/step - loss: 1.2701 - acc: 0.6761 - val_loss: 0.4195 - val_acc: 0.8864\n",
            "Epoch 5/100\n",
            "97/97 [==============================] - 409s 4s/step - loss: 1.1581 - acc: 0.6963 - val_loss: 0.3867 - val_acc: 0.8927\n",
            "Epoch 6/100\n",
            "97/97 [==============================] - 387s 4s/step - loss: 1.0934 - acc: 0.7053 - val_loss: 0.3714 - val_acc: 0.8857\n",
            "Epoch 7/100\n",
            "97/97 [==============================] - 382s 4s/step - loss: 1.0538 - acc: 0.7131 - val_loss: 0.3662 - val_acc: 0.8840\n",
            "Epoch 8/100\n",
            "97/97 [==============================] - 376s 4s/step - loss: 1.0131 - acc: 0.7211 - val_loss: 0.3621 - val_acc: 0.8866\n",
            "Epoch 9/100\n",
            "97/97 [==============================] - 385s 4s/step - loss: 0.9730 - acc: 0.7227 - val_loss: 0.3448 - val_acc: 0.8918\n",
            "Epoch 10/100\n",
            "97/97 [==============================] - 385s 4s/step - loss: 0.9425 - acc: 0.7337 - val_loss: 0.3486 - val_acc: 0.8886\n",
            "Epoch 11/100\n",
            "97/97 [==============================] - 381s 4s/step - loss: 0.9358 - acc: 0.7374 - val_loss: 0.3396 - val_acc: 0.8888\n",
            "Epoch 12/100\n",
            "97/97 [==============================] - 388s 4s/step - loss: 0.8974 - acc: 0.7421 - val_loss: 0.3368 - val_acc: 0.8939\n",
            "Epoch 13/100\n",
            "97/97 [==============================] - 388s 4s/step - loss: 0.8786 - acc: 0.7472 - val_loss: 0.3487 - val_acc: 0.8832\n",
            "Epoch 14/100\n",
            "97/97 [==============================] - 385s 4s/step - loss: 0.8553 - acc: 0.7545 - val_loss: 0.3353 - val_acc: 0.8930\n"
          ],
          "name": "stdout"
        }
      ]
    },
    {
      "metadata": {
        "id": "9kxjrwbtSQil",
        "colab_type": "code",
        "outputId": "8af82164-996f-4158-c697-90918cffaa2c",
        "colab": {
          "base_uri": "https://localhost:8080/",
          "height": 777
        }
      },
      "cell_type": "code",
      "source": [
        "learning_curves(history, mult_ticks=3)"
      ],
      "execution_count": 0,
      "outputs": [
        {
          "output_type": "display_data",
          "data": {
            "text/plain": [
              "<matplotlib.figure.Figure at 0x7fa3d178e358>"
            ],
            "image/svg+xml": "<?xml version=\"1.0\" encoding=\"utf-8\" standalone=\"no\"?>\n<!DOCTYPE svg PUBLIC \"-//W3C//DTD SVG 1.1//EN\"\n  \"http://www.w3.org/Graphics/SVG/1.1/DTD/svg11.dtd\">\n<!-- Created with matplotlib (http://matplotlib.org/) -->\n<svg height=\"567pt\" version=\"1.1\" viewBox=\"0 0 568 567\" width=\"568pt\" xmlns=\"http://www.w3.org/2000/svg\" xmlns:xlink=\"http://www.w3.org/1999/xlink\">\n <defs>\n  <style type=\"text/css\">\n*{stroke-linecap:butt;stroke-linejoin:round;}\n  </style>\n </defs>\n <g id=\"figure_1\">\n  <g id=\"patch_1\">\n   <path d=\"M 0 567.59625 \nL 568.703125 567.59625 \nL 568.703125 0 \nL 0 0 \nz\n\" style=\"fill:none;\"/>\n  </g>\n  <g id=\"axes_1\">\n   <g id=\"patch_2\">\n    <path d=\"M 30.103125 267.868125 \nL 558.003125 267.868125 \nL 558.003125 22.318125 \nL 30.103125 22.318125 \nz\n\" style=\"fill:#ffffff;\"/>\n   </g>\n   <g id=\"matplotlib.axis_1\">\n    <g id=\"xtick_1\">\n     <g id=\"line2d_1\">\n      <defs>\n       <path d=\"M 0 0 \nL 0 3.5 \n\" id=\"m3b7d1c9523\" style=\"stroke:#000000;stroke-width:0.8;\"/>\n      </defs>\n      <g>\n       <use style=\"stroke:#000000;stroke-width:0.8;\" x=\"127.930747\" xlink:href=\"#m3b7d1c9523\" y=\"267.868125\"/>\n      </g>\n     </g>\n    </g>\n    <g id=\"xtick_2\">\n     <g id=\"line2d_2\">\n      <g>\n       <use style=\"stroke:#000000;stroke-width:0.8;\" x=\"238.678999\" xlink:href=\"#m3b7d1c9523\" y=\"267.868125\"/>\n      </g>\n     </g>\n    </g>\n    <g id=\"xtick_3\">\n     <g id=\"line2d_3\">\n      <g>\n       <use style=\"stroke:#000000;stroke-width:0.8;\" x=\"349.427251\" xlink:href=\"#m3b7d1c9523\" y=\"267.868125\"/>\n      </g>\n     </g>\n    </g>\n    <g id=\"xtick_4\">\n     <g id=\"line2d_4\">\n      <g>\n       <use style=\"stroke:#000000;stroke-width:0.8;\" x=\"460.175503\" xlink:href=\"#m3b7d1c9523\" y=\"267.868125\"/>\n      </g>\n     </g>\n    </g>\n   </g>\n   <g id=\"matplotlib.axis_2\">\n    <g id=\"ytick_1\">\n     <g id=\"line2d_5\">\n      <defs>\n       <path d=\"M 0 0 \nL -3.5 0 \n\" id=\"m134c04623b\" style=\"stroke:#000000;stroke-width:0.8;\"/>\n      </defs>\n      <g>\n       <use style=\"stroke:#000000;stroke-width:0.8;\" x=\"30.103125\" xlink:href=\"#m134c04623b\" y=\"241.804538\"/>\n      </g>\n     </g>\n     <g id=\"text_1\">\n      <!-- 0.3 -->\n      <defs>\n       <path d=\"M 31.78125 66.40625 \nQ 24.171875 66.40625 20.328125 58.90625 \nQ 16.5 51.421875 16.5 36.375 \nQ 16.5 21.390625 20.328125 13.890625 \nQ 24.171875 6.390625 31.78125 6.390625 \nQ 39.453125 6.390625 43.28125 13.890625 \nQ 47.125 21.390625 47.125 36.375 \nQ 47.125 51.421875 43.28125 58.90625 \nQ 39.453125 66.40625 31.78125 66.40625 \nz\nM 31.78125 74.21875 \nQ 44.046875 74.21875 50.515625 64.515625 \nQ 56.984375 54.828125 56.984375 36.375 \nQ 56.984375 17.96875 50.515625 8.265625 \nQ 44.046875 -1.421875 31.78125 -1.421875 \nQ 19.53125 -1.421875 13.0625 8.265625 \nQ 6.59375 17.96875 6.59375 36.375 \nQ 6.59375 54.828125 13.0625 64.515625 \nQ 19.53125 74.21875 31.78125 74.21875 \nz\n\" id=\"DejaVuSans-30\"/>\n       <path d=\"M 10.6875 12.40625 \nL 21 12.40625 \nL 21 0 \nL 10.6875 0 \nz\n\" id=\"DejaVuSans-2e\"/>\n       <path d=\"M 40.578125 39.3125 \nQ 47.65625 37.796875 51.625 33 \nQ 55.609375 28.21875 55.609375 21.1875 \nQ 55.609375 10.40625 48.1875 4.484375 \nQ 40.765625 -1.421875 27.09375 -1.421875 \nQ 22.515625 -1.421875 17.65625 -0.515625 \nQ 12.796875 0.390625 7.625 2.203125 \nL 7.625 11.71875 \nQ 11.71875 9.328125 16.59375 8.109375 \nQ 21.484375 6.890625 26.8125 6.890625 \nQ 36.078125 6.890625 40.9375 10.546875 \nQ 45.796875 14.203125 45.796875 21.1875 \nQ 45.796875 27.640625 41.28125 31.265625 \nQ 36.765625 34.90625 28.71875 34.90625 \nL 20.21875 34.90625 \nL 20.21875 43.015625 \nL 29.109375 43.015625 \nQ 36.375 43.015625 40.234375 45.921875 \nQ 44.09375 48.828125 44.09375 54.296875 \nQ 44.09375 59.90625 40.109375 62.90625 \nQ 36.140625 65.921875 28.71875 65.921875 \nQ 24.65625 65.921875 20.015625 65.03125 \nQ 15.375 64.15625 9.8125 62.3125 \nL 9.8125 71.09375 \nQ 15.4375 72.65625 20.34375 73.4375 \nQ 25.25 74.21875 29.59375 74.21875 \nQ 40.828125 74.21875 47.359375 69.109375 \nQ 53.90625 64.015625 53.90625 55.328125 \nQ 53.90625 49.265625 50.4375 45.09375 \nQ 46.96875 40.921875 40.578125 39.3125 \nz\n\" id=\"DejaVuSans-33\"/>\n      </defs>\n      <g transform=\"translate(7.2 245.603757)scale(0.1 -0.1)\">\n       <use xlink:href=\"#DejaVuSans-30\"/>\n       <use x=\"63.623047\" xlink:href=\"#DejaVuSans-2e\"/>\n       <use x=\"95.410156\" xlink:href=\"#DejaVuSans-33\"/>\n      </g>\n     </g>\n    </g>\n    <g id=\"ytick_2\">\n     <g id=\"line2d_6\">\n      <g>\n       <use style=\"stroke:#000000;stroke-width:0.8;\" x=\"30.103125\" xlink:href=\"#m134c04623b\" y=\"206.72962\"/>\n      </g>\n     </g>\n     <g id=\"text_2\">\n      <!-- 0.4 -->\n      <defs>\n       <path d=\"M 37.796875 64.3125 \nL 12.890625 25.390625 \nL 37.796875 25.390625 \nz\nM 35.203125 72.90625 \nL 47.609375 72.90625 \nL 47.609375 25.390625 \nL 58.015625 25.390625 \nL 58.015625 17.1875 \nL 47.609375 17.1875 \nL 47.609375 0 \nL 37.796875 0 \nL 37.796875 17.1875 \nL 4.890625 17.1875 \nL 4.890625 26.703125 \nz\n\" id=\"DejaVuSans-34\"/>\n      </defs>\n      <g transform=\"translate(7.2 210.528839)scale(0.1 -0.1)\">\n       <use xlink:href=\"#DejaVuSans-30\"/>\n       <use x=\"63.623047\" xlink:href=\"#DejaVuSans-2e\"/>\n       <use x=\"95.410156\" xlink:href=\"#DejaVuSans-34\"/>\n      </g>\n     </g>\n    </g>\n    <g id=\"ytick_3\">\n     <g id=\"line2d_7\">\n      <g>\n       <use style=\"stroke:#000000;stroke-width:0.8;\" x=\"30.103125\" xlink:href=\"#m134c04623b\" y=\"171.654702\"/>\n      </g>\n     </g>\n     <g id=\"text_3\">\n      <!-- 0.5 -->\n      <defs>\n       <path d=\"M 10.796875 72.90625 \nL 49.515625 72.90625 \nL 49.515625 64.59375 \nL 19.828125 64.59375 \nL 19.828125 46.734375 \nQ 21.96875 47.46875 24.109375 47.828125 \nQ 26.265625 48.1875 28.421875 48.1875 \nQ 40.625 48.1875 47.75 41.5 \nQ 54.890625 34.8125 54.890625 23.390625 \nQ 54.890625 11.625 47.5625 5.09375 \nQ 40.234375 -1.421875 26.90625 -1.421875 \nQ 22.3125 -1.421875 17.546875 -0.640625 \nQ 12.796875 0.140625 7.71875 1.703125 \nL 7.71875 11.625 \nQ 12.109375 9.234375 16.796875 8.0625 \nQ 21.484375 6.890625 26.703125 6.890625 \nQ 35.15625 6.890625 40.078125 11.328125 \nQ 45.015625 15.765625 45.015625 23.390625 \nQ 45.015625 31 40.078125 35.4375 \nQ 35.15625 39.890625 26.703125 39.890625 \nQ 22.75 39.890625 18.8125 39.015625 \nQ 14.890625 38.140625 10.796875 36.28125 \nz\n\" id=\"DejaVuSans-35\"/>\n      </defs>\n      <g transform=\"translate(7.2 175.45392)scale(0.1 -0.1)\">\n       <use xlink:href=\"#DejaVuSans-30\"/>\n       <use x=\"63.623047\" xlink:href=\"#DejaVuSans-2e\"/>\n       <use x=\"95.410156\" xlink:href=\"#DejaVuSans-35\"/>\n      </g>\n     </g>\n    </g>\n    <g id=\"ytick_4\">\n     <g id=\"line2d_8\">\n      <g>\n       <use style=\"stroke:#000000;stroke-width:0.8;\" x=\"30.103125\" xlink:href=\"#m134c04623b\" y=\"136.579783\"/>\n      </g>\n     </g>\n     <g id=\"text_4\">\n      <!-- 0.6 -->\n      <defs>\n       <path d=\"M 33.015625 40.375 \nQ 26.375 40.375 22.484375 35.828125 \nQ 18.609375 31.296875 18.609375 23.390625 \nQ 18.609375 15.53125 22.484375 10.953125 \nQ 26.375 6.390625 33.015625 6.390625 \nQ 39.65625 6.390625 43.53125 10.953125 \nQ 47.40625 15.53125 47.40625 23.390625 \nQ 47.40625 31.296875 43.53125 35.828125 \nQ 39.65625 40.375 33.015625 40.375 \nz\nM 52.59375 71.296875 \nL 52.59375 62.3125 \nQ 48.875 64.0625 45.09375 64.984375 \nQ 41.3125 65.921875 37.59375 65.921875 \nQ 27.828125 65.921875 22.671875 59.328125 \nQ 17.53125 52.734375 16.796875 39.40625 \nQ 19.671875 43.65625 24.015625 45.921875 \nQ 28.375 48.1875 33.59375 48.1875 \nQ 44.578125 48.1875 50.953125 41.515625 \nQ 57.328125 34.859375 57.328125 23.390625 \nQ 57.328125 12.15625 50.6875 5.359375 \nQ 44.046875 -1.421875 33.015625 -1.421875 \nQ 20.359375 -1.421875 13.671875 8.265625 \nQ 6.984375 17.96875 6.984375 36.375 \nQ 6.984375 53.65625 15.1875 63.9375 \nQ 23.390625 74.21875 37.203125 74.21875 \nQ 40.921875 74.21875 44.703125 73.484375 \nQ 48.484375 72.75 52.59375 71.296875 \nz\n\" id=\"DejaVuSans-36\"/>\n      </defs>\n      <g transform=\"translate(7.2 140.379002)scale(0.1 -0.1)\">\n       <use xlink:href=\"#DejaVuSans-30\"/>\n       <use x=\"63.623047\" xlink:href=\"#DejaVuSans-2e\"/>\n       <use x=\"95.410156\" xlink:href=\"#DejaVuSans-36\"/>\n      </g>\n     </g>\n    </g>\n    <g id=\"ytick_5\">\n     <g id=\"line2d_9\">\n      <g>\n       <use style=\"stroke:#000000;stroke-width:0.8;\" x=\"30.103125\" xlink:href=\"#m134c04623b\" y=\"101.504865\"/>\n      </g>\n     </g>\n     <g id=\"text_5\">\n      <!-- 0.7 -->\n      <defs>\n       <path d=\"M 8.203125 72.90625 \nL 55.078125 72.90625 \nL 55.078125 68.703125 \nL 28.609375 0 \nL 18.3125 0 \nL 43.21875 64.59375 \nL 8.203125 64.59375 \nz\n\" id=\"DejaVuSans-37\"/>\n      </defs>\n      <g transform=\"translate(7.2 105.304084)scale(0.1 -0.1)\">\n       <use xlink:href=\"#DejaVuSans-30\"/>\n       <use x=\"63.623047\" xlink:href=\"#DejaVuSans-2e\"/>\n       <use x=\"95.410156\" xlink:href=\"#DejaVuSans-37\"/>\n      </g>\n     </g>\n    </g>\n    <g id=\"ytick_6\">\n     <g id=\"line2d_10\">\n      <g>\n       <use style=\"stroke:#000000;stroke-width:0.8;\" x=\"30.103125\" xlink:href=\"#m134c04623b\" y=\"66.429947\"/>\n      </g>\n     </g>\n     <g id=\"text_6\">\n      <!-- 0.8 -->\n      <defs>\n       <path d=\"M 31.78125 34.625 \nQ 24.75 34.625 20.71875 30.859375 \nQ 16.703125 27.09375 16.703125 20.515625 \nQ 16.703125 13.921875 20.71875 10.15625 \nQ 24.75 6.390625 31.78125 6.390625 \nQ 38.8125 6.390625 42.859375 10.171875 \nQ 46.921875 13.96875 46.921875 20.515625 \nQ 46.921875 27.09375 42.890625 30.859375 \nQ 38.875 34.625 31.78125 34.625 \nz\nM 21.921875 38.8125 \nQ 15.578125 40.375 12.03125 44.71875 \nQ 8.5 49.078125 8.5 55.328125 \nQ 8.5 64.0625 14.71875 69.140625 \nQ 20.953125 74.21875 31.78125 74.21875 \nQ 42.671875 74.21875 48.875 69.140625 \nQ 55.078125 64.0625 55.078125 55.328125 \nQ 55.078125 49.078125 51.53125 44.71875 \nQ 48 40.375 41.703125 38.8125 \nQ 48.828125 37.15625 52.796875 32.3125 \nQ 56.78125 27.484375 56.78125 20.515625 \nQ 56.78125 9.90625 50.3125 4.234375 \nQ 43.84375 -1.421875 31.78125 -1.421875 \nQ 19.734375 -1.421875 13.25 4.234375 \nQ 6.78125 9.90625 6.78125 20.515625 \nQ 6.78125 27.484375 10.78125 32.3125 \nQ 14.796875 37.15625 21.921875 38.8125 \nz\nM 18.3125 54.390625 \nQ 18.3125 48.734375 21.84375 45.5625 \nQ 25.390625 42.390625 31.78125 42.390625 \nQ 38.140625 42.390625 41.71875 45.5625 \nQ 45.3125 48.734375 45.3125 54.390625 \nQ 45.3125 60.0625 41.71875 63.234375 \nQ 38.140625 66.40625 31.78125 66.40625 \nQ 25.390625 66.40625 21.84375 63.234375 \nQ 18.3125 60.0625 18.3125 54.390625 \nz\n\" id=\"DejaVuSans-38\"/>\n      </defs>\n      <g transform=\"translate(7.2 70.229166)scale(0.1 -0.1)\">\n       <use xlink:href=\"#DejaVuSans-30\"/>\n       <use x=\"63.623047\" xlink:href=\"#DejaVuSans-2e\"/>\n       <use x=\"95.410156\" xlink:href=\"#DejaVuSans-38\"/>\n      </g>\n     </g>\n    </g>\n    <g id=\"ytick_7\">\n     <g id=\"line2d_11\">\n      <g>\n       <use style=\"stroke:#000000;stroke-width:0.8;\" x=\"30.103125\" xlink:href=\"#m134c04623b\" y=\"31.355029\"/>\n      </g>\n     </g>\n     <g id=\"text_7\">\n      <!-- 0.9 -->\n      <defs>\n       <path d=\"M 10.984375 1.515625 \nL 10.984375 10.5 \nQ 14.703125 8.734375 18.5 7.8125 \nQ 22.3125 6.890625 25.984375 6.890625 \nQ 35.75 6.890625 40.890625 13.453125 \nQ 46.046875 20.015625 46.78125 33.40625 \nQ 43.953125 29.203125 39.59375 26.953125 \nQ 35.25 24.703125 29.984375 24.703125 \nQ 19.046875 24.703125 12.671875 31.3125 \nQ 6.296875 37.9375 6.296875 49.421875 \nQ 6.296875 60.640625 12.9375 67.421875 \nQ 19.578125 74.21875 30.609375 74.21875 \nQ 43.265625 74.21875 49.921875 64.515625 \nQ 56.59375 54.828125 56.59375 36.375 \nQ 56.59375 19.140625 48.40625 8.859375 \nQ 40.234375 -1.421875 26.421875 -1.421875 \nQ 22.703125 -1.421875 18.890625 -0.6875 \nQ 15.09375 0.046875 10.984375 1.515625 \nz\nM 30.609375 32.421875 \nQ 37.25 32.421875 41.125 36.953125 \nQ 45.015625 41.5 45.015625 49.421875 \nQ 45.015625 57.28125 41.125 61.84375 \nQ 37.25 66.40625 30.609375 66.40625 \nQ 23.96875 66.40625 20.09375 61.84375 \nQ 16.21875 57.28125 16.21875 49.421875 \nQ 16.21875 41.5 20.09375 36.953125 \nQ 23.96875 32.421875 30.609375 32.421875 \nz\n\" id=\"DejaVuSans-39\"/>\n      </defs>\n      <g transform=\"translate(7.2 35.154247)scale(0.1 -0.1)\">\n       <use xlink:href=\"#DejaVuSans-30\"/>\n       <use x=\"63.623047\" xlink:href=\"#DejaVuSans-2e\"/>\n       <use x=\"95.410156\" xlink:href=\"#DejaVuSans-39\"/>\n      </g>\n     </g>\n    </g>\n   </g>\n   <g id=\"line2d_12\">\n    <defs>\n     <path d=\"M 0 3 \nC 0.795609 3 1.55874 2.683901 2.12132 2.12132 \nC 2.683901 1.55874 3 0.795609 3 0 \nC 3 -0.795609 2.683901 -1.55874 2.12132 -2.12132 \nC 1.55874 -2.683901 0.795609 -3 0 -3 \nC -0.795609 -3 -1.55874 -2.683901 -2.12132 -2.12132 \nC -2.683901 -1.55874 -3 -0.795609 -3 0 \nC -3 0.795609 -2.683901 1.55874 -2.12132 2.12132 \nC -1.55874 2.683901 -0.795609 3 0 3 \nz\n\" id=\"md0038b5395\" style=\"stroke:#0000ff;\"/>\n    </defs>\n    <g clip-path=\"url(#pe9b5e42a75)\">\n     <use style=\"fill:#0000ff;stroke:#0000ff;\" x=\"54.09858\" xlink:href=\"#md0038b5395\" y=\"256.706761\"/>\n     <use style=\"fill:#0000ff;stroke:#0000ff;\" x=\"91.014663\" xlink:href=\"#md0038b5395\" y=\"147.376437\"/>\n     <use style=\"fill:#0000ff;stroke:#0000ff;\" x=\"127.930747\" xlink:href=\"#md0038b5395\" y=\"120.185917\"/>\n     <use style=\"fill:#0000ff;stroke:#0000ff;\" x=\"164.846831\" xlink:href=\"#md0038b5395\" y=\"109.730211\"/>\n     <use style=\"fill:#0000ff;stroke:#0000ff;\" x=\"201.762915\" xlink:href=\"#md0038b5395\" y=\"102.76921\"/>\n     <use style=\"fill:#0000ff;stroke:#0000ff;\" x=\"238.678999\" xlink:href=\"#md0038b5395\" y=\"99.615451\"/>\n     <use style=\"fill:#0000ff;stroke:#0000ff;\" x=\"275.595083\" xlink:href=\"#md0038b5395\" y=\"96.887875\"/>\n     <use style=\"fill:#0000ff;stroke:#0000ff;\" x=\"312.511167\" xlink:href=\"#md0038b5395\" y=\"94.273948\"/>\n     <use style=\"fill:#0000ff;stroke:#0000ff;\" x=\"349.427251\" xlink:href=\"#md0038b5395\" y=\"93.53523\"/>\n     <use style=\"fill:#0000ff;stroke:#0000ff;\" x=\"386.343335\" xlink:href=\"#md0038b5395\" y=\"89.529103\"/>\n     <use style=\"fill:#0000ff;stroke:#0000ff;\" x=\"423.259419\" xlink:href=\"#md0038b5395\" y=\"88.307377\"/>\n     <use style=\"fill:#0000ff;stroke:#0000ff;\" x=\"460.175503\" xlink:href=\"#md0038b5395\" y=\"86.659466\"/>\n     <use style=\"fill:#0000ff;stroke:#0000ff;\" x=\"497.091587\" xlink:href=\"#md0038b5395\" y=\"84.841083\"/>\n     <use style=\"fill:#0000ff;stroke:#0000ff;\" x=\"534.00767\" xlink:href=\"#md0038b5395\" y=\"82.482866\"/>\n    </g>\n   </g>\n   <g id=\"line2d_13\">\n    <path clip-path=\"url(#pe9b5e42a75)\" d=\"M 54.09858 61.379022 \nL 91.014663 46.19212 \nL 127.930747 39.025267 \nL 164.846831 36.124399 \nL 201.762915 33.906087 \nL 238.678999 36.380358 \nL 275.595083 36.977595 \nL 312.511167 36.039079 \nL 349.427251 34.247366 \nL 386.343335 35.356521 \nL 423.259419 35.271202 \nL 460.175503 33.479489 \nL 497.091587 37.233554 \nL 534.00767 33.820767 \n\" style=\"fill:none;stroke:#0000ff;stroke-linecap:square;stroke-width:1.5;\"/>\n   </g>\n   <g id=\"patch_3\">\n    <path d=\"M 30.103125 267.868125 \nL 30.103125 22.318125 \n\" style=\"fill:none;stroke:#000000;stroke-linecap:square;stroke-linejoin:miter;stroke-width:0.8;\"/>\n   </g>\n   <g id=\"patch_4\">\n    <path d=\"M 558.003125 267.868125 \nL 558.003125 22.318125 \n\" style=\"fill:none;stroke:#000000;stroke-linecap:square;stroke-linejoin:miter;stroke-width:0.8;\"/>\n   </g>\n   <g id=\"patch_5\">\n    <path d=\"M 30.103125 267.868125 \nL 558.003125 267.868125 \n\" style=\"fill:none;stroke:#000000;stroke-linecap:square;stroke-linejoin:miter;stroke-width:0.8;\"/>\n   </g>\n   <g id=\"patch_6\">\n    <path d=\"M 30.103125 22.318125 \nL 558.003125 22.318125 \n\" style=\"fill:none;stroke:#000000;stroke-linecap:square;stroke-linejoin:miter;stroke-width:0.8;\"/>\n   </g>\n   <g id=\"text_8\">\n    <!-- Training and Validation accuracy -->\n    <defs>\n     <path d=\"M -0.296875 72.90625 \nL 61.375 72.90625 \nL 61.375 64.59375 \nL 35.5 64.59375 \nL 35.5 0 \nL 25.59375 0 \nL 25.59375 64.59375 \nL -0.296875 64.59375 \nz\n\" id=\"DejaVuSans-54\"/>\n     <path d=\"M 41.109375 46.296875 \nQ 39.59375 47.171875 37.8125 47.578125 \nQ 36.03125 48 33.890625 48 \nQ 26.265625 48 22.1875 43.046875 \nQ 18.109375 38.09375 18.109375 28.8125 \nL 18.109375 0 \nL 9.078125 0 \nL 9.078125 54.6875 \nL 18.109375 54.6875 \nL 18.109375 46.1875 \nQ 20.953125 51.171875 25.484375 53.578125 \nQ 30.03125 56 36.53125 56 \nQ 37.453125 56 38.578125 55.875 \nQ 39.703125 55.765625 41.0625 55.515625 \nz\n\" id=\"DejaVuSans-72\"/>\n     <path d=\"M 34.28125 27.484375 \nQ 23.390625 27.484375 19.1875 25 \nQ 14.984375 22.515625 14.984375 16.5 \nQ 14.984375 11.71875 18.140625 8.90625 \nQ 21.296875 6.109375 26.703125 6.109375 \nQ 34.1875 6.109375 38.703125 11.40625 \nQ 43.21875 16.703125 43.21875 25.484375 \nL 43.21875 27.484375 \nz\nM 52.203125 31.203125 \nL 52.203125 0 \nL 43.21875 0 \nL 43.21875 8.296875 \nQ 40.140625 3.328125 35.546875 0.953125 \nQ 30.953125 -1.421875 24.3125 -1.421875 \nQ 15.921875 -1.421875 10.953125 3.296875 \nQ 6 8.015625 6 15.921875 \nQ 6 25.140625 12.171875 29.828125 \nQ 18.359375 34.515625 30.609375 34.515625 \nL 43.21875 34.515625 \nL 43.21875 35.40625 \nQ 43.21875 41.609375 39.140625 45 \nQ 35.0625 48.390625 27.6875 48.390625 \nQ 23 48.390625 18.546875 47.265625 \nQ 14.109375 46.140625 10.015625 43.890625 \nL 10.015625 52.203125 \nQ 14.9375 54.109375 19.578125 55.046875 \nQ 24.21875 56 28.609375 56 \nQ 40.484375 56 46.34375 49.84375 \nQ 52.203125 43.703125 52.203125 31.203125 \nz\n\" id=\"DejaVuSans-61\"/>\n     <path d=\"M 9.421875 54.6875 \nL 18.40625 54.6875 \nL 18.40625 0 \nL 9.421875 0 \nz\nM 9.421875 75.984375 \nL 18.40625 75.984375 \nL 18.40625 64.59375 \nL 9.421875 64.59375 \nz\n\" id=\"DejaVuSans-69\"/>\n     <path d=\"M 54.890625 33.015625 \nL 54.890625 0 \nL 45.90625 0 \nL 45.90625 32.71875 \nQ 45.90625 40.484375 42.875 44.328125 \nQ 39.84375 48.1875 33.796875 48.1875 \nQ 26.515625 48.1875 22.3125 43.546875 \nQ 18.109375 38.921875 18.109375 30.90625 \nL 18.109375 0 \nL 9.078125 0 \nL 9.078125 54.6875 \nL 18.109375 54.6875 \nL 18.109375 46.1875 \nQ 21.34375 51.125 25.703125 53.5625 \nQ 30.078125 56 35.796875 56 \nQ 45.21875 56 50.046875 50.171875 \nQ 54.890625 44.34375 54.890625 33.015625 \nz\n\" id=\"DejaVuSans-6e\"/>\n     <path d=\"M 45.40625 27.984375 \nQ 45.40625 37.75 41.375 43.109375 \nQ 37.359375 48.484375 30.078125 48.484375 \nQ 22.859375 48.484375 18.828125 43.109375 \nQ 14.796875 37.75 14.796875 27.984375 \nQ 14.796875 18.265625 18.828125 12.890625 \nQ 22.859375 7.515625 30.078125 7.515625 \nQ 37.359375 7.515625 41.375 12.890625 \nQ 45.40625 18.265625 45.40625 27.984375 \nz\nM 54.390625 6.78125 \nQ 54.390625 -7.171875 48.1875 -13.984375 \nQ 42 -20.796875 29.203125 -20.796875 \nQ 24.46875 -20.796875 20.265625 -20.09375 \nQ 16.0625 -19.390625 12.109375 -17.921875 \nL 12.109375 -9.1875 \nQ 16.0625 -11.328125 19.921875 -12.34375 \nQ 23.78125 -13.375 27.78125 -13.375 \nQ 36.625 -13.375 41.015625 -8.765625 \nQ 45.40625 -4.15625 45.40625 5.171875 \nL 45.40625 9.625 \nQ 42.625 4.78125 38.28125 2.390625 \nQ 33.9375 0 27.875 0 \nQ 17.828125 0 11.671875 7.65625 \nQ 5.515625 15.328125 5.515625 27.984375 \nQ 5.515625 40.671875 11.671875 48.328125 \nQ 17.828125 56 27.875 56 \nQ 33.9375 56 38.28125 53.609375 \nQ 42.625 51.21875 45.40625 46.390625 \nL 45.40625 54.6875 \nL 54.390625 54.6875 \nz\n\" id=\"DejaVuSans-67\"/>\n     <path id=\"DejaVuSans-20\"/>\n     <path d=\"M 45.40625 46.390625 \nL 45.40625 75.984375 \nL 54.390625 75.984375 \nL 54.390625 0 \nL 45.40625 0 \nL 45.40625 8.203125 \nQ 42.578125 3.328125 38.25 0.953125 \nQ 33.9375 -1.421875 27.875 -1.421875 \nQ 17.96875 -1.421875 11.734375 6.484375 \nQ 5.515625 14.40625 5.515625 27.296875 \nQ 5.515625 40.1875 11.734375 48.09375 \nQ 17.96875 56 27.875 56 \nQ 33.9375 56 38.25 53.625 \nQ 42.578125 51.265625 45.40625 46.390625 \nz\nM 14.796875 27.296875 \nQ 14.796875 17.390625 18.875 11.75 \nQ 22.953125 6.109375 30.078125 6.109375 \nQ 37.203125 6.109375 41.296875 11.75 \nQ 45.40625 17.390625 45.40625 27.296875 \nQ 45.40625 37.203125 41.296875 42.84375 \nQ 37.203125 48.484375 30.078125 48.484375 \nQ 22.953125 48.484375 18.875 42.84375 \nQ 14.796875 37.203125 14.796875 27.296875 \nz\n\" id=\"DejaVuSans-64\"/>\n     <path d=\"M 28.609375 0 \nL 0.78125 72.90625 \nL 11.078125 72.90625 \nL 34.1875 11.53125 \nL 57.328125 72.90625 \nL 67.578125 72.90625 \nL 39.796875 0 \nz\n\" id=\"DejaVuSans-56\"/>\n     <path d=\"M 9.421875 75.984375 \nL 18.40625 75.984375 \nL 18.40625 0 \nL 9.421875 0 \nz\n\" id=\"DejaVuSans-6c\"/>\n     <path d=\"M 18.3125 70.21875 \nL 18.3125 54.6875 \nL 36.8125 54.6875 \nL 36.8125 47.703125 \nL 18.3125 47.703125 \nL 18.3125 18.015625 \nQ 18.3125 11.328125 20.140625 9.421875 \nQ 21.96875 7.515625 27.59375 7.515625 \nL 36.8125 7.515625 \nL 36.8125 0 \nL 27.59375 0 \nQ 17.1875 0 13.234375 3.875 \nQ 9.28125 7.765625 9.28125 18.015625 \nL 9.28125 47.703125 \nL 2.6875 47.703125 \nL 2.6875 54.6875 \nL 9.28125 54.6875 \nL 9.28125 70.21875 \nz\n\" id=\"DejaVuSans-74\"/>\n     <path d=\"M 30.609375 48.390625 \nQ 23.390625 48.390625 19.1875 42.75 \nQ 14.984375 37.109375 14.984375 27.296875 \nQ 14.984375 17.484375 19.15625 11.84375 \nQ 23.34375 6.203125 30.609375 6.203125 \nQ 37.796875 6.203125 41.984375 11.859375 \nQ 46.1875 17.53125 46.1875 27.296875 \nQ 46.1875 37.015625 41.984375 42.703125 \nQ 37.796875 48.390625 30.609375 48.390625 \nz\nM 30.609375 56 \nQ 42.328125 56 49.015625 48.375 \nQ 55.71875 40.765625 55.71875 27.296875 \nQ 55.71875 13.875 49.015625 6.21875 \nQ 42.328125 -1.421875 30.609375 -1.421875 \nQ 18.84375 -1.421875 12.171875 6.21875 \nQ 5.515625 13.875 5.515625 27.296875 \nQ 5.515625 40.765625 12.171875 48.375 \nQ 18.84375 56 30.609375 56 \nz\n\" id=\"DejaVuSans-6f\"/>\n     <path d=\"M 48.78125 52.59375 \nL 48.78125 44.1875 \nQ 44.96875 46.296875 41.140625 47.34375 \nQ 37.3125 48.390625 33.40625 48.390625 \nQ 24.65625 48.390625 19.8125 42.84375 \nQ 14.984375 37.3125 14.984375 27.296875 \nQ 14.984375 17.28125 19.8125 11.734375 \nQ 24.65625 6.203125 33.40625 6.203125 \nQ 37.3125 6.203125 41.140625 7.25 \nQ 44.96875 8.296875 48.78125 10.40625 \nL 48.78125 2.09375 \nQ 45.015625 0.34375 40.984375 -0.53125 \nQ 36.96875 -1.421875 32.421875 -1.421875 \nQ 20.0625 -1.421875 12.78125 6.34375 \nQ 5.515625 14.109375 5.515625 27.296875 \nQ 5.515625 40.671875 12.859375 48.328125 \nQ 20.21875 56 33.015625 56 \nQ 37.15625 56 41.109375 55.140625 \nQ 45.0625 54.296875 48.78125 52.59375 \nz\n\" id=\"DejaVuSans-63\"/>\n     <path d=\"M 8.5 21.578125 \nL 8.5 54.6875 \nL 17.484375 54.6875 \nL 17.484375 21.921875 \nQ 17.484375 14.15625 20.5 10.265625 \nQ 23.53125 6.390625 29.59375 6.390625 \nQ 36.859375 6.390625 41.078125 11.03125 \nQ 45.3125 15.671875 45.3125 23.6875 \nL 45.3125 54.6875 \nL 54.296875 54.6875 \nL 54.296875 0 \nL 45.3125 0 \nL 45.3125 8.40625 \nQ 42.046875 3.421875 37.71875 1 \nQ 33.40625 -1.421875 27.6875 -1.421875 \nQ 18.265625 -1.421875 13.375 4.4375 \nQ 8.5 10.296875 8.5 21.578125 \nz\nM 31.109375 56 \nz\n\" id=\"DejaVuSans-75\"/>\n     <path d=\"M 32.171875 -5.078125 \nQ 28.375 -14.84375 24.75 -17.8125 \nQ 21.140625 -20.796875 15.09375 -20.796875 \nL 7.90625 -20.796875 \nL 7.90625 -13.28125 \nL 13.1875 -13.28125 \nQ 16.890625 -13.28125 18.9375 -11.515625 \nQ 21 -9.765625 23.484375 -3.21875 \nL 25.09375 0.875 \nL 2.984375 54.6875 \nL 12.5 54.6875 \nL 29.59375 11.921875 \nL 46.6875 54.6875 \nL 56.203125 54.6875 \nz\n\" id=\"DejaVuSans-79\"/>\n    </defs>\n    <g transform=\"translate(195.342813 16.318125)scale(0.12 -0.12)\">\n     <use xlink:href=\"#DejaVuSans-54\"/>\n     <use x=\"60.865234\" xlink:href=\"#DejaVuSans-72\"/>\n     <use x=\"101.978516\" xlink:href=\"#DejaVuSans-61\"/>\n     <use x=\"163.257812\" xlink:href=\"#DejaVuSans-69\"/>\n     <use x=\"191.041016\" xlink:href=\"#DejaVuSans-6e\"/>\n     <use x=\"254.419922\" xlink:href=\"#DejaVuSans-69\"/>\n     <use x=\"282.203125\" xlink:href=\"#DejaVuSans-6e\"/>\n     <use x=\"345.582031\" xlink:href=\"#DejaVuSans-67\"/>\n     <use x=\"409.058594\" xlink:href=\"#DejaVuSans-20\"/>\n     <use x=\"440.845703\" xlink:href=\"#DejaVuSans-61\"/>\n     <use x=\"502.125\" xlink:href=\"#DejaVuSans-6e\"/>\n     <use x=\"565.503906\" xlink:href=\"#DejaVuSans-64\"/>\n     <use x=\"628.980469\" xlink:href=\"#DejaVuSans-20\"/>\n     <use x=\"660.767578\" xlink:href=\"#DejaVuSans-56\"/>\n     <use x=\"729.066406\" xlink:href=\"#DejaVuSans-61\"/>\n     <use x=\"790.345703\" xlink:href=\"#DejaVuSans-6c\"/>\n     <use x=\"818.128906\" xlink:href=\"#DejaVuSans-69\"/>\n     <use x=\"845.912109\" xlink:href=\"#DejaVuSans-64\"/>\n     <use x=\"909.388672\" xlink:href=\"#DejaVuSans-61\"/>\n     <use x=\"970.667969\" xlink:href=\"#DejaVuSans-74\"/>\n     <use x=\"1009.876953\" xlink:href=\"#DejaVuSans-69\"/>\n     <use x=\"1037.660156\" xlink:href=\"#DejaVuSans-6f\"/>\n     <use x=\"1098.841797\" xlink:href=\"#DejaVuSans-6e\"/>\n     <use x=\"1162.220703\" xlink:href=\"#DejaVuSans-20\"/>\n     <use x=\"1194.007812\" xlink:href=\"#DejaVuSans-61\"/>\n     <use x=\"1255.287109\" xlink:href=\"#DejaVuSans-63\"/>\n     <use x=\"1310.267578\" xlink:href=\"#DejaVuSans-63\"/>\n     <use x=\"1365.248047\" xlink:href=\"#DejaVuSans-75\"/>\n     <use x=\"1428.626953\" xlink:href=\"#DejaVuSans-72\"/>\n     <use x=\"1469.740234\" xlink:href=\"#DejaVuSans-61\"/>\n     <use x=\"1531.019531\" xlink:href=\"#DejaVuSans-63\"/>\n     <use x=\"1586\" xlink:href=\"#DejaVuSans-79\"/>\n    </g>\n   </g>\n   <g id=\"legend_1\">\n    <g id=\"patch_7\">\n     <path d=\"M 420.560938 262.868125 \nL 551.003125 262.868125 \nQ 553.003125 262.868125 553.003125 260.868125 \nL 553.003125 232.511875 \nQ 553.003125 230.511875 551.003125 230.511875 \nL 420.560938 230.511875 \nQ 418.560938 230.511875 418.560938 232.511875 \nL 418.560938 260.868125 \nQ 418.560938 262.868125 420.560938 262.868125 \nz\n\" style=\"fill:#ffffff;opacity:0.8;stroke:#cccccc;stroke-linejoin:miter;\"/>\n    </g>\n    <g id=\"line2d_14\"/>\n    <g id=\"line2d_15\">\n     <g>\n      <use style=\"fill:#0000ff;stroke:#0000ff;\" x=\"432.560938\" xlink:href=\"#md0038b5395\" y=\"238.610312\"/>\n     </g>\n    </g>\n    <g id=\"text_9\">\n     <!-- Training accuracy -->\n     <g transform=\"translate(450.560938 242.110312)scale(0.1 -0.1)\">\n      <use xlink:href=\"#DejaVuSans-54\"/>\n      <use x=\"60.865234\" xlink:href=\"#DejaVuSans-72\"/>\n      <use x=\"101.978516\" xlink:href=\"#DejaVuSans-61\"/>\n      <use x=\"163.257812\" xlink:href=\"#DejaVuSans-69\"/>\n      <use x=\"191.041016\" xlink:href=\"#DejaVuSans-6e\"/>\n      <use x=\"254.419922\" xlink:href=\"#DejaVuSans-69\"/>\n      <use x=\"282.203125\" xlink:href=\"#DejaVuSans-6e\"/>\n      <use x=\"345.582031\" xlink:href=\"#DejaVuSans-67\"/>\n      <use x=\"409.058594\" xlink:href=\"#DejaVuSans-20\"/>\n      <use x=\"440.845703\" xlink:href=\"#DejaVuSans-61\"/>\n      <use x=\"502.125\" xlink:href=\"#DejaVuSans-63\"/>\n      <use x=\"557.105469\" xlink:href=\"#DejaVuSans-63\"/>\n      <use x=\"612.085938\" xlink:href=\"#DejaVuSans-75\"/>\n      <use x=\"675.464844\" xlink:href=\"#DejaVuSans-72\"/>\n      <use x=\"716.578125\" xlink:href=\"#DejaVuSans-61\"/>\n      <use x=\"777.857422\" xlink:href=\"#DejaVuSans-63\"/>\n      <use x=\"832.837891\" xlink:href=\"#DejaVuSans-79\"/>\n     </g>\n    </g>\n    <g id=\"line2d_16\">\n     <path d=\"M 422.560938 253.288437 \nL 442.560938 253.288437 \n\" style=\"fill:none;stroke:#0000ff;stroke-linecap:square;stroke-width:1.5;\"/>\n    </g>\n    <g id=\"line2d_17\"/>\n    <g id=\"text_10\">\n     <!-- Validation accuracy -->\n     <g transform=\"translate(450.560938 256.788437)scale(0.1 -0.1)\">\n      <use xlink:href=\"#DejaVuSans-56\"/>\n      <use x=\"68.298828\" xlink:href=\"#DejaVuSans-61\"/>\n      <use x=\"129.578125\" xlink:href=\"#DejaVuSans-6c\"/>\n      <use x=\"157.361328\" xlink:href=\"#DejaVuSans-69\"/>\n      <use x=\"185.144531\" xlink:href=\"#DejaVuSans-64\"/>\n      <use x=\"248.621094\" xlink:href=\"#DejaVuSans-61\"/>\n      <use x=\"309.900391\" xlink:href=\"#DejaVuSans-74\"/>\n      <use x=\"349.109375\" xlink:href=\"#DejaVuSans-69\"/>\n      <use x=\"376.892578\" xlink:href=\"#DejaVuSans-6f\"/>\n      <use x=\"438.074219\" xlink:href=\"#DejaVuSans-6e\"/>\n      <use x=\"501.453125\" xlink:href=\"#DejaVuSans-20\"/>\n      <use x=\"533.240234\" xlink:href=\"#DejaVuSans-61\"/>\n      <use x=\"594.519531\" xlink:href=\"#DejaVuSans-63\"/>\n      <use x=\"649.5\" xlink:href=\"#DejaVuSans-63\"/>\n      <use x=\"704.480469\" xlink:href=\"#DejaVuSans-75\"/>\n      <use x=\"767.859375\" xlink:href=\"#DejaVuSans-72\"/>\n      <use x=\"808.972656\" xlink:href=\"#DejaVuSans-61\"/>\n      <use x=\"870.251953\" xlink:href=\"#DejaVuSans-63\"/>\n      <use x=\"925.232422\" xlink:href=\"#DejaVuSans-79\"/>\n     </g>\n    </g>\n   </g>\n  </g>\n  <g id=\"axes_2\">\n   <g id=\"patch_8\">\n    <path d=\"M 30.103125 543.718125 \nL 558.003125 543.718125 \nL 558.003125 298.168125 \nL 30.103125 298.168125 \nz\n\" style=\"fill:#ffffff;\"/>\n   </g>\n   <g id=\"matplotlib.axis_3\">\n    <g id=\"xtick_5\">\n     <g id=\"line2d_18\">\n      <g>\n       <use style=\"stroke:#000000;stroke-width:0.8;\" x=\"127.930747\" xlink:href=\"#m3b7d1c9523\" y=\"543.718125\"/>\n      </g>\n     </g>\n     <g id=\"text_11\">\n      <!-- 3 -->\n      <g transform=\"translate(124.749497 558.316562)scale(0.1 -0.1)\">\n       <use xlink:href=\"#DejaVuSans-33\"/>\n      </g>\n     </g>\n    </g>\n    <g id=\"xtick_6\">\n     <g id=\"line2d_19\">\n      <g>\n       <use style=\"stroke:#000000;stroke-width:0.8;\" x=\"238.678999\" xlink:href=\"#m3b7d1c9523\" y=\"543.718125\"/>\n      </g>\n     </g>\n     <g id=\"text_12\">\n      <!-- 6 -->\n      <g transform=\"translate(235.497749 558.316562)scale(0.1 -0.1)\">\n       <use xlink:href=\"#DejaVuSans-36\"/>\n      </g>\n     </g>\n    </g>\n    <g id=\"xtick_7\">\n     <g id=\"line2d_20\">\n      <g>\n       <use style=\"stroke:#000000;stroke-width:0.8;\" x=\"349.427251\" xlink:href=\"#m3b7d1c9523\" y=\"543.718125\"/>\n      </g>\n     </g>\n     <g id=\"text_13\">\n      <!-- 9 -->\n      <g transform=\"translate(346.246001 558.316562)scale(0.1 -0.1)\">\n       <use xlink:href=\"#DejaVuSans-39\"/>\n      </g>\n     </g>\n    </g>\n    <g id=\"xtick_8\">\n     <g id=\"line2d_21\">\n      <g>\n       <use style=\"stroke:#000000;stroke-width:0.8;\" x=\"460.175503\" xlink:href=\"#m3b7d1c9523\" y=\"543.718125\"/>\n      </g>\n     </g>\n     <g id=\"text_14\">\n      <!-- 12 -->\n      <defs>\n       <path d=\"M 12.40625 8.296875 \nL 28.515625 8.296875 \nL 28.515625 63.921875 \nL 10.984375 60.40625 \nL 10.984375 69.390625 \nL 28.421875 72.90625 \nL 38.28125 72.90625 \nL 38.28125 8.296875 \nL 54.390625 8.296875 \nL 54.390625 0 \nL 12.40625 0 \nz\n\" id=\"DejaVuSans-31\"/>\n       <path d=\"M 19.1875 8.296875 \nL 53.609375 8.296875 \nL 53.609375 0 \nL 7.328125 0 \nL 7.328125 8.296875 \nQ 12.9375 14.109375 22.625 23.890625 \nQ 32.328125 33.6875 34.8125 36.53125 \nQ 39.546875 41.84375 41.421875 45.53125 \nQ 43.3125 49.21875 43.3125 52.78125 \nQ 43.3125 58.59375 39.234375 62.25 \nQ 35.15625 65.921875 28.609375 65.921875 \nQ 23.96875 65.921875 18.8125 64.3125 \nQ 13.671875 62.703125 7.8125 59.421875 \nL 7.8125 69.390625 \nQ 13.765625 71.78125 18.9375 73 \nQ 24.125 74.21875 28.421875 74.21875 \nQ 39.75 74.21875 46.484375 68.546875 \nQ 53.21875 62.890625 53.21875 53.421875 \nQ 53.21875 48.921875 51.53125 44.890625 \nQ 49.859375 40.875 45.40625 35.40625 \nQ 44.1875 33.984375 37.640625 27.21875 \nQ 31.109375 20.453125 19.1875 8.296875 \nz\n\" id=\"DejaVuSans-32\"/>\n      </defs>\n      <g transform=\"translate(453.813003 558.316562)scale(0.1 -0.1)\">\n       <use xlink:href=\"#DejaVuSans-31\"/>\n       <use x=\"63.623047\" xlink:href=\"#DejaVuSans-32\"/>\n      </g>\n     </g>\n    </g>\n   </g>\n   <g id=\"matplotlib.axis_4\">\n    <g id=\"ytick_8\">\n     <g id=\"line2d_22\">\n      <g>\n       <use style=\"stroke:#000000;stroke-width:0.8;\" x=\"30.103125\" xlink:href=\"#m134c04623b\" y=\"522.147838\"/>\n      </g>\n     </g>\n     <g id=\"text_15\">\n      <!-- 0.5 -->\n      <g transform=\"translate(7.2 525.947057)scale(0.1 -0.1)\">\n       <use xlink:href=\"#DejaVuSans-30\"/>\n       <use x=\"63.623047\" xlink:href=\"#DejaVuSans-2e\"/>\n       <use x=\"95.410156\" xlink:href=\"#DejaVuSans-35\"/>\n      </g>\n     </g>\n    </g>\n    <g id=\"ytick_9\">\n     <g id=\"line2d_23\">\n      <g>\n       <use style=\"stroke:#000000;stroke-width:0.8;\" x=\"30.103125\" xlink:href=\"#m134c04623b\" y=\"490.542066\"/>\n      </g>\n     </g>\n     <g id=\"text_16\">\n      <!-- 1.0 -->\n      <g transform=\"translate(7.2 494.341284)scale(0.1 -0.1)\">\n       <use xlink:href=\"#DejaVuSans-31\"/>\n       <use x=\"63.623047\" xlink:href=\"#DejaVuSans-2e\"/>\n       <use x=\"95.410156\" xlink:href=\"#DejaVuSans-30\"/>\n      </g>\n     </g>\n    </g>\n    <g id=\"ytick_10\">\n     <g id=\"line2d_24\">\n      <g>\n       <use style=\"stroke:#000000;stroke-width:0.8;\" x=\"30.103125\" xlink:href=\"#m134c04623b\" y=\"458.936293\"/>\n      </g>\n     </g>\n     <g id=\"text_17\">\n      <!-- 1.5 -->\n      <g transform=\"translate(7.2 462.735512)scale(0.1 -0.1)\">\n       <use xlink:href=\"#DejaVuSans-31\"/>\n       <use x=\"63.623047\" xlink:href=\"#DejaVuSans-2e\"/>\n       <use x=\"95.410156\" xlink:href=\"#DejaVuSans-35\"/>\n      </g>\n     </g>\n    </g>\n    <g id=\"ytick_11\">\n     <g id=\"line2d_25\">\n      <g>\n       <use style=\"stroke:#000000;stroke-width:0.8;\" x=\"30.103125\" xlink:href=\"#m134c04623b\" y=\"427.33052\"/>\n      </g>\n     </g>\n     <g id=\"text_18\">\n      <!-- 2.0 -->\n      <g transform=\"translate(7.2 431.129739)scale(0.1 -0.1)\">\n       <use xlink:href=\"#DejaVuSans-32\"/>\n       <use x=\"63.623047\" xlink:href=\"#DejaVuSans-2e\"/>\n       <use x=\"95.410156\" xlink:href=\"#DejaVuSans-30\"/>\n      </g>\n     </g>\n    </g>\n    <g id=\"ytick_12\">\n     <g id=\"line2d_26\">\n      <g>\n       <use style=\"stroke:#000000;stroke-width:0.8;\" x=\"30.103125\" xlink:href=\"#m134c04623b\" y=\"395.724748\"/>\n      </g>\n     </g>\n     <g id=\"text_19\">\n      <!-- 2.5 -->\n      <g transform=\"translate(7.2 399.523966)scale(0.1 -0.1)\">\n       <use xlink:href=\"#DejaVuSans-32\"/>\n       <use x=\"63.623047\" xlink:href=\"#DejaVuSans-2e\"/>\n       <use x=\"95.410156\" xlink:href=\"#DejaVuSans-35\"/>\n      </g>\n     </g>\n    </g>\n    <g id=\"ytick_13\">\n     <g id=\"line2d_27\">\n      <g>\n       <use style=\"stroke:#000000;stroke-width:0.8;\" x=\"30.103125\" xlink:href=\"#m134c04623b\" y=\"364.118975\"/>\n      </g>\n     </g>\n     <g id=\"text_20\">\n      <!-- 3.0 -->\n      <g transform=\"translate(7.2 367.918194)scale(0.1 -0.1)\">\n       <use xlink:href=\"#DejaVuSans-33\"/>\n       <use x=\"63.623047\" xlink:href=\"#DejaVuSans-2e\"/>\n       <use x=\"95.410156\" xlink:href=\"#DejaVuSans-30\"/>\n      </g>\n     </g>\n    </g>\n    <g id=\"ytick_14\">\n     <g id=\"line2d_28\">\n      <g>\n       <use style=\"stroke:#000000;stroke-width:0.8;\" x=\"30.103125\" xlink:href=\"#m134c04623b\" y=\"332.513202\"/>\n      </g>\n     </g>\n     <g id=\"text_21\">\n      <!-- 3.5 -->\n      <g transform=\"translate(7.2 336.312421)scale(0.1 -0.1)\">\n       <use xlink:href=\"#DejaVuSans-33\"/>\n       <use x=\"63.623047\" xlink:href=\"#DejaVuSans-2e\"/>\n       <use x=\"95.410156\" xlink:href=\"#DejaVuSans-35\"/>\n      </g>\n     </g>\n    </g>\n    <g id=\"ytick_15\">\n     <g id=\"line2d_29\">\n      <g>\n       <use style=\"stroke:#000000;stroke-width:0.8;\" x=\"30.103125\" xlink:href=\"#m134c04623b\" y=\"300.90743\"/>\n      </g>\n     </g>\n     <g id=\"text_22\">\n      <!-- 4.0 -->\n      <g transform=\"translate(7.2 304.706648)scale(0.1 -0.1)\">\n       <use xlink:href=\"#DejaVuSans-34\"/>\n       <use x=\"63.623047\" xlink:href=\"#DejaVuSans-2e\"/>\n       <use x=\"95.410156\" xlink:href=\"#DejaVuSans-30\"/>\n      </g>\n     </g>\n    </g>\n   </g>\n   <g id=\"line2d_30\">\n    <defs>\n     <path d=\"M 0 3 \nC 0.795609 3 1.55874 2.683901 2.12132 2.12132 \nC 2.683901 1.55874 3 0.795609 3 0 \nC 3 -0.795609 2.683901 -1.55874 2.12132 -2.12132 \nC 1.55874 -2.683901 0.795609 -3 0 -3 \nC -0.795609 -3 -1.55874 -2.683901 -2.12132 -2.12132 \nC -2.683901 -1.55874 -3 -0.795609 -3 0 \nC -3 0.795609 -2.683901 1.55874 -2.12132 2.12132 \nC -1.55874 2.683901 -0.795609 3 0 3 \nz\n\" id=\"mcd6cfc40df\" style=\"stroke:#ff0000;\"/>\n    </defs>\n    <g clip-path=\"url(#p2b092526bd)\">\n     <use style=\"fill:#ff0000;stroke:#ff0000;\" x=\"54.09858\" xlink:href=\"#mcd6cfc40df\" y=\"309.329489\"/>\n     <use style=\"fill:#ff0000;stroke:#ff0000;\" x=\"91.014663\" xlink:href=\"#mcd6cfc40df\" y=\"422.172618\"/>\n     <use style=\"fill:#ff0000;stroke:#ff0000;\" x=\"127.930747\" xlink:href=\"#mcd6cfc40df\" y=\"461.205281\"/>\n     <use style=\"fill:#ff0000;stroke:#ff0000;\" x=\"164.846831\" xlink:href=\"#mcd6cfc40df\" y=\"473.566072\"/>\n     <use style=\"fill:#ff0000;stroke:#ff0000;\" x=\"201.762915\" xlink:href=\"#mcd6cfc40df\" y=\"480.53617\"/>\n     <use style=\"fill:#ff0000;stroke:#ff0000;\" x=\"238.678999\" xlink:href=\"#mcd6cfc40df\" y=\"484.666011\"/>\n     <use style=\"fill:#ff0000;stroke:#ff0000;\" x=\"275.595083\" xlink:href=\"#mcd6cfc40df\" y=\"487.136057\"/>\n     <use style=\"fill:#ff0000;stroke:#ff0000;\" x=\"312.511167\" xlink:href=\"#mcd6cfc40df\" y=\"489.627571\"/>\n     <use style=\"fill:#ff0000;stroke:#ff0000;\" x=\"349.427251\" xlink:href=\"#mcd6cfc40df\" y=\"492.286385\"/>\n     <use style=\"fill:#ff0000;stroke:#ff0000;\" x=\"386.343335\" xlink:href=\"#mcd6cfc40df\" y=\"494.218745\"/>\n     <use style=\"fill:#ff0000;stroke:#ff0000;\" x=\"423.259419\" xlink:href=\"#mcd6cfc40df\" y=\"494.666577\"/>\n     <use style=\"fill:#ff0000;stroke:#ff0000;\" x=\"460.175503\" xlink:href=\"#mcd6cfc40df\" y=\"497.119137\"/>\n     <use style=\"fill:#ff0000;stroke:#ff0000;\" x=\"497.091587\" xlink:href=\"#mcd6cfc40df\" y=\"498.275927\"/>\n     <use style=\"fill:#ff0000;stroke:#ff0000;\" x=\"534.00767\" xlink:href=\"#mcd6cfc40df\" y=\"499.597389\"/>\n    </g>\n   </g>\n   <g id=\"line2d_31\">\n    <path clip-path=\"url(#p2b092526bd)\" d=\"M 54.09858 433.957252 \nL 91.014663 509.3 \nL 127.930747 522.66752 \nL 164.846831 527.233818 \nL 201.762915 529.312838 \nL 238.678999 530.275496 \nL 275.595083 530.602749 \nL 312.511167 530.861826 \nL 349.427251 531.955982 \nL 386.343335 531.715514 \nL 423.259419 532.28681 \nL 460.175503 532.461971 \nL 497.091587 531.709847 \nL 534.00767 532.556761 \n\" style=\"fill:none;stroke:#ff0000;stroke-linecap:square;stroke-width:1.5;\"/>\n   </g>\n   <g id=\"patch_9\">\n    <path d=\"M 30.103125 543.718125 \nL 30.103125 298.168125 \n\" style=\"fill:none;stroke:#000000;stroke-linecap:square;stroke-linejoin:miter;stroke-width:0.8;\"/>\n   </g>\n   <g id=\"patch_10\">\n    <path d=\"M 558.003125 543.718125 \nL 558.003125 298.168125 \n\" style=\"fill:none;stroke:#000000;stroke-linecap:square;stroke-linejoin:miter;stroke-width:0.8;\"/>\n   </g>\n   <g id=\"patch_11\">\n    <path d=\"M 30.103125 543.718125 \nL 558.003125 543.718125 \n\" style=\"fill:none;stroke:#000000;stroke-linecap:square;stroke-linejoin:miter;stroke-width:0.8;\"/>\n   </g>\n   <g id=\"patch_12\">\n    <path d=\"M 30.103125 298.168125 \nL 558.003125 298.168125 \n\" style=\"fill:none;stroke:#000000;stroke-linecap:square;stroke-linejoin:miter;stroke-width:0.8;\"/>\n   </g>\n   <g id=\"text_23\">\n    <!-- Training and Validation loss -->\n    <defs>\n     <path d=\"M 44.28125 53.078125 \nL 44.28125 44.578125 \nQ 40.484375 46.53125 36.375 47.5 \nQ 32.28125 48.484375 27.875 48.484375 \nQ 21.1875 48.484375 17.84375 46.4375 \nQ 14.5 44.390625 14.5 40.28125 \nQ 14.5 37.15625 16.890625 35.375 \nQ 19.28125 33.59375 26.515625 31.984375 \nL 29.59375 31.296875 \nQ 39.15625 29.25 43.1875 25.515625 \nQ 47.21875 21.78125 47.21875 15.09375 \nQ 47.21875 7.46875 41.1875 3.015625 \nQ 35.15625 -1.421875 24.609375 -1.421875 \nQ 20.21875 -1.421875 15.453125 -0.5625 \nQ 10.6875 0.296875 5.421875 2 \nL 5.421875 11.28125 \nQ 10.40625 8.6875 15.234375 7.390625 \nQ 20.0625 6.109375 24.8125 6.109375 \nQ 31.15625 6.109375 34.5625 8.28125 \nQ 37.984375 10.453125 37.984375 14.40625 \nQ 37.984375 18.0625 35.515625 20.015625 \nQ 33.0625 21.96875 24.703125 23.78125 \nL 21.578125 24.515625 \nQ 13.234375 26.265625 9.515625 29.90625 \nQ 5.8125 33.546875 5.8125 39.890625 \nQ 5.8125 47.609375 11.28125 51.796875 \nQ 16.75 56 26.8125 56 \nQ 31.78125 56 36.171875 55.265625 \nQ 40.578125 54.546875 44.28125 53.078125 \nz\n\" id=\"DejaVuSans-73\"/>\n    </defs>\n    <g transform=\"translate(210.824688 292.168125)scale(0.12 -0.12)\">\n     <use xlink:href=\"#DejaVuSans-54\"/>\n     <use x=\"60.865234\" xlink:href=\"#DejaVuSans-72\"/>\n     <use x=\"101.978516\" xlink:href=\"#DejaVuSans-61\"/>\n     <use x=\"163.257812\" xlink:href=\"#DejaVuSans-69\"/>\n     <use x=\"191.041016\" xlink:href=\"#DejaVuSans-6e\"/>\n     <use x=\"254.419922\" xlink:href=\"#DejaVuSans-69\"/>\n     <use x=\"282.203125\" xlink:href=\"#DejaVuSans-6e\"/>\n     <use x=\"345.582031\" xlink:href=\"#DejaVuSans-67\"/>\n     <use x=\"409.058594\" xlink:href=\"#DejaVuSans-20\"/>\n     <use x=\"440.845703\" xlink:href=\"#DejaVuSans-61\"/>\n     <use x=\"502.125\" xlink:href=\"#DejaVuSans-6e\"/>\n     <use x=\"565.503906\" xlink:href=\"#DejaVuSans-64\"/>\n     <use x=\"628.980469\" xlink:href=\"#DejaVuSans-20\"/>\n     <use x=\"660.767578\" xlink:href=\"#DejaVuSans-56\"/>\n     <use x=\"729.066406\" xlink:href=\"#DejaVuSans-61\"/>\n     <use x=\"790.345703\" xlink:href=\"#DejaVuSans-6c\"/>\n     <use x=\"818.128906\" xlink:href=\"#DejaVuSans-69\"/>\n     <use x=\"845.912109\" xlink:href=\"#DejaVuSans-64\"/>\n     <use x=\"909.388672\" xlink:href=\"#DejaVuSans-61\"/>\n     <use x=\"970.667969\" xlink:href=\"#DejaVuSans-74\"/>\n     <use x=\"1009.876953\" xlink:href=\"#DejaVuSans-69\"/>\n     <use x=\"1037.660156\" xlink:href=\"#DejaVuSans-6f\"/>\n     <use x=\"1098.841797\" xlink:href=\"#DejaVuSans-6e\"/>\n     <use x=\"1162.220703\" xlink:href=\"#DejaVuSans-20\"/>\n     <use x=\"1194.007812\" xlink:href=\"#DejaVuSans-6c\"/>\n     <use x=\"1221.791016\" xlink:href=\"#DejaVuSans-6f\"/>\n     <use x=\"1282.972656\" xlink:href=\"#DejaVuSans-73\"/>\n     <use x=\"1335.072266\" xlink:href=\"#DejaVuSans-73\"/>\n    </g>\n   </g>\n   <g id=\"legend_2\">\n    <g id=\"patch_13\">\n     <path d=\"M 446.364063 335.524375 \nL 551.003125 335.524375 \nQ 553.003125 335.524375 553.003125 333.524375 \nL 553.003125 305.168125 \nQ 553.003125 303.168125 551.003125 303.168125 \nL 446.364063 303.168125 \nQ 444.364063 303.168125 444.364063 305.168125 \nL 444.364063 333.524375 \nQ 444.364063 335.524375 446.364063 335.524375 \nz\n\" style=\"fill:#ffffff;opacity:0.8;stroke:#cccccc;stroke-linejoin:miter;\"/>\n    </g>\n    <g id=\"line2d_32\"/>\n    <g id=\"line2d_33\">\n     <g>\n      <use style=\"fill:#ff0000;stroke:#ff0000;\" x=\"458.364063\" xlink:href=\"#mcd6cfc40df\" y=\"311.266562\"/>\n     </g>\n    </g>\n    <g id=\"text_24\">\n     <!-- Training loss -->\n     <g transform=\"translate(476.364063 314.766562)scale(0.1 -0.1)\">\n      <use xlink:href=\"#DejaVuSans-54\"/>\n      <use x=\"60.865234\" xlink:href=\"#DejaVuSans-72\"/>\n      <use x=\"101.978516\" xlink:href=\"#DejaVuSans-61\"/>\n      <use x=\"163.257812\" xlink:href=\"#DejaVuSans-69\"/>\n      <use x=\"191.041016\" xlink:href=\"#DejaVuSans-6e\"/>\n      <use x=\"254.419922\" xlink:href=\"#DejaVuSans-69\"/>\n      <use x=\"282.203125\" xlink:href=\"#DejaVuSans-6e\"/>\n      <use x=\"345.582031\" xlink:href=\"#DejaVuSans-67\"/>\n      <use x=\"409.058594\" xlink:href=\"#DejaVuSans-20\"/>\n      <use x=\"440.845703\" xlink:href=\"#DejaVuSans-6c\"/>\n      <use x=\"468.628906\" xlink:href=\"#DejaVuSans-6f\"/>\n      <use x=\"529.810547\" xlink:href=\"#DejaVuSans-73\"/>\n      <use x=\"581.910156\" xlink:href=\"#DejaVuSans-73\"/>\n     </g>\n    </g>\n    <g id=\"line2d_34\">\n     <path d=\"M 448.364063 325.944687 \nL 468.364063 325.944687 \n\" style=\"fill:none;stroke:#ff0000;stroke-linecap:square;stroke-width:1.5;\"/>\n    </g>\n    <g id=\"line2d_35\"/>\n    <g id=\"text_25\">\n     <!-- Validation loss -->\n     <g transform=\"translate(476.364063 329.444687)scale(0.1 -0.1)\">\n      <use xlink:href=\"#DejaVuSans-56\"/>\n      <use x=\"68.298828\" xlink:href=\"#DejaVuSans-61\"/>\n      <use x=\"129.578125\" xlink:href=\"#DejaVuSans-6c\"/>\n      <use x=\"157.361328\" xlink:href=\"#DejaVuSans-69\"/>\n      <use x=\"185.144531\" xlink:href=\"#DejaVuSans-64\"/>\n      <use x=\"248.621094\" xlink:href=\"#DejaVuSans-61\"/>\n      <use x=\"309.900391\" xlink:href=\"#DejaVuSans-74\"/>\n      <use x=\"349.109375\" xlink:href=\"#DejaVuSans-69\"/>\n      <use x=\"376.892578\" xlink:href=\"#DejaVuSans-6f\"/>\n      <use x=\"438.074219\" xlink:href=\"#DejaVuSans-6e\"/>\n      <use x=\"501.453125\" xlink:href=\"#DejaVuSans-20\"/>\n      <use x=\"533.240234\" xlink:href=\"#DejaVuSans-6c\"/>\n      <use x=\"561.023438\" xlink:href=\"#DejaVuSans-6f\"/>\n      <use x=\"622.205078\" xlink:href=\"#DejaVuSans-73\"/>\n      <use x=\"674.304688\" xlink:href=\"#DejaVuSans-73\"/>\n     </g>\n    </g>\n   </g>\n  </g>\n </g>\n <defs>\n  <clipPath id=\"pe9b5e42a75\">\n   <rect height=\"245.55\" width=\"527.9\" x=\"30.103125\" y=\"22.318125\"/>\n  </clipPath>\n  <clipPath id=\"p2b092526bd\">\n   <rect height=\"245.55\" width=\"527.9\" x=\"30.103125\" y=\"298.168125\"/>\n  </clipPath>\n </defs>\n</svg>\n"
          },
          "metadata": {
            "tags": []
          }
        }
      ]
    },
    {
      "metadata": {
        "id": "sYkv0nZUSZv4",
        "colab_type": "code",
        "outputId": "af382fbc-ecea-4e80-8278-4dbd17ee6e6d",
        "colab": {
          "base_uri": "https://localhost:8080/",
          "height": 131
        }
      },
      "cell_type": "code",
      "source": [
        "inception_model = models.load_model('inceptionv3_regularized.h5')\n",
        "\n",
        "test_loss, test_acc =\\\n",
        "  inception_model.evaluate_generator(test_generator, \n",
        "                                     steps=test_generator.n, \n",
        "                                     verbose=0)\n",
        "\n",
        "print('\\nTest accuracy: ', round(test_acc*100, 2))"
      ],
      "execution_count": 0,
      "outputs": [
        {
          "output_type": "stream",
          "text": [
            "/usr/local/lib/python3.6/dist-packages/keras/engine/saving.py:327: UserWarning: Error in loading the saved optimizer state. As a result, your model is starting with a freshly initialized optimizer.\n",
            "  warnings.warn('Error in loading the saved optimizer '\n"
          ],
          "name": "stderr"
        },
        {
          "output_type": "stream",
          "text": [
            "\n",
            "Test accuracy:  89.6\n"
          ],
          "name": "stdout"
        }
      ]
    },
    {
      "metadata": {
        "id": "-weYAL_wShGd",
        "colab_type": "code",
        "outputId": "527b79a1-26df-498b-a41a-f3b7f6f17efc",
        "colab": {
          "base_uri": "https://localhost:8080/",
          "height": 65
        }
      },
      "cell_type": "code",
      "source": [
        "!du --block-size=M inceptionv3_regularized.h5\n",
        "!cp inceptionv3_regularized.h5 drive/My\\ Drive/Projets\\ Formation/Projet\\ 7/models"
      ],
      "execution_count": 0,
      "outputs": [
        {
          "output_type": "stream",
          "text": [
            "135M\tinceptionv3_regularized.h5\n"
          ],
          "name": "stdout"
        }
      ]
    },
    {
      "metadata": {
        "id": "hHlsN4H8L315",
        "colab_type": "text"
      },
      "cell_type": "markdown",
      "source": [
        "### Fine-tuning du modèle entier"
      ]
    },
    {
      "metadata": {
        "id": "cAyTZ6Ka3OKZ",
        "colab_type": "text"
      },
      "cell_type": "markdown",
      "source": [
        "Prendre image là dedans\n",
        "https://sefiks.com/2017/12/10/transfer-learning-in-keras-using-inception-v3/\n",
        "\n",
        "On fine-tune les deux derniers modules d'inception (à partir de la 9e couche de concatenation) "
      ]
    },
    {
      "metadata": {
        "id": "ht_62s8ZzhfK",
        "colab_type": "code",
        "outputId": "10b5c51e-34d2-4880-9b9d-29ed7ae979dd",
        "colab": {
          "base_uri": "https://localhost:8080/",
          "height": 122
        }
      },
      "cell_type": "code",
      "source": [
        "!cp drive/My\\ Drive/Projets\\ Formation/Projet\\ 7/models/inceptionv3_regularized.h5 .\n",
        "inception_model = models.load_model('inceptionv3_regularized.h5')\n",
        "\n",
        "train_generator, valid_generator, test_generator =\\\n",
        "  create_generators(\n",
        "    base_dir = 'data', \n",
        "    batch_size = 128, \n",
        "    side_length = 299, \n",
        "    augmentation = True,\n",
        "    preprocess_input = tf.keras.applications.inception_v3.preprocess_input\n",
        ")\n",
        "\n",
        "image_shape = train_generator.image_shape\n",
        "batch_size = train_generator.batch_size\n",
        "n_classes = train_generator.num_classes"
      ],
      "execution_count": 0,
      "outputs": [
        {
          "output_type": "stream",
          "text": [
            "/usr/local/lib/python3.6/dist-packages/keras/engine/saving.py:327: UserWarning: Error in loading the saved optimizer state. As a result, your model is starting with a freshly initialized optimizer.\n",
            "  warnings.warn('Error in loading the saved optimizer '\n"
          ],
          "name": "stderr"
        },
        {
          "output_type": "stream",
          "text": [
            "Found 12345 images belonging to 120 classes.\n",
            "Found 4111 images belonging to 120 classes.\n",
            "Found 4124 images belonging to 120 classes.\n"
          ],
          "name": "stdout"
        }
      ]
    },
    {
      "metadata": {
        "id": "cKFwp4pj0CPz",
        "colab_type": "code",
        "colab": {}
      },
      "cell_type": "code",
      "source": [
        "inception_model.layers[0].trainable = True\n",
        "set_trainable = False\n",
        "\n",
        "for layer in inception_model.layers[0].layers:\n",
        "  layer.trainable = set_trainable\n",
        "  if layer.name == 'mixed8':\n",
        "    set_trainable = True\n",
        "  \n",
        "\n",
        "# for layer in inception_model.layers[0].layers:\n",
        "#   print(layer.name, layer.trainable)"
      ],
      "execution_count": 0,
      "outputs": []
    },
    {
      "metadata": {
        "id": "xUzlLAag4mI8",
        "colab_type": "code",
        "outputId": "1f1d6bc9-ad6f-4415-c57b-0f0d86693ef4",
        "colab": {
          "base_uri": "https://localhost:8080/",
          "height": 306
        }
      },
      "cell_type": "code",
      "source": [
        "inception_model.compile(optimizer=Adam(lr=1e-5),\n",
        "                        loss='categorical_crossentropy', \n",
        "                        metrics=['acc'])\n",
        "inception_model.summary()"
      ],
      "execution_count": 0,
      "outputs": [
        {
          "output_type": "stream",
          "text": [
            "_________________________________________________________________\n",
            "Layer (type)                 Output Shape              Param #   \n",
            "=================================================================\n",
            "inception_v3 (Model)         (None, 8, 8, 2048)        21802784  \n",
            "_________________________________________________________________\n",
            "global_average_pooling2d_1 ( (None, 2048)              0         \n",
            "_________________________________________________________________\n",
            "dense_1 (Dense)              (None, 2048)              4196352   \n",
            "_________________________________________________________________\n",
            "dropout_1 (Dropout)          (None, 2048)              0         \n",
            "_________________________________________________________________\n",
            "dense_2 (Dense)              (None, 120)               245880    \n",
            "=================================================================\n",
            "Total params: 26,245,016\n",
            "Trainable params: 15,557,112\n",
            "Non-trainable params: 10,687,904\n",
            "_________________________________________________________________\n"
          ],
          "name": "stdout"
        }
      ]
    },
    {
      "metadata": {
        "id": "wZGzNRxX47lk",
        "colab_type": "code",
        "outputId": "68a0ed95-0cd2-4ea9-8f64-e24f1805a2d1",
        "colab": {
          "base_uri": "https://localhost:8080/",
          "height": 1020
        }
      },
      "cell_type": "code",
      "source": [
        "##############\n",
        "# 54 MINUTES #\n",
        "##############\n",
        "\n",
        "callbacks = [\n",
        "    EarlyStopping(patience=5, min_delta=0.01),\n",
        "    ModelCheckpoint('inceptionv3_tuned.h5', save_best_only=True),\n",
        "]\n",
        "\n",
        "history = inception_model.fit_generator(\n",
        "    generator = train_generator, \n",
        "    steps_per_epoch = np.ceil(train_generator.n/batch_size),  \n",
        "    validation_data = valid_generator, \n",
        "    validation_steps = np.ceil(valid_generator.n/batch_size),\n",
        "    epochs=100, verbose=1, callbacks=callbacks)"
      ],
      "execution_count": 0,
      "outputs": [
        {
          "output_type": "stream",
          "text": [
            "Epoch 1/100\n",
            "97/97 [==============================] - 415s 4s/step - loss: 0.8674 - acc: 0.7518 - val_loss: 0.3966 - val_acc: 0.8755\n",
            "Epoch 2/100\n",
            "97/97 [==============================] - 373s 4s/step - loss: 0.7958 - acc: 0.7661 - val_loss: 0.3889 - val_acc: 0.8757\n",
            "Epoch 3/100\n",
            "97/97 [==============================] - 382s 4s/step - loss: 0.7400 - acc: 0.7827 - val_loss: 0.3822 - val_acc: 0.8755\n",
            "Epoch 4/100\n",
            "97/97 [==============================] - 382s 4s/step - loss: 0.7240 - acc: 0.7838 - val_loss: 0.3802 - val_acc: 0.8808\n",
            "Epoch 5/100\n",
            "97/97 [==============================] - 384s 4s/step - loss: 0.6869 - acc: 0.7947 - val_loss: 0.3773 - val_acc: 0.8793\n",
            "Epoch 6/100\n",
            "97/97 [==============================] - 383s 4s/step - loss: 0.6610 - acc: 0.8026 - val_loss: 0.3768 - val_acc: 0.8798\n",
            "Epoch 7/100\n",
            "97/97 [==============================] - 383s 4s/step - loss: 0.6360 - acc: 0.8079 - val_loss: 0.3745 - val_acc: 0.8786\n",
            "Epoch 8/100\n",
            "97/97 [==============================] - 382s 4s/step - loss: 0.6302 - acc: 0.8098 - val_loss: 0.3726 - val_acc: 0.8798\n"
          ],
          "name": "stdout"
        }
      ]
    },
    {
      "metadata": {
        "id": "R6mhAy0j5Hse",
        "colab_type": "code",
        "outputId": "ca10dcb3-a17d-46e4-c18f-477d23f82487",
        "colab": {
          "base_uri": "https://localhost:8080/",
          "height": 777
        }
      },
      "cell_type": "code",
      "source": [
        "learning_curves(history, mult_ticks=1)"
      ],
      "execution_count": 0,
      "outputs": [
        {
          "output_type": "display_data",
          "data": {
            "text/plain": [
              "<matplotlib.figure.Figure at 0x7f924d42bcc0>"
            ],
            "image/svg+xml": "<?xml version=\"1.0\" encoding=\"utf-8\" standalone=\"no\"?>\n<!DOCTYPE svg PUBLIC \"-//W3C//DTD SVG 1.1//EN\"\n  \"http://www.w3.org/Graphics/SVG/1.1/DTD/svg11.dtd\">\n<!-- Created with matplotlib (http://matplotlib.org/) -->\n<svg height=\"567pt\" version=\"1.1\" viewBox=\"0 0 568 567\" width=\"568pt\" xmlns=\"http://www.w3.org/2000/svg\" xmlns:xlink=\"http://www.w3.org/1999/xlink\">\n <defs>\n  <style type=\"text/css\">\n*{stroke-linecap:butt;stroke-linejoin:round;}\n  </style>\n </defs>\n <g id=\"figure_1\">\n  <g id=\"patch_1\">\n   <path d=\"M 0 567.59625 \nL 568.815625 567.59625 \nL 568.815625 0 \nL 0 0 \nz\n\" style=\"fill:none;\"/>\n  </g>\n  <g id=\"axes_1\">\n   <g id=\"patch_2\">\n    <path d=\"M 36.465625 267.868125 \nL 558.115625 267.868125 \nL 558.115625 22.318125 \nL 36.465625 22.318125 \nz\n\" style=\"fill:#ffffff;\"/>\n   </g>\n   <g id=\"matplotlib.axis_1\">\n    <g id=\"xtick_1\">\n     <g id=\"line2d_1\">\n      <defs>\n       <path d=\"M 0 0 \nL 0 3.5 \n\" id=\"md72b5ff693\" style=\"stroke:#000000;stroke-width:0.8;\"/>\n      </defs>\n      <g>\n       <use style=\"stroke:#000000;stroke-width:0.8;\" x=\"60.176989\" xlink:href=\"#md72b5ff693\" y=\"267.868125\"/>\n      </g>\n     </g>\n    </g>\n    <g id=\"xtick_2\">\n     <g id=\"line2d_2\">\n      <g>\n       <use style=\"stroke:#000000;stroke-width:0.8;\" x=\"127.923742\" xlink:href=\"#md72b5ff693\" y=\"267.868125\"/>\n      </g>\n     </g>\n    </g>\n    <g id=\"xtick_3\">\n     <g id=\"line2d_3\">\n      <g>\n       <use style=\"stroke:#000000;stroke-width:0.8;\" x=\"195.670495\" xlink:href=\"#md72b5ff693\" y=\"267.868125\"/>\n      </g>\n     </g>\n    </g>\n    <g id=\"xtick_4\">\n     <g id=\"line2d_4\">\n      <g>\n       <use style=\"stroke:#000000;stroke-width:0.8;\" x=\"263.417248\" xlink:href=\"#md72b5ff693\" y=\"267.868125\"/>\n      </g>\n     </g>\n    </g>\n    <g id=\"xtick_5\">\n     <g id=\"line2d_5\">\n      <g>\n       <use style=\"stroke:#000000;stroke-width:0.8;\" x=\"331.164002\" xlink:href=\"#md72b5ff693\" y=\"267.868125\"/>\n      </g>\n     </g>\n    </g>\n    <g id=\"xtick_6\">\n     <g id=\"line2d_6\">\n      <g>\n       <use style=\"stroke:#000000;stroke-width:0.8;\" x=\"398.910755\" xlink:href=\"#md72b5ff693\" y=\"267.868125\"/>\n      </g>\n     </g>\n    </g>\n    <g id=\"xtick_7\">\n     <g id=\"line2d_7\">\n      <g>\n       <use style=\"stroke:#000000;stroke-width:0.8;\" x=\"466.657508\" xlink:href=\"#md72b5ff693\" y=\"267.868125\"/>\n      </g>\n     </g>\n    </g>\n    <g id=\"xtick_8\">\n     <g id=\"line2d_8\">\n      <g>\n       <use style=\"stroke:#000000;stroke-width:0.8;\" x=\"534.404261\" xlink:href=\"#md72b5ff693\" y=\"267.868125\"/>\n      </g>\n     </g>\n    </g>\n   </g>\n   <g id=\"matplotlib.axis_2\">\n    <g id=\"ytick_1\">\n     <g id=\"line2d_9\">\n      <defs>\n       <path d=\"M 0 0 \nL -3.5 0 \n\" id=\"m9b12b61b95\" style=\"stroke:#000000;stroke-width:0.8;\"/>\n      </defs>\n      <g>\n       <use style=\"stroke:#000000;stroke-width:0.8;\" x=\"36.465625\" xlink:href=\"#m9b12b61b95\" y=\"243.842666\"/>\n      </g>\n     </g>\n     <g id=\"text_1\">\n      <!-- 0.76 -->\n      <defs>\n       <path d=\"M 31.78125 66.40625 \nQ 24.171875 66.40625 20.328125 58.90625 \nQ 16.5 51.421875 16.5 36.375 \nQ 16.5 21.390625 20.328125 13.890625 \nQ 24.171875 6.390625 31.78125 6.390625 \nQ 39.453125 6.390625 43.28125 13.890625 \nQ 47.125 21.390625 47.125 36.375 \nQ 47.125 51.421875 43.28125 58.90625 \nQ 39.453125 66.40625 31.78125 66.40625 \nz\nM 31.78125 74.21875 \nQ 44.046875 74.21875 50.515625 64.515625 \nQ 56.984375 54.828125 56.984375 36.375 \nQ 56.984375 17.96875 50.515625 8.265625 \nQ 44.046875 -1.421875 31.78125 -1.421875 \nQ 19.53125 -1.421875 13.0625 8.265625 \nQ 6.59375 17.96875 6.59375 36.375 \nQ 6.59375 54.828125 13.0625 64.515625 \nQ 19.53125 74.21875 31.78125 74.21875 \nz\n\" id=\"DejaVuSans-30\"/>\n       <path d=\"M 10.6875 12.40625 \nL 21 12.40625 \nL 21 0 \nL 10.6875 0 \nz\n\" id=\"DejaVuSans-2e\"/>\n       <path d=\"M 8.203125 72.90625 \nL 55.078125 72.90625 \nL 55.078125 68.703125 \nL 28.609375 0 \nL 18.3125 0 \nL 43.21875 64.59375 \nL 8.203125 64.59375 \nz\n\" id=\"DejaVuSans-37\"/>\n       <path d=\"M 33.015625 40.375 \nQ 26.375 40.375 22.484375 35.828125 \nQ 18.609375 31.296875 18.609375 23.390625 \nQ 18.609375 15.53125 22.484375 10.953125 \nQ 26.375 6.390625 33.015625 6.390625 \nQ 39.65625 6.390625 43.53125 10.953125 \nQ 47.40625 15.53125 47.40625 23.390625 \nQ 47.40625 31.296875 43.53125 35.828125 \nQ 39.65625 40.375 33.015625 40.375 \nz\nM 52.59375 71.296875 \nL 52.59375 62.3125 \nQ 48.875 64.0625 45.09375 64.984375 \nQ 41.3125 65.921875 37.59375 65.921875 \nQ 27.828125 65.921875 22.671875 59.328125 \nQ 17.53125 52.734375 16.796875 39.40625 \nQ 19.671875 43.65625 24.015625 45.921875 \nQ 28.375 48.1875 33.59375 48.1875 \nQ 44.578125 48.1875 50.953125 41.515625 \nQ 57.328125 34.859375 57.328125 23.390625 \nQ 57.328125 12.15625 50.6875 5.359375 \nQ 44.046875 -1.421875 33.015625 -1.421875 \nQ 20.359375 -1.421875 13.671875 8.265625 \nQ 6.984375 17.96875 6.984375 36.375 \nQ 6.984375 53.65625 15.1875 63.9375 \nQ 23.390625 74.21875 37.203125 74.21875 \nQ 40.921875 74.21875 44.703125 73.484375 \nQ 48.484375 72.75 52.59375 71.296875 \nz\n\" id=\"DejaVuSans-36\"/>\n      </defs>\n      <g transform=\"translate(7.2 247.641885)scale(0.1 -0.1)\">\n       <use xlink:href=\"#DejaVuSans-30\"/>\n       <use x=\"63.623047\" xlink:href=\"#DejaVuSans-2e\"/>\n       <use x=\"95.410156\" xlink:href=\"#DejaVuSans-37\"/>\n       <use x=\"159.033203\" xlink:href=\"#DejaVuSans-36\"/>\n      </g>\n     </g>\n    </g>\n    <g id=\"ytick_2\">\n     <g id=\"line2d_10\">\n      <g>\n       <use style=\"stroke:#000000;stroke-width:0.8;\" x=\"36.465625\" xlink:href=\"#m9b12b61b95\" y=\"209.016513\"/>\n      </g>\n     </g>\n     <g id=\"text_2\">\n      <!-- 0.78 -->\n      <defs>\n       <path d=\"M 31.78125 34.625 \nQ 24.75 34.625 20.71875 30.859375 \nQ 16.703125 27.09375 16.703125 20.515625 \nQ 16.703125 13.921875 20.71875 10.15625 \nQ 24.75 6.390625 31.78125 6.390625 \nQ 38.8125 6.390625 42.859375 10.171875 \nQ 46.921875 13.96875 46.921875 20.515625 \nQ 46.921875 27.09375 42.890625 30.859375 \nQ 38.875 34.625 31.78125 34.625 \nz\nM 21.921875 38.8125 \nQ 15.578125 40.375 12.03125 44.71875 \nQ 8.5 49.078125 8.5 55.328125 \nQ 8.5 64.0625 14.71875 69.140625 \nQ 20.953125 74.21875 31.78125 74.21875 \nQ 42.671875 74.21875 48.875 69.140625 \nQ 55.078125 64.0625 55.078125 55.328125 \nQ 55.078125 49.078125 51.53125 44.71875 \nQ 48 40.375 41.703125 38.8125 \nQ 48.828125 37.15625 52.796875 32.3125 \nQ 56.78125 27.484375 56.78125 20.515625 \nQ 56.78125 9.90625 50.3125 4.234375 \nQ 43.84375 -1.421875 31.78125 -1.421875 \nQ 19.734375 -1.421875 13.25 4.234375 \nQ 6.78125 9.90625 6.78125 20.515625 \nQ 6.78125 27.484375 10.78125 32.3125 \nQ 14.796875 37.15625 21.921875 38.8125 \nz\nM 18.3125 54.390625 \nQ 18.3125 48.734375 21.84375 45.5625 \nQ 25.390625 42.390625 31.78125 42.390625 \nQ 38.140625 42.390625 41.71875 45.5625 \nQ 45.3125 48.734375 45.3125 54.390625 \nQ 45.3125 60.0625 41.71875 63.234375 \nQ 38.140625 66.40625 31.78125 66.40625 \nQ 25.390625 66.40625 21.84375 63.234375 \nQ 18.3125 60.0625 18.3125 54.390625 \nz\n\" id=\"DejaVuSans-38\"/>\n      </defs>\n      <g transform=\"translate(7.2 212.815732)scale(0.1 -0.1)\">\n       <use xlink:href=\"#DejaVuSans-30\"/>\n       <use x=\"63.623047\" xlink:href=\"#DejaVuSans-2e\"/>\n       <use x=\"95.410156\" xlink:href=\"#DejaVuSans-37\"/>\n       <use x=\"159.033203\" xlink:href=\"#DejaVuSans-38\"/>\n      </g>\n     </g>\n    </g>\n    <g id=\"ytick_3\">\n     <g id=\"line2d_11\">\n      <g>\n       <use style=\"stroke:#000000;stroke-width:0.8;\" x=\"36.465625\" xlink:href=\"#m9b12b61b95\" y=\"174.190361\"/>\n      </g>\n     </g>\n     <g id=\"text_3\">\n      <!-- 0.80 -->\n      <g transform=\"translate(7.2 177.989579)scale(0.1 -0.1)\">\n       <use xlink:href=\"#DejaVuSans-30\"/>\n       <use x=\"63.623047\" xlink:href=\"#DejaVuSans-2e\"/>\n       <use x=\"95.410156\" xlink:href=\"#DejaVuSans-38\"/>\n       <use x=\"159.033203\" xlink:href=\"#DejaVuSans-30\"/>\n      </g>\n     </g>\n    </g>\n    <g id=\"ytick_4\">\n     <g id=\"line2d_12\">\n      <g>\n       <use style=\"stroke:#000000;stroke-width:0.8;\" x=\"36.465625\" xlink:href=\"#m9b12b61b95\" y=\"139.364208\"/>\n      </g>\n     </g>\n     <g id=\"text_4\">\n      <!-- 0.82 -->\n      <defs>\n       <path d=\"M 19.1875 8.296875 \nL 53.609375 8.296875 \nL 53.609375 0 \nL 7.328125 0 \nL 7.328125 8.296875 \nQ 12.9375 14.109375 22.625 23.890625 \nQ 32.328125 33.6875 34.8125 36.53125 \nQ 39.546875 41.84375 41.421875 45.53125 \nQ 43.3125 49.21875 43.3125 52.78125 \nQ 43.3125 58.59375 39.234375 62.25 \nQ 35.15625 65.921875 28.609375 65.921875 \nQ 23.96875 65.921875 18.8125 64.3125 \nQ 13.671875 62.703125 7.8125 59.421875 \nL 7.8125 69.390625 \nQ 13.765625 71.78125 18.9375 73 \nQ 24.125 74.21875 28.421875 74.21875 \nQ 39.75 74.21875 46.484375 68.546875 \nQ 53.21875 62.890625 53.21875 53.421875 \nQ 53.21875 48.921875 51.53125 44.890625 \nQ 49.859375 40.875 45.40625 35.40625 \nQ 44.1875 33.984375 37.640625 27.21875 \nQ 31.109375 20.453125 19.1875 8.296875 \nz\n\" id=\"DejaVuSans-32\"/>\n      </defs>\n      <g transform=\"translate(7.2 143.163427)scale(0.1 -0.1)\">\n       <use xlink:href=\"#DejaVuSans-30\"/>\n       <use x=\"63.623047\" xlink:href=\"#DejaVuSans-2e\"/>\n       <use x=\"95.410156\" xlink:href=\"#DejaVuSans-38\"/>\n       <use x=\"159.033203\" xlink:href=\"#DejaVuSans-32\"/>\n      </g>\n     </g>\n    </g>\n    <g id=\"ytick_5\">\n     <g id=\"line2d_13\">\n      <g>\n       <use style=\"stroke:#000000;stroke-width:0.8;\" x=\"36.465625\" xlink:href=\"#m9b12b61b95\" y=\"104.538055\"/>\n      </g>\n     </g>\n     <g id=\"text_5\">\n      <!-- 0.84 -->\n      <defs>\n       <path d=\"M 37.796875 64.3125 \nL 12.890625 25.390625 \nL 37.796875 25.390625 \nz\nM 35.203125 72.90625 \nL 47.609375 72.90625 \nL 47.609375 25.390625 \nL 58.015625 25.390625 \nL 58.015625 17.1875 \nL 47.609375 17.1875 \nL 47.609375 0 \nL 37.796875 0 \nL 37.796875 17.1875 \nL 4.890625 17.1875 \nL 4.890625 26.703125 \nz\n\" id=\"DejaVuSans-34\"/>\n      </defs>\n      <g transform=\"translate(7.2 108.337274)scale(0.1 -0.1)\">\n       <use xlink:href=\"#DejaVuSans-30\"/>\n       <use x=\"63.623047\" xlink:href=\"#DejaVuSans-2e\"/>\n       <use x=\"95.410156\" xlink:href=\"#DejaVuSans-38\"/>\n       <use x=\"159.033203\" xlink:href=\"#DejaVuSans-34\"/>\n      </g>\n     </g>\n    </g>\n    <g id=\"ytick_6\">\n     <g id=\"line2d_14\">\n      <g>\n       <use style=\"stroke:#000000;stroke-width:0.8;\" x=\"36.465625\" xlink:href=\"#m9b12b61b95\" y=\"69.711903\"/>\n      </g>\n     </g>\n     <g id=\"text_6\">\n      <!-- 0.86 -->\n      <g transform=\"translate(7.2 73.511122)scale(0.1 -0.1)\">\n       <use xlink:href=\"#DejaVuSans-30\"/>\n       <use x=\"63.623047\" xlink:href=\"#DejaVuSans-2e\"/>\n       <use x=\"95.410156\" xlink:href=\"#DejaVuSans-38\"/>\n       <use x=\"159.033203\" xlink:href=\"#DejaVuSans-36\"/>\n      </g>\n     </g>\n    </g>\n    <g id=\"ytick_7\">\n     <g id=\"line2d_15\">\n      <g>\n       <use style=\"stroke:#000000;stroke-width:0.8;\" x=\"36.465625\" xlink:href=\"#m9b12b61b95\" y=\"34.88575\"/>\n      </g>\n     </g>\n     <g id=\"text_7\">\n      <!-- 0.88 -->\n      <g transform=\"translate(7.2 38.684969)scale(0.1 -0.1)\">\n       <use xlink:href=\"#DejaVuSans-30\"/>\n       <use x=\"63.623047\" xlink:href=\"#DejaVuSans-2e\"/>\n       <use x=\"95.410156\" xlink:href=\"#DejaVuSans-38\"/>\n       <use x=\"159.033203\" xlink:href=\"#DejaVuSans-38\"/>\n      </g>\n     </g>\n    </g>\n   </g>\n   <g id=\"line2d_16\">\n    <defs>\n     <path d=\"M 0 3 \nC 0.795609 3 1.55874 2.683901 2.12132 2.12132 \nC 2.683901 1.55874 3 0.795609 3 0 \nC 3 -0.795609 2.683901 -1.55874 2.12132 -2.12132 \nC 1.55874 -2.683901 0.795609 -3 0 -3 \nC -0.795609 -3 -1.55874 -2.683901 -2.12132 -2.12132 \nC -2.683901 -1.55874 -3 -0.795609 -3 0 \nC -3 0.795609 -2.683901 1.55874 -2.12132 2.12132 \nC -1.55874 2.683901 -0.795609 3 0 3 \nz\n\" id=\"m89e498e1eb\" style=\"stroke:#0000ff;\"/>\n    </defs>\n    <g clip-path=\"url(#p4e9269e65b)\">\n     <use style=\"fill:#0000ff;stroke:#0000ff;\" x=\"60.176989\" xlink:href=\"#m89e498e1eb\" y=\"256.706761\"/>\n     <use style=\"fill:#0000ff;stroke:#0000ff;\" x=\"127.923742\" xlink:href=\"#m89e498e1eb\" y=\"233.009744\"/>\n     <use style=\"fill:#0000ff;stroke:#0000ff;\" x=\"195.670495\" xlink:href=\"#m89e498e1eb\" y=\"204.09374\"/>\n     <use style=\"fill:#0000ff;stroke:#0000ff;\" x=\"263.417248\" xlink:href=\"#m89e498e1eb\" y=\"201.977935\"/>\n     <use style=\"fill:#0000ff;stroke:#0000ff;\" x=\"331.164002\" xlink:href=\"#m89e498e1eb\" y=\"183.923064\"/>\n     <use style=\"fill:#0000ff;stroke:#0000ff;\" x=\"398.910755\" xlink:href=\"#m89e498e1eb\" y=\"170.522965\"/>\n     <use style=\"fill:#0000ff;stroke:#0000ff;\" x=\"466.657508\" xlink:href=\"#m89e498e1eb\" y=\"160.790261\"/>\n     <use style=\"fill:#0000ff;stroke:#0000ff;\" x=\"534.404261\" xlink:href=\"#m89e498e1eb\" y=\"157.687081\"/>\n    </g>\n   </g>\n   <g id=\"line2d_17\">\n    <path clip-path=\"url(#p4e9269e65b)\" d=\"M 60.176989 42.798089 \nL 127.923742 42.374517 \nL 195.670495 42.798089 \nL 263.417248 33.479489 \nL 331.164002 36.020925 \nL 398.910755 35.17378 \nL 466.657508 37.291644 \nL 534.404261 35.17378 \n\" style=\"fill:none;stroke:#0000ff;stroke-linecap:square;stroke-width:1.5;\"/>\n   </g>\n   <g id=\"patch_3\">\n    <path d=\"M 36.465625 267.868125 \nL 36.465625 22.318125 \n\" style=\"fill:none;stroke:#000000;stroke-linecap:square;stroke-linejoin:miter;stroke-width:0.8;\"/>\n   </g>\n   <g id=\"patch_4\">\n    <path d=\"M 558.115625 267.868125 \nL 558.115625 22.318125 \n\" style=\"fill:none;stroke:#000000;stroke-linecap:square;stroke-linejoin:miter;stroke-width:0.8;\"/>\n   </g>\n   <g id=\"patch_5\">\n    <path d=\"M 36.465625 267.868125 \nL 558.115625 267.868125 \n\" style=\"fill:none;stroke:#000000;stroke-linecap:square;stroke-linejoin:miter;stroke-width:0.8;\"/>\n   </g>\n   <g id=\"patch_6\">\n    <path d=\"M 36.465625 22.318125 \nL 558.115625 22.318125 \n\" style=\"fill:none;stroke:#000000;stroke-linecap:square;stroke-linejoin:miter;stroke-width:0.8;\"/>\n   </g>\n   <g id=\"text_8\">\n    <!-- Training and Validation accuracy -->\n    <defs>\n     <path d=\"M -0.296875 72.90625 \nL 61.375 72.90625 \nL 61.375 64.59375 \nL 35.5 64.59375 \nL 35.5 0 \nL 25.59375 0 \nL 25.59375 64.59375 \nL -0.296875 64.59375 \nz\n\" id=\"DejaVuSans-54\"/>\n     <path d=\"M 41.109375 46.296875 \nQ 39.59375 47.171875 37.8125 47.578125 \nQ 36.03125 48 33.890625 48 \nQ 26.265625 48 22.1875 43.046875 \nQ 18.109375 38.09375 18.109375 28.8125 \nL 18.109375 0 \nL 9.078125 0 \nL 9.078125 54.6875 \nL 18.109375 54.6875 \nL 18.109375 46.1875 \nQ 20.953125 51.171875 25.484375 53.578125 \nQ 30.03125 56 36.53125 56 \nQ 37.453125 56 38.578125 55.875 \nQ 39.703125 55.765625 41.0625 55.515625 \nz\n\" id=\"DejaVuSans-72\"/>\n     <path d=\"M 34.28125 27.484375 \nQ 23.390625 27.484375 19.1875 25 \nQ 14.984375 22.515625 14.984375 16.5 \nQ 14.984375 11.71875 18.140625 8.90625 \nQ 21.296875 6.109375 26.703125 6.109375 \nQ 34.1875 6.109375 38.703125 11.40625 \nQ 43.21875 16.703125 43.21875 25.484375 \nL 43.21875 27.484375 \nz\nM 52.203125 31.203125 \nL 52.203125 0 \nL 43.21875 0 \nL 43.21875 8.296875 \nQ 40.140625 3.328125 35.546875 0.953125 \nQ 30.953125 -1.421875 24.3125 -1.421875 \nQ 15.921875 -1.421875 10.953125 3.296875 \nQ 6 8.015625 6 15.921875 \nQ 6 25.140625 12.171875 29.828125 \nQ 18.359375 34.515625 30.609375 34.515625 \nL 43.21875 34.515625 \nL 43.21875 35.40625 \nQ 43.21875 41.609375 39.140625 45 \nQ 35.0625 48.390625 27.6875 48.390625 \nQ 23 48.390625 18.546875 47.265625 \nQ 14.109375 46.140625 10.015625 43.890625 \nL 10.015625 52.203125 \nQ 14.9375 54.109375 19.578125 55.046875 \nQ 24.21875 56 28.609375 56 \nQ 40.484375 56 46.34375 49.84375 \nQ 52.203125 43.703125 52.203125 31.203125 \nz\n\" id=\"DejaVuSans-61\"/>\n     <path d=\"M 9.421875 54.6875 \nL 18.40625 54.6875 \nL 18.40625 0 \nL 9.421875 0 \nz\nM 9.421875 75.984375 \nL 18.40625 75.984375 \nL 18.40625 64.59375 \nL 9.421875 64.59375 \nz\n\" id=\"DejaVuSans-69\"/>\n     <path d=\"M 54.890625 33.015625 \nL 54.890625 0 \nL 45.90625 0 \nL 45.90625 32.71875 \nQ 45.90625 40.484375 42.875 44.328125 \nQ 39.84375 48.1875 33.796875 48.1875 \nQ 26.515625 48.1875 22.3125 43.546875 \nQ 18.109375 38.921875 18.109375 30.90625 \nL 18.109375 0 \nL 9.078125 0 \nL 9.078125 54.6875 \nL 18.109375 54.6875 \nL 18.109375 46.1875 \nQ 21.34375 51.125 25.703125 53.5625 \nQ 30.078125 56 35.796875 56 \nQ 45.21875 56 50.046875 50.171875 \nQ 54.890625 44.34375 54.890625 33.015625 \nz\n\" id=\"DejaVuSans-6e\"/>\n     <path d=\"M 45.40625 27.984375 \nQ 45.40625 37.75 41.375 43.109375 \nQ 37.359375 48.484375 30.078125 48.484375 \nQ 22.859375 48.484375 18.828125 43.109375 \nQ 14.796875 37.75 14.796875 27.984375 \nQ 14.796875 18.265625 18.828125 12.890625 \nQ 22.859375 7.515625 30.078125 7.515625 \nQ 37.359375 7.515625 41.375 12.890625 \nQ 45.40625 18.265625 45.40625 27.984375 \nz\nM 54.390625 6.78125 \nQ 54.390625 -7.171875 48.1875 -13.984375 \nQ 42 -20.796875 29.203125 -20.796875 \nQ 24.46875 -20.796875 20.265625 -20.09375 \nQ 16.0625 -19.390625 12.109375 -17.921875 \nL 12.109375 -9.1875 \nQ 16.0625 -11.328125 19.921875 -12.34375 \nQ 23.78125 -13.375 27.78125 -13.375 \nQ 36.625 -13.375 41.015625 -8.765625 \nQ 45.40625 -4.15625 45.40625 5.171875 \nL 45.40625 9.625 \nQ 42.625 4.78125 38.28125 2.390625 \nQ 33.9375 0 27.875 0 \nQ 17.828125 0 11.671875 7.65625 \nQ 5.515625 15.328125 5.515625 27.984375 \nQ 5.515625 40.671875 11.671875 48.328125 \nQ 17.828125 56 27.875 56 \nQ 33.9375 56 38.28125 53.609375 \nQ 42.625 51.21875 45.40625 46.390625 \nL 45.40625 54.6875 \nL 54.390625 54.6875 \nz\n\" id=\"DejaVuSans-67\"/>\n     <path id=\"DejaVuSans-20\"/>\n     <path d=\"M 45.40625 46.390625 \nL 45.40625 75.984375 \nL 54.390625 75.984375 \nL 54.390625 0 \nL 45.40625 0 \nL 45.40625 8.203125 \nQ 42.578125 3.328125 38.25 0.953125 \nQ 33.9375 -1.421875 27.875 -1.421875 \nQ 17.96875 -1.421875 11.734375 6.484375 \nQ 5.515625 14.40625 5.515625 27.296875 \nQ 5.515625 40.1875 11.734375 48.09375 \nQ 17.96875 56 27.875 56 \nQ 33.9375 56 38.25 53.625 \nQ 42.578125 51.265625 45.40625 46.390625 \nz\nM 14.796875 27.296875 \nQ 14.796875 17.390625 18.875 11.75 \nQ 22.953125 6.109375 30.078125 6.109375 \nQ 37.203125 6.109375 41.296875 11.75 \nQ 45.40625 17.390625 45.40625 27.296875 \nQ 45.40625 37.203125 41.296875 42.84375 \nQ 37.203125 48.484375 30.078125 48.484375 \nQ 22.953125 48.484375 18.875 42.84375 \nQ 14.796875 37.203125 14.796875 27.296875 \nz\n\" id=\"DejaVuSans-64\"/>\n     <path d=\"M 28.609375 0 \nL 0.78125 72.90625 \nL 11.078125 72.90625 \nL 34.1875 11.53125 \nL 57.328125 72.90625 \nL 67.578125 72.90625 \nL 39.796875 0 \nz\n\" id=\"DejaVuSans-56\"/>\n     <path d=\"M 9.421875 75.984375 \nL 18.40625 75.984375 \nL 18.40625 0 \nL 9.421875 0 \nz\n\" id=\"DejaVuSans-6c\"/>\n     <path d=\"M 18.3125 70.21875 \nL 18.3125 54.6875 \nL 36.8125 54.6875 \nL 36.8125 47.703125 \nL 18.3125 47.703125 \nL 18.3125 18.015625 \nQ 18.3125 11.328125 20.140625 9.421875 \nQ 21.96875 7.515625 27.59375 7.515625 \nL 36.8125 7.515625 \nL 36.8125 0 \nL 27.59375 0 \nQ 17.1875 0 13.234375 3.875 \nQ 9.28125 7.765625 9.28125 18.015625 \nL 9.28125 47.703125 \nL 2.6875 47.703125 \nL 2.6875 54.6875 \nL 9.28125 54.6875 \nL 9.28125 70.21875 \nz\n\" id=\"DejaVuSans-74\"/>\n     <path d=\"M 30.609375 48.390625 \nQ 23.390625 48.390625 19.1875 42.75 \nQ 14.984375 37.109375 14.984375 27.296875 \nQ 14.984375 17.484375 19.15625 11.84375 \nQ 23.34375 6.203125 30.609375 6.203125 \nQ 37.796875 6.203125 41.984375 11.859375 \nQ 46.1875 17.53125 46.1875 27.296875 \nQ 46.1875 37.015625 41.984375 42.703125 \nQ 37.796875 48.390625 30.609375 48.390625 \nz\nM 30.609375 56 \nQ 42.328125 56 49.015625 48.375 \nQ 55.71875 40.765625 55.71875 27.296875 \nQ 55.71875 13.875 49.015625 6.21875 \nQ 42.328125 -1.421875 30.609375 -1.421875 \nQ 18.84375 -1.421875 12.171875 6.21875 \nQ 5.515625 13.875 5.515625 27.296875 \nQ 5.515625 40.765625 12.171875 48.375 \nQ 18.84375 56 30.609375 56 \nz\n\" id=\"DejaVuSans-6f\"/>\n     <path d=\"M 48.78125 52.59375 \nL 48.78125 44.1875 \nQ 44.96875 46.296875 41.140625 47.34375 \nQ 37.3125 48.390625 33.40625 48.390625 \nQ 24.65625 48.390625 19.8125 42.84375 \nQ 14.984375 37.3125 14.984375 27.296875 \nQ 14.984375 17.28125 19.8125 11.734375 \nQ 24.65625 6.203125 33.40625 6.203125 \nQ 37.3125 6.203125 41.140625 7.25 \nQ 44.96875 8.296875 48.78125 10.40625 \nL 48.78125 2.09375 \nQ 45.015625 0.34375 40.984375 -0.53125 \nQ 36.96875 -1.421875 32.421875 -1.421875 \nQ 20.0625 -1.421875 12.78125 6.34375 \nQ 5.515625 14.109375 5.515625 27.296875 \nQ 5.515625 40.671875 12.859375 48.328125 \nQ 20.21875 56 33.015625 56 \nQ 37.15625 56 41.109375 55.140625 \nQ 45.0625 54.296875 48.78125 52.59375 \nz\n\" id=\"DejaVuSans-63\"/>\n     <path d=\"M 8.5 21.578125 \nL 8.5 54.6875 \nL 17.484375 54.6875 \nL 17.484375 21.921875 \nQ 17.484375 14.15625 20.5 10.265625 \nQ 23.53125 6.390625 29.59375 6.390625 \nQ 36.859375 6.390625 41.078125 11.03125 \nQ 45.3125 15.671875 45.3125 23.6875 \nL 45.3125 54.6875 \nL 54.296875 54.6875 \nL 54.296875 0 \nL 45.3125 0 \nL 45.3125 8.40625 \nQ 42.046875 3.421875 37.71875 1 \nQ 33.40625 -1.421875 27.6875 -1.421875 \nQ 18.265625 -1.421875 13.375 4.4375 \nQ 8.5 10.296875 8.5 21.578125 \nz\nM 31.109375 56 \nz\n\" id=\"DejaVuSans-75\"/>\n     <path d=\"M 32.171875 -5.078125 \nQ 28.375 -14.84375 24.75 -17.8125 \nQ 21.140625 -20.796875 15.09375 -20.796875 \nL 7.90625 -20.796875 \nL 7.90625 -13.28125 \nL 13.1875 -13.28125 \nQ 16.890625 -13.28125 18.9375 -11.515625 \nQ 21 -9.765625 23.484375 -3.21875 \nL 25.09375 0.875 \nL 2.984375 54.6875 \nL 12.5 54.6875 \nL 29.59375 11.921875 \nL 46.6875 54.6875 \nL 56.203125 54.6875 \nz\n\" id=\"DejaVuSans-79\"/>\n    </defs>\n    <g transform=\"translate(198.580312 16.318125)scale(0.12 -0.12)\">\n     <use xlink:href=\"#DejaVuSans-54\"/>\n     <use x=\"60.865234\" xlink:href=\"#DejaVuSans-72\"/>\n     <use x=\"101.978516\" xlink:href=\"#DejaVuSans-61\"/>\n     <use x=\"163.257812\" xlink:href=\"#DejaVuSans-69\"/>\n     <use x=\"191.041016\" xlink:href=\"#DejaVuSans-6e\"/>\n     <use x=\"254.419922\" xlink:href=\"#DejaVuSans-69\"/>\n     <use x=\"282.203125\" xlink:href=\"#DejaVuSans-6e\"/>\n     <use x=\"345.582031\" xlink:href=\"#DejaVuSans-67\"/>\n     <use x=\"409.058594\" xlink:href=\"#DejaVuSans-20\"/>\n     <use x=\"440.845703\" xlink:href=\"#DejaVuSans-61\"/>\n     <use x=\"502.125\" xlink:href=\"#DejaVuSans-6e\"/>\n     <use x=\"565.503906\" xlink:href=\"#DejaVuSans-64\"/>\n     <use x=\"628.980469\" xlink:href=\"#DejaVuSans-20\"/>\n     <use x=\"660.767578\" xlink:href=\"#DejaVuSans-56\"/>\n     <use x=\"729.066406\" xlink:href=\"#DejaVuSans-61\"/>\n     <use x=\"790.345703\" xlink:href=\"#DejaVuSans-6c\"/>\n     <use x=\"818.128906\" xlink:href=\"#DejaVuSans-69\"/>\n     <use x=\"845.912109\" xlink:href=\"#DejaVuSans-64\"/>\n     <use x=\"909.388672\" xlink:href=\"#DejaVuSans-61\"/>\n     <use x=\"970.667969\" xlink:href=\"#DejaVuSans-74\"/>\n     <use x=\"1009.876953\" xlink:href=\"#DejaVuSans-69\"/>\n     <use x=\"1037.660156\" xlink:href=\"#DejaVuSans-6f\"/>\n     <use x=\"1098.841797\" xlink:href=\"#DejaVuSans-6e\"/>\n     <use x=\"1162.220703\" xlink:href=\"#DejaVuSans-20\"/>\n     <use x=\"1194.007812\" xlink:href=\"#DejaVuSans-61\"/>\n     <use x=\"1255.287109\" xlink:href=\"#DejaVuSans-63\"/>\n     <use x=\"1310.267578\" xlink:href=\"#DejaVuSans-63\"/>\n     <use x=\"1365.248047\" xlink:href=\"#DejaVuSans-75\"/>\n     <use x=\"1428.626953\" xlink:href=\"#DejaVuSans-72\"/>\n     <use x=\"1469.740234\" xlink:href=\"#DejaVuSans-61\"/>\n     <use x=\"1531.019531\" xlink:href=\"#DejaVuSans-63\"/>\n     <use x=\"1586\" xlink:href=\"#DejaVuSans-79\"/>\n    </g>\n   </g>\n   <g id=\"legend_1\">\n    <g id=\"patch_7\">\n     <path d=\"M 420.673438 262.868125 \nL 551.115625 262.868125 \nQ 553.115625 262.868125 553.115625 260.868125 \nL 553.115625 232.511875 \nQ 553.115625 230.511875 551.115625 230.511875 \nL 420.673438 230.511875 \nQ 418.673438 230.511875 418.673438 232.511875 \nL 418.673438 260.868125 \nQ 418.673438 262.868125 420.673438 262.868125 \nz\n\" style=\"fill:#ffffff;opacity:0.8;stroke:#cccccc;stroke-linejoin:miter;\"/>\n    </g>\n    <g id=\"line2d_18\"/>\n    <g id=\"line2d_19\">\n     <g>\n      <use style=\"fill:#0000ff;stroke:#0000ff;\" x=\"432.673438\" xlink:href=\"#m89e498e1eb\" y=\"238.610312\"/>\n     </g>\n    </g>\n    <g id=\"text_9\">\n     <!-- Training accuracy -->\n     <g transform=\"translate(450.673438 242.110312)scale(0.1 -0.1)\">\n      <use xlink:href=\"#DejaVuSans-54\"/>\n      <use x=\"60.865234\" xlink:href=\"#DejaVuSans-72\"/>\n      <use x=\"101.978516\" xlink:href=\"#DejaVuSans-61\"/>\n      <use x=\"163.257812\" xlink:href=\"#DejaVuSans-69\"/>\n      <use x=\"191.041016\" xlink:href=\"#DejaVuSans-6e\"/>\n      <use x=\"254.419922\" xlink:href=\"#DejaVuSans-69\"/>\n      <use x=\"282.203125\" xlink:href=\"#DejaVuSans-6e\"/>\n      <use x=\"345.582031\" xlink:href=\"#DejaVuSans-67\"/>\n      <use x=\"409.058594\" xlink:href=\"#DejaVuSans-20\"/>\n      <use x=\"440.845703\" xlink:href=\"#DejaVuSans-61\"/>\n      <use x=\"502.125\" xlink:href=\"#DejaVuSans-63\"/>\n      <use x=\"557.105469\" xlink:href=\"#DejaVuSans-63\"/>\n      <use x=\"612.085938\" xlink:href=\"#DejaVuSans-75\"/>\n      <use x=\"675.464844\" xlink:href=\"#DejaVuSans-72\"/>\n      <use x=\"716.578125\" xlink:href=\"#DejaVuSans-61\"/>\n      <use x=\"777.857422\" xlink:href=\"#DejaVuSans-63\"/>\n      <use x=\"832.837891\" xlink:href=\"#DejaVuSans-79\"/>\n     </g>\n    </g>\n    <g id=\"line2d_20\">\n     <path d=\"M 422.673438 253.288437 \nL 442.673438 253.288437 \n\" style=\"fill:none;stroke:#0000ff;stroke-linecap:square;stroke-width:1.5;\"/>\n    </g>\n    <g id=\"line2d_21\"/>\n    <g id=\"text_10\">\n     <!-- Validation accuracy -->\n     <g transform=\"translate(450.673438 256.788437)scale(0.1 -0.1)\">\n      <use xlink:href=\"#DejaVuSans-56\"/>\n      <use x=\"68.298828\" xlink:href=\"#DejaVuSans-61\"/>\n      <use x=\"129.578125\" xlink:href=\"#DejaVuSans-6c\"/>\n      <use x=\"157.361328\" xlink:href=\"#DejaVuSans-69\"/>\n      <use x=\"185.144531\" xlink:href=\"#DejaVuSans-64\"/>\n      <use x=\"248.621094\" xlink:href=\"#DejaVuSans-61\"/>\n      <use x=\"309.900391\" xlink:href=\"#DejaVuSans-74\"/>\n      <use x=\"349.109375\" xlink:href=\"#DejaVuSans-69\"/>\n      <use x=\"376.892578\" xlink:href=\"#DejaVuSans-6f\"/>\n      <use x=\"438.074219\" xlink:href=\"#DejaVuSans-6e\"/>\n      <use x=\"501.453125\" xlink:href=\"#DejaVuSans-20\"/>\n      <use x=\"533.240234\" xlink:href=\"#DejaVuSans-61\"/>\n      <use x=\"594.519531\" xlink:href=\"#DejaVuSans-63\"/>\n      <use x=\"649.5\" xlink:href=\"#DejaVuSans-63\"/>\n      <use x=\"704.480469\" xlink:href=\"#DejaVuSans-75\"/>\n      <use x=\"767.859375\" xlink:href=\"#DejaVuSans-72\"/>\n      <use x=\"808.972656\" xlink:href=\"#DejaVuSans-61\"/>\n      <use x=\"870.251953\" xlink:href=\"#DejaVuSans-63\"/>\n      <use x=\"925.232422\" xlink:href=\"#DejaVuSans-79\"/>\n     </g>\n    </g>\n   </g>\n  </g>\n  <g id=\"axes_2\">\n   <g id=\"patch_8\">\n    <path d=\"M 36.465625 543.718125 \nL 558.115625 543.718125 \nL 558.115625 298.168125 \nL 36.465625 298.168125 \nz\n\" style=\"fill:#ffffff;\"/>\n   </g>\n   <g id=\"matplotlib.axis_3\">\n    <g id=\"xtick_9\">\n     <g id=\"line2d_22\">\n      <g>\n       <use style=\"stroke:#000000;stroke-width:0.8;\" x=\"60.176989\" xlink:href=\"#md72b5ff693\" y=\"543.718125\"/>\n      </g>\n     </g>\n     <g id=\"text_11\">\n      <!-- 1 -->\n      <defs>\n       <path d=\"M 12.40625 8.296875 \nL 28.515625 8.296875 \nL 28.515625 63.921875 \nL 10.984375 60.40625 \nL 10.984375 69.390625 \nL 28.421875 72.90625 \nL 38.28125 72.90625 \nL 38.28125 8.296875 \nL 54.390625 8.296875 \nL 54.390625 0 \nL 12.40625 0 \nz\n\" id=\"DejaVuSans-31\"/>\n      </defs>\n      <g transform=\"translate(56.995739 558.316562)scale(0.1 -0.1)\">\n       <use xlink:href=\"#DejaVuSans-31\"/>\n      </g>\n     </g>\n    </g>\n    <g id=\"xtick_10\">\n     <g id=\"line2d_23\">\n      <g>\n       <use style=\"stroke:#000000;stroke-width:0.8;\" x=\"127.923742\" xlink:href=\"#md72b5ff693\" y=\"543.718125\"/>\n      </g>\n     </g>\n     <g id=\"text_12\">\n      <!-- 2 -->\n      <g transform=\"translate(124.742492 558.316562)scale(0.1 -0.1)\">\n       <use xlink:href=\"#DejaVuSans-32\"/>\n      </g>\n     </g>\n    </g>\n    <g id=\"xtick_11\">\n     <g id=\"line2d_24\">\n      <g>\n       <use style=\"stroke:#000000;stroke-width:0.8;\" x=\"195.670495\" xlink:href=\"#md72b5ff693\" y=\"543.718125\"/>\n      </g>\n     </g>\n     <g id=\"text_13\">\n      <!-- 3 -->\n      <defs>\n       <path d=\"M 40.578125 39.3125 \nQ 47.65625 37.796875 51.625 33 \nQ 55.609375 28.21875 55.609375 21.1875 \nQ 55.609375 10.40625 48.1875 4.484375 \nQ 40.765625 -1.421875 27.09375 -1.421875 \nQ 22.515625 -1.421875 17.65625 -0.515625 \nQ 12.796875 0.390625 7.625 2.203125 \nL 7.625 11.71875 \nQ 11.71875 9.328125 16.59375 8.109375 \nQ 21.484375 6.890625 26.8125 6.890625 \nQ 36.078125 6.890625 40.9375 10.546875 \nQ 45.796875 14.203125 45.796875 21.1875 \nQ 45.796875 27.640625 41.28125 31.265625 \nQ 36.765625 34.90625 28.71875 34.90625 \nL 20.21875 34.90625 \nL 20.21875 43.015625 \nL 29.109375 43.015625 \nQ 36.375 43.015625 40.234375 45.921875 \nQ 44.09375 48.828125 44.09375 54.296875 \nQ 44.09375 59.90625 40.109375 62.90625 \nQ 36.140625 65.921875 28.71875 65.921875 \nQ 24.65625 65.921875 20.015625 65.03125 \nQ 15.375 64.15625 9.8125 62.3125 \nL 9.8125 71.09375 \nQ 15.4375 72.65625 20.34375 73.4375 \nQ 25.25 74.21875 29.59375 74.21875 \nQ 40.828125 74.21875 47.359375 69.109375 \nQ 53.90625 64.015625 53.90625 55.328125 \nQ 53.90625 49.265625 50.4375 45.09375 \nQ 46.96875 40.921875 40.578125 39.3125 \nz\n\" id=\"DejaVuSans-33\"/>\n      </defs>\n      <g transform=\"translate(192.489245 558.316562)scale(0.1 -0.1)\">\n       <use xlink:href=\"#DejaVuSans-33\"/>\n      </g>\n     </g>\n    </g>\n    <g id=\"xtick_12\">\n     <g id=\"line2d_25\">\n      <g>\n       <use style=\"stroke:#000000;stroke-width:0.8;\" x=\"263.417248\" xlink:href=\"#md72b5ff693\" y=\"543.718125\"/>\n      </g>\n     </g>\n     <g id=\"text_14\">\n      <!-- 4 -->\n      <g transform=\"translate(260.235998 558.316562)scale(0.1 -0.1)\">\n       <use xlink:href=\"#DejaVuSans-34\"/>\n      </g>\n     </g>\n    </g>\n    <g id=\"xtick_13\">\n     <g id=\"line2d_26\">\n      <g>\n       <use style=\"stroke:#000000;stroke-width:0.8;\" x=\"331.164002\" xlink:href=\"#md72b5ff693\" y=\"543.718125\"/>\n      </g>\n     </g>\n     <g id=\"text_15\">\n      <!-- 5 -->\n      <defs>\n       <path d=\"M 10.796875 72.90625 \nL 49.515625 72.90625 \nL 49.515625 64.59375 \nL 19.828125 64.59375 \nL 19.828125 46.734375 \nQ 21.96875 47.46875 24.109375 47.828125 \nQ 26.265625 48.1875 28.421875 48.1875 \nQ 40.625 48.1875 47.75 41.5 \nQ 54.890625 34.8125 54.890625 23.390625 \nQ 54.890625 11.625 47.5625 5.09375 \nQ 40.234375 -1.421875 26.90625 -1.421875 \nQ 22.3125 -1.421875 17.546875 -0.640625 \nQ 12.796875 0.140625 7.71875 1.703125 \nL 7.71875 11.625 \nQ 12.109375 9.234375 16.796875 8.0625 \nQ 21.484375 6.890625 26.703125 6.890625 \nQ 35.15625 6.890625 40.078125 11.328125 \nQ 45.015625 15.765625 45.015625 23.390625 \nQ 45.015625 31 40.078125 35.4375 \nQ 35.15625 39.890625 26.703125 39.890625 \nQ 22.75 39.890625 18.8125 39.015625 \nQ 14.890625 38.140625 10.796875 36.28125 \nz\n\" id=\"DejaVuSans-35\"/>\n      </defs>\n      <g transform=\"translate(327.982752 558.316562)scale(0.1 -0.1)\">\n       <use xlink:href=\"#DejaVuSans-35\"/>\n      </g>\n     </g>\n    </g>\n    <g id=\"xtick_14\">\n     <g id=\"line2d_27\">\n      <g>\n       <use style=\"stroke:#000000;stroke-width:0.8;\" x=\"398.910755\" xlink:href=\"#md72b5ff693\" y=\"543.718125\"/>\n      </g>\n     </g>\n     <g id=\"text_16\">\n      <!-- 6 -->\n      <g transform=\"translate(395.729505 558.316562)scale(0.1 -0.1)\">\n       <use xlink:href=\"#DejaVuSans-36\"/>\n      </g>\n     </g>\n    </g>\n    <g id=\"xtick_15\">\n     <g id=\"line2d_28\">\n      <g>\n       <use style=\"stroke:#000000;stroke-width:0.8;\" x=\"466.657508\" xlink:href=\"#md72b5ff693\" y=\"543.718125\"/>\n      </g>\n     </g>\n     <g id=\"text_17\">\n      <!-- 7 -->\n      <g transform=\"translate(463.476258 558.316562)scale(0.1 -0.1)\">\n       <use xlink:href=\"#DejaVuSans-37\"/>\n      </g>\n     </g>\n    </g>\n    <g id=\"xtick_16\">\n     <g id=\"line2d_29\">\n      <g>\n       <use style=\"stroke:#000000;stroke-width:0.8;\" x=\"534.404261\" xlink:href=\"#md72b5ff693\" y=\"543.718125\"/>\n      </g>\n     </g>\n     <g id=\"text_18\">\n      <!-- 8 -->\n      <g transform=\"translate(531.223011 558.316562)scale(0.1 -0.1)\">\n       <use xlink:href=\"#DejaVuSans-38\"/>\n      </g>\n     </g>\n    </g>\n   </g>\n   <g id=\"matplotlib.axis_4\">\n    <g id=\"ytick_8\">\n     <g id=\"line2d_30\">\n      <g>\n       <use style=\"stroke:#000000;stroke-width:0.8;\" x=\"36.465625\" xlink:href=\"#m9b12b61b95\" y=\"520.141717\"/>\n      </g>\n     </g>\n     <g id=\"text_19\">\n      <!-- 0.4 -->\n      <g transform=\"translate(13.5625 523.940936)scale(0.1 -0.1)\">\n       <use xlink:href=\"#DejaVuSans-30\"/>\n       <use x=\"63.623047\" xlink:href=\"#DejaVuSans-2e\"/>\n       <use x=\"95.410156\" xlink:href=\"#DejaVuSans-34\"/>\n      </g>\n     </g>\n    </g>\n    <g id=\"ytick_9\">\n     <g id=\"line2d_31\">\n      <g>\n       <use style=\"stroke:#000000;stroke-width:0.8;\" x=\"36.465625\" xlink:href=\"#m9b12b61b95\" y=\"474.7828\"/>\n      </g>\n     </g>\n     <g id=\"text_20\">\n      <!-- 0.5 -->\n      <g transform=\"translate(13.5625 478.582018)scale(0.1 -0.1)\">\n       <use xlink:href=\"#DejaVuSans-30\"/>\n       <use x=\"63.623047\" xlink:href=\"#DejaVuSans-2e\"/>\n       <use x=\"95.410156\" xlink:href=\"#DejaVuSans-35\"/>\n      </g>\n     </g>\n    </g>\n    <g id=\"ytick_10\">\n     <g id=\"line2d_32\">\n      <g>\n       <use style=\"stroke:#000000;stroke-width:0.8;\" x=\"36.465625\" xlink:href=\"#m9b12b61b95\" y=\"429.423882\"/>\n      </g>\n     </g>\n     <g id=\"text_21\">\n      <!-- 0.6 -->\n      <g transform=\"translate(13.5625 433.223101)scale(0.1 -0.1)\">\n       <use xlink:href=\"#DejaVuSans-30\"/>\n       <use x=\"63.623047\" xlink:href=\"#DejaVuSans-2e\"/>\n       <use x=\"95.410156\" xlink:href=\"#DejaVuSans-36\"/>\n      </g>\n     </g>\n    </g>\n    <g id=\"ytick_11\">\n     <g id=\"line2d_33\">\n      <g>\n       <use style=\"stroke:#000000;stroke-width:0.8;\" x=\"36.465625\" xlink:href=\"#m9b12b61b95\" y=\"384.064964\"/>\n      </g>\n     </g>\n     <g id=\"text_22\">\n      <!-- 0.7 -->\n      <g transform=\"translate(13.5625 387.864183)scale(0.1 -0.1)\">\n       <use xlink:href=\"#DejaVuSans-30\"/>\n       <use x=\"63.623047\" xlink:href=\"#DejaVuSans-2e\"/>\n       <use x=\"95.410156\" xlink:href=\"#DejaVuSans-37\"/>\n      </g>\n     </g>\n    </g>\n    <g id=\"ytick_12\">\n     <g id=\"line2d_34\">\n      <g>\n       <use style=\"stroke:#000000;stroke-width:0.8;\" x=\"36.465625\" xlink:href=\"#m9b12b61b95\" y=\"338.706047\"/>\n      </g>\n     </g>\n     <g id=\"text_23\">\n      <!-- 0.8 -->\n      <g transform=\"translate(13.5625 342.505266)scale(0.1 -0.1)\">\n       <use xlink:href=\"#DejaVuSans-30\"/>\n       <use x=\"63.623047\" xlink:href=\"#DejaVuSans-2e\"/>\n       <use x=\"95.410156\" xlink:href=\"#DejaVuSans-38\"/>\n      </g>\n     </g>\n    </g>\n   </g>\n   <g id=\"line2d_35\">\n    <defs>\n     <path d=\"M 0 3 \nC 0.795609 3 1.55874 2.683901 2.12132 2.12132 \nC 2.683901 1.55874 3 0.795609 3 0 \nC 3 -0.795609 2.683901 -1.55874 2.12132 -2.12132 \nC 1.55874 -2.683901 0.795609 -3 0 -3 \nC -0.795609 -3 -1.55874 -2.683901 -2.12132 -2.12132 \nC -2.683901 -1.55874 -3 -0.795609 -3 0 \nC -3 0.795609 -2.683901 1.55874 -2.12132 2.12132 \nC -1.55874 2.683901 -0.795609 3 0 3 \nz\n\" id=\"m59ce103cec\" style=\"stroke:#ff0000;\"/>\n    </defs>\n    <g clip-path=\"url(#p2844010c8a)\">\n     <use style=\"fill:#ff0000;stroke:#ff0000;\" x=\"60.176989\" xlink:href=\"#m59ce103cec\" y=\"309.329489\"/>\n     <use style=\"fill:#ff0000;stroke:#ff0000;\" x=\"127.923742\" xlink:href=\"#m59ce103cec\" y=\"340.66199\"/>\n     <use style=\"fill:#ff0000;stroke:#ff0000;\" x=\"195.670495\" xlink:href=\"#m59ce103cec\" y=\"365.985762\"/>\n     <use style=\"fill:#ff0000;stroke:#ff0000;\" x=\"263.417248\" xlink:href=\"#m59ce103cec\" y=\"373.460381\"/>\n     <use style=\"fill:#ff0000;stroke:#ff0000;\" x=\"331.164002\" xlink:href=\"#m59ce103cec\" y=\"390.233914\"/>\n     <use style=\"fill:#ff0000;stroke:#ff0000;\" x=\"398.910755\" xlink:href=\"#m59ce103cec\" y=\"401.497411\"/>\n     <use style=\"fill:#ff0000;stroke:#ff0000;\" x=\"466.657508\" xlink:href=\"#m59ce103cec\" y=\"413.20167\"/>\n     <use style=\"fill:#ff0000;stroke:#ff0000;\" x=\"534.404261\" xlink:href=\"#m59ce103cec\" y=\"415.790982\"/>\n    </g>\n   </g>\n   <g id=\"line2d_36\">\n    <path clip-path=\"url(#p2844010c8a)\" d=\"M 60.176989 521.706065 \nL 127.923742 525.1751 \nL 195.670495 528.208854 \nL 263.417248 529.143687 \nL 331.164002 530.437323 \nL 398.910755 530.663321 \nL 466.657508 531.686495 \nL 534.404261 532.556761 \n\" style=\"fill:none;stroke:#ff0000;stroke-linecap:square;stroke-width:1.5;\"/>\n   </g>\n   <g id=\"patch_9\">\n    <path d=\"M 36.465625 543.718125 \nL 36.465625 298.168125 \n\" style=\"fill:none;stroke:#000000;stroke-linecap:square;stroke-linejoin:miter;stroke-width:0.8;\"/>\n   </g>\n   <g id=\"patch_10\">\n    <path d=\"M 558.115625 543.718125 \nL 558.115625 298.168125 \n\" style=\"fill:none;stroke:#000000;stroke-linecap:square;stroke-linejoin:miter;stroke-width:0.8;\"/>\n   </g>\n   <g id=\"patch_11\">\n    <path d=\"M 36.465625 543.718125 \nL 558.115625 543.718125 \n\" style=\"fill:none;stroke:#000000;stroke-linecap:square;stroke-linejoin:miter;stroke-width:0.8;\"/>\n   </g>\n   <g id=\"patch_12\">\n    <path d=\"M 36.465625 298.168125 \nL 558.115625 298.168125 \n\" style=\"fill:none;stroke:#000000;stroke-linecap:square;stroke-linejoin:miter;stroke-width:0.8;\"/>\n   </g>\n   <g id=\"text_24\">\n    <!-- Training and Validation loss -->\n    <defs>\n     <path d=\"M 44.28125 53.078125 \nL 44.28125 44.578125 \nQ 40.484375 46.53125 36.375 47.5 \nQ 32.28125 48.484375 27.875 48.484375 \nQ 21.1875 48.484375 17.84375 46.4375 \nQ 14.5 44.390625 14.5 40.28125 \nQ 14.5 37.15625 16.890625 35.375 \nQ 19.28125 33.59375 26.515625 31.984375 \nL 29.59375 31.296875 \nQ 39.15625 29.25 43.1875 25.515625 \nQ 47.21875 21.78125 47.21875 15.09375 \nQ 47.21875 7.46875 41.1875 3.015625 \nQ 35.15625 -1.421875 24.609375 -1.421875 \nQ 20.21875 -1.421875 15.453125 -0.5625 \nQ 10.6875 0.296875 5.421875 2 \nL 5.421875 11.28125 \nQ 10.40625 8.6875 15.234375 7.390625 \nQ 20.0625 6.109375 24.8125 6.109375 \nQ 31.15625 6.109375 34.5625 8.28125 \nQ 37.984375 10.453125 37.984375 14.40625 \nQ 37.984375 18.0625 35.515625 20.015625 \nQ 33.0625 21.96875 24.703125 23.78125 \nL 21.578125 24.515625 \nQ 13.234375 26.265625 9.515625 29.90625 \nQ 5.8125 33.546875 5.8125 39.890625 \nQ 5.8125 47.609375 11.28125 51.796875 \nQ 16.75 56 26.8125 56 \nQ 31.78125 56 36.171875 55.265625 \nQ 40.578125 54.546875 44.28125 53.078125 \nz\n\" id=\"DejaVuSans-73\"/>\n    </defs>\n    <g transform=\"translate(214.062187 292.168125)scale(0.12 -0.12)\">\n     <use xlink:href=\"#DejaVuSans-54\"/>\n     <use x=\"60.865234\" xlink:href=\"#DejaVuSans-72\"/>\n     <use x=\"101.978516\" xlink:href=\"#DejaVuSans-61\"/>\n     <use x=\"163.257812\" xlink:href=\"#DejaVuSans-69\"/>\n     <use x=\"191.041016\" xlink:href=\"#DejaVuSans-6e\"/>\n     <use x=\"254.419922\" xlink:href=\"#DejaVuSans-69\"/>\n     <use x=\"282.203125\" xlink:href=\"#DejaVuSans-6e\"/>\n     <use x=\"345.582031\" xlink:href=\"#DejaVuSans-67\"/>\n     <use x=\"409.058594\" xlink:href=\"#DejaVuSans-20\"/>\n     <use x=\"440.845703\" xlink:href=\"#DejaVuSans-61\"/>\n     <use x=\"502.125\" xlink:href=\"#DejaVuSans-6e\"/>\n     <use x=\"565.503906\" xlink:href=\"#DejaVuSans-64\"/>\n     <use x=\"628.980469\" xlink:href=\"#DejaVuSans-20\"/>\n     <use x=\"660.767578\" xlink:href=\"#DejaVuSans-56\"/>\n     <use x=\"729.066406\" xlink:href=\"#DejaVuSans-61\"/>\n     <use x=\"790.345703\" xlink:href=\"#DejaVuSans-6c\"/>\n     <use x=\"818.128906\" xlink:href=\"#DejaVuSans-69\"/>\n     <use x=\"845.912109\" xlink:href=\"#DejaVuSans-64\"/>\n     <use x=\"909.388672\" xlink:href=\"#DejaVuSans-61\"/>\n     <use x=\"970.667969\" xlink:href=\"#DejaVuSans-74\"/>\n     <use x=\"1009.876953\" xlink:href=\"#DejaVuSans-69\"/>\n     <use x=\"1037.660156\" xlink:href=\"#DejaVuSans-6f\"/>\n     <use x=\"1098.841797\" xlink:href=\"#DejaVuSans-6e\"/>\n     <use x=\"1162.220703\" xlink:href=\"#DejaVuSans-20\"/>\n     <use x=\"1194.007812\" xlink:href=\"#DejaVuSans-6c\"/>\n     <use x=\"1221.791016\" xlink:href=\"#DejaVuSans-6f\"/>\n     <use x=\"1282.972656\" xlink:href=\"#DejaVuSans-73\"/>\n     <use x=\"1335.072266\" xlink:href=\"#DejaVuSans-73\"/>\n    </g>\n   </g>\n   <g id=\"legend_2\">\n    <g id=\"patch_13\">\n     <path d=\"M 446.476562 335.524375 \nL 551.115625 335.524375 \nQ 553.115625 335.524375 553.115625 333.524375 \nL 553.115625 305.168125 \nQ 553.115625 303.168125 551.115625 303.168125 \nL 446.476562 303.168125 \nQ 444.476562 303.168125 444.476562 305.168125 \nL 444.476562 333.524375 \nQ 444.476562 335.524375 446.476562 335.524375 \nz\n\" style=\"fill:#ffffff;opacity:0.8;stroke:#cccccc;stroke-linejoin:miter;\"/>\n    </g>\n    <g id=\"line2d_37\"/>\n    <g id=\"line2d_38\">\n     <g>\n      <use style=\"fill:#ff0000;stroke:#ff0000;\" x=\"458.476562\" xlink:href=\"#m59ce103cec\" y=\"311.266562\"/>\n     </g>\n    </g>\n    <g id=\"text_25\">\n     <!-- Training loss -->\n     <g transform=\"translate(476.476562 314.766562)scale(0.1 -0.1)\">\n      <use xlink:href=\"#DejaVuSans-54\"/>\n      <use x=\"60.865234\" xlink:href=\"#DejaVuSans-72\"/>\n      <use x=\"101.978516\" xlink:href=\"#DejaVuSans-61\"/>\n      <use x=\"163.257812\" xlink:href=\"#DejaVuSans-69\"/>\n      <use x=\"191.041016\" xlink:href=\"#DejaVuSans-6e\"/>\n      <use x=\"254.419922\" xlink:href=\"#DejaVuSans-69\"/>\n      <use x=\"282.203125\" xlink:href=\"#DejaVuSans-6e\"/>\n      <use x=\"345.582031\" xlink:href=\"#DejaVuSans-67\"/>\n      <use x=\"409.058594\" xlink:href=\"#DejaVuSans-20\"/>\n      <use x=\"440.845703\" xlink:href=\"#DejaVuSans-6c\"/>\n      <use x=\"468.628906\" xlink:href=\"#DejaVuSans-6f\"/>\n      <use x=\"529.810547\" xlink:href=\"#DejaVuSans-73\"/>\n      <use x=\"581.910156\" xlink:href=\"#DejaVuSans-73\"/>\n     </g>\n    </g>\n    <g id=\"line2d_39\">\n     <path d=\"M 448.476562 325.944687 \nL 468.476562 325.944687 \n\" style=\"fill:none;stroke:#ff0000;stroke-linecap:square;stroke-width:1.5;\"/>\n    </g>\n    <g id=\"line2d_40\"/>\n    <g id=\"text_26\">\n     <!-- Validation loss -->\n     <g transform=\"translate(476.476562 329.444687)scale(0.1 -0.1)\">\n      <use xlink:href=\"#DejaVuSans-56\"/>\n      <use x=\"68.298828\" xlink:href=\"#DejaVuSans-61\"/>\n      <use x=\"129.578125\" xlink:href=\"#DejaVuSans-6c\"/>\n      <use x=\"157.361328\" xlink:href=\"#DejaVuSans-69\"/>\n      <use x=\"185.144531\" xlink:href=\"#DejaVuSans-64\"/>\n      <use x=\"248.621094\" xlink:href=\"#DejaVuSans-61\"/>\n      <use x=\"309.900391\" xlink:href=\"#DejaVuSans-74\"/>\n      <use x=\"349.109375\" xlink:href=\"#DejaVuSans-69\"/>\n      <use x=\"376.892578\" xlink:href=\"#DejaVuSans-6f\"/>\n      <use x=\"438.074219\" xlink:href=\"#DejaVuSans-6e\"/>\n      <use x=\"501.453125\" xlink:href=\"#DejaVuSans-20\"/>\n      <use x=\"533.240234\" xlink:href=\"#DejaVuSans-6c\"/>\n      <use x=\"561.023438\" xlink:href=\"#DejaVuSans-6f\"/>\n      <use x=\"622.205078\" xlink:href=\"#DejaVuSans-73\"/>\n      <use x=\"674.304688\" xlink:href=\"#DejaVuSans-73\"/>\n     </g>\n    </g>\n   </g>\n  </g>\n </g>\n <defs>\n  <clipPath id=\"p4e9269e65b\">\n   <rect height=\"245.55\" width=\"521.65\" x=\"36.465625\" y=\"22.318125\"/>\n  </clipPath>\n  <clipPath id=\"p2844010c8a\">\n   <rect height=\"245.55\" width=\"521.65\" x=\"36.465625\" y=\"298.168125\"/>\n  </clipPath>\n </defs>\n</svg>\n"
          },
          "metadata": {
            "tags": []
          }
        }
      ]
    },
    {
      "metadata": {
        "id": "yYiK_C1qGHlp",
        "colab_type": "code",
        "outputId": "dc4d2c8d-16d9-484c-f955-0b4f273604a4",
        "colab": {
          "base_uri": "https://localhost:8080/",
          "height": 68
        }
      },
      "cell_type": "code",
      "source": [
        "inception_model = models.load_model('inceptionv3_tuned.h5')\n",
        "\n",
        "test_loss, test_acc =\\\n",
        "  inception_model.evaluate_generator(test_generator, \n",
        "                                     steps=test_generator.n, \n",
        "                                     verbose=1)\n",
        "\n",
        "print('\\nTest accuracy: ', round(test_acc*100, 2))"
      ],
      "execution_count": 0,
      "outputs": [
        {
          "output_type": "stream",
          "text": [
            "4124/4124 [==============================] - 175s 42ms/step\n",
            "\n",
            "Test accuracy:  88.48\n"
          ],
          "name": "stdout"
        }
      ]
    },
    {
      "metadata": {
        "id": "2eyE5ulUGf28",
        "colab_type": "code",
        "outputId": "306d4ba0-d4c5-4e8f-9b27-7c1a9d1310a7",
        "colab": {
          "base_uri": "https://localhost:8080/",
          "height": 65
        }
      },
      "cell_type": "code",
      "source": [
        "!du --block-size=M inceptionv3_tuned.h5\n",
        "!cp inceptionv3_tuned.h5 drive/My\\ Drive/Projets\\ Formation/Projet\\ 7/models"
      ],
      "execution_count": 0,
      "outputs": [
        {
          "output_type": "stream",
          "text": [
            "220M\tinceptionv3_tuned.h5\n"
          ],
          "name": "stdout"
        }
      ]
    },
    {
      "metadata": {
        "id": "_vklJSbw6Gea",
        "colab_type": "text"
      },
      "cell_type": "markdown",
      "source": [
        "## Modèle n°3: MobileNetV2"
      ]
    },
    {
      "metadata": {
        "id": "C2wniQS8nU7_",
        "colab_type": "text"
      },
      "cell_type": "markdown",
      "source": [
        "### Pre-train"
      ]
    },
    {
      "metadata": {
        "id": "oLFoS4176Fwe",
        "colab_type": "code",
        "outputId": "9867205f-dc13-4e9b-a8d6-489d15e495e1",
        "colab": {
          "base_uri": "https://localhost:8080/",
          "height": 68
        }
      },
      "cell_type": "code",
      "source": [
        "train_generator, valid_generator, test_generator =\\\n",
        "  create_generators(\n",
        "    base_dir = 'data', \n",
        "    batch_size = 128, \n",
        "    side_length = 224, \n",
        "    augmentation = False,\n",
        "    preprocess_input = tf.keras.applications.mobilenet_v2.preprocess_input\n",
        ")\n",
        "\n",
        "image_shape = train_generator.image_shape\n",
        "batch_size = train_generator.batch_size\n",
        "n_classes = train_generator.num_classes"
      ],
      "execution_count": 0,
      "outputs": [
        {
          "output_type": "stream",
          "text": [
            "Found 12345 images belonging to 120 classes.\n",
            "Found 4111 images belonging to 120 classes.\n",
            "Found 4124 images belonging to 120 classes.\n"
          ],
          "name": "stdout"
        }
      ]
    },
    {
      "metadata": {
        "id": "6Rhapj-F6Ua9",
        "colab_type": "code",
        "outputId": "43f1488e-2a6f-4bd2-f2ee-96e6f375c2f5",
        "colab": {
          "base_uri": "https://localhost:8080/",
          "height": 540
        }
      },
      "cell_type": "code",
      "source": [
        "mobilenetV2_base = MobileNetV2(weights = 'imagenet', \n",
        "                               include_top = False,\n",
        "                               input_shape = image_shape)\n",
        "mobilenetV2_base.trainable = False\n",
        "\n",
        "mobilenet_model = models.Sequential()\n",
        "mobilenet_model.add(mobilenetV2_base)\n",
        "mobilenet_model.add(layers.GlobalAveragePooling2D())\n",
        "mobilenet_model.add(layers.Dense(512, activation = 'relu'))\n",
        "mobilenet_model.add(layers.Dropout(0.5))\n",
        "mobilenet_model.add(layers.Dense(n_classes, activation = 'softmax'))\n",
        "\n",
        "mobilenet_model.compile(optimizer = Adam(1e-4),  \n",
        "                        loss = 'categorical_crossentropy', \n",
        "                        metrics = ['acc'])\n",
        "\n",
        "mobilenet_model.summary()"
      ],
      "execution_count": 0,
      "outputs": [
        {
          "output_type": "stream",
          "text": [
            "Downloading data from https://github.com/JonathanCMitchell/mobilenet_v2_keras/releases/download/v1.1/mobilenet_v2_weights_tf_dim_ordering_tf_kernels_1.0_224_no_top.h5\n",
            "9412608/9406464 [==============================] - 0s 0us/step\n",
            "_________________________________________________________________\n",
            "Layer (type)                 Output Shape              Param #   \n",
            "=================================================================\n",
            "mobilenetv2_1.00_224 (Model) (None, 7, 7, 1280)        2257984   \n",
            "_________________________________________________________________\n",
            "global_average_pooling2d_1 ( (None, 1280)              0         \n",
            "_________________________________________________________________\n",
            "dense_1 (Dense)              (None, 512)               655872    \n",
            "_________________________________________________________________\n",
            "dropout_1 (Dropout)          (None, 512)               0         \n",
            "_________________________________________________________________\n",
            "dense_2 (Dense)              (None, 120)               61560     \n",
            "=================================================================\n",
            "Total params: 2,975,416\n",
            "Trainable params: 717,432\n",
            "Non-trainable params: 2,257,984\n",
            "_________________________________________________________________\n"
          ],
          "name": "stdout"
        }
      ]
    },
    {
      "metadata": {
        "id": "lhIOlNbAP40Z",
        "colab_type": "code",
        "outputId": "e8e16248-3b11-463c-e7d8-d6fa405a7838",
        "colab": {
          "base_uri": "https://localhost:8080/",
          "height": 1020
        }
      },
      "cell_type": "code",
      "source": [
        "##############\n",
        "# 38 MINUTES #\n",
        "##############\n",
        "\n",
        "# tbc = TensorBoardColab(graph_path=\"./mobilenet_graph_1\")\n",
        "\n",
        "callbacks = [\n",
        "    EarlyStopping(patience=5, min_delta=0.01),\n",
        "    ModelCheckpoint('mobilenetv2_regularized.h5', save_best_only=True),\n",
        "    # TensorBoardColabCallback(tbc),\n",
        "]\n",
        "\n",
        "history = mobilenet_model.fit_generator(\n",
        "    generator = train_generator, \n",
        "    steps_per_epoch = np.ceil(train_generator.n/batch_size),  \n",
        "    validation_data = valid_generator, \n",
        "    validation_steps = np.ceil(valid_generator.n/batch_size),\n",
        "    epochs = 100, verbose = 1, callbacks = callbacks)"
      ],
      "execution_count": 0,
      "outputs": [
        {
          "output_type": "stream",
          "text": [
            "Epoch 1/100\n",
            "97/97 [==============================] - 95s 975ms/step - loss: 4.6359 - acc: 0.0459 - val_loss: 3.9054 - val_acc: 0.2902\n",
            "Epoch 2/100\n",
            "97/97 [==============================] - 81s 836ms/step - loss: 3.7342 - acc: 0.2023 - val_loss: 2.6952 - val_acc: 0.5393\n",
            "Epoch 3/100\n",
            "97/97 [==============================] - 81s 836ms/step - loss: 2.8683 - acc: 0.3500 - val_loss: 1.8264 - val_acc: 0.6595\n",
            "Epoch 4/100\n",
            "97/97 [==============================] - 81s 832ms/step - loss: 2.2631 - acc: 0.4586 - val_loss: 1.3874 - val_acc: 0.6989\n",
            "Epoch 5/100\n",
            "97/97 [==============================] - 81s 838ms/step - loss: 1.9401 - acc: 0.5134 - val_loss: 1.1659 - val_acc: 0.7271\n",
            "Epoch 6/100\n",
            "97/97 [==============================] - 81s 839ms/step - loss: 1.7011 - acc: 0.5581 - val_loss: 1.0316 - val_acc: 0.7336\n",
            "Epoch 7/100\n",
            "97/97 [==============================] - 81s 831ms/step - loss: 1.5523 - acc: 0.5869 - val_loss: 0.9465 - val_acc: 0.7480\n",
            "Epoch 8/100\n",
            "97/97 [==============================] - 81s 833ms/step - loss: 1.4435 - acc: 0.6097 - val_loss: 0.8815 - val_acc: 0.7524\n",
            "Epoch 9/100\n",
            "97/97 [==============================] - 81s 839ms/step - loss: 1.3193 - acc: 0.6386 - val_loss: 0.8405 - val_acc: 0.7597\n",
            "Epoch 10/100\n",
            "97/97 [==============================] - 81s 839ms/step - loss: 1.2682 - acc: 0.6534 - val_loss: 0.8107 - val_acc: 0.7662\n",
            "Epoch 11/100\n",
            "97/97 [==============================] - 81s 837ms/step - loss: 1.1899 - acc: 0.6736 - val_loss: 0.7895 - val_acc: 0.7660\n",
            "Epoch 12/100\n",
            "97/97 [==============================] - 81s 831ms/step - loss: 1.1162 - acc: 0.6880 - val_loss: 0.7682 - val_acc: 0.7667\n",
            "Epoch 13/100\n",
            "97/97 [==============================] - 81s 835ms/step - loss: 1.0679 - acc: 0.6968 - val_loss: 0.7535 - val_acc: 0.7679\n",
            "Epoch 14/100\n",
            "97/97 [==============================] - 82s 841ms/step - loss: 1.0334 - acc: 0.7101 - val_loss: 0.7385 - val_acc: 0.7711\n",
            "Epoch 15/100\n",
            "97/97 [==============================] - 81s 837ms/step - loss: 0.9900 - acc: 0.7213 - val_loss: 0.7281 - val_acc: 0.7716\n",
            "Epoch 16/100\n",
            "97/97 [==============================] - 81s 833ms/step - loss: 0.9537 - acc: 0.7304 - val_loss: 0.7228 - val_acc: 0.7748\n",
            "Epoch 17/100\n",
            "97/97 [==============================] - 81s 836ms/step - loss: 0.9252 - acc: 0.7359 - val_loss: 0.7102 - val_acc: 0.7738\n",
            "Epoch 18/100\n",
            "97/97 [==============================] - 80s 828ms/step - loss: 0.8906 - acc: 0.7452 - val_loss: 0.7109 - val_acc: 0.7706\n",
            "Epoch 19/100\n",
            "97/97 [==============================] - 80s 825ms/step - loss: 0.8504 - acc: 0.7543 - val_loss: 0.6942 - val_acc: 0.7779\n",
            "Epoch 20/100\n",
            "97/97 [==============================] - 80s 825ms/step - loss: 0.8170 - acc: 0.7646 - val_loss: 0.6963 - val_acc: 0.7806\n",
            "Epoch 21/100\n",
            "97/97 [==============================] - 81s 834ms/step - loss: 0.8021 - acc: 0.7677 - val_loss: 0.6918 - val_acc: 0.7784\n",
            "Epoch 22/100\n",
            "97/97 [==============================] - 80s 820ms/step - loss: 0.7722 - acc: 0.7767 - val_loss: 0.6845 - val_acc: 0.7806\n",
            "Epoch 23/100\n",
            "97/97 [==============================] - 80s 824ms/step - loss: 0.7545 - acc: 0.7818 - val_loss: 0.6826 - val_acc: 0.7813\n",
            "Epoch 24/100\n",
            "97/97 [==============================] - 80s 825ms/step - loss: 0.7243 - acc: 0.7921 - val_loss: 0.6785 - val_acc: 0.7811\n",
            "Epoch 25/100\n",
            "97/97 [==============================] - 80s 825ms/step - loss: 0.7113 - acc: 0.7958 - val_loss: 0.6789 - val_acc: 0.7823\n",
            "Epoch 26/100\n",
            "97/97 [==============================] - 79s 813ms/step - loss: 0.6837 - acc: 0.8053 - val_loss: 0.6775 - val_acc: 0.7806\n",
            "Epoch 27/100\n",
            "97/97 [==============================] - 79s 818ms/step - loss: 0.6659 - acc: 0.8104 - val_loss: 0.6818 - val_acc: 0.7842\n",
            "Epoch 28/100\n",
            "97/97 [==============================] - 79s 816ms/step - loss: 0.6492 - acc: 0.8078 - val_loss: 0.6755 - val_acc: 0.7818\n"
          ],
          "name": "stdout"
        }
      ]
    },
    {
      "metadata": {
        "id": "HAG6odBrP9di",
        "colab_type": "code",
        "outputId": "6796df4f-8878-4c17-8baf-4b572a30b370",
        "colab": {
          "base_uri": "https://localhost:8080/",
          "height": 837
        }
      },
      "cell_type": "code",
      "source": [
        "learning_curves(history, mult_ticks=5)"
      ],
      "execution_count": 0,
      "outputs": [
        {
          "output_type": "display_data",
          "data": {
            "text/plain": [
              "<matplotlib.figure.Figure at 0x7f0ec7f9d160>"
            ],
            "image/svg+xml": "<?xml version=\"1.0\" encoding=\"utf-8\" standalone=\"no\"?>\n<!DOCTYPE svg PUBLIC \"-//W3C//DTD SVG 1.1//EN\"\n  \"http://www.w3.org/Graphics/SVG/1.1/DTD/svg11.dtd\">\n<!-- Created with matplotlib (http://matplotlib.org/) -->\n<svg height=\"567pt\" version=\"1.1\" viewBox=\"0 0 568 567\" width=\"568pt\" xmlns=\"http://www.w3.org/2000/svg\" xmlns:xlink=\"http://www.w3.org/1999/xlink\">\n <defs>\n  <style type=\"text/css\">\n*{stroke-linecap:butt;stroke-linejoin:round;}\n  </style>\n </defs>\n <g id=\"figure_1\">\n  <g id=\"patch_1\">\n   <path d=\"M 0 567.59625 \nL 568.703125 567.59625 \nL 568.703125 0 \nL 0 0 \nz\n\" style=\"fill:none;\"/>\n  </g>\n  <g id=\"axes_1\">\n   <g id=\"patch_2\">\n    <path d=\"M 30.103125 267.868125 \nL 558.003125 267.868125 \nL 558.003125 22.318125 \nL 30.103125 22.318125 \nz\n\" style=\"fill:#ffffff;\"/>\n   </g>\n   <g id=\"matplotlib.axis_1\">\n    <g id=\"xtick_1\">\n     <g id=\"line2d_1\">\n      <defs>\n       <path d=\"M 0 0 \nL 0 3.5 \n\" id=\"m1a4d96e7c5\" style=\"stroke:#000000;stroke-width:0.8;\"/>\n      </defs>\n      <g>\n       <use style=\"stroke:#000000;stroke-width:0.8;\" x=\"36.324169\" xlink:href=\"#m1a4d96e7c5\" y=\"267.868125\"/>\n      </g>\n     </g>\n    </g>\n    <g id=\"xtick_2\">\n     <g id=\"line2d_2\">\n      <g>\n       <use style=\"stroke:#000000;stroke-width:0.8;\" x=\"125.196223\" xlink:href=\"#m1a4d96e7c5\" y=\"267.868125\"/>\n      </g>\n     </g>\n    </g>\n    <g id=\"xtick_3\">\n     <g id=\"line2d_3\">\n      <g>\n       <use style=\"stroke:#000000;stroke-width:0.8;\" x=\"214.068277\" xlink:href=\"#m1a4d96e7c5\" y=\"267.868125\"/>\n      </g>\n     </g>\n    </g>\n    <g id=\"xtick_4\">\n     <g id=\"line2d_4\">\n      <g>\n       <use style=\"stroke:#000000;stroke-width:0.8;\" x=\"302.94033\" xlink:href=\"#m1a4d96e7c5\" y=\"267.868125\"/>\n      </g>\n     </g>\n    </g>\n    <g id=\"xtick_5\">\n     <g id=\"line2d_5\">\n      <g>\n       <use style=\"stroke:#000000;stroke-width:0.8;\" x=\"391.812384\" xlink:href=\"#m1a4d96e7c5\" y=\"267.868125\"/>\n      </g>\n     </g>\n    </g>\n    <g id=\"xtick_6\">\n     <g id=\"line2d_6\">\n      <g>\n       <use style=\"stroke:#000000;stroke-width:0.8;\" x=\"480.684438\" xlink:href=\"#m1a4d96e7c5\" y=\"267.868125\"/>\n      </g>\n     </g>\n    </g>\n   </g>\n   <g id=\"matplotlib.axis_2\">\n    <g id=\"ytick_1\">\n     <g id=\"line2d_7\">\n      <defs>\n       <path d=\"M 0 0 \nL -3.5 0 \n\" id=\"m155c8abdf3\" style=\"stroke:#000000;stroke-width:0.8;\"/>\n      </defs>\n      <g>\n       <use style=\"stroke:#000000;stroke-width:0.8;\" x=\"30.103125\" xlink:href=\"#m155c8abdf3\" y=\"240.82783\"/>\n      </g>\n     </g>\n     <g id=\"text_1\">\n      <!-- 0.1 -->\n      <defs>\n       <path d=\"M 31.78125 66.40625 \nQ 24.171875 66.40625 20.328125 58.90625 \nQ 16.5 51.421875 16.5 36.375 \nQ 16.5 21.390625 20.328125 13.890625 \nQ 24.171875 6.390625 31.78125 6.390625 \nQ 39.453125 6.390625 43.28125 13.890625 \nQ 47.125 21.390625 47.125 36.375 \nQ 47.125 51.421875 43.28125 58.90625 \nQ 39.453125 66.40625 31.78125 66.40625 \nz\nM 31.78125 74.21875 \nQ 44.046875 74.21875 50.515625 64.515625 \nQ 56.984375 54.828125 56.984375 36.375 \nQ 56.984375 17.96875 50.515625 8.265625 \nQ 44.046875 -1.421875 31.78125 -1.421875 \nQ 19.53125 -1.421875 13.0625 8.265625 \nQ 6.59375 17.96875 6.59375 36.375 \nQ 6.59375 54.828125 13.0625 64.515625 \nQ 19.53125 74.21875 31.78125 74.21875 \nz\n\" id=\"DejaVuSans-30\"/>\n       <path d=\"M 10.6875 12.40625 \nL 21 12.40625 \nL 21 0 \nL 10.6875 0 \nz\n\" id=\"DejaVuSans-2e\"/>\n       <path d=\"M 12.40625 8.296875 \nL 28.515625 8.296875 \nL 28.515625 63.921875 \nL 10.984375 60.40625 \nL 10.984375 69.390625 \nL 28.421875 72.90625 \nL 38.28125 72.90625 \nL 38.28125 8.296875 \nL 54.390625 8.296875 \nL 54.390625 0 \nL 12.40625 0 \nz\n\" id=\"DejaVuSans-31\"/>\n      </defs>\n      <g transform=\"translate(7.2 244.627049)scale(0.1 -0.1)\">\n       <use xlink:href=\"#DejaVuSans-30\"/>\n       <use x=\"63.623047\" xlink:href=\"#DejaVuSans-2e\"/>\n       <use x=\"95.410156\" xlink:href=\"#DejaVuSans-31\"/>\n      </g>\n     </g>\n    </g>\n    <g id=\"ytick_2\">\n     <g id=\"line2d_8\">\n      <g>\n       <use style=\"stroke:#000000;stroke-width:0.8;\" x=\"30.103125\" xlink:href=\"#m155c8abdf3\" y=\"211.635662\"/>\n      </g>\n     </g>\n     <g id=\"text_2\">\n      <!-- 0.2 -->\n      <defs>\n       <path d=\"M 19.1875 8.296875 \nL 53.609375 8.296875 \nL 53.609375 0 \nL 7.328125 0 \nL 7.328125 8.296875 \nQ 12.9375 14.109375 22.625 23.890625 \nQ 32.328125 33.6875 34.8125 36.53125 \nQ 39.546875 41.84375 41.421875 45.53125 \nQ 43.3125 49.21875 43.3125 52.78125 \nQ 43.3125 58.59375 39.234375 62.25 \nQ 35.15625 65.921875 28.609375 65.921875 \nQ 23.96875 65.921875 18.8125 64.3125 \nQ 13.671875 62.703125 7.8125 59.421875 \nL 7.8125 69.390625 \nQ 13.765625 71.78125 18.9375 73 \nQ 24.125 74.21875 28.421875 74.21875 \nQ 39.75 74.21875 46.484375 68.546875 \nQ 53.21875 62.890625 53.21875 53.421875 \nQ 53.21875 48.921875 51.53125 44.890625 \nQ 49.859375 40.875 45.40625 35.40625 \nQ 44.1875 33.984375 37.640625 27.21875 \nQ 31.109375 20.453125 19.1875 8.296875 \nz\n\" id=\"DejaVuSans-32\"/>\n      </defs>\n      <g transform=\"translate(7.2 215.43488)scale(0.1 -0.1)\">\n       <use xlink:href=\"#DejaVuSans-30\"/>\n       <use x=\"63.623047\" xlink:href=\"#DejaVuSans-2e\"/>\n       <use x=\"95.410156\" xlink:href=\"#DejaVuSans-32\"/>\n      </g>\n     </g>\n    </g>\n    <g id=\"ytick_3\">\n     <g id=\"line2d_9\">\n      <g>\n       <use style=\"stroke:#000000;stroke-width:0.8;\" x=\"30.103125\" xlink:href=\"#m155c8abdf3\" y=\"182.443493\"/>\n      </g>\n     </g>\n     <g id=\"text_3\">\n      <!-- 0.3 -->\n      <defs>\n       <path d=\"M 40.578125 39.3125 \nQ 47.65625 37.796875 51.625 33 \nQ 55.609375 28.21875 55.609375 21.1875 \nQ 55.609375 10.40625 48.1875 4.484375 \nQ 40.765625 -1.421875 27.09375 -1.421875 \nQ 22.515625 -1.421875 17.65625 -0.515625 \nQ 12.796875 0.390625 7.625 2.203125 \nL 7.625 11.71875 \nQ 11.71875 9.328125 16.59375 8.109375 \nQ 21.484375 6.890625 26.8125 6.890625 \nQ 36.078125 6.890625 40.9375 10.546875 \nQ 45.796875 14.203125 45.796875 21.1875 \nQ 45.796875 27.640625 41.28125 31.265625 \nQ 36.765625 34.90625 28.71875 34.90625 \nL 20.21875 34.90625 \nL 20.21875 43.015625 \nL 29.109375 43.015625 \nQ 36.375 43.015625 40.234375 45.921875 \nQ 44.09375 48.828125 44.09375 54.296875 \nQ 44.09375 59.90625 40.109375 62.90625 \nQ 36.140625 65.921875 28.71875 65.921875 \nQ 24.65625 65.921875 20.015625 65.03125 \nQ 15.375 64.15625 9.8125 62.3125 \nL 9.8125 71.09375 \nQ 15.4375 72.65625 20.34375 73.4375 \nQ 25.25 74.21875 29.59375 74.21875 \nQ 40.828125 74.21875 47.359375 69.109375 \nQ 53.90625 64.015625 53.90625 55.328125 \nQ 53.90625 49.265625 50.4375 45.09375 \nQ 46.96875 40.921875 40.578125 39.3125 \nz\n\" id=\"DejaVuSans-33\"/>\n      </defs>\n      <g transform=\"translate(7.2 186.242712)scale(0.1 -0.1)\">\n       <use xlink:href=\"#DejaVuSans-30\"/>\n       <use x=\"63.623047\" xlink:href=\"#DejaVuSans-2e\"/>\n       <use x=\"95.410156\" xlink:href=\"#DejaVuSans-33\"/>\n      </g>\n     </g>\n    </g>\n    <g id=\"ytick_4\">\n     <g id=\"line2d_10\">\n      <g>\n       <use style=\"stroke:#000000;stroke-width:0.8;\" x=\"30.103125\" xlink:href=\"#m155c8abdf3\" y=\"153.251325\"/>\n      </g>\n     </g>\n     <g id=\"text_4\">\n      <!-- 0.4 -->\n      <defs>\n       <path d=\"M 37.796875 64.3125 \nL 12.890625 25.390625 \nL 37.796875 25.390625 \nz\nM 35.203125 72.90625 \nL 47.609375 72.90625 \nL 47.609375 25.390625 \nL 58.015625 25.390625 \nL 58.015625 17.1875 \nL 47.609375 17.1875 \nL 47.609375 0 \nL 37.796875 0 \nL 37.796875 17.1875 \nL 4.890625 17.1875 \nL 4.890625 26.703125 \nz\n\" id=\"DejaVuSans-34\"/>\n      </defs>\n      <g transform=\"translate(7.2 157.050544)scale(0.1 -0.1)\">\n       <use xlink:href=\"#DejaVuSans-30\"/>\n       <use x=\"63.623047\" xlink:href=\"#DejaVuSans-2e\"/>\n       <use x=\"95.410156\" xlink:href=\"#DejaVuSans-34\"/>\n      </g>\n     </g>\n    </g>\n    <g id=\"ytick_5\">\n     <g id=\"line2d_11\">\n      <g>\n       <use style=\"stroke:#000000;stroke-width:0.8;\" x=\"30.103125\" xlink:href=\"#m155c8abdf3\" y=\"124.059157\"/>\n      </g>\n     </g>\n     <g id=\"text_5\">\n      <!-- 0.5 -->\n      <defs>\n       <path d=\"M 10.796875 72.90625 \nL 49.515625 72.90625 \nL 49.515625 64.59375 \nL 19.828125 64.59375 \nL 19.828125 46.734375 \nQ 21.96875 47.46875 24.109375 47.828125 \nQ 26.265625 48.1875 28.421875 48.1875 \nQ 40.625 48.1875 47.75 41.5 \nQ 54.890625 34.8125 54.890625 23.390625 \nQ 54.890625 11.625 47.5625 5.09375 \nQ 40.234375 -1.421875 26.90625 -1.421875 \nQ 22.3125 -1.421875 17.546875 -0.640625 \nQ 12.796875 0.140625 7.71875 1.703125 \nL 7.71875 11.625 \nQ 12.109375 9.234375 16.796875 8.0625 \nQ 21.484375 6.890625 26.703125 6.890625 \nQ 35.15625 6.890625 40.078125 11.328125 \nQ 45.015625 15.765625 45.015625 23.390625 \nQ 45.015625 31 40.078125 35.4375 \nQ 35.15625 39.890625 26.703125 39.890625 \nQ 22.75 39.890625 18.8125 39.015625 \nQ 14.890625 38.140625 10.796875 36.28125 \nz\n\" id=\"DejaVuSans-35\"/>\n      </defs>\n      <g transform=\"translate(7.2 127.858376)scale(0.1 -0.1)\">\n       <use xlink:href=\"#DejaVuSans-30\"/>\n       <use x=\"63.623047\" xlink:href=\"#DejaVuSans-2e\"/>\n       <use x=\"95.410156\" xlink:href=\"#DejaVuSans-35\"/>\n      </g>\n     </g>\n    </g>\n    <g id=\"ytick_6\">\n     <g id=\"line2d_12\">\n      <g>\n       <use style=\"stroke:#000000;stroke-width:0.8;\" x=\"30.103125\" xlink:href=\"#m155c8abdf3\" y=\"94.866989\"/>\n      </g>\n     </g>\n     <g id=\"text_6\">\n      <!-- 0.6 -->\n      <defs>\n       <path d=\"M 33.015625 40.375 \nQ 26.375 40.375 22.484375 35.828125 \nQ 18.609375 31.296875 18.609375 23.390625 \nQ 18.609375 15.53125 22.484375 10.953125 \nQ 26.375 6.390625 33.015625 6.390625 \nQ 39.65625 6.390625 43.53125 10.953125 \nQ 47.40625 15.53125 47.40625 23.390625 \nQ 47.40625 31.296875 43.53125 35.828125 \nQ 39.65625 40.375 33.015625 40.375 \nz\nM 52.59375 71.296875 \nL 52.59375 62.3125 \nQ 48.875 64.0625 45.09375 64.984375 \nQ 41.3125 65.921875 37.59375 65.921875 \nQ 27.828125 65.921875 22.671875 59.328125 \nQ 17.53125 52.734375 16.796875 39.40625 \nQ 19.671875 43.65625 24.015625 45.921875 \nQ 28.375 48.1875 33.59375 48.1875 \nQ 44.578125 48.1875 50.953125 41.515625 \nQ 57.328125 34.859375 57.328125 23.390625 \nQ 57.328125 12.15625 50.6875 5.359375 \nQ 44.046875 -1.421875 33.015625 -1.421875 \nQ 20.359375 -1.421875 13.671875 8.265625 \nQ 6.984375 17.96875 6.984375 36.375 \nQ 6.984375 53.65625 15.1875 63.9375 \nQ 23.390625 74.21875 37.203125 74.21875 \nQ 40.921875 74.21875 44.703125 73.484375 \nQ 48.484375 72.75 52.59375 71.296875 \nz\n\" id=\"DejaVuSans-36\"/>\n      </defs>\n      <g transform=\"translate(7.2 98.666207)scale(0.1 -0.1)\">\n       <use xlink:href=\"#DejaVuSans-30\"/>\n       <use x=\"63.623047\" xlink:href=\"#DejaVuSans-2e\"/>\n       <use x=\"95.410156\" xlink:href=\"#DejaVuSans-36\"/>\n      </g>\n     </g>\n    </g>\n    <g id=\"ytick_7\">\n     <g id=\"line2d_13\">\n      <g>\n       <use style=\"stroke:#000000;stroke-width:0.8;\" x=\"30.103125\" xlink:href=\"#m155c8abdf3\" y=\"65.67482\"/>\n      </g>\n     </g>\n     <g id=\"text_7\">\n      <!-- 0.7 -->\n      <defs>\n       <path d=\"M 8.203125 72.90625 \nL 55.078125 72.90625 \nL 55.078125 68.703125 \nL 28.609375 0 \nL 18.3125 0 \nL 43.21875 64.59375 \nL 8.203125 64.59375 \nz\n\" id=\"DejaVuSans-37\"/>\n      </defs>\n      <g transform=\"translate(7.2 69.474039)scale(0.1 -0.1)\">\n       <use xlink:href=\"#DejaVuSans-30\"/>\n       <use x=\"63.623047\" xlink:href=\"#DejaVuSans-2e\"/>\n       <use x=\"95.410156\" xlink:href=\"#DejaVuSans-37\"/>\n      </g>\n     </g>\n    </g>\n    <g id=\"ytick_8\">\n     <g id=\"line2d_14\">\n      <g>\n       <use style=\"stroke:#000000;stroke-width:0.8;\" x=\"30.103125\" xlink:href=\"#m155c8abdf3\" y=\"36.482652\"/>\n      </g>\n     </g>\n     <g id=\"text_8\">\n      <!-- 0.8 -->\n      <defs>\n       <path d=\"M 31.78125 34.625 \nQ 24.75 34.625 20.71875 30.859375 \nQ 16.703125 27.09375 16.703125 20.515625 \nQ 16.703125 13.921875 20.71875 10.15625 \nQ 24.75 6.390625 31.78125 6.390625 \nQ 38.8125 6.390625 42.859375 10.171875 \nQ 46.921875 13.96875 46.921875 20.515625 \nQ 46.921875 27.09375 42.890625 30.859375 \nQ 38.875 34.625 31.78125 34.625 \nz\nM 21.921875 38.8125 \nQ 15.578125 40.375 12.03125 44.71875 \nQ 8.5 49.078125 8.5 55.328125 \nQ 8.5 64.0625 14.71875 69.140625 \nQ 20.953125 74.21875 31.78125 74.21875 \nQ 42.671875 74.21875 48.875 69.140625 \nQ 55.078125 64.0625 55.078125 55.328125 \nQ 55.078125 49.078125 51.53125 44.71875 \nQ 48 40.375 41.703125 38.8125 \nQ 48.828125 37.15625 52.796875 32.3125 \nQ 56.78125 27.484375 56.78125 20.515625 \nQ 56.78125 9.90625 50.3125 4.234375 \nQ 43.84375 -1.421875 31.78125 -1.421875 \nQ 19.734375 -1.421875 13.25 4.234375 \nQ 6.78125 9.90625 6.78125 20.515625 \nQ 6.78125 27.484375 10.78125 32.3125 \nQ 14.796875 37.15625 21.921875 38.8125 \nz\nM 18.3125 54.390625 \nQ 18.3125 48.734375 21.84375 45.5625 \nQ 25.390625 42.390625 31.78125 42.390625 \nQ 38.140625 42.390625 41.71875 45.5625 \nQ 45.3125 48.734375 45.3125 54.390625 \nQ 45.3125 60.0625 41.71875 63.234375 \nQ 38.140625 66.40625 31.78125 66.40625 \nQ 25.390625 66.40625 21.84375 63.234375 \nQ 18.3125 60.0625 18.3125 54.390625 \nz\n\" id=\"DejaVuSans-38\"/>\n      </defs>\n      <g transform=\"translate(7.2 40.281871)scale(0.1 -0.1)\">\n       <use xlink:href=\"#DejaVuSans-30\"/>\n       <use x=\"63.623047\" xlink:href=\"#DejaVuSans-2e\"/>\n       <use x=\"95.410156\" xlink:href=\"#DejaVuSans-38\"/>\n      </g>\n     </g>\n    </g>\n   </g>\n   <g id=\"line2d_15\">\n    <defs>\n     <path d=\"M 0 3 \nC 0.795609 3 1.55874 2.683901 2.12132 2.12132 \nC 2.683901 1.55874 3 0.795609 3 0 \nC 3 -0.795609 2.683901 -1.55874 2.12132 -2.12132 \nC 1.55874 -2.683901 0.795609 -3 0 -3 \nC -0.795609 -3 -1.55874 -2.683901 -2.12132 -2.12132 \nC -2.683901 -1.55874 -3 -0.795609 -3 0 \nC -3 0.795609 -2.683901 1.55874 -2.12132 2.12132 \nC -1.55874 2.683901 -0.795609 3 0 3 \nz\n\" id=\"mb56dea0356\" style=\"stroke:#0000ff;\"/>\n    </defs>\n    <g clip-path=\"url(#p15020624e2)\">\n     <use style=\"fill:#0000ff;stroke:#0000ff;\" x=\"54.09858\" xlink:href=\"#mb56dea0356\" y=\"256.706761\"/>\n     <use style=\"fill:#0000ff;stroke:#0000ff;\" x=\"71.87299\" xlink:href=\"#mb56dea0356\" y=\"211.139076\"/>\n     <use style=\"fill:#0000ff;stroke:#0000ff;\" x=\"89.647401\" xlink:href=\"#mb56dea0356\" y=\"167.817851\"/>\n     <use style=\"fill:#0000ff;stroke:#0000ff;\" x=\"107.421812\" xlink:href=\"#mb56dea0356\" y=\"136.320104\"/>\n     <use style=\"fill:#0000ff;stroke:#0000ff;\" x=\"125.196223\" xlink:href=\"#mb56dea0356\" y=\"120.287467\"/>\n     <use style=\"fill:#0000ff;stroke:#0000ff;\" x=\"142.970633\" xlink:href=\"#mb56dea0356\" y=\"107.257994\"/>\n     <use style=\"fill:#0000ff;stroke:#0000ff;\" x=\"160.745044\" xlink:href=\"#mb56dea0356\" y=\"98.886971\"/>\n     <use style=\"fill:#0000ff;stroke:#0000ff;\" x=\"178.519455\" xlink:href=\"#mb56dea0356\" y=\"91.863825\"/>\n     <use style=\"fill:#0000ff;stroke:#0000ff;\" x=\"196.293866\" xlink:href=\"#mb56dea0356\" y=\"83.58739\"/>\n     <use style=\"fill:#0000ff;stroke:#0000ff;\" x=\"214.068277\" xlink:href=\"#mb56dea0356\" y=\"79.401879\"/>\n     <use style=\"fill:#0000ff;stroke:#0000ff;\" x=\"231.842687\" xlink:href=\"#mb56dea0356\" y=\"73.300964\"/>\n     <use style=\"fill:#0000ff;stroke:#0000ff;\" x=\"249.617098\" xlink:href=\"#mb56dea0356\" y=\"69.044512\"/>\n     <use style=\"fill:#0000ff;stroke:#0000ff;\" x=\"267.391509\" xlink:href=\"#mb56dea0356\" y=\"66.608875\"/>\n     <use style=\"fill:#0000ff;stroke:#0000ff;\" x=\"285.16592\" xlink:href=\"#mb56dea0356\" y=\"62.896303\"/>\n     <use style=\"fill:#0000ff;stroke:#0000ff;\" x=\"302.94033\" xlink:href=\"#mb56dea0356\" y=\"59.491141\"/>\n     <use style=\"fill:#0000ff;stroke:#0000ff;\" x=\"320.714741\" xlink:href=\"#mb56dea0356\" y=\"56.771741\"/>\n     <use style=\"fill:#0000ff;stroke:#0000ff;\" x=\"338.489152\" xlink:href=\"#mb56dea0356\" y=\"54.927279\"/>\n     <use style=\"fill:#0000ff;stroke:#0000ff;\" x=\"356.263563\" xlink:href=\"#mb56dea0356\" y=\"52.538936\"/>\n     <use style=\"fill:#0000ff;stroke:#0000ff;\" x=\"374.037973\" xlink:href=\"#mb56dea0356\" y=\"49.890477\"/>\n     <use style=\"fill:#0000ff;stroke:#0000ff;\" x=\"391.812384\" xlink:href=\"#mb56dea0356\" y=\"46.840019\"/>\n     <use style=\"fill:#0000ff;stroke:#0000ff;\" x=\"409.586795\" xlink:href=\"#mb56dea0356\" y=\"45.941435\"/>\n     <use style=\"fill:#0000ff;stroke:#0000ff;\" x=\"427.361206\" xlink:href=\"#mb56dea0356\" y=\"43.269329\"/>\n     <use style=\"fill:#0000ff;stroke:#0000ff;\" x=\"445.135617\" xlink:href=\"#mb56dea0356\" y=\"41.70863\"/>\n     <use style=\"fill:#0000ff;stroke:#0000ff;\" x=\"462.910027\" xlink:href=\"#mb56dea0356\" y=\"38.634525\"/>\n     <use style=\"fill:#0000ff;stroke:#0000ff;\" x=\"480.684438\" xlink:href=\"#mb56dea0356\" y=\"37.735941\"/>\n     <use style=\"fill:#0000ff;stroke:#0000ff;\" x=\"498.458849\" xlink:href=\"#mb56dea0356\" y=\"34.851012\"/>\n     <use style=\"fill:#0000ff;stroke:#0000ff;\" x=\"516.23326\" xlink:href=\"#mb56dea0356\" y=\"33.479489\"/>\n     <use style=\"fill:#0000ff;stroke:#0000ff;\" x=\"534.00767\" xlink:href=\"#mb56dea0356\" y=\"34.16525\"/>\n    </g>\n   </g>\n   <g id=\"line2d_16\">\n    <path clip-path=\"url(#p15020624e2)\" d=\"M 54.09858 185.305192 \nL 71.87299 112.591059 \nL 89.647401 77.51217 \nL 107.421812 66.008567 \nL 125.196223 57.771419 \nL 142.970633 55.854152 \nL 160.745044 51.664568 \nL 178.519455 50.38639 \nL 196.293866 48.256093 \nL 214.068277 46.338826 \nL 231.842687 46.409836 \nL 249.617098 46.196806 \nL 267.391509 45.841756 \nL 285.16592 44.918628 \nL 302.94033 44.776608 \nL 320.714741 43.853479 \nL 338.489152 44.137519 \nL 356.263563 45.060648 \nL 374.037973 42.930351 \nL 391.812384 42.149242 \nL 409.586795 42.788331 \nL 427.361206 42.149242 \nL 445.135617 41.936212 \nL 462.910027 42.007222 \nL 480.684438 41.652173 \nL 498.458849 42.149242 \nL 516.23326 41.084093 \nL 534.00767 41.794192 \n\" style=\"fill:none;stroke:#0000ff;stroke-linecap:square;stroke-width:1.5;\"/>\n   </g>\n   <g id=\"patch_3\">\n    <path d=\"M 30.103125 267.868125 \nL 30.103125 22.318125 \n\" style=\"fill:none;stroke:#000000;stroke-linecap:square;stroke-linejoin:miter;stroke-width:0.8;\"/>\n   </g>\n   <g id=\"patch_4\">\n    <path d=\"M 558.003125 267.868125 \nL 558.003125 22.318125 \n\" style=\"fill:none;stroke:#000000;stroke-linecap:square;stroke-linejoin:miter;stroke-width:0.8;\"/>\n   </g>\n   <g id=\"patch_5\">\n    <path d=\"M 30.103125 267.868125 \nL 558.003125 267.868125 \n\" style=\"fill:none;stroke:#000000;stroke-linecap:square;stroke-linejoin:miter;stroke-width:0.8;\"/>\n   </g>\n   <g id=\"patch_6\">\n    <path d=\"M 30.103125 22.318125 \nL 558.003125 22.318125 \n\" style=\"fill:none;stroke:#000000;stroke-linecap:square;stroke-linejoin:miter;stroke-width:0.8;\"/>\n   </g>\n   <g id=\"text_9\">\n    <!-- Training and Validation accuracy -->\n    <defs>\n     <path d=\"M -0.296875 72.90625 \nL 61.375 72.90625 \nL 61.375 64.59375 \nL 35.5 64.59375 \nL 35.5 0 \nL 25.59375 0 \nL 25.59375 64.59375 \nL -0.296875 64.59375 \nz\n\" id=\"DejaVuSans-54\"/>\n     <path d=\"M 41.109375 46.296875 \nQ 39.59375 47.171875 37.8125 47.578125 \nQ 36.03125 48 33.890625 48 \nQ 26.265625 48 22.1875 43.046875 \nQ 18.109375 38.09375 18.109375 28.8125 \nL 18.109375 0 \nL 9.078125 0 \nL 9.078125 54.6875 \nL 18.109375 54.6875 \nL 18.109375 46.1875 \nQ 20.953125 51.171875 25.484375 53.578125 \nQ 30.03125 56 36.53125 56 \nQ 37.453125 56 38.578125 55.875 \nQ 39.703125 55.765625 41.0625 55.515625 \nz\n\" id=\"DejaVuSans-72\"/>\n     <path d=\"M 34.28125 27.484375 \nQ 23.390625 27.484375 19.1875 25 \nQ 14.984375 22.515625 14.984375 16.5 \nQ 14.984375 11.71875 18.140625 8.90625 \nQ 21.296875 6.109375 26.703125 6.109375 \nQ 34.1875 6.109375 38.703125 11.40625 \nQ 43.21875 16.703125 43.21875 25.484375 \nL 43.21875 27.484375 \nz\nM 52.203125 31.203125 \nL 52.203125 0 \nL 43.21875 0 \nL 43.21875 8.296875 \nQ 40.140625 3.328125 35.546875 0.953125 \nQ 30.953125 -1.421875 24.3125 -1.421875 \nQ 15.921875 -1.421875 10.953125 3.296875 \nQ 6 8.015625 6 15.921875 \nQ 6 25.140625 12.171875 29.828125 \nQ 18.359375 34.515625 30.609375 34.515625 \nL 43.21875 34.515625 \nL 43.21875 35.40625 \nQ 43.21875 41.609375 39.140625 45 \nQ 35.0625 48.390625 27.6875 48.390625 \nQ 23 48.390625 18.546875 47.265625 \nQ 14.109375 46.140625 10.015625 43.890625 \nL 10.015625 52.203125 \nQ 14.9375 54.109375 19.578125 55.046875 \nQ 24.21875 56 28.609375 56 \nQ 40.484375 56 46.34375 49.84375 \nQ 52.203125 43.703125 52.203125 31.203125 \nz\n\" id=\"DejaVuSans-61\"/>\n     <path d=\"M 9.421875 54.6875 \nL 18.40625 54.6875 \nL 18.40625 0 \nL 9.421875 0 \nz\nM 9.421875 75.984375 \nL 18.40625 75.984375 \nL 18.40625 64.59375 \nL 9.421875 64.59375 \nz\n\" id=\"DejaVuSans-69\"/>\n     <path d=\"M 54.890625 33.015625 \nL 54.890625 0 \nL 45.90625 0 \nL 45.90625 32.71875 \nQ 45.90625 40.484375 42.875 44.328125 \nQ 39.84375 48.1875 33.796875 48.1875 \nQ 26.515625 48.1875 22.3125 43.546875 \nQ 18.109375 38.921875 18.109375 30.90625 \nL 18.109375 0 \nL 9.078125 0 \nL 9.078125 54.6875 \nL 18.109375 54.6875 \nL 18.109375 46.1875 \nQ 21.34375 51.125 25.703125 53.5625 \nQ 30.078125 56 35.796875 56 \nQ 45.21875 56 50.046875 50.171875 \nQ 54.890625 44.34375 54.890625 33.015625 \nz\n\" id=\"DejaVuSans-6e\"/>\n     <path d=\"M 45.40625 27.984375 \nQ 45.40625 37.75 41.375 43.109375 \nQ 37.359375 48.484375 30.078125 48.484375 \nQ 22.859375 48.484375 18.828125 43.109375 \nQ 14.796875 37.75 14.796875 27.984375 \nQ 14.796875 18.265625 18.828125 12.890625 \nQ 22.859375 7.515625 30.078125 7.515625 \nQ 37.359375 7.515625 41.375 12.890625 \nQ 45.40625 18.265625 45.40625 27.984375 \nz\nM 54.390625 6.78125 \nQ 54.390625 -7.171875 48.1875 -13.984375 \nQ 42 -20.796875 29.203125 -20.796875 \nQ 24.46875 -20.796875 20.265625 -20.09375 \nQ 16.0625 -19.390625 12.109375 -17.921875 \nL 12.109375 -9.1875 \nQ 16.0625 -11.328125 19.921875 -12.34375 \nQ 23.78125 -13.375 27.78125 -13.375 \nQ 36.625 -13.375 41.015625 -8.765625 \nQ 45.40625 -4.15625 45.40625 5.171875 \nL 45.40625 9.625 \nQ 42.625 4.78125 38.28125 2.390625 \nQ 33.9375 0 27.875 0 \nQ 17.828125 0 11.671875 7.65625 \nQ 5.515625 15.328125 5.515625 27.984375 \nQ 5.515625 40.671875 11.671875 48.328125 \nQ 17.828125 56 27.875 56 \nQ 33.9375 56 38.28125 53.609375 \nQ 42.625 51.21875 45.40625 46.390625 \nL 45.40625 54.6875 \nL 54.390625 54.6875 \nz\n\" id=\"DejaVuSans-67\"/>\n     <path id=\"DejaVuSans-20\"/>\n     <path d=\"M 45.40625 46.390625 \nL 45.40625 75.984375 \nL 54.390625 75.984375 \nL 54.390625 0 \nL 45.40625 0 \nL 45.40625 8.203125 \nQ 42.578125 3.328125 38.25 0.953125 \nQ 33.9375 -1.421875 27.875 -1.421875 \nQ 17.96875 -1.421875 11.734375 6.484375 \nQ 5.515625 14.40625 5.515625 27.296875 \nQ 5.515625 40.1875 11.734375 48.09375 \nQ 17.96875 56 27.875 56 \nQ 33.9375 56 38.25 53.625 \nQ 42.578125 51.265625 45.40625 46.390625 \nz\nM 14.796875 27.296875 \nQ 14.796875 17.390625 18.875 11.75 \nQ 22.953125 6.109375 30.078125 6.109375 \nQ 37.203125 6.109375 41.296875 11.75 \nQ 45.40625 17.390625 45.40625 27.296875 \nQ 45.40625 37.203125 41.296875 42.84375 \nQ 37.203125 48.484375 30.078125 48.484375 \nQ 22.953125 48.484375 18.875 42.84375 \nQ 14.796875 37.203125 14.796875 27.296875 \nz\n\" id=\"DejaVuSans-64\"/>\n     <path d=\"M 28.609375 0 \nL 0.78125 72.90625 \nL 11.078125 72.90625 \nL 34.1875 11.53125 \nL 57.328125 72.90625 \nL 67.578125 72.90625 \nL 39.796875 0 \nz\n\" id=\"DejaVuSans-56\"/>\n     <path d=\"M 9.421875 75.984375 \nL 18.40625 75.984375 \nL 18.40625 0 \nL 9.421875 0 \nz\n\" id=\"DejaVuSans-6c\"/>\n     <path d=\"M 18.3125 70.21875 \nL 18.3125 54.6875 \nL 36.8125 54.6875 \nL 36.8125 47.703125 \nL 18.3125 47.703125 \nL 18.3125 18.015625 \nQ 18.3125 11.328125 20.140625 9.421875 \nQ 21.96875 7.515625 27.59375 7.515625 \nL 36.8125 7.515625 \nL 36.8125 0 \nL 27.59375 0 \nQ 17.1875 0 13.234375 3.875 \nQ 9.28125 7.765625 9.28125 18.015625 \nL 9.28125 47.703125 \nL 2.6875 47.703125 \nL 2.6875 54.6875 \nL 9.28125 54.6875 \nL 9.28125 70.21875 \nz\n\" id=\"DejaVuSans-74\"/>\n     <path d=\"M 30.609375 48.390625 \nQ 23.390625 48.390625 19.1875 42.75 \nQ 14.984375 37.109375 14.984375 27.296875 \nQ 14.984375 17.484375 19.15625 11.84375 \nQ 23.34375 6.203125 30.609375 6.203125 \nQ 37.796875 6.203125 41.984375 11.859375 \nQ 46.1875 17.53125 46.1875 27.296875 \nQ 46.1875 37.015625 41.984375 42.703125 \nQ 37.796875 48.390625 30.609375 48.390625 \nz\nM 30.609375 56 \nQ 42.328125 56 49.015625 48.375 \nQ 55.71875 40.765625 55.71875 27.296875 \nQ 55.71875 13.875 49.015625 6.21875 \nQ 42.328125 -1.421875 30.609375 -1.421875 \nQ 18.84375 -1.421875 12.171875 6.21875 \nQ 5.515625 13.875 5.515625 27.296875 \nQ 5.515625 40.765625 12.171875 48.375 \nQ 18.84375 56 30.609375 56 \nz\n\" id=\"DejaVuSans-6f\"/>\n     <path d=\"M 48.78125 52.59375 \nL 48.78125 44.1875 \nQ 44.96875 46.296875 41.140625 47.34375 \nQ 37.3125 48.390625 33.40625 48.390625 \nQ 24.65625 48.390625 19.8125 42.84375 \nQ 14.984375 37.3125 14.984375 27.296875 \nQ 14.984375 17.28125 19.8125 11.734375 \nQ 24.65625 6.203125 33.40625 6.203125 \nQ 37.3125 6.203125 41.140625 7.25 \nQ 44.96875 8.296875 48.78125 10.40625 \nL 48.78125 2.09375 \nQ 45.015625 0.34375 40.984375 -0.53125 \nQ 36.96875 -1.421875 32.421875 -1.421875 \nQ 20.0625 -1.421875 12.78125 6.34375 \nQ 5.515625 14.109375 5.515625 27.296875 \nQ 5.515625 40.671875 12.859375 48.328125 \nQ 20.21875 56 33.015625 56 \nQ 37.15625 56 41.109375 55.140625 \nQ 45.0625 54.296875 48.78125 52.59375 \nz\n\" id=\"DejaVuSans-63\"/>\n     <path d=\"M 8.5 21.578125 \nL 8.5 54.6875 \nL 17.484375 54.6875 \nL 17.484375 21.921875 \nQ 17.484375 14.15625 20.5 10.265625 \nQ 23.53125 6.390625 29.59375 6.390625 \nQ 36.859375 6.390625 41.078125 11.03125 \nQ 45.3125 15.671875 45.3125 23.6875 \nL 45.3125 54.6875 \nL 54.296875 54.6875 \nL 54.296875 0 \nL 45.3125 0 \nL 45.3125 8.40625 \nQ 42.046875 3.421875 37.71875 1 \nQ 33.40625 -1.421875 27.6875 -1.421875 \nQ 18.265625 -1.421875 13.375 4.4375 \nQ 8.5 10.296875 8.5 21.578125 \nz\nM 31.109375 56 \nz\n\" id=\"DejaVuSans-75\"/>\n     <path d=\"M 32.171875 -5.078125 \nQ 28.375 -14.84375 24.75 -17.8125 \nQ 21.140625 -20.796875 15.09375 -20.796875 \nL 7.90625 -20.796875 \nL 7.90625 -13.28125 \nL 13.1875 -13.28125 \nQ 16.890625 -13.28125 18.9375 -11.515625 \nQ 21 -9.765625 23.484375 -3.21875 \nL 25.09375 0.875 \nL 2.984375 54.6875 \nL 12.5 54.6875 \nL 29.59375 11.921875 \nL 46.6875 54.6875 \nL 56.203125 54.6875 \nz\n\" id=\"DejaVuSans-79\"/>\n    </defs>\n    <g transform=\"translate(195.342813 16.318125)scale(0.12 -0.12)\">\n     <use xlink:href=\"#DejaVuSans-54\"/>\n     <use x=\"60.865234\" xlink:href=\"#DejaVuSans-72\"/>\n     <use x=\"101.978516\" xlink:href=\"#DejaVuSans-61\"/>\n     <use x=\"163.257812\" xlink:href=\"#DejaVuSans-69\"/>\n     <use x=\"191.041016\" xlink:href=\"#DejaVuSans-6e\"/>\n     <use x=\"254.419922\" xlink:href=\"#DejaVuSans-69\"/>\n     <use x=\"282.203125\" xlink:href=\"#DejaVuSans-6e\"/>\n     <use x=\"345.582031\" xlink:href=\"#DejaVuSans-67\"/>\n     <use x=\"409.058594\" xlink:href=\"#DejaVuSans-20\"/>\n     <use x=\"440.845703\" xlink:href=\"#DejaVuSans-61\"/>\n     <use x=\"502.125\" xlink:href=\"#DejaVuSans-6e\"/>\n     <use x=\"565.503906\" xlink:href=\"#DejaVuSans-64\"/>\n     <use x=\"628.980469\" xlink:href=\"#DejaVuSans-20\"/>\n     <use x=\"660.767578\" xlink:href=\"#DejaVuSans-56\"/>\n     <use x=\"729.066406\" xlink:href=\"#DejaVuSans-61\"/>\n     <use x=\"790.345703\" xlink:href=\"#DejaVuSans-6c\"/>\n     <use x=\"818.128906\" xlink:href=\"#DejaVuSans-69\"/>\n     <use x=\"845.912109\" xlink:href=\"#DejaVuSans-64\"/>\n     <use x=\"909.388672\" xlink:href=\"#DejaVuSans-61\"/>\n     <use x=\"970.667969\" xlink:href=\"#DejaVuSans-74\"/>\n     <use x=\"1009.876953\" xlink:href=\"#DejaVuSans-69\"/>\n     <use x=\"1037.660156\" xlink:href=\"#DejaVuSans-6f\"/>\n     <use x=\"1098.841797\" xlink:href=\"#DejaVuSans-6e\"/>\n     <use x=\"1162.220703\" xlink:href=\"#DejaVuSans-20\"/>\n     <use x=\"1194.007812\" xlink:href=\"#DejaVuSans-61\"/>\n     <use x=\"1255.287109\" xlink:href=\"#DejaVuSans-63\"/>\n     <use x=\"1310.267578\" xlink:href=\"#DejaVuSans-63\"/>\n     <use x=\"1365.248047\" xlink:href=\"#DejaVuSans-75\"/>\n     <use x=\"1428.626953\" xlink:href=\"#DejaVuSans-72\"/>\n     <use x=\"1469.740234\" xlink:href=\"#DejaVuSans-61\"/>\n     <use x=\"1531.019531\" xlink:href=\"#DejaVuSans-63\"/>\n     <use x=\"1586\" xlink:href=\"#DejaVuSans-79\"/>\n    </g>\n   </g>\n   <g id=\"legend_1\">\n    <g id=\"patch_7\">\n     <path d=\"M 420.560938 262.868125 \nL 551.003125 262.868125 \nQ 553.003125 262.868125 553.003125 260.868125 \nL 553.003125 232.511875 \nQ 553.003125 230.511875 551.003125 230.511875 \nL 420.560938 230.511875 \nQ 418.560938 230.511875 418.560938 232.511875 \nL 418.560938 260.868125 \nQ 418.560938 262.868125 420.560938 262.868125 \nz\n\" style=\"fill:#ffffff;opacity:0.8;stroke:#cccccc;stroke-linejoin:miter;\"/>\n    </g>\n    <g id=\"line2d_17\"/>\n    <g id=\"line2d_18\">\n     <g>\n      <use style=\"fill:#0000ff;stroke:#0000ff;\" x=\"432.560938\" xlink:href=\"#mb56dea0356\" y=\"238.610312\"/>\n     </g>\n    </g>\n    <g id=\"text_10\">\n     <!-- Training accuracy -->\n     <g transform=\"translate(450.560938 242.110312)scale(0.1 -0.1)\">\n      <use xlink:href=\"#DejaVuSans-54\"/>\n      <use x=\"60.865234\" xlink:href=\"#DejaVuSans-72\"/>\n      <use x=\"101.978516\" xlink:href=\"#DejaVuSans-61\"/>\n      <use x=\"163.257812\" xlink:href=\"#DejaVuSans-69\"/>\n      <use x=\"191.041016\" xlink:href=\"#DejaVuSans-6e\"/>\n      <use x=\"254.419922\" xlink:href=\"#DejaVuSans-69\"/>\n      <use x=\"282.203125\" xlink:href=\"#DejaVuSans-6e\"/>\n      <use x=\"345.582031\" xlink:href=\"#DejaVuSans-67\"/>\n      <use x=\"409.058594\" xlink:href=\"#DejaVuSans-20\"/>\n      <use x=\"440.845703\" xlink:href=\"#DejaVuSans-61\"/>\n      <use x=\"502.125\" xlink:href=\"#DejaVuSans-63\"/>\n      <use x=\"557.105469\" xlink:href=\"#DejaVuSans-63\"/>\n      <use x=\"612.085938\" xlink:href=\"#DejaVuSans-75\"/>\n      <use x=\"675.464844\" xlink:href=\"#DejaVuSans-72\"/>\n      <use x=\"716.578125\" xlink:href=\"#DejaVuSans-61\"/>\n      <use x=\"777.857422\" xlink:href=\"#DejaVuSans-63\"/>\n      <use x=\"832.837891\" xlink:href=\"#DejaVuSans-79\"/>\n     </g>\n    </g>\n    <g id=\"line2d_19\">\n     <path d=\"M 422.560938 253.288437 \nL 442.560938 253.288437 \n\" style=\"fill:none;stroke:#0000ff;stroke-linecap:square;stroke-width:1.5;\"/>\n    </g>\n    <g id=\"line2d_20\"/>\n    <g id=\"text_11\">\n     <!-- Validation accuracy -->\n     <g transform=\"translate(450.560938 256.788437)scale(0.1 -0.1)\">\n      <use xlink:href=\"#DejaVuSans-56\"/>\n      <use x=\"68.298828\" xlink:href=\"#DejaVuSans-61\"/>\n      <use x=\"129.578125\" xlink:href=\"#DejaVuSans-6c\"/>\n      <use x=\"157.361328\" xlink:href=\"#DejaVuSans-69\"/>\n      <use x=\"185.144531\" xlink:href=\"#DejaVuSans-64\"/>\n      <use x=\"248.621094\" xlink:href=\"#DejaVuSans-61\"/>\n      <use x=\"309.900391\" xlink:href=\"#DejaVuSans-74\"/>\n      <use x=\"349.109375\" xlink:href=\"#DejaVuSans-69\"/>\n      <use x=\"376.892578\" xlink:href=\"#DejaVuSans-6f\"/>\n      <use x=\"438.074219\" xlink:href=\"#DejaVuSans-6e\"/>\n      <use x=\"501.453125\" xlink:href=\"#DejaVuSans-20\"/>\n      <use x=\"533.240234\" xlink:href=\"#DejaVuSans-61\"/>\n      <use x=\"594.519531\" xlink:href=\"#DejaVuSans-63\"/>\n      <use x=\"649.5\" xlink:href=\"#DejaVuSans-63\"/>\n      <use x=\"704.480469\" xlink:href=\"#DejaVuSans-75\"/>\n      <use x=\"767.859375\" xlink:href=\"#DejaVuSans-72\"/>\n      <use x=\"808.972656\" xlink:href=\"#DejaVuSans-61\"/>\n      <use x=\"870.251953\" xlink:href=\"#DejaVuSans-63\"/>\n      <use x=\"925.232422\" xlink:href=\"#DejaVuSans-79\"/>\n     </g>\n    </g>\n   </g>\n  </g>\n  <g id=\"axes_2\">\n   <g id=\"patch_8\">\n    <path d=\"M 30.103125 543.718125 \nL 558.003125 543.718125 \nL 558.003125 298.168125 \nL 30.103125 298.168125 \nz\n\" style=\"fill:#ffffff;\"/>\n   </g>\n   <g id=\"matplotlib.axis_3\">\n    <g id=\"xtick_7\">\n     <g id=\"line2d_21\">\n      <g>\n       <use style=\"stroke:#000000;stroke-width:0.8;\" x=\"36.324169\" xlink:href=\"#m1a4d96e7c5\" y=\"543.718125\"/>\n      </g>\n     </g>\n     <g id=\"text_12\">\n      <!-- 0 -->\n      <g transform=\"translate(33.142919 558.316562)scale(0.1 -0.1)\">\n       <use xlink:href=\"#DejaVuSans-30\"/>\n      </g>\n     </g>\n    </g>\n    <g id=\"xtick_8\">\n     <g id=\"line2d_22\">\n      <g>\n       <use style=\"stroke:#000000;stroke-width:0.8;\" x=\"125.196223\" xlink:href=\"#m1a4d96e7c5\" y=\"543.718125\"/>\n      </g>\n     </g>\n     <g id=\"text_13\">\n      <!-- 5 -->\n      <g transform=\"translate(122.014973 558.316562)scale(0.1 -0.1)\">\n       <use xlink:href=\"#DejaVuSans-35\"/>\n      </g>\n     </g>\n    </g>\n    <g id=\"xtick_9\">\n     <g id=\"line2d_23\">\n      <g>\n       <use style=\"stroke:#000000;stroke-width:0.8;\" x=\"214.068277\" xlink:href=\"#m1a4d96e7c5\" y=\"543.718125\"/>\n      </g>\n     </g>\n     <g id=\"text_14\">\n      <!-- 10 -->\n      <g transform=\"translate(207.705777 558.316562)scale(0.1 -0.1)\">\n       <use xlink:href=\"#DejaVuSans-31\"/>\n       <use x=\"63.623047\" xlink:href=\"#DejaVuSans-30\"/>\n      </g>\n     </g>\n    </g>\n    <g id=\"xtick_10\">\n     <g id=\"line2d_24\">\n      <g>\n       <use style=\"stroke:#000000;stroke-width:0.8;\" x=\"302.94033\" xlink:href=\"#m1a4d96e7c5\" y=\"543.718125\"/>\n      </g>\n     </g>\n     <g id=\"text_15\">\n      <!-- 15 -->\n      <g transform=\"translate(296.57783 558.316562)scale(0.1 -0.1)\">\n       <use xlink:href=\"#DejaVuSans-31\"/>\n       <use x=\"63.623047\" xlink:href=\"#DejaVuSans-35\"/>\n      </g>\n     </g>\n    </g>\n    <g id=\"xtick_11\">\n     <g id=\"line2d_25\">\n      <g>\n       <use style=\"stroke:#000000;stroke-width:0.8;\" x=\"391.812384\" xlink:href=\"#m1a4d96e7c5\" y=\"543.718125\"/>\n      </g>\n     </g>\n     <g id=\"text_16\">\n      <!-- 20 -->\n      <g transform=\"translate(385.449884 558.316562)scale(0.1 -0.1)\">\n       <use xlink:href=\"#DejaVuSans-32\"/>\n       <use x=\"63.623047\" xlink:href=\"#DejaVuSans-30\"/>\n      </g>\n     </g>\n    </g>\n    <g id=\"xtick_12\">\n     <g id=\"line2d_26\">\n      <g>\n       <use style=\"stroke:#000000;stroke-width:0.8;\" x=\"480.684438\" xlink:href=\"#m1a4d96e7c5\" y=\"543.718125\"/>\n      </g>\n     </g>\n     <g id=\"text_17\">\n      <!-- 25 -->\n      <g transform=\"translate(474.321938 558.316562)scale(0.1 -0.1)\">\n       <use xlink:href=\"#DejaVuSans-32\"/>\n       <use x=\"63.623047\" xlink:href=\"#DejaVuSans-35\"/>\n      </g>\n     </g>\n    </g>\n   </g>\n   <g id=\"matplotlib.axis_4\">\n    <g id=\"ytick_9\">\n     <g id=\"line2d_27\">\n      <g>\n       <use style=\"stroke:#000000;stroke-width:0.8;\" x=\"30.103125\" xlink:href=\"#m155c8abdf3\" y=\"540.886524\"/>\n      </g>\n     </g>\n     <g id=\"text_18\">\n      <!-- 0.5 -->\n      <g transform=\"translate(7.2 544.685743)scale(0.1 -0.1)\">\n       <use xlink:href=\"#DejaVuSans-30\"/>\n       <use x=\"63.623047\" xlink:href=\"#DejaVuSans-2e\"/>\n       <use x=\"95.410156\" xlink:href=\"#DejaVuSans-35\"/>\n      </g>\n     </g>\n    </g>\n    <g id=\"ytick_10\">\n     <g id=\"line2d_28\">\n      <g>\n       <use style=\"stroke:#000000;stroke-width:0.8;\" x=\"30.103125\" xlink:href=\"#m155c8abdf3\" y=\"512.909354\"/>\n      </g>\n     </g>\n     <g id=\"text_19\">\n      <!-- 1.0 -->\n      <g transform=\"translate(7.2 516.708573)scale(0.1 -0.1)\">\n       <use xlink:href=\"#DejaVuSans-31\"/>\n       <use x=\"63.623047\" xlink:href=\"#DejaVuSans-2e\"/>\n       <use x=\"95.410156\" xlink:href=\"#DejaVuSans-30\"/>\n      </g>\n     </g>\n    </g>\n    <g id=\"ytick_11\">\n     <g id=\"line2d_29\">\n      <g>\n       <use style=\"stroke:#000000;stroke-width:0.8;\" x=\"30.103125\" xlink:href=\"#m155c8abdf3\" y=\"484.932185\"/>\n      </g>\n     </g>\n     <g id=\"text_20\">\n      <!-- 1.5 -->\n      <g transform=\"translate(7.2 488.731404)scale(0.1 -0.1)\">\n       <use xlink:href=\"#DejaVuSans-31\"/>\n       <use x=\"63.623047\" xlink:href=\"#DejaVuSans-2e\"/>\n       <use x=\"95.410156\" xlink:href=\"#DejaVuSans-35\"/>\n      </g>\n     </g>\n    </g>\n    <g id=\"ytick_12\">\n     <g id=\"line2d_30\">\n      <g>\n       <use style=\"stroke:#000000;stroke-width:0.8;\" x=\"30.103125\" xlink:href=\"#m155c8abdf3\" y=\"456.955015\"/>\n      </g>\n     </g>\n     <g id=\"text_21\">\n      <!-- 2.0 -->\n      <g transform=\"translate(7.2 460.754234)scale(0.1 -0.1)\">\n       <use xlink:href=\"#DejaVuSans-32\"/>\n       <use x=\"63.623047\" xlink:href=\"#DejaVuSans-2e\"/>\n       <use x=\"95.410156\" xlink:href=\"#DejaVuSans-30\"/>\n      </g>\n     </g>\n    </g>\n    <g id=\"ytick_13\">\n     <g id=\"line2d_31\">\n      <g>\n       <use style=\"stroke:#000000;stroke-width:0.8;\" x=\"30.103125\" xlink:href=\"#m155c8abdf3\" y=\"428.977846\"/>\n      </g>\n     </g>\n     <g id=\"text_22\">\n      <!-- 2.5 -->\n      <g transform=\"translate(7.2 432.777065)scale(0.1 -0.1)\">\n       <use xlink:href=\"#DejaVuSans-32\"/>\n       <use x=\"63.623047\" xlink:href=\"#DejaVuSans-2e\"/>\n       <use x=\"95.410156\" xlink:href=\"#DejaVuSans-35\"/>\n      </g>\n     </g>\n    </g>\n    <g id=\"ytick_14\">\n     <g id=\"line2d_32\">\n      <g>\n       <use style=\"stroke:#000000;stroke-width:0.8;\" x=\"30.103125\" xlink:href=\"#m155c8abdf3\" y=\"401.000676\"/>\n      </g>\n     </g>\n     <g id=\"text_23\">\n      <!-- 3.0 -->\n      <g transform=\"translate(7.2 404.799895)scale(0.1 -0.1)\">\n       <use xlink:href=\"#DejaVuSans-33\"/>\n       <use x=\"63.623047\" xlink:href=\"#DejaVuSans-2e\"/>\n       <use x=\"95.410156\" xlink:href=\"#DejaVuSans-30\"/>\n      </g>\n     </g>\n    </g>\n    <g id=\"ytick_15\">\n     <g id=\"line2d_33\">\n      <g>\n       <use style=\"stroke:#000000;stroke-width:0.8;\" x=\"30.103125\" xlink:href=\"#m155c8abdf3\" y=\"373.023507\"/>\n      </g>\n     </g>\n     <g id=\"text_24\">\n      <!-- 3.5 -->\n      <g transform=\"translate(7.2 376.822726)scale(0.1 -0.1)\">\n       <use xlink:href=\"#DejaVuSans-33\"/>\n       <use x=\"63.623047\" xlink:href=\"#DejaVuSans-2e\"/>\n       <use x=\"95.410156\" xlink:href=\"#DejaVuSans-35\"/>\n      </g>\n     </g>\n    </g>\n    <g id=\"ytick_16\">\n     <g id=\"line2d_34\">\n      <g>\n       <use style=\"stroke:#000000;stroke-width:0.8;\" x=\"30.103125\" xlink:href=\"#m155c8abdf3\" y=\"345.046337\"/>\n      </g>\n     </g>\n     <g id=\"text_25\">\n      <!-- 4.0 -->\n      <g transform=\"translate(7.2 348.845556)scale(0.1 -0.1)\">\n       <use xlink:href=\"#DejaVuSans-34\"/>\n       <use x=\"63.623047\" xlink:href=\"#DejaVuSans-2e\"/>\n       <use x=\"95.410156\" xlink:href=\"#DejaVuSans-30\"/>\n      </g>\n     </g>\n    </g>\n    <g id=\"ytick_17\">\n     <g id=\"line2d_35\">\n      <g>\n       <use style=\"stroke:#000000;stroke-width:0.8;\" x=\"30.103125\" xlink:href=\"#m155c8abdf3\" y=\"317.069168\"/>\n      </g>\n     </g>\n     <g id=\"text_26\">\n      <!-- 4.5 -->\n      <g transform=\"translate(7.2 320.868387)scale(0.1 -0.1)\">\n       <use xlink:href=\"#DejaVuSans-34\"/>\n       <use x=\"63.623047\" xlink:href=\"#DejaVuSans-2e\"/>\n       <use x=\"95.410156\" xlink:href=\"#DejaVuSans-35\"/>\n      </g>\n     </g>\n    </g>\n   </g>\n   <g id=\"line2d_36\">\n    <defs>\n     <path d=\"M 0 3 \nC 0.795609 3 1.55874 2.683901 2.12132 2.12132 \nC 2.683901 1.55874 3 0.795609 3 0 \nC 3 -0.795609 2.683901 -1.55874 2.12132 -2.12132 \nC 1.55874 -2.683901 0.795609 -3 0 -3 \nC -0.795609 -3 -1.55874 -2.683901 -2.12132 -2.12132 \nC -2.683901 -1.55874 -3 -0.795609 -3 0 \nC -3 0.795609 -2.683901 1.55874 -2.12132 2.12132 \nC -1.55874 2.683901 -0.795609 3 0 3 \nz\n\" id=\"m8f5ca78869\" style=\"stroke:#ff0000;\"/>\n    </defs>\n    <g clip-path=\"url(#p0759688769)\">\n     <use style=\"fill:#ff0000;stroke:#ff0000;\" x=\"54.09858\" xlink:href=\"#m8f5ca78869\" y=\"309.329489\"/>\n     <use style=\"fill:#ff0000;stroke:#ff0000;\" x=\"71.87299\" xlink:href=\"#m8f5ca78869\" y=\"359.771315\"/>\n     <use style=\"fill:#ff0000;stroke:#ff0000;\" x=\"89.647401\" xlink:href=\"#m8f5ca78869\" y=\"408.405065\"/>\n     <use style=\"fill:#ff0000;stroke:#ff0000;\" x=\"107.421812\" xlink:href=\"#m8f5ca78869\" y=\"442.115831\"/>\n     <use style=\"fill:#ff0000;stroke:#ff0000;\" x=\"125.196223\" xlink:href=\"#m8f5ca78869\" y=\"460.217123\"/>\n     <use style=\"fill:#ff0000;stroke:#ff0000;\" x=\"142.970633\" xlink:href=\"#m8f5ca78869\" y=\"473.589613\"/>\n     <use style=\"fill:#ff0000;stroke:#ff0000;\" x=\"160.745044\" xlink:href=\"#m8f5ca78869\" y=\"481.931537\"/>\n     <use style=\"fill:#ff0000;stroke:#ff0000;\" x=\"178.519455\" xlink:href=\"#m8f5ca78869\" y=\"488.158431\"/>\n     <use style=\"fill:#ff0000;stroke:#ff0000;\" x=\"196.293866\" xlink:href=\"#m8f5ca78869\" y=\"495.011179\"/>\n     <use style=\"fill:#ff0000;stroke:#ff0000;\" x=\"214.068277\" xlink:href=\"#m8f5ca78869\" y=\"497.869004\"/>\n     <use style=\"fill:#ff0000;stroke:#ff0000;\" x=\"231.842687\" xlink:href=\"#m8f5ca78869\" y=\"502.302064\"/>\n     <use style=\"fill:#ff0000;stroke:#ff0000;\" x=\"249.617098\" xlink:href=\"#m8f5ca78869\" y=\"506.462554\"/>\n     <use style=\"fill:#ff0000;stroke:#ff0000;\" x=\"267.391509\" xlink:href=\"#m8f5ca78869\" y=\"509.090044\"/>\n     <use style=\"fill:#ff0000;stroke:#ff0000;\" x=\"285.16592\" xlink:href=\"#m8f5ca78869\" y=\"510.994958\"/>\n     <use style=\"fill:#ff0000;stroke:#ff0000;\" x=\"302.94033\" xlink:href=\"#m8f5ca78869\" y=\"513.409218\"/>\n     <use style=\"fill:#ff0000;stroke:#ff0000;\" x=\"320.714741\" xlink:href=\"#m8f5ca78869\" y=\"515.518171\"/>\n     <use style=\"fill:#ff0000;stroke:#ff0000;\" x=\"338.489152\" xlink:href=\"#m8f5ca78869\" y=\"517.194685\"/>\n     <use style=\"fill:#ff0000;stroke:#ff0000;\" x=\"356.263563\" xlink:href=\"#m8f5ca78869\" y=\"519.0315\"/>\n     <use style=\"fill:#ff0000;stroke:#ff0000;\" x=\"374.037973\" xlink:href=\"#m8f5ca78869\" y=\"521.248885\"/>\n     <use style=\"fill:#ff0000;stroke:#ff0000;\" x=\"391.812384\" xlink:href=\"#m8f5ca78869\" y=\"523.10874\"/>\n     <use style=\"fill:#ff0000;stroke:#ff0000;\" x=\"409.586795\" xlink:href=\"#m8f5ca78869\" y=\"524.031517\"/>\n     <use style=\"fill:#ff0000;stroke:#ff0000;\" x=\"427.361206\" xlink:href=\"#m8f5ca78869\" y=\"525.671182\"/>\n     <use style=\"fill:#ff0000;stroke:#ff0000;\" x=\"445.135617\" xlink:href=\"#m8f5ca78869\" y=\"526.674741\"/>\n     <use style=\"fill:#ff0000;stroke:#ff0000;\" x=\"462.910027\" xlink:href=\"#m8f5ca78869\" y=\"528.403349\"/>\n     <use style=\"fill:#ff0000;stroke:#ff0000;\" x=\"480.684438\" xlink:href=\"#m8f5ca78869\" y=\"529.043633\"/>\n     <use style=\"fill:#ff0000;stroke:#ff0000;\" x=\"498.458849\" xlink:href=\"#m8f5ca78869\" y=\"530.629478\"/>\n     <use style=\"fill:#ff0000;stroke:#ff0000;\" x=\"516.23326\" xlink:href=\"#m8f5ca78869\" y=\"531.624324\"/>\n     <use style=\"fill:#ff0000;stroke:#ff0000;\" x=\"534.00767\" xlink:href=\"#m8f5ca78869\" y=\"532.556761\"/>\n    </g>\n   </g>\n   <g id=\"line2d_37\">\n    <path clip-path=\"url(#p0759688769)\" d=\"M 54.09858 350.339817 \nL 71.87299 418.058337 \nL 89.647401 466.666192 \nL 107.421812 491.234396 \nL 125.196223 503.626786 \nL 142.970633 511.139512 \nL 160.745044 515.903274 \nL 178.519455 519.537381 \nL 196.293866 521.835345 \nL 214.068277 523.500615 \nL 231.842687 524.686153 \nL 249.617098 525.881539 \nL 267.391509 526.701389 \nL 285.16592 527.543821 \nL 302.94033 528.12609 \nL 320.714741 528.419711 \nL 338.489152 529.122786 \nL 356.263563 529.083731 \nL 374.037973 530.022403 \nL 391.812384 529.902229 \nL 409.586795 530.156649 \nL 427.361206 530.561357 \nL 445.135617 530.66838 \nL 462.910027 530.900294 \nL 480.684438 530.877888 \nL 498.458849 530.955446 \nL 516.23326 530.715248 \nL 534.00767 531.066127 \n\" style=\"fill:none;stroke:#ff0000;stroke-linecap:square;stroke-width:1.5;\"/>\n   </g>\n   <g id=\"patch_9\">\n    <path d=\"M 30.103125 543.718125 \nL 30.103125 298.168125 \n\" style=\"fill:none;stroke:#000000;stroke-linecap:square;stroke-linejoin:miter;stroke-width:0.8;\"/>\n   </g>\n   <g id=\"patch_10\">\n    <path d=\"M 558.003125 543.718125 \nL 558.003125 298.168125 \n\" style=\"fill:none;stroke:#000000;stroke-linecap:square;stroke-linejoin:miter;stroke-width:0.8;\"/>\n   </g>\n   <g id=\"patch_11\">\n    <path d=\"M 30.103125 543.718125 \nL 558.003125 543.718125 \n\" style=\"fill:none;stroke:#000000;stroke-linecap:square;stroke-linejoin:miter;stroke-width:0.8;\"/>\n   </g>\n   <g id=\"patch_12\">\n    <path d=\"M 30.103125 298.168125 \nL 558.003125 298.168125 \n\" style=\"fill:none;stroke:#000000;stroke-linecap:square;stroke-linejoin:miter;stroke-width:0.8;\"/>\n   </g>\n   <g id=\"text_27\">\n    <!-- Training and Validation loss -->\n    <defs>\n     <path d=\"M 44.28125 53.078125 \nL 44.28125 44.578125 \nQ 40.484375 46.53125 36.375 47.5 \nQ 32.28125 48.484375 27.875 48.484375 \nQ 21.1875 48.484375 17.84375 46.4375 \nQ 14.5 44.390625 14.5 40.28125 \nQ 14.5 37.15625 16.890625 35.375 \nQ 19.28125 33.59375 26.515625 31.984375 \nL 29.59375 31.296875 \nQ 39.15625 29.25 43.1875 25.515625 \nQ 47.21875 21.78125 47.21875 15.09375 \nQ 47.21875 7.46875 41.1875 3.015625 \nQ 35.15625 -1.421875 24.609375 -1.421875 \nQ 20.21875 -1.421875 15.453125 -0.5625 \nQ 10.6875 0.296875 5.421875 2 \nL 5.421875 11.28125 \nQ 10.40625 8.6875 15.234375 7.390625 \nQ 20.0625 6.109375 24.8125 6.109375 \nQ 31.15625 6.109375 34.5625 8.28125 \nQ 37.984375 10.453125 37.984375 14.40625 \nQ 37.984375 18.0625 35.515625 20.015625 \nQ 33.0625 21.96875 24.703125 23.78125 \nL 21.578125 24.515625 \nQ 13.234375 26.265625 9.515625 29.90625 \nQ 5.8125 33.546875 5.8125 39.890625 \nQ 5.8125 47.609375 11.28125 51.796875 \nQ 16.75 56 26.8125 56 \nQ 31.78125 56 36.171875 55.265625 \nQ 40.578125 54.546875 44.28125 53.078125 \nz\n\" id=\"DejaVuSans-73\"/>\n    </defs>\n    <g transform=\"translate(210.824688 292.168125)scale(0.12 -0.12)\">\n     <use xlink:href=\"#DejaVuSans-54\"/>\n     <use x=\"60.865234\" xlink:href=\"#DejaVuSans-72\"/>\n     <use x=\"101.978516\" xlink:href=\"#DejaVuSans-61\"/>\n     <use x=\"163.257812\" xlink:href=\"#DejaVuSans-69\"/>\n     <use x=\"191.041016\" xlink:href=\"#DejaVuSans-6e\"/>\n     <use x=\"254.419922\" xlink:href=\"#DejaVuSans-69\"/>\n     <use x=\"282.203125\" xlink:href=\"#DejaVuSans-6e\"/>\n     <use x=\"345.582031\" xlink:href=\"#DejaVuSans-67\"/>\n     <use x=\"409.058594\" xlink:href=\"#DejaVuSans-20\"/>\n     <use x=\"440.845703\" xlink:href=\"#DejaVuSans-61\"/>\n     <use x=\"502.125\" xlink:href=\"#DejaVuSans-6e\"/>\n     <use x=\"565.503906\" xlink:href=\"#DejaVuSans-64\"/>\n     <use x=\"628.980469\" xlink:href=\"#DejaVuSans-20\"/>\n     <use x=\"660.767578\" xlink:href=\"#DejaVuSans-56\"/>\n     <use x=\"729.066406\" xlink:href=\"#DejaVuSans-61\"/>\n     <use x=\"790.345703\" xlink:href=\"#DejaVuSans-6c\"/>\n     <use x=\"818.128906\" xlink:href=\"#DejaVuSans-69\"/>\n     <use x=\"845.912109\" xlink:href=\"#DejaVuSans-64\"/>\n     <use x=\"909.388672\" xlink:href=\"#DejaVuSans-61\"/>\n     <use x=\"970.667969\" xlink:href=\"#DejaVuSans-74\"/>\n     <use x=\"1009.876953\" xlink:href=\"#DejaVuSans-69\"/>\n     <use x=\"1037.660156\" xlink:href=\"#DejaVuSans-6f\"/>\n     <use x=\"1098.841797\" xlink:href=\"#DejaVuSans-6e\"/>\n     <use x=\"1162.220703\" xlink:href=\"#DejaVuSans-20\"/>\n     <use x=\"1194.007812\" xlink:href=\"#DejaVuSans-6c\"/>\n     <use x=\"1221.791016\" xlink:href=\"#DejaVuSans-6f\"/>\n     <use x=\"1282.972656\" xlink:href=\"#DejaVuSans-73\"/>\n     <use x=\"1335.072266\" xlink:href=\"#DejaVuSans-73\"/>\n    </g>\n   </g>\n   <g id=\"legend_2\">\n    <g id=\"patch_13\">\n     <path d=\"M 446.364063 335.524375 \nL 551.003125 335.524375 \nQ 553.003125 335.524375 553.003125 333.524375 \nL 553.003125 305.168125 \nQ 553.003125 303.168125 551.003125 303.168125 \nL 446.364063 303.168125 \nQ 444.364063 303.168125 444.364063 305.168125 \nL 444.364063 333.524375 \nQ 444.364063 335.524375 446.364063 335.524375 \nz\n\" style=\"fill:#ffffff;opacity:0.8;stroke:#cccccc;stroke-linejoin:miter;\"/>\n    </g>\n    <g id=\"line2d_38\"/>\n    <g id=\"line2d_39\">\n     <g>\n      <use style=\"fill:#ff0000;stroke:#ff0000;\" x=\"458.364063\" xlink:href=\"#m8f5ca78869\" y=\"311.266562\"/>\n     </g>\n    </g>\n    <g id=\"text_28\">\n     <!-- Training loss -->\n     <g transform=\"translate(476.364063 314.766562)scale(0.1 -0.1)\">\n      <use xlink:href=\"#DejaVuSans-54\"/>\n      <use x=\"60.865234\" xlink:href=\"#DejaVuSans-72\"/>\n      <use x=\"101.978516\" xlink:href=\"#DejaVuSans-61\"/>\n      <use x=\"163.257812\" xlink:href=\"#DejaVuSans-69\"/>\n      <use x=\"191.041016\" xlink:href=\"#DejaVuSans-6e\"/>\n      <use x=\"254.419922\" xlink:href=\"#DejaVuSans-69\"/>\n      <use x=\"282.203125\" xlink:href=\"#DejaVuSans-6e\"/>\n      <use x=\"345.582031\" xlink:href=\"#DejaVuSans-67\"/>\n      <use x=\"409.058594\" xlink:href=\"#DejaVuSans-20\"/>\n      <use x=\"440.845703\" xlink:href=\"#DejaVuSans-6c\"/>\n      <use x=\"468.628906\" xlink:href=\"#DejaVuSans-6f\"/>\n      <use x=\"529.810547\" xlink:href=\"#DejaVuSans-73\"/>\n      <use x=\"581.910156\" xlink:href=\"#DejaVuSans-73\"/>\n     </g>\n    </g>\n    <g id=\"line2d_40\">\n     <path d=\"M 448.364063 325.944687 \nL 468.364063 325.944687 \n\" style=\"fill:none;stroke:#ff0000;stroke-linecap:square;stroke-width:1.5;\"/>\n    </g>\n    <g id=\"line2d_41\"/>\n    <g id=\"text_29\">\n     <!-- Validation loss -->\n     <g transform=\"translate(476.364063 329.444687)scale(0.1 -0.1)\">\n      <use xlink:href=\"#DejaVuSans-56\"/>\n      <use x=\"68.298828\" xlink:href=\"#DejaVuSans-61\"/>\n      <use x=\"129.578125\" xlink:href=\"#DejaVuSans-6c\"/>\n      <use x=\"157.361328\" xlink:href=\"#DejaVuSans-69\"/>\n      <use x=\"185.144531\" xlink:href=\"#DejaVuSans-64\"/>\n      <use x=\"248.621094\" xlink:href=\"#DejaVuSans-61\"/>\n      <use x=\"309.900391\" xlink:href=\"#DejaVuSans-74\"/>\n      <use x=\"349.109375\" xlink:href=\"#DejaVuSans-69\"/>\n      <use x=\"376.892578\" xlink:href=\"#DejaVuSans-6f\"/>\n      <use x=\"438.074219\" xlink:href=\"#DejaVuSans-6e\"/>\n      <use x=\"501.453125\" xlink:href=\"#DejaVuSans-20\"/>\n      <use x=\"533.240234\" xlink:href=\"#DejaVuSans-6c\"/>\n      <use x=\"561.023438\" xlink:href=\"#DejaVuSans-6f\"/>\n      <use x=\"622.205078\" xlink:href=\"#DejaVuSans-73\"/>\n      <use x=\"674.304688\" xlink:href=\"#DejaVuSans-73\"/>\n     </g>\n    </g>\n   </g>\n  </g>\n </g>\n <defs>\n  <clipPath id=\"p15020624e2\">\n   <rect height=\"245.55\" width=\"527.9\" x=\"30.103125\" y=\"22.318125\"/>\n  </clipPath>\n  <clipPath id=\"p0759688769\">\n   <rect height=\"245.55\" width=\"527.9\" x=\"30.103125\" y=\"298.168125\"/>\n  </clipPath>\n </defs>\n</svg>\n"
          },
          "metadata": {
            "tags": []
          }
        }
      ]
    },
    {
      "metadata": {
        "id": "neWUibL-QBW2",
        "colab_type": "code",
        "outputId": "3375e410-ddbb-4c96-f0b4-ce7b891d1caf",
        "colab": {
          "base_uri": "https://localhost:8080/",
          "height": 1020
        }
      },
      "cell_type": "code",
      "source": [
        "mobilenet_model = models.load_model('mobilenetv2_regularized.h5')\n",
        "\n",
        "test_loss, test_acc =\\\n",
        "  mobilenet_model.evaluate_generator(test_generator, \n",
        "                                     steps=test_generator.n, \n",
        "                                     verbose=1)\n",
        "\n",
        "print('\\nTest accuracy: ', round(test_acc*100, 2))"
      ],
      "execution_count": 0,
      "outputs": [
        {
          "output_type": "stream",
          "text": [
            "/usr/local/lib/python3.6/dist-packages/keras/engine/saving.py:327: UserWarning: Error in loading the saved optimizer state. As a result, your model is starting with a freshly initialized optimizer.\n",
            "  warnings.warn('Error in loading the saved optimizer '\n"
          ],
          "name": "stderr"
        },
        {
          "output_type": "stream",
          "text": [
            "4124/4124 [==============================] - 75s 18ms/step\n",
            "\n",
            "Test accuracy:  78.06\n"
          ],
          "name": "stdout"
        }
      ]
    },
    {
      "metadata": {
        "id": "eFqTlupZQISX",
        "colab_type": "code",
        "outputId": "b0da3fd0-2514-4b03-edd1-4dd50917ea07",
        "colab": {
          "base_uri": "https://localhost:8080/",
          "height": 65
        }
      },
      "cell_type": "code",
      "source": [
        "!du --block-size=M mobilenetv2_regularized.h5\n",
        "!cp mobilenetv2_regularized.h5 drive/My\\ Drive/Projets\\ Formation/Projet\\ 7/models"
      ],
      "execution_count": 0,
      "outputs": [
        {
          "output_type": "stream",
          "text": [
            "18M\tmobilenetv2_regularized.h5\n"
          ],
          "name": "stdout"
        }
      ]
    },
    {
      "metadata": {
        "id": "gI_4h6KiqHJ8",
        "colab_type": "text"
      },
      "cell_type": "markdown",
      "source": [
        "### Fine-tuning"
      ]
    },
    {
      "metadata": {
        "id": "rD9FqN3fa7mN",
        "colab_type": "code",
        "outputId": "393c28e3-60f6-431c-82fa-c3a255c083e3",
        "colab": {
          "base_uri": "https://localhost:8080/",
          "height": 68
        }
      },
      "cell_type": "code",
      "source": [
        "train_generator, valid_generator, test_generator =\\\n",
        "  create_generators(\n",
        "    base_dir = 'data', \n",
        "    batch_size = 128, \n",
        "    side_length = 224, \n",
        "    augmentation = False,\n",
        "    preprocess_input = tf.keras.applications.mobilenet_v2.preprocess_input\n",
        ")\n",
        "\n",
        "image_shape = train_generator.image_shape\n",
        "batch_size = train_generator.batch_size\n",
        "n_classes = train_generator.num_classes"
      ],
      "execution_count": 0,
      "outputs": [
        {
          "output_type": "stream",
          "text": [
            "Found 12345 images belonging to 120 classes.\n",
            "Found 4111 images belonging to 120 classes.\n",
            "Found 4124 images belonging to 120 classes.\n"
          ],
          "name": "stdout"
        }
      ]
    },
    {
      "metadata": {
        "id": "g3XX56FOWtlN",
        "colab_type": "code",
        "outputId": "5b3d93ca-e659-49ce-dd8f-34cb8c5cffa2",
        "colab": {
          "base_uri": "https://localhost:8080/",
          "height": 151
        }
      },
      "cell_type": "code",
      "source": [
        "!cp drive/My\\ Drive/Projets\\ Formation/Projet\\ 7/models/mobilenetv2_regularized.h5 .\n",
        "mobilenet_model = models.load_model('mobilenetv2_regularized.h5')"
      ],
      "execution_count": 0,
      "outputs": [
        {
          "output_type": "stream",
          "text": [
            "/usr/local/lib/python3.6/dist-packages/keras/engine/saving.py:327: UserWarning: Error in loading the saved optimizer state. As a result, your model is starting with a freshly initialized optimizer.\n",
            "  warnings.warn('Error in loading the saved optimizer '\n"
          ],
          "name": "stderr"
        }
      ]
    },
    {
      "metadata": {
        "id": "Ia2w4AZwSwjI",
        "colab_type": "code",
        "colab": {}
      },
      "cell_type": "code",
      "source": [
        "# mobilenet_model.layers[0].summary()\n",
        "\n",
        "mobilenet_model.layers[0].trainable = True\n",
        "set_trainable = False\n",
        "\n",
        "for layer in mobilenet_model.layers[0].layers:\n",
        "  if layer.name == 'block_10_expand':\n",
        "    set_trainable = True\n",
        "  layer.trainable = set_trainable\n",
        "  \n",
        "\n",
        "# for layer in mobilenet_model.layers[0].layers:\n",
        "#   print(layer.name, layer.trainable)"
      ],
      "execution_count": 0,
      "outputs": []
    },
    {
      "metadata": {
        "id": "KFMNsiDESzSC",
        "colab_type": "code",
        "outputId": "0b8c4e44-1bda-4a95-e846-ef22b7f1f3c7",
        "colab": {
          "base_uri": "https://localhost:8080/",
          "height": 306
        }
      },
      "cell_type": "code",
      "source": [
        "mobilenet_model.compile(optimizer=Adam(lr=1e-5),\n",
        "                        loss='categorical_crossentropy', \n",
        "                        metrics=['acc'])\n",
        "mobilenet_model.summary()"
      ],
      "execution_count": 0,
      "outputs": [
        {
          "output_type": "stream",
          "text": [
            "_________________________________________________________________\n",
            "Layer (type)                 Output Shape              Param #   \n",
            "=================================================================\n",
            "mobilenetv2_1.00_224 (Model) (None, 7, 7, 1280)        2257984   \n",
            "_________________________________________________________________\n",
            "global_average_pooling2d_1 ( (None, 1280)              0         \n",
            "_________________________________________________________________\n",
            "dense_1 (Dense)              (None, 512)               655872    \n",
            "_________________________________________________________________\n",
            "dropout_1 (Dropout)          (None, 512)               0         \n",
            "_________________________________________________________________\n",
            "dense_2 (Dense)              (None, 120)               61560     \n",
            "=================================================================\n",
            "Total params: 2,975,416\n",
            "Trainable params: 2,701,944\n",
            "Non-trainable params: 273,472\n",
            "_________________________________________________________________\n"
          ],
          "name": "stdout"
        }
      ]
    },
    {
      "metadata": {
        "id": "aHrkMxojS1Mn",
        "colab_type": "code",
        "outputId": "65c8af7c-6795-43e8-a013-0ba009f7d6b6",
        "colab": {
          "base_uri": "https://localhost:8080/",
          "height": 1020
        }
      },
      "cell_type": "code",
      "source": [
        "##############\n",
        "# 13 MINUTES #\n",
        "##############\n",
        "\n",
        "callbacks = [\n",
        "    EarlyStopping(patience=5, min_delta=0.01),\n",
        "    ModelCheckpoint('mobilenetv2_tuned.h5', save_best_only=True),\n",
        "]\n",
        "\n",
        "history = mobilenet_model.fit_generator(\n",
        "    generator = train_generator, \n",
        "    steps_per_epoch = np.ceil(train_generator.n/batch_size),  \n",
        "    validation_data = valid_generator, \n",
        "    validation_steps = np.ceil(valid_generator.n/batch_size),\n",
        "    epochs=100, verbose=1, callbacks=callbacks)"
      ],
      "execution_count": 0,
      "outputs": [
        {
          "output_type": "stream",
          "text": [
            "Epoch 1/100\n",
            "97/97 [==============================] - 103s 1s/step - loss: 0.8379 - acc: 0.7553 - val_loss: 0.5022 - val_acc: 0.8655\n",
            "Epoch 2/100\n",
            "97/97 [==============================] - 84s 867ms/step - loss: 0.7522 - acc: 0.7775 - val_loss: 0.4867 - val_acc: 0.8667\n",
            "Epoch 3/100\n",
            "97/97 [==============================] - 85s 880ms/step - loss: 0.6859 - acc: 0.7966 - val_loss: 0.4782 - val_acc: 0.8667\n",
            "Epoch 4/100\n",
            "97/97 [==============================] - 85s 876ms/step - loss: 0.6493 - acc: 0.8025 - val_loss: 0.4731 - val_acc: 0.8635\n",
            "Epoch 5/100\n",
            "97/97 [==============================] - 85s 875ms/step - loss: 0.6120 - acc: 0.8158 - val_loss: 0.4675 - val_acc: 0.8638\n",
            "Epoch 6/100\n",
            "97/97 [==============================] - 85s 875ms/step - loss: 0.5757 - acc: 0.8257 - val_loss: 0.4642 - val_acc: 0.8648\n",
            "Epoch 7/100\n",
            "97/97 [==============================] - 85s 877ms/step - loss: 0.5356 - acc: 0.8390 - val_loss: 0.4610 - val_acc: 0.8640\n",
            "Epoch 8/100\n",
            "97/97 [==============================] - 84s 868ms/step - loss: 0.5137 - acc: 0.8437 - val_loss: 0.4586 - val_acc: 0.8648\n",
            "Epoch 9/100\n",
            "97/97 [==============================] - 84s 867ms/step - loss: 0.4973 - acc: 0.8499 - val_loss: 0.4568 - val_acc: 0.8650\n",
            "Epoch 10/100\n",
            "97/97 [==============================] - 85s 871ms/step - loss: 0.4683 - acc: 0.8533 - val_loss: 0.4548 - val_acc: 0.8665\n",
            "Epoch 11/100\n",
            "97/97 [==============================] - 85s 872ms/step - loss: 0.4413 - acc: 0.8692 - val_loss: 0.4567 - val_acc: 0.8652\n",
            "Epoch 12/100\n",
            "97/97 [==============================] - 84s 868ms/step - loss: 0.4306 - acc: 0.8659 - val_loss: 0.4553 - val_acc: 0.8643\n"
          ],
          "name": "stdout"
        }
      ]
    },
    {
      "metadata": {
        "id": "j_-F32-TS4EC",
        "colab_type": "code",
        "outputId": "c1089344-224e-4ae4-f31f-9b9cf634a2a3",
        "colab": {
          "base_uri": "https://localhost:8080/",
          "height": 777
        }
      },
      "cell_type": "code",
      "source": [
        "learning_curves(history, mult_ticks=1)"
      ],
      "execution_count": 0,
      "outputs": [
        {
          "output_type": "display_data",
          "data": {
            "text/plain": [
              "<matplotlib.figure.Figure at 0x7fb02d33c4a8>"
            ],
            "image/svg+xml": "<?xml version=\"1.0\" encoding=\"utf-8\" standalone=\"no\"?>\n<!DOCTYPE svg PUBLIC \"-//W3C//DTD SVG 1.1//EN\"\n  \"http://www.w3.org/Graphics/SVG/1.1/DTD/svg11.dtd\">\n<!-- Created with matplotlib (http://matplotlib.org/) -->\n<svg height=\"567pt\" version=\"1.1\" viewBox=\"0 0 568 567\" width=\"568pt\" xmlns=\"http://www.w3.org/2000/svg\" xmlns:xlink=\"http://www.w3.org/1999/xlink\">\n <defs>\n  <style type=\"text/css\">\n*{stroke-linecap:butt;stroke-linejoin:round;}\n  </style>\n </defs>\n <g id=\"figure_1\">\n  <g id=\"patch_1\">\n   <path d=\"M 0 567.59625 \nL 568.815625 567.59625 \nL 568.815625 0 \nL 0 0 \nz\n\" style=\"fill:none;\"/>\n  </g>\n  <g id=\"axes_1\">\n   <g id=\"patch_2\">\n    <path d=\"M 36.465625 267.868125 \nL 558.115625 267.868125 \nL 558.115625 22.318125 \nL 36.465625 22.318125 \nz\n\" style=\"fill:#ffffff;\"/>\n   </g>\n   <g id=\"matplotlib.axis_1\">\n    <g id=\"xtick_1\">\n     <g id=\"line2d_1\">\n      <defs>\n       <path d=\"M 0 0 \nL 0 3.5 \n\" id=\"m462e0d7c30\" style=\"stroke:#000000;stroke-width:0.8;\"/>\n      </defs>\n      <g>\n       <use style=\"stroke:#000000;stroke-width:0.8;\" x=\"60.176989\" xlink:href=\"#m462e0d7c30\" y=\"267.868125\"/>\n      </g>\n     </g>\n    </g>\n    <g id=\"xtick_2\">\n     <g id=\"line2d_2\">\n      <g>\n       <use style=\"stroke:#000000;stroke-width:0.8;\" x=\"103.288559\" xlink:href=\"#m462e0d7c30\" y=\"267.868125\"/>\n      </g>\n     </g>\n    </g>\n    <g id=\"xtick_3\">\n     <g id=\"line2d_3\">\n      <g>\n       <use style=\"stroke:#000000;stroke-width:0.8;\" x=\"146.400129\" xlink:href=\"#m462e0d7c30\" y=\"267.868125\"/>\n      </g>\n     </g>\n    </g>\n    <g id=\"xtick_4\">\n     <g id=\"line2d_4\">\n      <g>\n       <use style=\"stroke:#000000;stroke-width:0.8;\" x=\"189.511699\" xlink:href=\"#m462e0d7c30\" y=\"267.868125\"/>\n      </g>\n     </g>\n    </g>\n    <g id=\"xtick_5\">\n     <g id=\"line2d_5\">\n      <g>\n       <use style=\"stroke:#000000;stroke-width:0.8;\" x=\"232.62327\" xlink:href=\"#m462e0d7c30\" y=\"267.868125\"/>\n      </g>\n     </g>\n    </g>\n    <g id=\"xtick_6\">\n     <g id=\"line2d_6\">\n      <g>\n       <use style=\"stroke:#000000;stroke-width:0.8;\" x=\"275.73484\" xlink:href=\"#m462e0d7c30\" y=\"267.868125\"/>\n      </g>\n     </g>\n    </g>\n    <g id=\"xtick_7\">\n     <g id=\"line2d_7\">\n      <g>\n       <use style=\"stroke:#000000;stroke-width:0.8;\" x=\"318.84641\" xlink:href=\"#m462e0d7c30\" y=\"267.868125\"/>\n      </g>\n     </g>\n    </g>\n    <g id=\"xtick_8\">\n     <g id=\"line2d_8\">\n      <g>\n       <use style=\"stroke:#000000;stroke-width:0.8;\" x=\"361.95798\" xlink:href=\"#m462e0d7c30\" y=\"267.868125\"/>\n      </g>\n     </g>\n    </g>\n    <g id=\"xtick_9\">\n     <g id=\"line2d_9\">\n      <g>\n       <use style=\"stroke:#000000;stroke-width:0.8;\" x=\"405.069551\" xlink:href=\"#m462e0d7c30\" y=\"267.868125\"/>\n      </g>\n     </g>\n    </g>\n    <g id=\"xtick_10\">\n     <g id=\"line2d_10\">\n      <g>\n       <use style=\"stroke:#000000;stroke-width:0.8;\" x=\"448.181121\" xlink:href=\"#m462e0d7c30\" y=\"267.868125\"/>\n      </g>\n     </g>\n    </g>\n    <g id=\"xtick_11\">\n     <g id=\"line2d_11\">\n      <g>\n       <use style=\"stroke:#000000;stroke-width:0.8;\" x=\"491.292691\" xlink:href=\"#m462e0d7c30\" y=\"267.868125\"/>\n      </g>\n     </g>\n    </g>\n    <g id=\"xtick_12\">\n     <g id=\"line2d_12\">\n      <g>\n       <use style=\"stroke:#000000;stroke-width:0.8;\" x=\"534.404261\" xlink:href=\"#m462e0d7c30\" y=\"267.868125\"/>\n      </g>\n     </g>\n    </g>\n   </g>\n   <g id=\"matplotlib.axis_2\">\n    <g id=\"ytick_1\">\n     <g id=\"line2d_13\">\n      <defs>\n       <path d=\"M 0 0 \nL -3.5 0 \n\" id=\"m8d714920f8\" style=\"stroke:#000000;stroke-width:0.8;\"/>\n      </defs>\n      <g>\n       <use style=\"stroke:#000000;stroke-width:0.8;\" x=\"36.465625\" xlink:href=\"#m8d714920f8\" y=\"247.764942\"/>\n      </g>\n     </g>\n     <g id=\"text_1\">\n      <!-- 0.76 -->\n      <defs>\n       <path d=\"M 31.78125 66.40625 \nQ 24.171875 66.40625 20.328125 58.90625 \nQ 16.5 51.421875 16.5 36.375 \nQ 16.5 21.390625 20.328125 13.890625 \nQ 24.171875 6.390625 31.78125 6.390625 \nQ 39.453125 6.390625 43.28125 13.890625 \nQ 47.125 21.390625 47.125 36.375 \nQ 47.125 51.421875 43.28125 58.90625 \nQ 39.453125 66.40625 31.78125 66.40625 \nz\nM 31.78125 74.21875 \nQ 44.046875 74.21875 50.515625 64.515625 \nQ 56.984375 54.828125 56.984375 36.375 \nQ 56.984375 17.96875 50.515625 8.265625 \nQ 44.046875 -1.421875 31.78125 -1.421875 \nQ 19.53125 -1.421875 13.0625 8.265625 \nQ 6.59375 17.96875 6.59375 36.375 \nQ 6.59375 54.828125 13.0625 64.515625 \nQ 19.53125 74.21875 31.78125 74.21875 \nz\n\" id=\"DejaVuSans-30\"/>\n       <path d=\"M 10.6875 12.40625 \nL 21 12.40625 \nL 21 0 \nL 10.6875 0 \nz\n\" id=\"DejaVuSans-2e\"/>\n       <path d=\"M 8.203125 72.90625 \nL 55.078125 72.90625 \nL 55.078125 68.703125 \nL 28.609375 0 \nL 18.3125 0 \nL 43.21875 64.59375 \nL 8.203125 64.59375 \nz\n\" id=\"DejaVuSans-37\"/>\n       <path d=\"M 33.015625 40.375 \nQ 26.375 40.375 22.484375 35.828125 \nQ 18.609375 31.296875 18.609375 23.390625 \nQ 18.609375 15.53125 22.484375 10.953125 \nQ 26.375 6.390625 33.015625 6.390625 \nQ 39.65625 6.390625 43.53125 10.953125 \nQ 47.40625 15.53125 47.40625 23.390625 \nQ 47.40625 31.296875 43.53125 35.828125 \nQ 39.65625 40.375 33.015625 40.375 \nz\nM 52.59375 71.296875 \nL 52.59375 62.3125 \nQ 48.875 64.0625 45.09375 64.984375 \nQ 41.3125 65.921875 37.59375 65.921875 \nQ 27.828125 65.921875 22.671875 59.328125 \nQ 17.53125 52.734375 16.796875 39.40625 \nQ 19.671875 43.65625 24.015625 45.921875 \nQ 28.375 48.1875 33.59375 48.1875 \nQ 44.578125 48.1875 50.953125 41.515625 \nQ 57.328125 34.859375 57.328125 23.390625 \nQ 57.328125 12.15625 50.6875 5.359375 \nQ 44.046875 -1.421875 33.015625 -1.421875 \nQ 20.359375 -1.421875 13.671875 8.265625 \nQ 6.984375 17.96875 6.984375 36.375 \nQ 6.984375 53.65625 15.1875 63.9375 \nQ 23.390625 74.21875 37.203125 74.21875 \nQ 40.921875 74.21875 44.703125 73.484375 \nQ 48.484375 72.75 52.59375 71.296875 \nz\n\" id=\"DejaVuSans-36\"/>\n      </defs>\n      <g transform=\"translate(7.2 251.564161)scale(0.1 -0.1)\">\n       <use xlink:href=\"#DejaVuSans-30\"/>\n       <use x=\"63.623047\" xlink:href=\"#DejaVuSans-2e\"/>\n       <use x=\"95.410156\" xlink:href=\"#DejaVuSans-37\"/>\n       <use x=\"159.033203\" xlink:href=\"#DejaVuSans-36\"/>\n      </g>\n     </g>\n    </g>\n    <g id=\"ytick_2\">\n     <g id=\"line2d_14\">\n      <g>\n       <use style=\"stroke:#000000;stroke-width:0.8;\" x=\"36.465625\" xlink:href=\"#m8d714920f8\" y=\"208.481397\"/>\n      </g>\n     </g>\n     <g id=\"text_2\">\n      <!-- 0.78 -->\n      <defs>\n       <path d=\"M 31.78125 34.625 \nQ 24.75 34.625 20.71875 30.859375 \nQ 16.703125 27.09375 16.703125 20.515625 \nQ 16.703125 13.921875 20.71875 10.15625 \nQ 24.75 6.390625 31.78125 6.390625 \nQ 38.8125 6.390625 42.859375 10.171875 \nQ 46.921875 13.96875 46.921875 20.515625 \nQ 46.921875 27.09375 42.890625 30.859375 \nQ 38.875 34.625 31.78125 34.625 \nz\nM 21.921875 38.8125 \nQ 15.578125 40.375 12.03125 44.71875 \nQ 8.5 49.078125 8.5 55.328125 \nQ 8.5 64.0625 14.71875 69.140625 \nQ 20.953125 74.21875 31.78125 74.21875 \nQ 42.671875 74.21875 48.875 69.140625 \nQ 55.078125 64.0625 55.078125 55.328125 \nQ 55.078125 49.078125 51.53125 44.71875 \nQ 48 40.375 41.703125 38.8125 \nQ 48.828125 37.15625 52.796875 32.3125 \nQ 56.78125 27.484375 56.78125 20.515625 \nQ 56.78125 9.90625 50.3125 4.234375 \nQ 43.84375 -1.421875 31.78125 -1.421875 \nQ 19.734375 -1.421875 13.25 4.234375 \nQ 6.78125 9.90625 6.78125 20.515625 \nQ 6.78125 27.484375 10.78125 32.3125 \nQ 14.796875 37.15625 21.921875 38.8125 \nz\nM 18.3125 54.390625 \nQ 18.3125 48.734375 21.84375 45.5625 \nQ 25.390625 42.390625 31.78125 42.390625 \nQ 38.140625 42.390625 41.71875 45.5625 \nQ 45.3125 48.734375 45.3125 54.390625 \nQ 45.3125 60.0625 41.71875 63.234375 \nQ 38.140625 66.40625 31.78125 66.40625 \nQ 25.390625 66.40625 21.84375 63.234375 \nQ 18.3125 60.0625 18.3125 54.390625 \nz\n\" id=\"DejaVuSans-38\"/>\n      </defs>\n      <g transform=\"translate(7.2 212.280616)scale(0.1 -0.1)\">\n       <use xlink:href=\"#DejaVuSans-30\"/>\n       <use x=\"63.623047\" xlink:href=\"#DejaVuSans-2e\"/>\n       <use x=\"95.410156\" xlink:href=\"#DejaVuSans-37\"/>\n       <use x=\"159.033203\" xlink:href=\"#DejaVuSans-38\"/>\n      </g>\n     </g>\n    </g>\n    <g id=\"ytick_3\">\n     <g id=\"line2d_15\">\n      <g>\n       <use style=\"stroke:#000000;stroke-width:0.8;\" x=\"36.465625\" xlink:href=\"#m8d714920f8\" y=\"169.197852\"/>\n      </g>\n     </g>\n     <g id=\"text_3\">\n      <!-- 0.80 -->\n      <g transform=\"translate(7.2 172.997071)scale(0.1 -0.1)\">\n       <use xlink:href=\"#DejaVuSans-30\"/>\n       <use x=\"63.623047\" xlink:href=\"#DejaVuSans-2e\"/>\n       <use x=\"95.410156\" xlink:href=\"#DejaVuSans-38\"/>\n       <use x=\"159.033203\" xlink:href=\"#DejaVuSans-30\"/>\n      </g>\n     </g>\n    </g>\n    <g id=\"ytick_4\">\n     <g id=\"line2d_16\">\n      <g>\n       <use style=\"stroke:#000000;stroke-width:0.8;\" x=\"36.465625\" xlink:href=\"#m8d714920f8\" y=\"129.914307\"/>\n      </g>\n     </g>\n     <g id=\"text_4\">\n      <!-- 0.82 -->\n      <defs>\n       <path d=\"M 19.1875 8.296875 \nL 53.609375 8.296875 \nL 53.609375 0 \nL 7.328125 0 \nL 7.328125 8.296875 \nQ 12.9375 14.109375 22.625 23.890625 \nQ 32.328125 33.6875 34.8125 36.53125 \nQ 39.546875 41.84375 41.421875 45.53125 \nQ 43.3125 49.21875 43.3125 52.78125 \nQ 43.3125 58.59375 39.234375 62.25 \nQ 35.15625 65.921875 28.609375 65.921875 \nQ 23.96875 65.921875 18.8125 64.3125 \nQ 13.671875 62.703125 7.8125 59.421875 \nL 7.8125 69.390625 \nQ 13.765625 71.78125 18.9375 73 \nQ 24.125 74.21875 28.421875 74.21875 \nQ 39.75 74.21875 46.484375 68.546875 \nQ 53.21875 62.890625 53.21875 53.421875 \nQ 53.21875 48.921875 51.53125 44.890625 \nQ 49.859375 40.875 45.40625 35.40625 \nQ 44.1875 33.984375 37.640625 27.21875 \nQ 31.109375 20.453125 19.1875 8.296875 \nz\n\" id=\"DejaVuSans-32\"/>\n      </defs>\n      <g transform=\"translate(7.2 133.713526)scale(0.1 -0.1)\">\n       <use xlink:href=\"#DejaVuSans-30\"/>\n       <use x=\"63.623047\" xlink:href=\"#DejaVuSans-2e\"/>\n       <use x=\"95.410156\" xlink:href=\"#DejaVuSans-38\"/>\n       <use x=\"159.033203\" xlink:href=\"#DejaVuSans-32\"/>\n      </g>\n     </g>\n    </g>\n    <g id=\"ytick_5\">\n     <g id=\"line2d_17\">\n      <g>\n       <use style=\"stroke:#000000;stroke-width:0.8;\" x=\"36.465625\" xlink:href=\"#m8d714920f8\" y=\"90.630762\"/>\n      </g>\n     </g>\n     <g id=\"text_5\">\n      <!-- 0.84 -->\n      <defs>\n       <path d=\"M 37.796875 64.3125 \nL 12.890625 25.390625 \nL 37.796875 25.390625 \nz\nM 35.203125 72.90625 \nL 47.609375 72.90625 \nL 47.609375 25.390625 \nL 58.015625 25.390625 \nL 58.015625 17.1875 \nL 47.609375 17.1875 \nL 47.609375 0 \nL 37.796875 0 \nL 37.796875 17.1875 \nL 4.890625 17.1875 \nL 4.890625 26.703125 \nz\n\" id=\"DejaVuSans-34\"/>\n      </defs>\n      <g transform=\"translate(7.2 94.429981)scale(0.1 -0.1)\">\n       <use xlink:href=\"#DejaVuSans-30\"/>\n       <use x=\"63.623047\" xlink:href=\"#DejaVuSans-2e\"/>\n       <use x=\"95.410156\" xlink:href=\"#DejaVuSans-38\"/>\n       <use x=\"159.033203\" xlink:href=\"#DejaVuSans-34\"/>\n      </g>\n     </g>\n    </g>\n    <g id=\"ytick_6\">\n     <g id=\"line2d_18\">\n      <g>\n       <use style=\"stroke:#000000;stroke-width:0.8;\" x=\"36.465625\" xlink:href=\"#m8d714920f8\" y=\"51.347217\"/>\n      </g>\n     </g>\n     <g id=\"text_6\">\n      <!-- 0.86 -->\n      <g transform=\"translate(7.2 55.146435)scale(0.1 -0.1)\">\n       <use xlink:href=\"#DejaVuSans-30\"/>\n       <use x=\"63.623047\" xlink:href=\"#DejaVuSans-2e\"/>\n       <use x=\"95.410156\" xlink:href=\"#DejaVuSans-38\"/>\n       <use x=\"159.033203\" xlink:href=\"#DejaVuSans-36\"/>\n      </g>\n     </g>\n    </g>\n   </g>\n   <g id=\"line2d_19\">\n    <defs>\n     <path d=\"M 0 3 \nC 0.795609 3 1.55874 2.683901 2.12132 2.12132 \nC 2.683901 1.55874 3 0.795609 3 0 \nC 3 -0.795609 2.683901 -1.55874 2.12132 -2.12132 \nC 1.55874 -2.683901 0.795609 -3 0 -3 \nC -0.795609 -3 -1.55874 -2.683901 -2.12132 -2.12132 \nC -2.683901 -1.55874 -3 -0.795609 -3 0 \nC -3 0.795609 -2.683901 1.55874 -2.12132 2.12132 \nC -1.55874 2.683901 -0.795609 3 0 3 \nz\n\" id=\"m23814294c9\" style=\"stroke:#0000ff;\"/>\n    </defs>\n    <g clip-path=\"url(#p65a0a63ed9)\">\n     <use style=\"fill:#0000ff;stroke:#0000ff;\" x=\"60.176989\" xlink:href=\"#m23814294c9\" y=\"256.706761\"/>\n     <use style=\"fill:#0000ff;stroke:#0000ff;\" x=\"103.288559\" xlink:href=\"#m23814294c9\" y=\"213.429628\"/>\n     <use style=\"fill:#0000ff;stroke:#0000ff;\" x=\"146.400129\" xlink:href=\"#m23814294c9\" y=\"175.084815\"/>\n     <use style=\"fill:#0000ff;stroke:#0000ff;\" x=\"189.511699\" xlink:href=\"#m23814294c9\" y=\"164.583746\"/>\n     <use style=\"fill:#0000ff;stroke:#0000ff;\" x=\"232.62327\" xlink:href=\"#m23814294c9\" y=\"138.331073\"/>\n     <use style=\"fill:#0000ff;stroke:#0000ff;\" x=\"275.73484\" xlink:href=\"#m23814294c9\" y=\"118.283577\"/>\n     <use style=\"fill:#0000ff;stroke:#0000ff;\" x=\"318.84641\" xlink:href=\"#m23814294c9\" y=\"92.667333\"/>\n     <use style=\"fill:#0000ff;stroke:#0000ff;\" x=\"361.95798\" xlink:href=\"#m23814294c9\" y=\"83.43912\"/>\n     <use style=\"fill:#0000ff;stroke:#0000ff;\" x=\"405.069551\" xlink:href=\"#m23814294c9\" y=\"71.506087\"/>\n     <use style=\"fill:#0000ff;stroke:#0000ff;\" x=\"448.181121\" xlink:href=\"#m23814294c9\" y=\"63.391625\"/>\n     <use style=\"fill:#0000ff;stroke:#0000ff;\" x=\"491.292691\" xlink:href=\"#m23814294c9\" y=\"33.479489\"/>\n     <use style=\"fill:#0000ff;stroke:#0000ff;\" x=\"534.404261\" xlink:href=\"#m23814294c9\" y=\"38.730023\"/>\n    </g>\n   </g>\n   <g id=\"line2d_20\">\n    <path clip-path=\"url(#p65a0a63ed9)\" d=\"M 60.176989 40.577926 \nL 103.288559 38.188997 \nL 146.400129 38.188997 \nL 189.511699 44.400212 \nL 232.62327 43.922426 \nL 275.73484 42.011283 \nL 318.84641 43.44464 \nL 361.95798 42.011283 \nL 405.069551 41.533497 \nL 448.181121 38.666783 \nL 491.292691 41.055711 \nL 534.404261 42.966855 \n\" style=\"fill:none;stroke:#0000ff;stroke-linecap:square;stroke-width:1.5;\"/>\n   </g>\n   <g id=\"patch_3\">\n    <path d=\"M 36.465625 267.868125 \nL 36.465625 22.318125 \n\" style=\"fill:none;stroke:#000000;stroke-linecap:square;stroke-linejoin:miter;stroke-width:0.8;\"/>\n   </g>\n   <g id=\"patch_4\">\n    <path d=\"M 558.115625 267.868125 \nL 558.115625 22.318125 \n\" style=\"fill:none;stroke:#000000;stroke-linecap:square;stroke-linejoin:miter;stroke-width:0.8;\"/>\n   </g>\n   <g id=\"patch_5\">\n    <path d=\"M 36.465625 267.868125 \nL 558.115625 267.868125 \n\" style=\"fill:none;stroke:#000000;stroke-linecap:square;stroke-linejoin:miter;stroke-width:0.8;\"/>\n   </g>\n   <g id=\"patch_6\">\n    <path d=\"M 36.465625 22.318125 \nL 558.115625 22.318125 \n\" style=\"fill:none;stroke:#000000;stroke-linecap:square;stroke-linejoin:miter;stroke-width:0.8;\"/>\n   </g>\n   <g id=\"text_7\">\n    <!-- Training and Validation accuracy -->\n    <defs>\n     <path d=\"M -0.296875 72.90625 \nL 61.375 72.90625 \nL 61.375 64.59375 \nL 35.5 64.59375 \nL 35.5 0 \nL 25.59375 0 \nL 25.59375 64.59375 \nL -0.296875 64.59375 \nz\n\" id=\"DejaVuSans-54\"/>\n     <path d=\"M 41.109375 46.296875 \nQ 39.59375 47.171875 37.8125 47.578125 \nQ 36.03125 48 33.890625 48 \nQ 26.265625 48 22.1875 43.046875 \nQ 18.109375 38.09375 18.109375 28.8125 \nL 18.109375 0 \nL 9.078125 0 \nL 9.078125 54.6875 \nL 18.109375 54.6875 \nL 18.109375 46.1875 \nQ 20.953125 51.171875 25.484375 53.578125 \nQ 30.03125 56 36.53125 56 \nQ 37.453125 56 38.578125 55.875 \nQ 39.703125 55.765625 41.0625 55.515625 \nz\n\" id=\"DejaVuSans-72\"/>\n     <path d=\"M 34.28125 27.484375 \nQ 23.390625 27.484375 19.1875 25 \nQ 14.984375 22.515625 14.984375 16.5 \nQ 14.984375 11.71875 18.140625 8.90625 \nQ 21.296875 6.109375 26.703125 6.109375 \nQ 34.1875 6.109375 38.703125 11.40625 \nQ 43.21875 16.703125 43.21875 25.484375 \nL 43.21875 27.484375 \nz\nM 52.203125 31.203125 \nL 52.203125 0 \nL 43.21875 0 \nL 43.21875 8.296875 \nQ 40.140625 3.328125 35.546875 0.953125 \nQ 30.953125 -1.421875 24.3125 -1.421875 \nQ 15.921875 -1.421875 10.953125 3.296875 \nQ 6 8.015625 6 15.921875 \nQ 6 25.140625 12.171875 29.828125 \nQ 18.359375 34.515625 30.609375 34.515625 \nL 43.21875 34.515625 \nL 43.21875 35.40625 \nQ 43.21875 41.609375 39.140625 45 \nQ 35.0625 48.390625 27.6875 48.390625 \nQ 23 48.390625 18.546875 47.265625 \nQ 14.109375 46.140625 10.015625 43.890625 \nL 10.015625 52.203125 \nQ 14.9375 54.109375 19.578125 55.046875 \nQ 24.21875 56 28.609375 56 \nQ 40.484375 56 46.34375 49.84375 \nQ 52.203125 43.703125 52.203125 31.203125 \nz\n\" id=\"DejaVuSans-61\"/>\n     <path d=\"M 9.421875 54.6875 \nL 18.40625 54.6875 \nL 18.40625 0 \nL 9.421875 0 \nz\nM 9.421875 75.984375 \nL 18.40625 75.984375 \nL 18.40625 64.59375 \nL 9.421875 64.59375 \nz\n\" id=\"DejaVuSans-69\"/>\n     <path d=\"M 54.890625 33.015625 \nL 54.890625 0 \nL 45.90625 0 \nL 45.90625 32.71875 \nQ 45.90625 40.484375 42.875 44.328125 \nQ 39.84375 48.1875 33.796875 48.1875 \nQ 26.515625 48.1875 22.3125 43.546875 \nQ 18.109375 38.921875 18.109375 30.90625 \nL 18.109375 0 \nL 9.078125 0 \nL 9.078125 54.6875 \nL 18.109375 54.6875 \nL 18.109375 46.1875 \nQ 21.34375 51.125 25.703125 53.5625 \nQ 30.078125 56 35.796875 56 \nQ 45.21875 56 50.046875 50.171875 \nQ 54.890625 44.34375 54.890625 33.015625 \nz\n\" id=\"DejaVuSans-6e\"/>\n     <path d=\"M 45.40625 27.984375 \nQ 45.40625 37.75 41.375 43.109375 \nQ 37.359375 48.484375 30.078125 48.484375 \nQ 22.859375 48.484375 18.828125 43.109375 \nQ 14.796875 37.75 14.796875 27.984375 \nQ 14.796875 18.265625 18.828125 12.890625 \nQ 22.859375 7.515625 30.078125 7.515625 \nQ 37.359375 7.515625 41.375 12.890625 \nQ 45.40625 18.265625 45.40625 27.984375 \nz\nM 54.390625 6.78125 \nQ 54.390625 -7.171875 48.1875 -13.984375 \nQ 42 -20.796875 29.203125 -20.796875 \nQ 24.46875 -20.796875 20.265625 -20.09375 \nQ 16.0625 -19.390625 12.109375 -17.921875 \nL 12.109375 -9.1875 \nQ 16.0625 -11.328125 19.921875 -12.34375 \nQ 23.78125 -13.375 27.78125 -13.375 \nQ 36.625 -13.375 41.015625 -8.765625 \nQ 45.40625 -4.15625 45.40625 5.171875 \nL 45.40625 9.625 \nQ 42.625 4.78125 38.28125 2.390625 \nQ 33.9375 0 27.875 0 \nQ 17.828125 0 11.671875 7.65625 \nQ 5.515625 15.328125 5.515625 27.984375 \nQ 5.515625 40.671875 11.671875 48.328125 \nQ 17.828125 56 27.875 56 \nQ 33.9375 56 38.28125 53.609375 \nQ 42.625 51.21875 45.40625 46.390625 \nL 45.40625 54.6875 \nL 54.390625 54.6875 \nz\n\" id=\"DejaVuSans-67\"/>\n     <path id=\"DejaVuSans-20\"/>\n     <path d=\"M 45.40625 46.390625 \nL 45.40625 75.984375 \nL 54.390625 75.984375 \nL 54.390625 0 \nL 45.40625 0 \nL 45.40625 8.203125 \nQ 42.578125 3.328125 38.25 0.953125 \nQ 33.9375 -1.421875 27.875 -1.421875 \nQ 17.96875 -1.421875 11.734375 6.484375 \nQ 5.515625 14.40625 5.515625 27.296875 \nQ 5.515625 40.1875 11.734375 48.09375 \nQ 17.96875 56 27.875 56 \nQ 33.9375 56 38.25 53.625 \nQ 42.578125 51.265625 45.40625 46.390625 \nz\nM 14.796875 27.296875 \nQ 14.796875 17.390625 18.875 11.75 \nQ 22.953125 6.109375 30.078125 6.109375 \nQ 37.203125 6.109375 41.296875 11.75 \nQ 45.40625 17.390625 45.40625 27.296875 \nQ 45.40625 37.203125 41.296875 42.84375 \nQ 37.203125 48.484375 30.078125 48.484375 \nQ 22.953125 48.484375 18.875 42.84375 \nQ 14.796875 37.203125 14.796875 27.296875 \nz\n\" id=\"DejaVuSans-64\"/>\n     <path d=\"M 28.609375 0 \nL 0.78125 72.90625 \nL 11.078125 72.90625 \nL 34.1875 11.53125 \nL 57.328125 72.90625 \nL 67.578125 72.90625 \nL 39.796875 0 \nz\n\" id=\"DejaVuSans-56\"/>\n     <path d=\"M 9.421875 75.984375 \nL 18.40625 75.984375 \nL 18.40625 0 \nL 9.421875 0 \nz\n\" id=\"DejaVuSans-6c\"/>\n     <path d=\"M 18.3125 70.21875 \nL 18.3125 54.6875 \nL 36.8125 54.6875 \nL 36.8125 47.703125 \nL 18.3125 47.703125 \nL 18.3125 18.015625 \nQ 18.3125 11.328125 20.140625 9.421875 \nQ 21.96875 7.515625 27.59375 7.515625 \nL 36.8125 7.515625 \nL 36.8125 0 \nL 27.59375 0 \nQ 17.1875 0 13.234375 3.875 \nQ 9.28125 7.765625 9.28125 18.015625 \nL 9.28125 47.703125 \nL 2.6875 47.703125 \nL 2.6875 54.6875 \nL 9.28125 54.6875 \nL 9.28125 70.21875 \nz\n\" id=\"DejaVuSans-74\"/>\n     <path d=\"M 30.609375 48.390625 \nQ 23.390625 48.390625 19.1875 42.75 \nQ 14.984375 37.109375 14.984375 27.296875 \nQ 14.984375 17.484375 19.15625 11.84375 \nQ 23.34375 6.203125 30.609375 6.203125 \nQ 37.796875 6.203125 41.984375 11.859375 \nQ 46.1875 17.53125 46.1875 27.296875 \nQ 46.1875 37.015625 41.984375 42.703125 \nQ 37.796875 48.390625 30.609375 48.390625 \nz\nM 30.609375 56 \nQ 42.328125 56 49.015625 48.375 \nQ 55.71875 40.765625 55.71875 27.296875 \nQ 55.71875 13.875 49.015625 6.21875 \nQ 42.328125 -1.421875 30.609375 -1.421875 \nQ 18.84375 -1.421875 12.171875 6.21875 \nQ 5.515625 13.875 5.515625 27.296875 \nQ 5.515625 40.765625 12.171875 48.375 \nQ 18.84375 56 30.609375 56 \nz\n\" id=\"DejaVuSans-6f\"/>\n     <path d=\"M 48.78125 52.59375 \nL 48.78125 44.1875 \nQ 44.96875 46.296875 41.140625 47.34375 \nQ 37.3125 48.390625 33.40625 48.390625 \nQ 24.65625 48.390625 19.8125 42.84375 \nQ 14.984375 37.3125 14.984375 27.296875 \nQ 14.984375 17.28125 19.8125 11.734375 \nQ 24.65625 6.203125 33.40625 6.203125 \nQ 37.3125 6.203125 41.140625 7.25 \nQ 44.96875 8.296875 48.78125 10.40625 \nL 48.78125 2.09375 \nQ 45.015625 0.34375 40.984375 -0.53125 \nQ 36.96875 -1.421875 32.421875 -1.421875 \nQ 20.0625 -1.421875 12.78125 6.34375 \nQ 5.515625 14.109375 5.515625 27.296875 \nQ 5.515625 40.671875 12.859375 48.328125 \nQ 20.21875 56 33.015625 56 \nQ 37.15625 56 41.109375 55.140625 \nQ 45.0625 54.296875 48.78125 52.59375 \nz\n\" id=\"DejaVuSans-63\"/>\n     <path d=\"M 8.5 21.578125 \nL 8.5 54.6875 \nL 17.484375 54.6875 \nL 17.484375 21.921875 \nQ 17.484375 14.15625 20.5 10.265625 \nQ 23.53125 6.390625 29.59375 6.390625 \nQ 36.859375 6.390625 41.078125 11.03125 \nQ 45.3125 15.671875 45.3125 23.6875 \nL 45.3125 54.6875 \nL 54.296875 54.6875 \nL 54.296875 0 \nL 45.3125 0 \nL 45.3125 8.40625 \nQ 42.046875 3.421875 37.71875 1 \nQ 33.40625 -1.421875 27.6875 -1.421875 \nQ 18.265625 -1.421875 13.375 4.4375 \nQ 8.5 10.296875 8.5 21.578125 \nz\nM 31.109375 56 \nz\n\" id=\"DejaVuSans-75\"/>\n     <path d=\"M 32.171875 -5.078125 \nQ 28.375 -14.84375 24.75 -17.8125 \nQ 21.140625 -20.796875 15.09375 -20.796875 \nL 7.90625 -20.796875 \nL 7.90625 -13.28125 \nL 13.1875 -13.28125 \nQ 16.890625 -13.28125 18.9375 -11.515625 \nQ 21 -9.765625 23.484375 -3.21875 \nL 25.09375 0.875 \nL 2.984375 54.6875 \nL 12.5 54.6875 \nL 29.59375 11.921875 \nL 46.6875 54.6875 \nL 56.203125 54.6875 \nz\n\" id=\"DejaVuSans-79\"/>\n    </defs>\n    <g transform=\"translate(198.580312 16.318125)scale(0.12 -0.12)\">\n     <use xlink:href=\"#DejaVuSans-54\"/>\n     <use x=\"60.865234\" xlink:href=\"#DejaVuSans-72\"/>\n     <use x=\"101.978516\" xlink:href=\"#DejaVuSans-61\"/>\n     <use x=\"163.257812\" xlink:href=\"#DejaVuSans-69\"/>\n     <use x=\"191.041016\" xlink:href=\"#DejaVuSans-6e\"/>\n     <use x=\"254.419922\" xlink:href=\"#DejaVuSans-69\"/>\n     <use x=\"282.203125\" xlink:href=\"#DejaVuSans-6e\"/>\n     <use x=\"345.582031\" xlink:href=\"#DejaVuSans-67\"/>\n     <use x=\"409.058594\" xlink:href=\"#DejaVuSans-20\"/>\n     <use x=\"440.845703\" xlink:href=\"#DejaVuSans-61\"/>\n     <use x=\"502.125\" xlink:href=\"#DejaVuSans-6e\"/>\n     <use x=\"565.503906\" xlink:href=\"#DejaVuSans-64\"/>\n     <use x=\"628.980469\" xlink:href=\"#DejaVuSans-20\"/>\n     <use x=\"660.767578\" xlink:href=\"#DejaVuSans-56\"/>\n     <use x=\"729.066406\" xlink:href=\"#DejaVuSans-61\"/>\n     <use x=\"790.345703\" xlink:href=\"#DejaVuSans-6c\"/>\n     <use x=\"818.128906\" xlink:href=\"#DejaVuSans-69\"/>\n     <use x=\"845.912109\" xlink:href=\"#DejaVuSans-64\"/>\n     <use x=\"909.388672\" xlink:href=\"#DejaVuSans-61\"/>\n     <use x=\"970.667969\" xlink:href=\"#DejaVuSans-74\"/>\n     <use x=\"1009.876953\" xlink:href=\"#DejaVuSans-69\"/>\n     <use x=\"1037.660156\" xlink:href=\"#DejaVuSans-6f\"/>\n     <use x=\"1098.841797\" xlink:href=\"#DejaVuSans-6e\"/>\n     <use x=\"1162.220703\" xlink:href=\"#DejaVuSans-20\"/>\n     <use x=\"1194.007812\" xlink:href=\"#DejaVuSans-61\"/>\n     <use x=\"1255.287109\" xlink:href=\"#DejaVuSans-63\"/>\n     <use x=\"1310.267578\" xlink:href=\"#DejaVuSans-63\"/>\n     <use x=\"1365.248047\" xlink:href=\"#DejaVuSans-75\"/>\n     <use x=\"1428.626953\" xlink:href=\"#DejaVuSans-72\"/>\n     <use x=\"1469.740234\" xlink:href=\"#DejaVuSans-61\"/>\n     <use x=\"1531.019531\" xlink:href=\"#DejaVuSans-63\"/>\n     <use x=\"1586\" xlink:href=\"#DejaVuSans-79\"/>\n    </g>\n   </g>\n   <g id=\"legend_1\">\n    <g id=\"patch_7\">\n     <path d=\"M 420.673438 262.868125 \nL 551.115625 262.868125 \nQ 553.115625 262.868125 553.115625 260.868125 \nL 553.115625 232.511875 \nQ 553.115625 230.511875 551.115625 230.511875 \nL 420.673438 230.511875 \nQ 418.673438 230.511875 418.673438 232.511875 \nL 418.673438 260.868125 \nQ 418.673438 262.868125 420.673438 262.868125 \nz\n\" style=\"fill:#ffffff;opacity:0.8;stroke:#cccccc;stroke-linejoin:miter;\"/>\n    </g>\n    <g id=\"line2d_21\"/>\n    <g id=\"line2d_22\">\n     <g>\n      <use style=\"fill:#0000ff;stroke:#0000ff;\" x=\"432.673438\" xlink:href=\"#m23814294c9\" y=\"238.610312\"/>\n     </g>\n    </g>\n    <g id=\"text_8\">\n     <!-- Training accuracy -->\n     <g transform=\"translate(450.673438 242.110312)scale(0.1 -0.1)\">\n      <use xlink:href=\"#DejaVuSans-54\"/>\n      <use x=\"60.865234\" xlink:href=\"#DejaVuSans-72\"/>\n      <use x=\"101.978516\" xlink:href=\"#DejaVuSans-61\"/>\n      <use x=\"163.257812\" xlink:href=\"#DejaVuSans-69\"/>\n      <use x=\"191.041016\" xlink:href=\"#DejaVuSans-6e\"/>\n      <use x=\"254.419922\" xlink:href=\"#DejaVuSans-69\"/>\n      <use x=\"282.203125\" xlink:href=\"#DejaVuSans-6e\"/>\n      <use x=\"345.582031\" xlink:href=\"#DejaVuSans-67\"/>\n      <use x=\"409.058594\" xlink:href=\"#DejaVuSans-20\"/>\n      <use x=\"440.845703\" xlink:href=\"#DejaVuSans-61\"/>\n      <use x=\"502.125\" xlink:href=\"#DejaVuSans-63\"/>\n      <use x=\"557.105469\" xlink:href=\"#DejaVuSans-63\"/>\n      <use x=\"612.085938\" xlink:href=\"#DejaVuSans-75\"/>\n      <use x=\"675.464844\" xlink:href=\"#DejaVuSans-72\"/>\n      <use x=\"716.578125\" xlink:href=\"#DejaVuSans-61\"/>\n      <use x=\"777.857422\" xlink:href=\"#DejaVuSans-63\"/>\n      <use x=\"832.837891\" xlink:href=\"#DejaVuSans-79\"/>\n     </g>\n    </g>\n    <g id=\"line2d_23\">\n     <path d=\"M 422.673438 253.288437 \nL 442.673438 253.288437 \n\" style=\"fill:none;stroke:#0000ff;stroke-linecap:square;stroke-width:1.5;\"/>\n    </g>\n    <g id=\"line2d_24\"/>\n    <g id=\"text_9\">\n     <!-- Validation accuracy -->\n     <g transform=\"translate(450.673438 256.788437)scale(0.1 -0.1)\">\n      <use xlink:href=\"#DejaVuSans-56\"/>\n      <use x=\"68.298828\" xlink:href=\"#DejaVuSans-61\"/>\n      <use x=\"129.578125\" xlink:href=\"#DejaVuSans-6c\"/>\n      <use x=\"157.361328\" xlink:href=\"#DejaVuSans-69\"/>\n      <use x=\"185.144531\" xlink:href=\"#DejaVuSans-64\"/>\n      <use x=\"248.621094\" xlink:href=\"#DejaVuSans-61\"/>\n      <use x=\"309.900391\" xlink:href=\"#DejaVuSans-74\"/>\n      <use x=\"349.109375\" xlink:href=\"#DejaVuSans-69\"/>\n      <use x=\"376.892578\" xlink:href=\"#DejaVuSans-6f\"/>\n      <use x=\"438.074219\" xlink:href=\"#DejaVuSans-6e\"/>\n      <use x=\"501.453125\" xlink:href=\"#DejaVuSans-20\"/>\n      <use x=\"533.240234\" xlink:href=\"#DejaVuSans-61\"/>\n      <use x=\"594.519531\" xlink:href=\"#DejaVuSans-63\"/>\n      <use x=\"649.5\" xlink:href=\"#DejaVuSans-63\"/>\n      <use x=\"704.480469\" xlink:href=\"#DejaVuSans-75\"/>\n      <use x=\"767.859375\" xlink:href=\"#DejaVuSans-72\"/>\n      <use x=\"808.972656\" xlink:href=\"#DejaVuSans-61\"/>\n      <use x=\"870.251953\" xlink:href=\"#DejaVuSans-63\"/>\n      <use x=\"925.232422\" xlink:href=\"#DejaVuSans-79\"/>\n     </g>\n    </g>\n   </g>\n  </g>\n  <g id=\"axes_2\">\n   <g id=\"patch_8\">\n    <path d=\"M 36.465625 543.718125 \nL 558.115625 543.718125 \nL 558.115625 298.168125 \nL 36.465625 298.168125 \nz\n\" style=\"fill:#ffffff;\"/>\n   </g>\n   <g id=\"matplotlib.axis_3\">\n    <g id=\"xtick_13\">\n     <g id=\"line2d_25\">\n      <g>\n       <use style=\"stroke:#000000;stroke-width:0.8;\" x=\"60.176989\" xlink:href=\"#m462e0d7c30\" y=\"543.718125\"/>\n      </g>\n     </g>\n     <g id=\"text_10\">\n      <!-- 1 -->\n      <defs>\n       <path d=\"M 12.40625 8.296875 \nL 28.515625 8.296875 \nL 28.515625 63.921875 \nL 10.984375 60.40625 \nL 10.984375 69.390625 \nL 28.421875 72.90625 \nL 38.28125 72.90625 \nL 38.28125 8.296875 \nL 54.390625 8.296875 \nL 54.390625 0 \nL 12.40625 0 \nz\n\" id=\"DejaVuSans-31\"/>\n      </defs>\n      <g transform=\"translate(56.995739 558.316562)scale(0.1 -0.1)\">\n       <use xlink:href=\"#DejaVuSans-31\"/>\n      </g>\n     </g>\n    </g>\n    <g id=\"xtick_14\">\n     <g id=\"line2d_26\">\n      <g>\n       <use style=\"stroke:#000000;stroke-width:0.8;\" x=\"103.288559\" xlink:href=\"#m462e0d7c30\" y=\"543.718125\"/>\n      </g>\n     </g>\n     <g id=\"text_11\">\n      <!-- 2 -->\n      <g transform=\"translate(100.107309 558.316562)scale(0.1 -0.1)\">\n       <use xlink:href=\"#DejaVuSans-32\"/>\n      </g>\n     </g>\n    </g>\n    <g id=\"xtick_15\">\n     <g id=\"line2d_27\">\n      <g>\n       <use style=\"stroke:#000000;stroke-width:0.8;\" x=\"146.400129\" xlink:href=\"#m462e0d7c30\" y=\"543.718125\"/>\n      </g>\n     </g>\n     <g id=\"text_12\">\n      <!-- 3 -->\n      <defs>\n       <path d=\"M 40.578125 39.3125 \nQ 47.65625 37.796875 51.625 33 \nQ 55.609375 28.21875 55.609375 21.1875 \nQ 55.609375 10.40625 48.1875 4.484375 \nQ 40.765625 -1.421875 27.09375 -1.421875 \nQ 22.515625 -1.421875 17.65625 -0.515625 \nQ 12.796875 0.390625 7.625 2.203125 \nL 7.625 11.71875 \nQ 11.71875 9.328125 16.59375 8.109375 \nQ 21.484375 6.890625 26.8125 6.890625 \nQ 36.078125 6.890625 40.9375 10.546875 \nQ 45.796875 14.203125 45.796875 21.1875 \nQ 45.796875 27.640625 41.28125 31.265625 \nQ 36.765625 34.90625 28.71875 34.90625 \nL 20.21875 34.90625 \nL 20.21875 43.015625 \nL 29.109375 43.015625 \nQ 36.375 43.015625 40.234375 45.921875 \nQ 44.09375 48.828125 44.09375 54.296875 \nQ 44.09375 59.90625 40.109375 62.90625 \nQ 36.140625 65.921875 28.71875 65.921875 \nQ 24.65625 65.921875 20.015625 65.03125 \nQ 15.375 64.15625 9.8125 62.3125 \nL 9.8125 71.09375 \nQ 15.4375 72.65625 20.34375 73.4375 \nQ 25.25 74.21875 29.59375 74.21875 \nQ 40.828125 74.21875 47.359375 69.109375 \nQ 53.90625 64.015625 53.90625 55.328125 \nQ 53.90625 49.265625 50.4375 45.09375 \nQ 46.96875 40.921875 40.578125 39.3125 \nz\n\" id=\"DejaVuSans-33\"/>\n      </defs>\n      <g transform=\"translate(143.218879 558.316562)scale(0.1 -0.1)\">\n       <use xlink:href=\"#DejaVuSans-33\"/>\n      </g>\n     </g>\n    </g>\n    <g id=\"xtick_16\">\n     <g id=\"line2d_28\">\n      <g>\n       <use style=\"stroke:#000000;stroke-width:0.8;\" x=\"189.511699\" xlink:href=\"#m462e0d7c30\" y=\"543.718125\"/>\n      </g>\n     </g>\n     <g id=\"text_13\">\n      <!-- 4 -->\n      <g transform=\"translate(186.330449 558.316562)scale(0.1 -0.1)\">\n       <use xlink:href=\"#DejaVuSans-34\"/>\n      </g>\n     </g>\n    </g>\n    <g id=\"xtick_17\">\n     <g id=\"line2d_29\">\n      <g>\n       <use style=\"stroke:#000000;stroke-width:0.8;\" x=\"232.62327\" xlink:href=\"#m462e0d7c30\" y=\"543.718125\"/>\n      </g>\n     </g>\n     <g id=\"text_14\">\n      <!-- 5 -->\n      <defs>\n       <path d=\"M 10.796875 72.90625 \nL 49.515625 72.90625 \nL 49.515625 64.59375 \nL 19.828125 64.59375 \nL 19.828125 46.734375 \nQ 21.96875 47.46875 24.109375 47.828125 \nQ 26.265625 48.1875 28.421875 48.1875 \nQ 40.625 48.1875 47.75 41.5 \nQ 54.890625 34.8125 54.890625 23.390625 \nQ 54.890625 11.625 47.5625 5.09375 \nQ 40.234375 -1.421875 26.90625 -1.421875 \nQ 22.3125 -1.421875 17.546875 -0.640625 \nQ 12.796875 0.140625 7.71875 1.703125 \nL 7.71875 11.625 \nQ 12.109375 9.234375 16.796875 8.0625 \nQ 21.484375 6.890625 26.703125 6.890625 \nQ 35.15625 6.890625 40.078125 11.328125 \nQ 45.015625 15.765625 45.015625 23.390625 \nQ 45.015625 31 40.078125 35.4375 \nQ 35.15625 39.890625 26.703125 39.890625 \nQ 22.75 39.890625 18.8125 39.015625 \nQ 14.890625 38.140625 10.796875 36.28125 \nz\n\" id=\"DejaVuSans-35\"/>\n      </defs>\n      <g transform=\"translate(229.44202 558.316562)scale(0.1 -0.1)\">\n       <use xlink:href=\"#DejaVuSans-35\"/>\n      </g>\n     </g>\n    </g>\n    <g id=\"xtick_18\">\n     <g id=\"line2d_30\">\n      <g>\n       <use style=\"stroke:#000000;stroke-width:0.8;\" x=\"275.73484\" xlink:href=\"#m462e0d7c30\" y=\"543.718125\"/>\n      </g>\n     </g>\n     <g id=\"text_15\">\n      <!-- 6 -->\n      <g transform=\"translate(272.55359 558.316562)scale(0.1 -0.1)\">\n       <use xlink:href=\"#DejaVuSans-36\"/>\n      </g>\n     </g>\n    </g>\n    <g id=\"xtick_19\">\n     <g id=\"line2d_31\">\n      <g>\n       <use style=\"stroke:#000000;stroke-width:0.8;\" x=\"318.84641\" xlink:href=\"#m462e0d7c30\" y=\"543.718125\"/>\n      </g>\n     </g>\n     <g id=\"text_16\">\n      <!-- 7 -->\n      <g transform=\"translate(315.66516 558.316562)scale(0.1 -0.1)\">\n       <use xlink:href=\"#DejaVuSans-37\"/>\n      </g>\n     </g>\n    </g>\n    <g id=\"xtick_20\">\n     <g id=\"line2d_32\">\n      <g>\n       <use style=\"stroke:#000000;stroke-width:0.8;\" x=\"361.95798\" xlink:href=\"#m462e0d7c30\" y=\"543.718125\"/>\n      </g>\n     </g>\n     <g id=\"text_17\">\n      <!-- 8 -->\n      <g transform=\"translate(358.77673 558.316562)scale(0.1 -0.1)\">\n       <use xlink:href=\"#DejaVuSans-38\"/>\n      </g>\n     </g>\n    </g>\n    <g id=\"xtick_21\">\n     <g id=\"line2d_33\">\n      <g>\n       <use style=\"stroke:#000000;stroke-width:0.8;\" x=\"405.069551\" xlink:href=\"#m462e0d7c30\" y=\"543.718125\"/>\n      </g>\n     </g>\n     <g id=\"text_18\">\n      <!-- 9 -->\n      <defs>\n       <path d=\"M 10.984375 1.515625 \nL 10.984375 10.5 \nQ 14.703125 8.734375 18.5 7.8125 \nQ 22.3125 6.890625 25.984375 6.890625 \nQ 35.75 6.890625 40.890625 13.453125 \nQ 46.046875 20.015625 46.78125 33.40625 \nQ 43.953125 29.203125 39.59375 26.953125 \nQ 35.25 24.703125 29.984375 24.703125 \nQ 19.046875 24.703125 12.671875 31.3125 \nQ 6.296875 37.9375 6.296875 49.421875 \nQ 6.296875 60.640625 12.9375 67.421875 \nQ 19.578125 74.21875 30.609375 74.21875 \nQ 43.265625 74.21875 49.921875 64.515625 \nQ 56.59375 54.828125 56.59375 36.375 \nQ 56.59375 19.140625 48.40625 8.859375 \nQ 40.234375 -1.421875 26.421875 -1.421875 \nQ 22.703125 -1.421875 18.890625 -0.6875 \nQ 15.09375 0.046875 10.984375 1.515625 \nz\nM 30.609375 32.421875 \nQ 37.25 32.421875 41.125 36.953125 \nQ 45.015625 41.5 45.015625 49.421875 \nQ 45.015625 57.28125 41.125 61.84375 \nQ 37.25 66.40625 30.609375 66.40625 \nQ 23.96875 66.40625 20.09375 61.84375 \nQ 16.21875 57.28125 16.21875 49.421875 \nQ 16.21875 41.5 20.09375 36.953125 \nQ 23.96875 32.421875 30.609375 32.421875 \nz\n\" id=\"DejaVuSans-39\"/>\n      </defs>\n      <g transform=\"translate(401.888301 558.316562)scale(0.1 -0.1)\">\n       <use xlink:href=\"#DejaVuSans-39\"/>\n      </g>\n     </g>\n    </g>\n    <g id=\"xtick_22\">\n     <g id=\"line2d_34\">\n      <g>\n       <use style=\"stroke:#000000;stroke-width:0.8;\" x=\"448.181121\" xlink:href=\"#m462e0d7c30\" y=\"543.718125\"/>\n      </g>\n     </g>\n     <g id=\"text_19\">\n      <!-- 10 -->\n      <g transform=\"translate(441.818621 558.316562)scale(0.1 -0.1)\">\n       <use xlink:href=\"#DejaVuSans-31\"/>\n       <use x=\"63.623047\" xlink:href=\"#DejaVuSans-30\"/>\n      </g>\n     </g>\n    </g>\n    <g id=\"xtick_23\">\n     <g id=\"line2d_35\">\n      <g>\n       <use style=\"stroke:#000000;stroke-width:0.8;\" x=\"491.292691\" xlink:href=\"#m462e0d7c30\" y=\"543.718125\"/>\n      </g>\n     </g>\n     <g id=\"text_20\">\n      <!-- 11 -->\n      <g transform=\"translate(484.930191 558.316562)scale(0.1 -0.1)\">\n       <use xlink:href=\"#DejaVuSans-31\"/>\n       <use x=\"63.623047\" xlink:href=\"#DejaVuSans-31\"/>\n      </g>\n     </g>\n    </g>\n    <g id=\"xtick_24\">\n     <g id=\"line2d_36\">\n      <g>\n       <use style=\"stroke:#000000;stroke-width:0.8;\" x=\"534.404261\" xlink:href=\"#m462e0d7c30\" y=\"543.718125\"/>\n      </g>\n     </g>\n     <g id=\"text_21\">\n      <!-- 12 -->\n      <g transform=\"translate(528.041761 558.316562)scale(0.1 -0.1)\">\n       <use xlink:href=\"#DejaVuSans-31\"/>\n       <use x=\"63.623047\" xlink:href=\"#DejaVuSans-32\"/>\n      </g>\n     </g>\n    </g>\n   </g>\n   <g id=\"matplotlib.axis_4\">\n    <g id=\"ytick_7\">\n     <g id=\"line2d_37\">\n      <g>\n       <use style=\"stroke:#000000;stroke-width:0.8;\" x=\"36.465625\" xlink:href=\"#m8d714920f8\" y=\"520.898182\"/>\n      </g>\n     </g>\n     <g id=\"text_22\">\n      <!-- 0.45 -->\n      <g transform=\"translate(7.2 524.697401)scale(0.1 -0.1)\">\n       <use xlink:href=\"#DejaVuSans-30\"/>\n       <use x=\"63.623047\" xlink:href=\"#DejaVuSans-2e\"/>\n       <use x=\"95.410156\" xlink:href=\"#DejaVuSans-34\"/>\n       <use x=\"159.033203\" xlink:href=\"#DejaVuSans-35\"/>\n      </g>\n     </g>\n    </g>\n    <g id=\"ytick_8\">\n     <g id=\"line2d_38\">\n      <g>\n       <use style=\"stroke:#000000;stroke-width:0.8;\" x=\"36.465625\" xlink:href=\"#m8d714920f8\" y=\"493.550876\"/>\n      </g>\n     </g>\n     <g id=\"text_23\">\n      <!-- 0.50 -->\n      <g transform=\"translate(7.2 497.350095)scale(0.1 -0.1)\">\n       <use xlink:href=\"#DejaVuSans-30\"/>\n       <use x=\"63.623047\" xlink:href=\"#DejaVuSans-2e\"/>\n       <use x=\"95.410156\" xlink:href=\"#DejaVuSans-35\"/>\n       <use x=\"159.033203\" xlink:href=\"#DejaVuSans-30\"/>\n      </g>\n     </g>\n    </g>\n    <g id=\"ytick_9\">\n     <g id=\"line2d_39\">\n      <g>\n       <use style=\"stroke:#000000;stroke-width:0.8;\" x=\"36.465625\" xlink:href=\"#m8d714920f8\" y=\"466.20357\"/>\n      </g>\n     </g>\n     <g id=\"text_24\">\n      <!-- 0.55 -->\n      <g transform=\"translate(7.2 470.002788)scale(0.1 -0.1)\">\n       <use xlink:href=\"#DejaVuSans-30\"/>\n       <use x=\"63.623047\" xlink:href=\"#DejaVuSans-2e\"/>\n       <use x=\"95.410156\" xlink:href=\"#DejaVuSans-35\"/>\n       <use x=\"159.033203\" xlink:href=\"#DejaVuSans-35\"/>\n      </g>\n     </g>\n    </g>\n    <g id=\"ytick_10\">\n     <g id=\"line2d_40\">\n      <g>\n       <use style=\"stroke:#000000;stroke-width:0.8;\" x=\"36.465625\" xlink:href=\"#m8d714920f8\" y=\"438.856264\"/>\n      </g>\n     </g>\n     <g id=\"text_25\">\n      <!-- 0.60 -->\n      <g transform=\"translate(7.2 442.655482)scale(0.1 -0.1)\">\n       <use xlink:href=\"#DejaVuSans-30\"/>\n       <use x=\"63.623047\" xlink:href=\"#DejaVuSans-2e\"/>\n       <use x=\"95.410156\" xlink:href=\"#DejaVuSans-36\"/>\n       <use x=\"159.033203\" xlink:href=\"#DejaVuSans-30\"/>\n      </g>\n     </g>\n    </g>\n    <g id=\"ytick_11\">\n     <g id=\"line2d_41\">\n      <g>\n       <use style=\"stroke:#000000;stroke-width:0.8;\" x=\"36.465625\" xlink:href=\"#m8d714920f8\" y=\"411.508957\"/>\n      </g>\n     </g>\n     <g id=\"text_26\">\n      <!-- 0.65 -->\n      <g transform=\"translate(7.2 415.308176)scale(0.1 -0.1)\">\n       <use xlink:href=\"#DejaVuSans-30\"/>\n       <use x=\"63.623047\" xlink:href=\"#DejaVuSans-2e\"/>\n       <use x=\"95.410156\" xlink:href=\"#DejaVuSans-36\"/>\n       <use x=\"159.033203\" xlink:href=\"#DejaVuSans-35\"/>\n      </g>\n     </g>\n    </g>\n    <g id=\"ytick_12\">\n     <g id=\"line2d_42\">\n      <g>\n       <use style=\"stroke:#000000;stroke-width:0.8;\" x=\"36.465625\" xlink:href=\"#m8d714920f8\" y=\"384.161651\"/>\n      </g>\n     </g>\n     <g id=\"text_27\">\n      <!-- 0.70 -->\n      <g transform=\"translate(7.2 387.96087)scale(0.1 -0.1)\">\n       <use xlink:href=\"#DejaVuSans-30\"/>\n       <use x=\"63.623047\" xlink:href=\"#DejaVuSans-2e\"/>\n       <use x=\"95.410156\" xlink:href=\"#DejaVuSans-37\"/>\n       <use x=\"159.033203\" xlink:href=\"#DejaVuSans-30\"/>\n      </g>\n     </g>\n    </g>\n    <g id=\"ytick_13\">\n     <g id=\"line2d_43\">\n      <g>\n       <use style=\"stroke:#000000;stroke-width:0.8;\" x=\"36.465625\" xlink:href=\"#m8d714920f8\" y=\"356.814345\"/>\n      </g>\n     </g>\n     <g id=\"text_28\">\n      <!-- 0.75 -->\n      <g transform=\"translate(7.2 360.613564)scale(0.1 -0.1)\">\n       <use xlink:href=\"#DejaVuSans-30\"/>\n       <use x=\"63.623047\" xlink:href=\"#DejaVuSans-2e\"/>\n       <use x=\"95.410156\" xlink:href=\"#DejaVuSans-37\"/>\n       <use x=\"159.033203\" xlink:href=\"#DejaVuSans-35\"/>\n      </g>\n     </g>\n    </g>\n    <g id=\"ytick_14\">\n     <g id=\"line2d_44\">\n      <g>\n       <use style=\"stroke:#000000;stroke-width:0.8;\" x=\"36.465625\" xlink:href=\"#m8d714920f8\" y=\"329.467039\"/>\n      </g>\n     </g>\n     <g id=\"text_29\">\n      <!-- 0.80 -->\n      <g transform=\"translate(7.2 333.266258)scale(0.1 -0.1)\">\n       <use xlink:href=\"#DejaVuSans-30\"/>\n       <use x=\"63.623047\" xlink:href=\"#DejaVuSans-2e\"/>\n       <use x=\"95.410156\" xlink:href=\"#DejaVuSans-38\"/>\n       <use x=\"159.033203\" xlink:href=\"#DejaVuSans-30\"/>\n      </g>\n     </g>\n    </g>\n    <g id=\"ytick_15\">\n     <g id=\"line2d_45\">\n      <g>\n       <use style=\"stroke:#000000;stroke-width:0.8;\" x=\"36.465625\" xlink:href=\"#m8d714920f8\" y=\"302.119733\"/>\n      </g>\n     </g>\n     <g id=\"text_30\">\n      <!-- 0.85 -->\n      <g transform=\"translate(7.2 305.918952)scale(0.1 -0.1)\">\n       <use xlink:href=\"#DejaVuSans-30\"/>\n       <use x=\"63.623047\" xlink:href=\"#DejaVuSans-2e\"/>\n       <use x=\"95.410156\" xlink:href=\"#DejaVuSans-38\"/>\n       <use x=\"159.033203\" xlink:href=\"#DejaVuSans-35\"/>\n      </g>\n     </g>\n    </g>\n   </g>\n   <g id=\"line2d_46\">\n    <defs>\n     <path d=\"M 0 3 \nC 0.795609 3 1.55874 2.683901 2.12132 2.12132 \nC 2.683901 1.55874 3 0.795609 3 0 \nC 3 -0.795609 2.683901 -1.55874 2.12132 -2.12132 \nC 1.55874 -2.683901 0.795609 -3 0 -3 \nC -0.795609 -3 -1.55874 -2.683901 -2.12132 -2.12132 \nC -2.683901 -1.55874 -3 -0.795609 -3 0 \nC -3 0.795609 -2.683901 1.55874 -2.12132 2.12132 \nC -1.55874 2.683901 -0.795609 3 0 3 \nz\n\" id=\"m4620172dbf\" style=\"stroke:#ff0000;\"/>\n    </defs>\n    <g clip-path=\"url(#pae46e3ae95)\">\n     <use style=\"fill:#ff0000;stroke:#ff0000;\" x=\"60.176989\" xlink:href=\"#m4620172dbf\" y=\"309.329489\"/>\n     <use style=\"fill:#ff0000;stroke:#ff0000;\" x=\"103.288559\" xlink:href=\"#m4620172dbf\" y=\"356.025002\"/>\n     <use style=\"fill:#ff0000;stroke:#ff0000;\" x=\"146.400129\" xlink:href=\"#m4620172dbf\" y=\"391.876787\"/>\n     <use style=\"fill:#ff0000;stroke:#ff0000;\" x=\"189.511699\" xlink:href=\"#m4620172dbf\" y=\"411.245678\"/>\n     <use style=\"fill:#ff0000;stroke:#ff0000;\" x=\"232.62327\" xlink:href=\"#m4620172dbf\" y=\"432.390279\"/>\n     <use style=\"fill:#ff0000;stroke:#ff0000;\" x=\"275.73484\" xlink:href=\"#m4620172dbf\" y=\"452.957794\"/>\n     <use style=\"fill:#ff0000;stroke:#ff0000;\" x=\"318.84641\" xlink:href=\"#m4620172dbf\" y=\"474.083643\"/>\n     <use style=\"fill:#ff0000;stroke:#ff0000;\" x=\"361.95798\" xlink:href=\"#m4620172dbf\" y=\"486.647824\"/>\n     <use style=\"fill:#ff0000;stroke:#ff0000;\" x=\"405.069551\" xlink:href=\"#m4620172dbf\" y=\"495.182588\"/>\n     <use style=\"fill:#ff0000;stroke:#ff0000;\" x=\"448.181121\" xlink:href=\"#m4620172dbf\" y=\"511.273597\"/>\n     <use style=\"fill:#ff0000;stroke:#ff0000;\" x=\"491.292691\" xlink:href=\"#m4620172dbf\" y=\"525.661944\"/>\n     <use style=\"fill:#ff0000;stroke:#ff0000;\" x=\"534.404261\" xlink:href=\"#m4620172dbf\" y=\"532.556761\"/>\n    </g>\n   </g>\n   <g id=\"line2d_47\">\n    <path clip-path=\"url(#pae46e3ae95)\" d=\"M 60.176989 492.34997 \nL 103.288559 500.823469 \nL 146.400129 505.480399 \nL 189.511699 508.245272 \nL 232.62327 511.33691 \nL 275.73484 513.119702 \nL 318.84641 514.867301 \nL 361.95798 516.177484 \nL 405.069551 517.201091 \nL 448.181121 518.267447 \nL 491.292691 517.255791 \nL 534.404261 518.00213 \n\" style=\"fill:none;stroke:#ff0000;stroke-linecap:square;stroke-width:1.5;\"/>\n   </g>\n   <g id=\"patch_9\">\n    <path d=\"M 36.465625 543.718125 \nL 36.465625 298.168125 \n\" style=\"fill:none;stroke:#000000;stroke-linecap:square;stroke-linejoin:miter;stroke-width:0.8;\"/>\n   </g>\n   <g id=\"patch_10\">\n    <path d=\"M 558.115625 543.718125 \nL 558.115625 298.168125 \n\" style=\"fill:none;stroke:#000000;stroke-linecap:square;stroke-linejoin:miter;stroke-width:0.8;\"/>\n   </g>\n   <g id=\"patch_11\">\n    <path d=\"M 36.465625 543.718125 \nL 558.115625 543.718125 \n\" style=\"fill:none;stroke:#000000;stroke-linecap:square;stroke-linejoin:miter;stroke-width:0.8;\"/>\n   </g>\n   <g id=\"patch_12\">\n    <path d=\"M 36.465625 298.168125 \nL 558.115625 298.168125 \n\" style=\"fill:none;stroke:#000000;stroke-linecap:square;stroke-linejoin:miter;stroke-width:0.8;\"/>\n   </g>\n   <g id=\"text_31\">\n    <!-- Training and Validation loss -->\n    <defs>\n     <path d=\"M 44.28125 53.078125 \nL 44.28125 44.578125 \nQ 40.484375 46.53125 36.375 47.5 \nQ 32.28125 48.484375 27.875 48.484375 \nQ 21.1875 48.484375 17.84375 46.4375 \nQ 14.5 44.390625 14.5 40.28125 \nQ 14.5 37.15625 16.890625 35.375 \nQ 19.28125 33.59375 26.515625 31.984375 \nL 29.59375 31.296875 \nQ 39.15625 29.25 43.1875 25.515625 \nQ 47.21875 21.78125 47.21875 15.09375 \nQ 47.21875 7.46875 41.1875 3.015625 \nQ 35.15625 -1.421875 24.609375 -1.421875 \nQ 20.21875 -1.421875 15.453125 -0.5625 \nQ 10.6875 0.296875 5.421875 2 \nL 5.421875 11.28125 \nQ 10.40625 8.6875 15.234375 7.390625 \nQ 20.0625 6.109375 24.8125 6.109375 \nQ 31.15625 6.109375 34.5625 8.28125 \nQ 37.984375 10.453125 37.984375 14.40625 \nQ 37.984375 18.0625 35.515625 20.015625 \nQ 33.0625 21.96875 24.703125 23.78125 \nL 21.578125 24.515625 \nQ 13.234375 26.265625 9.515625 29.90625 \nQ 5.8125 33.546875 5.8125 39.890625 \nQ 5.8125 47.609375 11.28125 51.796875 \nQ 16.75 56 26.8125 56 \nQ 31.78125 56 36.171875 55.265625 \nQ 40.578125 54.546875 44.28125 53.078125 \nz\n\" id=\"DejaVuSans-73\"/>\n    </defs>\n    <g transform=\"translate(214.062187 292.168125)scale(0.12 -0.12)\">\n     <use xlink:href=\"#DejaVuSans-54\"/>\n     <use x=\"60.865234\" xlink:href=\"#DejaVuSans-72\"/>\n     <use x=\"101.978516\" xlink:href=\"#DejaVuSans-61\"/>\n     <use x=\"163.257812\" xlink:href=\"#DejaVuSans-69\"/>\n     <use x=\"191.041016\" xlink:href=\"#DejaVuSans-6e\"/>\n     <use x=\"254.419922\" xlink:href=\"#DejaVuSans-69\"/>\n     <use x=\"282.203125\" xlink:href=\"#DejaVuSans-6e\"/>\n     <use x=\"345.582031\" xlink:href=\"#DejaVuSans-67\"/>\n     <use x=\"409.058594\" xlink:href=\"#DejaVuSans-20\"/>\n     <use x=\"440.845703\" xlink:href=\"#DejaVuSans-61\"/>\n     <use x=\"502.125\" xlink:href=\"#DejaVuSans-6e\"/>\n     <use x=\"565.503906\" xlink:href=\"#DejaVuSans-64\"/>\n     <use x=\"628.980469\" xlink:href=\"#DejaVuSans-20\"/>\n     <use x=\"660.767578\" xlink:href=\"#DejaVuSans-56\"/>\n     <use x=\"729.066406\" xlink:href=\"#DejaVuSans-61\"/>\n     <use x=\"790.345703\" xlink:href=\"#DejaVuSans-6c\"/>\n     <use x=\"818.128906\" xlink:href=\"#DejaVuSans-69\"/>\n     <use x=\"845.912109\" xlink:href=\"#DejaVuSans-64\"/>\n     <use x=\"909.388672\" xlink:href=\"#DejaVuSans-61\"/>\n     <use x=\"970.667969\" xlink:href=\"#DejaVuSans-74\"/>\n     <use x=\"1009.876953\" xlink:href=\"#DejaVuSans-69\"/>\n     <use x=\"1037.660156\" xlink:href=\"#DejaVuSans-6f\"/>\n     <use x=\"1098.841797\" xlink:href=\"#DejaVuSans-6e\"/>\n     <use x=\"1162.220703\" xlink:href=\"#DejaVuSans-20\"/>\n     <use x=\"1194.007812\" xlink:href=\"#DejaVuSans-6c\"/>\n     <use x=\"1221.791016\" xlink:href=\"#DejaVuSans-6f\"/>\n     <use x=\"1282.972656\" xlink:href=\"#DejaVuSans-73\"/>\n     <use x=\"1335.072266\" xlink:href=\"#DejaVuSans-73\"/>\n    </g>\n   </g>\n   <g id=\"legend_2\">\n    <g id=\"patch_13\">\n     <path d=\"M 446.476562 335.524375 \nL 551.115625 335.524375 \nQ 553.115625 335.524375 553.115625 333.524375 \nL 553.115625 305.168125 \nQ 553.115625 303.168125 551.115625 303.168125 \nL 446.476562 303.168125 \nQ 444.476562 303.168125 444.476562 305.168125 \nL 444.476562 333.524375 \nQ 444.476562 335.524375 446.476562 335.524375 \nz\n\" style=\"fill:#ffffff;opacity:0.8;stroke:#cccccc;stroke-linejoin:miter;\"/>\n    </g>\n    <g id=\"line2d_48\"/>\n    <g id=\"line2d_49\">\n     <g>\n      <use style=\"fill:#ff0000;stroke:#ff0000;\" x=\"458.476562\" xlink:href=\"#m4620172dbf\" y=\"311.266562\"/>\n     </g>\n    </g>\n    <g id=\"text_32\">\n     <!-- Training loss -->\n     <g transform=\"translate(476.476562 314.766562)scale(0.1 -0.1)\">\n      <use xlink:href=\"#DejaVuSans-54\"/>\n      <use x=\"60.865234\" xlink:href=\"#DejaVuSans-72\"/>\n      <use x=\"101.978516\" xlink:href=\"#DejaVuSans-61\"/>\n      <use x=\"163.257812\" xlink:href=\"#DejaVuSans-69\"/>\n      <use x=\"191.041016\" xlink:href=\"#DejaVuSans-6e\"/>\n      <use x=\"254.419922\" xlink:href=\"#DejaVuSans-69\"/>\n      <use x=\"282.203125\" xlink:href=\"#DejaVuSans-6e\"/>\n      <use x=\"345.582031\" xlink:href=\"#DejaVuSans-67\"/>\n      <use x=\"409.058594\" xlink:href=\"#DejaVuSans-20\"/>\n      <use x=\"440.845703\" xlink:href=\"#DejaVuSans-6c\"/>\n      <use x=\"468.628906\" xlink:href=\"#DejaVuSans-6f\"/>\n      <use x=\"529.810547\" xlink:href=\"#DejaVuSans-73\"/>\n      <use x=\"581.910156\" xlink:href=\"#DejaVuSans-73\"/>\n     </g>\n    </g>\n    <g id=\"line2d_50\">\n     <path d=\"M 448.476562 325.944687 \nL 468.476562 325.944687 \n\" style=\"fill:none;stroke:#ff0000;stroke-linecap:square;stroke-width:1.5;\"/>\n    </g>\n    <g id=\"line2d_51\"/>\n    <g id=\"text_33\">\n     <!-- Validation loss -->\n     <g transform=\"translate(476.476562 329.444687)scale(0.1 -0.1)\">\n      <use xlink:href=\"#DejaVuSans-56\"/>\n      <use x=\"68.298828\" xlink:href=\"#DejaVuSans-61\"/>\n      <use x=\"129.578125\" xlink:href=\"#DejaVuSans-6c\"/>\n      <use x=\"157.361328\" xlink:href=\"#DejaVuSans-69\"/>\n      <use x=\"185.144531\" xlink:href=\"#DejaVuSans-64\"/>\n      <use x=\"248.621094\" xlink:href=\"#DejaVuSans-61\"/>\n      <use x=\"309.900391\" xlink:href=\"#DejaVuSans-74\"/>\n      <use x=\"349.109375\" xlink:href=\"#DejaVuSans-69\"/>\n      <use x=\"376.892578\" xlink:href=\"#DejaVuSans-6f\"/>\n      <use x=\"438.074219\" xlink:href=\"#DejaVuSans-6e\"/>\n      <use x=\"501.453125\" xlink:href=\"#DejaVuSans-20\"/>\n      <use x=\"533.240234\" xlink:href=\"#DejaVuSans-6c\"/>\n      <use x=\"561.023438\" xlink:href=\"#DejaVuSans-6f\"/>\n      <use x=\"622.205078\" xlink:href=\"#DejaVuSans-73\"/>\n      <use x=\"674.304688\" xlink:href=\"#DejaVuSans-73\"/>\n     </g>\n    </g>\n   </g>\n  </g>\n </g>\n <defs>\n  <clipPath id=\"p65a0a63ed9\">\n   <rect height=\"245.55\" width=\"521.65\" x=\"36.465625\" y=\"22.318125\"/>\n  </clipPath>\n  <clipPath id=\"pae46e3ae95\">\n   <rect height=\"245.55\" width=\"521.65\" x=\"36.465625\" y=\"298.168125\"/>\n  </clipPath>\n </defs>\n</svg>\n"
          },
          "metadata": {
            "tags": []
          }
        }
      ]
    },
    {
      "metadata": {
        "id": "TfBze9XcS_RW",
        "colab_type": "code",
        "outputId": "cb3d9ac6-11eb-4af5-edc3-b9924b34dde7",
        "colab": {
          "base_uri": "https://localhost:8080/",
          "height": 68
        }
      },
      "cell_type": "code",
      "source": [
        "mobilenet_model = models.load_model('mobilenetv2_tuned.h5')\n",
        "\n",
        "test_loss, test_acc =\\\n",
        "  mobilenet_model.evaluate_generator(test_generator, \n",
        "                                     steps=test_generator.n, \n",
        "                                     verbose=1)\n",
        "\n",
        "print('\\nTest accuracy: ', round(test_acc*100, 2))"
      ],
      "execution_count": 0,
      "outputs": [
        {
          "output_type": "stream",
          "text": [
            "4124/4124 [==============================] - 67s 16ms/step\n",
            "\n",
            "Test accuracy:  84.63\n"
          ],
          "name": "stdout"
        }
      ]
    },
    {
      "metadata": {
        "id": "mArnvrkqTB2v",
        "colab_type": "code",
        "outputId": "1b93a7ba-630a-4091-b1be-2948c1877bf7",
        "colab": {
          "base_uri": "https://localhost:8080/",
          "height": 65
        }
      },
      "cell_type": "code",
      "source": [
        "!du --block-size=M mobilenetv2_tuned.h5\n",
        "!cp mobilenetv2_tuned.h5 drive/My\\ Drive/Projets\\ Formation/Projet\\ 7/models"
      ],
      "execution_count": 0,
      "outputs": [
        {
          "output_type": "stream",
          "text": [
            "33M\tmobilenetv2_tuned.h5\n"
          ],
          "name": "stdout"
        }
      ]
    },
    {
      "metadata": {
        "id": "cdxdn7Ls6V62",
        "colab_type": "text"
      },
      "cell_type": "markdown",
      "source": [
        "## Conclusion\n",
        "\n",
        "- Matrices de confusion\n",
        "- Tableau comparer taux de généralisation + taille pour chaque modèle"
      ]
    },
    {
      "metadata": {
        "id": "kEOWy8OvIaA_",
        "colab_type": "text"
      },
      "cell_type": "markdown",
      "source": [
        "Tout charger"
      ]
    },
    {
      "metadata": {
        "id": "X5i6jfq1LhbD",
        "colab_type": "code",
        "colab": {}
      },
      "cell_type": "code",
      "source": [
        "from keras.preprocessing.image import ImageDataGenerator"
      ],
      "execution_count": 0,
      "outputs": []
    },
    {
      "metadata": {
        "id": "HUEK8KCnPWUS",
        "colab_type": "code",
        "colab": {}
      },
      "cell_type": "code",
      "source": [
        "from sklearn.metrics import classification_report, confusion_matrix"
      ],
      "execution_count": 0,
      "outputs": []
    },
    {
      "metadata": {
        "id": "x1SdXZ_OT3CW",
        "colab_type": "code",
        "colab": {}
      },
      "cell_type": "code",
      "source": [
        "!cp drive/My\\ Drive/Projets\\ Formation/Projet\\ 7/plot_confusion_matrix.py .\n",
        "from plot_confusion_matrix import plot_confusion_matrix"
      ],
      "execution_count": 0,
      "outputs": []
    },
    {
      "metadata": {
        "id": "qwBkZ7wE6W3K",
        "colab_type": "code",
        "colab": {}
      },
      "cell_type": "code",
      "source": [
        "# Test generators\n",
        "_, _, vgg_generator =\\\n",
        "  create_generators(\n",
        "    base_dir = 'data', batch_size = 1, side_length = 224,\n",
        "    preprocess_input = vgg16_preprocess_input\n",
        ")\n",
        "\n",
        "_, _, inception_generator =\\\n",
        "  create_generators(\n",
        "    base_dir = 'data', batch_size = 1, side_length = 299,\n",
        "    preprocess_input = tf.keras.applications.inception_v3.preprocess_input\n",
        ")\n",
        "\n",
        "_, _, mobilenet_generator =\\\n",
        "  create_generators(\n",
        "    base_dir = 'data', batch_size = 1, side_length = 224,\n",
        "    preprocess_input = tf.keras.applications.mobilenet_v2.preprocess_input\n",
        ")\n",
        "\n",
        "raw_generator = ImageDataGenerator().flow_from_directory(\n",
        "    directory=os.path.join('data', 'test'), \n",
        "    class_mode='categorical', \n",
        "    batch_size=1, \n",
        "    shuffle=False)\n",
        "\n",
        "# Best models for each architecture\n",
        "!cp drive/My\\ Drive/Projets\\ Formation/Projet\\ 7/models/vgg16_regularized.h5 .\n",
        "!cp drive/My\\ Drive/Projets\\ Formation/Projet\\ 7/models/inceptionv3_regularized.h5 .\n",
        "!cp drive/My\\ Drive/Projets\\ Formation/Projet\\ 7/models/mobilenetv2_tuned.h5 .\n",
        "\n",
        "vgg_model = models.load_model('vgg16_regularized.h5')\n",
        "inception_model = models.load_model('inceptionv3_regularized.h5')\n",
        "mobilenet_model = models.load_model('mobilenetv2_tuned.h5')"
      ],
      "execution_count": 0,
      "outputs": []
    },
    {
      "metadata": {
        "id": "dYV--SkcPGwA",
        "colab_type": "text"
      },
      "cell_type": "markdown",
      "source": [
        "- Vrais labels et noms de classes"
      ]
    },
    {
      "metadata": {
        "id": "xTF4ju-UK-2w",
        "colab_type": "code",
        "colab": {}
      },
      "cell_type": "code",
      "source": [
        "true_labels = raw_generator.classes\n",
        "class_names = (list(raw_generator.class_indices.keys()))"
      ],
      "execution_count": 0,
      "outputs": []
    },
    {
      "metadata": {
        "id": "ZkUayq-JRbc6",
        "colab_type": "text"
      },
      "cell_type": "markdown",
      "source": [
        "- Prédictions par modèle\n",
        "- Classification report"
      ]
    },
    {
      "metadata": {
        "id": "Jx3gj6ijIOXm",
        "colab_type": "code",
        "outputId": "332c84c6-ce2b-48b9-e49a-a03b43f2dd33",
        "colab": {
          "base_uri": "https://localhost:8080/",
          "height": 34
        }
      },
      "cell_type": "code",
      "source": [
        "vgg_probas = vgg_model.predict_generator(vgg_generator, \n",
        "                                         steps=vgg_generator.n, \n",
        "                                         workers=4, verbose=1)\n",
        "vgg_predictions = np.argmax(vgg_probas, axis=1)"
      ],
      "execution_count": 0,
      "outputs": [
        {
          "output_type": "stream",
          "text": [
            "4124/4124 [==============================] - 127s 31ms/step\n"
          ],
          "name": "stdout"
        }
      ]
    },
    {
      "metadata": {
        "id": "Z5sxUvztMeFq",
        "colab_type": "code",
        "colab": {}
      },
      "cell_type": "code",
      "source": [
        "print(classification_report(true_labels, vgg_predictions, \n",
        "                            target_names=class_names))"
      ],
      "execution_count": 0,
      "outputs": []
    },
    {
      "metadata": {
        "id": "mKt-Dh3KM-h7",
        "colab_type": "code",
        "outputId": "5bfaf2c8-cfd8-462a-b49a-5dfecdb270e5",
        "colab": {
          "base_uri": "https://localhost:8080/",
          "height": 34
        }
      },
      "cell_type": "code",
      "source": [
        "inception_probas = inception_model.predict_generator(inception_generator, \n",
        "                                                     steps=inception_generator.n, \n",
        "                                                     verbose=1)\n",
        "inception_predictions = np.argmax(inception_probas, axis=1)"
      ],
      "execution_count": 0,
      "outputs": [
        {
          "output_type": "stream",
          "text": [
            "4124/4124 [==============================] - 164s 40ms/step\n"
          ],
          "name": "stdout"
        }
      ]
    },
    {
      "metadata": {
        "id": "iTidfS84SLhr",
        "colab_type": "code",
        "outputId": "ea06969a-8dc3-4c89-b0c3-665d12703b9f",
        "colab": {
          "base_uri": "https://localhost:8080/",
          "height": 2176
        }
      },
      "cell_type": "code",
      "source": [
        "print(classification_report(true_labels, inception_predictions, \n",
        "                            target_names=class_names))"
      ],
      "execution_count": 0,
      "outputs": [
        {
          "output_type": "stream",
          "text": [
            "                                precision    recall  f1-score   support\n",
            "\n",
            "                 Affenpinscher       1.00      0.97      0.98        30\n",
            "                  Afghan_Hound       0.98      1.00      0.99        48\n",
            "           African_Hunting_Dog       1.00      0.94      0.97        34\n",
            "                      Airedale       0.93      0.98      0.95        41\n",
            "American_Staffordshire_Terrier       0.71      0.91      0.80        33\n",
            "                   Appenzeller       0.87      0.67      0.75        30\n",
            "            Australian_Terrier       0.78      0.92      0.85        39\n",
            "                       Basenji       1.00      0.90      0.95        42\n",
            "                        Basset       0.97      0.89      0.93        35\n",
            "                        Beagle       0.82      0.92      0.87        39\n",
            "            Bedlington_Terrier       0.95      1.00      0.97        37\n",
            "          Bernese_Mountain_Dog       0.81      1.00      0.90        43\n",
            "       Black-And-Tan_Coonhound       0.90      0.88      0.89        32\n",
            "              Blenheim_Spaniel       1.00      0.92      0.96        37\n",
            "                    Bloodhound       0.90      0.97      0.94        38\n",
            "                      Bluetick       0.89      0.97      0.93        34\n",
            "                 Border_Collie       0.76      0.93      0.84        30\n",
            "                Border_Terrier       0.85      1.00      0.92        35\n",
            "                        Borzoi       1.00      0.93      0.97        30\n",
            "                   Boston_Bull       1.00      0.95      0.97        37\n",
            "          Bouvier_Des_Flandres       0.93      0.93      0.93        30\n",
            "                         Boxer       1.00      0.80      0.89        30\n",
            "             Brabancon_Griffon       0.91      1.00      0.95        30\n",
            "                        Briard       0.93      0.84      0.88        31\n",
            "              Brittany_Spaniel       0.84      0.84      0.84        31\n",
            "                  Bull_Mastiff       0.94      0.97      0.95        31\n",
            "                         Cairn       0.88      0.95      0.92        40\n",
            "                      Cardigan       0.83      0.94      0.88        31\n",
            "      Chesapeake_Bay_Retriever       0.94      0.97      0.96        34\n",
            "                     Chihuahua       0.85      0.90      0.88        31\n",
            "                          Chow       1.00      1.00      1.00        39\n",
            "                       Clumber       0.97      0.97      0.97        30\n",
            "                Cocker_Spaniel       0.80      1.00      0.89        32\n",
            "                        Collie       0.72      0.60      0.65        30\n",
            "        Curly-Coated_Retriever       1.00      0.90      0.95        30\n",
            "                Dandie_Dinmont       0.92      0.94      0.93        36\n",
            "                         Dhole       1.00      0.90      0.95        30\n",
            "                         Dingo       0.93      0.87      0.90        31\n",
            "                      Doberman       1.00      0.80      0.89        30\n",
            "              English_Foxhound       0.83      0.75      0.79        32\n",
            "                English_Setter       0.94      0.91      0.92        32\n",
            "              English_Springer       0.89      0.97      0.93        32\n",
            "                   Entlebucher       0.95      0.85      0.90        41\n",
            "                    Eskimo_Dog       0.60      0.30      0.40        30\n",
            "         Flat-Coated_Retriever       0.88      0.94      0.91        31\n",
            "                French_Bulldog       0.94      1.00      0.97        32\n",
            "               German_Shepherd       0.88      0.97      0.92        31\n",
            "   German_Short-Haired_Pointer       1.00      0.94      0.97        31\n",
            "               Giant_Schnauzer       0.93      0.84      0.89        32\n",
            "              Golden_Retriever       0.96      0.83      0.89        30\n",
            "                 Gordon_Setter       0.91      1.00      0.95        30\n",
            "                    Great_Dane       0.83      0.94      0.88        31\n",
            "                Great_Pyrenees       0.84      0.90      0.87        42\n",
            "    Greater_Swiss_Mountain_Dog       0.88      0.88      0.88        33\n",
            "                   Groenendael       0.97      0.93      0.95        30\n",
            "                  Ibizan_Hound       0.92      0.97      0.95        37\n",
            "                  Irish_Setter       0.94      0.97      0.95        31\n",
            "                 Irish_Terrier       0.91      0.88      0.90        34\n",
            "           Irish_Water_Spaniel       1.00      0.93      0.97        30\n",
            "               Irish_Wolfhound       0.95      0.93      0.94        43\n",
            "             Italian_Greyhound       0.97      0.92      0.94        37\n",
            "              Japanese_Spaniel       1.00      1.00      1.00        37\n",
            "                      Keeshond       1.00      1.00      1.00        31\n",
            "                        Kelpie       0.84      0.90      0.87        30\n",
            "            Kerry_Blue_Terrier       0.97      0.97      0.97        36\n",
            "                      Komondor       1.00      0.94      0.97        31\n",
            "                        Kuvasz       0.96      0.83      0.89        30\n",
            "            Labrador_Retriever       0.76      0.91      0.83        34\n",
            "              Lakeland_Terrier       0.90      0.88      0.89        40\n",
            "                      Leonberg       1.00      0.98      0.99        42\n",
            "                         Lhasa       0.84      0.84      0.84        37\n",
            "                      Malamute       0.80      0.80      0.80        35\n",
            "                      Malinois       0.88      0.97      0.92        30\n",
            "                   Maltese_Dog       0.96      0.94      0.95        51\n",
            "              Mexican_Hairless       1.00      0.94      0.97        31\n",
            "            Miniature_Pinscher       0.93      1.00      0.96        37\n",
            "              Miniature_Poodle       0.77      0.77      0.77        31\n",
            "           Miniature_Schnauzer       0.79      0.97      0.87        31\n",
            "                  Newfoundland       0.90      0.92      0.91        39\n",
            "               Norfolk_Terrier       0.94      0.91      0.93        35\n",
            "            Norwegian_Elkhound       1.00      0.87      0.93        39\n",
            "               Norwich_Terrier       0.89      0.86      0.88        37\n",
            "          Old_English_Sheepdog       0.97      0.91      0.94        34\n",
            "                    Otterhound       0.93      0.93      0.93        30\n",
            "                      Papillon       0.97      1.00      0.99        39\n",
            "                      Pekinese       0.97      0.93      0.95        30\n",
            "                      Pembroke       0.89      0.92      0.90        36\n",
            "                    Pomeranian       0.97      0.89      0.93        44\n",
            "                           Pug       1.00      0.93      0.96        40\n",
            "                       Redbone       0.90      0.90      0.90        29\n",
            "           Rhodesian_Ridgeback       0.93      0.74      0.83        35\n",
            "                    Rottweiler       1.00      0.94      0.97        31\n",
            "                 Saint_Bernard       0.94      1.00      0.97        34\n",
            "                        Saluki       0.91      0.97      0.94        40\n",
            "                       Samoyed       0.88      1.00      0.93        43\n",
            "                    Schipperke       0.97      0.94      0.95        31\n",
            "                Scotch_Terrier       0.93      0.84      0.88        31\n",
            "            Scottish_Deerhound       0.94      0.96      0.95        47\n",
            "              Sealyham_Terrier       1.00      1.00      1.00        41\n",
            "             Shetland_Sheepdog       0.91      0.91      0.91        32\n",
            "                      Shih-Tzu       0.93      0.91      0.92        43\n",
            "                Siberian_Husky       0.57      0.82      0.67        39\n",
            "                 Silky_Terrier       0.85      0.81      0.83        36\n",
            "   Soft-Coated_Wheaten_Terrier       0.97      0.90      0.93        31\n",
            "     Staffordshire_Bullterrier       0.86      0.77      0.81        31\n",
            "               Standard_Poodle       0.89      0.97      0.93        32\n",
            "            Standard_Schnauzer       0.82      0.87      0.84        31\n",
            "                Sussex_Spaniel       1.00      0.97      0.98        30\n",
            "               Tibetan_Mastiff       0.96      0.84      0.90        31\n",
            "               Tibetan_Terrier       0.81      0.95      0.88        41\n",
            "                    Toy_Poodle       0.81      0.73      0.77        30\n",
            "                   Toy_Terrier       0.88      0.86      0.87        35\n",
            "                        Vizsla       0.96      0.84      0.90        31\n",
            "                  Walker_Hound       0.74      0.67      0.70        30\n",
            "                    Weimaraner       0.97      0.97      0.97        32\n",
            "        Welsh_Springer_Spaniel       0.94      0.97      0.95        30\n",
            "   West_Highland_White_Terrier       0.94      1.00      0.97        34\n",
            "                       Whippet       0.94      0.79      0.86        38\n",
            "       Wire-Haired_Fox_Terrier       0.90      0.84      0.87        32\n",
            "             Yorkshire_Terrier       0.86      0.73      0.79        33\n",
            "\n",
            "                     micro avg       0.91      0.91      0.91      4124\n",
            "                     macro avg       0.91      0.90      0.90      4124\n",
            "                  weighted avg       0.91      0.91      0.91      4124\n",
            "\n"
          ],
          "name": "stdout"
        }
      ]
    }
  ]
}