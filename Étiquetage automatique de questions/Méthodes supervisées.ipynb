{
 "cells": [
  {
   "cell_type": "markdown",
   "metadata": {},
   "source": [
    "# Notebook: Approche Supervisée"
   ]
  },
  {
   "cell_type": "markdown",
   "metadata": {},
   "source": [
    "## Mise en place"
   ]
  },
  {
   "cell_type": "markdown",
   "metadata": {},
   "source": [
    "Librairies et paramétrages utilisés tout au long du notebook"
   ]
  },
  {
   "cell_type": "code",
   "execution_count": 1,
   "metadata": {},
   "outputs": [],
   "source": [
    "import re\n",
    "import time\n",
    "import pickle\n",
    "import numpy as np\n",
    "import pandas as pd\n",
    "from IPython.display import display, HTML\n",
    "\n",
    "import spacy\n",
    "from nltk.corpus import stopwords\n",
    "from gensim.corpora import Dictionary\n",
    "from gensim.matutils import corpus2csc\n",
    "from gensim.models import Phrases\n",
    "from gensim.models.phrases import Phraser\n",
    "from gensim.utils import simple_preprocess\n",
    "\n",
    "from sklearn.model_selection import train_test_split, GridSearchCV\n",
    "from sklearn.feature_extraction.text import TfidfTransformer\n",
    "from sklearn.preprocessing import MultiLabelBinarizer\n",
    "from sklearn.pipeline import Pipeline\n",
    "\n",
    "from sklearn.ensemble import RandomForestClassifier\n",
    "from sklearn.multiclass import OneVsRestClassifier\n",
    "from sklearn.naive_bayes import MultinomialNB\n",
    "from sklearn.svm import LinearSVC"
   ]
  },
  {
   "cell_type": "code",
   "execution_count": 2,
   "metadata": {},
   "outputs": [],
   "source": [
    "%matplotlib inline\n",
    "%config InlineBackend.figure_format = 'svg'"
   ]
  },
  {
   "cell_type": "markdown",
   "metadata": {},
   "source": [
    "Charger les fichiers téléchargés"
   ]
  },
  {
   "cell_type": "code",
   "execution_count": 3,
   "metadata": {},
   "outputs": [
    {
     "data": {
      "text/html": [
       "<div>\n",
       "<style>\n",
       "    .dataframe thead tr:only-child th {\n",
       "        text-align: right;\n",
       "    }\n",
       "\n",
       "    .dataframe thead th {\n",
       "        text-align: left;\n",
       "    }\n",
       "\n",
       "    .dataframe tbody tr th {\n",
       "        vertical-align: top;\n",
       "    }\n",
       "</style>\n",
       "<table border=\"1\" class=\"dataframe\">\n",
       "  <thead>\n",
       "    <tr style=\"text-align: right;\">\n",
       "      <th></th>\n",
       "      <th>Body</th>\n",
       "      <th>Title</th>\n",
       "      <th>Tags</th>\n",
       "    </tr>\n",
       "    <tr>\n",
       "      <th>Id</th>\n",
       "      <th></th>\n",
       "      <th></th>\n",
       "      <th></th>\n",
       "    </tr>\n",
       "  </thead>\n",
       "  <tbody>\n",
       "    <tr>\n",
       "      <th>1771099</th>\n",
       "      <td>&lt;p&gt;One of the features of my project is to all...</td>\n",
       "      <td>Choosing a Path for Python File Access</td>\n",
       "      <td>&lt;python&gt;&lt;path&gt;</td>\n",
       "    </tr>\n",
       "    <tr>\n",
       "      <th>1771101</th>\n",
       "      <td>&lt;p&gt;Is there any open source software to map po...</td>\n",
       "      <td>Open source motion-capture software</td>\n",
       "      <td>&lt;simulation&gt;&lt;tracking&gt;&lt;3d-modelling&gt;</td>\n",
       "    </tr>\n",
       "    <tr>\n",
       "      <th>1771102</th>\n",
       "      <td>&lt;p&gt;As the title says, how does one change the ...</td>\n",
       "      <td>Changing Emacs Forward-Word Behaviour</td>\n",
       "      <td>&lt;emacs&gt;&lt;emacs23&gt;</td>\n",
       "    </tr>\n",
       "    <tr>\n",
       "      <th>1771104</th>\n",
       "      <td>&lt;p&gt;When loading all unit tests in a package, t...</td>\n",
       "      <td>JUnit java.lang.OutOfMemoryError when running ...</td>\n",
       "      <td>&lt;java&gt;&lt;unit-testing&gt;&lt;junit&gt;&lt;out-of-memory&gt;</td>\n",
       "    </tr>\n",
       "    <tr>\n",
       "      <th>1771117</th>\n",
       "      <td>&lt;p&gt;For a specific example, consider &lt;code&gt;atoi...</td>\n",
       "      <td>Why doesn't C++ reimplement C standard functio...</td>\n",
       "      <td>&lt;c++&gt;&lt;c&gt;&lt;stl&gt;</td>\n",
       "    </tr>\n",
       "  </tbody>\n",
       "</table>\n",
       "</div>"
      ],
      "text/plain": [
       "                                                      Body  \\\n",
       "Id                                                           \n",
       "1771099  <p>One of the features of my project is to all...   \n",
       "1771101  <p>Is there any open source software to map po...   \n",
       "1771102  <p>As the title says, how does one change the ...   \n",
       "1771104  <p>When loading all unit tests in a package, t...   \n",
       "1771117  <p>For a specific example, consider <code>atoi...   \n",
       "\n",
       "                                                     Title  \\\n",
       "Id                                                           \n",
       "1771099             Choosing a Path for Python File Access   \n",
       "1771101                Open source motion-capture software   \n",
       "1771102              Changing Emacs Forward-Word Behaviour   \n",
       "1771104  JUnit java.lang.OutOfMemoryError when running ...   \n",
       "1771117  Why doesn't C++ reimplement C standard functio...   \n",
       "\n",
       "                                               Tags  \n",
       "Id                                                   \n",
       "1771099                              <python><path>  \n",
       "1771101        <simulation><tracking><3d-modelling>  \n",
       "1771102                            <emacs><emacs23>  \n",
       "1771104  <java><unit-testing><junit><out-of-memory>  \n",
       "1771117                               <c++><c><stl>  "
      ]
     },
     "execution_count": 3,
     "metadata": {},
     "output_type": "execute_result"
    }
   ],
   "source": [
    "n_files = 4\n",
    "list_files = [pd.read_csv(f'data/QueryResults-{n+1}.csv', index_col='Id') \n",
    "              for n in range(n_files)]\n",
    "\n",
    "data = pd.concat(list_files, axis=0).drop_duplicates()\n",
    "data.head()"
   ]
  },
  {
   "cell_type": "markdown",
   "metadata": {},
   "source": [
    "### Formater la variable cible"
   ]
  },
  {
   "cell_type": "markdown",
   "metadata": {},
   "source": [
    "Pour chaque question, séparer les différents tags attribués dans la colonne `Tags` en liste"
   ]
  },
  {
   "cell_type": "code",
   "execution_count": 4,
   "metadata": {},
   "outputs": [
    {
     "data": {
      "text/plain": [
       "Id\n",
       "1771099                                [python, path]\n",
       "1771101          [simulation, tracking, 3d-modelling]\n",
       "1771102                              [emacs, emacs23]\n",
       "1771104    [java, unit-testing, junit, out-of-memory]\n",
       "1771117                                 [c++, c, stl]\n",
       "Name: Tags, dtype: object"
      ]
     },
     "execution_count": 4,
     "metadata": {},
     "output_type": "execute_result"
    }
   ],
   "source": [
    "list_tags = data.Tags.apply(lambda tags: tags[1:-1].split('><'))\n",
    "list_tags.head()"
   ]
  },
  {
   "cell_type": "markdown",
   "metadata": {},
   "source": [
    "Compter le nombre d'instances de chaque tag pour l'ensemble des questions"
   ]
  },
  {
   "cell_type": "code",
   "execution_count": 5,
   "metadata": {},
   "outputs": [
    {
     "name": "stdout",
     "output_type": "stream",
     "text": [
      "Nombre de tags: 23406\n"
     ]
    }
   ],
   "source": [
    "# Count instances\n",
    "all_tags = {}\n",
    "for index, row in list_tags.iteritems():\n",
    "    for tag in row:\n",
    "        all_tags[tag] = all_tags.get(tag, 0) + 1\n",
    "print(\"Nombre de tags:\", len(all_tags))\n",
    "\n",
    "# Sort in descending order\n",
    "tags_sorted = sorted(all_tags.items(), \n",
    "                     key=lambda x: x[1], reverse=True)"
   ]
  },
  {
   "cell_type": "markdown",
   "metadata": {},
   "source": [
    "Afficher les *n* tags les plus présents pour nous aider à sélectionner les modalités de la variable cible."
   ]
  },
  {
   "cell_type": "code",
   "execution_count": 6,
   "metadata": {},
   "outputs": [
    {
     "name": "stdout",
     "output_type": "stream",
     "text": [
      "Tags les plus présents:\n",
      "c#               20869\n",
      "java             17939\n",
      "javascript       14458\n",
      "python           12726\n",
      "c++              10908\n",
      "android          9887\n",
      "php              9680\n",
      ".net             8817\n",
      "jquery           7321\n",
      "html             5915\n",
      "ios              5233\n",
      "c                5066\n",
      "asp.net          4911\n",
      "css              4881\n",
      "sql              4811\n",
      "iphone           4420\n",
      "mysql            3971\n",
      "objective-c      3763\n",
      "ruby-on-rails    3569\n",
      "sql-server       3275\n",
      "ruby             3147\n",
      "asp.net-mvc      2661\n",
      "linux            2593\n",
      "wpf              2541\n",
      "r                2479\n",
      "windows          2460\n",
      "django           2457\n",
      "arrays           2318\n",
      "regex            2137\n",
      "performance      2126\n"
     ]
    }
   ],
   "source": [
    "n = 30\n",
    "\n",
    "print(\"Tags les plus présents:\")\n",
    "for tag, count in tags_sorted[:n]:\n",
    "    print(f\"{tag:15} {count: 5}\")"
   ]
  },
  {
   "cell_type": "markdown",
   "metadata": {},
   "source": [
    "Appliquons le filtrage et ne retenons que les *n* tags plus fréquents. Aussi, supprimons les lignes qui n'ont aucun des tags les plus populaires (car ils n'auront pas de valeur cible)."
   ]
  },
  {
   "cell_type": "code",
   "execution_count": 7,
   "metadata": {},
   "outputs": [
    {
     "data": {
      "text/html": [
       "<div>\n",
       "<style>\n",
       "    .dataframe thead tr:only-child th {\n",
       "        text-align: right;\n",
       "    }\n",
       "\n",
       "    .dataframe thead th {\n",
       "        text-align: left;\n",
       "    }\n",
       "\n",
       "    .dataframe tbody tr th {\n",
       "        vertical-align: top;\n",
       "    }\n",
       "</style>\n",
       "<table border=\"1\" class=\"dataframe\">\n",
       "  <thead>\n",
       "    <tr style=\"text-align: right;\">\n",
       "      <th></th>\n",
       "      <th>Document</th>\n",
       "      <th>List_tags</th>\n",
       "    </tr>\n",
       "    <tr>\n",
       "      <th>Id</th>\n",
       "      <th></th>\n",
       "      <th></th>\n",
       "    </tr>\n",
       "  </thead>\n",
       "  <tbody>\n",
       "    <tr>\n",
       "      <th>41286318</th>\n",
       "      <td>Is it safe to still use Java 6 and Eclipse Ind...</td>\n",
       "      <td>[java]</td>\n",
       "    </tr>\n",
       "    <tr>\n",
       "      <th>27430640</th>\n",
       "      <td>Why can't you declare a variable inside the ex...</td>\n",
       "      <td>[c++]</td>\n",
       "    </tr>\n",
       "    <tr>\n",
       "      <th>1782442</th>\n",
       "      <td>Free Code-to-Flowchart/UML tool for C# code &lt;p...</td>\n",
       "      <td>[c#]</td>\n",
       "    </tr>\n",
       "    <tr>\n",
       "      <th>2506476</th>\n",
       "      <td>Finding the string length of a integer in .NET...</td>\n",
       "      <td>[.net, performance]</td>\n",
       "    </tr>\n",
       "    <tr>\n",
       "      <th>35896324</th>\n",
       "      <td>Source and Behavioral compatibility &lt;p&gt;I was l...</td>\n",
       "      <td>[java]</td>\n",
       "    </tr>\n",
       "    <tr>\n",
       "      <th>10071304</th>\n",
       "      <td>What does [ N ... M ] mean in C aggregate init...</td>\n",
       "      <td>[c, linux]</td>\n",
       "    </tr>\n",
       "    <tr>\n",
       "      <th>473088</th>\n",
       "      <td>Do you have any good examples of \"architecture...</td>\n",
       "      <td>[java]</td>\n",
       "    </tr>\n",
       "    <tr>\n",
       "      <th>2166961</th>\n",
       "      <td>Determining the current foreground application...</td>\n",
       "      <td>[android]</td>\n",
       "    </tr>\n",
       "    <tr>\n",
       "      <th>1833554</th>\n",
       "      <td>How does the qr/STRING/ operator in Perl decid...</td>\n",
       "      <td>[regex]</td>\n",
       "    </tr>\n",
       "    <tr>\n",
       "      <th>3570889</th>\n",
       "      <td>Get first element of a sparse JavaScript array...</td>\n",
       "      <td>[javascript, jquery, arrays]</td>\n",
       "    </tr>\n",
       "    <tr>\n",
       "      <th>18819180</th>\n",
       "      <td>Tomcat 7.0.43 \"INFO: Error parsing HTTP reques...</td>\n",
       "      <td>[java]</td>\n",
       "    </tr>\n",
       "    <tr>\n",
       "      <th>180746</th>\n",
       "      <td>What's the best approach to printing/reporting...</td>\n",
       "      <td>[wpf]</td>\n",
       "    </tr>\n",
       "    <tr>\n",
       "      <th>1848803</th>\n",
       "      <td>Execute PHP via cron - No Input file specified...</td>\n",
       "      <td>[php]</td>\n",
       "    </tr>\n",
       "    <tr>\n",
       "      <th>2620757</th>\n",
       "      <td>Erlang-style light-weight processes in .NET &lt;p...</td>\n",
       "      <td>[c#, .net]</td>\n",
       "    </tr>\n",
       "    <tr>\n",
       "      <th>8964133</th>\n",
       "      <td>jQuery modal dialog boxing not closing from iF...</td>\n",
       "      <td>[jquery]</td>\n",
       "    </tr>\n",
       "  </tbody>\n",
       "</table>\n",
       "</div>"
      ],
      "text/plain": [
       "                                                   Document  \\\n",
       "Id                                                            \n",
       "41286318  Is it safe to still use Java 6 and Eclipse Ind...   \n",
       "27430640  Why can't you declare a variable inside the ex...   \n",
       "1782442   Free Code-to-Flowchart/UML tool for C# code <p...   \n",
       "2506476   Finding the string length of a integer in .NET...   \n",
       "35896324  Source and Behavioral compatibility <p>I was l...   \n",
       "10071304  What does [ N ... M ] mean in C aggregate init...   \n",
       "473088    Do you have any good examples of \"architecture...   \n",
       "2166961   Determining the current foreground application...   \n",
       "1833554   How does the qr/STRING/ operator in Perl decid...   \n",
       "3570889   Get first element of a sparse JavaScript array...   \n",
       "18819180  Tomcat 7.0.43 \"INFO: Error parsing HTTP reques...   \n",
       "180746    What's the best approach to printing/reporting...   \n",
       "1848803   Execute PHP via cron - No Input file specified...   \n",
       "2620757   Erlang-style light-weight processes in .NET <p...   \n",
       "8964133   jQuery modal dialog boxing not closing from iF...   \n",
       "\n",
       "                             List_tags  \n",
       "Id                                      \n",
       "41286318                        [java]  \n",
       "27430640                         [c++]  \n",
       "1782442                           [c#]  \n",
       "2506476            [.net, performance]  \n",
       "35896324                        [java]  \n",
       "10071304                    [c, linux]  \n",
       "473088                          [java]  \n",
       "2166961                      [android]  \n",
       "1833554                        [regex]  \n",
       "3570889   [javascript, jquery, arrays]  \n",
       "18819180                        [java]  \n",
       "180746                           [wpf]  \n",
       "1848803                          [php]  \n",
       "2620757                     [c#, .net]  \n",
       "8964133                       [jquery]  "
      ]
     },
     "execution_count": 7,
     "metadata": {},
     "output_type": "execute_result"
    }
   ],
   "source": [
    "selected_tags = [tag for tag, count in tags_sorted[:n]]\n",
    "\n",
    "copy_tags = list_tags.copy()\n",
    "for index, row in list_tags.iteritems():\n",
    "    copy_tags[index] = [tag for tag in row if tag in selected_tags]\n",
    "    \n",
    "mask = (copy_tags.apply(len) > 0)\n",
    "data['List_tags'] = copy_tags #.apply(lambda l: ', '.join(l))\n",
    "data['Document'] = data.Title + ' ' + data.Body\n",
    "\n",
    "corpus = data.loc[mask, ['Document', 'List_tags']]\n",
    "corpus.sample(15)"
   ]
  },
  {
   "cell_type": "markdown",
   "metadata": {},
   "source": [
    "Affichons les dimensions de la dataframe résultante, et comparons avec celles de la frame initiale "
   ]
  },
  {
   "cell_type": "code",
   "execution_count": 8,
   "metadata": {},
   "outputs": [
    {
     "name": "stdout",
     "output_type": "stream",
     "text": [
      "Nombre d'observation avant filtrage:  200000\n",
      "Nombre d'observaions après filtrage:  142457\n"
     ]
    }
   ],
   "source": [
    "print(\"Nombre d'observation avant filtrage: \", data.shape[0])\n",
    "print(\"Nombre d'observaions après filtrage: \", corpus.shape[0])"
   ]
  },
  {
   "cell_type": "code",
   "execution_count": 9,
   "metadata": {},
   "outputs": [],
   "source": [
    "corpus.drop('List_tags', axis=1).to_csv('my_data.csv')"
   ]
  },
  {
   "cell_type": "markdown",
   "metadata": {},
   "source": [
    "En ne sélectionnant que les 30 tags les plus populaires, nous avons donc perdu environ 30% des données."
   ]
  },
  {
   "cell_type": "markdown",
   "metadata": {},
   "source": [
    "## Pré-traitement"
   ]
  },
  {
   "cell_type": "markdown",
   "metadata": {},
   "source": [
    "Reprenant le cheminement de la partie non-supervisée, appliquons succintement les étapes de normalisation sur nos jeux de données d'entrainement et de test."
   ]
  },
  {
   "cell_type": "code",
   "execution_count": 10,
   "metadata": {},
   "outputs": [],
   "source": [
    "def clean_text(docs):\n",
    "    return (docs\n",
    "            .apply(lambda x: re.sub('<code>(.|\\n)*?</code>', '', x))\n",
    "            .apply(lambda x: re.sub('<[^<]+?>', '', x))\n",
    "            .apply(lambda x: simple_preprocess(x, min_len=1, deacc=False))\n",
    "           )\n",
    "\n",
    "def norm_text(docs, stopwords, nlp, banned_postags, bigrammer):\n",
    "    def remove_stopwords(doc, stopwords):\n",
    "        return [word for word in doc if word not in stopwords]\n",
    "    \n",
    "    def lemmatization(doc, nlp, banned_postags):\n",
    "        doc = nlp(\" \".join(doc))\n",
    "        return [token.lemma_ for token in doc if token.pos_ not in banned_postags]\n",
    "    \n",
    "    def make_bigrams(doc, bigrammer):\n",
    "        return bigrammer[doc]\n",
    "    \n",
    "    return (docs\n",
    "            .apply(remove_stopwords, stopwords=stopwords)\n",
    "            .apply(lemmatization, nlp=nlp, banned_postags=banned_postags)\n",
    "            .apply(make_bigrams, bigrammer=bigrammer)\n",
    "           )"
   ]
  },
  {
   "cell_type": "code",
   "execution_count": 15,
   "metadata": {},
   "outputs": [],
   "source": [
    "corpus_clean = clean_text(corpus.Document)\n",
    "\n",
    "stop_words = stopwords.words('english')\n",
    "nlp = spacy.load('en', disable=['parser', 'ner'])\n",
    "bigrammer = Phraser(Phrases(corpus_clean, threshold=10)) \n",
    "banned_postags = ['PUNCT', 'DET', 'PRON', 'CONJ', 'ADV', 'INTJ']\n",
    "\n",
    "with open('processing_utils.pkl', 'wb') as f:\n",
    "    pickle.dump([stop_words, bigrammer, banned_postags], f)\n",
    "\n",
    "corpus_norm = norm_text(corpus_clean, stop_words, nlp, banned_postags, bigrammer)"
   ]
  },
  {
   "cell_type": "markdown",
   "metadata": {},
   "source": [
    "Maintenant, séparons notre corpus nettoyé en jeu d'entrainement et jeu de test"
   ]
  },
  {
   "cell_type": "code",
   "execution_count": 16,
   "metadata": {},
   "outputs": [],
   "source": [
    "docs_train, docs_test, targets_train, targets_test = train_test_split(corpus_norm, corpus.List_tags, \n",
    "                                                                      train_size=0.8, test_size=0.2, random_state=0)"
   ]
  },
  {
   "cell_type": "markdown",
   "metadata": {},
   "source": [
    "Créeons notre dictionnaire sur le jeu d'entrainement, et supprimons progressivement le vocabulaire superflu"
   ]
  },
  {
   "cell_type": "code",
   "execution_count": 17,
   "metadata": {},
   "outputs": [
    {
     "name": "stdout",
     "output_type": "stream",
     "text": [
      "Taille du dictionnaire:  91957\n"
     ]
    }
   ],
   "source": [
    "dictionary = Dictionary(docs_train)\n",
    "print(\"Taille du dictionnaire: \",len(dictionary))"
   ]
  },
  {
   "cell_type": "code",
   "execution_count": 18,
   "metadata": {},
   "outputs": [
    {
     "name": "stdout",
     "output_type": "stream",
     "text": [
      "Taille du dictionnaire:  19686\n"
     ]
    }
   ],
   "source": [
    "dictionary.filter_extremes(no_below=5)\n",
    "print(\"Taille du dictionnaire: \", len(dictionary))"
   ]
  },
  {
   "cell_type": "markdown",
   "metadata": {},
   "source": [
    "Appliquons le *bag-of-words* sur notre jeu d'entrainement et de test à partir du seul dictionnaire du jeu d'entrainement."
   ]
  },
  {
   "cell_type": "code",
   "execution_count": 19,
   "metadata": {},
   "outputs": [],
   "source": [
    "n_terms = len(dictionary)\n",
    "\n",
    "train_corpus = docs_train.apply(dictionary.doc2bow)\n",
    "train_tdf = corpus2csc(train_corpus, num_terms=n_terms).transpose()\n",
    "\n",
    "test_corpus = docs_test.apply(dictionary.doc2bow)\n",
    "test_tdf = corpus2csc(test_corpus, num_terms=n_terms).transpose()"
   ]
  },
  {
   "cell_type": "markdown",
   "metadata": {},
   "source": [
    "Utilisons un encodage binaire pour représenter notre variable cible, au lieu d'une liste de tags. Étant donné que nous avons sélectionner 20 tags, nous nous attendons à avoir pour chaque observation un vecteur de taille 20 aussi."
   ]
  },
  {
   "cell_type": "code",
   "execution_count": 20,
   "metadata": {},
   "outputs": [
    {
     "data": {
      "text/plain": [
       "((113965, 30), (28492, 30))"
      ]
     },
     "execution_count": 20,
     "metadata": {},
     "output_type": "execute_result"
    }
   ],
   "source": [
    "binarizer = MultiLabelBinarizer()\n",
    "\n",
    "y_train = binarizer.fit_transform(targets_train)\n",
    "y_test = binarizer.transform(targets_test)\n",
    "\n",
    "with open('binarizer.pkl', 'wb') as f:\n",
    "    pickle.dump(binarizer, f)\n",
    "    \n",
    "y_train.shape, y_test.shape"
   ]
  },
  {
   "cell_type": "markdown",
   "metadata": {},
   "source": [
    "## Phase de modelisation"
   ]
  },
  {
   "cell_type": "markdown",
   "metadata": {},
   "source": [
    "Pour cette phase de modélisation avec approche supervisée, nous allons chercher les meilleurs hyperparamètres en GridSearch pour les modèles suivants:\n",
    "- Multinomial Naive Bayes (en approche OneVsRest)\n",
    "- Random Forest\n",
    "- SVM Linéaire (en approche OneVsRest)\n",
    "\n",
    "Nous nous servirons du taux de classification global (*accuracy*) comme mesure à optimiser. \n"
   ]
  },
  {
   "cell_type": "markdown",
   "metadata": {},
   "source": [
    "Aussi, pour finir le pré-traitement du texte, nous utilisons un transformateur tf-idf. Comme pour le dictionnaire, entrainons celui-ci uniquement sur le jeu d'entrainement, et il sera utilisé automatiquement pour le jeu de test."
   ]
  },
  {
   "cell_type": "markdown",
   "metadata": {},
   "source": [
    "### Naive Bayes"
   ]
  },
  {
   "cell_type": "code",
   "execution_count": 21,
   "metadata": {},
   "outputs": [
    {
     "name": "stdout",
     "output_type": "stream",
     "text": [
      "Fitting 5 folds for each of 5 candidates, totalling 25 fits\n"
     ]
    },
    {
     "name": "stderr",
     "output_type": "stream",
     "text": [
      "[Parallel(n_jobs=-1)]: Done  25 out of  25 | elapsed:   18.2s finished\n"
     ]
    },
    {
     "data": {
      "text/plain": [
       "GridSearchCV(cv=5, error_score='raise',\n",
       "       estimator=Pipeline(memory=None,\n",
       "     steps=[('tfidf', TfidfTransformer(norm='l2', smooth_idf=True, sublinear_tf=False, use_idf=True)), ('nb', OneVsRestClassifier(estimator=MultinomialNB(alpha=1.0, class_prior=None, fit_prior=True),\n",
       "          n_jobs=1))]),\n",
       "       fit_params=None, iid=True, n_jobs=-1,\n",
       "       param_grid={'nb__estimator__alpha': [1.0, 0.3, 0.1, 0.03, 0.01]},\n",
       "       pre_dispatch='2*n_jobs', refit=True, return_train_score='warn',\n",
       "       scoring='accuracy', verbose=1)"
      ]
     },
     "execution_count": 21,
     "metadata": {},
     "output_type": "execute_result"
    }
   ],
   "source": [
    "hyperparameters = {'nb__estimator__alpha': [1.0, 3e-1, 1e-1, 3e-2, 1e-2]}\n",
    "\n",
    "estimator_nb = Pipeline([('tfidf', TfidfTransformer()), \n",
    "                         ('nb', OneVsRestClassifier(MultinomialNB()))\n",
    "                        ])\n",
    "grid_nb = GridSearchCV(estimator_nb, hyperparameters, scoring='accuracy',\n",
    "                        cv=5, iid=True, verbose=1, n_jobs=-1)\n",
    "\n",
    "grid_nb.fit(train_tdf, y_train)"
   ]
  },
  {
   "cell_type": "code",
   "execution_count": 23,
   "metadata": {},
   "outputs": [
    {
     "name": "stdout",
     "output_type": "stream",
     "text": [
      "Score meilleur Naive Bayes sur test set:  0.282\n"
     ]
    }
   ],
   "source": [
    "print(\"Score meilleur Naive Bayes sur test set: \", round(grid_nb.score(test_tdf, y_test), 3))"
   ]
  },
  {
   "cell_type": "markdown",
   "metadata": {},
   "source": [
    "### Random Forest"
   ]
  },
  {
   "cell_type": "code",
   "execution_count": 24,
   "metadata": {
    "scrolled": true
   },
   "outputs": [
    {
     "name": "stdout",
     "output_type": "stream",
     "text": [
      "Fitting 5 folds for each of 6 candidates, totalling 30 fits\n"
     ]
    },
    {
     "name": "stderr",
     "output_type": "stream",
     "text": [
      "[Parallel(n_jobs=-1)]: Done  30 out of  30 | elapsed: 25.4min finished\n"
     ]
    },
    {
     "data": {
      "text/plain": [
       "GridSearchCV(cv=5, error_score='raise',\n",
       "       estimator=Pipeline(memory=None,\n",
       "     steps=[('tfidf', TfidfTransformer(norm='l2', smooth_idf=True, sublinear_tf=False, use_idf=True)), ('rf', RandomForestClassifier(bootstrap=True, class_weight=None, criterion='gini',\n",
       "            max_depth=None, max_features='auto', max_leaf_nodes=None,\n",
       "            min_impurity_decrease=0.0, min_impuri...n_jobs=1,\n",
       "            oob_score=False, random_state=None, verbose=0,\n",
       "            warm_start=False))]),\n",
       "       fit_params=None, iid=True, n_jobs=-1,\n",
       "       param_grid={'rf__n_estimators': [10, 30, 50], 'rf__criterion': ['gini', 'entropy']},\n",
       "       pre_dispatch='2*n_jobs', refit=True, return_train_score='warn',\n",
       "       scoring='accuracy', verbose=1)"
      ]
     },
     "execution_count": 24,
     "metadata": {},
     "output_type": "execute_result"
    }
   ],
   "source": [
    "hyperparameters = {'rf__n_estimators': [10, 30, 50],\n",
    "                   'rf__criterion': ['gini', 'entropy'],\n",
    "                  }\n",
    "\n",
    "estimator_rf = Pipeline([('tfidf', TfidfTransformer()), \n",
    "                         ('rf', RandomForestClassifier())\n",
    "                        ])\n",
    "grid_rf = GridSearchCV(estimator_rf, hyperparameters, scoring='accuracy',\n",
    "                        cv=5, iid=True, verbose=1, n_jobs=-1)\n",
    "\n",
    "grid_rf.fit(train_tdf, y_train)"
   ]
  },
  {
   "cell_type": "code",
   "execution_count": 25,
   "metadata": {},
   "outputs": [
    {
     "name": "stdout",
     "output_type": "stream",
     "text": [
      "Score meilleur Random Forest sur test set:  0.319\n"
     ]
    }
   ],
   "source": [
    "print(\"Score meilleur Random Forest sur test set: \", round(grid_rf.score(test_tdf, y_test), 3))"
   ]
  },
  {
   "cell_type": "markdown",
   "metadata": {},
   "source": [
    "### SVM Linéaire"
   ]
  },
  {
   "cell_type": "code",
   "execution_count": 26,
   "metadata": {},
   "outputs": [
    {
     "name": "stdout",
     "output_type": "stream",
     "text": [
      "Fitting 5 folds for each of 3 candidates, totalling 15 fits\n"
     ]
    },
    {
     "name": "stderr",
     "output_type": "stream",
     "text": [
      "[Parallel(n_jobs=-1)]: Done  15 out of  15 | elapsed:  4.4min finished\n"
     ]
    },
    {
     "data": {
      "text/plain": [
       "GridSearchCV(cv=5, error_score='raise',\n",
       "       estimator=Pipeline(memory=None,\n",
       "     steps=[('tfidf', TfidfTransformer(norm='l2', smooth_idf=True, sublinear_tf=False, use_idf=True)), ('svm', OneVsRestClassifier(estimator=LinearSVC(C=1.0, class_weight=None, dual=True, fit_intercept=True,\n",
       "     intercept_scaling=1, loss='squared_hinge', max_iter=10000,\n",
       "     multi_class='ovr', penalty='l2', random_state=None, tol=0.0001,\n",
       "     verbose=0),\n",
       "          n_jobs=1))]),\n",
       "       fit_params=None, iid=True, n_jobs=-1,\n",
       "       param_grid={'svm__estimator__C': [1, 10, 30]},\n",
       "       pre_dispatch='2*n_jobs', refit=True, return_train_score='warn',\n",
       "       scoring='accuracy', verbose=1)"
      ]
     },
     "execution_count": 26,
     "metadata": {},
     "output_type": "execute_result"
    }
   ],
   "source": [
    "hyperparameters = {'svm__estimator__C': [1, 10, 30]}\n",
    "\n",
    "estimator_svm = Pipeline([('tfidf', TfidfTransformer()), \n",
    "                          ('svm', OneVsRestClassifier(LinearSVC(max_iter=10000)))\n",
    "                         ])\n",
    "grid_svm = GridSearchCV(estimator_svm, hyperparameters, scoring='accuracy',\n",
    "                        cv=5, iid=True, verbose=1, n_jobs=-1)\n",
    "\n",
    "grid_svm.fit(train_tdf, y_train)"
   ]
  },
  {
   "cell_type": "code",
   "execution_count": 27,
   "metadata": {},
   "outputs": [
    {
     "name": "stdout",
     "output_type": "stream",
     "text": [
      "Score meilleur SVM sur test set:  0.491\n"
     ]
    }
   ],
   "source": [
    "print(\"Score meilleur SVM sur test set: \", round(grid_svm.score(test_tdf, y_test), 3))"
   ]
  },
  {
   "cell_type": "markdown",
   "metadata": {},
   "source": [
    "Résumons les scores sur les meilleurs modèles trouvés à partir du test set\n",
    "\n",
    "| Modèles | Taux de classification |\n",
    "| --- | --- |\n",
    "| Bayésien naïf | 0.282 |\n",
    "| Forêt Aléatoire | 0.321 |\n",
    "| SVM Linéaire | 0.491 |"
   ]
  },
  {
   "cell_type": "markdown",
   "metadata": {},
   "source": [
    "Nous choisissons le meilleur modèle général compte tenu des performances sur les tests scores. Aussi, nous exportons le dictionnaire qui nous aidera pour notre API"
   ]
  },
  {
   "cell_type": "code",
   "execution_count": 28,
   "metadata": {},
   "outputs": [],
   "source": [
    "optimal_model = grid_svm.best_estimator_\n",
    "\n",
    "with open('model_supervised.pkl', 'wb') as f:\n",
    "    pickle.dump(optimal_model, f)\n",
    "    \n",
    "with open('dico_supervised.pkl', 'wb') as f:\n",
    "    pickle.dump(dictionary, f)"
   ]
  },
  {
   "cell_type": "markdown",
   "metadata": {},
   "source": [
    "## Interprétations"
   ]
  },
  {
   "cell_type": "markdown",
   "metadata": {},
   "source": [
    "Afin d'illustrer concrètement les performances du modèle retenu, prédisons les tags des dix premières lignes de notre test set, et comparons les avec leurs vrais tags."
   ]
  },
  {
   "cell_type": "code",
   "execution_count": 45,
   "metadata": {},
   "outputs": [
    {
     "name": "stdout",
     "output_type": "stream",
     "text": [
      "Test n°1\n",
      "——————————\n"
     ]
    },
    {
     "data": {
      "text/html": [
       "Is Linq to SQL still a viable choice for developing applications? <p>I'm reading up on .NET things again after a brief (and occasionally ongoing) stint with Ruby on Rails.  I'm wondering if LINQ is still a choice when choosing an ORM for new applications, or if I should learn something like NHibernate instead which seems to still be going strong.  I know that Linq has basically been subsumed by the Entity Framework, but when I tried EF (this was a while ago) I found it far too heavy and too \"mouse-driven\" (i.e. a lot of playing around with a designer).  I've watched a few short screencasts on NHibernate and I do like the separation of concerns that it enforces as well as the idea that your Model can be kept clean.</p>\n",
       "\n",
       "<p>Linq's syntax is pretty nice though, but it's not a true ORM and I don't want to look at learning something that's basically obsolete when I can learn something that's being used or will be used (EF and/or NHibernate, for example).</p>\n",
       "\n",
       "<p>So, is Linq still something that should be considered using in an application (let's assume something of moderate complexity; not a trivial application, but not a huge undertaking; around as complex as a web-based application like 37Signal's Highrise) or is there something better that's worth looking at instead?</p>\n"
      ],
      "text/plain": [
       "<IPython.core.display.HTML object>"
      ]
     },
     "metadata": {},
     "output_type": "display_data"
    },
    {
     "name": "stdout",
     "output_type": "stream",
     "text": [
      "——————————————————————————————————————————————————\n",
      "\tTags cibles: .net\n",
      "\tTags proposés: .net, c#\n",
      "—————————————————————————————————————————————————— \n",
      "\n",
      "\n",
      "\n",
      "\n",
      "Test n°2\n",
      "——————————\n"
     ]
    },
    {
     "data": {
      "text/html": [
       "defaulting iPhone numeric keypad <p>Hi can anybody tell me how to show a default numeric keypad on iPhone rather than a character keypad.</p>\n"
      ],
      "text/plain": [
       "<IPython.core.display.HTML object>"
      ]
     },
     "metadata": {},
     "output_type": "display_data"
    },
    {
     "name": "stdout",
     "output_type": "stream",
     "text": [
      "——————————————————————————————————————————————————\n",
      "\tTags cibles: iphone\n",
      "\tTags proposés: iphone\n",
      "—————————————————————————————————————————————————— \n",
      "\n",
      "\n",
      "\n",
      "\n",
      "Test n°3\n",
      "——————————\n"
     ]
    },
    {
     "data": {
      "text/html": [
       "result.viewname is always string.empty <p>I cannot seem to return the result.ViewName for use in Nunit tests as it always returns string.empty. I have explicitly set the name of the view inside my controller and would expect the test to pick this up. I have had a hunt around and it seems that I should get the Viewname back if I set it explicitly. Any one got any ideas?</p>\n",
       "\n",
       "<pre><code>public class HomeController : Controller\n",
       "{\n",
       "\n",
       "    public ActionResult Index()\n",
       "    {\n",
       "        return View(\"Index\");\n",
       "    }\n",
       "}\n",
       "</code></pre>\n",
       "\n",
       "<p>My test looks like this</p>\n",
       "\n",
       "<pre><code>    [Test]\n",
       "    public void TestIndexView()\n",
       "    {\n",
       "        var controller = new HomeController();\n",
       "        var result = controller.Index() as ViewResult;\n",
       "        Assert.AreEqual(\"Index\", result.ViewName);\n",
       "    }\n",
       "</code></pre>\n"
      ],
      "text/plain": [
       "<IPython.core.display.HTML object>"
      ]
     },
     "metadata": {},
     "output_type": "display_data"
    },
    {
     "name": "stdout",
     "output_type": "stream",
     "text": [
      "——————————————————————————————————————————————————\n",
      "\tTags cibles: c#, asp.net-mvc\n",
      "\tTags proposés: \n",
      "—————————————————————————————————————————————————— \n",
      "\n",
      "\n",
      "\n",
      "\n",
      "Test n°4\n",
      "——————————\n"
     ]
    },
    {
     "data": {
      "text/html": [
       "Handle security denied in ASP.NET MVC with AspNetSqlRoleProvider <p>I'm looking to secure different areas of my MVC application to prevent standard user's from accessing admin type views.  Currently, if any user is logged in and they attempt to view the About page (out of the box template in visual studio), it will simply redirect them to the login page.  I'd prefer the user is informed that they do not have permission to view the page.  </p>\n",
       "\n",
       "<pre><code>[Authorize(Roles=\"Admin\")]\n",
       "public ActionResult About()\n",
       "{\n",
       "    return View();\n",
       "}\n",
       "</code></pre>\n",
       "\n",
       "<p>It seems redundant to send an already authenticated user to the login page when they don't have permission.</p>\n"
      ],
      "text/plain": [
       "<IPython.core.display.HTML object>"
      ]
     },
     "metadata": {},
     "output_type": "display_data"
    },
    {
     "name": "stdout",
     "output_type": "stream",
     "text": [
      "——————————————————————————————————————————————————\n",
      "\tTags cibles: asp.net-mvc\n",
      "\tTags proposés: asp.net-mvc\n",
      "—————————————————————————————————————————————————— \n",
      "\n",
      "\n",
      "\n",
      "\n",
      "Test n°5\n",
      "——————————\n"
     ]
    },
    {
     "data": {
      "text/html": [
       "WCF: How should I maintain contract classes in client and server? <p>I am working on a WCF application with a server and a client (naturally). In server project, I defined the classes with <em>contract</em> attributes.</p>\n",
       "\n",
       "<p>Now when the server is ready, I added the service reference and it created the proxy for me. I used it and it did work fine.</p>\n",
       "\n",
       "<p>The question I want to ask is, is it OK if I create a common DLL which contains the class definitions with contract attributes and use it for both server and client (instead of using the classes generated for client by Visual Studio). If I use common classes, I don't have to worry about generics collections being converted into arrays while automatic code generation. Is it silly? Is it possible? Have anyone done this before? Is it OK to do this?</p>\n",
       "\n",
       "<p>The deployment scenario is such that there will be limited (few) number of clients in a secure intranet and it is OK to update existing clients whenever there is a change in server.</p>\n"
      ],
      "text/plain": [
       "<IPython.core.display.HTML object>"
      ]
     },
     "metadata": {},
     "output_type": "display_data"
    },
    {
     "name": "stdout",
     "output_type": "stream",
     "text": [
      "——————————————————————————————————————————————————\n",
      "\tTags cibles: .net\n",
      "\tTags proposés: .net, c#\n",
      "—————————————————————————————————————————————————— \n",
      "\n",
      "\n",
      "\n",
      "\n",
      "Test n°6\n",
      "——————————\n"
     ]
    },
    {
     "data": {
      "text/html": [
       "difference between -h <name> and -o <outputfile> options in cc (C++) <p>I am building .so library and was wondering - what is the difference b/w -h  and -o  cc complier option (using the Sun Studio C++) ? </p>\n",
       "\n",
       "<p>Aren't they are referring to the same thing - the name of the output file?</p>\n"
      ],
      "text/plain": [
       "<IPython.core.display.HTML object>"
      ]
     },
     "metadata": {},
     "output_type": "display_data"
    },
    {
     "name": "stdout",
     "output_type": "stream",
     "text": [
      "——————————————————————————————————————————————————\n",
      "\tTags cibles: c++, linux\n",
      "\tTags proposés: c++\n",
      "—————————————————————————————————————————————————— \n",
      "\n",
      "\n",
      "\n",
      "\n",
      "Test n°7\n",
      "——————————\n"
     ]
    },
    {
     "data": {
      "text/html": [
       "select part of image (clipping) <p>This is probably not as hard as I think it is, but how can I select part of an image? Consider the following example:</p>\n",
       "\n",
       "<p><a href=\"http://img683.imageshack.us/img683/2680/imagepart.jpg\" rel=\"nofollow noreferrer\">alt text http://img683.imageshack.us/img683/2680/imagepart.jpg</a></p>\n",
       "\n",
       "<p>The grey area is an image in the PNG or JPG Format, now I want to select the red 80x80 px area from it. The red area should be displayed, the rest not. I have tried numerous approaches:</p>\n",
       "\n",
       "<ul>\n",
       "<li>Make clipsToBounds of UIImageView to YES and the try to offset the image (doesn't work)</li>\n",
       "<li>Clip the upper view (doesn't work)</li>\n",
       "</ul>\n",
       "\n",
       "<p>I also had a look at the drawing functions, yet I have not worked with these yet and it seemed a little bit far fetched to me. Is there any obvious way for doing what I want to do that I am missing out on? I do not want the image to be resized, just clipped.</p>\n",
       "\n",
       "<p>Thanks for your time!</p>\n"
      ],
      "text/plain": [
       "<IPython.core.display.HTML object>"
      ]
     },
     "metadata": {},
     "output_type": "display_data"
    },
    {
     "name": "stdout",
     "output_type": "stream",
     "text": [
      "——————————————————————————————————————————————————\n",
      "\tTags cibles: iphone, objective-c\n",
      "\tTags proposés: \n",
      "—————————————————————————————————————————————————— \n",
      "\n",
      "\n",
      "\n",
      "\n",
      "Test n°8\n",
      "——————————\n"
     ]
    },
    {
     "data": {
      "text/html": [
       "Quickest way to find the complement of two collections in C# <p>I have two collections of type <code>ICollection&lt;MyType&gt;</code> called <code>c1</code> and <code>c2</code>. I'd like to find the set of items that are in <code>c2</code> that are not in <code>c1</code>, where the heuristic for equality is the <code>Id</code> property on <code>MyType</code>.</p>\n",
       "\n",
       "<p>What is the quickest way to perform this in C# (3.0)?</p>\n"
      ],
      "text/plain": [
       "<IPython.core.display.HTML object>"
      ]
     },
     "metadata": {},
     "output_type": "display_data"
    },
    {
     "name": "stdout",
     "output_type": "stream",
     "text": [
      "——————————————————————————————————————————————————\n",
      "\tTags cibles: c#, .net\n",
      "\tTags proposés: c#\n",
      "—————————————————————————————————————————————————— \n",
      "\n",
      "\n",
      "\n",
      "\n",
      "Test n°9\n",
      "——————————\n"
     ]
    },
    {
     "data": {
      "text/html": [
       "How to get a single widget to set 2 fields in Django? <p>I got a model with 2 fields: latitude and longitude. Right now they're 2 CharFields, but I want to make a custom widget to set it in admin - was thinking about displaying Google Maps, then getting the coordinates of the marker.</p>\n",
       "\n",
       "<p>But can I have 1 widget (a single map) to set 2 different fields? </p>\n"
      ],
      "text/plain": [
       "<IPython.core.display.HTML object>"
      ]
     },
     "metadata": {},
     "output_type": "display_data"
    },
    {
     "name": "stdout",
     "output_type": "stream",
     "text": [
      "——————————————————————————————————————————————————\n",
      "\tTags cibles: django\n",
      "\tTags proposés: django\n",
      "—————————————————————————————————————————————————— \n",
      "\n",
      "\n",
      "\n",
      "\n",
      "Test n°10\n",
      "——————————\n"
     ]
    },
    {
     "data": {
      "text/html": [
       "PHPUnit \"Mocked method does not exist.\" when using $mock->expects($this->at(...)) <p>I've run into a strange issue with PHPUnit mock objects. I have a method that should be called twice, so I'm using the \"at\" matcher. This works for the first time the method is called, but for some reason, the second time it's called, I get \"Mocked method does not exist.\". I've used the \"at\" matcher before and have never run into this.</p>\n",
       "\n",
       "<p>My code looks something like:</p>\n",
       "\n",
       "<pre><code>class MyTest extends PHPUnit_Framework_TestCase\n",
       "{\n",
       "    ...\n",
       "\n",
       "    public function testThis()\n",
       "    {\n",
       "        $mock = $this-&gt;getMock('MyClass', array('exists', 'another_method', '...'));\n",
       "        $mock-&gt;expects($this-&gt;at(0))\n",
       "             -&gt;method('exists')\n",
       "             -&gt;with($this-&gt;equalTo('foo'))\n",
       "             -&gt;will($this-&gt;returnValue(true));\n",
       "\n",
       "        $mock-&gt;expects($this-&gt;at(1))\n",
       "             -&gt;method('exists')\n",
       "             -&gt;with($this-&gt;equalTo('bar'))\n",
       "             -&gt;will($this-&gt;returnValue(false));\n",
       "    }\n",
       "\n",
       "    ...\n",
       "}\n",
       "</code></pre>\n",
       "\n",
       "<p>When I run the test, I get:</p>\n",
       "\n",
       "<pre><code>Expectation failed for method name is equal to &lt;string:exists&gt; when invoked at sequence index 1.\n",
       "Mocked method does not exist.\n",
       "</code></pre>\n",
       "\n",
       "<p>If I remove the second matcher, I do not get the error.</p>\n",
       "\n",
       "<p>Has anyone run into this before?</p>\n",
       "\n",
       "<p>Thanks!</p>\n"
      ],
      "text/plain": [
       "<IPython.core.display.HTML object>"
      ]
     },
     "metadata": {},
     "output_type": "display_data"
    },
    {
     "name": "stdout",
     "output_type": "stream",
     "text": [
      "——————————————————————————————————————————————————\n",
      "\tTags cibles: php\n",
      "\tTags proposés: php\n",
      "—————————————————————————————————————————————————— \n",
      "\n",
      "\n",
      "\n",
      "\n"
     ]
    }
   ],
   "source": [
    "for n_ex in range(10):\n",
    "    my_test = corpus2csc(test_corpus.iloc[n_ex:n_ex+1], num_terms=n_terms).transpose()\n",
    "    series = corpus.loc[docs_test.reset_index().iloc[n_ex, 0]]\n",
    "    tags_supervised = binarizer.inverse_transform(optimal_model.predict(my_test))[0]\n",
    "    \n",
    "    print(f'Test n°{n_ex+1}')\n",
    "    print('—'*10)\n",
    "    display(HTML(series.Document))\n",
    "    print('—'*50)\n",
    "    print('\\tTags cibles:', ', '.join(series.List_tags))\n",
    "    print('\\tTags proposés:', ', '.join(tags_supervised))\n",
    "    print('—'*50, '\\n'*4)"
   ]
  },
  {
   "cell_type": "markdown",
   "metadata": {},
   "source": [
    "### Bilan\n",
    "L'avantage de cette méthode réside, à l'extraction de tags qui évoquent des sujets généraux, contrairement aux détails perçus avec la méthode non-supervisée. Cependant, pour des questions trop courtes, ou au contenu non explicite sur sa catégorie, nous risquons de ne pas obtenir tous les tags adéquats, ou même de n'obtenir aucune réponse."
   ]
  }
 ],
 "metadata": {
  "kernelspec": {
   "display_name": "Python 3",
   "language": "python",
   "name": "python3"
  },
  "language_info": {
   "codemirror_mode": {
    "name": "ipython",
    "version": 3
   },
   "file_extension": ".py",
   "mimetype": "text/x-python",
   "name": "python",
   "nbconvert_exporter": "python",
   "pygments_lexer": "ipython3",
   "version": "3.6.3"
  }
 },
 "nbformat": 4,
 "nbformat_minor": 2
}
